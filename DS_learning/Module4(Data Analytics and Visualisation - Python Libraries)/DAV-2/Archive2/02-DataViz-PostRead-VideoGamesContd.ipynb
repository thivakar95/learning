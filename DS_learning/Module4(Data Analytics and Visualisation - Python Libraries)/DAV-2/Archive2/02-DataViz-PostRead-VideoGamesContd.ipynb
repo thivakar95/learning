{
 "cells": [
  {
   "cell_type": "markdown",
   "metadata": {
    "id": "cbXtaZkpEBJB"
   },
   "source": [
    "## Content\n",
    "- Linechart in case of multiple values\n",
    "- Stacked countplot using seaborn"
   ]
  },
  {
   "cell_type": "markdown",
   "metadata": {
    "id": "QV4zen3EEfLj"
   },
   "source": [
    "#### Importing and reading our data"
   ]
  },
  {
   "cell_type": "code",
   "execution_count": null,
   "metadata": {
    "colab": {
     "base_uri": "https://localhost:8080/"
    },
    "executionInfo": {
     "elapsed": 1140,
     "status": "ok",
     "timestamp": 1678803883085,
     "user": {
      "displayName": "Suryansu Dash",
      "userId": "09229199246176341331"
     },
     "user_tz": -330
    },
    "id": "922x7UdSs9K0",
    "outputId": "390aa978-45ca-43e2-eeb7-76dfff855f94"
   },
   "outputs": [
    {
     "name": "stdout",
     "output_type": "stream",
     "text": [
      "--2023-03-14 14:24:42--  https://d2beiqkhq929f0.cloudfront.net/public_assets/assets/000/021/299/original/final_vg1_-_final_vg_%281%29.csv?1670840166\n",
      "Resolving d2beiqkhq929f0.cloudfront.net (d2beiqkhq929f0.cloudfront.net)... 13.35.39.48, 13.35.39.72, 13.35.39.164, ...\n",
      "Connecting to d2beiqkhq929f0.cloudfront.net (d2beiqkhq929f0.cloudfront.net)|13.35.39.48|:443... connected.\n",
      "HTTP request sent, awaiting response... 200 OK\n",
      "Length: 2041483 (1.9M) [text/plain]\n",
      "Saving to: ‘vgsales.csv’\n",
      "\n",
      "vgsales.csv         100%[===================>]   1.95M  --.-KB/s    in 0.03s   \n",
      "\n",
      "2023-03-14 14:24:42 (66.9 MB/s) - ‘vgsales.csv’ saved [2041483/2041483]\n",
      "\n"
     ]
    }
   ],
   "source": [
    "!wget https://d2beiqkhq929f0.cloudfront.net/public_assets/assets/000/021/299/original/final_vg1_-_final_vg_%281%29.csv?1670840166 -O vgsales.csv"
   ]
  },
  {
   "cell_type": "code",
   "execution_count": null,
   "metadata": {
    "id": "CpkTShhptKFl"
   },
   "outputs": [],
   "source": [
    "import pandas as pd\n",
    "import numpy as np\n",
    "import matplotlib.pyplot as plt\n",
    "import seaborn as sns"
   ]
  },
  {
   "cell_type": "code",
   "execution_count": null,
   "metadata": {
    "colab": {
     "base_uri": "https://localhost:8080/",
     "height": 206
    },
    "executionInfo": {
     "elapsed": 1426,
     "status": "ok",
     "timestamp": 1678803885427,
     "user": {
      "displayName": "Suryansu Dash",
      "userId": "09229199246176341331"
     },
     "user_tz": -330
    },
    "id": "7vf14v6GtVtl",
    "outputId": "a4ec11fb-3a69-4a1d-fa6a-705da2ea2342"
   },
   "outputs": [
    {
     "data": {
      "text/html": [
       "\n",
       "  <div id=\"df-2f32d7ba-c47d-4d7b-b9a2-6869b704af9e\">\n",
       "    <div class=\"colab-df-container\">\n",
       "      <div>\n",
       "<style scoped>\n",
       "    .dataframe tbody tr th:only-of-type {\n",
       "        vertical-align: middle;\n",
       "    }\n",
       "\n",
       "    .dataframe tbody tr th {\n",
       "        vertical-align: top;\n",
       "    }\n",
       "\n",
       "    .dataframe thead th {\n",
       "        text-align: right;\n",
       "    }\n",
       "</style>\n",
       "<table border=\"1\" class=\"dataframe\">\n",
       "  <thead>\n",
       "    <tr style=\"text-align: right;\">\n",
       "      <th></th>\n",
       "      <th>Rank</th>\n",
       "      <th>Name</th>\n",
       "      <th>Platform</th>\n",
       "      <th>Year</th>\n",
       "      <th>Genre</th>\n",
       "      <th>Publisher</th>\n",
       "      <th>NA_Sales</th>\n",
       "      <th>EU_Sales</th>\n",
       "      <th>JP_Sales</th>\n",
       "      <th>Other_Sales</th>\n",
       "      <th>Global_Sales</th>\n",
       "    </tr>\n",
       "  </thead>\n",
       "  <tbody>\n",
       "    <tr>\n",
       "      <th>0</th>\n",
       "      <td>2061</td>\n",
       "      <td>1942</td>\n",
       "      <td>NES</td>\n",
       "      <td>1985.0</td>\n",
       "      <td>Shooter</td>\n",
       "      <td>Capcom</td>\n",
       "      <td>4.569217</td>\n",
       "      <td>3.033887</td>\n",
       "      <td>3.439352</td>\n",
       "      <td>1.991671</td>\n",
       "      <td>12.802935</td>\n",
       "    </tr>\n",
       "    <tr>\n",
       "      <th>1</th>\n",
       "      <td>9137</td>\n",
       "      <td>¡Shin Chan Flipa en colores!</td>\n",
       "      <td>DS</td>\n",
       "      <td>2007.0</td>\n",
       "      <td>Platform</td>\n",
       "      <td>505 Games</td>\n",
       "      <td>2.076955</td>\n",
       "      <td>1.493442</td>\n",
       "      <td>3.033887</td>\n",
       "      <td>0.394830</td>\n",
       "      <td>7.034163</td>\n",
       "    </tr>\n",
       "    <tr>\n",
       "      <th>2</th>\n",
       "      <td>14279</td>\n",
       "      <td>.hack: Sekai no Mukou ni + Versus</td>\n",
       "      <td>PS3</td>\n",
       "      <td>2012.0</td>\n",
       "      <td>Action</td>\n",
       "      <td>Namco Bandai Games</td>\n",
       "      <td>1.145709</td>\n",
       "      <td>1.762339</td>\n",
       "      <td>1.493442</td>\n",
       "      <td>0.408693</td>\n",
       "      <td>4.982552</td>\n",
       "    </tr>\n",
       "    <tr>\n",
       "      <th>3</th>\n",
       "      <td>8359</td>\n",
       "      <td>.hack//G.U. Vol.1//Rebirth</td>\n",
       "      <td>PS2</td>\n",
       "      <td>2006.0</td>\n",
       "      <td>Role-Playing</td>\n",
       "      <td>Namco Bandai Games</td>\n",
       "      <td>2.031986</td>\n",
       "      <td>1.389856</td>\n",
       "      <td>3.228043</td>\n",
       "      <td>0.394830</td>\n",
       "      <td>7.226880</td>\n",
       "    </tr>\n",
       "    <tr>\n",
       "      <th>4</th>\n",
       "      <td>7109</td>\n",
       "      <td>.hack//G.U. Vol.2//Reminisce</td>\n",
       "      <td>PS2</td>\n",
       "      <td>2006.0</td>\n",
       "      <td>Role-Playing</td>\n",
       "      <td>Namco Bandai Games</td>\n",
       "      <td>2.792725</td>\n",
       "      <td>2.592054</td>\n",
       "      <td>1.440483</td>\n",
       "      <td>1.493442</td>\n",
       "      <td>8.363113</td>\n",
       "    </tr>\n",
       "  </tbody>\n",
       "</table>\n",
       "</div>\n",
       "      <button class=\"colab-df-convert\" onclick=\"convertToInteractive('df-2f32d7ba-c47d-4d7b-b9a2-6869b704af9e')\"\n",
       "              title=\"Convert this dataframe to an interactive table.\"\n",
       "              style=\"display:none;\">\n",
       "        \n",
       "  <svg xmlns=\"http://www.w3.org/2000/svg\" height=\"24px\"viewBox=\"0 0 24 24\"\n",
       "       width=\"24px\">\n",
       "    <path d=\"M0 0h24v24H0V0z\" fill=\"none\"/>\n",
       "    <path d=\"M18.56 5.44l.94 2.06.94-2.06 2.06-.94-2.06-.94-.94-2.06-.94 2.06-2.06.94zm-11 1L8.5 8.5l.94-2.06 2.06-.94-2.06-.94L8.5 2.5l-.94 2.06-2.06.94zm10 10l.94 2.06.94-2.06 2.06-.94-2.06-.94-.94-2.06-.94 2.06-2.06.94z\"/><path d=\"M17.41 7.96l-1.37-1.37c-.4-.4-.92-.59-1.43-.59-.52 0-1.04.2-1.43.59L10.3 9.45l-7.72 7.72c-.78.78-.78 2.05 0 2.83L4 21.41c.39.39.9.59 1.41.59.51 0 1.02-.2 1.41-.59l7.78-7.78 2.81-2.81c.8-.78.8-2.07 0-2.86zM5.41 20L4 18.59l7.72-7.72 1.47 1.35L5.41 20z\"/>\n",
       "  </svg>\n",
       "      </button>\n",
       "      \n",
       "  <style>\n",
       "    .colab-df-container {\n",
       "      display:flex;\n",
       "      flex-wrap:wrap;\n",
       "      gap: 12px;\n",
       "    }\n",
       "\n",
       "    .colab-df-convert {\n",
       "      background-color: #E8F0FE;\n",
       "      border: none;\n",
       "      border-radius: 50%;\n",
       "      cursor: pointer;\n",
       "      display: none;\n",
       "      fill: #1967D2;\n",
       "      height: 32px;\n",
       "      padding: 0 0 0 0;\n",
       "      width: 32px;\n",
       "    }\n",
       "\n",
       "    .colab-df-convert:hover {\n",
       "      background-color: #E2EBFA;\n",
       "      box-shadow: 0px 1px 2px rgba(60, 64, 67, 0.3), 0px 1px 3px 1px rgba(60, 64, 67, 0.15);\n",
       "      fill: #174EA6;\n",
       "    }\n",
       "\n",
       "    [theme=dark] .colab-df-convert {\n",
       "      background-color: #3B4455;\n",
       "      fill: #D2E3FC;\n",
       "    }\n",
       "\n",
       "    [theme=dark] .colab-df-convert:hover {\n",
       "      background-color: #434B5C;\n",
       "      box-shadow: 0px 1px 3px 1px rgba(0, 0, 0, 0.15);\n",
       "      filter: drop-shadow(0px 1px 2px rgba(0, 0, 0, 0.3));\n",
       "      fill: #FFFFFF;\n",
       "    }\n",
       "  </style>\n",
       "\n",
       "      <script>\n",
       "        const buttonEl =\n",
       "          document.querySelector('#df-2f32d7ba-c47d-4d7b-b9a2-6869b704af9e button.colab-df-convert');\n",
       "        buttonEl.style.display =\n",
       "          google.colab.kernel.accessAllowed ? 'block' : 'none';\n",
       "\n",
       "        async function convertToInteractive(key) {\n",
       "          const element = document.querySelector('#df-2f32d7ba-c47d-4d7b-b9a2-6869b704af9e');\n",
       "          const dataTable =\n",
       "            await google.colab.kernel.invokeFunction('convertToInteractive',\n",
       "                                                     [key], {});\n",
       "          if (!dataTable) return;\n",
       "\n",
       "          const docLinkHtml = 'Like what you see? Visit the ' +\n",
       "            '<a target=\"_blank\" href=https://colab.research.google.com/notebooks/data_table.ipynb>data table notebook</a>'\n",
       "            + ' to learn more about interactive tables.';\n",
       "          element.innerHTML = '';\n",
       "          dataTable['output_type'] = 'display_data';\n",
       "          await google.colab.output.renderOutput(dataTable, element);\n",
       "          const docLink = document.createElement('div');\n",
       "          docLink.innerHTML = docLinkHtml;\n",
       "          element.appendChild(docLink);\n",
       "        }\n",
       "      </script>\n",
       "    </div>\n",
       "  </div>\n",
       "  "
      ],
      "text/plain": [
       "    Rank                               Name Platform    Year         Genre  \\\n",
       "0   2061                               1942      NES  1985.0       Shooter   \n",
       "1   9137       ¡Shin Chan Flipa en colores!       DS  2007.0      Platform   \n",
       "2  14279  .hack: Sekai no Mukou ni + Versus      PS3  2012.0        Action   \n",
       "3   8359         .hack//G.U. Vol.1//Rebirth      PS2  2006.0  Role-Playing   \n",
       "4   7109       .hack//G.U. Vol.2//Reminisce      PS2  2006.0  Role-Playing   \n",
       "\n",
       "            Publisher  NA_Sales  EU_Sales  JP_Sales  Other_Sales  Global_Sales  \n",
       "0              Capcom  4.569217  3.033887  3.439352     1.991671     12.802935  \n",
       "1           505 Games  2.076955  1.493442  3.033887     0.394830      7.034163  \n",
       "2  Namco Bandai Games  1.145709  1.762339  1.493442     0.408693      4.982552  \n",
       "3  Namco Bandai Games  2.031986  1.389856  3.228043     0.394830      7.226880  \n",
       "4  Namco Bandai Games  2.792725  2.592054  1.440483     1.493442      8.363113  "
      ]
     },
     "execution_count": 3,
     "metadata": {},
     "output_type": "execute_result"
    }
   ],
   "source": [
    "data = pd.read_csv('vgsales.csv')\n",
    "data.head()"
   ]
  },
  {
   "cell_type": "markdown",
   "metadata": {
    "id": "Y5TbxaioaDz7"
   },
   "source": [
    "#### How does a lineplot form when there are multiple values for the same data?\n",
    "\n",
    "In the lecture, the games only had a single sales value per year.\n",
    "\n",
    "#### But what if we want to see a trend for Publisher?\n",
    "\n",
    "Every Publisher has multiple games, so multiple values for sales.\n",
    "\n",
    "Let's check for top 3 publishers"
   ]
  },
  {
   "cell_type": "code",
   "execution_count": null,
   "metadata": {
    "colab": {
     "base_uri": "https://localhost:8080/"
    },
    "executionInfo": {
     "elapsed": 21,
     "status": "ok",
     "timestamp": 1678803885429,
     "user": {
      "displayName": "Suryansu Dash",
      "userId": "09229199246176341331"
     },
     "user_tz": -330
    },
    "id": "4wqlle1RaMQl",
    "outputId": "47b75eea-1fbc-4a95-a64d-427642521269"
   },
   "outputs": [
    {
     "data": {
      "text/plain": [
       "Electronic Arts                 1351\n",
       "Activision                      1014\n",
       "Namco Bandai Games               932\n",
       "Ubisoft                          921\n",
       "Konami Digital Entertainment     832\n",
       "                                ... \n",
       "TYO                                1\n",
       "Commseed                           1\n",
       "Fortyfive                          1\n",
       "Xing Entertainment                 1\n",
       "MediaQuest                         1\n",
       "Name: Publisher, Length: 578, dtype: int64"
      ]
     },
     "execution_count": 4,
     "metadata": {},
     "output_type": "execute_result"
    }
   ],
   "source": [
    "data['Publisher'].value_counts()"
   ]
  },
  {
   "cell_type": "code",
   "execution_count": null,
   "metadata": {
    "colab": {
     "base_uri": "https://localhost:8080/",
     "height": 521
    },
    "executionInfo": {
     "elapsed": 3225,
     "status": "ok",
     "timestamp": 1678803888636,
     "user": {
      "displayName": "Suryansu Dash",
      "userId": "09229199246176341331"
     },
     "user_tz": -330
    },
    "id": "poQs0OEQVkGQ",
    "outputId": "1990d117-2829-419c-a0f3-dc1ca4e2d477"
   },
   "outputs": [
    {
     "data": {
      "image/png": "[encoded data removed]",
      "text/plain": [
       "<Figure size 720x576 with 1 Axes>"
      ]
     },
     "metadata": {
      "needs_background": "light"
     },
     "output_type": "display_data"
    }
   ],
   "source": [
    "plt.figure(figsize=(10,8))\n",
    "sns.lineplot(x='Year', y='NA_Sales', data=data.loc[data['Publisher']=='Activision'], label='Activision')\n",
    "sns.lineplot(x='Year', y='NA_Sales', data=data.loc[data['Publisher']=='Namco Bandai Games'],label='Namco Bandai')\n",
    "sns.lineplot(x='Year', y='NA_Sales', data=data.loc[data['Publisher']=='Electronic Arts'],label='EA')\n",
    "plt.title('Top 3 Publisher sales over the years', fontsize=15)\n",
    "plt.xlabel('NA_Sales', fontsize=12)\n",
    "plt.ylabel('Year', fontsize=12)\n",
    "plt.xticks(fontsize=12)\n",
    "plt.yticks(fontsize=12)\n",
    "plt.legend()\n",
    "plt.show()"
   ]
  },
  {
   "cell_type": "markdown",
   "metadata": {
    "id": "Y_87hfSKKmTE"
   },
   "source": [
    "Do you notice something different?\n",
    "\n",
    "#### What is this shaded region around the seaborn lineplot?\n",
    "\n",
    "- Since there are multiple values for each publisher, seaborn automatically plots the mean of all the values\n",
    "\n",
    "- The shaded region is basically 95% confidence interval of the sales"
   ]
  },
  {
   "cell_type": "markdown",
   "metadata": {
    "id": "azzI6vw4EjBy"
   },
   "source": [
    "Now let's filter our data for top 3 pubsliehers, genres and platforms as we did in the lecture"
   ]
  },
  {
   "cell_type": "code",
   "execution_count": null,
   "metadata": {
    "colab": {
     "base_uri": "https://localhost:8080/",
     "height": 424
    },
    "executionInfo": {
     "elapsed": 21,
     "status": "ok",
     "timestamp": 1678803888637,
     "user": {
      "displayName": "Suryansu Dash",
      "userId": "09229199246176341331"
     },
     "user_tz": -330
    },
    "id": "OBr0MYLR6A0R",
    "outputId": "899718ea-6751-449a-90a5-36eceb3f8602"
   },
   "outputs": [
    {
     "data": {
      "text/html": [
       "\n",
       "  <div id=\"df-f3b06ca3-5edb-4213-8395-2936e6163f1b\">\n",
       "    <div class=\"colab-df-container\">\n",
       "      <div>\n",
       "<style scoped>\n",
       "    .dataframe tbody tr th:only-of-type {\n",
       "        vertical-align: middle;\n",
       "    }\n",
       "\n",
       "    .dataframe tbody tr th {\n",
       "        vertical-align: top;\n",
       "    }\n",
       "\n",
       "    .dataframe thead th {\n",
       "        text-align: right;\n",
       "    }\n",
       "</style>\n",
       "<table border=\"1\" class=\"dataframe\">\n",
       "  <thead>\n",
       "    <tr style=\"text-align: right;\">\n",
       "      <th></th>\n",
       "      <th>Rank</th>\n",
       "      <th>Name</th>\n",
       "      <th>Platform</th>\n",
       "      <th>Year</th>\n",
       "      <th>Genre</th>\n",
       "      <th>Publisher</th>\n",
       "      <th>NA_Sales</th>\n",
       "      <th>EU_Sales</th>\n",
       "      <th>JP_Sales</th>\n",
       "      <th>Other_Sales</th>\n",
       "      <th>Global_Sales</th>\n",
       "    </tr>\n",
       "  </thead>\n",
       "  <tbody>\n",
       "    <tr>\n",
       "      <th>2</th>\n",
       "      <td>14279</td>\n",
       "      <td>.hack: Sekai no Mukou ni + Versus</td>\n",
       "      <td>PS3</td>\n",
       "      <td>2012.0</td>\n",
       "      <td>Action</td>\n",
       "      <td>Namco Bandai Games</td>\n",
       "      <td>1.145709</td>\n",
       "      <td>1.762339</td>\n",
       "      <td>1.493442</td>\n",
       "      <td>0.408693</td>\n",
       "      <td>4.982552</td>\n",
       "    </tr>\n",
       "    <tr>\n",
       "      <th>13</th>\n",
       "      <td>2742</td>\n",
       "      <td>[Prototype 2]</td>\n",
       "      <td>PS3</td>\n",
       "      <td>2012.0</td>\n",
       "      <td>Action</td>\n",
       "      <td>Activision</td>\n",
       "      <td>3.978349</td>\n",
       "      <td>3.727034</td>\n",
       "      <td>0.848807</td>\n",
       "      <td>2.792725</td>\n",
       "      <td>11.447989</td>\n",
       "    </tr>\n",
       "    <tr>\n",
       "      <th>16</th>\n",
       "      <td>1604</td>\n",
       "      <td>[Prototype]</td>\n",
       "      <td>PS3</td>\n",
       "      <td>2009.0</td>\n",
       "      <td>Action</td>\n",
       "      <td>Activision</td>\n",
       "      <td>4.569217</td>\n",
       "      <td>4.108402</td>\n",
       "      <td>1.187272</td>\n",
       "      <td>3.339269</td>\n",
       "      <td>13.181205</td>\n",
       "    </tr>\n",
       "    <tr>\n",
       "      <th>19</th>\n",
       "      <td>1741</td>\n",
       "      <td>007: Quantum of Solace</td>\n",
       "      <td>PS3</td>\n",
       "      <td>2008.0</td>\n",
       "      <td>Action</td>\n",
       "      <td>Activision</td>\n",
       "      <td>4.156030</td>\n",
       "      <td>4.346074</td>\n",
       "      <td>1.087977</td>\n",
       "      <td>3.390562</td>\n",
       "      <td>12.980643</td>\n",
       "    </tr>\n",
       "    <tr>\n",
       "      <th>21</th>\n",
       "      <td>4501</td>\n",
       "      <td>007: Quantum of Solace</td>\n",
       "      <td>PS2</td>\n",
       "      <td>2008.0</td>\n",
       "      <td>Action</td>\n",
       "      <td>Activision</td>\n",
       "      <td>3.228043</td>\n",
       "      <td>2.738800</td>\n",
       "      <td>2.585598</td>\n",
       "      <td>3.652926</td>\n",
       "      <td>11.780257</td>\n",
       "    </tr>\n",
       "    <tr>\n",
       "      <th>...</th>\n",
       "      <td>...</td>\n",
       "      <td>...</td>\n",
       "      <td>...</td>\n",
       "      <td>...</td>\n",
       "      <td>...</td>\n",
       "      <td>...</td>\n",
       "      <td>...</td>\n",
       "      <td>...</td>\n",
       "      <td>...</td>\n",
       "      <td>...</td>\n",
       "      <td>...</td>\n",
       "    </tr>\n",
       "    <tr>\n",
       "      <th>16438</th>\n",
       "      <td>14938</td>\n",
       "      <td>Yes! Precure 5 Go Go Zenin Shu Go! Dream Festival</td>\n",
       "      <td>DS</td>\n",
       "      <td>2008.0</td>\n",
       "      <td>Action</td>\n",
       "      <td>Namco Bandai Games</td>\n",
       "      <td>1.087977</td>\n",
       "      <td>0.592445</td>\n",
       "      <td>1.087977</td>\n",
       "      <td>0.394830</td>\n",
       "      <td>3.509168</td>\n",
       "    </tr>\n",
       "    <tr>\n",
       "      <th>16479</th>\n",
       "      <td>10979</td>\n",
       "      <td>Young Justice: Legacy</td>\n",
       "      <td>PS3</td>\n",
       "      <td>2013.0</td>\n",
       "      <td>Action</td>\n",
       "      <td>Namco Bandai Games</td>\n",
       "      <td>2.186589</td>\n",
       "      <td>1.087977</td>\n",
       "      <td>3.409089</td>\n",
       "      <td>0.394830</td>\n",
       "      <td>7.359902</td>\n",
       "    </tr>\n",
       "    <tr>\n",
       "      <th>16601</th>\n",
       "      <td>11802</td>\n",
       "      <td>ZhuZhu Pets: Quest for Zhu</td>\n",
       "      <td>DS</td>\n",
       "      <td>2011.0</td>\n",
       "      <td>Misc</td>\n",
       "      <td>Activision</td>\n",
       "      <td>2.340740</td>\n",
       "      <td>1.525543</td>\n",
       "      <td>3.103825</td>\n",
       "      <td>0.394830</td>\n",
       "      <td>7.372592</td>\n",
       "    </tr>\n",
       "    <tr>\n",
       "      <th>16636</th>\n",
       "      <td>9196</td>\n",
       "      <td>Zoobles! Spring to Life!</td>\n",
       "      <td>DS</td>\n",
       "      <td>2011.0</td>\n",
       "      <td>Misc</td>\n",
       "      <td>Activision</td>\n",
       "      <td>2.697415</td>\n",
       "      <td>1.087977</td>\n",
       "      <td>2.760718</td>\n",
       "      <td>0.394830</td>\n",
       "      <td>6.915540</td>\n",
       "    </tr>\n",
       "    <tr>\n",
       "      <th>16640</th>\n",
       "      <td>9816</td>\n",
       "      <td>Zubo</td>\n",
       "      <td>DS</td>\n",
       "      <td>2008.0</td>\n",
       "      <td>Misc</td>\n",
       "      <td>Electronic Arts</td>\n",
       "      <td>2.592054</td>\n",
       "      <td>1.493442</td>\n",
       "      <td>1.493442</td>\n",
       "      <td>0.394830</td>\n",
       "      <td>5.969572</td>\n",
       "    </tr>\n",
       "  </tbody>\n",
       "</table>\n",
       "<p>617 rows × 11 columns</p>\n",
       "</div>\n",
       "      <button class=\"colab-df-convert\" onclick=\"convertToInteractive('df-f3b06ca3-5edb-4213-8395-2936e6163f1b')\"\n",
       "              title=\"Convert this dataframe to an interactive table.\"\n",
       "              style=\"display:none;\">\n",
       "        \n",
       "  <svg xmlns=\"http://www.w3.org/2000/svg\" height=\"24px\"viewBox=\"0 0 24 24\"\n",
       "       width=\"24px\">\n",
       "    <path d=\"M0 0h24v24H0V0z\" fill=\"none\"/>\n",
       "    <path d=\"M18.56 5.44l.94 2.06.94-2.06 2.06-.94-2.06-.94-.94-2.06-.94 2.06-2.06.94zm-11 1L8.5 8.5l.94-2.06 2.06-.94-2.06-.94L8.5 2.5l-.94 2.06-2.06.94zm10 10l.94 2.06.94-2.06 2.06-.94-2.06-.94-.94-2.06-.94 2.06-2.06.94z\"/><path d=\"M17.41 7.96l-1.37-1.37c-.4-.4-.92-.59-1.43-.59-.52 0-1.04.2-1.43.59L10.3 9.45l-7.72 7.72c-.78.78-.78 2.05 0 2.83L4 21.41c.39.39.9.59 1.41.59.51 0 1.02-.2 1.41-.59l7.78-7.78 2.81-2.81c.8-.78.8-2.07 0-2.86zM5.41 20L4 18.59l7.72-7.72 1.47 1.35L5.41 20z\"/>\n",
       "  </svg>\n",
       "      </button>\n",
       "      \n",
       "  <style>\n",
       "    .colab-df-container {\n",
       "      display:flex;\n",
       "      flex-wrap:wrap;\n",
       "      gap: 12px;\n",
       "    }\n",
       "\n",
       "    .colab-df-convert {\n",
       "      background-color: #E8F0FE;\n",
       "      border: none;\n",
       "      border-radius: 50%;\n",
       "      cursor: pointer;\n",
       "      display: none;\n",
       "      fill: #1967D2;\n",
       "      height: 32px;\n",
       "      padding: 0 0 0 0;\n",
       "      width: 32px;\n",
       "    }\n",
       "\n",
       "    .colab-df-convert:hover {\n",
       "      background-color: #E2EBFA;\n",
       "      box-shadow: 0px 1px 2px rgba(60, 64, 67, 0.3), 0px 1px 3px 1px rgba(60, 64, 67, 0.15);\n",
       "      fill: #174EA6;\n",
       "    }\n",
       "\n",
       "    [theme=dark] .colab-df-convert {\n",
       "      background-color: #3B4455;\n",
       "      fill: #D2E3FC;\n",
       "    }\n",
       "\n",
       "    [theme=dark] .colab-df-convert:hover {\n",
       "      background-color: #434B5C;\n",
       "      box-shadow: 0px 1px 3px 1px rgba(0, 0, 0, 0.15);\n",
       "      filter: drop-shadow(0px 1px 2px rgba(0, 0, 0, 0.3));\n",
       "      fill: #FFFFFF;\n",
       "    }\n",
       "  </style>\n",
       "\n",
       "      <script>\n",
       "        const buttonEl =\n",
       "          document.querySelector('#df-f3b06ca3-5edb-4213-8395-2936e6163f1b button.colab-df-convert');\n",
       "        buttonEl.style.display =\n",
       "          google.colab.kernel.accessAllowed ? 'block' : 'none';\n",
       "\n",
       "        async function convertToInteractive(key) {\n",
       "          const element = document.querySelector('#df-f3b06ca3-5edb-4213-8395-2936e6163f1b');\n",
       "          const dataTable =\n",
       "            await google.colab.kernel.invokeFunction('convertToInteractive',\n",
       "                                                     [key], {});\n",
       "          if (!dataTable) return;\n",
       "\n",
       "          const docLinkHtml = 'Like what you see? Visit the ' +\n",
       "            '<a target=\"_blank\" href=https://colab.research.google.com/notebooks/data_table.ipynb>data table notebook</a>'\n",
       "            + ' to learn more about interactive tables.';\n",
       "          element.innerHTML = '';\n",
       "          dataTable['output_type'] = 'display_data';\n",
       "          await google.colab.output.renderOutput(dataTable, element);\n",
       "          const docLink = document.createElement('div');\n",
       "          docLink.innerHTML = docLinkHtml;\n",
       "          element.appendChild(docLink);\n",
       "        }\n",
       "      </script>\n",
       "    </div>\n",
       "  </div>\n",
       "  "
      ],
      "text/plain": [
       "        Rank                                               Name Platform  \\\n",
       "2      14279                  .hack: Sekai no Mukou ni + Versus      PS3   \n",
       "13      2742                                      [Prototype 2]      PS3   \n",
       "16      1604                                        [Prototype]      PS3   \n",
       "19      1741                             007: Quantum of Solace      PS3   \n",
       "21      4501                             007: Quantum of Solace      PS2   \n",
       "...      ...                                                ...      ...   \n",
       "16438  14938  Yes! Precure 5 Go Go Zenin Shu Go! Dream Festival       DS   \n",
       "16479  10979                              Young Justice: Legacy      PS3   \n",
       "16601  11802                         ZhuZhu Pets: Quest for Zhu       DS   \n",
       "16636   9196                           Zoobles! Spring to Life!       DS   \n",
       "16640   9816                                               Zubo       DS   \n",
       "\n",
       "         Year   Genre           Publisher  NA_Sales  EU_Sales  JP_Sales  \\\n",
       "2      2012.0  Action  Namco Bandai Games  1.145709  1.762339  1.493442   \n",
       "13     2012.0  Action          Activision  3.978349  3.727034  0.848807   \n",
       "16     2009.0  Action          Activision  4.569217  4.108402  1.187272   \n",
       "19     2008.0  Action          Activision  4.156030  4.346074  1.087977   \n",
       "21     2008.0  Action          Activision  3.228043  2.738800  2.585598   \n",
       "...       ...     ...                 ...       ...       ...       ...   \n",
       "16438  2008.0  Action  Namco Bandai Games  1.087977  0.592445  1.087977   \n",
       "16479  2013.0  Action  Namco Bandai Games  2.186589  1.087977  3.409089   \n",
       "16601  2011.0    Misc          Activision  2.340740  1.525543  3.103825   \n",
       "16636  2011.0    Misc          Activision  2.697415  1.087977  2.760718   \n",
       "16640  2008.0    Misc     Electronic Arts  2.592054  1.493442  1.493442   \n",
       "\n",
       "       Other_Sales  Global_Sales  \n",
       "2         0.408693      4.982552  \n",
       "13        2.792725     11.447989  \n",
       "16        3.339269     13.181205  \n",
       "19        3.390562     12.980643  \n",
       "21        3.652926     11.780257  \n",
       "...            ...           ...  \n",
       "16438     0.394830      3.509168  \n",
       "16479     0.394830      7.359902  \n",
       "16601     0.394830      7.372592  \n",
       "16636     0.394830      6.915540  \n",
       "16640     0.394830      5.969572  \n",
       "\n",
       "[617 rows x 11 columns]"
      ]
     },
     "execution_count": 6,
     "metadata": {},
     "output_type": "execute_result"
    }
   ],
   "source": [
    "top3_pub = data['Publisher'].value_counts().index[:3]\n",
    "top3_gen = data['Genre'].value_counts().index[:3]\n",
    "top3_plat = data['Platform'].value_counts().index[:3]\n",
    "top3_data = data.loc[(data[\"Publisher\"].isin(top3_pub)) & (data[\"Platform\"].isin(top3_plat)) & (data['Genre'].isin(top3_gen))]\n",
    "top3_data"
   ]
  },
  {
   "cell_type": "markdown",
   "metadata": {
    "id": "-5yc5wLaQckp"
   },
   "source": [
    "### Stacked Countplot\n",
    "\n"
   ]
  },
  {
   "cell_type": "markdown",
   "metadata": {
    "id": "EeO2fhWrI0Ds"
   },
   "source": [
    "#### How can we visualize the distribution of genres for top-3 publishers?\n",
    "\n",
    "We will need publishers on x-axis, and the number of games of each genre on y-axis!\n",
    "\n",
    "\n"
   ]
  },
  {
   "cell_type": "code",
   "execution_count": null,
   "metadata": {
    "colab": {
     "base_uri": "https://localhost:8080/",
     "height": 279
    },
    "executionInfo": {
     "elapsed": 2088,
     "status": "ok",
     "timestamp": 1678804471593,
     "user": {
      "displayName": "Suryansu Dash",
      "userId": "09229199246176341331"
     },
     "user_tz": -330
    },
    "id": "ICqh2CmWCT9j",
    "outputId": "11ad28b1-97c1-4b3e-99d7-646eb89f4209"
   },
   "outputs": [
    {
     "data": {
      "image/png": "[encoded data removed]",
      "text/plain": [
       "<Figure size 432x288 with 1 Axes>"
      ]
     },
     "metadata": {
      "needs_background": "light"
     },
     "output_type": "display_data"
    }
   ],
   "source": [
    "ax=sns.countplot(x='Publisher',data=top3_data, hue='Genre',dodge=False)\n",
    "bottoms = {}\n",
    "for bars in ax.containers:\n",
    "    for bar in bars:\n",
    "        x, y = bar.get_xy()\n",
    "        h = bar.get_height()\n",
    "        if x in bottoms:\n",
    "            bar.set_y(bottoms[x])\n",
    "            bottoms[x] += h\n",
    "        else:\n",
    "            bottoms[x] = h\n",
    "ax.relim()  # the plot limits need to be updated with the moved bars\n",
    "ax.autoscale()\n",
    "plt.show()"
   ]
  },
  {
   "cell_type": "markdown",
   "metadata": {
    "id": "nuK2Y9a4zAip"
   },
   "source": [
    "#### Code Explanation:\n",
    "- We first use `dodge=False` parameter to not form the a dodged countplot\n",
    "- Now, simply using `dodge=False` will make the position of each bar constant, but won't adjust the heights.\n",
    "  - The bars will end up overlapping, hence we need to manually update the heights for for the bars\n",
    "- We use a `bottoms` dictionary, and for each genre, update the bar's height with the data\n",
    "- After every updation, we set the height of bar using `bar.set_y`\n",
    "- Finally we use `ax.relim()` and `ax.autoscale()` to update and scale the bars at the end as per the plot\n",
    "\n",
    "Do print the data in the bottoms dictionary to get a cleared idea of how this is working!"
   ]
  },
  {
   "cell_type": "markdown",
   "metadata": {
    "id": "uADSOp8mPj_w"
   },
   "source": [
    "#### What information can we infer from this stacked countplot?\n",
    "- Even though EA has highest games, majority of its games are of `Sports` Type\n",
    "- Comparitively, Action and Misc. type game industry is dominated by Namco and Activision more"
   ]
  }
 ],
 "metadata": {
  "colab": {
   "provenance": []
  },
  "kernelspec": {
   "display_name": "Python 3 (ipykernel)",
   "language": "python",
   "name": "python3"
  },
  "language_info": {
   "codemirror_mode": {
    "name": "ipython",
    "version": 3
   },
   "file_extension": ".py",
   "mimetype": "text/x-python",
   "name": "python",
   "nbconvert_exporter": "python",
   "pygments_lexer": "ipython3",
   "version": "3.9.12"
  }
 },
 "nbformat": 4,
 "nbformat_minor": 4
}
