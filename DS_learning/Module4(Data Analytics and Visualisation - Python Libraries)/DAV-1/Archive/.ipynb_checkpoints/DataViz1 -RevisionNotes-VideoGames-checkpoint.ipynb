{
 "cells": [
  {
   "cell_type": "markdown",
   "metadata": {
    "id": "IYD-NoUVg7_j"
   },
   "source": [
    "## Outline\n",
    "  - **Uses/necessity of matplotlib**\n",
    "  - Tencent Use Case\n",
    "  - **Anatomy**\n",
    "    - Figure    \n",
    "  - Types of Data visualization\n",
    "  - Univariate Data Visualization\n",
    "    - Categorical:\n",
    "      - Bar chart\n",
    "      - Countplot\n",
    "      - Pie Chart\n",
    "\n"
   ]
  },
  {
   "cell_type": "markdown",
   "metadata": {
    "id": "y_O1_wML_nhd"
   },
   "source": [
    "#### Summary/Agenda\n",
    "\n",
    "#### Where is all Data Visualization helpful? Why?\n",
    "\n",
    "- Exploratory - EDA\n",
    "- Explanatory - Storytelling\n",
    "\n",
    "#### What is the Science in Data Visualization?\n",
    "- Anatomy of a plot/chart\n",
    "- How to use the right plot/chart for given data?\n",
    "\n",
    "#### What is the Art in Data Visualization?\n",
    "- Choose the right scale, labels, tick labels\n",
    "- Identify and remove clutters in the plot\n",
    "- Ways to highlight information in the plot\n",
    "\n",
    "\n",
    "\n"
   ]
  },
  {
   "cell_type": "markdown",
   "metadata": {
    "id": "b8dd9db1"
   },
   "source": [
    "### Importing Matplotlib and Seaborn \n",
    "We don't need to import the entire library but just its submodule `pyplot`\n",
    "  \n",
    "We'll use the **alias name `plt`**\n",
    "\n",
    "#### What is `pyplot`?  \n",
    "  - `pyplot` is a **sub-module for visualization** in `matplotlib` \n",
    "  - Think of it as **high-level API** which **makes plotting an easy task**\n",
    "  - Data Scientists **stick to using `pyplot` only unless** they want to create **something totally new**.\n",
    "\n",
    "For seaborn, we will be importing the whole seaborn library as alias `sns`\n",
    "\n",
    "#### What is seaborn?\n",
    "\n",
    "Seaborn is another visualization library which uses matplotlib in the backend for plotting\n",
    "\n",
    "#### What is the major difference then between both matplotlib and seaborn?\n",
    "\n",
    "- Seaborn uses **fascinating themes** and **reduces number of code lines** by doing a lot of work in the backend\n",
    "- While matplotlib is used to **plot basic plots and add more functionlaity** on top of that\n",
    "- Seaborn is built on the top of Pandas and Matplotlib\n",
    "\n",
    "As we proceed through the lecture, we will see the difference between both the libraries\n",
    "\n",
    "\n",
    "\n",
    "\n",
    "\n"
   ]
  },
  {
   "cell_type": "code",
   "execution_count": 1,
   "metadata": {
    "id": "aa22378f"
   },
   "outputs": [],
   "source": [
    "import matplotlib.pyplot as plt\n",
    "import seaborn as sns"
   ]
  },
  {
   "cell_type": "markdown",
   "metadata": {
    "id": "52744909"
   },
   "source": [
    "Before we dive into learning these libraries, lets answer some general questions\n",
    "\n",
    "#### Why do even we need to visualize data? When do I even need to visualise?\n",
    "\n",
    "  <!-- - It helps us to understand the data in a **pictorial format**\n",
    "\n",
    "  - It's **extensively used in Exploratory Data Analysis**\n",
    "\n",
    "  - And also to **present peformance results of our models** -->\n",
    "Two reasons/scopes \n",
    "\n",
    "- **Exploratory**  - I can’t see certain patterns just by crunching numbers (avg, rates, %ages)\n",
    "- **Explanatory** -  I can the numbers crunches and insights ready, but I’d like a visual art for storytelling\n",
    "\n",
    "***\n"
   ]
  },
  {
   "cell_type": "markdown",
   "metadata": {
    "id": "gQrkfGiiXoXm"
   },
   "source": [
    "Lets talk about Science of Data Visualisation \n",
    "\n",
    "#### Data\n",
    "- Rows: Samples, Data-points, Records\n",
    "- Columns: Features, Variables\n",
    "\n",
    "#### How many kinds of data do we have?\n",
    "\n",
    "At the fundamental level, it's just two types:\n",
    "- Numerical/Continous \n",
    "- Categorical\n",
    "\n",
    "Categorical can be further divided into:\n",
    "  - **Ordinal:** Categorical Data with an order (E.g. low, medium, high)\n",
    "  - **Non-ordinal/nominal:** Categorical Data without any order (example gender as Male/Female)\n",
    "\n",
    "<!-- So we can start by visualizing this data, one at a time -->\n",
    "\n",
    "<!-- #### What is analyzing a single feature/column is called?\n",
    "\n",
    "**Univariate Analysis** -->\n"
   ]
  },
  {
   "cell_type": "markdown",
   "metadata": {
    "id": "lb3IHOGBubdj"
   },
   "source": [
    "## Video Games Analysis\n",
    "\n",
    "You are a data scientist at \"Tencent Games\". \\\n",
    "\n",
    "You need to analyze what kind of games they should start creating to get higher success in the market. \\\n"
   ]
  },
  {
   "cell_type": "code",
   "execution_count": null,
   "metadata": {
    "colab": {
     "base_uri": "https://localhost:8080/"
    },
    "executionInfo": {
     "elapsed": 4071,
     "status": "ok",
     "timestamp": 1670840203605,
     "user": {
      "displayName": "Suryansu Dash",
      "userId": "09229199246176341331"
     },
     "user_tz": -330
    },
    "id": "ltqN16y-FKSq",
    "outputId": "360eb660-c625-475e-9914-e242a616be34"
   },
   "outputs": [
    {
     "name": "stdout",
     "output_type": "stream",
     "text": [
      "--2022-12-12 10:16:41--  https://d2beiqkhq929f0.cloudfront.net/public_assets/assets/000/021/299/original/final_vg1_-_final_vg_%281%29.csv?1670840166\n",
      "Resolving d2beiqkhq929f0.cloudfront.net (d2beiqkhq929f0.cloudfront.net)... 13.226.251.24, 13.226.251.62, 13.226.251.107, ...\n",
      "Connecting to d2beiqkhq929f0.cloudfront.net (d2beiqkhq929f0.cloudfront.net)|13.226.251.24|:443... connected.\n",
      "HTTP request sent, awaiting response... 200 OK\n",
      "Length: 2041483 (1.9M) [text/plain]\n",
      "Saving to: ‘final_vg.csv’\n",
      "\n",
      "final_vg.csv        100%[===================>]   1.95M  1.42MB/s    in 1.4s    \n",
      "\n",
      "2022-12-12 10:16:43 (1.42 MB/s) - ‘final_vg.csv’ saved [2041483/2041483]\n",
      "\n"
     ]
    }
   ],
   "source": [
    "!wget https://d2beiqkhq929f0.cloudfront.net/public_assets/assets/000/021/299/original/final_vg1_-_final_vg_%281%29.csv?1670840166 -O final_vg.csv"
   ]
  },
  {
   "cell_type": "code",
   "execution_count": 2,
   "metadata": {
    "colab": {
     "base_uri": "https://localhost:8080/",
     "height": 392
    },
    "executionInfo": {
     "elapsed": 92,
     "status": "ok",
     "timestamp": 1670840203605,
     "user": {
      "displayName": "Suryansu Dash",
      "userId": "09229199246176341331"
     },
     "user_tz": -330
    },
    "id": "sTp1pk3hwLvc",
    "outputId": "0613dac1-4521-41f7-ea50-11fb74f925f4"
   },
   "outputs": [
    {
     "data": {
      "text/html": [
       "<div>\n",
       "<style scoped>\n",
       "    .dataframe tbody tr th:only-of-type {\n",
       "        vertical-align: middle;\n",
       "    }\n",
       "\n",
       "    .dataframe tbody tr th {\n",
       "        vertical-align: top;\n",
       "    }\n",
       "\n",
       "    .dataframe thead th {\n",
       "        text-align: right;\n",
       "    }\n",
       "</style>\n",
       "<table border=\"1\" class=\"dataframe\">\n",
       "  <thead>\n",
       "    <tr style=\"text-align: right;\">\n",
       "      <th></th>\n",
       "      <th>Rank</th>\n",
       "      <th>Name</th>\n",
       "      <th>Platform</th>\n",
       "      <th>Year</th>\n",
       "      <th>Genre</th>\n",
       "      <th>Publisher</th>\n",
       "      <th>NA_Sales</th>\n",
       "      <th>EU_Sales</th>\n",
       "      <th>JP_Sales</th>\n",
       "      <th>Other_Sales</th>\n",
       "      <th>Global_Sales</th>\n",
       "    </tr>\n",
       "  </thead>\n",
       "  <tbody>\n",
       "    <tr>\n",
       "      <th>0</th>\n",
       "      <td>2061</td>\n",
       "      <td>1942</td>\n",
       "      <td>NES</td>\n",
       "      <td>1985.0</td>\n",
       "      <td>Shooter</td>\n",
       "      <td>Capcom</td>\n",
       "      <td>4.569217</td>\n",
       "      <td>3.033887</td>\n",
       "      <td>3.439352</td>\n",
       "      <td>1.991671</td>\n",
       "      <td>12.802935</td>\n",
       "    </tr>\n",
       "    <tr>\n",
       "      <th>1</th>\n",
       "      <td>9137</td>\n",
       "      <td>¡Shin Chan Flipa en colores!</td>\n",
       "      <td>DS</td>\n",
       "      <td>2007.0</td>\n",
       "      <td>Platform</td>\n",
       "      <td>505 Games</td>\n",
       "      <td>2.076955</td>\n",
       "      <td>1.493442</td>\n",
       "      <td>3.033887</td>\n",
       "      <td>0.394830</td>\n",
       "      <td>7.034163</td>\n",
       "    </tr>\n",
       "    <tr>\n",
       "      <th>2</th>\n",
       "      <td>14279</td>\n",
       "      <td>.hack: Sekai no Mukou ni + Versus</td>\n",
       "      <td>PS3</td>\n",
       "      <td>2012.0</td>\n",
       "      <td>Action</td>\n",
       "      <td>Namco Bandai Games</td>\n",
       "      <td>1.145709</td>\n",
       "      <td>1.762339</td>\n",
       "      <td>1.493442</td>\n",
       "      <td>0.408693</td>\n",
       "      <td>4.982552</td>\n",
       "    </tr>\n",
       "    <tr>\n",
       "      <th>3</th>\n",
       "      <td>8359</td>\n",
       "      <td>.hack//G.U. Vol.1//Rebirth</td>\n",
       "      <td>PS2</td>\n",
       "      <td>2006.0</td>\n",
       "      <td>Role-Playing</td>\n",
       "      <td>Namco Bandai Games</td>\n",
       "      <td>2.031986</td>\n",
       "      <td>1.389856</td>\n",
       "      <td>3.228043</td>\n",
       "      <td>0.394830</td>\n",
       "      <td>7.226880</td>\n",
       "    </tr>\n",
       "    <tr>\n",
       "      <th>4</th>\n",
       "      <td>7109</td>\n",
       "      <td>.hack//G.U. Vol.2//Reminisce</td>\n",
       "      <td>PS2</td>\n",
       "      <td>2006.0</td>\n",
       "      <td>Role-Playing</td>\n",
       "      <td>Namco Bandai Games</td>\n",
       "      <td>2.792725</td>\n",
       "      <td>2.592054</td>\n",
       "      <td>1.440483</td>\n",
       "      <td>1.493442</td>\n",
       "      <td>8.363113</td>\n",
       "    </tr>\n",
       "  </tbody>\n",
       "</table>\n",
       "</div>"
      ],
      "text/plain": [
       "    Rank                               Name Platform    Year         Genre  \\\n",
       "0   2061                               1942      NES  1985.0       Shooter   \n",
       "1   9137       ¡Shin Chan Flipa en colores!       DS  2007.0      Platform   \n",
       "2  14279  .hack: Sekai no Mukou ni + Versus      PS3  2012.0        Action   \n",
       "3   8359         .hack//G.U. Vol.1//Rebirth      PS2  2006.0  Role-Playing   \n",
       "4   7109       .hack//G.U. Vol.2//Reminisce      PS2  2006.0  Role-Playing   \n",
       "\n",
       "            Publisher  NA_Sales  EU_Sales  JP_Sales  Other_Sales  Global_Sales  \n",
       "0              Capcom  4.569217  3.033887  3.439352     1.991671     12.802935  \n",
       "1           505 Games  2.076955  1.493442  3.033887     0.394830      7.034163  \n",
       "2  Namco Bandai Games  1.145709  1.762339  1.493442     0.408693      4.982552  \n",
       "3  Namco Bandai Games  2.031986  1.389856  3.228043     0.394830      7.226880  \n",
       "4  Namco Bandai Games  2.792725  2.592054  1.440483     1.493442      8.363113  "
      ]
     },
     "execution_count": 2,
     "metadata": {},
     "output_type": "execute_result"
    }
   ],
   "source": [
    "import pandas as pd\n",
    "import numpy as np\n",
    "data = pd.read_csv('final_vg.csv')\n",
    "data.head()"
   ]
  },
  {
   "cell_type": "markdown",
   "metadata": {
    "id": "iTT7bJ_0YRQs"
   },
   "source": [
    "If you notice, \n",
    "\n",
    "- Columns like `Platform`, `Genre` are categorical\n",
    "- While columns like `NA_Sales`, `Global_Sales`, `Rank` are continuous \n",
    "\n",
    "On noticing further,\n",
    "- `Platform` is of nominal type, no proper order between the categories\n",
    "- `Year` is of ordinal type, there's a order to the categories"
   ]
  },
  {
   "cell_type": "markdown",
   "metadata": {
    "id": "sA_sriWn78BE"
   },
   "source": [
    "### Introduction to Matplotlib\n",
    "\n",
    "#### Lets learn to create a basic plot using plt\n",
    "\n",
    "Now say, we want to draw a curve passing through 3 points:\n",
    "  - (0, 3)\n",
    "  - (1, 5)\n",
    "  - (2, 9)\n",
    "\n",
    "#### How can we draw a curve using matplotlib ?\n",
    "\n",
    "By using `plt.plot() function`"
   ]
  },
  {
   "cell_type": "code",
   "execution_count": 3,
   "metadata": {
    "colab": {
     "base_uri": "https://localhost:8080/",
     "height": 283
    },
    "executionInfo": {
     "elapsed": 75,
     "status": "ok",
     "timestamp": 1670840203608,
     "user": {
      "displayName": "Suryansu Dash",
      "userId": "09229199246176341331"
     },
     "user_tz": -330
    },
    "id": "414089ff",
    "outputId": "506b11b7-2e40-439f-d0d4-25085ba5769a",
    "scrolled": true
   },
   "outputs": [
    {
     "data": {
      "text/plain": [
       "[<matplotlib.lines.Line2D at 0x16936a040>]"
      ]
     },
     "execution_count": 3,
     "metadata": {},
     "output_type": "execute_result"
    },
    {
     "data": {
      "image/png": "[encoded data removed]",
      "text/plain": [
       "<Figure size 432x288 with 1 Axes>"
      ]
     },
     "metadata": {
      "needs_background": "light"
     },
     "output_type": "display_data"
    }
   ],
   "source": [
    "x_val = [0, 1, 2]\n",
    "y_val = [3, 5, 9]\n",
    "plt.plot(x_val, y_val)"
   ]
  },
  {
   "cell_type": "markdown",
   "metadata": {
    "id": "2d8812bf"
   },
   "source": [
    "#### What can we observe from this plot ?\n",
    "  \n",
    "  - `plt.plot()` automatically decided the scale of the plot\n",
    "  \n",
    "  - It also prints the **type of object** `matplotlib.lines.Line2D`\n",
    "\n",
    "While this command decided a lot of things for you, you can customise each of these by understanding **components of a matplotlib plot**\n",
    "\n",
    "\n"
   ]
  },
  {
   "cell_type": "markdown",
   "metadata": {
    "id": "19821967"
   },
   "source": [
    "## Anatomy of Matplotlib\n",
    "\n",
    "<!-- <img src=\"https://d2beiqkhq929f0.cloudfront.net/public_assets/assets/000/019/567/original/image_2022-11-10_121820129.png?1668062911\"> -->\n",
    "\n",
    "\n",
    "<!-- <img src=\"https://files.realpython.com/media/fig_map.bc8c7cabd823.png\" />\n",
    "<img src=\"https://d2beiqkhq929f0.cloudfront.net/public_assets/assets/000/019/579/original/image_2022-11-10_150131378.png?1668072693\"> -->\n",
    "\n",
    "<img src=\"https://d2beiqkhq929f0.cloudfront.net/public_assets/assets/000/019/615/original/image_2022-11-11_112008033.png?1668145811\">\n",
    "\n",
    "Woah! There is a lot of information in this image. Let's understand them one at a time.\n",
    "\n",
    "\n",
    "- Figure: The **overall window** or page that everything is drawn on.\n",
    "  - You can create multiple independent Figures in Jupyter.\n",
    "  - If you run the code in terminal, separate windows will pop-up\n",
    "\n",
    "- Axes: To the figure you can add multiple **Axes** which represents a plot\n",
    "- **Axis**: Simply the `x-axis` and `y-axis`\n",
    "- **Axes**: - It is the **area** on which the **data is plotted** with functions such as `plot()`\n",
    "    - **x-label**: Name of x-axis\n",
    "    - **y-label**: Name of y-axis \n",
    "    - **Major ticks**: subdivides the axis into major units. They appear by default during plotting\n",
    "- **Minor ticks**: subdivides the major tick units. They are by default hidden and can be toggled on.\n",
    "- **Title**: Title of each plot **(Axes)**, giving information about the same\n",
    "- **Legend**: describes the elements in the plot, blue and green curves in this case\n",
    "- **Suptitle**: The common title of all the plots\n",
    "\n",
    "\n",
    "These are the major components of a matplotlib plot"
   ]
  },
  {
   "cell_type": "markdown",
   "metadata": {
    "id": "11Dr_W_3amLs"
   },
   "source": [
    "#### Now, how to choose the right plot?\n",
    "\n",
    "Firstly, depends on the what is your question of interest\n",
    "\n",
    "When the question is clear:\n",
    "- How many variables are involved?\n",
    "- Whether the variable(s) are numerical or categorical?\n",
    "\n",
    "#### How many variables are involved?\n",
    "\n",
    "- 1 Variable      - Univariate Analysis\n",
    "- 2 Variables    - Bivariate Analysis\n",
    "- 2+ Variables  - Multivariate Analysis\n",
    "     \n",
    "PS: Bivariate counts under multivariate, but let's keep it sep for ease of communication\n",
    "\n",
    "What are the possible cases?\n",
    "\n",
    "#### Univariate \n",
    "- Numerical\n",
    "- Categorical\n",
    "\n",
    "#### Bivariate\n",
    "- Numerical-Numerical\n",
    "- Numerical-Categorical\n",
    "- Categorical-Categorical\n",
    "\n",
    "#### Multivariate\n",
    "\t \n",
    "Let’s start with 3 and then we can generalize\n",
    "\n",
    "- Numerical-Numerical-Categorical\n",
    "- Categorical-Categorical-Numerical\n",
    "- Categorical-Categorical-Categorical\n",
    "- Numerical-Numerical-Numerical\n",
    "\n",
    "\n",
    "We will work on these one by one "
   ]
  },
  {
   "cell_type": "markdown",
   "metadata": {
    "id": "lp1ibek_6rnv"
   },
   "source": [
    "## Univariate Data Visualization - Categorical Data"
   ]
  },
  {
   "cell_type": "markdown",
   "metadata": {
    "id": "4EU_MB-36vLh"
   },
   "source": [
    "\n",
    "#### What kind of questions we may want to ask for a categorical variable?\n",
    "\n",
    "\n",
    "Questions like:\n",
    "\n",
    "- What is the Distribution/Frequency of the data across different categories?\n",
    "- What proportion does a particular category constitutes?\n",
    "\n",
    "\n",
    "<!-- - What are the top-5 most popular genre of games played?\n",
    "- Or distribution of sales across various parts of the world? -->\n",
    "\n",
    "...and so on\n",
    "\n"
   ]
  },
  {
   "cell_type": "markdown",
   "metadata": {
    "id": "852f5fef"
   },
   "source": [
    "\n",
    "Let's take the categorical column \"Genre\"\n",
    "\n",
    "#### How can we find the top-5 genres?\n",
    "\n",
    "Recall, how could we get this data using pandas?\n",
    "\n"
   ]
  },
  {
   "cell_type": "code",
   "execution_count": 4,
   "metadata": {
    "colab": {
     "base_uri": "https://localhost:8080/"
    },
    "executionInfo": {
     "elapsed": 67,
     "status": "ok",
     "timestamp": 1670840203613,
     "user": {
      "displayName": "Suryansu Dash",
      "userId": "09229199246176341331"
     },
     "user_tz": -330
    },
    "id": "r_zmGBsV77PM",
    "outputId": "1068fe70-349c-4baf-e5a4-f9ec2e5f85d0"
   },
   "outputs": [
    {
     "data": {
      "text/plain": [
       "Action          3316\n",
       "Sports          2400\n",
       "Misc            1739\n",
       "Role-Playing    1488\n",
       "Shooter         1310\n",
       "Adventure       1286\n",
       "Racing          1249\n",
       "Platform         886\n",
       "Simulation       867\n",
       "Fighting         848\n",
       "Strategy         681\n",
       "Puzzle           582\n",
       "Name: Genre, dtype: int64"
      ]
     },
     "execution_count": 4,
     "metadata": {},
     "output_type": "execute_result"
    }
   ],
   "source": [
    "cat_counts = data['Genre'].value_counts()\n",
    "cat_counts"
   ]
  },
  {
   "cell_type": "markdown",
   "metadata": {
    "id": "fX5anEI6DbVY"
   },
   "source": [
    "#### Now what kind of plot can we use to visualize this information?\n",
    "\n",
    "- We can perhaps plot categories on X-axis and their corresponding frequencies on Y-axis\n",
    "- Such chart is called a Bar Chart or a Count Plot\n",
    "- Can also plot horizontally when the #categories are many\n",
    "\n",
    "\n",
    "### Bar Chart\n",
    "\n",
    "The data is binned here into categories\n",
    "\n",
    "#### How can we draw a Bar plot ?\n",
    "Using `plt.bar()`\n",
    "\n"
   ]
  },
  {
   "cell_type": "code",
   "execution_count": 5,
   "metadata": {
    "colab": {
     "base_uri": "https://localhost:8080/",
     "height": 283
    },
    "executionInfo": {
     "elapsed": 65,
     "status": "ok",
     "timestamp": 1670840203617,
     "user": {
      "displayName": "Suryansu Dash",
      "userId": "09229199246176341331"
     },
     "user_tz": -330
    },
    "id": "c0c1f880",
    "outputId": "80e88b0b-e277-4873-b1ad-2f459ab4ba7a",
    "scrolled": true
   },
   "outputs": [
    {
     "data": {
      "text/plain": [
       "<BarContainer object of 12 artists>"
      ]
     },
     "execution_count": 5,
     "metadata": {},
     "output_type": "execute_result"
    },
    {
     "data": {
      "image/png": "[encoded data removed]",
      "text/plain": [
       "<Figure size 432x288 with 1 Axes>"
      ]
     },
     "metadata": {
      "needs_background": "light"
     },
     "output_type": "display_data"
    }
   ],
   "source": [
    "x_bar=cat_counts.index\n",
    "y_bar=cat_counts\n",
    "plt.bar(x_bar,y_bar)"
   ]
  },
  {
   "cell_type": "markdown",
   "metadata": {
    "id": "kDcvoihzGuWv"
   },
   "source": [
    "The names seem to be overlapping a lot\n",
    "\n",
    "#### How can we handle overlapping labels?\n",
    "- Maybe decrease the font size (not preferred though)\n",
    "- Or maybe increase the figure size\n",
    "- Or rotate the labels\n",
    "\n",
    "#### How can we change the plot size?"
   ]
  },
  {
   "cell_type": "code",
   "execution_count": 6,
   "metadata": {
    "colab": {
     "base_uri": "https://localhost:8080/",
     "height": 488
    },
    "executionInfo": {
     "elapsed": 47,
     "status": "ok",
     "timestamp": 1670840203618,
     "user": {
      "displayName": "Suryansu Dash",
      "userId": "09229199246176341331"
     },
     "user_tz": -330
    },
    "id": "9ndSF5sLGszP",
    "outputId": "4e3b5a4d-7c2f-47a7-b82a-87fb0b9dd64a"
   },
   "outputs": [
    {
     "data": {
      "text/plain": [
       "<BarContainer object of 12 artists>"
      ]
     },
     "execution_count": 6,
     "metadata": {},
     "output_type": "execute_result"
    },
    {
     "data": {
      "image/png": "[encoded data removed]",
      "text/plain": [
       "<Figure size 864x576 with 1 Axes>"
      ]
     },
     "metadata": {
      "needs_background": "light"
     },
     "output_type": "display_data"
    }
   ],
   "source": [
    "plt.figure(figsize=(12,8))\n",
    "plt.bar(x_bar,y_bar)"
   ]
  },
  {
   "cell_type": "markdown",
   "metadata": {
    "id": "tinSTUn2b2w-"
   },
   "source": [
    "#### And how can we rotate the tick labels, also maybe increase the fontsize of the same?"
   ]
  },
  {
   "cell_type": "code",
   "execution_count": 7,
   "metadata": {
    "colab": {
     "base_uri": "https://localhost:8080/",
     "height": 569
    },
    "executionInfo": {
     "elapsed": 1379,
     "status": "ok",
     "timestamp": 1670840204951,
     "user": {
      "displayName": "Suryansu Dash",
      "userId": "09229199246176341331"
     },
     "user_tz": -330
    },
    "id": "5kYuGiBQbsul",
    "outputId": "4c7f9196-8694-4c2f-af61-94999970615d"
   },
   "outputs": [
    {
     "data": {
      "text/plain": [
       "([0, 1, 2, 3, 4, 5, 6, 7, 8, 9, 10, 11],\n",
       " [Text(0, 0, 'Action'),\n",
       "  Text(1, 0, 'Sports'),\n",
       "  Text(2, 0, 'Misc'),\n",
       "  Text(3, 0, 'Role-Playing'),\n",
       "  Text(4, 0, 'Shooter'),\n",
       "  Text(5, 0, 'Adventure'),\n",
       "  Text(6, 0, 'Racing'),\n",
       "  Text(7, 0, 'Platform'),\n",
       "  Text(8, 0, 'Simulation'),\n",
       "  Text(9, 0, 'Fighting'),\n",
       "  Text(10, 0, 'Strategy'),\n",
       "  Text(11, 0, 'Puzzle')])"
      ]
     },
     "execution_count": 7,
     "metadata": {},
     "output_type": "execute_result"
    },
    {
     "data": {
      "image/png": "[encoded data removed]",
      "text/plain": [
       "<Figure size 864x576 with 1 Axes>"
      ]
     },
     "metadata": {
      "needs_background": "light"
     },
     "output_type": "display_data"
    }
   ],
   "source": [
    "plt.figure(figsize=(12,8))\n",
    "plt.bar(x_bar,y_bar)\n",
    "plt.xticks(rotation=90, fontsize=12)"
   ]
  },
  {
   "cell_type": "markdown",
   "metadata": {
    "id": "73a58ef3"
   },
   "source": [
    "If you notice, the width of each bar is **1**\n",
    "\n",
    "#### Can we change the width of these bars?"
   ]
  },
  {
   "cell_type": "code",
   "execution_count": 8,
   "metadata": {
    "colab": {
     "base_uri": "https://localhost:8080/",
     "height": 583
    },
    "executionInfo": {
     "elapsed": 190,
     "status": "ok",
     "timestamp": 1670840204959,
     "user": {
      "displayName": "Suryansu Dash",
      "userId": "09229199246176341331"
     },
     "user_tz": -330
    },
    "id": "550d124d",
    "outputId": "5ba2f4e5-7af8-4306-f2fa-5eca2c6196f9",
    "scrolled": true
   },
   "outputs": [
    {
     "data": {
      "text/plain": [
       "([0, 1, 2, 3, 4, 5, 6, 7, 8, 9, 10, 11],\n",
       " [Text(0, 0, 'Action'),\n",
       "  Text(1, 0, 'Sports'),\n",
       "  Text(2, 0, 'Misc'),\n",
       "  Text(3, 0, 'Role-Playing'),\n",
       "  Text(4, 0, 'Shooter'),\n",
       "  Text(5, 0, 'Adventure'),\n",
       "  Text(6, 0, 'Racing'),\n",
       "  Text(7, 0, 'Platform'),\n",
       "  Text(8, 0, 'Simulation'),\n",
       "  Text(9, 0, 'Fighting'),\n",
       "  Text(10, 0, 'Strategy'),\n",
       "  Text(11, 0, 'Puzzle')])"
      ]
     },
     "execution_count": 8,
     "metadata": {},
     "output_type": "execute_result"
    },
    {
     "data": {
      "image/png": "[encoded data removed]",
      "text/plain": [
       "<Figure size 720x576 with 1 Axes>"
      ]
     },
     "metadata": {
      "needs_background": "light"
     },
     "output_type": "display_data"
    }
   ],
   "source": [
    "# same code\n",
    "plt.figure(figsize=(10,8))\n",
    "plt.bar(x_bar,y_bar,width=0.2)\n",
    "plt.xticks(rotation = 90, fontsize=12)"
   ]
  },
  {
   "cell_type": "markdown",
   "metadata": {
    "id": "b15f761e"
   },
   "source": [
    "#### What about any additional styling to add to the bars ?\n",
    "\n",
    "  - We can **change colour of bars**\n",
    "  - We can add a **title to the axes**\n",
    "  - We can also add x and y labels\n"
   ]
  },
  {
   "cell_type": "code",
   "execution_count": 9,
   "metadata": {
    "colab": {
     "base_uri": "https://localhost:8080/",
     "height": 618
    },
    "executionInfo": {
     "elapsed": 179,
     "status": "ok",
     "timestamp": 1670840204964,
     "user": {
      "displayName": "Suryansu Dash",
      "userId": "09229199246176341331"
     },
     "user_tz": -330
    },
    "id": "SiJXrExWkNbD",
    "outputId": "962b37fe-77aa-45ca-f1d0-72061b6f4d98"
   },
   "outputs": [
    {
     "data": {
      "text/plain": [
       "(array([   0.,  500., 1000., 1500., 2000., 2500., 3000., 3500.]),\n",
       " [Text(0, 0.0, '0'),\n",
       "  Text(0, 500.0, '500'),\n",
       "  Text(0, 1000.0, '1000'),\n",
       "  Text(0, 1500.0, '1500'),\n",
       "  Text(0, 2000.0, '2000'),\n",
       "  Text(0, 2500.0, '2500'),\n",
       "  Text(0, 3000.0, '3000'),\n",
       "  Text(0, 3500.0, '3500')])"
      ]
     },
     "execution_count": 9,
     "metadata": {},
     "output_type": "execute_result"
    },
    {
     "data": {
      "image/png": "[encoded data removed]",
      "text/plain": [
       "<Figure size 720x576 with 1 Axes>"
      ]
     },
     "metadata": {
      "needs_background": "light"
     },
     "output_type": "display_data"
    }
   ],
   "source": [
    "plt.figure(figsize=(10,8))\n",
    "plt.bar(x_bar,y_bar,width=0.2,color='orange')\n",
    "plt.title('Games per Genre',fontsize=15)\n",
    "plt.xlabel('Genre',fontsize=12)\n",
    "plt.ylabel('Count',fontsize=12)\n",
    "plt.xticks(rotation = 90, fontsize=12)\n",
    "plt.yticks(fontsize=12)"
   ]
  },
  {
   "cell_type": "markdown",
   "metadata": {
    "id": "_5TCkAWWcIgQ"
   },
   "source": [
    "If you notice, there's some text printed always before the plots. \n",
    "\n",
    "This contains the data information of the plot\n",
    "\n",
    "#### How can we remove the text printed before the plot and just display the plot?\n",
    "\n",
    "Using plt.show() at the end"
   ]
  },
  {
   "cell_type": "code",
   "execution_count": 10,
   "metadata": {
    "colab": {
     "base_uri": "https://localhost:8080/",
     "height": 582
    },
    "executionInfo": {
     "elapsed": 162,
     "status": "ok",
     "timestamp": 1670840204969,
     "user": {
      "displayName": "Suryansu Dash",
      "userId": "09229199246176341331"
     },
     "user_tz": -330
    },
    "id": "81gN3KGncH56",
    "outputId": "723dd5a3-01bc-4ef5-d542-50a6f5ed0498"
   },
   "outputs": [
    {
     "data": {
      "image/png": "[encoded data removed]",
      "text/plain": [
       "<Figure size 720x576 with 1 Axes>"
      ]
     },
     "metadata": {
      "needs_background": "light"
     },
     "output_type": "display_data"
    }
   ],
   "source": [
    "plt.figure(figsize=(10,8))\n",
    "plt.bar(x_bar,y_bar,width=0.2,color='orange')\n",
    "plt.title('Games per Genre',fontsize=15)\n",
    "plt.xlabel('Genre',fontsize=12)\n",
    "plt.ylabel('Count',fontsize=12)\n",
    "plt.xticks(rotation = 90, fontsize=12)\n",
    "plt.yticks(fontsize=12)\n",
    "plt.show()"
   ]
  },
  {
   "cell_type": "markdown",
   "metadata": {
    "id": "biW_v9aVFbnd"
   },
   "source": [
    "#### How can we draw a bar-chart in Seaborn?"
   ]
  },
  {
   "cell_type": "markdown",
   "metadata": {
    "id": "90gtoH4bGM8R"
   },
   "source": [
    "- In Seaborn, the same plot is called as **countplot**.\n",
    "- Countplot automtically does even the counting of frequencies for you\n",
    "\n",
    "#### Why not called a barplot?\n",
    "There is **another function** in Seaborn called **barplot which has some other purpose** - discuss later"
   ]
  },
  {
   "cell_type": "code",
   "execution_count": 11,
   "metadata": {
    "colab": {
     "base_uri": "https://localhost:8080/",
     "height": 367
    },
    "executionInfo": {
     "elapsed": 729,
     "status": "ok",
     "timestamp": 1670840205543,
     "user": {
      "displayName": "Suryansu Dash",
      "userId": "09229199246176341331"
     },
     "user_tz": -330
    },
    "id": "tqBEZd99Fu-J",
    "outputId": "0d967c86-a85e-4257-f726-890c95f51175"
   },
   "outputs": [
    {
     "data": {
      "text/plain": [
       "(array([ 0,  1,  2,  3,  4,  5,  6,  7,  8,  9, 10, 11]),\n",
       " [Text(0, 0, 'Action'),\n",
       "  Text(1, 0, 'Sports'),\n",
       "  Text(2, 0, 'Misc'),\n",
       "  Text(3, 0, 'Role-Playing'),\n",
       "  Text(4, 0, 'Shooter'),\n",
       "  Text(5, 0, 'Adventure'),\n",
       "  Text(6, 0, 'Racing'),\n",
       "  Text(7, 0, 'Platform'),\n",
       "  Text(8, 0, 'Simulation'),\n",
       "  Text(9, 0, 'Fighting'),\n",
       "  Text(10, 0, 'Strategy'),\n",
       "  Text(11, 0, 'Puzzle')])"
      ]
     },
     "execution_count": 11,
     "metadata": {},
     "output_type": "execute_result"
    },
    {
     "data": {
      "image/png": "[encoded data removed]",
      "text/plain": [
       "<Figure size 432x288 with 1 Axes>"
      ]
     },
     "metadata": {
      "needs_background": "light"
     },
     "output_type": "display_data"
    }
   ],
   "source": [
    "sns.countplot(x = 'Genre', data = data, order=data['Genre'].value_counts().index, color='cornflowerblue')\n",
    "plt.xticks(rotation=90)"
   ]
  },
  {
   "cell_type": "markdown",
   "metadata": {
    "id": "oXFkWdQ8v6HO"
   },
   "source": [
    "The top 5 genres are action, sports, misc, role player, and shooter"
   ]
  },
  {
   "cell_type": "markdown",
   "metadata": {
    "id": "2k61PgsmH7jN"
   },
   "source": [
    "### Pie charts\n",
    "\n",
    "#### What if instead of actual frequencues, I want see the proportion of the categories with each other?\n",
    "\n",
    "Say, we want to compare the distrubution/proportion of sales across the different regions?\n",
    "\n",
    "Which plot can we use for this?\n",
    "\n",
    "A pie-chart!\n",
    "\n",
    "![](https://d2beiqkhq929f0.cloudfront.net/public_assets/assets/000/021/280/original/download.png?1670819443)\n",
    "\n",
    "Do refer to the postread for the code of how to plot the pie-chart"
   ]
  },
  {
   "cell_type": "markdown",
   "metadata": {
    "id": "Kcjws5NRHPai"
   },
   "source": [
    "## Univariate Data Visualisation - Numerical Data\n",
    "\n",
    "\n",
    "\n",
    "#### What kind of questions we may have regarding a numerical variable?\n",
    "\n",
    "1. How is the data distributed? Say distribution of number of games published in a year.\n",
    "2. Is the data skewed? Are there any outliers? - Extremely high selling games maybe?\n",
    "3. How much percentage of data is below/above a certain number?\n",
    "4. Some special numbers - Min, Max, Mean, Median, nth percentile?\n",
    "\n"
   ]
  },
  {
   "cell_type": "markdown",
   "metadata": {
    "id": "v3zFcoK3fTau"
   },
   "source": [
    "Now say, you want find the distribution of games released every year.\n",
    "\n",
    "Unlike barplot, **to see the distribution we will need to `bin` the data**.\n",
    "\n",
    "\n",
    "#### How can we understand popularity of video games year by year?\n",
    "\n",
    "\n",
    "#### Histogram\n"
   ]
  },
  {
   "cell_type": "code",
   "execution_count": 12,
   "metadata": {
    "colab": {
     "base_uri": "https://localhost:8080/"
    },
    "executionInfo": {
     "elapsed": 26,
     "status": "ok",
     "timestamp": 1676032711312,
     "user": {
      "displayName": "Suryansu Dash",
      "userId": "09229199246176341331"
     },
     "user_tz": -330
    },
    "id": "ufLQtiSy6ueh",
    "outputId": "d80becb3-60eb-41be-b76d-1d8ee37c0498"
   },
   "outputs": [
    {
     "data": {
      "image/png": "[encoded data removed]",
      "text/plain": [
       "<Figure size 432x288 with 1 Axes>"
      ]
     },
     "metadata": {
      "needs_background": "light"
     },
     "output_type": "display_data"
    }
   ],
   "source": [
    "plt.hist(data['Year'])\n",
    "plt.show()"
   ]
  },
  {
   "cell_type": "markdown",
   "metadata": {
    "id": "ZFYrqzxDwrD_"
   },
   "source": [
    "- The curve is left skewed, with a lot more games being published in 2005-2015\n",
    "\n",
    "- This shows that games started being highly popular in the last 1-2 decades, maybe could point to increased usage of internet worldwide!"
   ]
  },
  {
   "cell_type": "markdown",
   "metadata": {
    "id": "w7S_BYZb8buE"
   },
   "source": [
    "If you notice, histograms are basically frequency charts\n",
    "\n",
    "We can also vary the number of bins, the **default number of bins is 10**\n",
    "\n",
    "So if we would need to see this data per decade, we would need 40 years in 4 bins."
   ]
  },
  {
   "cell_type": "code",
   "execution_count": 13,
   "metadata": {
    "colab": {
     "base_uri": "https://localhost:8080/"
    },
    "executionInfo": {
     "elapsed": 26,
     "status": "ok",
     "timestamp": 1676032711313,
     "user": {
      "displayName": "Suryansu Dash",
      "userId": "09229199246176341331"
     },
     "user_tz": -330
    },
    "id": "0SDqxc-O8Ny4",
    "outputId": "78a2fa7a-b7de-4749-9e01-1ac4c47a923b"
   },
   "outputs": [
    {
     "data": {
      "image/png": "[encoded data removed]",
      "text/plain": [
       "<Figure size 432x288 with 1 Axes>"
      ]
     },
     "metadata": {
      "needs_background": "light"
     },
     "output_type": "display_data"
    }
   ],
   "source": [
    "plt.hist(data['Year'], bins=4)\n",
    "plt.show()"
   ]
  },
  {
   "cell_type": "markdown",
   "metadata": {
    "id": "GFoNAXT3B_7X"
   },
   "source": [
    "We can also get the data of each bin, such as range of the boundaries, values, etc."
   ]
  },
  {
   "cell_type": "code",
   "execution_count": 14,
   "metadata": {
    "colab": {
     "base_uri": "https://localhost:8080/",
     "height": 54
    },
    "executionInfo": {
     "elapsed": 26,
     "status": "ok",
     "timestamp": 1676032711313,
     "user": {
      "displayName": "Suryansu Dash",
      "userId": "09229199246176341331"
     },
     "user_tz": -330
    },
    "id": "2EVGEY4-CEDD",
    "outputId": "01494f12-f5fd-483a-93d4-bf30116a4486"
   },
   "outputs": [
    {
     "data": {
      "image/png": "[encoded data removed]",
      "text/plain": [
       "<Figure size 432x288 with 1 Axes>"
      ]
     },
     "metadata": {
      "needs_background": "light"
     },
     "output_type": "display_data"
    }
   ],
   "source": [
    "count, bins, _ = plt.hist(data['Year'])"
   ]
  },
  {
   "cell_type": "code",
   "execution_count": 15,
   "metadata": {
    "colab": {
     "base_uri": "https://localhost:8080/"
    },
    "executionInfo": {
     "elapsed": 25,
     "status": "ok",
     "timestamp": 1676032711313,
     "user": {
      "displayName": "Suryansu Dash",
      "userId": "09229199246176341331"
     },
     "user_tz": -330
    },
    "id": "xxnNCJNMCYPX",
    "outputId": "5592252c-42d7-4e97-9f24-944d91c1e3ba"
   },
   "outputs": [
    {
     "data": {
      "text/plain": [
       "array([ 112.,   70.,   92.,  449., 1274., 2440., 3921., 5262., 2406.,\n",
       "        355.])"
      ]
     },
     "execution_count": 15,
     "metadata": {},
     "output_type": "execute_result"
    }
   ],
   "source": [
    "count"
   ]
  },
  {
   "cell_type": "code",
   "execution_count": 16,
   "metadata": {
    "colab": {
     "base_uri": "https://localhost:8080/"
    },
    "executionInfo": {
     "elapsed": 23,
     "status": "ok",
     "timestamp": 1676032711313,
     "user": {
      "displayName": "Suryansu Dash",
      "userId": "09229199246176341331"
     },
     "user_tz": -330
    },
    "id": "HU66xUUNCaRh",
    "outputId": "a362b699-4616-4d0f-e682-1ef38cbcb8e4"
   },
   "outputs": [
    {
     "data": {
      "text/plain": [
       "array([1980., 1984., 1988., 1992., 1996., 2000., 2004., 2008., 2012.,\n",
       "       2016., 2020.])"
      ]
     },
     "execution_count": 16,
     "metadata": {},
     "output_type": "execute_result"
    }
   ],
   "source": [
    "bins"
   ]
  },
  {
   "cell_type": "markdown",
   "metadata": {
    "id": "l5K2VX7NCTW5"
   },
   "source": [
    "#### Now what do these `count` and `bins` mean?\n",
    "\n",
    "- **bins** provides bin edges\n",
    "- **counts** provides it corresponding counts\n",
    "\n",
    "\n",
    "#### What is the length of `count`?\n",
    "\n",
    "10\n",
    "#### What shoud be the length of `bins`?\n",
    "\n",
    "10 + 1 = 11"
   ]
  },
  {
   "cell_type": "markdown",
   "metadata": {
    "id": "vGpJQYPhCiOj"
   },
   "source": [
    "##### How can we plot histogram in Seaborn?"
   ]
  },
  {
   "cell_type": "code",
   "execution_count": 17,
   "metadata": {
    "colab": {
     "base_uri": "https://localhost:8080/",
     "height": 297
    },
    "executionInfo": {
     "elapsed": 22,
     "status": "ok",
     "timestamp": 1676032711313,
     "user": {
      "displayName": "Suryansu Dash",
      "userId": "09229199246176341331"
     },
     "user_tz": -330
    },
    "id": "CJ89l9e1ClYB",
    "outputId": "ab42937a-ac51-41ba-9fb3-68bd7d91b4dc"
   },
   "outputs": [
    {
     "data": {
      "text/plain": [
       "<Axes: xlabel='Year', ylabel='Count'>"
      ]
     },
     "execution_count": 17,
     "metadata": {},
     "output_type": "execute_result"
    },
    {
     "data": {
      "image/png": "[encoded data removed]",
      "text/plain": [
       "<Figure size 432x288 with 1 Axes>"
      ]
     },
     "metadata": {
      "needs_background": "light"
     },
     "output_type": "display_data"
    }
   ],
   "source": [
    "sns.histplot(data['Year'], bins=10)"
   ]
  },
  {
   "cell_type": "markdown",
   "metadata": {
    "id": "FECIz8l2C078"
   },
   "source": [
    "Notice,\n",
    "\n",
    "- The boundaries are more defined than matplotlib's plotting\n",
    "- The x and y axis are labelled automatically"
   ]
  },
  {
   "cell_type": "markdown",
   "metadata": {
    "id": "CIJxGP8QBvNA"
   },
   "source": [
    "### Kernel Density Estimate (KDE) Plot\n",
    "\n",
    "- A KDE plot, similar to histrogram, is a method for visualizing the distributions\n",
    "\n",
    "\n",
    "- But instead of bars, KDE represents data using a **continuous probability density curve**\n",
    "\n",
    "\n",
    "\n",
    "#### Now, Why do we even need KDE plots?\n",
    "\n",
    "- Compared to histogram, KDE produces a plot which is **less cluttered** and **more interpretable**\n",
    "- Think of it as a **smoothened version** of histogram\n",
    "\n",
    "\n",
    "<!-- - Especially when drawing multiple distributions.  -->\n",
    "\n",
    "Let's plot KDE using `seaborn`'s `kdeplot`"
   ]
  },
  {
   "cell_type": "code",
   "execution_count": 18,
   "metadata": {
    "colab": {
     "base_uri": "https://localhost:8080/",
     "height": 297
    },
    "executionInfo": {
     "elapsed": 20,
     "status": "ok",
     "timestamp": 1676032711313,
     "user": {
      "displayName": "Suryansu Dash",
      "userId": "09229199246176341331"
     },
     "user_tz": -330
    },
    "id": "7sNAIAszBwQk",
    "outputId": "a0e06e8c-0d32-430d-c129-a4f601ace94d"
   },
   "outputs": [
    {
     "data": {
      "text/plain": [
       "<Axes: xlabel='Year', ylabel='Density'>"
      ]
     },
     "execution_count": 18,
     "metadata": {},
     "output_type": "execute_result"
    },
    {
     "data": {
      "image/png": "[encoded data removed]",
      "text/plain": [
       "<Figure size 432x288 with 1 Axes>"
      ]
     },
     "metadata": {
      "needs_background": "light"
     },
     "output_type": "display_data"
    }
   ],
   "source": [
    "sns.kdeplot(data['Year'])"
   ]
  },
  {
   "cell_type": "markdown",
   "metadata": {
    "id": "OE0pOAZdDdi6"
   },
   "source": [
    "#### Can you notice the difference between KDE and histogram?\n",
    "\n",
    "Y-Axis has **probability density estimation** instead of count\n",
    "\n",
    "You can read more about this on: \n",
    "\n",
    "https://en.wikipedia.org/wiki/Kernel_density_estimation \\\n",
    "https://www.youtube.com/watch?v=DCgPRaIDYXA\n",
    "\n"
   ]
  },
  {
   "cell_type": "markdown",
   "metadata": {
    "id": "6Wl2YR03Gyh9"
   },
   "source": [
    "### Boxplot\n",
    "\n",
    "Now say I want to find the typical earnings of a game when it is published.\n",
    "\n",
    "Or maybe find the aggregates like median, min, max and percentiles of the data.\n",
    "\n",
    "\n",
    "#### What kind of plot can we use to understand the typical earnings from a game?\n",
    "Box Plot\n",
    "\n"
   ]
  },
  {
   "cell_type": "markdown",
   "metadata": {
    "id": "U9FI_1XeDOti"
   },
   "source": [
    "\n",
    "\n",
    "#### What exactly is a Box Plot?\n",
    "- A box plot or **box-and-whisker plot** shows the **distribution of quantitative data** \n",
    "- It facilitates comparisons between \n",
    "  - attributes \n",
    "  - across levels\n",
    "of a categorical attribute. \n",
    "\n",
    "\n",
    "The **box**: Shows the **quartiles** of the dataset \n",
    "\n",
    "The **whiskers**: Show the **rest of the distribution**\n",
    "\n",
    "\n",
    "<!-- - Except for points that are determined to be \"outliers\" using a method that is a function of the **inter-quartile range**. -->\n",
    "\n",
    "\n",
    "Let's go through the terminology one-by-one\n",
    "\n",
    "\n",
    "<!-- #### What's a quartile? -->\n",
    "\n",
    "<!-- - Box plot shows distribution of numerical data and skewness through displaying the **data percentiles**, called **quartiles** -->\n",
    "\n",
    "<!-- Quartile: Data percentiles of  -->\n",
    "\n",
    "\n",
    "#### Box plots show the five-number summary of data:\n",
    "1. Minimum score, \n",
    "2. first (lower) quartile \n",
    "3. Median\n",
    "4. Third (upper) quartile\n",
    "5. maximum score\n",
    "\n",
    "#### Minimum Score\n",
    "\n",
    "- It is the **lowest value**, excluding outliers \n",
    "\n",
    "- It is shown at the **end of bottom whisker**\n",
    "\n",
    "#### Lower Quartile\n",
    "\n",
    "- **25% of values** fall below the lower quartile value\n",
    "\n",
    "- It is also known as the **first quartile**.\n",
    "\n",
    "#### Median\n",
    "\n",
    "- Median marks the **mid-point of the data** \n",
    "\n",
    "<!-- - It is shown by the **line that divides the box into two parts** -->\n",
    "\n",
    "- **Half the scores are greater than or equal to this value and half are less**.\n",
    "\n",
    "- It is sometimes known as the **second quartile**. \n",
    "\n",
    "#### Upper Quartile\n",
    "\n",
    "- **75% of the values fall below the upper quartile value**\n",
    "\n",
    "- It is also known as the **third quartile**. \n",
    "\n",
    "<!-- - So, **25% of data are above this value**. -->\n",
    "\n",
    "#### Maximum Score\n",
    "\n",
    "- It is the **highest value**, excluding outliers \n",
    "\n",
    "- It is shown at the **end of upper whisker**.\n",
    "\n",
    "#### Whiskers\n",
    "\n",
    "- The upper and lower whiskers represent **values outside the middle 50%**\n",
    "\n",
    "- That is, the **lower 25% of values** and the **upper 25% of values**.\n",
    "\n",
    "#### Interquartile Range (or IQR)\n",
    "\n",
    "- This is the box plot showing the **middle 50% of scores** \n",
    "\n",
    "- It is the **range between the 25th and 75th percentile**.\n",
    "\n",
    "\n",
    "#### Now, Let's plot a box plot to find the average typical earnings for a game"
   ]
  },
  {
   "cell_type": "code",
   "execution_count": 19,
   "metadata": {
    "colab": {
     "base_uri": "https://localhost:8080/",
     "height": 617
    },
    "executionInfo": {
     "elapsed": 19,
     "status": "ok",
     "timestamp": 1676032711314,
     "user": {
      "displayName": "Suryansu Dash",
      "userId": "09229199246176341331"
     },
     "user_tz": -330
    },
    "id": "TG-zrlpCCcdq",
    "outputId": "e0abdcc2-5c41-4f04-93ec-cecf98d7b336"
   },
   "outputs": [
    {
     "data": {
      "text/plain": [
       "Text(0.5, 1.0, 'Global Sales of video games')"
      ]
     },
     "execution_count": 19,
     "metadata": {},
     "output_type": "execute_result"
    },
    {
     "data": {
      "image/png": "[encoded data removed]",
      "text/plain": [
       "<Figure size 1080x720 with 1 Axes>"
      ]
     },
     "metadata": {
      "needs_background": "light"
     },
     "output_type": "display_data"
    }
   ],
   "source": [
    "plt.figure(figsize=(15,10))\n",
    "sns.boxplot(y = data[\"Global_Sales\"])\n",
    "plt.yticks(fontsize=20)\n",
    "plt.ylabel('Global Sales (in million dollars)', fontsize=20)\n",
    "plt.title('Global Sales of video games', fontsize=20)"
   ]
  },
  {
   "cell_type": "markdown",
   "metadata": {
    "id": "A4GP21IkWD5u"
   },
   "source": [
    "What can we infer from this?\n",
    "\n",
    "The 5 point estimates (approx.) here are:\n",
    "  - Minimum, excluding outliers: 0\n",
    "  - Maximum, excluding outliers: 20 million dollars\n",
    "  - 25th Quantile: 6 million\n",
    "  - Median: around 7 million\n",
    "  - 75th Quantile: 12 million\n",
    "\n",
    "<!-- The outliers always will appear either below the minimum or above the maximum -->\n",
    "\n",
    "There are quite a few outliers above 20 million dollars, represented by black diamonds"
   ]
  },
  {
   "cell_type": "markdown",
   "metadata": {
    "id": "PdfMIkWfnkh5"
   },
   "source": [
    "Key Takeaways:\n",
    "\n",
    "Categorical - Barplot, Pie Chart\n",
    "\n",
    "Numerical - Histogram, KDE, Boxplot \n",
    "\n",
    "Can explore more types: Violin plot, bee-swarm plot, etc.\n",
    "\n",
    "\n"
   ]
  },
  {
   "cell_type": "code",
   "execution_count": null,
   "metadata": {},
   "outputs": [],
   "source": []
  },
  {
   "cell_type": "code",
   "execution_count": null,
   "metadata": {},
   "outputs": [],
   "source": []
  }
 ],
 "metadata": {
  "colab": {
   "collapsed_sections": [
    "2d8812bf",
    "11Dr_W_3amLs",
    "4EU_MB-36vLh",
    "biW_v9aVFbnd"
   ],
   "provenance": []
  },
  "kernelspec": {
   "display_name": "Python 3 (ipykernel)",
   "language": "python",
   "name": "python3"
  },
  "language_info": {
   "codemirror_mode": {
    "name": "ipython",
    "version": 3
   },
   "file_extension": ".py",
   "mimetype": "text/x-python",
   "name": "python",
   "nbconvert_exporter": "python",
   "pygments_lexer": "ipython3",
   "version": "3.9.12"
  }
 },
 "nbformat": 4,
 "nbformat_minor": 4
}
