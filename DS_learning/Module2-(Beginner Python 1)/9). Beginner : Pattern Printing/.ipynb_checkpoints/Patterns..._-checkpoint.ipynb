{
 "cells": [
  {
   "cell_type": "markdown",
   "id": "d842ecf2",
   "metadata": {},
   "source": [
    "# Q"
   ]
  },
  {
   "cell_type": "code",
   "execution_count": null,
   "id": "3e4dbea3",
   "metadata": {},
   "outputs": [],
   "source": [
    "# 1 n= \n",
    "\" * * * *\n",
    "  * * * *\n",
    "  * * * * \n",
    "  * * * *\""
   ]
  },
  {
   "cell_type": "code",
   "execution_count": 1,
   "id": "ecfbac64",
   "metadata": {},
   "outputs": [
    {
     "name": "stdout",
     "output_type": "stream",
     "text": [
      "Enter the N value 3\n",
      "*\n",
      "*\n",
      "*\n"
     ]
    }
   ],
   "source": [
    "n = int(input(\"Enter the N value \"))\n",
    "for i in range(n):\n",
    "    print(\"*\")"
   ]
  },
  {
   "cell_type": "code",
   "execution_count": 2,
   "id": "669f8a22",
   "metadata": {},
   "outputs": [
    {
     "data": {
      "text/plain": [
       "'Shutup..!Shutup..!Shutup..!Shutup..!Shutup..!'"
      ]
     },
     "execution_count": 2,
     "metadata": {},
     "output_type": "execute_result"
    }
   ],
   "source": [
    "\"Shutup..!\"*5"
   ]
  },
  {
   "cell_type": "code",
   "execution_count": 4,
   "id": "36ca9711",
   "metadata": {},
   "outputs": [
    {
     "data": {
      "text/plain": [
       "'* * * '"
      ]
     },
     "execution_count": 4,
     "metadata": {},
     "output_type": "execute_result"
    }
   ],
   "source": [
    "\"* \"*3"
   ]
  },
  {
   "cell_type": "code",
   "execution_count": 7,
   "id": "b61791a6",
   "metadata": {},
   "outputs": [
    {
     "name": "stdout",
     "output_type": "stream",
     "text": [
      "Enter the N value 5\n",
      "* * * * * \n",
      "* * * * * \n",
      "* * * * * \n",
      "* * * * * \n",
      "* * * * * \n"
     ]
    }
   ],
   "source": [
    "n = int(input(\"Enter the N value \"))\n",
    "for i in range(n):\n",
    "    print(\"* \"*n)"
   ]
  },
  {
   "cell_type": "code",
   "execution_count": 8,
   "id": "24778bee",
   "metadata": {},
   "outputs": [
    {
     "name": "stdout",
     "output_type": "stream",
     "text": [
      "Enter the N value 3\n",
      "*\n",
      "*\n",
      "*\n",
      "*\n",
      "*\n",
      "*\n",
      "*\n",
      "*\n",
      "*\n"
     ]
    }
   ],
   "source": [
    "n = int(input(\"Enter the N value \"))\n",
    "for i in range(n):\n",
    "    for j in range(n):\n",
    "        print(\"*\")"
   ]
  },
  {
   "cell_type": "code",
   "execution_count": 12,
   "id": "4e53ede3",
   "metadata": {},
   "outputs": [
    {
     "name": "stdout",
     "output_type": "stream",
     "text": [
      "Hello\n",
      "World\n"
     ]
    }
   ],
   "source": [
    "print(\"Hello\")\n",
    "print(\"World\")"
   ]
  },
  {
   "cell_type": "code",
   "execution_count": 13,
   "id": "8faec21f",
   "metadata": {},
   "outputs": [
    {
     "name": "stdout",
     "output_type": "stream",
     "text": [
      "Hello World\n"
     ]
    }
   ],
   "source": [
    "print(\"Hello\",end=\" \")\n",
    "print(\"World\")"
   ]
  },
  {
   "cell_type": "code",
   "execution_count": 14,
   "id": "7b291906",
   "metadata": {},
   "outputs": [
    {
     "name": "stdout",
     "output_type": "stream",
     "text": [
      "Enter the N value 5\n",
      "* * * * * * * * * * * * * * * * * * * * * * * * * "
     ]
    }
   ],
   "source": [
    "n = int(input(\"Enter the N value \"))\n",
    "for i in range(n):\n",
    "    for j in range(n):\n",
    "        print(\"*\", end=\" \")"
   ]
  },
  {
   "cell_type": "code",
   "execution_count": 10,
   "id": "aade2fb7",
   "metadata": {},
   "outputs": [
    {
     "name": "stdout",
     "output_type": "stream",
     "text": [
      "Enter the N value 5\n",
      "* * * * * \n",
      "* * * * * \n",
      "* * * * * \n",
      "* * * * * \n",
      "* * * * * \n"
     ]
    }
   ],
   "source": [
    "n = int(input(\"Enter the N value \"))\n",
    "for i in range(n): #rows\n",
    "    for j in range(n):#columns\n",
    "        print(\"*\",end =\" \")\n",
    "    print(end = \"\\n\")\n",
    "    #print()"
   ]
  },
  {
   "cell_type": "code",
   "execution_count": null,
   "id": "663f3444",
   "metadata": {},
   "outputs": [],
   "source": []
  },
  {
   "cell_type": "code",
   "execution_count": null,
   "id": "18ec54e9",
   "metadata": {},
   "outputs": [],
   "source": [
    "# 1 n= 4\n",
    "\" 1 1 1 1\n",
    "  2 2 2 2\n",
    "  3 3 3 3 \n",
    "  4 4 4 4\""
   ]
  },
  {
   "cell_type": "code",
   "execution_count": 16,
   "id": "80c7fddb",
   "metadata": {},
   "outputs": [
    {
     "name": "stdout",
     "output_type": "stream",
     "text": [
      "Enter the N value 5\n",
      "1 1 1 1 1 \n",
      "2 2 2 2 2 \n",
      "3 3 3 3 3 \n",
      "4 4 4 4 4 \n",
      "5 5 5 5 5 \n"
     ]
    }
   ],
   "source": [
    "n = int(input(\"Enter the N value \"))\n",
    "for i in range(n): #rows 01,2,3,4\n",
    "    for j in range(n):#columns\n",
    "        print(i+1,end =\" \")\n",
    "    print(end = \"\\n\")\n",
    "    #print()"
   ]
  },
  {
   "cell_type": "code",
   "execution_count": null,
   "id": "cfaac625",
   "metadata": {},
   "outputs": [],
   "source": [
    "# 1 n= 4\n",
    "\" *\n",
    "  * *\n",
    "  * * * \n",
    "  * * * *\""
   ]
  },
  {
   "cell_type": "code",
   "execution_count": 17,
   "id": "e74697c2",
   "metadata": {},
   "outputs": [
    {
     "name": "stdout",
     "output_type": "stream",
     "text": [
      "Enter the N value 5\n",
      "* \n",
      "* * \n",
      "* * * \n",
      "* * * * \n",
      "* * * * * \n"
     ]
    }
   ],
   "source": [
    "n = int(input(\"Enter the N value \"))\n",
    "for i in range(n): #rows\n",
    "    for j in range(i+1):#columns\n",
    "        print(\"*\",end =\" \")\n",
    "    print(end = \"\\n\")\n",
    "    #print()"
   ]
  },
  {
   "cell_type": "code",
   "execution_count": null,
   "id": "7621021a",
   "metadata": {},
   "outputs": [],
   "source": [
    "*\n",
    "*2\n",
    "*2*\n",
    "*2*4\n",
    "*2*4*\n",
    "*2*4*6\n",
    "*2*4*6*\n",
    "*2*4*6*8\n",
    "*2*4*6*8*\n",
    "*2*4*6*8*10"
   ]
  },
  {
   "cell_type": "code",
   "execution_count": 20,
   "id": "f01d06ff",
   "metadata": {},
   "outputs": [
    {
     "name": "stdout",
     "output_type": "stream",
     "text": [
      "Enter the N value 10\n",
      "0 \n",
      "0 * \n",
      "0 * 2 \n",
      "0 * 2 * \n",
      "0 * 2 * 4 \n",
      "0 * 2 * 4 * \n",
      "0 * 2 * 4 * 6 \n",
      "0 * 2 * 4 * 6 * \n",
      "0 * 2 * 4 * 6 * 8 \n",
      "0 * 2 * 4 * 6 * 8 * \n"
     ]
    }
   ],
   "source": [
    "n = int(input(\"Enter the N value \"))\n",
    "for i in range(n): #rows\n",
    "    for j in range(i+1):#columns\n",
    "        if j%2==0:#even\n",
    "            print(j,end =\" \")\n",
    "        else:\n",
    "            print(\"*\",end=\" \")\n",
    "    print(end = \"\\n\")\n",
    "    #print()"
   ]
  },
  {
   "cell_type": "code",
   "execution_count": 24,
   "id": "3a7e9012",
   "metadata": {},
   "outputs": [
    {
     "name": "stdout",
     "output_type": "stream",
     "text": [
      "Enter the N value 10\n",
      "*\n",
      "*2\n",
      "*2*\n",
      "*2*4\n",
      "*2*4*\n",
      "*2*4*6\n",
      "*2*4*6*\n",
      "*2*4*6*8\n",
      "*2*4*6*8*\n",
      "*2*4*6*8*10\n"
     ]
    }
   ],
   "source": [
    "n = int(input(\"Enter the N value \"))\n",
    "for i in range(1,n+1): #rows\n",
    "    for j in range(1,i+1):#columns\n",
    "        if j%2==0:#even\n",
    "            print(j,end =\"\")\n",
    "        else:\n",
    "            print(\"*\",end=\"\")\n",
    "    print(end = \"\\n\")\n",
    "    #print()"
   ]
  },
  {
   "cell_type": "code",
   "execution_count": null,
   "id": "2a8b31f1",
   "metadata": {},
   "outputs": [],
   "source": [
    "*\n",
    "*2\n",
    "*2*\n",
    "*2*4\n",
    "*2*4*\n",
    "*2*4*6\n",
    "*2*4*6*\n",
    "*2*4*6*8\n",
    "*2*4*6*8*\n",
    "*2*4*6*8*10"
   ]
  },
  {
   "cell_type": "code",
   "execution_count": null,
   "id": "0f7ebb19",
   "metadata": {},
   "outputs": [],
   "source": [
    "## **Question-2: Print the following pattern**\n",
    "\n",
    "```\n",
    "1\n",
    "12\n",
    "123\n",
    "1234\n",
    "12345\n",
    "```"
   ]
  },
  {
   "cell_type": "code",
   "execution_count": 29,
   "id": "a6ef3ec7",
   "metadata": {},
   "outputs": [
    {
     "name": "stdout",
     "output_type": "stream",
     "text": [
      "Enter the N value 6\n",
      "1 \n",
      "1 2 \n",
      "1 2 3 \n",
      "1 2 3 4 \n",
      "1 2 3 4 5 \n",
      "1 2 3 4 5 6 \n"
     ]
    }
   ],
   "source": [
    "n = int(input(\"Enter the N value \"))\n",
    "for i in range(n): #rows\n",
    "    for j in range(1,i+1+1):#columns\n",
    "        print(j,end =\" \")\n",
    "    print(end = \"\\n\")\n",
    "    #print()"
   ]
  },
  {
   "cell_type": "code",
   "execution_count": null,
   "id": "e86c64e5",
   "metadata": {},
   "outputs": [],
   "source": [
    "*****\n",
    "****\n",
    "***\n",
    "**\n",
    "*"
   ]
  },
  {
   "cell_type": "code",
   "execution_count": 31,
   "id": "5933011f",
   "metadata": {},
   "outputs": [
    {
     "name": "stdout",
     "output_type": "stream",
     "text": [
      "Enter the N value 10\n",
      "* * * * * * * * * * \n",
      "\n",
      "* * * * * * * * * \n",
      "\n",
      "* * * * * * * * \n",
      "\n",
      "* * * * * * * \n",
      "\n",
      "* * * * * * \n",
      "\n",
      "* * * * * \n",
      "\n",
      "* * * * \n",
      "\n",
      "* * * \n",
      "\n",
      "* * \n",
      "\n",
      "* \n",
      "\n"
     ]
    }
   ],
   "source": [
    "n = int(input(\"Enter the N value \"))\n",
    "for i in range(n):\n",
    "    for j in range(n-i):\n",
    "        print(\"*\",end=\" \")\n",
    "    print(\"\\n\")"
   ]
  },
  {
   "cell_type": "code",
   "execution_count": null,
   "id": "1476b4ce",
   "metadata": {},
   "outputs": [],
   "source": [
    "    *\n",
    "   **\n",
    "  ***\n",
    " ****\n",
    "*****"
   ]
  },
  {
   "cell_type": "code",
   "execution_count": 36,
   "id": "4c14252f",
   "metadata": {},
   "outputs": [
    {
     "name": "stdout",
     "output_type": "stream",
     "text": [
      "Enter the N value 5\n",
      "    *\n",
      "\n",
      "   **\n",
      "\n",
      "  ***\n",
      "\n",
      " ****\n",
      "\n",
      "*****\n",
      "\n"
     ]
    }
   ],
   "source": [
    "n = int(input(\"Enter the N value \"))\n",
    "for i in range(n):\n",
    "    for j in range(n-i-1): #no of spaces - n-i-1\n",
    "        print(\" \",end=\"\")\n",
    "        \n",
    "    for k in range(i+1):# no of stars\n",
    "        print(\"*\",end=\"\")\n",
    "    print(\"\\n\")"
   ]
  },
  {
   "cell_type": "code",
   "execution_count": null,
   "id": "a5865004",
   "metadata": {},
   "outputs": [],
   "source": [
    "7777777\n",
    "7666667\n",
    "7655567\n",
    "7654567\n",
    "7655567\n",
    "7666667\n",
    "7777777"
   ]
  },
  {
   "cell_type": "code",
   "execution_count": 38,
   "id": "e44bba34",
   "metadata": {},
   "outputs": [
    {
     "name": "stdout",
     "output_type": "stream",
     "text": [
      "Enter the N value 7\n",
      "7 7 7 7 7 7 7 \n",
      "7 6 6 6 6 6 7 \n",
      "7 6 5 5 5 6 7 \n",
      "7 6 5 4 5 6 7 \n",
      "7 6 5 5 5 6 7 \n",
      "7 6 6 6 6 6 7 \n",
      "7 7 7 7 7 7 7 \n"
     ]
    }
   ],
   "source": [
    "n = int(input(\"Enter the N value \"))\n",
    "for i in range(n): #rows\n",
    "    for j in range(n):#columns\n",
    "        print(max(i,j,n-i-1,n-j-1)+1,end =\" \")\n",
    "    print(end = \"\\n\")\n",
    "    #print()"
   ]
  },
  {
   "cell_type": "code",
   "execution_count": null,
   "id": "77d8d0f9",
   "metadata": {},
   "outputs": [],
   "source": [
    "https://www.anaconda.com/download#downloads"
   ]
  },
  {
   "cell_type": "code",
   "execution_count": null,
   "id": "02ea8acc",
   "metadata": {},
   "outputs": [],
   "source": [
    "Hello,\n",
    "Python Learners\n",
    "From Our last Session here are some more coding practice questions specifically focused on using the `break`, `continue`, and `pass` statements in Python:\n",
    "Question 1:\n",
    "Write a Python program that prompts the user to enter a series of numbers. The program should keep accepting numbers until the user enters a negative number. Once a negative number is entered, the program should calculate and display the sum of all the positive numbers entered. Use the `break` statement to exit the loop when a negative number is encountered.\n",
    "Question 2:\n",
    "Write a Python program that prints the first 10 even numbers using a `for` loop. However, if the number is divisible by 6, skip that number using the `continue` statement.\n",
    "Question 3:\n",
    "Write a Python program that prints the numbers from 1 to 20, but for multiples of 5, print \"Fizz\" instead of the number. For multiples of 7, print \"Buzz\". For numbers that are multiples of both 5 and 7, print \"FizzBuzz\". Use the `continue` statement to skip the iteration for other numbers.\n",
    "Question 4:\n",
    "Write a Python program that prints all prime numbers between 1 and 100. Use a `for` loop and the `pass` statement to implement the prime number checking logic.\n",
    "Question 5:\n",
    "Write a Python program that asks the user to enter a series of words. The program should keep accepting words until the user enters the word \"quit\". Once the user enters \"quit\", the program should print all the words entered before \"quit\" and exit the loop. Use the `break` statement to terminate the loop."
   ]
  }
 ],
 "metadata": {
  "kernelspec": {
   "display_name": "Python 3 (ipykernel)",
   "language": "python",
   "name": "python3"
  },
  "language_info": {
   "codemirror_mode": {
    "name": "ipython",
    "version": 3
   },
   "file_extension": ".py",
   "mimetype": "text/x-python",
   "name": "python",
   "nbconvert_exporter": "python",
   "pygments_lexer": "ipython3",
   "version": "3.10.9"
  }
 },
 "nbformat": 4,
 "nbformat_minor": 5
}
