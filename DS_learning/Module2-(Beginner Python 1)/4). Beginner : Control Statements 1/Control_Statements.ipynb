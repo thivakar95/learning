{
  "nbformat": 4,
  "nbformat_minor": 0,
  "metadata": {
    "colab": {
      "provenance": []
    },
    "kernelspec": {
      "name": "python3",
      "display_name": "Python 3"
    },
    "language_info": {
      "name": "python"
    }
  },
  "cells": [
    {
      "cell_type": "code",
      "execution_count": 1,
      "metadata": {
        "colab": {
          "base_uri": "https://localhost:8080/"
        },
        "id": "Mz6P1wY4sKUc",
        "outputId": "3605c910-04c0-4a00-e928-3ff4c6cd59a9"
      },
      "outputs": [
        {
          "output_type": "execute_result",
          "data": {
            "text/plain": [
              "True"
            ]
          },
          "metadata": {},
          "execution_count": 1
        }
      ],
      "source": [
        "marks = 45\n",
        "marks>=35 #greater than equal"
      ]
    },
    {
      "cell_type": "code",
      "source": [
        "marks>=35 and marks>50"
      ],
      "metadata": {
        "colab": {
          "base_uri": "https://localhost:8080/"
        },
        "id": "pyUHHm04sSmK",
        "outputId": "9931f333-8754-417a-ce07-b77203f42831"
      },
      "execution_count": 2,
      "outputs": [
        {
          "output_type": "execute_result",
          "data": {
            "text/plain": [
              "False"
            ]
          },
          "metadata": {},
          "execution_count": 2
        }
      ]
    },
    {
      "cell_type": "code",
      "source": [
        "gender = 'male'\n",
        "gender =='male' or gender ==\"female\""
      ],
      "metadata": {
        "colab": {
          "base_uri": "https://localhost:8080/"
        },
        "id": "pq7ej7CKsnnP",
        "outputId": "444941e5-e515-4058-a95f-69632ab55e73"
      },
      "execution_count": 3,
      "outputs": [
        {
          "output_type": "execute_result",
          "data": {
            "text/plain": [
              "True"
            ]
          },
          "metadata": {},
          "execution_count": 3
        }
      ]
    },
    {
      "cell_type": "code",
      "source": [
        "#atm 500 and 200 notes\n",
        "#amount 1200\n",
        "#can I withdraw the amount"
      ],
      "metadata": {
        "id": "kfairI_YtJy-"
      },
      "execution_count": null,
      "outputs": []
    },
    {
      "cell_type": "code",
      "source": [
        "amount = int(input(\"Enter your amount\"))\n",
        "amount%500==0 or amount%200==0"
      ],
      "metadata": {
        "colab": {
          "base_uri": "https://localhost:8080/"
        },
        "id": "ZPn-0EnKvZom",
        "outputId": "e059d1b3-278a-4563-8e0d-d56c897554c1"
      },
      "execution_count": 9,
      "outputs": [
        {
          "name": "stdout",
          "output_type": "stream",
          "text": [
            "Enter your amount1700\n"
          ]
        },
        {
          "output_type": "execute_result",
          "data": {
            "text/plain": [
              "False"
            ]
          },
          "metadata": {},
          "execution_count": 9
        }
      ]
    },
    {
      "cell_type": "code",
      "source": [],
      "metadata": {
        "id": "RrhONuzhvbod"
      },
      "execution_count": null,
      "outputs": []
    },
    {
      "cell_type": "code",
      "source": [
        "not True"
      ],
      "metadata": {
        "colab": {
          "base_uri": "https://localhost:8080/"
        },
        "id": "iNEPYJMnwPWn",
        "outputId": "b14286cf-0210-4081-c8d0-7c96ab3f3abe"
      },
      "execution_count": 10,
      "outputs": [
        {
          "output_type": "execute_result",
          "data": {
            "text/plain": [
              "False"
            ]
          },
          "metadata": {},
          "execution_count": 10
        }
      ]
    },
    {
      "cell_type": "code",
      "source": [
        "not False"
      ],
      "metadata": {
        "colab": {
          "base_uri": "https://localhost:8080/"
        },
        "id": "en2G4aK8walt",
        "outputId": "f4ede214-6321-4296-f1b7-0e144490efa5"
      },
      "execution_count": 11,
      "outputs": [
        {
          "output_type": "execute_result",
          "data": {
            "text/plain": [
              "True"
            ]
          },
          "metadata": {},
          "execution_count": 11
        }
      ]
    },
    {
      "cell_type": "code",
      "source": [
        "not 24<35"
      ],
      "metadata": {
        "colab": {
          "base_uri": "https://localhost:8080/"
        },
        "id": "-eWCQeN-wcif",
        "outputId": "3c1cebad-da62-4f69-c0ae-4c2c7eac2fa6"
      },
      "execution_count": 12,
      "outputs": [
        {
          "output_type": "execute_result",
          "data": {
            "text/plain": [
              "False"
            ]
          },
          "metadata": {},
          "execution_count": 12
        }
      ]
    },
    {
      "cell_type": "markdown",
      "source": [
        "# **CONTROL STATEMENTS**"
      ],
      "metadata": {
        "id": "qHKCuk8xzu6j"
      }
    },
    {
      "cell_type": "code",
      "source": [
        "x =10\n",
        "if x>9 and x<12:\n",
        "  print(\"Good Morning\")\n",
        "  print(\"dancing\")\n",
        "  print(\"On the chair\")\n",
        "\n",
        "print(\"Satwik\")\n"
      ],
      "metadata": {
        "colab": {
          "base_uri": "https://localhost:8080/"
        },
        "id": "UG9lexMOwimp",
        "outputId": "e877524a-043b-4a90-a361-4649ac65b546"
      },
      "execution_count": 14,
      "outputs": [
        {
          "output_type": "stream",
          "name": "stdout",
          "text": [
            "Good Morning\n",
            "dancing\n",
            "On the chair\n",
            "Satwik\n"
          ]
        }
      ]
    },
    {
      "cell_type": "code",
      "source": [
        "x =2\n",
        "if x>9 and x<12:\n",
        "  print(\"Good Morning\")\n",
        "  print(\"dancing\")\n",
        "  print(\"On the chair\")\n",
        "  print(\"Satwik\")\n",
        "else:\n",
        "  print(\"It not morning\")"
      ],
      "metadata": {
        "colab": {
          "base_uri": "https://localhost:8080/"
        },
        "id": "DTbAji-t0QTt",
        "outputId": "aace6307-0085-4152-912b-7247e7967e0d"
      },
      "execution_count": 16,
      "outputs": [
        {
          "output_type": "stream",
          "name": "stdout",
          "text": [
            "It not morning\n"
          ]
        }
      ]
    },
    {
      "cell_type": "code",
      "source": [
        "if True:\n",
        "  #Run these statements\n",
        "else:\n",
        "  #Run these statements\n",
        "# Run these always"
      ],
      "metadata": {
        "id": "5LEtuzji0m56"
      },
      "execution_count": null,
      "outputs": []
    },
    {
      "cell_type": "code",
      "source": [
        "x =2\n",
        "if x>9 and x<12:\n",
        "  print(\"Good Morning\")\n",
        "  print(\"dancing\")\n",
        "print(\"On the chair\")\n",
        "  print(\"Satwik\")\n",
        "else:\n",
        "  print(\"It not morning\")"
      ],
      "metadata": {
        "colab": {
          "base_uri": "https://localhost:8080/",
          "height": 133
        },
        "id": "TiCVncoH10c_",
        "outputId": "e75613f1-16c0-4d59-e844-c633c3caaf50"
      },
      "execution_count": 17,
      "outputs": [
        {
          "output_type": "error",
          "ename": "IndentationError",
          "evalue": "ignored",
          "traceback": [
            "\u001b[0;36m  File \u001b[0;32m\"<ipython-input-17-6c88d57130b6>\"\u001b[0;36m, line \u001b[0;32m6\u001b[0m\n\u001b[0;31m    print(\"Satwik\")\u001b[0m\n\u001b[0m    ^\u001b[0m\n\u001b[0;31mIndentationError\u001b[0m\u001b[0;31m:\u001b[0m unexpected indent\n"
          ]
        }
      ]
    },
    {
      "cell_type": "code",
      "source": [
        "x =10\n",
        "if x>9 and x<12:\n",
        "  print(\"Good Morning\")\n",
        "  print(\"dancing\")\n",
        "  print(\"Satwik\")\n",
        "else:\n",
        "  print(\"It not morning\")\n",
        "print(\"on the chair\")\n",
        "  print(\"on the chair\")"
      ],
      "metadata": {
        "colab": {
          "base_uri": "https://localhost:8080/",
          "height": 133
        },
        "id": "Wa8E740U2AII",
        "outputId": "fcde6e6c-3c1e-4bc2-f3e9-028e69b4f01c"
      },
      "execution_count": 20,
      "outputs": [
        {
          "output_type": "error",
          "ename": "IndentationError",
          "evalue": "ignored",
          "traceback": [
            "\u001b[0;36m  File \u001b[0;32m\"<ipython-input-20-9303aae7d0d3>\"\u001b[0;36m, line \u001b[0;32m9\u001b[0m\n\u001b[0;31m    print(\"on the chair\")\u001b[0m\n\u001b[0m    ^\u001b[0m\n\u001b[0;31mIndentationError\u001b[0m\u001b[0;31m:\u001b[0m unexpected indent\n"
          ]
        }
      ]
    },
    {
      "cell_type": "code",
      "source": [
        "a=2\n",
        "result = a ** 5\n",
        "if result > 25:\n",
        "  print(\"That is massive!\")\n",
        "else:\n",
        "  print(\"pretty small!\")\n",
        "print(\"complete\")"
      ],
      "metadata": {
        "colab": {
          "base_uri": "https://localhost:8080/"
        },
        "id": "qLoIrGbX2dAC",
        "outputId": "a325c3d5-9c41-4415-d429-5056b9375da7"
      },
      "execution_count": 21,
      "outputs": [
        {
          "output_type": "stream",
          "name": "stdout",
          "text": [
            "That is massive!\n",
            "complete\n"
          ]
        }
      ]
    },
    {
      "cell_type": "code",
      "source": [
        "Q take the password from user -\n",
        "compare with actual password and return valid or invalid"
      ],
      "metadata": {
        "id": "2EPPWVRe3YGI"
      },
      "execution_count": null,
      "outputs": []
    },
    {
      "cell_type": "code",
      "source": [
        "original_pass = \"nahi_bataunga\"\n",
        "password = input(\"Enterr yourt password \")\n",
        "if original_pass==password:\n",
        "  print(\"Valid\")\n",
        "else:\n",
        "  print(\"Invalid\")"
      ],
      "metadata": {
        "colab": {
          "base_uri": "https://localhost:8080/"
        },
        "id": "Jpga4oA15MYF",
        "outputId": "e12e33c5-2b62-4e43-c5d6-066e60211c05"
      },
      "execution_count": 23,
      "outputs": [
        {
          "output_type": "stream",
          "name": "stdout",
          "text": [
            "Enterr yourt password nahi_bataunga\n",
            "Valid\n"
          ]
        }
      ]
    },
    {
      "cell_type": "code",
      "source": [
        "Question-2 ATM Dispatch\n",
        "500 and 200 Rs notes are available\n",
        "Take amount from user, if amount dischargeable, print(\"Discharging cash\")\n",
        "Else, print(\"Denomination not available\")"
      ],
      "metadata": {
        "id": "fnd2RrLk5a4x"
      },
      "execution_count": null,
      "outputs": []
    },
    {
      "cell_type": "code",
      "source": [
        "amount=int(input())\n",
        "if amount%500==0 or amount%200==0 or (amount%500)%200==0 or (amount-500)%200==0:\n",
        "  print(\"Discharging Notes\")\n",
        "else:\n",
        "  print(\"Not valid\")"
      ],
      "metadata": {
        "colab": {
          "base_uri": "https://localhost:8080/"
        },
        "id": "YE86Tkb083Gy",
        "outputId": "280b0fb5-e23e-4d1a-f622-e22e3fe1f5e2"
      },
      "execution_count": 40,
      "outputs": [
        {
          "output_type": "stream",
          "name": "stdout",
          "text": [
            "1300\n",
            "Discharging Notes\n"
          ]
        }
      ]
    },
    {
      "cell_type": "code",
      "source": [
        "70"
      ],
      "metadata": {
        "colab": {
          "base_uri": "https://localhost:8080/"
        },
        "id": "cPFyd8D097AD",
        "outputId": "5878927b-685c-4eed-d9f0-669d3bd53f2d"
      },
      "execution_count": 26,
      "outputs": [
        {
          "output_type": "execute_result",
          "data": {
            "text/plain": [
              "70"
            ]
          },
          "metadata": {},
          "execution_count": 26
        }
      ]
    },
    {
      "cell_type": "code",
      "source": [],
      "metadata": {
        "id": "cmmESkiB9-Zp"
      },
      "execution_count": null,
      "outputs": []
    },
    {
      "cell_type": "markdown",
      "source": [
        "## **Greeting in 24hr format**\n"
      ],
      "metadata": {
        "id": "TNNh8364-5Hl"
      }
    },
    {
      "cell_type": "code",
      "source": [
        "time = int(input())\n",
        "if time > 9 and time <= 12:\n",
        "  print(\"GM\")\n",
        "else:\n",
        "  if time>12 and time<=17:\n",
        "    print(\"GA\")\n",
        "  else:\n",
        "    if time>17 and time<=24:\n",
        "      print(\"GN\")\n",
        "    else:\n",
        "      print(\"SOja....!\")\n"
      ],
      "metadata": {
        "colab": {
          "base_uri": "https://localhost:8080/"
        },
        "id": "QnGSASum-5uV",
        "outputId": "f2370348-d609-4577-dd2e-7d6683a67cf9"
      },
      "execution_count": 34,
      "outputs": [
        {
          "output_type": "stream",
          "name": "stdout",
          "text": [
            "13\n",
            "GA\n"
          ]
        }
      ]
    },
    {
      "cell_type": "code",
      "source": [
        "time = int(input())\n",
        "if time > 9 and time <= 12:\n",
        "  print(\"GM\")\n",
        "elif time>12 and time<=17:\n",
        "  print(\"GA\")\n",
        "elif time>17 and time<=24:\n",
        "  print(\"GN\")\n",
        "else:\n",
        "  print(\"SOja....!\")"
      ],
      "metadata": {
        "colab": {
          "base_uri": "https://localhost:8080/"
        },
        "id": "Q-j30A6WAX_k",
        "outputId": "47ace191-7208-4ec3-f0fb-ec020dc1d892"
      },
      "execution_count": 35,
      "outputs": [
        {
          "output_type": "stream",
          "name": "stdout",
          "text": [
            "4\n",
            "SOja....!\n"
          ]
        }
      ]
    },
    {
      "cell_type": "code",
      "source": [
        "if condition1:\n",
        "  this\n",
        "elif condition2:\n",
        "  this\n",
        "else:\n",
        "  this"
      ],
      "metadata": {
        "id": "Fy1_isw_A8pM"
      },
      "execution_count": null,
      "outputs": []
    },
    {
      "cell_type": "code",
      "source": [
        "marks = 56\n",
        "if marks>=75:\n",
        "  print(\"1st class\")\n",
        "if marks>=50:\n",
        "  print(\"2nd class\")\n",
        "if marks>=35:\n",
        "  print(\"3rd class\")\n",
        "else:\n",
        "  print(\"Not passed\")"
      ],
      "metadata": {
        "colab": {
          "base_uri": "https://localhost:8080/"
        },
        "id": "Gxhxa34OBsK0",
        "outputId": "cb18eb9f-6b90-4e98-b54a-b67f0fced8c5"
      },
      "execution_count": 37,
      "outputs": [
        {
          "output_type": "stream",
          "name": "stdout",
          "text": [
            "2nd class\n",
            "3rd class\n"
          ]
        }
      ]
    },
    {
      "cell_type": "code",
      "source": [
        "marks = 87\n",
        "if marks>=75:\n",
        "  print(\"1st class\")\n",
        "elif marks>=50:\n",
        "  print(\"2nd class\")\n",
        "elif marks>=35:\n",
        "  print(\"3rd class\")\n",
        "else:\n",
        "  print(\"Not passed\")"
      ],
      "metadata": {
        "colab": {
          "base_uri": "https://localhost:8080/"
        },
        "id": "XClTZoh5CIQB",
        "outputId": "f294a09f-47b5-4d04-a223-1cb2129079db"
      },
      "execution_count": 39,
      "outputs": [
        {
          "output_type": "stream",
          "name": "stdout",
          "text": [
            "1st class\n"
          ]
        }
      ]
    },
    {
      "cell_type": "code",
      "source": [],
      "metadata": {
        "id": "_zo_XLweCt2i"
      },
      "execution_count": null,
      "outputs": []
    }
  ]
}