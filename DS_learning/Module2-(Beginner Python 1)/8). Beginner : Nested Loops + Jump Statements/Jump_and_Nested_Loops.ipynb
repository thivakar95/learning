{
 "cells": [
  {
   "cell_type": "code",
   "execution_count": 1,
   "id": "106e0c39",
   "metadata": {},
   "outputs": [
    {
     "name": "stdout",
     "output_type": "stream",
     "text": [
      "1\n",
      "3\n",
      "5\n",
      "7\n",
      "9\n",
      "11\n",
      "13\n",
      "15\n",
      "17\n",
      "19\n"
     ]
    }
   ],
   "source": [
    "#Task is to print odd numbers\n",
    "for i in range(1,20):\n",
    "    if i%2==0: #even\n",
    "        pass\n",
    "    else:\n",
    "        print(i)"
   ]
  },
  {
   "cell_type": "markdown",
   "id": "89c757fb",
   "metadata": {},
   "source": [
    "# Placeholder - pass"
   ]
  },
  {
   "cell_type": "code",
   "execution_count": 2,
   "id": "714bb019",
   "metadata": {},
   "outputs": [
    {
     "ename": "IndentationError",
     "evalue": "expected an indented block after 'if' statement on line 3 (1856234613.py, line 5)",
     "output_type": "error",
     "traceback": [
      "\u001b[1;36m  File \u001b[1;32m\"C:\\Users\\AKASH\\AppData\\Local\\Temp\\ipykernel_8140\\1856234613.py\"\u001b[1;36m, line \u001b[1;32m5\u001b[0m\n\u001b[1;33m    else:\u001b[0m\n\u001b[1;37m    ^\u001b[0m\n\u001b[1;31mIndentationError\u001b[0m\u001b[1;31m:\u001b[0m expected an indented block after 'if' statement on line 3\n"
     ]
    }
   ],
   "source": [
    "#Task is to print odd numbers\n",
    "for i in range(1,20):\n",
    "    if i%2==0: #even\n",
    "        \n",
    "    else:\n",
    "        print(i)"
   ]
  },
  {
   "cell_type": "code",
   "execution_count": 3,
   "id": "fa917e3c",
   "metadata": {},
   "outputs": [
    {
     "name": "stdout",
     "output_type": "stream",
     "text": [
      "1\n",
      "3\n",
      "5\n",
      "7\n",
      "9\n",
      "11\n",
      "13\n",
      "15\n",
      "17\n",
      "19\n"
     ]
    }
   ],
   "source": [
    "#Task is to print odd numbers\n",
    "for i in range(1,20):\n",
    "    if i%2==0: #even\n",
    "        None \n",
    "    else:1\n",
    "        print(i)"
   ]
  },
  {
   "cell_type": "code",
   "execution_count": 4,
   "id": "26c30504",
   "metadata": {},
   "outputs": [
    {
     "name": "stdout",
     "output_type": "stream",
     "text": [
      "0\n",
      "1\n",
      "2\n",
      "3\n",
      "4\n"
     ]
    }
   ],
   "source": [
    "#exericse\n",
    "for i in range(5):\n",
    "    if i ==3:\n",
    "        pass\n",
    "    print(i)"
   ]
  },
  {
   "cell_type": "code",
   "execution_count": 5,
   "id": "df0a3e2a",
   "metadata": {},
   "outputs": [
    {
     "name": "stdout",
     "output_type": "stream",
     "text": [
      "3\n"
     ]
    }
   ],
   "source": [
    "# #exericse\n",
    "# for i in range(5):\n",
    "#     if i ==3:\n",
    "#         pass\n",
    "#         print(i)"
   ]
  },
  {
   "cell_type": "markdown",
   "id": "f7a2c7f9",
   "metadata": {},
   "source": [
    "# Continue"
   ]
  },
  {
   "cell_type": "code",
   "execution_count": 7,
   "id": "26f67d05",
   "metadata": {},
   "outputs": [
    {
     "name": "stdout",
     "output_type": "stream",
     "text": [
      "0\n",
      "1\n",
      "2\n",
      "4\n"
     ]
    }
   ],
   "source": [
    "#exericse\n",
    "for i in range(5):\n",
    "    if i ==3:\n",
    "        continue #skips the code below it\n",
    "    print(i)"
   ]
  },
  {
   "cell_type": "code",
   "execution_count": 9,
   "id": "2bc61f2b",
   "metadata": {},
   "outputs": [
    {
     "name": "stdout",
     "output_type": "stream",
     "text": [
      "0\n",
      "1\n",
      "2\n",
      "4\n"
     ]
    }
   ],
   "source": [
    "#exericse\n",
    "for i in range(5):\n",
    "    if i ==3:\n",
    "        continue #skips the code below it\n",
    "        print(\"Dance\")\n",
    "    else:\n",
    "        print(i)"
   ]
  },
  {
   "cell_type": "markdown",
   "id": "8e3a6656",
   "metadata": {},
   "source": [
    "# Break"
   ]
  },
  {
   "cell_type": "code",
   "execution_count": 10,
   "id": "4bbb0742",
   "metadata": {},
   "outputs": [
    {
     "name": "stdout",
     "output_type": "stream",
     "text": [
      "0\n",
      "1\n",
      "2\n"
     ]
    }
   ],
   "source": [
    "#exericse\n",
    "for i in range(5):\n",
    "    if i ==3:\n",
    "        break #\n",
    "    print(i)"
   ]
  },
  {
   "cell_type": "markdown",
   "id": "86c2fe3d",
   "metadata": {},
   "source": [
    "# **Question**: \n",
    "Write a program that continuously asks the user to provide an input number.The program should stop only when the user provides q.Once the user provides q. The program should print the number of times an input was provided.Assume that user always provides a number!"
   ]
  },
  {
   "cell_type": "code",
   "execution_count": 12,
   "id": "a458777a",
   "metadata": {},
   "outputs": [
    {
     "name": "stdout",
     "output_type": "stream",
     "text": [
      "Enter any number7\n",
      "Enter any number6\n",
      "Enter any number5\n",
      "Enter any numberq\n",
      "3\n"
     ]
    }
   ],
   "source": [
    "counter = 0\n",
    "while True:#Untill I say false this loop will be true\n",
    "    a = input(\"Enter any number\")\n",
    "    \n",
    "    if a=='q':\n",
    "        break\n",
    "    counter+=1\n",
    "print(counter)"
   ]
  },
  {
   "cell_type": "code",
   "execution_count": 13,
   "id": "2966798b",
   "metadata": {},
   "outputs": [],
   "source": [
    "## **Question**: Write a loop to print the following numbers - 1,4,7,10,13,16"
   ]
  },
  {
   "cell_type": "code",
   "execution_count": 15,
   "id": "eead96c2",
   "metadata": {},
   "outputs": [
    {
     "name": "stdout",
     "output_type": "stream",
     "text": [
      "1,4,7,10,13,16,"
     ]
    }
   ],
   "source": [
    "for i in range(1,17,3):\n",
    "    print(i,end =\",\")"
   ]
  },
  {
   "cell_type": "code",
   "execution_count": 16,
   "id": "d0816c69",
   "metadata": {},
   "outputs": [
    {
     "name": "stdout",
     "output_type": "stream",
     "text": [
      "1,4,7,10,13,16"
     ]
    }
   ],
   "source": [
    "for i in range(1,17,3):\n",
    "    if i==16:\n",
    "        print(i,end=\"\")\n",
    "    else:\n",
    "        print(i,end =\",\")"
   ]
  },
  {
   "cell_type": "markdown",
   "id": "8c44b81d",
   "metadata": {},
   "source": [
    "# Nested Loop"
   ]
  },
  {
   "cell_type": "code",
   "execution_count": 18,
   "id": "71c8a53f",
   "metadata": {},
   "outputs": [
    {
     "name": "stdout",
     "output_type": "stream",
     "text": [
      "0 0\n",
      "0 1\n",
      "0 2\n",
      "1 0\n",
      "1 1\n",
      "1 2\n",
      "2 0\n",
      "2 1\n",
      "2 2\n"
     ]
    }
   ],
   "source": [
    "for i in range(3):\n",
    "    for j in range(3):#inner loop @2ndloop\n",
    "        print(i,j)"
   ]
  },
  {
   "cell_type": "markdown",
   "id": "c08cdbc2",
   "metadata": {},
   "source": [
    "* For every value of i there will be corresponding j values.\n",
    "* In the above code, for `i = 0`, `j` runs from **0** to **2**, then for `i = 1`, `j` runs from **0** to **2**, then for `i = 2`, j runs from **0** to **2** again. Therefore there is **6** (i, j) pairs."
   ]
  },
  {
   "cell_type": "markdown",
   "id": "fa2eb971",
   "metadata": {},
   "source": [
    "# #**Question**: \n",
    "Write a program to print a `N x N` matrix of `*`"
   ]
  },
  {
   "cell_type": "code",
   "execution_count": 22,
   "id": "822d578d",
   "metadata": {},
   "outputs": [
    {
     "name": "stdout",
     "output_type": "stream",
     "text": [
      "Enter the value of N3\n",
      "***\n",
      "***\n",
      "***\n"
     ]
    }
   ],
   "source": [
    "n = int(input(\"Enter the value of N\"))\n",
    "for i in range(n):\n",
    "    for j in range(n):\n",
    "        print(\"*\",end=\"\")\n",
    "    print()"
   ]
  },
  {
   "cell_type": "code",
   "execution_count": 26,
   "id": "fb95230c",
   "metadata": {},
   "outputs": [
    {
     "name": "stdout",
     "output_type": "stream",
     "text": [
      "Enter the value of N3\n",
      "***\n",
      "***\n",
      "***\n"
     ]
    }
   ],
   "source": [
    "n = int(input(\"Enter the value of N\"))\n",
    "for i in range(n):\n",
    "    for j in range(n):\n",
    "        print(\"*\",end=\"\")\n",
    "    print(end=\"\\n\")"
   ]
  },
  {
   "cell_type": "markdown",
   "id": "9b12e556",
   "metadata": {},
   "source": [
    "##**Question**: Write a program to print a multiplication table till an input **N**."
   ]
  },
  {
   "cell_type": "code",
   "execution_count": 29,
   "id": "44b55e00",
   "metadata": {},
   "outputs": [
    {
     "name": "stdout",
     "output_type": "stream",
     "text": [
      "Enter the value of N3\n",
      "1 2 3 4 5 6 7 8 9 10 \n",
      "2 4 6 8 10 12 14 16 18 20 \n",
      "3 6 9 12 15 18 21 24 27 30 \n"
     ]
    }
   ],
   "source": [
    "n = int(input(\"Enter the value of N\"))\n",
    "for i in range(1,n+1):\n",
    "    for j in range(1,11):\n",
    "        print(i*j,end=\" \")\n",
    "    print(end=\"\\n\")"
   ]
  },
  {
   "cell_type": "markdown",
   "id": "d8d9c168",
   "metadata": {},
   "source": [
    "# Question: Given two integer inputs, write a program to calculate the GCD of these two numbers"
   ]
  },
  {
   "cell_type": "code",
   "execution_count": 33,
   "id": "d6d68e4e",
   "metadata": {},
   "outputs": [
    {
     "name": "stdout",
     "output_type": "stream",
     "text": [
      "100\n",
      "1000\n",
      "100\n"
     ]
    }
   ],
   "source": [
    "A = int(input())\n",
    "B = int(input())\n",
    "#A =16\n",
    "#B =24\n",
    "#X = 16\n",
    "X = min(A, B)\n",
    "for i in range(X,0,-1):\n",
    "    if A%i==0 and B%i==0:\n",
    "        print(i)\n",
    "        break"
   ]
  },
  {
   "cell_type": "markdown",
   "id": "66c234ca",
   "metadata": {},
   "source": [
    "Question: Given two integer inputs, write a program to calculate the LCM of these two numbers."
   ]
  },
  {
   "cell_type": "code",
   "execution_count": 48,
   "id": "85a1072a",
   "metadata": {},
   "outputs": [
    {
     "name": "stdout",
     "output_type": "stream",
     "text": [
      "6\n",
      "8\n",
      "24\n"
     ]
    }
   ],
   "source": [
    "A = int(input())\n",
    "B = int(input())\n",
    "#A =6\n",
    "#B =8\n",
    "X = max(A,B)\n",
    "while True:\n",
    "    if X%A==0 and X%B==0:\n",
    "        print(X)\n",
    "        break\n",
    "    X +=1"
   ]
  },
  {
   "cell_type": "code",
   "execution_count": 47,
   "id": "f02543f6",
   "metadata": {},
   "outputs": [
    {
     "name": "stdout",
     "output_type": "stream",
     "text": [
      "A no.6\n",
      "A no.8\n",
      "8\n"
     ]
    }
   ],
   "source": [
    "x=int(input('A no.'))\n",
    "y=int(input('A no.'))\n",
    "a=max(x,y)\n",
    "for i in range (a,x*y+1):\n",
    "    #print(i)\n",
    "    if a%x==0 :\n",
    "        print(i)\n",
    "        break"
   ]
  },
  {
   "cell_type": "code",
   "execution_count": 49,
   "id": "a8e51afd",
   "metadata": {},
   "outputs": [
    {
     "name": "stdout",
     "output_type": "stream",
     "text": [
      "A no.6\n",
      "A no.8\n",
      "24\n"
     ]
    }
   ],
   "source": [
    "x=int(input('A no.'))\n",
    "y=int(input('A no.'))\n",
    "a=max(x,y)\n",
    "for i in range (a,x*y+1):\n",
    "    if i%x==0 and i%y==0:\n",
    "        print(i)\n",
    "        break"
   ]
  },
  {
   "cell_type": "code",
   "execution_count": 38,
   "id": "accb9732",
   "metadata": {},
   "outputs": [
    {
     "name": "stdout",
     "output_type": "stream",
     "text": [
      "1\n",
      "Dance\n",
      "3\n",
      "Dance\n",
      "5\n",
      "Dance\n",
      "7\n",
      "Dance\n",
      "9\n",
      "Dance\n",
      "11\n",
      "Dance\n",
      "13\n",
      "Dance\n",
      "15\n",
      "Dance\n",
      "17\n",
      "Dance\n",
      "19\n"
     ]
    }
   ],
   "source": [
    "#Task is to print odd numbers\n",
    "for i in range(1,20):\n",
    "    if i%2==0: #even\n",
    "        print(\"Dance\")\n",
    "    else:\n",
    "        print(i)"
   ]
  },
  {
   "cell_type": "code",
   "execution_count": 39,
   "id": "90cb5dbd",
   "metadata": {},
   "outputs": [
    {
     "data": {
      "text/plain": [
       "True"
      ]
     },
     "execution_count": 39,
     "metadata": {},
     "output_type": "execute_result"
    }
   ],
   "source": [
    "#while cond\n",
    "bool(7)"
   ]
  },
  {
   "cell_type": "code",
   "execution_count": 40,
   "id": "76388197",
   "metadata": {},
   "outputs": [
    {
     "data": {
      "text/plain": [
       "False"
      ]
     },
     "execution_count": 40,
     "metadata": {},
     "output_type": "execute_result"
    }
   ],
   "source": [
    "bool(0)"
   ]
  },
  {
   "cell_type": "code",
   "execution_count": 41,
   "id": "f9de7205",
   "metadata": {},
   "outputs": [
    {
     "data": {
      "text/plain": [
       "False"
      ]
     },
     "execution_count": 41,
     "metadata": {},
     "output_type": "execute_result"
    }
   ],
   "source": [
    "bool(0.0)"
   ]
  },
  {
   "cell_type": "code",
   "execution_count": 42,
   "id": "09eb1696",
   "metadata": {},
   "outputs": [
    {
     "name": "stdout",
     "output_type": "stream",
     "text": [
      "6\n",
      "8\n",
      "24\n"
     ]
    }
   ],
   "source": [
    "A = int(input())\n",
    "B = int(input())\n",
    "#A =6\n",
    "#B =8\n",
    "X = max(A,B)\n",
    "while 7:\n",
    "    if X%A==0 and X%B==0:\n",
    "        print(X)\n",
    "        break\n",
    "    X +=1\n"
   ]
  },
  {
   "cell_type": "code",
   "execution_count": null,
   "id": "67c7fbfc",
   "metadata": {},
   "outputs": [],
   "source": [
    "#Sir, keep a session to discuss homework questions"
   ]
  },
  {
   "cell_type": "code",
   "execution_count": null,
   "id": "9116149c",
   "metadata": {},
   "outputs": [],
   "source": [
    "Given an integer N, print N stars in a single line."
   ]
  },
  {
   "cell_type": "code",
   "execution_count": 44,
   "id": "61ccb5bf",
   "metadata": {},
   "outputs": [
    {
     "name": "stdout",
     "output_type": "stream",
     "text": [
      "* * * "
     ]
    }
   ],
   "source": [
    "n = 3\n",
    "for i in range(n):\n",
    "    print(\"*\",end=\" \")"
   ]
  },
  {
   "cell_type": "code",
   "execution_count": 52,
   "id": "eb8f1396",
   "metadata": {},
   "outputs": [
    {
     "name": "stdout",
     "output_type": "stream",
     "text": [
      "gg\n"
     ]
    }
   ],
   "source": [
    "if 11%2:\n",
    "    print(\"gg\")\n",
    "else:\n",
    "    print(\"hello\")"
   ]
  },
  {
   "cell_type": "code",
   "execution_count": null,
   "id": "933483bc",
   "metadata": {},
   "outputs": [],
   "source": [
    "if x%2"
   ]
  }
 ],
 "metadata": {
  "kernelspec": {
   "display_name": "Python 3 (ipykernel)",
   "language": "python",
   "name": "python3"
  },
  "language_info": {
   "codemirror_mode": {
    "name": "ipython",
    "version": 3
   },
   "file_extension": ".py",
   "mimetype": "text/x-python",
   "name": "python",
   "nbconvert_exporter": "python",
   "pygments_lexer": "ipython3",
   "version": "3.10.9"
  }
 },
 "nbformat": 4,
 "nbformat_minor": 5
}
