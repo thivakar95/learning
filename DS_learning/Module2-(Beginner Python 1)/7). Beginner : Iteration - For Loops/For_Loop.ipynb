{
 "cells": [
  {
   "cell_type": "code",
   "execution_count": null,
   "id": "0d6f4c28",
   "metadata": {},
   "outputs": [],
   "source": [
    "MD - Mediator  - Alok distributes the choc"
   ]
  },
  {
   "cell_type": "code",
   "execution_count": 2,
   "id": "171ac3e7",
   "metadata": {},
   "outputs": [],
   "source": [
    "alok = [1,2,3,4,5,6,7]"
   ]
  },
  {
   "cell_type": "code",
   "execution_count": 3,
   "id": "6e49fd25",
   "metadata": {},
   "outputs": [
    {
     "name": "stdout",
     "output_type": "stream",
     "text": [
      "1\n",
      "2\n",
      "3\n",
      "4\n",
      "5\n",
      "6\n",
      "7\n"
     ]
    }
   ],
   "source": [
    "for abdul in alok:\n",
    "    print(abdul)"
   ]
  },
  {
   "cell_type": "code",
   "execution_count": 4,
   "id": "4c39a706",
   "metadata": {},
   "outputs": [
    {
     "name": "stdout",
     "output_type": "stream",
     "text": [
      "1\n",
      "2\n",
      "3\n",
      "4\n",
      "5\n",
      "6\n",
      "7\n"
     ]
    }
   ],
   "source": [
    "start = 1\n",
    "while start<=7:\n",
    "    print(start)\n",
    "    start +=1"
   ]
  },
  {
   "cell_type": "code",
   "execution_count": 7,
   "id": "ca6e4208",
   "metadata": {},
   "outputs": [
    {
     "name": "stdout",
     "output_type": "stream",
     "text": [
      "1\n",
      "Daning for \n",
      "2\n",
      "Daning for \n",
      "3\n",
      "Daning for \n",
      "4\n",
      "Daning for \n",
      "5\n",
      "Daning for \n",
      "6\n",
      "Daning for \n",
      "7\n",
      "Daning for \n"
     ]
    }
   ],
   "source": [
    "for i in [1,2,3,4,5,6,7]:\n",
    "    print(i)\n",
    "    print(\"Daning for \")"
   ]
  },
  {
   "cell_type": "code",
   "execution_count": null,
   "id": "8bfaa6b1",
   "metadata": {},
   "outputs": [],
   "source": []
  },
  {
   "cell_type": "code",
   "execution_count": 8,
   "id": "c02a778a",
   "metadata": {},
   "outputs": [
    {
     "name": "stdout",
     "output_type": "stream",
     "text": [
      "I will not talk in class\n",
      "I will not talk in class\n",
      "I will not talk in class\n",
      "I will not talk in class\n",
      "I will not talk in class\n",
      "I will not talk in class\n",
      "I will not talk in class\n",
      "I will not talk in class\n",
      "I will not talk in class\n",
      "I will not talk in class\n",
      "I will not talk in class\n",
      "I will not talk in class\n",
      "I will not talk in class\n",
      "I will not talk in class\n",
      "I will not talk in class\n",
      "I will not talk in class\n",
      "I will not talk in class\n",
      "I will not talk in class\n",
      "I will not talk in class\n",
      "I will not talk in class\n",
      "I will not talk in class\n",
      "I will not talk in class\n",
      "I will not talk in class\n",
      "I will not talk in class\n",
      "I will not talk in class\n",
      "I will not talk in class\n",
      "I will not talk in class\n",
      "I will not talk in class\n",
      "I will not talk in class\n",
      "I will not talk in class\n",
      "I will not talk in class\n",
      "I will not talk in class\n",
      "I will not talk in class\n",
      "I will not talk in class\n",
      "I will not talk in class\n",
      "I will not talk in class\n",
      "I will not talk in class\n",
      "I will not talk in class\n",
      "I will not talk in class\n",
      "I will not talk in class\n",
      "I will not talk in class\n",
      "I will not talk in class\n",
      "I will not talk in class\n",
      "I will not talk in class\n",
      "I will not talk in class\n",
      "I will not talk in class\n",
      "I will not talk in class\n",
      "I will not talk in class\n",
      "I will not talk in class\n",
      "I will not talk in class\n",
      "I will not talk in class\n",
      "I will not talk in class\n",
      "I will not talk in class\n",
      "I will not talk in class\n",
      "I will not talk in class\n",
      "I will not talk in class\n",
      "I will not talk in class\n",
      "I will not talk in class\n",
      "I will not talk in class\n",
      "I will not talk in class\n",
      "I will not talk in class\n",
      "I will not talk in class\n",
      "I will not talk in class\n",
      "I will not talk in class\n",
      "I will not talk in class\n",
      "I will not talk in class\n",
      "I will not talk in class\n",
      "I will not talk in class\n",
      "I will not talk in class\n",
      "I will not talk in class\n",
      "I will not talk in class\n",
      "I will not talk in class\n",
      "I will not talk in class\n",
      "I will not talk in class\n",
      "I will not talk in class\n",
      "I will not talk in class\n",
      "I will not talk in class\n",
      "I will not talk in class\n",
      "I will not talk in class\n",
      "I will not talk in class\n",
      "I will not talk in class\n",
      "I will not talk in class\n",
      "I will not talk in class\n",
      "I will not talk in class\n",
      "I will not talk in class\n",
      "I will not talk in class\n",
      "I will not talk in class\n",
      "I will not talk in class\n",
      "I will not talk in class\n",
      "I will not talk in class\n",
      "I will not talk in class\n",
      "I will not talk in class\n",
      "I will not talk in class\n",
      "I will not talk in class\n",
      "I will not talk in class\n",
      "I will not talk in class\n",
      "I will not talk in class\n",
      "I will not talk in class\n",
      "I will not talk in class\n"
     ]
    }
   ],
   "source": [
    "repeat = 100\n",
    "for i in range(1,repeat):\n",
    "    print(\"I will not talk in class\")"
   ]
  },
  {
   "cell_type": "code",
   "execution_count": 9,
   "id": "ca24a906",
   "metadata": {},
   "outputs": [
    {
     "data": {
      "text/plain": [
       "range(1, 8)"
      ]
     },
     "execution_count": 9,
     "metadata": {},
     "output_type": "execute_result"
    }
   ],
   "source": [
    "range(1,8)# range object"
   ]
  },
  {
   "cell_type": "code",
   "execution_count": 10,
   "id": "99ae102e",
   "metadata": {},
   "outputs": [
    {
     "data": {
      "text/plain": [
       "[1, 2, 3, 4, 5, 6, 7]"
      ]
     },
     "execution_count": 10,
     "metadata": {},
     "output_type": "execute_result"
    }
   ],
   "source": [
    "list(range(1,8))"
   ]
  },
  {
   "cell_type": "code",
   "execution_count": 11,
   "id": "a38b07e2",
   "metadata": {},
   "outputs": [],
   "source": [
    "perumal =25\n"
   ]
  },
  {
   "cell_type": "code",
   "execution_count": 14,
   "id": "f123ecdd",
   "metadata": {},
   "outputs": [
    {
     "data": {
      "text/plain": [
       "[0, 1, 2, 3, 4]"
      ]
     },
     "execution_count": 14,
     "metadata": {},
     "output_type": "execute_result"
    }
   ],
   "source": [
    "list(range(5))"
   ]
  },
  {
   "cell_type": "code",
   "execution_count": 15,
   "id": "a8d9474a",
   "metadata": {},
   "outputs": [
    {
     "ename": "TypeError",
     "evalue": "'type' object is not subscriptable",
     "output_type": "error",
     "traceback": [
      "\u001b[1;31m---------------------------------------------------------------------------\u001b[0m",
      "\u001b[1;31mTypeError\u001b[0m                                 Traceback (most recent call last)",
      "\u001b[1;32m~\\AppData\\Local\\Temp\\ipykernel_15700\\34785576.py\u001b[0m in \u001b[0;36m<cell line: 1>\u001b[1;34m()\u001b[0m\n\u001b[1;32m----> 1\u001b[1;33m \u001b[0mrange\u001b[0m\u001b[1;33m[\u001b[0m\u001b[1;36m1\u001b[0m\u001b[1;33m,\u001b[0m\u001b[1;36m8\u001b[0m\u001b[1;33m]\u001b[0m\u001b[1;33m\u001b[0m\u001b[1;33m\u001b[0m\u001b[0m\n\u001b[0m",
      "\u001b[1;31mTypeError\u001b[0m: 'type' object is not subscriptable"
     ]
    }
   ],
   "source": [
    "range[1,8]"
   ]
  },
  {
   "cell_type": "code",
   "execution_count": 16,
   "id": "737d67ef",
   "metadata": {},
   "outputs": [
    {
     "data": {
      "text/plain": [
       "[2, 3, 4, 5, 6, 7, 8, 9]"
      ]
     },
     "execution_count": 16,
     "metadata": {},
     "output_type": "execute_result"
    }
   ],
   "source": [
    "list(range(2,10))"
   ]
  },
  {
   "cell_type": "code",
   "execution_count": 17,
   "id": "e61e756f",
   "metadata": {},
   "outputs": [
    {
     "data": {
      "text/plain": [
       "[7]"
      ]
     },
     "execution_count": 17,
     "metadata": {},
     "output_type": "execute_result"
    }
   ],
   "source": [
    "list(range(7,8))"
   ]
  },
  {
   "cell_type": "code",
   "execution_count": 18,
   "id": "3f5f2bf2",
   "metadata": {},
   "outputs": [
    {
     "data": {
      "text/plain": [
       "[]"
      ]
     },
     "execution_count": 18,
     "metadata": {},
     "output_type": "execute_result"
    }
   ],
   "source": [
    "list(range(8,8))"
   ]
  },
  {
   "cell_type": "code",
   "execution_count": null,
   "id": "45306dd9",
   "metadata": {},
   "outputs": [],
   "source": [
    "means end value is exclusive, it is not included in the list always/"
   ]
  },
  {
   "cell_type": "code",
   "execution_count": 19,
   "id": "21047d2c",
   "metadata": {},
   "outputs": [
    {
     "data": {
      "text/plain": [
       "[-1, 0, 1, 2]"
      ]
     },
     "execution_count": 19,
     "metadata": {},
     "output_type": "execute_result"
    }
   ],
   "source": [
    "list(range(-1,3))"
   ]
  },
  {
   "cell_type": "code",
   "execution_count": 20,
   "id": "bf097d56",
   "metadata": {},
   "outputs": [
    {
     "data": {
      "text/plain": [
       "[]"
      ]
     },
     "execution_count": 20,
     "metadata": {},
     "output_type": "execute_result"
    }
   ],
   "source": [
    "list(range(-1,-9))"
   ]
  },
  {
   "cell_type": "code",
   "execution_count": 21,
   "id": "bb1b7390",
   "metadata": {},
   "outputs": [
    {
     "data": {
      "text/plain": [
       "[]"
      ]
     },
     "execution_count": 21,
     "metadata": {},
     "output_type": "execute_result"
    }
   ],
   "source": [
    "list(range(-111,-9099999))"
   ]
  },
  {
   "cell_type": "code",
   "execution_count": 22,
   "id": "75512c5c",
   "metadata": {},
   "outputs": [
    {
     "data": {
      "text/plain": [
       "[-9, -8, -7, -6, -5, -4, -3, -2]"
      ]
     },
     "execution_count": 22,
     "metadata": {},
     "output_type": "execute_result"
    }
   ],
   "source": [
    "list(range(-9,-1))"
   ]
  },
  {
   "cell_type": "code",
   "execution_count": 23,
   "id": "2cb1598d",
   "metadata": {},
   "outputs": [
    {
     "data": {
      "text/plain": [
       "[-9, -7, -5, -3]"
      ]
     },
     "execution_count": 23,
     "metadata": {},
     "output_type": "execute_result"
    }
   ],
   "source": [
    "list(range(-9,-1,2))"
   ]
  },
  {
   "cell_type": "code",
   "execution_count": null,
   "id": "b5c7fd1a",
   "metadata": {},
   "outputs": [],
   "source": [
    "range(start,end,jump)"
   ]
  },
  {
   "cell_type": "code",
   "execution_count": 24,
   "id": "eabe8565",
   "metadata": {},
   "outputs": [
    {
     "name": "stdout",
     "output_type": "stream",
     "text": [
      "[2, 4, 6, 8]\n"
     ]
    }
   ],
   "source": [
    "print(list(range(2,10,2)))"
   ]
  },
  {
   "cell_type": "markdown",
   "id": "446c5d94",
   "metadata": {},
   "source": [
    "# negative"
   ]
  },
  {
   "cell_type": "code",
   "execution_count": 25,
   "id": "6194ff93",
   "metadata": {},
   "outputs": [
    {
     "data": {
      "text/plain": [
       "[-1, -2, -3, -4, -5, -6, -7, -8]"
      ]
     },
     "execution_count": 25,
     "metadata": {},
     "output_type": "execute_result"
    }
   ],
   "source": [
    "list(range(-1,-9,-1))"
   ]
  },
  {
   "cell_type": "code",
   "execution_count": 26,
   "id": "fc8ec901",
   "metadata": {},
   "outputs": [
    {
     "data": {
      "text/plain": [
       "[]"
      ]
     },
     "execution_count": 26,
     "metadata": {},
     "output_type": "execute_result"
    }
   ],
   "source": [
    "list(range(2,10,-2))#incoorect"
   ]
  },
  {
   "cell_type": "code",
   "execution_count": 27,
   "id": "995b1d7f",
   "metadata": {},
   "outputs": [
    {
     "name": "stdout",
     "output_type": "stream",
     "text": [
      "[]\n"
     ]
    }
   ],
   "source": [
    "print(list(range(8,8,-1)))"
   ]
  },
  {
   "cell_type": "code",
   "execution_count": 28,
   "id": "cfca013d",
   "metadata": {},
   "outputs": [
    {
     "name": "stdout",
     "output_type": "stream",
     "text": [
      "[2]\n"
     ]
    }
   ],
   "source": [
    "print(list(range(2,5,10)))#correct"
   ]
  },
  {
   "cell_type": "code",
   "execution_count": 29,
   "id": "0b0c2b68",
   "metadata": {},
   "outputs": [
    {
     "name": "stdout",
     "output_type": "stream",
     "text": [
      "[5, 3, 1, -1, -3, -5, -7, -9]\n"
     ]
    }
   ],
   "source": [
    "print(list(range(5,-10,-2)))"
   ]
  },
  {
   "cell_type": "code",
   "execution_count": null,
   "id": "7212b682",
   "metadata": {},
   "outputs": [],
   "source": []
  },
  {
   "cell_type": "code",
   "execution_count": null,
   "id": "f68551b8",
   "metadata": {},
   "outputs": [],
   "source": []
  },
  {
   "cell_type": "markdown",
   "id": "a9bdd165",
   "metadata": {},
   "source": [
    "GOt confusion, Why list(range(-1,-9,-1)) worked its in right side but when list(range(-1,-9)) it did not work"
   ]
  },
  {
   "cell_type": "code",
   "execution_count": null,
   "id": "2ea41e03",
   "metadata": {},
   "outputs": [],
   "source": [
    "range(9,15,6) will not be null and it will be [9]?"
   ]
  },
  {
   "cell_type": "code",
   "execution_count": 30,
   "id": "5ea59a35",
   "metadata": {},
   "outputs": [
    {
     "data": {
      "text/plain": [
       "[9]"
      ]
     },
     "execution_count": 30,
     "metadata": {},
     "output_type": "execute_result"
    }
   ],
   "source": [
    "list(range(9,15,6))"
   ]
  },
  {
   "cell_type": "markdown",
   "id": "4a7bb321",
   "metadata": {},
   "source": [
    "# **Question**: Print all numbers from 1 to N using a for loop."
   ]
  },
  {
   "cell_type": "code",
   "execution_count": 31,
   "id": "b90705d7",
   "metadata": {},
   "outputs": [
    {
     "name": "stdout",
     "output_type": "stream",
     "text": [
      "Your number : 10\n",
      "1\n",
      "2\n",
      "3\n",
      "4\n",
      "5\n",
      "6\n",
      "7\n",
      "8\n",
      "9\n"
     ]
    }
   ],
   "source": [
    "N = int(input(\"Your number : \"))\n",
    "for i in range(1,N):\n",
    "    print(i)"
   ]
  },
  {
   "cell_type": "code",
   "execution_count": 32,
   "id": "0624da28",
   "metadata": {},
   "outputs": [
    {
     "name": "stdout",
     "output_type": "stream",
     "text": [
      "Your number : 10\n",
      "1\n",
      "2\n",
      "3\n",
      "4\n",
      "5\n",
      "6\n",
      "7\n",
      "8\n",
      "9\n",
      "10\n"
     ]
    }
   ],
   "source": [
    "N = int(input(\"Your number : \"))\n",
    "for i in range(1,N+1):\n",
    "    print(i)"
   ]
  },
  {
   "cell_type": "code",
   "execution_count": null,
   "id": "859db9c9",
   "metadata": {},
   "outputs": [],
   "source": [
    "#100 write 100 you will not talk in class"
   ]
  },
  {
   "cell_type": "code",
   "execution_count": 34,
   "id": "c0a68a86",
   "metadata": {},
   "outputs": [
    {
     "name": "stdout",
     "output_type": "stream",
     "text": [
      "I will not talk in class 0\n",
      "I will not talk in class 1\n",
      "I will not talk in class 2\n",
      "I will not talk in class 3\n",
      "I will not talk in class 4\n",
      "I will not talk in class 5\n",
      "I will not talk in class 6\n",
      "I will not talk in class 7\n",
      "I will not talk in class 8\n",
      "I will not talk in class 9\n",
      "I will not talk in class 10\n",
      "I will not talk in class 11\n",
      "I will not talk in class 12\n",
      "I will not talk in class 13\n",
      "I will not talk in class 14\n",
      "I will not talk in class 15\n",
      "I will not talk in class 16\n",
      "I will not talk in class 17\n",
      "I will not talk in class 18\n",
      "I will not talk in class 19\n",
      "I will not talk in class 20\n",
      "I will not talk in class 21\n",
      "I will not talk in class 22\n",
      "I will not talk in class 23\n",
      "I will not talk in class 24\n",
      "I will not talk in class 25\n",
      "I will not talk in class 26\n",
      "I will not talk in class 27\n",
      "I will not talk in class 28\n",
      "I will not talk in class 29\n",
      "I will not talk in class 30\n",
      "I will not talk in class 31\n",
      "I will not talk in class 32\n",
      "I will not talk in class 33\n",
      "I will not talk in class 34\n",
      "I will not talk in class 35\n",
      "I will not talk in class 36\n",
      "I will not talk in class 37\n",
      "I will not talk in class 38\n",
      "I will not talk in class 39\n",
      "I will not talk in class 40\n",
      "I will not talk in class 41\n",
      "I will not talk in class 42\n",
      "I will not talk in class 43\n",
      "I will not talk in class 44\n",
      "I will not talk in class 45\n",
      "I will not talk in class 46\n",
      "I will not talk in class 47\n",
      "I will not talk in class 48\n",
      "I will not talk in class 49\n",
      "I will not talk in class 50\n",
      "I will not talk in class 51\n",
      "I will not talk in class 52\n",
      "I will not talk in class 53\n",
      "I will not talk in class 54\n",
      "I will not talk in class 55\n",
      "I will not talk in class 56\n",
      "I will not talk in class 57\n",
      "I will not talk in class 58\n",
      "I will not talk in class 59\n",
      "I will not talk in class 60\n",
      "I will not talk in class 61\n",
      "I will not talk in class 62\n",
      "I will not talk in class 63\n",
      "I will not talk in class 64\n",
      "I will not talk in class 65\n",
      "I will not talk in class 66\n",
      "I will not talk in class 67\n",
      "I will not talk in class 68\n",
      "I will not talk in class 69\n",
      "I will not talk in class 70\n",
      "I will not talk in class 71\n",
      "I will not talk in class 72\n",
      "I will not talk in class 73\n",
      "I will not talk in class 74\n",
      "I will not talk in class 75\n",
      "I will not talk in class 76\n",
      "I will not talk in class 77\n",
      "I will not talk in class 78\n",
      "I will not talk in class 79\n",
      "I will not talk in class 80\n",
      "I will not talk in class 81\n",
      "I will not talk in class 82\n",
      "I will not talk in class 83\n",
      "I will not talk in class 84\n",
      "I will not talk in class 85\n",
      "I will not talk in class 86\n",
      "I will not talk in class 87\n",
      "I will not talk in class 88\n",
      "I will not talk in class 89\n",
      "I will not talk in class 90\n",
      "I will not talk in class 91\n",
      "I will not talk in class 92\n",
      "I will not talk in class 93\n",
      "I will not talk in class 94\n",
      "I will not talk in class 95\n",
      "I will not talk in class 96\n",
      "I will not talk in class 97\n",
      "I will not talk in class 98\n",
      "I will not talk in class 99\n"
     ]
    }
   ],
   "source": [
    "for i in range(100):\n",
    "    print(\"I will not talk in class\",i)"
   ]
  },
  {
   "cell_type": "code",
   "execution_count": null,
   "id": "2245f9c2",
   "metadata": {},
   "outputs": [],
   "source": []
  },
  {
   "cell_type": "code",
   "execution_count": null,
   "id": "dea41b7c",
   "metadata": {},
   "outputs": [],
   "source": [
    "##**Question**: Calculate sum of all numbers  till n\n",
    "n= 6 - -21"
   ]
  },
  {
   "cell_type": "code",
   "execution_count": 39,
   "id": "ee821869",
   "metadata": {},
   "outputs": [
    {
     "name": "stdout",
     "output_type": "stream",
     "text": [
      "1\n",
      "3\n",
      "6\n",
      "10\n",
      "15\n",
      "21\n"
     ]
    }
   ],
   "source": [
    "n = 6\n",
    "total = 0\n",
    "for i in range(1,n+1):\n",
    "    total = total+i\n",
    "    print(total)"
   ]
  },
  {
   "cell_type": "markdown",
   "id": "35dc9e88",
   "metadata": {},
   "source": [
    "## **Question**: Print all numbers from an input N to 1 where N > 1."
   ]
  },
  {
   "cell_type": "code",
   "execution_count": 42,
   "id": "a778b46f",
   "metadata": {},
   "outputs": [
    {
     "name": "stdout",
     "output_type": "stream",
     "text": [
      "Enter the number 19\n",
      "19\n",
      "18\n",
      "17\n",
      "16\n",
      "15\n",
      "14\n",
      "13\n",
      "12\n",
      "11\n",
      "10\n",
      "9\n",
      "8\n",
      "7\n",
      "6\n",
      "5\n",
      "4\n",
      "3\n",
      "2\n",
      "1\n"
     ]
    }
   ],
   "source": [
    "N = int(input(\"Enter the number \"))\n",
    "for i in range(N,0,-1):\n",
    "    print(i)"
   ]
  },
  {
   "cell_type": "code",
   "execution_count": 43,
   "id": "9545163e",
   "metadata": {},
   "outputs": [
    {
     "name": "stdout",
     "output_type": "stream",
     "text": [
      "Enter the number -7\n"
     ]
    }
   ],
   "source": [
    "N = int(input(\"Enter the number \"))\n",
    "for i in range(N,0,-1):\n",
    "    print(i)"
   ]
  },
  {
   "cell_type": "markdown",
   "id": "e26c887b",
   "metadata": {},
   "source": [
    "Print all numbers from an input N to 1 where N > 1 using for loop.SOLVE THIS WITHOUT USING A NEGATIVE JUMP!"
   ]
  },
  {
   "cell_type": "code",
   "execution_count": 44,
   "id": "5070e9e0",
   "metadata": {},
   "outputs": [
    {
     "name": "stdout",
     "output_type": "stream",
     "text": [
      "Enter the number 10\n",
      "10\n",
      "9\n",
      "8\n",
      "7\n",
      "6\n",
      "5\n",
      "4\n",
      "3\n",
      "2\n",
      "1\n"
     ]
    }
   ],
   "source": [
    "N = int(input(\"Enter the number \"))\n",
    "for i in range(1,N+1):\n",
    "    print(N-i+1)"
   ]
  },
  {
   "cell_type": "code",
   "execution_count": 45,
   "id": "014da434",
   "metadata": {},
   "outputs": [
    {
     "name": "stdout",
     "output_type": "stream",
     "text": [
      "21\n"
     ]
    }
   ],
   "source": [
    "n = 6\n",
    "i=1\n",
    "total=0\n",
    "while i<=n :\n",
    "    total = total+i\n",
    "    i+=1\n",
    "print(total)"
   ]
  },
  {
   "cell_type": "code",
   "execution_count": 47,
   "id": "2d974277",
   "metadata": {},
   "outputs": [
    {
     "name": "stdout",
     "output_type": "stream",
     "text": [
      "8\n"
     ]
    }
   ],
   "source": [
    "n = 12311\n",
    "total=0\n",
    "while n :\n",
    "    remindedr = n%10\n",
    "    n =n//10\n",
    "    total = total+remindedr\n",
    "print(total)"
   ]
  },
  {
   "cell_type": "code",
   "execution_count": null,
   "id": "8d71f470",
   "metadata": {},
   "outputs": [],
   "source": []
  }
 ],
 "metadata": {
  "kernelspec": {
   "display_name": "Python 3 (ipykernel)",
   "language": "python",
   "name": "python3"
  },
  "language_info": {
   "codemirror_mode": {
    "name": "ipython",
    "version": 3
   },
   "file_extension": ".py",
   "mimetype": "text/x-python",
   "name": "python",
   "nbconvert_exporter": "python",
   "pygments_lexer": "ipython3",
   "version": "3.10.9"
  }
 },
 "nbformat": 4,
 "nbformat_minor": 5
}
