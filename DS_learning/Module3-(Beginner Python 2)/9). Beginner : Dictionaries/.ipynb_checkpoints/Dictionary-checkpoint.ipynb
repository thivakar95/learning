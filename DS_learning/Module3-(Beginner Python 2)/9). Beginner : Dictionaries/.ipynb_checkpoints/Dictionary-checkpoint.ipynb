{
 "cells": [
  {
   "cell_type": "markdown",
   "id": "8fbc3d97",
   "metadata": {},
   "source": [
    "## **Quiz-1**\n",
    "What will be the output of the following?\n",
    "```\n",
    "s = {{1,2,3,4,5}}\n",
    "print(s)\n",
    "```\n",
    "Options:\n",
    "```\n",
    "A. {1,2,3,4,5}\n",
    "B. {{1,2,3,4,5}}\n",
    "C. {1}\n",
    "D. Error\n",
    "E. None of the above"
   ]
  },
  {
   "cell_type": "code",
   "execution_count": 1,
   "id": "132cf837",
   "metadata": {},
   "outputs": [
    {
     "ename": "TypeError",
     "evalue": "unhashable type: 'set'",
     "output_type": "error",
     "traceback": [
      "\u001b[1;31m---------------------------------------------------------------------------\u001b[0m",
      "\u001b[1;31mTypeError\u001b[0m                                 Traceback (most recent call last)",
      "\u001b[1;32m~\\AppData\\Local\\Temp\\ipykernel_20076\\4210156488.py\u001b[0m in \u001b[0;36m<cell line: 1>\u001b[1;34m()\u001b[0m\n\u001b[1;32m----> 1\u001b[1;33m \u001b[0ms\u001b[0m \u001b[1;33m=\u001b[0m \u001b[1;33m{\u001b[0m\u001b[1;33m{\u001b[0m\u001b[1;36m1\u001b[0m\u001b[1;33m,\u001b[0m\u001b[1;36m2\u001b[0m\u001b[1;33m,\u001b[0m\u001b[1;36m3\u001b[0m\u001b[1;33m,\u001b[0m\u001b[1;36m4\u001b[0m\u001b[1;33m,\u001b[0m\u001b[1;36m5\u001b[0m\u001b[1;33m}\u001b[0m\u001b[1;33m}\u001b[0m\u001b[1;33m\u001b[0m\u001b[1;33m\u001b[0m\u001b[0m\n\u001b[0m\u001b[0;32m      2\u001b[0m \u001b[0mprint\u001b[0m\u001b[1;33m(\u001b[0m\u001b[0ms\u001b[0m\u001b[1;33m)\u001b[0m\u001b[1;33m\u001b[0m\u001b[1;33m\u001b[0m\u001b[0m\n",
      "\u001b[1;31mTypeError\u001b[0m: unhashable type: 'set'"
     ]
    }
   ],
   "source": [
    "s = {{1,2,3,4,5}}\n",
    "print(s)"
   ]
  },
  {
   "cell_type": "code",
   "execution_count": 2,
   "id": "097158d3",
   "metadata": {},
   "outputs": [
    {
     "ename": "TypeError",
     "evalue": "unhashable type: 'list'",
     "output_type": "error",
     "traceback": [
      "\u001b[1;31m---------------------------------------------------------------------------\u001b[0m",
      "\u001b[1;31mTypeError\u001b[0m                                 Traceback (most recent call last)",
      "\u001b[1;32m~\\AppData\\Local\\Temp\\ipykernel_20076\\3399959648.py\u001b[0m in \u001b[0;36m<cell line: 1>\u001b[1;34m()\u001b[0m\n\u001b[1;32m----> 1\u001b[1;33m \u001b[0ms\u001b[0m \u001b[1;33m=\u001b[0m \u001b[1;33m{\u001b[0m\u001b[1;33m[\u001b[0m\u001b[1;36m1\u001b[0m\u001b[1;33m,\u001b[0m\u001b[1;36m2\u001b[0m\u001b[1;33m,\u001b[0m\u001b[1;36m3\u001b[0m\u001b[1;33m,\u001b[0m\u001b[1;36m4\u001b[0m\u001b[1;33m,\u001b[0m\u001b[1;36m5\u001b[0m\u001b[1;33m]\u001b[0m\u001b[1;33m}\u001b[0m\u001b[1;33m\u001b[0m\u001b[1;33m\u001b[0m\u001b[0m\n\u001b[0m\u001b[0;32m      2\u001b[0m \u001b[0mprint\u001b[0m\u001b[1;33m(\u001b[0m\u001b[0ms\u001b[0m\u001b[1;33m)\u001b[0m\u001b[1;33m\u001b[0m\u001b[1;33m\u001b[0m\u001b[0m\n",
      "\u001b[1;31mTypeError\u001b[0m: unhashable type: 'list'"
     ]
    }
   ],
   "source": [
    "s = {[1,2,3,4,5]}\n",
    "print(s)"
   ]
  },
  {
   "cell_type": "markdown",
   "id": "f9ed7c9a",
   "metadata": {},
   "source": [
    "# sets can only store immutable objects. "
   ]
  },
  {
   "cell_type": "code",
   "execution_count": 3,
   "id": "88c46847",
   "metadata": {},
   "outputs": [
    {
     "name": "stdout",
     "output_type": "stream",
     "text": [
      "{(1, 2, 3, 4, 5)}\n"
     ]
    }
   ],
   "source": [
    "s = {(1,2,3,4,5)}\n",
    "print(s)"
   ]
  },
  {
   "cell_type": "markdown",
   "id": "c57e8296",
   "metadata": {},
   "source": [
    "## **Quiz-2**\n",
    "What will be the output of the following?\n",
    "```\n",
    "t = [[1,2], [3,4], (5,6)]\n",
    "a, b = t[1]\n",
    "```\n",
    "Options:\n",
    "```\n",
    "A. a = 3 and b = 4\n",
    "B. a = 5 and b = 6\n",
    "C. a = [3,4] and b = (5,6)\n",
    "D. None of the above.\n",
    "```"
   ]
  },
  {
   "cell_type": "code",
   "execution_count": 4,
   "id": "178819f1",
   "metadata": {},
   "outputs": [],
   "source": [
    "t = [[1,2], [3,4], (5,6)]\n",
    "a, b = t[1]"
   ]
  },
  {
   "cell_type": "code",
   "execution_count": 5,
   "id": "63aad9ad",
   "metadata": {},
   "outputs": [
    {
     "data": {
      "text/plain": [
       "3"
      ]
     },
     "execution_count": 5,
     "metadata": {},
     "output_type": "execute_result"
    }
   ],
   "source": [
    "a"
   ]
  },
  {
   "cell_type": "code",
   "execution_count": 6,
   "id": "aea1f518",
   "metadata": {},
   "outputs": [
    {
     "data": {
      "text/plain": [
       "4"
      ]
     },
     "execution_count": 6,
     "metadata": {},
     "output_type": "execute_result"
    }
   ],
   "source": [
    "b"
   ]
  },
  {
   "cell_type": "markdown",
   "id": "4372a7ef",
   "metadata": {},
   "source": [
    "## **Quiz-3**\n",
    "What will be the output of the following?\n",
    "```\n",
    "s1 = {1,2,3}\n",
    "s2 = {2,3,4,5}\n",
    "result = s1 & s2 - s2\n",
    "```\n",
    "```\n",
    "A.{1,2,3}\n",
    "B. {2,3}\n",
    "C. set()\n",
    "D. {2}\n",
    "```"
   ]
  },
  {
   "cell_type": "code",
   "execution_count": 8,
   "id": "2e3fd944",
   "metadata": {},
   "outputs": [
    {
     "data": {
      "text/plain": [
       "set()"
      ]
     },
     "execution_count": 8,
     "metadata": {},
     "output_type": "execute_result"
    }
   ],
   "source": [
    "s1 = {1,2,3}\n",
    "s2 = {2,3,4,5}\n",
    "result = s1 & s2 - s2\n",
    "result"
   ]
  },
  {
   "cell_type": "markdown",
   "id": "e1e04c6b",
   "metadata": {},
   "source": [
    "# Dictionary "
   ]
  },
  {
   "cell_type": "code",
   "execution_count": 9,
   "id": "957f9f64",
   "metadata": {},
   "outputs": [
    {
     "data": {
      "text/plain": [
       "dict"
      ]
     },
     "execution_count": 9,
     "metadata": {},
     "output_type": "execute_result"
    }
   ],
   "source": [
    "d ={}\n",
    "type(d)"
   ]
  },
  {
   "cell_type": "code",
   "execution_count": 10,
   "id": "c487b700",
   "metadata": {},
   "outputs": [
    {
     "data": {
      "text/plain": [
       "set()"
      ]
     },
     "execution_count": 10,
     "metadata": {},
     "output_type": "execute_result"
    }
   ],
   "source": [
    "set()"
   ]
  },
  {
   "cell_type": "code",
   "execution_count": null,
   "id": "c76fc18c",
   "metadata": {},
   "outputs": [],
   "source": [
    "# Dict -  Curly braces\n",
    "# key value pair"
   ]
  },
  {
   "cell_type": "code",
   "execution_count": null,
   "id": "6ec43755",
   "metadata": {},
   "outputs": [],
   "source": []
  },
  {
   "cell_type": "code",
   "execution_count": 11,
   "id": "722002b0",
   "metadata": {},
   "outputs": [],
   "source": [
    "a = {\n",
    "    \"random\"     : \"something which is not defoned\",\n",
    "    \"bizaarious\" : \"Ajeeb..!!\",\n",
    "    \"ship\"       : \"mode of transpotation\"\n",
    "}"
   ]
  },
  {
   "cell_type": "markdown",
   "id": "9c3b64d2",
   "metadata": {},
   "source": [
    "## **Why dictionaries?**"
   ]
  },
  {
   "cell_type": "code",
   "execution_count": 12,
   "id": "bb638601",
   "metadata": {},
   "outputs": [],
   "source": [
    "state_wise_data = {\n",
    "    \"Delhi\": 450,\n",
    "    \"Haryana\": 400,\n",
    "    \"UP\": 700\n",
    "}"
   ]
  },
  {
   "cell_type": "code",
   "execution_count": 13,
   "id": "89d3544e",
   "metadata": {},
   "outputs": [],
   "source": [
    "state_wise_data_tup = [(\"Delhi\", 450), (\"Haryana\", 400), (\"UP\", 700)]"
   ]
  },
  {
   "cell_type": "code",
   "execution_count": 14,
   "id": "d56e6238",
   "metadata": {},
   "outputs": [
    {
     "data": {
      "text/plain": [
       "('Haryana', 400)"
      ]
     },
     "execution_count": 14,
     "metadata": {},
     "output_type": "execute_result"
    }
   ],
   "source": [
    "state_wise_data_tup[1]"
   ]
  },
  {
   "cell_type": "code",
   "execution_count": 15,
   "id": "12937f0b",
   "metadata": {},
   "outputs": [
    {
     "data": {
      "text/plain": [
       "400"
      ]
     },
     "execution_count": 15,
     "metadata": {},
     "output_type": "execute_result"
    }
   ],
   "source": [
    "state_wise_data['Haryana']"
   ]
  },
  {
   "cell_type": "markdown",
   "id": "6d4b76ea",
   "metadata": {},
   "source": [
    "* Dictionaries are not **ordered** or **subscriptable(indexing)**.\n",
    "* You access a value directly by using the **key**.\n"
   ]
  },
  {
   "cell_type": "code",
   "execution_count": 16,
   "id": "7e6e6eb7",
   "metadata": {},
   "outputs": [
    {
     "ename": "KeyError",
     "evalue": "1",
     "output_type": "error",
     "traceback": [
      "\u001b[1;31m---------------------------------------------------------------------------\u001b[0m",
      "\u001b[1;31mKeyError\u001b[0m                                  Traceback (most recent call last)",
      "\u001b[1;32m~\\AppData\\Local\\Temp\\ipykernel_20076\\36350193.py\u001b[0m in \u001b[0;36m<cell line: 1>\u001b[1;34m()\u001b[0m\n\u001b[1;32m----> 1\u001b[1;33m \u001b[0mstate_wise_data\u001b[0m\u001b[1;33m[\u001b[0m\u001b[1;36m1\u001b[0m\u001b[1;33m]\u001b[0m\u001b[1;33m\u001b[0m\u001b[1;33m\u001b[0m\u001b[0m\n\u001b[0m",
      "\u001b[1;31mKeyError\u001b[0m: 1"
     ]
    }
   ],
   "source": [
    "state_wise_data[1]"
   ]
  },
  {
   "cell_type": "code",
   "execution_count": 17,
   "id": "1d156898",
   "metadata": {},
   "outputs": [
    {
     "data": {
      "text/plain": [
       "dict"
      ]
     },
     "execution_count": 17,
     "metadata": {},
     "output_type": "execute_result"
    }
   ],
   "source": [
    "type(state_wise_data)"
   ]
  },
  {
   "cell_type": "markdown",
   "id": "28d521b5",
   "metadata": {},
   "source": [
    "## **Properties of dictionaries**"
   ]
  },
  {
   "cell_type": "markdown",
   "id": "345e99ef",
   "metadata": {},
   "source": [
    "### **Updating a dictionary**"
   ]
  },
  {
   "cell_type": "code",
   "execution_count": 20,
   "id": "d60c10fc",
   "metadata": {},
   "outputs": [],
   "source": [
    "a =state_wise_data"
   ]
  },
  {
   "cell_type": "code",
   "execution_count": 21,
   "id": "e7cc9fb4",
   "metadata": {},
   "outputs": [
    {
     "data": {
      "text/plain": [
       "{'Delhi': 450, 'Haryana': 400, 'UP': 700}"
      ]
     },
     "execution_count": 21,
     "metadata": {},
     "output_type": "execute_result"
    }
   ],
   "source": [
    "a"
   ]
  },
  {
   "cell_type": "code",
   "execution_count": 22,
   "id": "5f72db98",
   "metadata": {},
   "outputs": [
    {
     "data": {
      "text/plain": [
       "450"
      ]
     },
     "execution_count": 22,
     "metadata": {},
     "output_type": "execute_result"
    }
   ],
   "source": [
    "a['Delhi']"
   ]
  },
  {
   "cell_type": "code",
   "execution_count": 23,
   "id": "bf5c90e2",
   "metadata": {},
   "outputs": [],
   "source": [
    "p = 7\n",
    "p=700"
   ]
  },
  {
   "cell_type": "code",
   "execution_count": 24,
   "id": "132d53d7",
   "metadata": {},
   "outputs": [
    {
     "data": {
      "text/plain": [
       "700"
      ]
     },
     "execution_count": 24,
     "metadata": {},
     "output_type": "execute_result"
    }
   ],
   "source": [
    "p"
   ]
  },
  {
   "cell_type": "code",
   "execution_count": 25,
   "id": "be158f3f",
   "metadata": {},
   "outputs": [],
   "source": [
    "a['Delhi'] = 500 #udate an old key"
   ]
  },
  {
   "cell_type": "code",
   "execution_count": 26,
   "id": "8f610da7",
   "metadata": {},
   "outputs": [
    {
     "data": {
      "text/plain": [
       "{'Delhi': 500, 'Haryana': 400, 'UP': 700}"
      ]
     },
     "execution_count": 26,
     "metadata": {},
     "output_type": "execute_result"
    }
   ],
   "source": [
    "a"
   ]
  },
  {
   "cell_type": "markdown",
   "id": "3d6ebf11",
   "metadata": {},
   "source": [
    "# Keys cannot be duplicate"
   ]
  },
  {
   "cell_type": "code",
   "execution_count": 27,
   "id": "4464d443",
   "metadata": {},
   "outputs": [],
   "source": [
    "a['delhi'] = 550 # create a new key"
   ]
  },
  {
   "cell_type": "code",
   "execution_count": 28,
   "id": "d77f13ea",
   "metadata": {},
   "outputs": [
    {
     "data": {
      "text/plain": [
       "{'Delhi': 500, 'Haryana': 400, 'UP': 700, 'delhi': 550}"
      ]
     },
     "execution_count": 28,
     "metadata": {},
     "output_type": "execute_result"
    }
   ],
   "source": [
    "a"
   ]
  },
  {
   "cell_type": "code",
   "execution_count": 29,
   "id": "3c712add",
   "metadata": {},
   "outputs": [],
   "source": [
    "b = {\n",
    "    \"Chang\":300,\n",
    "    \"Guj\":800,\n",
    "    \"MAH\":900\n",
    "}"
   ]
  },
  {
   "cell_type": "code",
   "execution_count": 30,
   "id": "bd610286",
   "metadata": {},
   "outputs": [
    {
     "data": {
      "text/plain": [
       "{'Delhi': 500, 'Haryana': 400, 'UP': 700, 'delhi': 550}"
      ]
     },
     "execution_count": 30,
     "metadata": {},
     "output_type": "execute_result"
    }
   ],
   "source": [
    "a"
   ]
  },
  {
   "cell_type": "code",
   "execution_count": 31,
   "id": "0d2d34a3",
   "metadata": {},
   "outputs": [
    {
     "data": {
      "text/plain": [
       "{'Chang': 300, 'Guj': 800, 'MAH': 900}"
      ]
     },
     "execution_count": 31,
     "metadata": {},
     "output_type": "execute_result"
    }
   ],
   "source": [
    "b"
   ]
  },
  {
   "cell_type": "code",
   "execution_count": 32,
   "id": "f6a5da89",
   "metadata": {},
   "outputs": [],
   "source": [
    "a.update(b)"
   ]
  },
  {
   "cell_type": "code",
   "execution_count": 33,
   "id": "8c9aa9f7",
   "metadata": {},
   "outputs": [
    {
     "data": {
      "text/plain": [
       "{'Delhi': 500,\n",
       " 'Haryana': 400,\n",
       " 'UP': 700,\n",
       " 'delhi': 550,\n",
       " 'Chang': 300,\n",
       " 'Guj': 800,\n",
       " 'MAH': 900}"
      ]
     },
     "execution_count": 33,
     "metadata": {},
     "output_type": "execute_result"
    }
   ],
   "source": [
    "a"
   ]
  },
  {
   "cell_type": "code",
   "execution_count": 34,
   "id": "571ab18a",
   "metadata": {},
   "outputs": [
    {
     "ename": "TypeError",
     "evalue": "unsupported operand type(s) for +: 'dict' and 'dict'",
     "output_type": "error",
     "traceback": [
      "\u001b[1;31m---------------------------------------------------------------------------\u001b[0m",
      "\u001b[1;31mTypeError\u001b[0m                                 Traceback (most recent call last)",
      "\u001b[1;32m~\\AppData\\Local\\Temp\\ipykernel_20076\\3553919051.py\u001b[0m in \u001b[0;36m<cell line: 1>\u001b[1;34m()\u001b[0m\n\u001b[1;32m----> 1\u001b[1;33m \u001b[0ma\u001b[0m\u001b[1;33m+\u001b[0m\u001b[0mb\u001b[0m\u001b[1;33m\u001b[0m\u001b[1;33m\u001b[0m\u001b[0m\n\u001b[0m",
      "\u001b[1;31mTypeError\u001b[0m: unsupported operand type(s) for +: 'dict' and 'dict'"
     ]
    }
   ],
   "source": [
    "a+b"
   ]
  },
  {
   "cell_type": "code",
   "execution_count": 35,
   "id": "5e8756a2",
   "metadata": {},
   "outputs": [],
   "source": [
    "d = {'Delhi': 500,\n",
    " 'Haryana': 400,\n",
    " 'UP': 700,\n",
    " 'delhi': 550,\n",
    " 'Chang': 300,\n",
    " 'Guj': 800,\n",
    " 'Delhi': 900}"
   ]
  },
  {
   "cell_type": "code",
   "execution_count": 36,
   "id": "3d91f09d",
   "metadata": {},
   "outputs": [
    {
     "data": {
      "text/plain": [
       "{'Delhi': 900,\n",
       " 'Haryana': 400,\n",
       " 'UP': 700,\n",
       " 'delhi': 550,\n",
       " 'Chang': 300,\n",
       " 'Guj': 800}"
      ]
     },
     "execution_count": 36,
     "metadata": {},
     "output_type": "execute_result"
    }
   ],
   "source": [
    "d"
   ]
  },
  {
   "cell_type": "code",
   "execution_count": 37,
   "id": "07e67c42",
   "metadata": {},
   "outputs": [],
   "source": [
    "d.update({\n",
    "    \"Kash\":300,\n",
    "    \"Delhi\":400\n",
    "}\n",
    "\n",
    ")"
   ]
  },
  {
   "cell_type": "code",
   "execution_count": 38,
   "id": "b055d5ff",
   "metadata": {},
   "outputs": [
    {
     "data": {
      "text/plain": [
       "{'Delhi': 400,\n",
       " 'Haryana': 400,\n",
       " 'UP': 700,\n",
       " 'delhi': 550,\n",
       " 'Chang': 300,\n",
       " 'Guj': 800,\n",
       " 'Kash': 300}"
      ]
     },
     "execution_count": 38,
     "metadata": {},
     "output_type": "execute_result"
    }
   ],
   "source": [
    "d"
   ]
  },
  {
   "cell_type": "code",
   "execution_count": null,
   "id": "2a25ad29",
   "metadata": {},
   "outputs": [],
   "source": [
    "### summary\n",
    "d ={}\n",
    "print(type(d))\n",
    "\n",
    "d = {\"key\":\"value\" }\n",
    "d['key1111'] # you should get a value\n",
    "d['key1111'] =8000 # update a value\n",
    "d['new key'] =add something # adding a new key\n",
    "d.update({\"k\":\"v\"})"
   ]
  },
  {
   "cell_type": "markdown",
   "id": "cced539f",
   "metadata": {},
   "source": [
    "### **Another way of accessing values from dictionary**"
   ]
  },
  {
   "cell_type": "code",
   "execution_count": 42,
   "id": "99492ac5",
   "metadata": {},
   "outputs": [],
   "source": [
    "random = {\n",
    "    \"a\": 1,\n",
    "    \"b\": 2,\n",
    "    \"c\": [\"1,2,23\",\"1\"]\n",
    "}"
   ]
  },
  {
   "cell_type": "code",
   "execution_count": 44,
   "id": "11fc87d8",
   "metadata": {},
   "outputs": [
    {
     "data": {
      "text/plain": [
       "{'a': 1, 'b': 2, 'c': ['1,2,23', '1']}"
      ]
     },
     "execution_count": 44,
     "metadata": {},
     "output_type": "execute_result"
    }
   ],
   "source": [
    "random"
   ]
  },
  {
   "cell_type": "code",
   "execution_count": 46,
   "id": "e2010a58",
   "metadata": {},
   "outputs": [
    {
     "ename": "KeyError",
     "evalue": "'d'",
     "output_type": "error",
     "traceback": [
      "\u001b[1;31m---------------------------------------------------------------------------\u001b[0m",
      "\u001b[1;31mKeyError\u001b[0m                                  Traceback (most recent call last)",
      "\u001b[1;32m~\\AppData\\Local\\Temp\\ipykernel_20076\\3965207558.py\u001b[0m in \u001b[0;36m<cell line: 1>\u001b[1;34m()\u001b[0m\n\u001b[1;32m----> 1\u001b[1;33m \u001b[0mrandom\u001b[0m\u001b[1;33m[\u001b[0m\u001b[1;34m'd'\u001b[0m\u001b[1;33m]\u001b[0m\u001b[1;33m\u001b[0m\u001b[1;33m\u001b[0m\u001b[0m\n\u001b[0m\u001b[0;32m      2\u001b[0m \u001b[0mprint\u001b[0m\u001b[1;33m(\u001b[0m\u001b[1;34m\"Vikrant\"\u001b[0m\u001b[1;33m)\u001b[0m\u001b[1;33m\u001b[0m\u001b[1;33m\u001b[0m\u001b[0m\n",
      "\u001b[1;31mKeyError\u001b[0m: 'd'"
     ]
    }
   ],
   "source": [
    "random['d']\n",
    "print(\"Vikrant\")"
   ]
  },
  {
   "cell_type": "code",
   "execution_count": 47,
   "id": "329dd53a",
   "metadata": {},
   "outputs": [
    {
     "data": {
      "text/plain": [
       "1"
      ]
     },
     "execution_count": 47,
     "metadata": {},
     "output_type": "execute_result"
    }
   ],
   "source": [
    "random.get(\"a\")"
   ]
  },
  {
   "cell_type": "code",
   "execution_count": 48,
   "id": "d861a331",
   "metadata": {},
   "outputs": [
    {
     "data": {
      "text/plain": [
       "1"
      ]
     },
     "execution_count": 48,
     "metadata": {},
     "output_type": "execute_result"
    }
   ],
   "source": [
    "random[\"a\"]"
   ]
  },
  {
   "cell_type": "code",
   "execution_count": 50,
   "id": "5b6ce22e",
   "metadata": {},
   "outputs": [
    {
     "name": "stdout",
     "output_type": "stream",
     "text": [
      "None\n"
     ]
    }
   ],
   "source": [
    "r = random.get(\"d\")\n",
    "print(r)"
   ]
  },
  {
   "cell_type": "code",
   "execution_count": 51,
   "id": "f1738e1c",
   "metadata": {},
   "outputs": [
    {
     "name": "stdout",
     "output_type": "stream",
     "text": [
      "1\n"
     ]
    }
   ],
   "source": [
    "r = random.get(\"a\")\n",
    "print(r)"
   ]
  },
  {
   "cell_type": "code",
   "execution_count": 52,
   "id": "c65633b7",
   "metadata": {},
   "outputs": [
    {
     "name": "stdout",
     "output_type": "stream",
     "text": [
      "Not Found go away..!\n"
     ]
    }
   ],
   "source": [
    "r = random.get(\"d\",\"Not Found go away..!\")# None is by defaulrt , but you can guive your personal message\n",
    "print(r)"
   ]
  },
  {
   "cell_type": "markdown",
   "id": "c542c9a4",
   "metadata": {},
   "source": [
    "### **How do we remove a key?**"
   ]
  },
  {
   "cell_type": "code",
   "execution_count": 53,
   "id": "a9e1a59b",
   "metadata": {},
   "outputs": [
    {
     "data": {
      "text/plain": [
       "{'Delhi': 400,\n",
       " 'Haryana': 400,\n",
       " 'UP': 700,\n",
       " 'delhi': 550,\n",
       " 'Chang': 300,\n",
       " 'Guj': 800,\n",
       " 'Kash': 300}"
      ]
     },
     "execution_count": 53,
     "metadata": {},
     "output_type": "execute_result"
    }
   ],
   "source": [
    "d"
   ]
  },
  {
   "cell_type": "code",
   "execution_count": 54,
   "id": "30d779e2",
   "metadata": {},
   "outputs": [
    {
     "data": {
      "text/plain": [
       "550"
      ]
     },
     "execution_count": 54,
     "metadata": {},
     "output_type": "execute_result"
    }
   ],
   "source": [
    "d.pop(\"delhi\")"
   ]
  },
  {
   "cell_type": "code",
   "execution_count": 55,
   "id": "76431e4c",
   "metadata": {},
   "outputs": [
    {
     "data": {
      "text/plain": [
       "{'Delhi': 400,\n",
       " 'Haryana': 400,\n",
       " 'UP': 700,\n",
       " 'Chang': 300,\n",
       " 'Guj': 800,\n",
       " 'Kash': 300}"
      ]
     },
     "execution_count": 55,
     "metadata": {},
     "output_type": "execute_result"
    }
   ],
   "source": [
    "d"
   ]
  },
  {
   "cell_type": "code",
   "execution_count": 56,
   "id": "f844d6c5",
   "metadata": {},
   "outputs": [
    {
     "ename": "TypeError",
     "evalue": "pop expected at least 1 argument, got 0",
     "output_type": "error",
     "traceback": [
      "\u001b[1;31m---------------------------------------------------------------------------\u001b[0m",
      "\u001b[1;31mTypeError\u001b[0m                                 Traceback (most recent call last)",
      "\u001b[1;32m~\\AppData\\Local\\Temp\\ipykernel_20076\\1274378990.py\u001b[0m in \u001b[0;36m<cell line: 1>\u001b[1;34m()\u001b[0m\n\u001b[1;32m----> 1\u001b[1;33m \u001b[0md\u001b[0m\u001b[1;33m.\u001b[0m\u001b[0mpop\u001b[0m\u001b[1;33m(\u001b[0m\u001b[1;33m)\u001b[0m\u001b[1;33m\u001b[0m\u001b[1;33m\u001b[0m\u001b[0m\n\u001b[0m",
      "\u001b[1;31mTypeError\u001b[0m: pop expected at least 1 argument, got 0"
     ]
    }
   ],
   "source": [
    "d.pop()"
   ]
  },
  {
   "cell_type": "code",
   "execution_count": 57,
   "id": "5c0425a0",
   "metadata": {},
   "outputs": [
    {
     "ename": "KeyError",
     "evalue": "'delhi'",
     "output_type": "error",
     "traceback": [
      "\u001b[1;31m---------------------------------------------------------------------------\u001b[0m",
      "\u001b[1;31mKeyError\u001b[0m                                  Traceback (most recent call last)",
      "\u001b[1;32m~\\AppData\\Local\\Temp\\ipykernel_20076\\1581015698.py\u001b[0m in \u001b[0;36m<cell line: 1>\u001b[1;34m()\u001b[0m\n\u001b[1;32m----> 1\u001b[1;33m \u001b[0md\u001b[0m\u001b[1;33m.\u001b[0m\u001b[0mpop\u001b[0m\u001b[1;33m(\u001b[0m\u001b[1;34m\"delhi\"\u001b[0m\u001b[1;33m)\u001b[0m\u001b[1;33m\u001b[0m\u001b[1;33m\u001b[0m\u001b[0m\n\u001b[0m",
      "\u001b[1;31mKeyError\u001b[0m: 'delhi'"
     ]
    }
   ],
   "source": [
    "d.pop(\"delhi\")"
   ]
  },
  {
   "cell_type": "code",
   "execution_count": null,
   "id": "1a27e4d6",
   "metadata": {},
   "outputs": [],
   "source": [
    "# get method \n",
    "# none, your message\n",
    "#pop\n",
    "d.get(\"randomkey\")\n",
    "d.get(\"randomkey\",\"your meeage\")\n",
    "d.pop(\"key\")"
   ]
  },
  {
   "cell_type": "markdown",
   "id": "02ac3af8",
   "metadata": {},
   "source": [
    "## **Iterating over dictionaries.**"
   ]
  },
  {
   "cell_type": "code",
   "execution_count": 59,
   "id": "cd5c5336",
   "metadata": {},
   "outputs": [],
   "source": [
    "a = {\"name\": \"Thor odinson\",\n",
    "     \"weapon\": [\"strombreaker\"],\n",
    "     \"strongest\": True,\n",
    "     \"eyes\": 1,\n",
    "    \"Bhup[ati]\" : \"\"}"
   ]
  },
  {
   "cell_type": "code",
   "execution_count": 60,
   "id": "8cb48356",
   "metadata": {},
   "outputs": [
    {
     "data": {
      "text/plain": [
       "{'name': 'Thor odinson',\n",
       " 'weapon': ['strombreaker'],\n",
       " 'strongest': True,\n",
       " 'eyes': 1,\n",
       " 'Bhup[ati]': ''}"
      ]
     },
     "execution_count": 60,
     "metadata": {},
     "output_type": "execute_result"
    }
   ],
   "source": [
    "a"
   ]
  },
  {
   "cell_type": "markdown",
   "id": "dc76d587",
   "metadata": {},
   "source": [
    "# \"values can be any data structure as well as it can be dupluicate as well\""
   ]
  },
  {
   "cell_type": "code",
   "execution_count": null,
   "id": "9eff2d37",
   "metadata": {},
   "outputs": [],
   "source": []
  },
  {
   "cell_type": "code",
   "execution_count": 61,
   "id": "6b5e7e2a",
   "metadata": {},
   "outputs": [
    {
     "name": "stdout",
     "output_type": "stream",
     "text": [
      "name\n",
      "weapon\n",
      "strongest\n",
      "eyes\n",
      "Bhup[ati]\n"
     ]
    }
   ],
   "source": [
    "for i in a:# keys\n",
    "    print(i)"
   ]
  },
  {
   "cell_type": "code",
   "execution_count": 62,
   "id": "49e2641c",
   "metadata": {},
   "outputs": [
    {
     "data": {
      "text/plain": [
       "'Thor odinson'"
      ]
     },
     "execution_count": 62,
     "metadata": {},
     "output_type": "execute_result"
    }
   ],
   "source": [
    "a['name']"
   ]
  },
  {
   "cell_type": "code",
   "execution_count": 63,
   "id": "3dd5c130",
   "metadata": {},
   "outputs": [
    {
     "name": "stdout",
     "output_type": "stream",
     "text": [
      "Thor odinson\n",
      "['strombreaker']\n",
      "True\n",
      "1\n",
      "\n"
     ]
    }
   ],
   "source": [
    "for i in a:# keys\n",
    "    print(a[i])"
   ]
  },
  {
   "cell_type": "code",
   "execution_count": 65,
   "id": "9dd3dde5",
   "metadata": {},
   "outputs": [
    {
     "name": "stdout",
     "output_type": "stream",
     "text": [
      "name ---> Thor odinson\n",
      "weapon ---> ['strombreaker']\n",
      "strongest ---> True\n",
      "eyes ---> 1\n",
      "Bhup[ati] ---> \n"
     ]
    }
   ],
   "source": [
    "for i in a:# keys\n",
    "    print(i,\"--->\",a[i])"
   ]
  },
  {
   "cell_type": "markdown",
   "id": "5c44e0f6",
   "metadata": {},
   "source": [
    "* ```.keys()``` method in dicionaries \n",
    "\n",
    "---\n",
    "\n",
    "can be used to ge a list of all the keys in the dictionaries."
   ]
  },
  {
   "cell_type": "code",
   "execution_count": 66,
   "id": "ad99fb55",
   "metadata": {},
   "outputs": [
    {
     "data": {
      "text/plain": [
       "dict_keys(['name', 'weapon', 'strongest', 'eyes', 'Bhup[ati]'])"
      ]
     },
     "execution_count": 66,
     "metadata": {},
     "output_type": "execute_result"
    }
   ],
   "source": [
    "a.keys()"
   ]
  },
  {
   "cell_type": "code",
   "execution_count": 67,
   "id": "44b63a27",
   "metadata": {},
   "outputs": [
    {
     "name": "stdout",
     "output_type": "stream",
     "text": [
      "name\n",
      "weapon\n",
      "strongest\n",
      "eyes\n",
      "Bhup[ati]\n"
     ]
    }
   ],
   "source": [
    "for i in a.keys():\n",
    "    print(i)"
   ]
  },
  {
   "cell_type": "markdown",
   "id": "7931d89a",
   "metadata": {},
   "source": [
    "* ```.values()``` method in dicionaries can be used to ge a list of all the values in the dictionaries."
   ]
  },
  {
   "cell_type": "code",
   "execution_count": 68,
   "id": "021c2f4c",
   "metadata": {},
   "outputs": [
    {
     "data": {
      "text/plain": [
       "dict_values(['Thor odinson', ['strombreaker'], True, 1, ''])"
      ]
     },
     "execution_count": 68,
     "metadata": {},
     "output_type": "execute_result"
    }
   ],
   "source": [
    "a.values()"
   ]
  },
  {
   "cell_type": "markdown",
   "id": "0a59d3b0",
   "metadata": {},
   "source": [
    "* ```.items()``` method in dicionaries can be used to ge a list of all the key, value pair in the dictionaries."
   ]
  },
  {
   "cell_type": "code",
   "execution_count": 69,
   "id": "e00aac67",
   "metadata": {},
   "outputs": [
    {
     "data": {
      "text/plain": [
       "dict_items([('name', 'Thor odinson'), ('weapon', ['strombreaker']), ('strongest', True), ('eyes', 1), ('Bhup[ati]', '')])"
      ]
     },
     "execution_count": 69,
     "metadata": {},
     "output_type": "execute_result"
    }
   ],
   "source": [
    "a.items()"
   ]
  },
  {
   "cell_type": "code",
   "execution_count": 70,
   "id": "55ab1160",
   "metadata": {},
   "outputs": [
    {
     "name": "stdout",
     "output_type": "stream",
     "text": [
      "('name', 'Thor odinson')\n",
      "('weapon', ['strombreaker'])\n",
      "('strongest', True)\n",
      "('eyes', 1)\n",
      "('Bhup[ati]', '')\n"
     ]
    }
   ],
   "source": [
    "for i in a.items():\n",
    "    print(i)"
   ]
  },
  {
   "cell_type": "code",
   "execution_count": 71,
   "id": "23ce1f26",
   "metadata": {},
   "outputs": [
    {
     "name": "stdout",
     "output_type": "stream",
     "text": [
      "name ==> Thor odinson\n",
      "weapon ==> ['strombreaker']\n",
      "strongest ==> True\n",
      "eyes ==> 1\n",
      "Bhup[ati] ==> \n"
     ]
    }
   ],
   "source": [
    "for k,v in a.items():\n",
    "    print(k,\"==>\",v)"
   ]
  },
  {
   "cell_type": "markdown",
   "id": "bd5ed9a2",
   "metadata": {},
   "source": [
    "### **How do we check if a key exists within a dictionary?**"
   ]
  },
  {
   "cell_type": "code",
   "execution_count": 72,
   "id": "d956984e",
   "metadata": {},
   "outputs": [
    {
     "data": {
      "text/plain": [
       "False"
      ]
     },
     "execution_count": 72,
     "metadata": {},
     "output_type": "execute_result"
    }
   ],
   "source": [
    "6 in [234,23,42,45623,52,523,456,346,]"
   ]
  },
  {
   "cell_type": "code",
   "execution_count": 73,
   "id": "24fc63b0",
   "metadata": {},
   "outputs": [
    {
     "data": {
      "text/plain": [
       "True"
      ]
     },
     "execution_count": 73,
     "metadata": {},
     "output_type": "execute_result"
    }
   ],
   "source": [
    "6 in [234,23,42,45623,52,523,456,346,6]"
   ]
  },
  {
   "cell_type": "code",
   "execution_count": 74,
   "id": "47d32092",
   "metadata": {},
   "outputs": [
    {
     "data": {
      "text/plain": [
       "{'Delhi': 400,\n",
       " 'Haryana': 400,\n",
       " 'UP': 700,\n",
       " 'Chang': 300,\n",
       " 'Guj': 800,\n",
       " 'Kash': 300}"
      ]
     },
     "execution_count": 74,
     "metadata": {},
     "output_type": "execute_result"
    }
   ],
   "source": [
    "d"
   ]
  },
  {
   "cell_type": "code",
   "execution_count": 75,
   "id": "2a31a7e8",
   "metadata": {},
   "outputs": [
    {
     "data": {
      "text/plain": [
       "False"
      ]
     },
     "execution_count": 75,
     "metadata": {},
     "output_type": "execute_result"
    }
   ],
   "source": [
    "\"MAH\" in d.keys()"
   ]
  },
  {
   "cell_type": "code",
   "execution_count": 76,
   "id": "7e721051",
   "metadata": {},
   "outputs": [
    {
     "data": {
      "text/plain": [
       "True"
      ]
     },
     "execution_count": 76,
     "metadata": {},
     "output_type": "execute_result"
    }
   ],
   "source": [
    "\"Delhi\" in d.keys()"
   ]
  },
  {
   "cell_type": "code",
   "execution_count": 77,
   "id": "1bb4bc81",
   "metadata": {},
   "outputs": [
    {
     "data": {
      "text/plain": [
       "False"
      ]
     },
     "execution_count": 77,
     "metadata": {},
     "output_type": "execute_result"
    }
   ],
   "source": [
    "\"400\" in d.values()"
   ]
  },
  {
   "cell_type": "code",
   "execution_count": 78,
   "id": "f8cdd99a",
   "metadata": {},
   "outputs": [
    {
     "data": {
      "text/plain": [
       "True"
      ]
     },
     "execution_count": 78,
     "metadata": {},
     "output_type": "execute_result"
    }
   ],
   "source": [
    "400 in d.values()"
   ]
  },
  {
   "cell_type": "code",
   "execution_count": null,
   "id": "42638e2b",
   "metadata": {},
   "outputs": [],
   "source": []
  },
  {
   "cell_type": "markdown",
   "id": "8243210f",
   "metadata": {},
   "source": [
    "## **Can we have an object of any datatype as a key in dictionary?**"
   ]
  },
  {
   "cell_type": "markdown",
   "id": "74f4441a",
   "metadata": {},
   "source": [
    "* we cannot have **sets**, **dictionaries** and **lists** as elements as KEYs because they are **mutable**.\n",
    "* This is the exact same case with dictionaries.\n",
    "* **Values** - Can sore any data structure or any data type.\n",
    "* **Keys** - Lists, Sets and Dictionaries are not allowed."
   ]
  },
  {
   "cell_type": "code",
   "execution_count": 84,
   "id": "d6660917",
   "metadata": {},
   "outputs": [],
   "source": [
    "d = {\n",
    "    (1,2,3): \"Dinesh\",\n",
    "    5      : [123,14,235,],\n",
    "    5.3    : {23423,234,1234},\n",
    "    \"True\" : {1:4,5:6},\n",
    "    True   : (1,2)\n",
    "    \n",
    "}"
   ]
  },
  {
   "cell_type": "code",
   "execution_count": 85,
   "id": "6d53d9aa",
   "metadata": {},
   "outputs": [
    {
     "data": {
      "text/plain": [
       "{(1, 2, 3): 'Dinesh',\n",
       " 5: [123, 14, 235],\n",
       " 5.3: {234, 1234, 23423},\n",
       " 'True': {1: 4, 5: 6},\n",
       " True: (1, 2)}"
      ]
     },
     "execution_count": 85,
     "metadata": {},
     "output_type": "execute_result"
    }
   ],
   "source": [
    "d"
   ]
  },
  {
   "cell_type": "code",
   "execution_count": 86,
   "id": "d1b08e9d",
   "metadata": {},
   "outputs": [
    {
     "ename": "TypeError",
     "evalue": "unhashable type: 'list'",
     "output_type": "error",
     "traceback": [
      "\u001b[1;31m---------------------------------------------------------------------------\u001b[0m",
      "\u001b[1;31mTypeError\u001b[0m                                 Traceback (most recent call last)",
      "\u001b[1;32m~\\AppData\\Local\\Temp\\ipykernel_20076\\238286307.py\u001b[0m in \u001b[0;36m<cell line: 2>\u001b[1;34m()\u001b[0m\n\u001b[1;32m----> 1\u001b[1;33m d = {\n\u001b[0m\u001b[0;32m      2\u001b[0m     \u001b[1;33m[\u001b[0m\u001b[1;36m1\u001b[0m\u001b[1;33m,\u001b[0m\u001b[1;36m2\u001b[0m\u001b[1;33m,\u001b[0m\u001b[1;36m3\u001b[0m\u001b[1;33m]\u001b[0m\u001b[1;33m:\u001b[0m \u001b[1;34m\"Dinesh\"\u001b[0m\u001b[1;33m,\u001b[0m\u001b[1;33m\u001b[0m\u001b[1;33m\u001b[0m\u001b[0m\n\u001b[0;32m      3\u001b[0m     \u001b[1;36m5\u001b[0m      \u001b[1;33m:\u001b[0m \u001b[1;33m[\u001b[0m\u001b[1;36m123\u001b[0m\u001b[1;33m,\u001b[0m\u001b[1;36m14\u001b[0m\u001b[1;33m,\u001b[0m\u001b[1;36m235\u001b[0m\u001b[1;33m,\u001b[0m\u001b[1;33m]\u001b[0m\u001b[1;33m,\u001b[0m\u001b[1;33m\u001b[0m\u001b[1;33m\u001b[0m\u001b[0m\n\u001b[0;32m      4\u001b[0m     \u001b[1;36m5.3\u001b[0m    \u001b[1;33m:\u001b[0m \u001b[1;33m{\u001b[0m\u001b[1;36m23423\u001b[0m\u001b[1;33m,\u001b[0m\u001b[1;36m234\u001b[0m\u001b[1;33m,\u001b[0m\u001b[1;36m1234\u001b[0m\u001b[1;33m}\u001b[0m\u001b[1;33m,\u001b[0m\u001b[1;33m\u001b[0m\u001b[1;33m\u001b[0m\u001b[0m\n\u001b[0;32m      5\u001b[0m     \u001b[1;34m\"True\"\u001b[0m \u001b[1;33m:\u001b[0m \u001b[1;33m{\u001b[0m\u001b[1;36m1\u001b[0m\u001b[1;33m:\u001b[0m\u001b[1;36m4\u001b[0m\u001b[1;33m,\u001b[0m\u001b[1;36m5\u001b[0m\u001b[1;33m:\u001b[0m\u001b[1;36m6\u001b[0m\u001b[1;33m}\u001b[0m\u001b[1;33m,\u001b[0m\u001b[1;33m\u001b[0m\u001b[1;33m\u001b[0m\u001b[0m\n",
      "\u001b[1;31mTypeError\u001b[0m: unhashable type: 'list'"
     ]
    }
   ],
   "source": [
    "d = {\n",
    "    [1,2,3]: \"Dinesh\",\n",
    "    5      : [123,14,235,],\n",
    "    5.3    : {23423,234,1234},\n",
    "    \"True\" : {1:4,5:6},\n",
    "    True   : (1,2)\n",
    "    \n",
    "}"
   ]
  },
  {
   "cell_type": "code",
   "execution_count": 87,
   "id": "baa54490",
   "metadata": {},
   "outputs": [
    {
     "ename": "TypeError",
     "evalue": "unhashable type: 'set'",
     "output_type": "error",
     "traceback": [
      "\u001b[1;31m---------------------------------------------------------------------------\u001b[0m",
      "\u001b[1;31mTypeError\u001b[0m                                 Traceback (most recent call last)",
      "\u001b[1;32m~\\AppData\\Local\\Temp\\ipykernel_20076\\3785464537.py\u001b[0m in \u001b[0;36m<cell line: 2>\u001b[1;34m()\u001b[0m\n\u001b[1;32m----> 1\u001b[1;33m d = {\n\u001b[0m\u001b[0;32m      2\u001b[0m     \u001b[1;33m{\u001b[0m\u001b[1;36m1\u001b[0m\u001b[1;33m,\u001b[0m\u001b[1;36m2\u001b[0m\u001b[1;33m,\u001b[0m\u001b[1;36m3\u001b[0m\u001b[1;33m}\u001b[0m\u001b[1;33m:\u001b[0m \u001b[1;34m\"Dinesh\"\u001b[0m\u001b[1;33m,\u001b[0m\u001b[1;33m\u001b[0m\u001b[1;33m\u001b[0m\u001b[0m\n\u001b[0;32m      3\u001b[0m     \u001b[1;36m5\u001b[0m      \u001b[1;33m:\u001b[0m \u001b[1;33m[\u001b[0m\u001b[1;36m123\u001b[0m\u001b[1;33m,\u001b[0m\u001b[1;36m14\u001b[0m\u001b[1;33m,\u001b[0m\u001b[1;36m235\u001b[0m\u001b[1;33m,\u001b[0m\u001b[1;33m]\u001b[0m\u001b[1;33m,\u001b[0m\u001b[1;33m\u001b[0m\u001b[1;33m\u001b[0m\u001b[0m\n\u001b[0;32m      4\u001b[0m     \u001b[1;36m5.3\u001b[0m    \u001b[1;33m:\u001b[0m \u001b[1;33m{\u001b[0m\u001b[1;36m23423\u001b[0m\u001b[1;33m,\u001b[0m\u001b[1;36m234\u001b[0m\u001b[1;33m,\u001b[0m\u001b[1;36m1234\u001b[0m\u001b[1;33m}\u001b[0m\u001b[1;33m,\u001b[0m\u001b[1;33m\u001b[0m\u001b[1;33m\u001b[0m\u001b[0m\n\u001b[0;32m      5\u001b[0m     \u001b[1;34m\"True\"\u001b[0m \u001b[1;33m:\u001b[0m \u001b[1;33m{\u001b[0m\u001b[1;36m1\u001b[0m\u001b[1;33m:\u001b[0m\u001b[1;36m4\u001b[0m\u001b[1;33m,\u001b[0m\u001b[1;36m5\u001b[0m\u001b[1;33m:\u001b[0m\u001b[1;36m6\u001b[0m\u001b[1;33m}\u001b[0m\u001b[1;33m,\u001b[0m\u001b[1;33m\u001b[0m\u001b[1;33m\u001b[0m\u001b[0m\n",
      "\u001b[1;31mTypeError\u001b[0m: unhashable type: 'set'"
     ]
    }
   ],
   "source": [
    "d = {\n",
    "    {1,2,3}: \"Dinesh\",\n",
    "    5      : [123,14,235,],\n",
    "    5.3    : {23423,234,1234},\n",
    "    \"True\" : {1:4,5:6},\n",
    "    True   : (1,2)\n",
    "    \n",
    "}"
   ]
  },
  {
   "cell_type": "code",
   "execution_count": 88,
   "id": "ab763b04",
   "metadata": {},
   "outputs": [
    {
     "ename": "TypeError",
     "evalue": "unhashable type: 'dict'",
     "output_type": "error",
     "traceback": [
      "\u001b[1;31m---------------------------------------------------------------------------\u001b[0m",
      "\u001b[1;31mTypeError\u001b[0m                                 Traceback (most recent call last)",
      "\u001b[1;32m~\\AppData\\Local\\Temp\\ipykernel_20076\\2640215204.py\u001b[0m in \u001b[0;36m<cell line: 2>\u001b[1;34m()\u001b[0m\n\u001b[1;32m----> 1\u001b[1;33m d = {\n\u001b[0m\u001b[0;32m      2\u001b[0m     \u001b[1;33m{\u001b[0m\u001b[1;36m1\u001b[0m\u001b[1;33m:\u001b[0m\u001b[1;36m3\u001b[0m\u001b[1;33m}\u001b[0m\u001b[1;33m:\u001b[0m \u001b[1;34m\"Dinesh\"\u001b[0m\u001b[1;33m,\u001b[0m\u001b[1;33m\u001b[0m\u001b[1;33m\u001b[0m\u001b[0m\n\u001b[0;32m      3\u001b[0m     \u001b[1;36m5\u001b[0m      \u001b[1;33m:\u001b[0m \u001b[1;33m[\u001b[0m\u001b[1;36m123\u001b[0m\u001b[1;33m,\u001b[0m\u001b[1;36m14\u001b[0m\u001b[1;33m,\u001b[0m\u001b[1;36m235\u001b[0m\u001b[1;33m,\u001b[0m\u001b[1;33m]\u001b[0m\u001b[1;33m,\u001b[0m\u001b[1;33m\u001b[0m\u001b[1;33m\u001b[0m\u001b[0m\n\u001b[0;32m      4\u001b[0m     \u001b[1;36m5.3\u001b[0m    \u001b[1;33m:\u001b[0m \u001b[1;33m{\u001b[0m\u001b[1;36m23423\u001b[0m\u001b[1;33m,\u001b[0m\u001b[1;36m234\u001b[0m\u001b[1;33m,\u001b[0m\u001b[1;36m1234\u001b[0m\u001b[1;33m}\u001b[0m\u001b[1;33m,\u001b[0m\u001b[1;33m\u001b[0m\u001b[1;33m\u001b[0m\u001b[0m\n\u001b[0;32m      5\u001b[0m     \u001b[1;34m\"True\"\u001b[0m \u001b[1;33m:\u001b[0m \u001b[1;33m{\u001b[0m\u001b[1;36m1\u001b[0m\u001b[1;33m:\u001b[0m\u001b[1;36m4\u001b[0m\u001b[1;33m,\u001b[0m\u001b[1;36m5\u001b[0m\u001b[1;33m:\u001b[0m\u001b[1;36m6\u001b[0m\u001b[1;33m}\u001b[0m\u001b[1;33m,\u001b[0m\u001b[1;33m\u001b[0m\u001b[1;33m\u001b[0m\u001b[0m\n",
      "\u001b[1;31mTypeError\u001b[0m: unhashable type: 'dict'"
     ]
    }
   ],
   "source": [
    "d = {\n",
    "    {1:3}: \"Dinesh\",\n",
    "    5      : [123,14,235,],\n",
    "    5.3    : {23423,234,1234},\n",
    "    \"True\" : {1:4,5:6},\n",
    "    True   : (1,2)\n",
    "    \n",
    "}"
   ]
  },
  {
   "cell_type": "markdown",
   "id": "3b04a0a7",
   "metadata": {},
   "source": [
    "## **Question**\n",
    "* Take a string as input.\n",
    "* Create a dictionary according to the following criteria :-\n",
    "    * There will be one key value pair for each unique character\n",
    "    * Key will be character name and value will be the count of the character inside the string.\n",
    "\n",
    "\n",
    "**Example input**:\n",
    "```\n",
    "rrssstttt\n",
    "```\n",
    "\n",
    "**Example output**:\n",
    "```\n",
    "{\n",
    "    \"r\": 2,\n",
    "    \"s\": 3,\n",
    "    \"t\": 4\n",
    "}\n",
    "```"
   ]
  },
  {
   "cell_type": "code",
   "execution_count": null,
   "id": "89d8df9f",
   "metadata": {},
   "outputs": [],
   "source": [
    "#task 1 - all unique char\n",
    "#task 2 - count that using count methid of string"
   ]
  },
  {
   "cell_type": "code",
   "execution_count": 93,
   "id": "d700e75d",
   "metadata": {},
   "outputs": [
    {
     "data": {
      "text/plain": [
       "{'r', 's', 't'}"
      ]
     },
     "execution_count": 93,
     "metadata": {},
     "output_type": "execute_result"
    }
   ],
   "source": [
    "str1 = \"rrssstttt\"\n",
    "set(str1)"
   ]
  },
  {
   "cell_type": "code",
   "execution_count": 94,
   "id": "6473435f",
   "metadata": {},
   "outputs": [
    {
     "data": {
      "text/plain": [
       "4"
      ]
     },
     "execution_count": 94,
     "metadata": {},
     "output_type": "execute_result"
    }
   ],
   "source": [
    "str1.count(\"t\")"
   ]
  },
  {
   "cell_type": "code",
   "execution_count": 95,
   "id": "c590f7e0",
   "metadata": {},
   "outputs": [],
   "source": [
    "d['delhi']= 550"
   ]
  },
  {
   "cell_type": "code",
   "execution_count": 96,
   "id": "635ffc14",
   "metadata": {},
   "outputs": [
    {
     "data": {
      "text/plain": [
       "{'s': 3, 't': 4, 'r': 2}"
      ]
     },
     "execution_count": 96,
     "metadata": {},
     "output_type": "execute_result"
    }
   ],
   "source": [
    "d={}\n",
    "for i in set(str1):\n",
    "    #key = #value\n",
    "    d[i] = str1.count(i)\n",
    "d"
   ]
  },
  {
   "cell_type": "code",
   "execution_count": null,
   "id": "b88396ae",
   "metadata": {},
   "outputs": [],
   "source": []
  }
 ],
 "metadata": {
  "kernelspec": {
   "display_name": "Python 3 (ipykernel)",
   "language": "python",
   "name": "python3"
  },
  "language_info": {
   "codemirror_mode": {
    "name": "ipython",
    "version": 3
   },
   "file_extension": ".py",
   "mimetype": "text/x-python",
   "name": "python",
   "nbconvert_exporter": "python",
   "pygments_lexer": "ipython3",
   "version": "3.10.9"
  }
 },
 "nbformat": 4,
 "nbformat_minor": 5
}
