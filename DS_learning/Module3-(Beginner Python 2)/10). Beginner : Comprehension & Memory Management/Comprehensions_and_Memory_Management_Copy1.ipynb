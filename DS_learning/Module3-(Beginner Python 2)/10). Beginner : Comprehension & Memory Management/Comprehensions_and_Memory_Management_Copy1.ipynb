{
 "cells": [
  {
   "cell_type": "markdown",
   "id": "21971988",
   "metadata": {},
   "source": [
    "Q1: Given an Input Integer N, Create a list containing all the numbers between 1 to N\n",
    "\n",
    "Ex:\n",
    "N =3\n",
    "output = [1,2,3]"
   ]
  },
  {
   "cell_type": "code",
   "execution_count": 2,
   "id": "c8818170",
   "metadata": {},
   "outputs": [
    {
     "data": {
      "text/plain": [
       "[1, 2, 3]"
      ]
     },
     "execution_count": 2,
     "metadata": {},
     "output_type": "execute_result"
    }
   ],
   "source": [
    "N=3\n",
    "n = []\n",
    "for i in range(1,N+1):\n",
    "    n.append(i)\n",
    "n"
   ]
  },
  {
   "cell_type": "markdown",
   "id": "ae5466fa",
   "metadata": {},
   "source": [
    "# Comprehensions -  One line of code"
   ]
  },
  {
   "cell_type": "code",
   "execution_count": 2,
   "id": "88212c78",
   "metadata": {},
   "outputs": [
    {
     "data": {
      "text/plain": [
       "[1, 2, 3, 4, 5]"
      ]
     },
     "execution_count": 2,
     "metadata": {},
     "output_type": "execute_result"
    }
   ],
   "source": [
    "[i      for i in range(1,5+1)]"
   ]
  },
  {
   "cell_type": "code",
   "execution_count": 13,
   "id": "4f663938",
   "metadata": {},
   "outputs": [
    {
     "data": {
      "text/plain": [
       "{1, 2, 3, 4, 5}"
      ]
     },
     "execution_count": 13,
     "metadata": {},
     "output_type": "execute_result"
    }
   ],
   "source": [
    "{i      for i in range(1,5+1)}"
   ]
  },
  {
   "cell_type": "code",
   "execution_count": 15,
   "id": "ce6bf3d6",
   "metadata": {},
   "outputs": [
    {
     "data": {
      "text/plain": [
       "(1, 2, 3, 4, 5)"
      ]
     },
     "execution_count": 15,
     "metadata": {},
     "output_type": "execute_result"
    }
   ],
   "source": [
    "tuple([i      for i in range(1,5+1)])"
   ]
  },
  {
   "cell_type": "code",
   "execution_count": null,
   "id": "3d5167df",
   "metadata": {},
   "outputs": [],
   "source": []
  },
  {
   "cell_type": "code",
   "execution_count": 3,
   "id": "114cd4b6",
   "metadata": {},
   "outputs": [
    {
     "data": {
      "text/plain": [
       "['I will not talk',\n",
       " 'I will not talk',\n",
       " 'I will not talk',\n",
       " 'I will not talk',\n",
       " 'I will not talk',\n",
       " 'I will not talk',\n",
       " 'I will not talk',\n",
       " 'I will not talk',\n",
       " 'I will not talk',\n",
       " 'I will not talk']"
      ]
     },
     "execution_count": 3,
     "metadata": {},
     "output_type": "execute_result"
    }
   ],
   "source": [
    "[\"I will not talk\"      for i in range(1,10+1)]"
   ]
  },
  {
   "cell_type": "markdown",
   "id": "f356b5e4",
   "metadata": {},
   "source": []
  },
  {
   "cell_type": "markdown",
   "id": "e0b3cac5",
   "metadata": {},
   "source": [
    "Q2: Given an Input Integer N, Create a list containing all the Square of numbers between 1 to N\n",
    "\n",
    "Ex:\n",
    "N = 3\n",
    "output = [1,4,9]"
   ]
  },
  {
   "cell_type": "code",
   "execution_count": 3,
   "id": "9b286738",
   "metadata": {},
   "outputs": [
    {
     "data": {
      "text/plain": [
       "[1, 4, 9]"
      ]
     },
     "execution_count": 3,
     "metadata": {},
     "output_type": "execute_result"
    }
   ],
   "source": [
    "N=3\n",
    "n = []\n",
    "for i in range(1,N+1):\n",
    "    n.append(i**2)\n",
    "n"
   ]
  },
  {
   "cell_type": "code",
   "execution_count": 7,
   "id": "e8e37689",
   "metadata": {},
   "outputs": [
    {
     "data": {
      "text/plain": [
       "[1, 4, 9, 16, 25]"
      ]
     },
     "execution_count": 7,
     "metadata": {},
     "output_type": "execute_result"
    }
   ],
   "source": [
    "[i**2                               for i in range(1,5+1)]"
   ]
  },
  {
   "cell_type": "code",
   "execution_count": null,
   "id": "feda911a",
   "metadata": {},
   "outputs": [],
   "source": []
  },
  {
   "cell_type": "code",
   "execution_count": null,
   "id": "89fc6947",
   "metadata": {},
   "outputs": [],
   "source": []
  },
  {
   "cell_type": "code",
   "execution_count": null,
   "id": "88621c25",
   "metadata": {},
   "outputs": [],
   "source": []
  },
  {
   "cell_type": "markdown",
   "id": "6658d4be",
   "metadata": {},
   "source": [
    "Q3: Given an Input Integer N, Create a list containing all the Even numbers between 1 to N\n",
    "\n",
    "Ex:\n",
    "N = 5\n",
    "output = [2,4]"
   ]
  },
  {
   "cell_type": "code",
   "execution_count": 5,
   "id": "8c90959b",
   "metadata": {},
   "outputs": [
    {
     "data": {
      "text/plain": [
       "[2, 4]"
      ]
     },
     "execution_count": 5,
     "metadata": {},
     "output_type": "execute_result"
    }
   ],
   "source": [
    "N=5\n",
    "n = []\n",
    "for i in range(1,N+1):\n",
    "    if i %2==0:\n",
    "        n.append(i)\n",
    "n"
   ]
  },
  {
   "cell_type": "code",
   "execution_count": 9,
   "id": "c6a0b75e",
   "metadata": {},
   "outputs": [
    {
     "data": {
      "text/plain": [
       "[2, 4]"
      ]
     },
     "execution_count": 9,
     "metadata": {},
     "output_type": "execute_result"
    }
   ],
   "source": [
    "[i for i in range(1,5+1) if i%2==0]"
   ]
  },
  {
   "cell_type": "code",
   "execution_count": 10,
   "id": "9503f89b",
   "metadata": {},
   "outputs": [
    {
     "data": {
      "text/plain": [
       "[3, 9, 12, 15]"
      ]
     },
     "execution_count": 10,
     "metadata": {},
     "output_type": "execute_result"
    }
   ],
   "source": [
    "a = [3,4,7,9,12,15]\n",
    "[i for i in a if i%3==0]"
   ]
  },
  {
   "cell_type": "code",
   "execution_count": 16,
   "id": "57c9aaa8",
   "metadata": {},
   "outputs": [
    {
     "data": {
      "text/plain": [
       "{3, 9, 12, 15}"
      ]
     },
     "execution_count": 16,
     "metadata": {},
     "output_type": "execute_result"
    }
   ],
   "source": [
    "{i for i in a if i%3==0}"
   ]
  },
  {
   "cell_type": "markdown",
   "id": "fc4e8fc5",
   "metadata": {},
   "source": [
    "Q4: Given an input list of N numbers, Create a new tuple of Size N containing \"Even\" or \"Odd\"\n",
    "\n",
    "Ex:\n",
    "input = [1,3,4,2,5]\n",
    "output = (\"Odd\",\"Odd\",\"Even\",\"Even\",\"Odd\")"
   ]
  },
  {
   "cell_type": "code",
   "execution_count": 7,
   "id": "f0b3aa5f",
   "metadata": {},
   "outputs": [
    {
     "data": {
      "text/plain": [
       "('Odd', 'Odd', 'Even', 'Even', 'Odd')"
      ]
     },
     "execution_count": 7,
     "metadata": {},
     "output_type": "execute_result"
    }
   ],
   "source": [
    "N = [1,3,4,2,5]\n",
    "a=[]\n",
    "for i in N:\n",
    "    if i%2==0:\n",
    "        a.append(\"Even\")\n",
    "    else:\n",
    "        a.append(\"Odd\")\n",
    "tuple(a)"
   ]
  },
  {
   "cell_type": "code",
   "execution_count": 12,
   "id": "dd0f0edc",
   "metadata": {},
   "outputs": [
    {
     "data": {
      "text/plain": [
       "['Odd', 'Odd', 'Even', 'Even', 'Odd']"
      ]
     },
     "execution_count": 12,
     "metadata": {},
     "output_type": "execute_result"
    }
   ],
   "source": [
    "N = [1,3,4,2,5]\n",
    "[\"Even\" if i%2==0 else \"Odd\" for i in N]"
   ]
  },
  {
   "cell_type": "code",
   "execution_count": null,
   "id": "8d53977c",
   "metadata": {},
   "outputs": [],
   "source": [
    "ut=[\"Multiple 2\" if i%2==0 else \"Multiple of 3\" if i%3==0 else \"no Idea\" for i in N]\n",
    "print(out)"
   ]
  },
  {
   "cell_type": "code",
   "execution_count": null,
   "id": "e5753eab",
   "metadata": {},
   "outputs": [],
   "source": []
  },
  {
   "cell_type": "code",
   "execution_count": null,
   "id": "ddc87062",
   "metadata": {},
   "outputs": [],
   "source": []
  },
  {
   "cell_type": "code",
   "execution_count": null,
   "id": "27b16288",
   "metadata": {},
   "outputs": [],
   "source": []
  },
  {
   "cell_type": "code",
   "execution_count": null,
   "id": "bea08f19",
   "metadata": {},
   "outputs": [],
   "source": []
  },
  {
   "cell_type": "code",
   "execution_count": 10,
   "id": "6d582f11",
   "metadata": {},
   "outputs": [],
   "source": [
    "name = \"AKASH\""
   ]
  },
  {
   "cell_type": "code",
   "execution_count": 11,
   "id": "2f642fe6",
   "metadata": {},
   "outputs": [
    {
     "ename": "TypeError",
     "evalue": "'str' object does not support item assignment",
     "output_type": "error",
     "traceback": [
      "\u001b[1;31m---------------------------------------------------------------------------\u001b[0m",
      "\u001b[1;31mTypeError\u001b[0m                                 Traceback (most recent call last)",
      "\u001b[1;32m~\\AppData\\Local\\Temp\\ipykernel_17360\\2973268528.py\u001b[0m in \u001b[0;36m<cell line: 1>\u001b[1;34m()\u001b[0m\n\u001b[1;32m----> 1\u001b[1;33m \u001b[0mname\u001b[0m\u001b[1;33m[\u001b[0m\u001b[1;36m0\u001b[0m\u001b[1;33m]\u001b[0m \u001b[1;33m=\u001b[0m \u001b[1;34m\"H\"\u001b[0m\u001b[1;33m\u001b[0m\u001b[1;33m\u001b[0m\u001b[0m\n\u001b[0m",
      "\u001b[1;31mTypeError\u001b[0m: 'str' object does not support item assignment"
     ]
    }
   ],
   "source": [
    "name[0] = \"H\""
   ]
  },
  {
   "cell_type": "code",
   "execution_count": 12,
   "id": "5b9601e1",
   "metadata": {},
   "outputs": [
    {
     "ename": "TypeError",
     "evalue": "'tuple' object does not support item assignment",
     "output_type": "error",
     "traceback": [
      "\u001b[1;31m---------------------------------------------------------------------------\u001b[0m",
      "\u001b[1;31mTypeError\u001b[0m                                 Traceback (most recent call last)",
      "\u001b[1;32m~\\AppData\\Local\\Temp\\ipykernel_17360\\1943838484.py\u001b[0m in \u001b[0;36m<cell line: 2>\u001b[1;34m()\u001b[0m\n\u001b[0;32m      1\u001b[0m \u001b[0mt\u001b[0m \u001b[1;33m=\u001b[0m\u001b[1;33m(\u001b[0m\u001b[1;36m1\u001b[0m\u001b[1;33m,\u001b[0m\u001b[1;36m2\u001b[0m\u001b[1;33m,\u001b[0m\u001b[1;36m3\u001b[0m\u001b[1;33m)\u001b[0m\u001b[1;33m\u001b[0m\u001b[1;33m\u001b[0m\u001b[0m\n\u001b[1;32m----> 2\u001b[1;33m \u001b[0mt\u001b[0m\u001b[1;33m[\u001b[0m\u001b[1;36m0\u001b[0m\u001b[1;33m]\u001b[0m\u001b[1;33m=\u001b[0m\u001b[1;36m100\u001b[0m\u001b[1;33m\u001b[0m\u001b[1;33m\u001b[0m\u001b[0m\n\u001b[0m",
      "\u001b[1;31mTypeError\u001b[0m: 'tuple' object does not support item assignment"
     ]
    }
   ],
   "source": [
    "t =(1,2,3)\n",
    "t[0]=100"
   ]
  },
  {
   "cell_type": "code",
   "execution_count": 13,
   "id": "5ce2dcd1",
   "metadata": {},
   "outputs": [
    {
     "ename": "TypeError",
     "evalue": "'str' object does not support item assignment",
     "output_type": "error",
     "traceback": [
      "\u001b[1;31m---------------------------------------------------------------------------\u001b[0m",
      "\u001b[1;31mTypeError\u001b[0m                                 Traceback (most recent call last)",
      "\u001b[1;32m~\\AppData\\Local\\Temp\\ipykernel_17360\\1461756249.py\u001b[0m in \u001b[0;36m<cell line: 2>\u001b[1;34m()\u001b[0m\n\u001b[0;32m      1\u001b[0m \u001b[0mname\u001b[0m \u001b[1;33m=\u001b[0m \u001b[1;34m\"AKASH\"\u001b[0m\u001b[1;33m\u001b[0m\u001b[1;33m\u001b[0m\u001b[0m\n\u001b[1;32m----> 2\u001b[1;33m \u001b[0mname\u001b[0m\u001b[1;33m[\u001b[0m\u001b[1;36m0\u001b[0m\u001b[1;33m]\u001b[0m \u001b[1;33m=\u001b[0m \u001b[1;34m\"AKASH RAJPURIA\"\u001b[0m\u001b[1;33m\u001b[0m\u001b[1;33m\u001b[0m\u001b[0m\n\u001b[0m",
      "\u001b[1;31mTypeError\u001b[0m: 'str' object does not support item assignment"
     ]
    }
   ],
   "source": [
    "name = \"AKASH\"\n",
    "name[0] = \"AKASH RAJPURIA\""
   ]
  },
  {
   "cell_type": "code",
   "execution_count": 14,
   "id": "79af2cf4",
   "metadata": {},
   "outputs": [
    {
     "data": {
      "text/plain": [
       "'AKASHRAJPURIA'"
      ]
     },
     "execution_count": 14,
     "metadata": {},
     "output_type": "execute_result"
    }
   ],
   "source": [
    "name + \"RAJPURIA\""
   ]
  },
  {
   "cell_type": "code",
   "execution_count": null,
   "id": "f3375b69",
   "metadata": {},
   "outputs": [],
   "source": [
    "name = name + \"RAJPURIA\""
   ]
  },
  {
   "cell_type": "code",
   "execution_count": null,
   "id": "4d80985d",
   "metadata": {},
   "outputs": [],
   "source": []
  },
  {
   "cell_type": "code",
   "execution_count": 18,
   "id": "8af37338",
   "metadata": {},
   "outputs": [
    {
     "data": {
      "text/plain": [
       "('Odd', 'Odd', 'Even', 'Even', 'Odd')"
      ]
     },
     "execution_count": 18,
     "metadata": {},
     "output_type": "execute_result"
    }
   ],
   "source": [
    "N = [1,3,4,2,5]\n",
    "a=()\n",
    "for i in N:\n",
    "    if i%2==0:\n",
    "        a = a+(\"Even\",)\n",
    "    else:\n",
    "        a = a+(\"Odd\",)\n",
    "a"
   ]
  },
  {
   "cell_type": "code",
   "execution_count": null,
   "id": "3112def8",
   "metadata": {},
   "outputs": [],
   "source": []
  },
  {
   "cell_type": "code",
   "execution_count": 19,
   "id": "38d7373f",
   "metadata": {},
   "outputs": [
    {
     "data": {
      "text/plain": [
       "(1, 2, 3)"
      ]
     },
     "execution_count": 19,
     "metadata": {},
     "output_type": "execute_result"
    }
   ],
   "source": [
    "(1,2,3)"
   ]
  },
  {
   "cell_type": "code",
   "execution_count": 21,
   "id": "092a1d60",
   "metadata": {},
   "outputs": [
    {
     "data": {
      "text/plain": [
       "(1, 2, 3, 'abhishek')"
      ]
     },
     "execution_count": 21,
     "metadata": {},
     "output_type": "execute_result"
    }
   ],
   "source": [
    "(1,2,3) +(\"abhishek\",)"
   ]
  },
  {
   "cell_type": "markdown",
   "id": "f6f9a69b",
   "metadata": {},
   "source": [
    "Q5: Given an input list of N student, \n",
    "Create a new List containing length of Name of each Student\n",
    "```\n",
    "Ex:\n",
    "students = [\"Mohan\",\"Jag\", \"Ramanna\"]\n",
    "Output=[5,3,7]"
   ]
  },
  {
   "cell_type": "code",
   "execution_count": 23,
   "id": "12876c67",
   "metadata": {},
   "outputs": [
    {
     "data": {
      "text/plain": [
       "[5, 3, 7]"
      ]
     },
     "execution_count": 23,
     "metadata": {},
     "output_type": "execute_result"
    }
   ],
   "source": [
    "students = [\"Mohan\",\"Jag\", \"Ramanna\"]\n",
    "Output=[]\n",
    "for i in students:\n",
    "    Output.append(len(i))\n",
    "Output"
   ]
  },
  {
   "cell_type": "markdown",
   "id": "a0bce7c0",
   "metadata": {},
   "source": [
    "Q6: Given an input list of N numbers and N student, Create a new dictionary of Size N containing Name of Student as Key and Number as Values\n",
    "```\n",
    "Ex:\n",
    "students = [\"Mohan\",\"Jagan\", \"Raman\"]\n",
    "Marks = [20,30,10]\n",
    "output:\n",
    "{\"Mohan\":20, \"Jagan\":30, \"Raman\":10}\n",
    "\n"
   ]
  },
  {
   "cell_type": "code",
   "execution_count": 29,
   "id": "05546705",
   "metadata": {},
   "outputs": [
    {
     "data": {
      "text/plain": [
       "{'Mohan': 20, 'Jagan': 30, 'Raman': 10}"
      ]
     },
     "execution_count": 29,
     "metadata": {},
     "output_type": "execute_result"
    }
   ],
   "source": [
    "students = [\"Mohan\",\"Jagan\", \"Raman\"]\n",
    "Marks = [20,30,10]\n",
    "d= {}\n",
    "for i in range(len(students)):#0,1,2\n",
    "    #print(students[i],Marks[i])\n",
    "    d[students[i]]=Marks[i]\n",
    "d"
   ]
  },
  {
   "cell_type": "code",
   "execution_count": 18,
   "id": "e0253828",
   "metadata": {},
   "outputs": [
    {
     "data": {
      "text/plain": [
       "{'Mohan': 20, 'Jagan': 30, 'Raman': 10}"
      ]
     },
     "execution_count": 18,
     "metadata": {},
     "output_type": "execute_result"
    }
   ],
   "source": [
    "students = [\"Mohan\",\"Jagan\", \"Raman\"]\n",
    "Marks = [20,30,10]\n",
    "{students[i]: Marks[i]      for i in range(len(students))}"
   ]
  },
  {
   "cell_type": "code",
   "execution_count": 19,
   "id": "2b6a8ced",
   "metadata": {},
   "outputs": [
    {
     "data": {
      "text/plain": [
       "{'Jagan', 'Mohan', 'Raman'}"
      ]
     },
     "execution_count": 19,
     "metadata": {},
     "output_type": "execute_result"
    }
   ],
   "source": [
    "{students[i] =  Marks[i]      for i in range(len(students))}    for i in range(len(students))}"
   ]
  },
  {
   "cell_type": "code",
   "execution_count": 20,
   "id": "1af9bede",
   "metadata": {},
   "outputs": [
    {
     "ename": "SyntaxError",
     "evalue": "cannot assign to literal here. Maybe you meant '==' instead of '='? (1104171891.py, line 2)",
     "output_type": "error",
     "traceback": [
      "\u001b[1;36m  File \u001b[1;32m\"C:\\Users\\AKASH\\AppData\\Local\\Temp\\ipykernel_17432\\1104171891.py\"\u001b[1;36m, line \u001b[1;32m2\u001b[0m\n\u001b[1;33m    'key' =1\u001b[0m\n\u001b[1;37m    ^\u001b[0m\n\u001b[1;31mSyntaxError\u001b[0m\u001b[1;31m:\u001b[0m cannot assign to literal here. Maybe you meant '==' instead of '='?\n"
     ]
    }
   ],
   "source": [
    "{\n",
    "    'key' =1\n",
    "}"
   ]
  },
  {
   "cell_type": "code",
   "execution_count": 21,
   "id": "5b29885b",
   "metadata": {},
   "outputs": [
    {
     "data": {
      "text/plain": [
       "{'key': 1}"
      ]
     },
     "execution_count": 21,
     "metadata": {},
     "output_type": "execute_result"
    }
   ],
   "source": [
    "{\n",
    "    'key' :1\n",
    "}"
   ]
  },
  {
   "cell_type": "code",
   "execution_count": 23,
   "id": "c5aefae2",
   "metadata": {},
   "outputs": [
    {
     "ename": "ValueError",
     "evalue": "too many values to unpack (expected 2)",
     "output_type": "error",
     "traceback": [
      "\u001b[1;31m---------------------------------------------------------------------------\u001b[0m",
      "\u001b[1;31mValueError\u001b[0m                                Traceback (most recent call last)",
      "\u001b[1;32m~\\AppData\\Local\\Temp\\ipykernel_17432\\3293685748.py\u001b[0m in \u001b[0;36m<cell line: 3>\u001b[1;34m()\u001b[0m\n\u001b[0;32m      1\u001b[0m \u001b[0mstudents\u001b[0m \u001b[1;33m=\u001b[0m \u001b[1;33m[\u001b[0m\u001b[1;34m\"Mohan\"\u001b[0m\u001b[1;33m,\u001b[0m\u001b[1;34m\"Jagan\"\u001b[0m\u001b[1;33m,\u001b[0m \u001b[1;34m\"Raman\"\u001b[0m\u001b[1;33m]\u001b[0m\u001b[1;33m\u001b[0m\u001b[1;33m\u001b[0m\u001b[0m\n\u001b[0;32m      2\u001b[0m \u001b[0mmarks\u001b[0m \u001b[1;33m=\u001b[0m \u001b[1;33m[\u001b[0m\u001b[1;36m20\u001b[0m\u001b[1;33m,\u001b[0m\u001b[1;36m30\u001b[0m\u001b[1;33m,\u001b[0m\u001b[1;36m10\u001b[0m\u001b[1;33m]\u001b[0m\u001b[1;33m\u001b[0m\u001b[1;33m\u001b[0m\u001b[0m\n\u001b[1;32m----> 3\u001b[1;33m \u001b[1;33m{\u001b[0m\u001b[0mstudent\u001b[0m\u001b[1;33m:\u001b[0m \u001b[0mmark\u001b[0m \u001b[1;32mfor\u001b[0m \u001b[0mstudent\u001b[0m\u001b[1;33m,\u001b[0m \u001b[0mmark\u001b[0m \u001b[1;32min\u001b[0m \u001b[1;33m(\u001b[0m\u001b[0mstudents\u001b[0m\u001b[1;33m,\u001b[0m \u001b[0mmarks\u001b[0m\u001b[1;33m)\u001b[0m\u001b[1;33m}\u001b[0m\u001b[1;33m\u001b[0m\u001b[1;33m\u001b[0m\u001b[0m\n\u001b[0m",
      "\u001b[1;32m~\\AppData\\Local\\Temp\\ipykernel_17432\\3293685748.py\u001b[0m in \u001b[0;36m<dictcomp>\u001b[1;34m(.0)\u001b[0m\n\u001b[0;32m      1\u001b[0m \u001b[0mstudents\u001b[0m \u001b[1;33m=\u001b[0m \u001b[1;33m[\u001b[0m\u001b[1;34m\"Mohan\"\u001b[0m\u001b[1;33m,\u001b[0m\u001b[1;34m\"Jagan\"\u001b[0m\u001b[1;33m,\u001b[0m \u001b[1;34m\"Raman\"\u001b[0m\u001b[1;33m]\u001b[0m\u001b[1;33m\u001b[0m\u001b[1;33m\u001b[0m\u001b[0m\n\u001b[0;32m      2\u001b[0m \u001b[0mmarks\u001b[0m \u001b[1;33m=\u001b[0m \u001b[1;33m[\u001b[0m\u001b[1;36m20\u001b[0m\u001b[1;33m,\u001b[0m\u001b[1;36m30\u001b[0m\u001b[1;33m,\u001b[0m\u001b[1;36m10\u001b[0m\u001b[1;33m]\u001b[0m\u001b[1;33m\u001b[0m\u001b[1;33m\u001b[0m\u001b[0m\n\u001b[1;32m----> 3\u001b[1;33m \u001b[1;33m{\u001b[0m\u001b[0mstudent\u001b[0m\u001b[1;33m:\u001b[0m \u001b[0mmark\u001b[0m \u001b[1;32mfor\u001b[0m \u001b[0mstudent\u001b[0m\u001b[1;33m,\u001b[0m \u001b[0mmark\u001b[0m \u001b[1;32min\u001b[0m \u001b[1;33m(\u001b[0m\u001b[0mstudents\u001b[0m\u001b[1;33m,\u001b[0m \u001b[0mmarks\u001b[0m\u001b[1;33m)\u001b[0m\u001b[1;33m}\u001b[0m\u001b[1;33m\u001b[0m\u001b[1;33m\u001b[0m\u001b[0m\n\u001b[0m",
      "\u001b[1;31mValueError\u001b[0m: too many values to unpack (expected 2)"
     ]
    }
   ],
   "source": [
    "students = [\"Mohan\",\"Jagan\", \"Raman\"]\n",
    "marks = [20,30,10]\n",
    "{student: mark for student, mark in (students, marks)}"
   ]
  },
  {
   "cell_type": "code",
   "execution_count": 25,
   "id": "adf205a9",
   "metadata": {},
   "outputs": [
    {
     "ename": "ValueError",
     "evalue": "too many values to unpack (expected 2)",
     "output_type": "error",
     "traceback": [
      "\u001b[1;31m---------------------------------------------------------------------------\u001b[0m",
      "\u001b[1;31mValueError\u001b[0m                                Traceback (most recent call last)",
      "\u001b[1;32m~\\AppData\\Local\\Temp\\ipykernel_17432\\1092026980.py\u001b[0m in \u001b[0;36m<cell line: 1>\u001b[1;34m()\u001b[0m\n\u001b[1;32m----> 1\u001b[1;33m \u001b[1;33m{\u001b[0m\u001b[0mstudent\u001b[0m \u001b[1;32mfor\u001b[0m \u001b[0mstudent\u001b[0m\u001b[1;33m,\u001b[0m \u001b[0mmark\u001b[0m \u001b[1;32min\u001b[0m \u001b[1;33m(\u001b[0m\u001b[0mstudents\u001b[0m\u001b[1;33m,\u001b[0m \u001b[0mmarks\u001b[0m\u001b[1;33m)\u001b[0m\u001b[1;33m}\u001b[0m\u001b[1;33m\u001b[0m\u001b[1;33m\u001b[0m\u001b[0m\n\u001b[0m",
      "\u001b[1;32m~\\AppData\\Local\\Temp\\ipykernel_17432\\1092026980.py\u001b[0m in \u001b[0;36m<setcomp>\u001b[1;34m(.0)\u001b[0m\n\u001b[1;32m----> 1\u001b[1;33m \u001b[1;33m{\u001b[0m\u001b[0mstudent\u001b[0m \u001b[1;32mfor\u001b[0m \u001b[0mstudent\u001b[0m\u001b[1;33m,\u001b[0m \u001b[0mmark\u001b[0m \u001b[1;32min\u001b[0m \u001b[1;33m(\u001b[0m\u001b[0mstudents\u001b[0m\u001b[1;33m,\u001b[0m \u001b[0mmarks\u001b[0m\u001b[1;33m)\u001b[0m\u001b[1;33m}\u001b[0m\u001b[1;33m\u001b[0m\u001b[1;33m\u001b[0m\u001b[0m\n\u001b[0m",
      "\u001b[1;31mValueError\u001b[0m: too many values to unpack (expected 2)"
     ]
    }
   ],
   "source": [
    "{student for student, mark in (students, marks)}"
   ]
  },
  {
   "cell_type": "code",
   "execution_count": 31,
   "id": "25b6d571",
   "metadata": {},
   "outputs": [
    {
     "data": {
      "text/plain": [
       "[('Mohan', 20), ('Jagan', 30)]"
      ]
     },
     "execution_count": 31,
     "metadata": {},
     "output_type": "execute_result"
    }
   ],
   "source": [
    "students = [\"Mohan\",\"Jagan\", \"Raman\"]\n",
    "marks = [20,30]\n",
    "list(zip(students, marks))"
   ]
  },
  {
   "cell_type": "markdown",
   "id": "c837ddf9",
   "metadata": {},
   "source": [
    "# Memory"
   ]
  },
  {
   "cell_type": "code",
   "execution_count": 32,
   "id": "fc3ce07d",
   "metadata": {},
   "outputs": [],
   "source": [
    "a = 5"
   ]
  },
  {
   "cell_type": "code",
   "execution_count": 33,
   "id": "5c0ad497",
   "metadata": {},
   "outputs": [],
   "source": [
    "#5 heap memory\n",
    "#a is storring the address of 5 in stack memory"
   ]
  },
  {
   "cell_type": "code",
   "execution_count": 34,
   "id": "d25691d7",
   "metadata": {},
   "outputs": [
    {
     "name": "stdout",
     "output_type": "stream",
     "text": [
      "2366375068016\n"
     ]
    }
   ],
   "source": [
    "print(id(a))"
   ]
  },
  {
   "cell_type": "code",
   "execution_count": 35,
   "id": "11afdbfc",
   "metadata": {},
   "outputs": [],
   "source": [
    "a= 10\n",
    "b=a\n",
    "c=20"
   ]
  },
  {
   "cell_type": "code",
   "execution_count": 37,
   "id": "3f5da0f3",
   "metadata": {},
   "outputs": [
    {
     "name": "stdout",
     "output_type": "stream",
     "text": [
      "2366375068176\n",
      "2366375068176\n",
      "2366375068496\n"
     ]
    }
   ],
   "source": [
    "print(id(a))\n",
    "print(id(b))\n",
    "\n",
    "print(id(c))"
   ]
  },
  {
   "cell_type": "code",
   "execution_count": 38,
   "id": "ab2d3a6b",
   "metadata": {},
   "outputs": [
    {
     "ename": "NameError",
     "evalue": "name 'aaaa' is not defined",
     "output_type": "error",
     "traceback": [
      "\u001b[1;31m---------------------------------------------------------------------------\u001b[0m",
      "\u001b[1;31mNameError\u001b[0m                                 Traceback (most recent call last)",
      "\u001b[1;32m~\\AppData\\Local\\Temp\\ipykernel_17432\\2789625835.py\u001b[0m in \u001b[0;36m<cell line: 5>\u001b[1;34m()\u001b[0m\n\u001b[0;32m      3\u001b[0m \u001b[1;33m\u001b[0m\u001b[0m\n\u001b[0;32m      4\u001b[0m \u001b[0mfun\u001b[0m\u001b[1;33m(\u001b[0m\u001b[1;33m)\u001b[0m\u001b[1;33m\u001b[0m\u001b[1;33m\u001b[0m\u001b[0m\n\u001b[1;32m----> 5\u001b[1;33m \u001b[0mprint\u001b[0m\u001b[1;33m(\u001b[0m\u001b[0maaaa\u001b[0m\u001b[1;33m)\u001b[0m\u001b[1;33m\u001b[0m\u001b[1;33m\u001b[0m\u001b[0m\n\u001b[0m",
      "\u001b[1;31mNameError\u001b[0m: name 'aaaa' is not defined"
     ]
    }
   ],
   "source": [
    "### Scope: Memory Allocation\n",
    "def fun():\n",
    "    aaaa=10\n",
    "    \n",
    "fun()\n",
    "print(aaaa)"
   ]
  },
  {
   "cell_type": "code",
   "execution_count": null,
   "id": "0dfab390",
   "metadata": {},
   "outputs": [],
   "source": [
    "### Scope: Memory Allocation\n",
    "def func():\n",
    "    c=10\n",
    "    print(c)\n",
    "\n",
    "c=100\n",
    "func()"
   ]
  },
  {
   "cell_type": "code",
   "execution_count": null,
   "id": "c669f5cb",
   "metadata": {},
   "outputs": [],
   "source": [
    "### Scope: Memory Allocation\n",
    "def f1():\n",
    "    b=100\n",
    "def f2():\n",
    "    a =10\n",
    "    \n",
    "def func():\n",
    "    c=10\n",
    "    print(c)\n",
    "\n",
    "c=100\n",
    "func()"
   ]
  },
  {
   "cell_type": "code",
   "execution_count": null,
   "id": "bf8bf5ab",
   "metadata": {},
   "outputs": [],
   "source": []
  },
  {
   "cell_type": "markdown",
   "id": "61ef8c75",
   "metadata": {},
   "source": [
    "### Mutable vs Immutable\n"
   ]
  },
  {
   "cell_type": "code",
   "execution_count": 43,
   "id": "e894a3b5",
   "metadata": {},
   "outputs": [
    {
     "name": "stdout",
     "output_type": "stream",
     "text": [
      "2366375068176\n",
      "2366375068176\n",
      "10 11\n",
      "2366375068176\n",
      "2366375068208\n"
     ]
    }
   ],
   "source": [
    "a = 10\n",
    "b= a\n",
    "print(id(b))\n",
    "print(id(a))\n",
    "\n",
    "\n",
    "b=b+1\n",
    "print(a,b)\n",
    "print(id(a))\n",
    "print(id(b))\n"
   ]
  },
  {
   "cell_type": "markdown",
   "id": "046620d6",
   "metadata": {},
   "source": []
  },
  {
   "cell_type": "code",
   "execution_count": 44,
   "id": "39d7e180",
   "metadata": {},
   "outputs": [
    {
     "name": "stdout",
     "output_type": "stream",
     "text": [
      "2366375068176\n",
      "2366375068176\n"
     ]
    }
   ],
   "source": [
    "a =10\n",
    "b=10\n",
    "print(id(a))\n",
    "print(id(b))"
   ]
  },
  {
   "cell_type": "code",
   "execution_count": null,
   "id": "87478c3e",
   "metadata": {},
   "outputs": [],
   "source": []
  },
  {
   "cell_type": "code",
   "execution_count": 47,
   "id": "ec275e1b",
   "metadata": {},
   "outputs": [
    {
     "name": "stdout",
     "output_type": "stream",
     "text": [
      "2366468549376\n",
      "2366468549376\n",
      "[10, 11, 10000000] [10, 11, 10000000]\n",
      "2366468549376\n",
      "2366468549376\n"
     ]
    }
   ],
   "source": [
    "a =[10,11]\n",
    "b=a #shallow copy\n",
    "print(id(a))\n",
    "print(id(b))\n",
    "b.append(10000000)\n",
    "\n",
    "print(a,b)\n",
    "print(id(a))\n",
    "print(id(b))"
   ]
  },
  {
   "cell_type": "code",
   "execution_count": null,
   "id": "4f4262fd",
   "metadata": {},
   "outputs": [],
   "source": []
  },
  {
   "cell_type": "code",
   "execution_count": null,
   "id": "dfda38ed",
   "metadata": {},
   "outputs": [],
   "source": []
  },
  {
   "cell_type": "code",
   "execution_count": 48,
   "id": "1e8a4d92",
   "metadata": {},
   "outputs": [
    {
     "name": "stdout",
     "output_type": "stream",
     "text": [
      "2366453016384\n",
      "2366468543808\n",
      "[10, 11] [10, 11, 10000000]\n",
      "2366453016384\n",
      "2366468543808\n"
     ]
    }
   ],
   "source": [
    "a =[10,11]\n",
    "b = a[:] #deep copy\n",
    "print(id(a))\n",
    "print(id(b))\n",
    "b.append(10000000)\n",
    "\n",
    "print(a,b)\n",
    "print(id(a))\n",
    "print(id(b))"
   ]
  },
  {
   "cell_type": "markdown",
   "id": "9d8e369a",
   "metadata": {},
   "source": [
    "# quiz"
   ]
  },
  {
   "cell_type": "code",
   "execution_count": 49,
   "id": "3da89900",
   "metadata": {},
   "outputs": [
    {
     "name": "stdout",
     "output_type": "stream",
     "text": [
      "True\n"
     ]
    }
   ],
   "source": [
    "print({0,1}=={0,1,1,1})"
   ]
  },
  {
   "cell_type": "code",
   "execution_count": 50,
   "id": "364c4e05",
   "metadata": {},
   "outputs": [
    {
     "name": "stdout",
     "output_type": "stream",
     "text": [
      "True\n"
     ]
    }
   ],
   "source": [
    "print({1,0}=={0,1})"
   ]
  },
  {
   "cell_type": "code",
   "execution_count": 51,
   "id": "33cf6dff",
   "metadata": {},
   "outputs": [
    {
     "name": "stdout",
     "output_type": "stream",
     "text": [
      "False\n"
     ]
    }
   ],
   "source": [
    "print([1,0]==[0,1])"
   ]
  },
  {
   "cell_type": "code",
   "execution_count": 52,
   "id": "c772631a",
   "metadata": {},
   "outputs": [
    {
     "name": "stdout",
     "output_type": "stream",
     "text": [
      "False\n"
     ]
    }
   ],
   "source": [
    "print({1,'2'}=={0,2})"
   ]
  },
  {
   "cell_type": "code",
   "execution_count": 53,
   "id": "d7557b30",
   "metadata": {},
   "outputs": [
    {
     "data": {
      "text/plain": [
       "True"
      ]
     },
     "execution_count": 53,
     "metadata": {},
     "output_type": "execute_result"
    }
   ],
   "source": [
    "{1,'2'}=={'2',1}\n"
   ]
  },
  {
   "cell_type": "code",
   "execution_count": null,
   "id": "3a6c5d68",
   "metadata": {},
   "outputs": [],
   "source": []
  }
 ],
 "metadata": {
  "kernelspec": {
   "display_name": "Python 3 (ipykernel)",
   "language": "python",
   "name": "python3"
  },
  "language_info": {
   "codemirror_mode": {
    "name": "ipython",
    "version": 3
   },
   "file_extension": ".py",
   "mimetype": "text/x-python",
   "name": "python",
   "nbconvert_exporter": "python",
   "pygments_lexer": "ipython3",
   "version": "3.10.9"
  }
 },
 "nbformat": 4,
 "nbformat_minor": 5
}
