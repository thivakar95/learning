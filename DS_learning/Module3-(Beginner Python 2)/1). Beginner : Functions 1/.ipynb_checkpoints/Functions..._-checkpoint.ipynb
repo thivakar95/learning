{
 "cells": [
  {
   "cell_type": "markdown",
   "id": "c9a24b38",
   "metadata": {},
   "source": []
  },
  {
   "cell_type": "code",
   "execution_count": 1,
   "id": "c0b5a2c1",
   "metadata": {},
   "outputs": [
    {
     "name": "stdout",
     "output_type": "stream",
     "text": [
      "Dust all the rooms\n",
      "Arrange the living area\n",
      "Go and get cold drink and mixtures!\n",
      "Don't misbehae in front of the guests!\n",
      "Touch feet when you greet them!\n"
     ]
    }
   ],
   "source": [
    "# 1st\n",
    "print(\"Dust all the rooms\")\n",
    "print(\"Arrange the living area\")\n",
    "print(\"Go and get cold drink and mixtures!\")\n",
    "print(\"Don't misbehae in front of the guests!\")\n",
    "print(\"Touch feet when you greet them!\")"
   ]
  },
  {
   "cell_type": "code",
   "execution_count": 3,
   "id": "2ef8652a",
   "metadata": {},
   "outputs": [
    {
     "name": "stdout",
     "output_type": "stream",
     "text": [
      "Dust all the rooms\n",
      "Arrange the living area\n",
      "Go and get cold drink and mixtures!\n",
      "Don't misbehae in front of the guests!\n",
      "Touch feet when you greet them!\n"
     ]
    }
   ],
   "source": [
    "# 2nd\n",
    "print(\"Dust all the rooms\")\n",
    "print(\"Arrange the living area\")\n",
    "print(\"Go and get cold drink and mixtures!\")\n",
    "print(\"Don't misbehae in front of the guests!\")\n",
    "print(\"Touch feet when you greet them!\")"
   ]
  },
  {
   "cell_type": "code",
   "execution_count": null,
   "id": "7fb8bcc5",
   "metadata": {},
   "outputs": [],
   "source": [
    "#resuse of code"
   ]
  },
  {
   "cell_type": "code",
   "execution_count": 4,
   "id": "9d0286eb",
   "metadata": {},
   "outputs": [],
   "source": [
    "def guest():#paper\n",
    "    print(\"Dust all the rooms\")\n",
    "    print(\"Arrange the living area\")\n",
    "    print(\"Go and get cold drink and mixtures!\")\n",
    "    print(\"Don't misbehae in front of the guests!\")\n",
    "    print(\"Touch feet when you greet them!\")"
   ]
  },
  {
   "cell_type": "code",
   "execution_count": 5,
   "id": "ae04cfb3",
   "metadata": {},
   "outputs": [
    {
     "name": "stdout",
     "output_type": "stream",
     "text": [
      "Dust all the rooms\n",
      "Arrange the living area\n",
      "Go and get cold drink and mixtures!\n",
      "Don't misbehae in front of the guests!\n",
      "Touch feet when you greet them!\n"
     ]
    }
   ],
   "source": [
    "guest()#calling the function"
   ]
  },
  {
   "cell_type": "code",
   "execution_count": 6,
   "id": "40227259",
   "metadata": {},
   "outputs": [
    {
     "name": "stdout",
     "output_type": "stream",
     "text": [
      "Dust all the rooms\n",
      "Arrange the living area\n",
      "Go and get cold drink and mixtures!\n",
      "Don't misbehae in front of the guests!\n",
      "Touch feet when you greet them!\n"
     ]
    }
   ],
   "source": [
    " guest()"
   ]
  },
  {
   "cell_type": "code",
   "execution_count": 7,
   "id": "12cabf09",
   "metadata": {},
   "outputs": [
    {
     "name": "stdout",
     "output_type": "stream",
     "text": [
      "Dust all the rooms\n",
      "Arrange the living area\n",
      "Go and get cold drink and mixtures!\n",
      "Don't misbehae in front of the guests!\n",
      "Touch feet when you greet them!\n"
     ]
    }
   ],
   "source": [
    " guest()"
   ]
  },
  {
   "cell_type": "code",
   "execution_count": 8,
   "id": "d0901eed",
   "metadata": {},
   "outputs": [
    {
     "name": "stdout",
     "output_type": "stream",
     "text": [
      "Dust all the rooms\n",
      "Arrange the living area\n",
      "Go and get cold drink and mixtures!\n",
      "Don't misbehae in front of the guests!\n",
      "Touch feet when you greet them!\n"
     ]
    }
   ],
   "source": [
    " guest()"
   ]
  },
  {
   "cell_type": "code",
   "execution_count": null,
   "id": "60baca6b",
   "metadata": {},
   "outputs": [],
   "source": [
    "#make tea 10 times"
   ]
  },
  {
   "cell_type": "code",
   "execution_count": null,
   "id": "24c8092d",
   "metadata": {},
   "outputs": [],
   "source": []
  },
  {
   "cell_type": "code",
   "execution_count": 9,
   "id": "18d84334",
   "metadata": {},
   "outputs": [],
   "source": [
    "def tea():\n",
    "    print(\"I am making a tea\")"
   ]
  },
  {
   "cell_type": "code",
   "execution_count": 10,
   "id": "064fa6fe",
   "metadata": {},
   "outputs": [
    {
     "name": "stdout",
     "output_type": "stream",
     "text": [
      "I am making a tea\n",
      "I am making a tea\n",
      "I am making a tea\n",
      "I am making a tea\n",
      "I am making a tea\n",
      "I am making a tea\n",
      "I am making a tea\n",
      "I am making a tea\n",
      "I am making a tea\n",
      "I am making a tea\n"
     ]
    }
   ],
   "source": [
    "for i in range(10):\n",
    "    tea()"
   ]
  },
  {
   "cell_type": "code",
   "execution_count": 11,
   "id": "740b0b27",
   "metadata": {},
   "outputs": [],
   "source": [
    "def tea():\n",
    "    for i in range(10):\n",
    "        print(\"I am making a tea\")"
   ]
  },
  {
   "cell_type": "code",
   "execution_count": 12,
   "id": "4c1d5fdc",
   "metadata": {},
   "outputs": [
    {
     "name": "stdout",
     "output_type": "stream",
     "text": [
      "I am making a tea\n",
      "I am making a tea\n",
      "I am making a tea\n",
      "I am making a tea\n",
      "I am making a tea\n",
      "I am making a tea\n",
      "I am making a tea\n",
      "I am making a tea\n",
      "I am making a tea\n",
      "I am making a tea\n"
     ]
    }
   ],
   "source": [
    "tea()"
   ]
  },
  {
   "cell_type": "code",
   "execution_count": 13,
   "id": "c72b81f9",
   "metadata": {},
   "outputs": [
    {
     "name": "stdout",
     "output_type": "stream",
     "text": [
      "I am making a tea\n",
      "I am making a tea\n",
      "I am making a tea\n",
      "I am making a tea\n",
      "I am making a tea\n",
      "I am making a tea\n",
      "I am making a tea\n",
      "I am making a tea\n",
      "I am making a tea\n",
      "I am making a tea\n"
     ]
    }
   ],
   "source": [
    "tea()"
   ]
  },
  {
   "cell_type": "code",
   "execution_count": 15,
   "id": "767518d2",
   "metadata": {},
   "outputs": [
    {
     "data": {
      "text/plain": [
       "3"
      ]
     },
     "execution_count": 15,
     "metadata": {},
     "output_type": "execute_result"
    }
   ],
   "source": [
    "sum([1,2])"
   ]
  },
  {
   "cell_type": "code",
   "execution_count": 16,
   "id": "9d50d586",
   "metadata": {},
   "outputs": [
    {
     "data": {
      "text/plain": [
       "5"
      ]
     },
     "execution_count": 16,
     "metadata": {},
     "output_type": "execute_result"
    }
   ],
   "source": [
    "len(\"AKASH\")"
   ]
  },
  {
   "cell_type": "code",
   "execution_count": 18,
   "id": "bfaf0ba6",
   "metadata": {},
   "outputs": [
    {
     "data": {
      "text/plain": [
       "(1, 5345)"
      ]
     },
     "execution_count": 18,
     "metadata": {},
     "output_type": "execute_result"
    }
   ],
   "source": [
    "min(1,2,132,2345,36),max(345,.345,345,34,5345,)"
   ]
  },
  {
   "cell_type": "code",
   "execution_count": null,
   "id": "84b10233",
   "metadata": {},
   "outputs": [],
   "source": [
    "# python - Inbuilt Funtions"
   ]
  },
  {
   "cell_type": "code",
   "execution_count": null,
   "id": "05762322",
   "metadata": {},
   "outputs": [],
   "source": [
    " - sum\n",
    " - print\n",
    " - min\n",
    " - max"
   ]
  },
  {
   "cell_type": "markdown",
   "id": "b46dd398",
   "metadata": {},
   "source": [
    "### Explaining functions that can take parameters"
   ]
  },
  {
   "cell_type": "code",
   "execution_count": 19,
   "id": "3390f06e",
   "metadata": {},
   "outputs": [],
   "source": [
    "def Welcome():\n",
    "    print(\"Welcome yogesh to the session\")\n",
    "    print(\"This is Friday Night with AKASH\")"
   ]
  },
  {
   "cell_type": "code",
   "execution_count": 20,
   "id": "e62234cf",
   "metadata": {},
   "outputs": [
    {
     "name": "stdout",
     "output_type": "stream",
     "text": [
      "Welcome yogesh to the session\n",
      "This is Friday Night with AKASH\n"
     ]
    }
   ],
   "source": [
    "Welcome()"
   ]
  },
  {
   "cell_type": "code",
   "execution_count": null,
   "id": "4806caca",
   "metadata": {},
   "outputs": [],
   "source": []
  },
  {
   "cell_type": "code",
   "execution_count": null,
   "id": "cae5fc5d",
   "metadata": {},
   "outputs": [],
   "source": []
  },
  {
   "cell_type": "code",
   "execution_count": 21,
   "id": "58db76ec",
   "metadata": {},
   "outputs": [],
   "source": [
    "# paramters/arguments - input to your function\n",
    "# paramters/arguments - name\n",
    "def Welcome(name):\n",
    "    print(\"Welcome\",name,\"to the session\")\n",
    "    print(\"This is Friday Night with AKASH\")"
   ]
  },
  {
   "cell_type": "code",
   "execution_count": 22,
   "id": "70aabdfd",
   "metadata": {},
   "outputs": [
    {
     "name": "stdout",
     "output_type": "stream",
     "text": [
      "Welcome perumal to the session\n",
      "This is Friday Night with AKASH\n"
     ]
    }
   ],
   "source": [
    "Welcome(\"perumal\")"
   ]
  },
  {
   "cell_type": "code",
   "execution_count": 23,
   "id": "8463ee0d",
   "metadata": {},
   "outputs": [
    {
     "name": "stdout",
     "output_type": "stream",
     "text": [
      "Welcome Bharti to the session\n",
      "This is Friday Night with AKASH\n"
     ]
    }
   ],
   "source": [
    "Welcome(\"Bharti\")"
   ]
  },
  {
   "cell_type": "markdown",
   "id": "f644feb7",
   "metadata": {},
   "source": [
    "# Question¶\n",
    "Take a name as input. Write a greeter function which prints \"Hello {name}!\" after accepting a name as an argument"
   ]
  },
  {
   "cell_type": "code",
   "execution_count": 24,
   "id": "20ef61f0",
   "metadata": {},
   "outputs": [],
   "source": [
    "def greet(n):\n",
    "    print(\"Hello\",n)"
   ]
  },
  {
   "cell_type": "code",
   "execution_count": 25,
   "id": "119d1046",
   "metadata": {},
   "outputs": [
    {
     "name": "stdout",
     "output_type": "stream",
     "text": [
      "Enter your namedinesh\n",
      "Hello dinesh\n"
     ]
    }
   ],
   "source": [
    "name = input(\"Enter your name\")\n",
    "greet(name)"
   ]
  },
  {
   "cell_type": "code",
   "execution_count": null,
   "id": "302110f8",
   "metadata": {},
   "outputs": [],
   "source": []
  },
  {
   "cell_type": "markdown",
   "id": "7607f237",
   "metadata": {},
   "source": [
    "#####**Functions that can take multiple inputs**\n",
    "**Explaining:**\n",
    "1. Positional mapping of arguments\n",
    "2. Errors that can occour if some argument is missing."
   ]
  },
  {
   "cell_type": "code",
   "execution_count": 31,
   "id": "1ddfaf5e",
   "metadata": {},
   "outputs": [],
   "source": [
    "def intro(name,age,gender,hobby):\n",
    "    print(\"My name is\",name)\n",
    "    print(\"Age is\",age)\n",
    "    print(\"My gender is\",gender)\n",
    "    print(\"I love to play\",hobby)"
   ]
  },
  {
   "cell_type": "code",
   "execution_count": 32,
   "id": "6b222ad1",
   "metadata": {},
   "outputs": [
    {
     "name": "stdout",
     "output_type": "stream",
     "text": [
      "My name is gaju\n",
      "Age is 78\n",
      "My gender is Male\n",
      "I love to play Swimming\n"
     ]
    }
   ],
   "source": [
    "intro(\"gaju\",78,\"Male\",\"Swimming\")"
   ]
  },
  {
   "cell_type": "code",
   "execution_count": 33,
   "id": "a61e8f31",
   "metadata": {},
   "outputs": [
    {
     "ename": "TypeError",
     "evalue": "intro() takes 4 positional arguments but 5 were given",
     "output_type": "error",
     "traceback": [
      "\u001b[1;31m---------------------------------------------------------------------------\u001b[0m",
      "\u001b[1;31mTypeError\u001b[0m                                 Traceback (most recent call last)",
      "\u001b[1;32m~\\AppData\\Local\\Temp\\ipykernel_20288\\4293969742.py\u001b[0m in \u001b[0;36m<cell line: 1>\u001b[1;34m()\u001b[0m\n\u001b[1;32m----> 1\u001b[1;33m \u001b[0mintro\u001b[0m\u001b[1;33m(\u001b[0m\u001b[1;34m\"gaju\"\u001b[0m\u001b[1;33m,\u001b[0m\u001b[1;36m78\u001b[0m\u001b[1;33m,\u001b[0m\u001b[1;34m\"Male\"\u001b[0m\u001b[1;33m,\u001b[0m\u001b[1;34m\"Swimming\"\u001b[0m\u001b[1;33m,\u001b[0m\u001b[1;34m\"Shaiktan gali adhnere nagar\"\u001b[0m\u001b[1;33m)\u001b[0m\u001b[1;33m\u001b[0m\u001b[1;33m\u001b[0m\u001b[0m\n\u001b[0m",
      "\u001b[1;31mTypeError\u001b[0m: intro() takes 4 positional arguments but 5 were given"
     ]
    }
   ],
   "source": [
    "intro(\"gaju\",78,\"Male\",\"Swimming\",\"Shaiktan gali adhnere nagar\")"
   ]
  },
  {
   "cell_type": "code",
   "execution_count": 34,
   "id": "e3fb7421",
   "metadata": {},
   "outputs": [
    {
     "ename": "TypeError",
     "evalue": "intro() missing 1 required positional argument: 'hobby'",
     "output_type": "error",
     "traceback": [
      "\u001b[1;31m---------------------------------------------------------------------------\u001b[0m",
      "\u001b[1;31mTypeError\u001b[0m                                 Traceback (most recent call last)",
      "\u001b[1;32m~\\AppData\\Local\\Temp\\ipykernel_20288\\2477741220.py\u001b[0m in \u001b[0;36m<cell line: 1>\u001b[1;34m()\u001b[0m\n\u001b[1;32m----> 1\u001b[1;33m \u001b[0mintro\u001b[0m\u001b[1;33m(\u001b[0m\u001b[1;34m\"gaju\"\u001b[0m\u001b[1;33m,\u001b[0m\u001b[1;36m78\u001b[0m\u001b[1;33m,\u001b[0m\u001b[1;34m\"Male\"\u001b[0m\u001b[1;33m)\u001b[0m\u001b[1;33m\u001b[0m\u001b[1;33m\u001b[0m\u001b[0m\n\u001b[0m",
      "\u001b[1;31mTypeError\u001b[0m: intro() missing 1 required positional argument: 'hobby'"
     ]
    }
   ],
   "source": [
    "intro(\"gaju\",78,\"Male\")"
   ]
  },
  {
   "cell_type": "markdown",
   "id": "aefaf79d",
   "metadata": {},
   "source": [
    "# Doc Strings\n",
    "#Document String"
   ]
  },
  {
   "cell_type": "code",
   "execution_count": 35,
   "id": "f32a8275",
   "metadata": {},
   "outputs": [
    {
     "name": "stdout",
     "output_type": "stream",
     "text": [
      "Help on built-in function len in module builtins:\n",
      "\n",
      "len(obj, /)\n",
      "    Return the number of items in a container.\n",
      "\n"
     ]
    }
   ],
   "source": [
    "help(len)"
   ]
  },
  {
   "cell_type": "code",
   "execution_count": 36,
   "id": "7ef6edbf",
   "metadata": {},
   "outputs": [
    {
     "name": "stdout",
     "output_type": "stream",
     "text": [
      "Help on class range in module builtins:\n",
      "\n",
      "class range(object)\n",
      " |  range(stop) -> range object\n",
      " |  range(start, stop[, step]) -> range object\n",
      " |  \n",
      " |  Return an object that produces a sequence of integers from start (inclusive)\n",
      " |  to stop (exclusive) by step.  range(i, j) produces i, i+1, i+2, ..., j-1.\n",
      " |  start defaults to 0, and stop is omitted!  range(4) produces 0, 1, 2, 3.\n",
      " |  These are exactly the valid indices for a list of 4 elements.\n",
      " |  When step is given, it specifies the increment (or decrement).\n",
      " |  \n",
      " |  Methods defined here:\n",
      " |  \n",
      " |  __bool__(self, /)\n",
      " |      True if self else False\n",
      " |  \n",
      " |  __contains__(self, key, /)\n",
      " |      Return key in self.\n",
      " |  \n",
      " |  __eq__(self, value, /)\n",
      " |      Return self==value.\n",
      " |  \n",
      " |  __ge__(self, value, /)\n",
      " |      Return self>=value.\n",
      " |  \n",
      " |  __getattribute__(self, name, /)\n",
      " |      Return getattr(self, name).\n",
      " |  \n",
      " |  __getitem__(self, key, /)\n",
      " |      Return self[key].\n",
      " |  \n",
      " |  __gt__(self, value, /)\n",
      " |      Return self>value.\n",
      " |  \n",
      " |  __hash__(self, /)\n",
      " |      Return hash(self).\n",
      " |  \n",
      " |  __iter__(self, /)\n",
      " |      Implement iter(self).\n",
      " |  \n",
      " |  __le__(self, value, /)\n",
      " |      Return self<=value.\n",
      " |  \n",
      " |  __len__(self, /)\n",
      " |      Return len(self).\n",
      " |  \n",
      " |  __lt__(self, value, /)\n",
      " |      Return self<value.\n",
      " |  \n",
      " |  __ne__(self, value, /)\n",
      " |      Return self!=value.\n",
      " |  \n",
      " |  __reduce__(...)\n",
      " |      Helper for pickle.\n",
      " |  \n",
      " |  __repr__(self, /)\n",
      " |      Return repr(self).\n",
      " |  \n",
      " |  __reversed__(...)\n",
      " |      Return a reverse iterator.\n",
      " |  \n",
      " |  count(...)\n",
      " |      rangeobject.count(value) -> integer -- return number of occurrences of value\n",
      " |  \n",
      " |  index(...)\n",
      " |      rangeobject.index(value) -> integer -- return index of value.\n",
      " |      Raise ValueError if the value is not present.\n",
      " |  \n",
      " |  ----------------------------------------------------------------------\n",
      " |  Static methods defined here:\n",
      " |  \n",
      " |  __new__(*args, **kwargs) from builtins.type\n",
      " |      Create and return a new object.  See help(type) for accurate signature.\n",
      " |  \n",
      " |  ----------------------------------------------------------------------\n",
      " |  Data descriptors defined here:\n",
      " |  \n",
      " |  start\n",
      " |  \n",
      " |  step\n",
      " |  \n",
      " |  stop\n",
      "\n"
     ]
    }
   ],
   "source": [
    "help(range)"
   ]
  },
  {
   "cell_type": "code",
   "execution_count": 38,
   "id": "f3504c72",
   "metadata": {},
   "outputs": [
    {
     "name": "stdout",
     "output_type": "stream",
     "text": [
      "Help on function tea in module __main__:\n",
      "\n",
      "tea()\n",
      "\n"
     ]
    }
   ],
   "source": [
    "help(tea)"
   ]
  },
  {
   "cell_type": "code",
   "execution_count": 39,
   "id": "a0eba0c7",
   "metadata": {},
   "outputs": [
    {
     "name": "stdout",
     "output_type": "stream",
     "text": [
      "Help on function intro in module __main__:\n",
      "\n",
      "intro(name, age, gender, hobby)\n",
      "\n"
     ]
    }
   ],
   "source": [
    "help(intro)"
   ]
  },
  {
   "cell_type": "code",
   "execution_count": 52,
   "id": "a874688f",
   "metadata": {},
   "outputs": [],
   "source": [
    "def random(a,b):\n",
    "    #Naveen\n",
    "    '''\n",
    "    This function takes excatly 2 arguments and it adds them\n",
    "    Input a : str,int,float\n",
    "    Inbut b : str,int,float\n",
    "    But make sure that both the data types are same\n",
    "    '''\n",
    "    #naveen\n",
    "    print(a+b)#naveen"
   ]
  },
  {
   "cell_type": "code",
   "execution_count": 53,
   "id": "cef348d3",
   "metadata": {},
   "outputs": [
    {
     "name": "stdout",
     "output_type": "stream",
     "text": [
      "9\n"
     ]
    }
   ],
   "source": [
    "random(4,5)"
   ]
  },
  {
   "cell_type": "code",
   "execution_count": 54,
   "id": "a6514004",
   "metadata": {},
   "outputs": [
    {
     "name": "stdout",
     "output_type": "stream",
     "text": [
      "15\n"
     ]
    }
   ],
   "source": [
    "random(10,5)"
   ]
  },
  {
   "cell_type": "code",
   "execution_count": 55,
   "id": "888232c5",
   "metadata": {},
   "outputs": [
    {
     "name": "stdout",
     "output_type": "stream",
     "text": [
      "yogeshbotre\n"
     ]
    }
   ],
   "source": [
    "random(\"yogesh\",\"botre\")"
   ]
  },
  {
   "cell_type": "code",
   "execution_count": 56,
   "id": "0c37dcd6",
   "metadata": {},
   "outputs": [
    {
     "ename": "TypeError",
     "evalue": "unsupported operand type(s) for +: 'int' and 'str'",
     "output_type": "error",
     "traceback": [
      "\u001b[1;31m---------------------------------------------------------------------------\u001b[0m",
      "\u001b[1;31mTypeError\u001b[0m                                 Traceback (most recent call last)",
      "\u001b[1;32m~\\AppData\\Local\\Temp\\ipykernel_20288\\481368063.py\u001b[0m in \u001b[0;36m<cell line: 1>\u001b[1;34m()\u001b[0m\n\u001b[1;32m----> 1\u001b[1;33m \u001b[0mrandom\u001b[0m\u001b[1;33m(\u001b[0m\u001b[1;36m3\u001b[0m\u001b[1;33m,\u001b[0m\u001b[1;34m\"stwik\"\u001b[0m\u001b[1;33m)\u001b[0m\u001b[1;33m\u001b[0m\u001b[1;33m\u001b[0m\u001b[0m\n\u001b[0m",
      "\u001b[1;32m~\\AppData\\Local\\Temp\\ipykernel_20288\\2827265546.py\u001b[0m in \u001b[0;36mrandom\u001b[1;34m(a, b)\u001b[0m\n\u001b[0;32m      8\u001b[0m     '''\n\u001b[0;32m      9\u001b[0m     \u001b[1;31m#naveen\u001b[0m\u001b[1;33m\u001b[0m\u001b[1;33m\u001b[0m\u001b[0m\n\u001b[1;32m---> 10\u001b[1;33m     \u001b[0mprint\u001b[0m\u001b[1;33m(\u001b[0m\u001b[0ma\u001b[0m\u001b[1;33m+\u001b[0m\u001b[0mb\u001b[0m\u001b[1;33m)\u001b[0m\u001b[1;31m#naveen\u001b[0m\u001b[1;33m\u001b[0m\u001b[1;33m\u001b[0m\u001b[0m\n\u001b[0m",
      "\u001b[1;31mTypeError\u001b[0m: unsupported operand type(s) for +: 'int' and 'str'"
     ]
    }
   ],
   "source": [
    "random(3,\"stwik\")"
   ]
  },
  {
   "cell_type": "code",
   "execution_count": 57,
   "id": "c039141f",
   "metadata": {},
   "outputs": [
    {
     "name": "stdout",
     "output_type": "stream",
     "text": [
      "Help on function random in module __main__:\n",
      "\n",
      "random(a, b)\n",
      "    This function takes excatly 2 arguments and it adds them\n",
      "    Input a : str,int,float\n",
      "    Inbut b : str,int,float\n",
      "    But make sure that both the data types are same\n",
      "\n"
     ]
    }
   ],
   "source": [
    "help(random)"
   ]
  },
  {
   "cell_type": "code",
   "execution_count": 58,
   "id": "80a2342f",
   "metadata": {},
   "outputs": [],
   "source": [
    "#excerise"
   ]
  },
  {
   "cell_type": "code",
   "execution_count": null,
   "id": "94e554ff",
   "metadata": {},
   "outputs": [],
   "source": [
    "#multiply three num in a function and write a doc string for it"
   ]
  },
  {
   "cell_type": "code",
   "execution_count": 59,
   "id": "37adbe58",
   "metadata": {},
   "outputs": [],
   "source": [
    "def mulitp(a,b,c):\n",
    "    \"\"\"\n",
    "    This function excatly mutiply three numbers\n",
    "    \"\"\"\n",
    "    print(a*b*c)"
   ]
  },
  {
   "cell_type": "code",
   "execution_count": 60,
   "id": "a461b890",
   "metadata": {},
   "outputs": [
    {
     "name": "stdout",
     "output_type": "stream",
     "text": [
      "30\n"
     ]
    }
   ],
   "source": [
    "mulitp(2,3,5)"
   ]
  },
  {
   "cell_type": "code",
   "execution_count": null,
   "id": "1b63304c",
   "metadata": {},
   "outputs": [],
   "source": [
    "def mulitp(a,b):\n",
    "    \"\"\"\n",
    "    This function excatly mutiply two numbers\n",
    "    \"\"\"\n",
    "    print(a*b)"
   ]
  },
  {
   "cell_type": "code",
   "execution_count": 61,
   "id": "5684c000",
   "metadata": {},
   "outputs": [
    {
     "name": "stdout",
     "output_type": "stream",
     "text": [
      "7\n"
     ]
    }
   ],
   "source": [
    "n=5\n",
    "n=7\n",
    "print(n)"
   ]
  },
  {
   "cell_type": "code",
   "execution_count": null,
   "id": "ed37e2c1",
   "metadata": {},
   "outputs": [],
   "source": [
    "# Excerise\n",
    "#creata function to cacl square and STORE the results "
   ]
  },
  {
   "cell_type": "code",
   "execution_count": 62,
   "id": "b3bc945a",
   "metadata": {},
   "outputs": [],
   "source": [
    "def square(n):\n",
    "    sq = n**2\n",
    "    print(sq)"
   ]
  },
  {
   "cell_type": "code",
   "execution_count": 63,
   "id": "1442ea52",
   "metadata": {},
   "outputs": [
    {
     "name": "stdout",
     "output_type": "stream",
     "text": [
      "49\n"
     ]
    }
   ],
   "source": [
    "square(7)"
   ]
  },
  {
   "cell_type": "code",
   "execution_count": 64,
   "id": "41abf199",
   "metadata": {},
   "outputs": [
    {
     "name": "stdout",
     "output_type": "stream",
     "text": [
      "49\n"
     ]
    }
   ],
   "source": [
    "a = square(7)"
   ]
  },
  {
   "cell_type": "code",
   "execution_count": 65,
   "id": "7d6e3336",
   "metadata": {},
   "outputs": [
    {
     "name": "stdout",
     "output_type": "stream",
     "text": [
      "None\n"
     ]
    }
   ],
   "source": [
    "print(a)"
   ]
  },
  {
   "cell_type": "code",
   "execution_count": 66,
   "id": "c777b449",
   "metadata": {},
   "outputs": [
    {
     "ename": "NameError",
     "evalue": "name 'sq' is not defined",
     "output_type": "error",
     "traceback": [
      "\u001b[1;31m---------------------------------------------------------------------------\u001b[0m",
      "\u001b[1;31mNameError\u001b[0m                                 Traceback (most recent call last)",
      "\u001b[1;32m~\\AppData\\Local\\Temp\\ipykernel_20288\\372377755.py\u001b[0m in \u001b[0;36m<cell line: 1>\u001b[1;34m()\u001b[0m\n\u001b[1;32m----> 1\u001b[1;33m \u001b[0mprint\u001b[0m\u001b[1;33m(\u001b[0m\u001b[0msq\u001b[0m\u001b[1;33m)\u001b[0m\u001b[1;33m\u001b[0m\u001b[1;33m\u001b[0m\u001b[0m\n\u001b[0m",
      "\u001b[1;31mNameError\u001b[0m: name 'sq' is not defined"
     ]
    }
   ],
   "source": [
    "print(sq)"
   ]
  },
  {
   "cell_type": "code",
   "execution_count": 1,
   "id": "d9db4b13",
   "metadata": {},
   "outputs": [],
   "source": [
    "b=189\n",
    "def check(n):\n",
    "    a =76\n",
    "    n=89\n"
   ]
  },
  {
   "cell_type": "code",
   "execution_count": 5,
   "id": "fe5d061a",
   "metadata": {},
   "outputs": [],
   "source": [
    "check(100)\n"
   ]
  },
  {
   "cell_type": "code",
   "execution_count": 6,
   "id": "d45410f6",
   "metadata": {},
   "outputs": [
    {
     "ename": "NameError",
     "evalue": "name 'a' is not defined",
     "output_type": "error",
     "traceback": [
      "\u001b[1;31m---------------------------------------------------------------------------\u001b[0m",
      "\u001b[1;31mNameError\u001b[0m                                 Traceback (most recent call last)",
      "\u001b[1;32m~\\AppData\\Local\\Temp\\ipykernel_9864\\1189138062.py\u001b[0m in \u001b[0;36m<cell line: 1>\u001b[1;34m()\u001b[0m\n\u001b[1;32m----> 1\u001b[1;33m \u001b[0mprint\u001b[0m\u001b[1;33m(\u001b[0m\u001b[0ma\u001b[0m\u001b[1;33m)\u001b[0m\u001b[1;33m\u001b[0m\u001b[1;33m\u001b[0m\u001b[0m\n\u001b[0m",
      "\u001b[1;31mNameError\u001b[0m: name 'a' is not defined"
     ]
    }
   ],
   "source": [
    "print(a)"
   ]
  },
  {
   "cell_type": "code",
   "execution_count": 7,
   "id": "4f4dc317",
   "metadata": {},
   "outputs": [
    {
     "ename": "NameError",
     "evalue": "name 'n' is not defined",
     "output_type": "error",
     "traceback": [
      "\u001b[1;31m---------------------------------------------------------------------------\u001b[0m",
      "\u001b[1;31mNameError\u001b[0m                                 Traceback (most recent call last)",
      "\u001b[1;32m~\\AppData\\Local\\Temp\\ipykernel_9864\\2938972457.py\u001b[0m in \u001b[0;36m<cell line: 1>\u001b[1;34m()\u001b[0m\n\u001b[1;32m----> 1\u001b[1;33m \u001b[0mprint\u001b[0m\u001b[1;33m(\u001b[0m\u001b[0mn\u001b[0m\u001b[1;33m)\u001b[0m\u001b[1;33m\u001b[0m\u001b[1;33m\u001b[0m\u001b[0m\n\u001b[0m",
      "\u001b[1;31mNameError\u001b[0m: name 'n' is not defined"
     ]
    }
   ],
   "source": [
    "print(n)"
   ]
  },
  {
   "cell_type": "code",
   "execution_count": 8,
   "id": "c69af4ee",
   "metadata": {},
   "outputs": [
    {
     "name": "stdout",
     "output_type": "stream",
     "text": [
      "189\n"
     ]
    }
   ],
   "source": [
    "print(b)"
   ]
  },
  {
   "cell_type": "markdown",
   "id": "32710ef2",
   "metadata": {},
   "source": [
    "# Return"
   ]
  },
  {
   "cell_type": "code",
   "execution_count": 9,
   "id": "72497b5d",
   "metadata": {},
   "outputs": [],
   "source": [
    "def square(n):\n",
    "    sq = n**2\n",
    "\n",
    "    return sq #it reurns the value which is inside the function"
   ]
  },
  {
   "cell_type": "code",
   "execution_count": 10,
   "id": "aa0c5aaa",
   "metadata": {},
   "outputs": [
    {
     "data": {
      "text/plain": [
       "49"
      ]
     },
     "execution_count": 10,
     "metadata": {},
     "output_type": "execute_result"
    }
   ],
   "source": [
    "square(7)"
   ]
  },
  {
   "cell_type": "code",
   "execution_count": 11,
   "id": "d029d9bd",
   "metadata": {},
   "outputs": [],
   "source": [
    "a = square(7)"
   ]
  },
  {
   "cell_type": "code",
   "execution_count": 12,
   "id": "24087402",
   "metadata": {},
   "outputs": [
    {
     "data": {
      "text/plain": [
       "49"
      ]
     },
     "execution_count": 12,
     "metadata": {},
     "output_type": "execute_result"
    }
   ],
   "source": [
    "a"
   ]
  },
  {
   "cell_type": "code",
   "execution_count": null,
   "id": "7827779c",
   "metadata": {},
   "outputs": [],
   "source": []
  },
  {
   "cell_type": "code",
   "execution_count": 13,
   "id": "ee1e513d",
   "metadata": {},
   "outputs": [],
   "source": [
    "# Enterprise email\n",
    "def useremail(empname):\n",
    "    return empname+\"@amazon.com\""
   ]
  },
  {
   "cell_type": "code",
   "execution_count": 14,
   "id": "dbe02ed2",
   "metadata": {},
   "outputs": [
    {
     "data": {
      "text/plain": [
       "'gaju@amazon.com'"
      ]
     },
     "execution_count": 14,
     "metadata": {},
     "output_type": "execute_result"
    }
   ],
   "source": [
    "useremail(\"gaju\")"
   ]
  },
  {
   "cell_type": "code",
   "execution_count": 15,
   "id": "b5790283",
   "metadata": {},
   "outputs": [
    {
     "data": {
      "text/plain": [
       "'mahesh@amazon.com'"
      ]
     },
     "execution_count": 15,
     "metadata": {},
     "output_type": "execute_result"
    }
   ],
   "source": [
    "useremail(\"mahesh\")"
   ]
  },
  {
   "cell_type": "code",
   "execution_count": 16,
   "id": "e68721b8",
   "metadata": {},
   "outputs": [],
   "source": [
    "a = useremail(\"mahesh\")"
   ]
  },
  {
   "cell_type": "code",
   "execution_count": 17,
   "id": "e8df1bd2",
   "metadata": {},
   "outputs": [
    {
     "data": {
      "text/plain": [
       "'mahesh@amazon.com'"
      ]
     },
     "execution_count": 17,
     "metadata": {},
     "output_type": "execute_result"
    }
   ],
   "source": [
    "a"
   ]
  },
  {
   "cell_type": "code",
   "execution_count": 19,
   "id": "b053a067",
   "metadata": {
    "scrolled": true
   },
   "outputs": [
    {
     "data": {
      "text/plain": [
       "3"
      ]
     },
     "execution_count": 19,
     "metadata": {},
     "output_type": "execute_result"
    }
   ],
   "source": [
    "len(\"AK \")"
   ]
  },
  {
   "cell_type": "code",
   "execution_count": null,
   "id": "65b9dddd",
   "metadata": {},
   "outputs": [],
   "source": []
  },
  {
   "cell_type": "markdown",
   "id": "dbdc994a",
   "metadata": {},
   "source": [
    "**A function execution gets over the second we return from it.**"
   ]
  },
  {
   "cell_type": "code",
   "execution_count": 21,
   "id": "a6fb6fac",
   "metadata": {},
   "outputs": [],
   "source": [
    "def username(empname):\n",
    "    return(empname+\"@amazon.com\")#nd\n",
    "    print(\"Weclome \",empname,\"to the company\")"
   ]
  },
  {
   "cell_type": "code",
   "execution_count": 22,
   "id": "9a582d8f",
   "metadata": {},
   "outputs": [
    {
     "data": {
      "text/plain": [
       "'manan@amazon.com'"
      ]
     },
     "execution_count": 22,
     "metadata": {},
     "output_type": "execute_result"
    }
   ],
   "source": [
    "username(\"manan\")"
   ]
  },
  {
   "cell_type": "code",
   "execution_count": null,
   "id": "a472c6e8",
   "metadata": {},
   "outputs": [],
   "source": []
  },
  {
   "cell_type": "code",
   "execution_count": 23,
   "id": "a50a210d",
   "metadata": {},
   "outputs": [],
   "source": [
    "def username(empname):\n",
    "    print(\"Weclome \",empname,\"to the company\")\n",
    "    return(empname+\"@amazon.com\")#nd\n",
    "    "
   ]
  },
  {
   "cell_type": "code",
   "execution_count": 24,
   "id": "42310b6b",
   "metadata": {},
   "outputs": [
    {
     "name": "stdout",
     "output_type": "stream",
     "text": [
      "Weclome  manan to the company\n"
     ]
    },
    {
     "data": {
      "text/plain": [
       "'manan@amazon.com'"
      ]
     },
     "execution_count": 24,
     "metadata": {},
     "output_type": "execute_result"
    }
   ],
   "source": [
    "username(\"manan\")"
   ]
  },
  {
   "cell_type": "markdown",
   "id": "ee9ae6a8",
   "metadata": {},
   "source": [
    "# Quiz"
   ]
  },
  {
   "cell_type": "code",
   "execution_count": null,
   "id": "e4c71c81",
   "metadata": {},
   "outputs": [],
   "source": [
    "What will be the output of the following code?\n",
    "\n",
    "def do_something(n):\n",
    "    total = 0\n",
    "    i = 1\n",
    "    while i <= n:\n",
    "        total += i\n",
    "        i += 1\n",
    "    return total\n",
    "\n",
    "print(do_something(5))\n",
    "a) 5\n",
    "\n",
    "b) 10\n",
    "\n",
    "c) 15\n",
    "\n",
    "d) 25"
   ]
  },
  {
   "cell_type": "code",
   "execution_count": 25,
   "id": "bb960955",
   "metadata": {},
   "outputs": [
    {
     "name": "stdout",
     "output_type": "stream",
     "text": [
      "15\n"
     ]
    }
   ],
   "source": [
    "def do_something(n):\n",
    "    total = 0\n",
    "    i = 1\n",
    "    while i <= n:\n",
    "        total += i\n",
    "        i += 1\n",
    "    return total\n",
    "\n",
    "print(do_something(5))"
   ]
  },
  {
   "cell_type": "code",
   "execution_count": null,
   "id": "91ea6dff",
   "metadata": {},
   "outputs": [],
   "source": [
    "def factorial(n):\n",
    "    result = 1\n",
    "    while n > 0:\n",
    "        result *= n\n",
    "        n -= 1\n",
    "\n",
    "print(factorial(5))\n",
    "a) None\n",
    "\n",
    "b) 120\n",
    "\n",
    "c) 150\n",
    "\n",
    "d) 20"
   ]
  },
  {
   "cell_type": "code",
   "execution_count": 26,
   "id": "e469eba4",
   "metadata": {},
   "outputs": [
    {
     "name": "stdout",
     "output_type": "stream",
     "text": [
      "None\n"
     ]
    }
   ],
   "source": [
    "def factorial(n):\n",
    "    result = 1\n",
    "    while n > 0:\n",
    "        result *= n\n",
    "        n -= 1\n",
    "\n",
    "print(factorial(5))"
   ]
  },
  {
   "cell_type": "code",
   "execution_count": 28,
   "id": "e9c46ef1",
   "metadata": {},
   "outputs": [
    {
     "name": "stdout",
     "output_type": "stream",
     "text": [
      "120\n"
     ]
    }
   ],
   "source": [
    "def factorial(n):\n",
    "    result = 1\n",
    "    while n > 0:\n",
    "        result *= n\n",
    "        n -= 1\n",
    "    return result\n",
    "print(factorial(5))"
   ]
  },
  {
   "cell_type": "code",
   "execution_count": 29,
   "id": "df221eb3",
   "metadata": {},
   "outputs": [
    {
     "name": "stdout",
     "output_type": "stream",
     "text": [
      "Chalo hello\n"
     ]
    }
   ],
   "source": [
    "a = \"hello\"\n",
    "b = \"Chalo\"\n",
    "def name(a,b):\n",
    "    print(a,b)\n",
    "name(b,a)"
   ]
  },
  {
   "cell_type": "code",
   "execution_count": null,
   "id": "4ec9572b",
   "metadata": {},
   "outputs": [],
   "source": [
    "a = \"hello\"\n",
    "b = \"Chalo\"\n",
    "def name(c,d=\"kkk\"):\n",
    "    print(c,d)\n",
    "name(b,a)"
   ]
  },
  {
   "cell_type": "code",
   "execution_count": null,
   "id": "e9530f44",
   "metadata": {},
   "outputs": [],
   "source": [
    "#dsml-june-23-beginner-w-o-sql-tableau-batch\n",
    "\n"
   ]
  },
  {
   "cell_type": "code",
   "execution_count": 32,
   "id": "6528457a",
   "metadata": {},
   "outputs": [
    {
     "name": "stdout",
     "output_type": "stream",
     "text": [
      "Making\n",
      "None\n",
      "Making\n",
      "None\n",
      "Making\n",
      "None\n",
      "Making\n",
      "None\n",
      "Making\n",
      "None\n",
      "Making\n",
      "None\n",
      "Making\n",
      "None\n",
      "Making\n",
      "None\n",
      "Making\n",
      "None\n",
      "Making\n",
      "None\n"
     ]
    }
   ],
   "source": [
    "def make_tea1():\n",
    "    print(\"Making\")\n",
    "    \n",
    "    \n",
    "    \n",
    "for i in range(1,11):\n",
    "    print(make_tea1())"
   ]
  },
  {
   "cell_type": "code",
   "execution_count": 34,
   "id": "63fab55b",
   "metadata": {},
   "outputs": [
    {
     "name": "stdout",
     "output_type": "stream",
     "text": [
      "Making\n",
      "Making\n",
      "Making\n",
      "Making\n",
      "Making\n",
      "Making\n",
      "Making\n",
      "Making\n",
      "Making\n",
      "Making\n"
     ]
    }
   ],
   "source": [
    "def make_tea1():\n",
    "    print(\"Making\")\n",
    "    \n",
    "    \n",
    "    \n",
    "for i in range(1,11):\n",
    "    make_tea1()"
   ]
  },
  {
   "cell_type": "code",
   "execution_count": 33,
   "id": "d4f03c6d",
   "metadata": {},
   "outputs": [
    {
     "name": "stdout",
     "output_type": "stream",
     "text": [
      "Making\n",
      "Dancing\n",
      "Making\n",
      "Dancing\n",
      "Making\n",
      "Dancing\n",
      "Making\n",
      "Dancing\n",
      "Making\n",
      "Dancing\n",
      "Making\n",
      "Dancing\n",
      "Making\n",
      "Dancing\n",
      "Making\n",
      "Dancing\n",
      "Making\n",
      "Dancing\n",
      "Making\n",
      "Dancing\n"
     ]
    }
   ],
   "source": [
    "def make_tea1():\n",
    "    print(\"Making\")\n",
    "    return \"Dancing\"\n",
    "    \n",
    "    \n",
    "for i in range(1,11):\n",
    "    print(make_tea1())"
   ]
  },
  {
   "cell_type": "code",
   "execution_count": 36,
   "id": "84c3ecf2",
   "metadata": {},
   "outputs": [
    {
     "name": "stdout",
     "output_type": "stream",
     "text": [
      "8\n",
      "6\n",
      "4\n",
      "2\n",
      "0\n",
      "Exec "
     ]
    }
   ],
   "source": [
    "n=8\n",
    "while n>=0:\n",
    "   print(n)\n",
    "   n -= 2\n",
    "   if n%2==0:\n",
    "       continue\n",
    "   print(n, end=\" \")\n",
    "else:\n",
    "   print(\"Exec\", end=\" \")"
   ]
  },
  {
   "cell_type": "code",
   "execution_count": 37,
   "id": "b990d792",
   "metadata": {},
   "outputs": [
    {
     "name": "stdout",
     "output_type": "stream",
     "text": [
      "8\n"
     ]
    }
   ],
   "source": [
    "n=8\n",
    "while n>=0:\n",
    "   print(n)\n",
    "   n -= 2\n",
    "   if n%2==0:\n",
    "       continue\n",
    "   print(n, end=\" \")\n",
    "else:\n",
    "   print(\"Exec\", end=\" \")"
   ]
  },
  {
   "cell_type": "code",
   "execution_count": 43,
   "id": "d0629f04",
   "metadata": {},
   "outputs": [],
   "source": [
    "def maketea():\n",
    "    return \"making\" \n",
    "for i in range(10):\n",
    "    maketea()\n"
   ]
  },
  {
   "cell_type": "code",
   "execution_count": 41,
   "id": "ef426fdf",
   "metadata": {},
   "outputs": [
    {
     "name": "stdout",
     "output_type": "stream",
     "text": [
      "making 0\n",
      "making 1\n",
      "making 2\n",
      "making 3\n",
      "making 4\n",
      "making 5\n",
      "making 6\n",
      "making 7\n",
      "making 8\n",
      "making 9\n"
     ]
    }
   ],
   "source": [
    "def maketea():\n",
    "    return \"making\" \n",
    "maketea()\n",
    "for i in range(10):\n",
    "    print(maketea(),i)\n"
   ]
  },
  {
   "cell_type": "code",
   "execution_count": 42,
   "id": "d785f1d4",
   "metadata": {},
   "outputs": [
    {
     "data": {
      "text/plain": [
       "'making'"
      ]
     },
     "execution_count": 42,
     "metadata": {},
     "output_type": "execute_result"
    }
   ],
   "source": [
    "def maketea():\n",
    "    return \"making\" \n",
    "maketea()"
   ]
  },
  {
   "cell_type": "code",
   "execution_count": null,
   "id": "62499936",
   "metadata": {},
   "outputs": [],
   "source": []
  }
 ],
 "metadata": {
  "kernelspec": {
   "display_name": "Python 3 (ipykernel)",
   "language": "python",
   "name": "python3"
  },
  "language_info": {
   "codemirror_mode": {
    "name": "ipython",
    "version": 3
   },
   "file_extension": ".py",
   "mimetype": "text/x-python",
   "name": "python",
   "nbconvert_exporter": "python",
   "pygments_lexer": "ipython3",
   "version": "3.10.9"
  }
 },
 "nbformat": 4,
 "nbformat_minor": 5
}
