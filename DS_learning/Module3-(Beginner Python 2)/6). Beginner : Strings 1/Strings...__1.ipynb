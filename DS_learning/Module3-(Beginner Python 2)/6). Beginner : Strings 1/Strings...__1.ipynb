{
 "cells": [
  {
   "cell_type": "code",
   "execution_count": 1,
   "id": "3f3e1952",
   "metadata": {},
   "outputs": [],
   "source": [
    "a = \"\"\"\n",
    "This is a mUltil line string\n",
    "1\n",
    "2\n",
    "\n",
    "\"\"\""
   ]
  },
  {
   "cell_type": "code",
   "execution_count": 2,
   "id": "3642c80e",
   "metadata": {},
   "outputs": [
    {
     "data": {
      "text/plain": [
       "'\\nThis is a mUltil line string\\n1\\n2\\n\\n'"
      ]
     },
     "execution_count": 2,
     "metadata": {},
     "output_type": "execute_result"
    }
   ],
   "source": [
    "a"
   ]
  },
  {
   "cell_type": "code",
   "execution_count": 3,
   "id": "40334625",
   "metadata": {},
   "outputs": [
    {
     "ename": "SyntaxError",
     "evalue": "invalid syntax (3416321310.py, line 2)",
     "output_type": "error",
     "traceback": [
      "\u001b[1;36m  File \u001b[1;32m\"C:\\Users\\AKASH\\AppData\\Local\\Temp\\ipykernel_14856\\3416321310.py\"\u001b[1;36m, line \u001b[1;32m2\u001b[0m\n\u001b[1;33m    This is a mUltil line string\u001b[0m\n\u001b[1;37m              ^\u001b[0m\n\u001b[1;31mSyntaxError\u001b[0m\u001b[1;31m:\u001b[0m invalid syntax\n"
     ]
    }
   ],
   "source": [
    "a = \"\"\n",
    "This is a mUltil line string\n",
    "1\n",
    "2\n",
    "\n",
    "\"\""
   ]
  },
  {
   "cell_type": "code",
   "execution_count": 4,
   "id": "da6965d5",
   "metadata": {},
   "outputs": [
    {
     "data": {
      "text/plain": [
       "' valid string'"
      ]
     },
     "execution_count": 4,
     "metadata": {},
     "output_type": "execute_result"
    }
   ],
   "source": [
    "\"\"\" valid string\"\"\""
   ]
  },
  {
   "cell_type": "code",
   "execution_count": 5,
   "id": "3df70d68",
   "metadata": {},
   "outputs": [
    {
     "data": {
      "text/plain": [
       "'valid string'"
      ]
     },
     "execution_count": 5,
     "metadata": {},
     "output_type": "execute_result"
    }
   ],
   "source": [
    "'''valid string'''"
   ]
  },
  {
   "cell_type": "code",
   "execution_count": 6,
   "id": "04ff6cd0",
   "metadata": {},
   "outputs": [
    {
     "data": {
      "text/plain": [
       "'valid string'"
      ]
     },
     "execution_count": 6,
     "metadata": {},
     "output_type": "execute_result"
    }
   ],
   "source": [
    "\"valid string\""
   ]
  },
  {
   "cell_type": "code",
   "execution_count": 7,
   "id": "be70d3b3",
   "metadata": {},
   "outputs": [
    {
     "ename": "SyntaxError",
     "evalue": "unterminated string literal (detected at line 1) (935343156.py, line 1)",
     "output_type": "error",
     "traceback": [
      "\u001b[1;36m  File \u001b[1;32m\"C:\\Users\\AKASH\\AppData\\Local\\Temp\\ipykernel_14856\\935343156.py\"\u001b[1;36m, line \u001b[1;32m1\u001b[0m\n\u001b[1;33m    \"valid string'\u001b[0m\n\u001b[1;37m    ^\u001b[0m\n\u001b[1;31mSyntaxError\u001b[0m\u001b[1;31m:\u001b[0m unterminated string literal (detected at line 1)\n"
     ]
    }
   ],
   "source": [
    "\"valid string'"
   ]
  },
  {
   "cell_type": "code",
   "execution_count": 8,
   "id": "b120cf5e",
   "metadata": {},
   "outputs": [
    {
     "data": {
      "text/plain": [
       "'56'"
      ]
     },
     "execution_count": 8,
     "metadata": {},
     "output_type": "execute_result"
    }
   ],
   "source": [
    "\"56\""
   ]
  },
  {
   "cell_type": "code",
   "execution_count": 9,
   "id": "49c8d2b4",
   "metadata": {},
   "outputs": [
    {
     "data": {
      "text/plain": [
       "'56'"
      ]
     },
     "execution_count": 9,
     "metadata": {},
     "output_type": "execute_result"
    }
   ],
   "source": [
    "\"\"\"56\"\"\""
   ]
  },
  {
   "cell_type": "code",
   "execution_count": 10,
   "id": "08cbd942",
   "metadata": {},
   "outputs": [
    {
     "data": {
      "text/plain": [
       "'56'"
      ]
     },
     "execution_count": 10,
     "metadata": {},
     "output_type": "execute_result"
    }
   ],
   "source": [
    "'56'"
   ]
  },
  {
   "cell_type": "code",
   "execution_count": 11,
   "id": "81a5d529",
   "metadata": {},
   "outputs": [
    {
     "data": {
      "text/plain": [
       "True"
      ]
     },
     "execution_count": 11,
     "metadata": {},
     "output_type": "execute_result"
    }
   ],
   "source": [
    "\"a\" > \"A\""
   ]
  },
  {
   "cell_type": "code",
   "execution_count": 12,
   "id": "74d61f5e",
   "metadata": {},
   "outputs": [
    {
     "name": "stdout",
     "output_type": "stream",
     "text": [
      "A\n"
     ]
    }
   ],
   "source": [
    "x=\"A\"\n",
    "print(x)"
   ]
  },
  {
   "cell_type": "markdown",
   "id": "59b765e0",
   "metadata": {},
   "source": [
    "**String manipulations/methods**"
   ]
  },
  {
   "cell_type": "code",
   "execution_count": 13,
   "id": "9538cb72",
   "metadata": {},
   "outputs": [
    {
     "data": {
      "text/plain": [
       "'random1random2'"
      ]
     },
     "execution_count": 13,
     "metadata": {},
     "output_type": "execute_result"
    }
   ],
   "source": [
    "\"random1\" +    \"random2\""
   ]
  },
  {
   "cell_type": "code",
   "execution_count": 14,
   "id": "00acc651",
   "metadata": {},
   "outputs": [
    {
     "data": {
      "text/plain": [
       "'aaaaaaaaaaaaaaa'"
      ]
     },
     "execution_count": 14,
     "metadata": {},
     "output_type": "execute_result"
    }
   ],
   "source": [
    "\"a\"*3*5"
   ]
  },
  {
   "cell_type": "code",
   "execution_count": null,
   "id": "ea6ffb0c",
   "metadata": {},
   "outputs": [],
   "source": []
  },
  {
   "cell_type": "code",
   "execution_count": 15,
   "id": "e7aa7862",
   "metadata": {},
   "outputs": [
    {
     "data": {
      "text/plain": [
       "True"
      ]
     },
     "execution_count": 15,
     "metadata": {},
     "output_type": "execute_result"
    }
   ],
   "source": [
    "\"zebra\" > \"adsahdjahsjhahfioahsfuaiusfhsuhfuishua\""
   ]
  },
  {
   "cell_type": "code",
   "execution_count": null,
   "id": "feccf559",
   "metadata": {},
   "outputs": [],
   "source": [
    "#Lexicograhical order"
   ]
  },
  {
   "cell_type": "code",
   "execution_count": 16,
   "id": "9b5b6da4",
   "metadata": {},
   "outputs": [
    {
     "data": {
      "text/plain": [
       "False"
      ]
     },
     "execution_count": 16,
     "metadata": {},
     "output_type": "execute_result"
    }
   ],
   "source": [
    "\"abar\" > \"amar\""
   ]
  },
  {
   "cell_type": "code",
   "execution_count": 17,
   "id": "1ff15af8",
   "metadata": {},
   "outputs": [
    {
     "data": {
      "text/plain": [
       "False"
      ]
     },
     "execution_count": 17,
     "metadata": {},
     "output_type": "execute_result"
    }
   ],
   "source": [
    "\"aAa\" > \"aaa\""
   ]
  },
  {
   "cell_type": "code",
   "execution_count": null,
   "id": "aea81408",
   "metadata": {},
   "outputs": [],
   "source": []
  },
  {
   "cell_type": "markdown",
   "id": "d34ed80a",
   "metadata": {},
   "source": [
    "### **F-Strings and string formatting**"
   ]
  },
  {
   "cell_type": "code",
   "execution_count": 18,
   "id": "f357c36b",
   "metadata": {},
   "outputs": [],
   "source": [
    "l =5\n",
    "b =10\n",
    "a = l*b\n"
   ]
  },
  {
   "cell_type": "code",
   "execution_count": 19,
   "id": "ca4a0f17",
   "metadata": {},
   "outputs": [
    {
     "name": "stdout",
     "output_type": "stream",
     "text": [
      "Length =  5 Breadth = 10 Area is = 50\n"
     ]
    }
   ],
   "source": [
    "print(\"Length = \",l,\"Breadth =\",b ,\"Area is =\",a )"
   ]
  },
  {
   "cell_type": "code",
   "execution_count": 21,
   "id": "4295b539",
   "metadata": {},
   "outputs": [
    {
     "name": "stdout",
     "output_type": "stream",
     "text": [
      "Length = ,l,Breadth =,b ,Area is =,a \n"
     ]
    }
   ],
   "source": [
    "print(\"Length = ,l,Breadth =,b ,Area is =,a \")"
   ]
  },
  {
   "cell_type": "code",
   "execution_count": 25,
   "id": "8f30ded9",
   "metadata": {},
   "outputs": [
    {
     "name": "stdout",
     "output_type": "stream",
     "text": [
      "Length = 5 Breadth = 10 Area is = 50\n"
     ]
    }
   ],
   "source": [
    "#variable  is replaced by curly brackets\n",
    "print(\"Length = {} Breadth = {} Area is = {}\".format(l,b,a))"
   ]
  },
  {
   "cell_type": "code",
   "execution_count": 26,
   "id": "162948ca",
   "metadata": {},
   "outputs": [
    {
     "name": "stdout",
     "output_type": "stream",
     "text": [
      "Length = 10 Breadth = 5 Area is = 50\n"
     ]
    }
   ],
   "source": [
    "print(\"Length = {} Breadth = {} Area is = {}\".format(b,l,a))"
   ]
  },
  {
   "cell_type": "code",
   "execution_count": 27,
   "id": "459a3fd3",
   "metadata": {},
   "outputs": [
    {
     "name": "stdout",
     "output_type": "stream",
     "text": [
      "Length = {l} Breadth = {b} Area is = {a}\n"
     ]
    }
   ],
   "source": [
    "print(\"Length = {l} Breadth = {b} Area is = {a}\")"
   ]
  },
  {
   "cell_type": "code",
   "execution_count": 28,
   "id": "990d6f05",
   "metadata": {},
   "outputs": [
    {
     "name": "stdout",
     "output_type": "stream",
     "text": [
      "Length = 5 Breadth = 10 Area is = 50\n"
     ]
    }
   ],
   "source": [
    "print(f\"Length = {l} Breadth = {b} Area is = {a}\")"
   ]
  },
  {
   "cell_type": "code",
   "execution_count": 30,
   "id": "87ee4d34",
   "metadata": {},
   "outputs": [
    {
     "data": {
      "text/plain": [
       "'my name is vibhes'"
      ]
     },
     "execution_count": 30,
     "metadata": {},
     "output_type": "execute_result"
    }
   ],
   "source": [
    "a = \"vibhes\"\n",
    "\"my name is {}\".format(a)"
   ]
  },
  {
   "cell_type": "code",
   "execution_count": 31,
   "id": "d4da3a0f",
   "metadata": {},
   "outputs": [
    {
     "data": {
      "text/plain": [
       "'my name is vibhes'"
      ]
     },
     "execution_count": 31,
     "metadata": {},
     "output_type": "execute_result"
    }
   ],
   "source": [
    "f\"my name is {a}\""
   ]
  },
  {
   "cell_type": "code",
   "execution_count": 32,
   "id": "bbd0a54c",
   "metadata": {},
   "outputs": [
    {
     "ename": "SyntaxError",
     "evalue": "f-string expression part cannot include a backslash (378687542.py, line 1)",
     "output_type": "error",
     "traceback": [
      "\u001b[1;36m  File \u001b[1;32m\"C:\\Users\\AKASH\\AppData\\Local\\Temp\\ipykernel_14856\\378687542.py\"\u001b[1;36m, line \u001b[1;32m1\u001b[0m\n\u001b[1;33m    f\"my name is \\{a\\}\"\u001b[0m\n\u001b[1;37m                       ^\u001b[0m\n\u001b[1;31mSyntaxError\u001b[0m\u001b[1;31m:\u001b[0m f-string expression part cannot include a backslash\n"
     ]
    }
   ],
   "source": [
    "f\"my name is {a}\""
   ]
  },
  {
   "cell_type": "code",
   "execution_count": 33,
   "id": "77d4cbb3",
   "metadata": {},
   "outputs": [
    {
     "ename": "IndexError",
     "evalue": "Replacement index 2 out of range for positional args tuple",
     "output_type": "error",
     "traceback": [
      "\u001b[1;31m---------------------------------------------------------------------------\u001b[0m",
      "\u001b[1;31mIndexError\u001b[0m                                Traceback (most recent call last)",
      "\u001b[1;32m~\\AppData\\Local\\Temp\\ipykernel_14856\\1178587856.py\u001b[0m in \u001b[0;36m<cell line: 1>\u001b[1;34m()\u001b[0m\n\u001b[1;32m----> 1\u001b[1;33m \u001b[0mprint\u001b[0m\u001b[1;33m(\u001b[0m\u001b[1;34m\"Length = {} Breadth = {} Area is = {}\"\u001b[0m\u001b[1;33m.\u001b[0m\u001b[0mformat\u001b[0m\u001b[1;33m(\u001b[0m\u001b[0mb\u001b[0m\u001b[1;33m,\u001b[0m\u001b[0ml\u001b[0m\u001b[1;33m)\u001b[0m\u001b[1;33m)\u001b[0m\u001b[1;33m\u001b[0m\u001b[1;33m\u001b[0m\u001b[0m\n\u001b[0m",
      "\u001b[1;31mIndexError\u001b[0m: Replacement index 2 out of range for positional args tuple"
     ]
    }
   ],
   "source": [
    "print(\"Length = {} Breadth = {} Area is = {}\".format(b,l))"
   ]
  },
  {
   "cell_type": "markdown",
   "id": "b28c820b",
   "metadata": {},
   "source": [
    "**Two simple functions**"
   ]
  },
  {
   "cell_type": "code",
   "execution_count": 34,
   "id": "cace5743",
   "metadata": {},
   "outputs": [
    {
     "data": {
      "text/plain": [
       "97"
      ]
     },
     "execution_count": 34,
     "metadata": {},
     "output_type": "execute_result"
    }
   ],
   "source": [
    "ord(\"a\")#* ```ord()``` function can be used to get the ASCII value of a character."
   ]
  },
  {
   "cell_type": "code",
   "execution_count": 35,
   "id": "9efb4ac0",
   "metadata": {},
   "outputs": [
    {
     "ename": "TypeError",
     "evalue": "ord() expected a character, but string of length 6 found",
     "output_type": "error",
     "traceback": [
      "\u001b[1;31m---------------------------------------------------------------------------\u001b[0m",
      "\u001b[1;31mTypeError\u001b[0m                                 Traceback (most recent call last)",
      "\u001b[1;32m~\\AppData\\Local\\Temp\\ipykernel_14856\\4294143998.py\u001b[0m in \u001b[0;36m<cell line: 1>\u001b[1;34m()\u001b[0m\n\u001b[1;32m----> 1\u001b[1;33m \u001b[0mord\u001b[0m\u001b[1;33m(\u001b[0m\u001b[1;34m\"yogesh\"\u001b[0m\u001b[1;33m)\u001b[0m\u001b[1;33m\u001b[0m\u001b[1;33m\u001b[0m\u001b[0m\n\u001b[0m",
      "\u001b[1;31mTypeError\u001b[0m: ord() expected a character, but string of length 6 found"
     ]
    }
   ],
   "source": [
    "ord(\"yogesh\")"
   ]
  },
  {
   "cell_type": "code",
   "execution_count": 36,
   "id": "efe49d2f",
   "metadata": {},
   "outputs": [
    {
     "data": {
      "text/plain": [
       "121"
      ]
     },
     "execution_count": 36,
     "metadata": {},
     "output_type": "execute_result"
    }
   ],
   "source": [
    "ord(\"y\")"
   ]
  },
  {
   "cell_type": "code",
   "execution_count": 37,
   "id": "a92d5a5c",
   "metadata": {},
   "outputs": [
    {
     "data": {
      "text/plain": [
       "98"
      ]
     },
     "execution_count": 37,
     "metadata": {},
     "output_type": "execute_result"
    }
   ],
   "source": [
    "ord(\"b\")"
   ]
  },
  {
   "cell_type": "code",
   "execution_count": 38,
   "id": "0f4bc8d5",
   "metadata": {},
   "outputs": [
    {
     "data": {
      "text/plain": [
       "48"
      ]
     },
     "execution_count": 38,
     "metadata": {},
     "output_type": "execute_result"
    }
   ],
   "source": [
    "ord(\"0\")"
   ]
  },
  {
   "cell_type": "code",
   "execution_count": 39,
   "id": "4ed0117f",
   "metadata": {},
   "outputs": [
    {
     "data": {
      "text/plain": [
       "'0'"
      ]
     },
     "execution_count": 39,
     "metadata": {},
     "output_type": "execute_result"
    }
   ],
   "source": [
    "chr(48)"
   ]
  },
  {
   "cell_type": "code",
   "execution_count": 40,
   "id": "9014f55e",
   "metadata": {},
   "outputs": [
    {
     "data": {
      "text/plain": [
       "'a'"
      ]
     },
     "execution_count": 40,
     "metadata": {},
     "output_type": "execute_result"
    }
   ],
   "source": [
    "chr(97)"
   ]
  },
  {
   "cell_type": "code",
   "execution_count": 43,
   "id": "57279cc9",
   "metadata": {},
   "outputs": [
    {
     "name": "stdout",
     "output_type": "stream",
     "text": [
      "a b c d e f g h i j k l m n o p q r s t u v w x y z "
     ]
    }
   ],
   "source": [
    "for i in range(97,123):\n",
    "    print(chr(i),end=\" \")"
   ]
  },
  {
   "cell_type": "markdown",
   "id": "39935022",
   "metadata": {},
   "source": [
    "Question-1\n",
    "Take a string input from user and print that string character by character, with each character in new line.\n",
    "Input:\n",
    "\"INDIA\"\n",
    "Output:\n",
    "I\n",
    "N\n",
    "D\n",
    "I\n",
    "A"
   ]
  },
  {
   "cell_type": "code",
   "execution_count": 44,
   "id": "89925c46",
   "metadata": {},
   "outputs": [
    {
     "name": "stdout",
     "output_type": "stream",
     "text": [
      "Enter you value INDIA\n",
      "I\n",
      "N\n",
      "D\n",
      "I\n",
      "A\n"
     ]
    }
   ],
   "source": [
    "a = input(\"Enter you value \")\n",
    "for i in a:\n",
    "    print(i)"
   ]
  },
  {
   "cell_type": "code",
   "execution_count": null,
   "id": "c6e158aa",
   "metadata": {},
   "outputs": [],
   "source": []
  },
  {
   "cell_type": "markdown",
   "id": "8f9667b2",
   "metadata": {},
   "source": [
    "##**Question-2**\n",
    "* Take a string input from user.\n",
    "* Print the following.\n",
    "\n",
    "**Print format:**\n",
    "\n",
    "```\"First Character - <first_character>, Last Character - <last_character>``"
   ]
  },
  {
   "cell_type": "code",
   "execution_count": 46,
   "id": "46dbf71f",
   "metadata": {},
   "outputs": [],
   "source": [
    "# INDEXING/Slicing IN LIST AND STRINGS ARE EXCALTY SAME"
   ]
  },
  {
   "cell_type": "code",
   "execution_count": 47,
   "id": "ccbe2fd6",
   "metadata": {},
   "outputs": [
    {
     "data": {
      "text/plain": [
       "'S'"
      ]
     },
     "execution_count": 47,
     "metadata": {},
     "output_type": "execute_result"
    }
   ],
   "source": [
    "\"Srinivas\"[0]"
   ]
  },
  {
   "cell_type": "code",
   "execution_count": 48,
   "id": "b5c28da0",
   "metadata": {},
   "outputs": [
    {
     "data": {
      "text/plain": [
       "'s'"
      ]
     },
     "execution_count": 48,
     "metadata": {},
     "output_type": "execute_result"
    }
   ],
   "source": [
    "\"Srinivas\"[-1]"
   ]
  },
  {
   "cell_type": "code",
   "execution_count": 49,
   "id": "1cfd8cfa",
   "metadata": {},
   "outputs": [
    {
     "data": {
      "text/plain": [
       "'a'"
      ]
     },
     "execution_count": 49,
     "metadata": {},
     "output_type": "execute_result"
    }
   ],
   "source": [
    "\"Srinivas\"[-2]"
   ]
  },
  {
   "cell_type": "code",
   "execution_count": 50,
   "id": "71e4013b",
   "metadata": {},
   "outputs": [
    {
     "name": "stdout",
     "output_type": "stream",
     "text": [
      "Gaju\n",
      "First Char G ,Last Char u\n"
     ]
    }
   ],
   "source": [
    "a = input()\n",
    "print(f\"First Char {a[0]} ,Last Char {a[-1]}\")"
   ]
  },
  {
   "cell_type": "code",
   "execution_count": 51,
   "id": "bdb32bf6",
   "metadata": {},
   "outputs": [
    {
     "data": {
      "text/plain": [
       "['fibnesh', 'jimesh', 'ramesh']"
      ]
     },
     "execution_count": 51,
     "metadata": {},
     "output_type": "execute_result"
    }
   ],
   "source": [
    "l =['himesh','jimesh','ramesh']\n",
    "l[0] = \"fibnesh\"\n",
    "l#change the valyues of a lisrt"
   ]
  },
  {
   "cell_type": "code",
   "execution_count": 52,
   "id": "8847f8a4",
   "metadata": {},
   "outputs": [
    {
     "data": {
      "text/plain": [
       "'Gaju'"
      ]
     },
     "execution_count": 52,
     "metadata": {},
     "output_type": "execute_result"
    }
   ],
   "source": [
    "a"
   ]
  },
  {
   "cell_type": "code",
   "execution_count": 53,
   "id": "c33233dc",
   "metadata": {},
   "outputs": [
    {
     "ename": "TypeError",
     "evalue": "'str' object does not support item assignment",
     "output_type": "error",
     "traceback": [
      "\u001b[1;31m---------------------------------------------------------------------------\u001b[0m",
      "\u001b[1;31mTypeError\u001b[0m                                 Traceback (most recent call last)",
      "\u001b[1;32m~\\AppData\\Local\\Temp\\ipykernel_14856\\2600814397.py\u001b[0m in \u001b[0;36m<cell line: 1>\u001b[1;34m()\u001b[0m\n\u001b[1;32m----> 1\u001b[1;33m \u001b[0ma\u001b[0m\u001b[1;33m[\u001b[0m\u001b[1;36m0\u001b[0m\u001b[1;33m]\u001b[0m \u001b[1;33m=\u001b[0m\u001b[1;34m\"R\"\u001b[0m\u001b[1;33m\u001b[0m\u001b[1;33m\u001b[0m\u001b[0m\n\u001b[0m",
      "\u001b[1;31mTypeError\u001b[0m: 'str' object does not support item assignment"
     ]
    }
   ],
   "source": [
    "a[0] =\"R\" #immutable"
   ]
  },
  {
   "cell_type": "markdown",
   "id": "fe03a679",
   "metadata": {},
   "source": [
    "Question-3\n",
    "Take a string input from user.\n",
    "Reverse that string."
   ]
  },
  {
   "cell_type": "code",
   "execution_count": 54,
   "id": "7d797d03",
   "metadata": {},
   "outputs": [
    {
     "name": "stdout",
     "output_type": "stream",
     "text": [
      "Zafar\n"
     ]
    },
    {
     "data": {
      "text/plain": [
       "'rafaZ'"
      ]
     },
     "execution_count": 54,
     "metadata": {},
     "output_type": "execute_result"
    }
   ],
   "source": [
    "a = input()\n",
    "a[::-1]"
   ]
  },
  {
   "cell_type": "code",
   "execution_count": 60,
   "id": "e62eb270",
   "metadata": {},
   "outputs": [
    {
     "ename": "AttributeError",
     "evalue": "'str' object has no attribute 'reverse'",
     "output_type": "error",
     "traceback": [
      "\u001b[1;31m---------------------------------------------------------------------------\u001b[0m",
      "\u001b[1;31mAttributeError\u001b[0m                            Traceback (most recent call last)",
      "\u001b[1;32m~\\AppData\\Local\\Temp\\ipykernel_14856\\2721516429.py\u001b[0m in \u001b[0;36m<cell line: 1>\u001b[1;34m()\u001b[0m\n\u001b[1;32m----> 1\u001b[1;33m \u001b[0ma\u001b[0m\u001b[1;33m.\u001b[0m\u001b[0mreverse\u001b[0m\u001b[1;33m(\u001b[0m\u001b[1;33m)\u001b[0m\u001b[1;33m\u001b[0m\u001b[1;33m\u001b[0m\u001b[0m\n\u001b[0m",
      "\u001b[1;31mAttributeError\u001b[0m: 'str' object has no attribute 'reverse'"
     ]
    }
   ],
   "source": [
    "a.reverse()"
   ]
  },
  {
   "cell_type": "code",
   "execution_count": 59,
   "id": "e59f8fcc",
   "metadata": {},
   "outputs": [
    {
     "data": {
      "text/plain": [
       "['r', 'a', 'f', 'a', 'Z']"
      ]
     },
     "execution_count": 59,
     "metadata": {},
     "output_type": "execute_result"
    }
   ],
   "source": [
    "list(reversed(a))"
   ]
  },
  {
   "cell_type": "code",
   "execution_count": null,
   "id": "6f03e1c3",
   "metadata": {},
   "outputs": [],
   "source": []
  },
  {
   "cell_type": "markdown",
   "id": "6e9a72c5",
   "metadata": {},
   "source": [
    "Question-4\n",
    "Take a string input from user.\n",
    "Return \"PALINDROME\" if the string is a palindrome, otherwise return \"NOT A PALINDROME\"."
   ]
  },
  {
   "cell_type": "code",
   "execution_count": null,
   "id": "2fb8304f",
   "metadata": {},
   "outputs": [],
   "source": [
    "naman - yes\n",
    "zafar - not "
   ]
  },
  {
   "cell_type": "code",
   "execution_count": 62,
   "id": "e101e5b4",
   "metadata": {},
   "outputs": [
    {
     "name": "stdout",
     "output_type": "stream",
     "text": [
      "zafar\n",
      "Not a Palindrome\n"
     ]
    }
   ],
   "source": [
    "a = input()\n",
    "\n",
    "if a[::-1]==a:\n",
    "    print(\"Palindrom\")\n",
    "else:\n",
    "    print(\"Not a Palindrome\")"
   ]
  },
  {
   "cell_type": "code",
   "execution_count": null,
   "id": "14b5ad20",
   "metadata": {},
   "outputs": [],
   "source": []
  },
  {
   "cell_type": "code",
   "execution_count": 63,
   "id": "4ba1ae2b",
   "metadata": {},
   "outputs": [
    {
     "name": "stdout",
     "output_type": "stream",
     "text": [
      "Naman\n",
      "Not a Palindrome\n"
     ]
    }
   ],
   "source": [
    "a = input()\n",
    "\n",
    "if a[::-1]==a:\n",
    "    print(\"Palindrom\")\n",
    "else:\n",
    "    print(\"Not a Palindrome\")"
   ]
  },
  {
   "cell_type": "code",
   "execution_count": null,
   "id": "d796f0a9",
   "metadata": {},
   "outputs": [],
   "source": [
    "#Edge Cases"
   ]
  },
  {
   "cell_type": "code",
   "execution_count": 64,
   "id": "d4d4a96c",
   "metadata": {},
   "outputs": [
    {
     "data": {
      "text/plain": [
       "'pratik'"
      ]
     },
     "execution_count": 64,
     "metadata": {},
     "output_type": "execute_result"
    }
   ],
   "source": [
    "\"PRatik\".lower()"
   ]
  },
  {
   "cell_type": "code",
   "execution_count": 65,
   "id": "95d02651",
   "metadata": {},
   "outputs": [
    {
     "name": "stdout",
     "output_type": "stream",
     "text": [
      "PAP\n",
      "Palindrom\n"
     ]
    }
   ],
   "source": [
    "a = input()\n",
    "\n",
    "if a[::-1].lower()==a.lower():\n",
    "    print(\"Palindrom\")\n",
    "else:\n",
    "    print(\"Not a Palindrome\")"
   ]
  },
  {
   "cell_type": "code",
   "execution_count": 69,
   "id": "a651a370",
   "metadata": {},
   "outputs": [
    {
     "name": "stdout",
     "output_type": "stream",
     "text": [
      "This is waht you want right {Alok}\n"
     ]
    }
   ],
   "source": [
    "a = \"Alok\"\n",
    "print(f\"This is waht you want right {{{a}}}\")"
   ]
  },
  {
   "cell_type": "markdown",
   "id": "9f01b315",
   "metadata": {},
   "source": [
    "Question-5\n",
    "Take a string input from user.\n",
    "Print the number of upper case characters in that string."
   ]
  },
  {
   "cell_type": "code",
   "execution_count": null,
   "id": "9703d8f6",
   "metadata": {},
   "outputs": [],
   "source": [
    "a = \"This is a RANDOM strinG 67890, ^$#@\"\n",
    "Output:\n",
    "8"
   ]
  },
  {
   "cell_type": "code",
   "execution_count": 75,
   "id": "f277895d",
   "metadata": {},
   "outputs": [
    {
     "data": {
      "text/plain": [
       "8"
      ]
     },
     "execution_count": 75,
     "metadata": {},
     "output_type": "execute_result"
    }
   ],
   "source": [
    "count=0\n",
    "a = \"This is a RANDOM strinG 67890, ^$#@\"\n",
    "\n",
    "for i in a:\n",
    "    if ord(i)>=65 and ord(i)<=90:\n",
    "        count=count+1\n",
    "count"
   ]
  },
  {
   "cell_type": "code",
   "execution_count": 76,
   "id": "f2899eea",
   "metadata": {},
   "outputs": [
    {
     "data": {
      "text/plain": [
       "True"
      ]
     },
     "execution_count": 76,
     "metadata": {},
     "output_type": "execute_result"
    }
   ],
   "source": [
    "\"T\".isupper()"
   ]
  },
  {
   "cell_type": "code",
   "execution_count": 77,
   "id": "2d011b1a",
   "metadata": {},
   "outputs": [
    {
     "data": {
      "text/plain": [
       "False"
      ]
     },
     "execution_count": 77,
     "metadata": {},
     "output_type": "execute_result"
    }
   ],
   "source": [
    "\"y\".isupper()"
   ]
  },
  {
   "cell_type": "code",
   "execution_count": 80,
   "id": "af974c0e",
   "metadata": {},
   "outputs": [
    {
     "data": {
      "text/plain": [
       "8"
      ]
     },
     "execution_count": 80,
     "metadata": {},
     "output_type": "execute_result"
    }
   ],
   "source": [
    "count=0\n",
    "a = \"This is a RANDOM strinG 67890, ^$#@\"\n",
    "\n",
    "for i in a:\n",
    "    if i.isupper():\n",
    "        count=count+1\n",
    "count"
   ]
  },
  {
   "cell_type": "code",
   "execution_count": 82,
   "id": "35a1ec40",
   "metadata": {},
   "outputs": [
    {
     "name": "stdout",
     "output_type": "stream",
     "text": [
      "Enter value:Abc\n",
      "lower  2 Upper  1\n"
     ]
    }
   ],
   "source": [
    "a=input(\"Enter value:\")\n",
    "lower=0\n",
    "upper=0\n",
    "for i in range (len(a)):\n",
    "    if ord(a[i]) >= 97 and ord(a[i]) <=122:\n",
    "        lower+=1\n",
    "    elif ord(a[i]) >= 65 and ord(a[i]) <=90:\n",
    "        upper+=1\n",
    "print(\"lower \",lower,\"Upper \",upper)"
   ]
  },
  {
   "cell_type": "code",
   "execution_count": 81,
   "id": "22fb79f4",
   "metadata": {},
   "outputs": [
    {
     "ename": "ValueError",
     "evalue": "invalid literal for int() with base 10: 'S'",
     "output_type": "error",
     "traceback": [
      "\u001b[1;31m---------------------------------------------------------------------------\u001b[0m",
      "\u001b[1;31mValueError\u001b[0m                                Traceback (most recent call last)",
      "\u001b[1;32m~\\AppData\\Local\\Temp\\ipykernel_14856\\1559931188.py\u001b[0m in \u001b[0;36m<cell line: 1>\u001b[1;34m()\u001b[0m\n\u001b[1;32m----> 1\u001b[1;33m \u001b[0mint\u001b[0m\u001b[1;33m(\u001b[0m\u001b[1;34m\"S\"\u001b[0m\u001b[1;33m)\u001b[0m\u001b[1;33m\u001b[0m\u001b[1;33m\u001b[0m\u001b[0m\n\u001b[0m",
      "\u001b[1;31mValueError\u001b[0m: invalid literal for int() with base 10: 'S'"
     ]
    }
   ],
   "source": [
    "int(\"S\")"
   ]
  },
  {
   "cell_type": "code",
   "execution_count": null,
   "id": "82631e06",
   "metadata": {},
   "outputs": [],
   "source": [
    "Question-6\n",
    "You are given a list of numbers between 1 and 256.\n",
    "Generate a string from the char values of these numbers\n",
    "Input:\n",
    "[65, 97, 68]\n",
    "Output:\n",
    "AaD"
   ]
  },
  {
   "cell_type": "code",
   "execution_count": 84,
   "id": "f9aaa06e",
   "metadata": {},
   "outputs": [
    {
     "name": "stdout",
     "output_type": "stream",
     "text": [
      "AaD\n"
     ]
    }
   ],
   "source": [
    "s=''\n",
    "for i in [65, 97, 68]:\n",
    "    char =chr(i)\n",
    "    s = s+char\n",
    "print(s)"
   ]
  },
  {
   "cell_type": "code",
   "execution_count": 86,
   "id": "8c7d3688",
   "metadata": {},
   "outputs": [
    {
     "name": "stdout",
     "output_type": "stream",
     "text": [
      "A\n",
      "a\n",
      "D\n"
     ]
    }
   ],
   "source": [
    "lst = [65, 97, 68]\n",
    "for i in (lst):\n",
    "    #print(i)\n",
    "    char = chr(i)\n",
    "    print(char)"
   ]
  },
  {
   "cell_type": "code",
   "execution_count": 88,
   "id": "d8607874",
   "metadata": {},
   "outputs": [
    {
     "data": {
      "text/plain": [
       "'AaD'"
      ]
     },
     "execution_count": 88,
     "metadata": {},
     "output_type": "execute_result"
    }
   ],
   "source": [
    "def convert(number):\n",
    "    str1=''\n",
    "    for i in range(len(number)):\n",
    "        a=number[i]\n",
    "        res=chr(a)\n",
    "        str1=str1+res\n",
    "    return (str1)\n",
    "convert([65, 97, 68])"
   ]
  },
  {
   "cell_type": "code",
   "execution_count": 87,
   "id": "1ceae142",
   "metadata": {},
   "outputs": [
    {
     "data": {
      "text/plain": [
       "'1'"
      ]
     },
     "execution_count": 87,
     "metadata": {},
     "output_type": "execute_result"
    }
   ],
   "source": [
    "str(1)"
   ]
  },
  {
   "cell_type": "code",
   "execution_count": null,
   "id": "7ebe52b6",
   "metadata": {},
   "outputs": [],
   "source": []
  },
  {
   "cell_type": "code",
   "execution_count": null,
   "id": "f2165c9a",
   "metadata": {},
   "outputs": [],
   "source": []
  },
  {
   "cell_type": "code",
   "execution_count": null,
   "id": "6c13912b",
   "metadata": {},
   "outputs": [],
   "source": [
    "Question-7\n",
    "Given a string of comma separated values.\n",
    "Convert it into a string of individual values."
   ]
  },
  {
   "cell_type": "code",
   "execution_count": 89,
   "id": "e328f8c7",
   "metadata": {},
   "outputs": [
    {
     "name": "stdout",
     "output_type": "stream",
     "text": [
      "56,78,99,101\n",
      "56,78,99,101\n"
     ]
    }
   ],
   "source": [
    "a  = input()\n",
    "print(a)"
   ]
  },
  {
   "cell_type": "code",
   "execution_count": null,
   "id": "7edae77c",
   "metadata": {},
   "outputs": [],
   "source": [
    "for i in a:\n",
    "    #very tough"
   ]
  },
  {
   "cell_type": "code",
   "execution_count": null,
   "id": "03c37915",
   "metadata": {},
   "outputs": [],
   "source": [
    "STRR to list"
   ]
  },
  {
   "cell_type": "code",
   "execution_count": 90,
   "id": "f8c52e5a",
   "metadata": {},
   "outputs": [
    {
     "data": {
      "text/plain": [
       "['56', '78', '99', '101']"
      ]
     },
     "execution_count": 90,
     "metadata": {},
     "output_type": "execute_result"
    }
   ],
   "source": [
    "a.split(\",\")"
   ]
  },
  {
   "cell_type": "code",
   "execution_count": 92,
   "id": "7d9cc13b",
   "metadata": {},
   "outputs": [
    {
     "name": "stdout",
     "output_type": "stream",
     "text": [
      "8\n",
      "N\n",
      "c\n",
      "e\n"
     ]
    }
   ],
   "source": [
    "for i in a.split(\",\"):\n",
    "    print(chr(int(i)))"
   ]
  },
  {
   "cell_type": "code",
   "execution_count": 93,
   "id": "a580313f",
   "metadata": {},
   "outputs": [
    {
     "data": {
      "text/plain": [
       "['AA', 'C', '', 'IA']"
      ]
     },
     "execution_count": 93,
     "metadata": {},
     "output_type": "execute_result"
    }
   ],
   "source": [
    "\"AALCLLIA\".split(\"L\")"
   ]
  },
  {
   "cell_type": "code",
   "execution_count": 94,
   "id": "c2ba43d5",
   "metadata": {},
   "outputs": [
    {
     "data": {
      "text/plain": [
       "['AALCLLIA']"
      ]
     },
     "execution_count": 94,
     "metadata": {},
     "output_type": "execute_result"
    }
   ],
   "source": [
    "\"AALCLLIA\".split(\" \")"
   ]
  },
  {
   "cell_type": "code",
   "execution_count": null,
   "id": "f756a6c2",
   "metadata": {},
   "outputs": [],
   "source": []
  },
  {
   "cell_type": "code",
   "execution_count": null,
   "id": "3ecfe52a",
   "metadata": {},
   "outputs": [],
   "source": []
  },
  {
   "cell_type": "code",
   "execution_count": 98,
   "id": "60ce3ffa",
   "metadata": {},
   "outputs": [
    {
     "data": {
      "text/plain": [
       "['r', 'a', 'h', 'd', 'o', 'j', 'a', 'G']"
      ]
     },
     "execution_count": 98,
     "metadata": {},
     "output_type": "execute_result"
    }
   ],
   "source": [
    "a =\"Gajodhar\"\n",
    "j = list(reversed(a))\n",
    "j"
   ]
  },
  {
   "cell_type": "code",
   "execution_count": 97,
   "id": "8c324b5a",
   "metadata": {},
   "outputs": [
    {
     "data": {
      "text/plain": [
       "'r*a*h*d*o*j*a*G'"
      ]
     },
     "execution_count": 97,
     "metadata": {},
     "output_type": "execute_result"
    }
   ],
   "source": [
    "#join(what i need to join)\n",
    "#join(l)\n",
    "\"*\".join(j)"
   ]
  },
  {
   "cell_type": "code",
   "execution_count": 100,
   "id": "77b2d6a3",
   "metadata": {},
   "outputs": [
    {
     "data": {
      "text/plain": [
       "'rahdojaG'"
      ]
     },
     "execution_count": 100,
     "metadata": {},
     "output_type": "execute_result"
    }
   ],
   "source": [
    "\"\".join(j)"
   ]
  },
  {
   "cell_type": "code",
   "execution_count": 104,
   "id": "aee07f50",
   "metadata": {},
   "outputs": [
    {
     "data": {
      "text/plain": [
       "'1-2-3-4'"
      ]
     },
     "execution_count": 104,
     "metadata": {},
     "output_type": "execute_result"
    }
   ],
   "source": [
    "a = ['1','2','3','4']\n",
    "\"-\".join(a)"
   ]
  },
  {
   "cell_type": "code",
   "execution_count": null,
   "id": "2da195e5",
   "metadata": {},
   "outputs": [],
   "source": []
  },
  {
   "cell_type": "code",
   "execution_count": null,
   "id": "6efc1432",
   "metadata": {},
   "outputs": [],
   "source": []
  },
  {
   "cell_type": "markdown",
   "id": "dec18ad3",
   "metadata": {},
   "source": [
    "join - list to str\n",
    "slpit -str to list"
   ]
  },
  {
   "cell_type": "code",
   "execution_count": 105,
   "id": "14f14670",
   "metadata": {},
   "outputs": [
    {
     "data": {
      "text/plain": [
       "['Yogesh', 'Yogi']"
      ]
     },
     "execution_count": 105,
     "metadata": {},
     "output_type": "execute_result"
    }
   ],
   "source": [
    "\"Yogesh Yogi\".split(\" \")"
   ]
  },
  {
   "cell_type": "code",
   "execution_count": 109,
   "id": "733ef56b",
   "metadata": {},
   "outputs": [],
   "source": [
    "#How to take input and convert that into list where the input has new line Example\n",
    "a = '''[1,2,3]\n",
    "[4,5,6]\n",
    "[7,8,9]'''"
   ]
  },
  {
   "cell_type": "code",
   "execution_count": 108,
   "id": "4608b817",
   "metadata": {},
   "outputs": [
    {
     "data": {
      "text/plain": [
       "'[1,2,3]\\n[4,5,6]\\n[7,8,9}'"
      ]
     },
     "execution_count": 108,
     "metadata": {},
     "output_type": "execute_result"
    }
   ],
   "source": [
    "a"
   ]
  },
  {
   "cell_type": "code",
   "execution_count": 110,
   "id": "48cf1962",
   "metadata": {},
   "outputs": [
    {
     "data": {
      "text/plain": [
       "['[1,2,3]', '[4,5,6]', '[7,8,9]']"
      ]
     },
     "execution_count": 110,
     "metadata": {},
     "output_type": "execute_result"
    }
   ],
   "source": [
    "a.split(\"\\n\")"
   ]
  },
  {
   "cell_type": "code",
   "execution_count": 112,
   "id": "9399190f",
   "metadata": {},
   "outputs": [
    {
     "data": {
      "text/plain": [
       "[1, 2, 3]"
      ]
     },
     "execution_count": 112,
     "metadata": {},
     "output_type": "execute_result"
    }
   ],
   "source": [
    "import ast\n",
    "ast.literal_eval('[1,2,3]')"
   ]
  },
  {
   "cell_type": "code",
   "execution_count": 113,
   "id": "211eae27",
   "metadata": {},
   "outputs": [
    {
     "data": {
      "text/plain": [
       "['[', '1', ',', '2', ',', '3', ']']"
      ]
     },
     "execution_count": 113,
     "metadata": {},
     "output_type": "execute_result"
    }
   ],
   "source": [
    "list('[1,2,3]')"
   ]
  },
  {
   "cell_type": "code",
   "execution_count": null,
   "id": "edf3afdf",
   "metadata": {},
   "outputs": [],
   "source": []
  },
  {
   "cell_type": "code",
   "execution_count": 114,
   "id": "211c6587",
   "metadata": {},
   "outputs": [
    {
     "name": "stdout",
     "output_type": "stream",
     "text": [
      "12,45,6732,23,2\n"
     ]
    }
   ],
   "source": [
    "a = input()\n"
   ]
  },
  {
   "cell_type": "code",
   "execution_count": 115,
   "id": "7c4a9519",
   "metadata": {},
   "outputs": [
    {
     "data": {
      "text/plain": [
       "'12,45,6732,23,2'"
      ]
     },
     "execution_count": 115,
     "metadata": {},
     "output_type": "execute_result"
    }
   ],
   "source": [
    "a"
   ]
  },
  {
   "cell_type": "code",
   "execution_count": 116,
   "id": "2d6c2cb0",
   "metadata": {},
   "outputs": [
    {
     "data": {
      "text/plain": [
       "['12', '45', '6732', '23', '2']"
      ]
     },
     "execution_count": 116,
     "metadata": {},
     "output_type": "execute_result"
    }
   ],
   "source": [
    "a.split(\",\")"
   ]
  },
  {
   "cell_type": "code",
   "execution_count": null,
   "id": "292ba5d5",
   "metadata": {},
   "outputs": [],
   "source": [
    "if we give space inside \"\"\n",
    "that would also be considered as char??\n",
    "You\n",
    "To: Everyone\n",
    "11:10 PM\n",
    "if i in lst: means if i value is in the list then we enter the loop ??"
   ]
  },
  {
   "cell_type": "code",
   "execution_count": 117,
   "id": "095a0137",
   "metadata": {},
   "outputs": [
    {
     "data": {
      "text/plain": [
       "32"
      ]
     },
     "execution_count": 117,
     "metadata": {},
     "output_type": "execute_result"
    }
   ],
   "source": [
    "ord(\" \")"
   ]
  },
  {
   "cell_type": "code",
   "execution_count": 119,
   "id": "dc619848",
   "metadata": {},
   "outputs": [
    {
     "data": {
      "text/plain": [
       "False"
      ]
     },
     "execution_count": 119,
     "metadata": {},
     "output_type": "execute_result"
    }
   ],
   "source": [
    "\"C\" in [\"A\",\"B\",\"L\"]\n",
    "    "
   ]
  },
  {
   "cell_type": "code",
   "execution_count": null,
   "id": "23e17d6d",
   "metadata": {},
   "outputs": [],
   "source": [
    "for i in [\"A\",\"B\",\"L\"]:\n",
    "    if i "
   ]
  },
  {
   "cell_type": "code",
   "execution_count": null,
   "id": "4a336de2",
   "metadata": {},
   "outputs": [],
   "source": []
  },
  {
   "cell_type": "code",
   "execution_count": null,
   "id": "fcfa9d6b",
   "metadata": {},
   "outputs": [],
   "source": []
  },
  {
   "cell_type": "code",
   "execution_count": null,
   "id": "3a177d62",
   "metadata": {},
   "outputs": [],
   "source": []
  },
  {
   "cell_type": "code",
   "execution_count": 120,
   "id": "9ed60914",
   "metadata": {},
   "outputs": [],
   "source": [
    "a = [[],[],[]]"
   ]
  },
  {
   "cell_type": "code",
   "execution_count": 121,
   "id": "9070d002",
   "metadata": {},
   "outputs": [
    {
     "data": {
      "text/plain": [
       "[[], [], []]"
      ]
     },
     "execution_count": 121,
     "metadata": {},
     "output_type": "execute_result"
    }
   ],
   "source": [
    "a"
   ]
  },
  {
   "cell_type": "code",
   "execution_count": null,
   "id": "670c536d",
   "metadata": {},
   "outputs": [],
   "source": []
  },
  {
   "cell_type": "code",
   "execution_count": null,
   "id": "19eeb4d9",
   "metadata": {},
   "outputs": [],
   "source": [
    "lst = [65, 97, 68]\n",
    "for i in (lst):\n",
    "    #print(i)\n",
    "    char = chr(i)\n",
    "    print(char)"
   ]
  },
  {
   "cell_type": "code",
   "execution_count": 126,
   "id": "7d432171",
   "metadata": {},
   "outputs": [],
   "source": [
    "v = lambda x :[chr(i)  for i in x]"
   ]
  },
  {
   "cell_type": "code",
   "execution_count": 124,
   "id": "14564b2f",
   "metadata": {},
   "outputs": [
    {
     "data": {
      "text/plain": [
       "['A', 'a', 'D']"
      ]
     },
     "execution_count": 124,
     "metadata": {},
     "output_type": "execute_result"
    }
   ],
   "source": [
    "v([65, 97, 68])"
   ]
  },
  {
   "cell_type": "code",
   "execution_count": null,
   "id": "9f7c21c2",
   "metadata": {},
   "outputs": [],
   "source": []
  },
  {
   "cell_type": "code",
   "execution_count": null,
   "id": "985c07ed",
   "metadata": {},
   "outputs": [],
   "source": [
    "Problem Description\n",
    "You are given a N X N integer matrix. You have to find the sum of all the main diagonal \n",
    "elements of A.\n",
    "\n",
    "Main diagonal of a matrix A is a collection of elements A[i, j] such that i = j.\n",
    "\n",
    "\n",
    "Problem Constraints\n",
    "1 <= N <= 103\n",
    "\n",
    "-1000 <= A[i][j] <= 1000\n",
    "\n",
    "\n",
    "\n",
    "Input Format\n",
    "There are 1 lines in the input. \n",
    "First 2 integers R, C are the number of rows and columns. \n",
    "Then R * C integers follow corresponding to the rowwise numbers in the 2D array A.\n",
    "\n",
    "\n",
    "\n",
    "Output Format\n",
    "Return an integer denoting the sum of main diagonal elements."
   ]
  },
  {
   "cell_type": "code",
   "execution_count": null,
   "id": "48a4e2ec",
   "metadata": {},
   "outputs": [],
   "source": []
  },
  {
   "cell_type": "code",
   "execution_count": null,
   "id": "20370d2e",
   "metadata": {},
   "outputs": [],
   "source": [
    "Example Input\n",
    "Input 1:\n",
    "\n",
    "3 3 1 -2 -3 -4 5 -6 -7 -8 9\n",
    "Input 2:\n",
    "\n",
    "2 2 3 2 2 3"
   ]
  },
  {
   "cell_type": "code",
   "execution_count": null,
   "id": "4a295a58",
   "metadata": {},
   "outputs": [],
   "source": []
  },
  {
   "cell_type": "code",
   "execution_count": null,
   "id": "d637d05f",
   "metadata": {},
   "outputs": [],
   "source": [
    "There is one assignment question Which i did not understand at all\n",
    "can you explain the logic its more related to maths It says,\n",
    "\n",
    "Given an integer A, and two integers B and C in base A.\n",
    "Perform the addition of B and C in base A and return the result in base A. Sample Input:\n",
    "A = 3\n",
    "B = 11\n",
    "C = 10 Sample Ouput:\n",
    "21"
   ]
  },
  {
   "cell_type": "code",
   "execution_count": null,
   "id": "36958827",
   "metadata": {},
   "outputs": [],
   "source": []
  },
  {
   "cell_type": "code",
   "execution_count": null,
   "id": "7792caba",
   "metadata": {},
   "outputs": [],
   "source": []
  },
  {
   "cell_type": "code",
   "execution_count": null,
   "id": "fd7a0ac1",
   "metadata": {},
   "outputs": [],
   "source": []
  },
  {
   "cell_type": "code",
   "execution_count": null,
   "id": "7c4a3e32",
   "metadata": {},
   "outputs": [],
   "source": [
    "After executing the code below the given word gets converted \n",
    "into a list of individual characters of the word called word_list, indexing on which elements of the list word_list would give us a sublist that forms the word \"Data Science\"?\n",
    "\n",
    "word = \"Scaler Data Science Course\"\n",
    "word_list = list(word)"
   ]
  },
  {
   "cell_type": "code",
   "execution_count": null,
   "id": "98e5d8b0",
   "metadata": {},
   "outputs": [],
   "source": [
    "Beginner : Problem Solving 3\n",
    "Base Conversion \n",
    "2"
   ]
  }
 ],
 "metadata": {
  "kernelspec": {
   "display_name": "Python 3 (ipykernel)",
   "language": "python",
   "name": "python3"
  },
  "language_info": {
   "codemirror_mode": {
    "name": "ipython",
    "version": 3
   },
   "file_extension": ".py",
   "mimetype": "text/x-python",
   "name": "python",
   "nbconvert_exporter": "python",
   "pygments_lexer": "ipython3",
   "version": "3.10.12"
  }
 },
 "nbformat": 4,
 "nbformat_minor": 5
}
