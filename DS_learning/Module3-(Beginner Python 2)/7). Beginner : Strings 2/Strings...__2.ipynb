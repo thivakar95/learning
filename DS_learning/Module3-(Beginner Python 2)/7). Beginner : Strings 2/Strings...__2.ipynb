{
 "cells": [
  {
   "cell_type": "markdown",
   "id": "2761b9f7",
   "metadata": {},
   "source": [
    "# String Methods...!"
   ]
  },
  {
   "cell_type": "markdown",
   "id": "f866077f",
   "metadata": {},
   "source": [
    "#### Split() -  string to list"
   ]
  },
  {
   "cell_type": "code",
   "execution_count": 1,
   "id": "5f61fb5d",
   "metadata": {},
   "outputs": [
    {
     "data": {
      "text/plain": [
       "['Today', 'session', 'started', 'at', '9:05']"
      ]
     },
     "execution_count": 1,
     "metadata": {},
     "output_type": "execute_result"
    }
   ],
   "source": [
    "\"Today session started at 9:05\".split(\" \")"
   ]
  },
  {
   "cell_type": "code",
   "execution_count": 2,
   "id": "a4d6bf82",
   "metadata": {},
   "outputs": [
    {
     "data": {
      "text/plain": [
       "['Today', 'session', 'started', 'at', '9:05']"
      ]
     },
     "execution_count": 2,
     "metadata": {},
     "output_type": "execute_result"
    }
   ],
   "source": [
    "\"Today session started at 9:05\".split()"
   ]
  },
  {
   "cell_type": "code",
   "execution_count": 3,
   "id": "b868fff4",
   "metadata": {},
   "outputs": [
    {
     "data": {
      "text/plain": [
       "['Today', 'session', 'started', 'at', '9:05']"
      ]
     },
     "execution_count": 3,
     "metadata": {},
     "output_type": "execute_result"
    }
   ],
   "source": [
    "\"Today_session_started_at_9:05\".split(\"_\")"
   ]
  },
  {
   "cell_type": "code",
   "execution_count": 4,
   "id": "da3c25db",
   "metadata": {},
   "outputs": [
    {
     "name": "stdout",
     "output_type": "stream",
     "text": [
      "T\n",
      "o\n",
      "d\n",
      "a\n",
      "y\n",
      "_\n",
      "s\n",
      "e\n",
      "s\n",
      "s\n",
      "i\n",
      "o\n",
      "n\n",
      "_\n",
      "s\n",
      "t\n",
      "a\n",
      "r\n",
      "t\n",
      "e\n",
      "d\n",
      "_\n",
      "a\n",
      "t\n",
      "_\n",
      "9\n",
      ":\n",
      "0\n",
      "5\n"
     ]
    }
   ],
   "source": [
    "for i in \"Today_session_started_at_9:05\":\n",
    "    print(i)"
   ]
  },
  {
   "cell_type": "markdown",
   "id": "feb9453f",
   "metadata": {},
   "source": [
    "### Join() -- list to a str "
   ]
  },
  {
   "cell_type": "code",
   "execution_count": 6,
   "id": "5b6e67a4",
   "metadata": {},
   "outputs": [
    {
     "data": {
      "text/plain": [
       "['This', 'is', 'a', 'underscore', 'separated', 'string']"
      ]
     },
     "execution_count": 6,
     "metadata": {},
     "output_type": "execute_result"
    }
   ],
   "source": [
    "random = \"This_is_a_underscore_separated_string\".split(\"_\")\n",
    "random"
   ]
  },
  {
   "cell_type": "code",
   "execution_count": 7,
   "id": "a62c638e",
   "metadata": {},
   "outputs": [
    {
     "data": {
      "text/plain": [
       "list"
      ]
     },
     "execution_count": 7,
     "metadata": {},
     "output_type": "execute_result"
    }
   ],
   "source": [
    "type(random)"
   ]
  },
  {
   "cell_type": "code",
   "execution_count": 9,
   "id": "4de0227a",
   "metadata": {},
   "outputs": [
    {
     "data": {
      "text/plain": [
       "'This**is**a**underscore**separated**string'"
      ]
     },
     "execution_count": 9,
     "metadata": {},
     "output_type": "execute_result"
    }
   ],
   "source": [
    "\"**\".join(random)"
   ]
  },
  {
   "cell_type": "code",
   "execution_count": 10,
   "id": "c28d2095",
   "metadata": {},
   "outputs": [
    {
     "ename": "TypeError",
     "evalue": "sequence item 1: expected str instance, int found",
     "output_type": "error",
     "traceback": [
      "\u001b[1;31m---------------------------------------------------------------------------\u001b[0m",
      "\u001b[1;31mTypeError\u001b[0m                                 Traceback (most recent call last)",
      "\u001b[1;32m~\\AppData\\Local\\Temp\\ipykernel_17904\\2143370357.py\u001b[0m in \u001b[0;36m<cell line: 2>\u001b[1;34m()\u001b[0m\n\u001b[0;32m      1\u001b[0m \u001b[0ma\u001b[0m \u001b[1;33m=\u001b[0m \u001b[1;33m[\u001b[0m\u001b[1;34m\"random\"\u001b[0m\u001b[1;33m,\u001b[0m \u001b[1;36m102\u001b[0m\u001b[1;33m,\u001b[0m \u001b[1;36m282\u001b[0m\u001b[1;33m,\u001b[0m \u001b[1;34m\"string\"\u001b[0m\u001b[1;33m]\u001b[0m\u001b[1;33m\u001b[0m\u001b[1;33m\u001b[0m\u001b[0m\n\u001b[1;32m----> 2\u001b[1;33m \u001b[1;34m\" \"\u001b[0m\u001b[1;33m.\u001b[0m\u001b[0mjoin\u001b[0m\u001b[1;33m(\u001b[0m\u001b[0ma\u001b[0m\u001b[1;33m)\u001b[0m\u001b[1;33m\u001b[0m\u001b[1;33m\u001b[0m\u001b[0m\n\u001b[0m",
      "\u001b[1;31mTypeError\u001b[0m: sequence item 1: expected str instance, int found"
     ]
    }
   ],
   "source": [
    "a = [\"random\", 102, 282, \"string\"]\n",
    "\" \".join(a)"
   ]
  },
  {
   "cell_type": "code",
   "execution_count": 11,
   "id": "5a64f859",
   "metadata": {},
   "outputs": [
    {
     "ename": "TypeError",
     "evalue": "sequence item 0: expected str instance, int found",
     "output_type": "error",
     "traceback": [
      "\u001b[1;31m---------------------------------------------------------------------------\u001b[0m",
      "\u001b[1;31mTypeError\u001b[0m                                 Traceback (most recent call last)",
      "\u001b[1;32m~\\AppData\\Local\\Temp\\ipykernel_17904\\1127635687.py\u001b[0m in \u001b[0;36m<cell line: 2>\u001b[1;34m()\u001b[0m\n\u001b[0;32m      1\u001b[0m \u001b[0ma\u001b[0m \u001b[1;33m=\u001b[0m \u001b[1;33m[\u001b[0m\u001b[1;36m100\u001b[0m\u001b[1;33m,\u001b[0m \u001b[1;36m102\u001b[0m\u001b[1;33m,\u001b[0m \u001b[1;36m282\u001b[0m\u001b[1;33m,\u001b[0m \u001b[1;36m121\u001b[0m\u001b[1;33m]\u001b[0m\u001b[1;33m\u001b[0m\u001b[1;33m\u001b[0m\u001b[0m\n\u001b[1;32m----> 2\u001b[1;33m \u001b[1;34m\" \"\u001b[0m\u001b[1;33m.\u001b[0m\u001b[0mjoin\u001b[0m\u001b[1;33m(\u001b[0m\u001b[0ma\u001b[0m\u001b[1;33m)\u001b[0m\u001b[1;33m\u001b[0m\u001b[1;33m\u001b[0m\u001b[0m\n\u001b[0m",
      "\u001b[1;31mTypeError\u001b[0m: sequence item 0: expected str instance, int found"
     ]
    }
   ],
   "source": [
    "a = [100, 102, 282, 121]\n",
    "\" \".join(a)"
   ]
  },
  {
   "cell_type": "code",
   "execution_count": 12,
   "id": "c7089fef",
   "metadata": {},
   "outputs": [
    {
     "data": {
      "text/plain": [
       "'random 102 282 string'"
      ]
     },
     "execution_count": 12,
     "metadata": {},
     "output_type": "execute_result"
    }
   ],
   "source": [
    "a = [\"random\", '102', '282', \"string\"]\n",
    "\" \".join(a)"
   ]
  },
  {
   "cell_type": "markdown",
   "id": "4a10f163",
   "metadata": {},
   "source": [
    "## find -location"
   ]
  },
  {
   "cell_type": "markdown",
   "id": "d6585d3f",
   "metadata": {},
   "source": [
    "The .find() method can be used to find a substring inside a string that we can call it on.\n",
    "This function returns the starting index of the first occourance of the substring that we are trying to find inside the string."
   ]
  },
  {
   "cell_type": "code",
   "execution_count": 13,
   "id": "4fec0f6f",
   "metadata": {},
   "outputs": [
    {
     "data": {
      "text/plain": [
       "8"
      ]
     },
     "execution_count": 13,
     "metadata": {},
     "output_type": "execute_result"
    }
   ],
   "source": [
    "\"It is a dancing moment we are not very close to end the module\".find(\"dancing\")"
   ]
  },
  {
   "cell_type": "code",
   "execution_count": 14,
   "id": "c6d31724",
   "metadata": {},
   "outputs": [
    {
     "data": {
      "text/plain": [
       "8"
      ]
     },
     "execution_count": 14,
     "metadata": {},
     "output_type": "execute_result"
    }
   ],
   "source": [
    "\"It is a dancing moment we are dancing not very close to end the module\".find(\"dancing\")"
   ]
  },
  {
   "cell_type": "code",
   "execution_count": 15,
   "id": "8b6d55c0",
   "metadata": {},
   "outputs": [
    {
     "data": {
      "text/plain": [
       "6"
      ]
     },
     "execution_count": 15,
     "metadata": {},
     "output_type": "execute_result"
    }
   ],
   "source": [
    "\"It is a dancing moment we are dancing not very close to end the module\".find(\"a\")"
   ]
  },
  {
   "cell_type": "code",
   "execution_count": 16,
   "id": "71eb0be9",
   "metadata": {},
   "outputs": [
    {
     "data": {
      "text/plain": [
       "-1"
      ]
     },
     "execution_count": 16,
     "metadata": {},
     "output_type": "execute_result"
    }
   ],
   "source": [
    "\"It is a dancing moment we are dancing not very close to end the module\".find(\"swati\")"
   ]
  },
  {
   "cell_type": "code",
   "execution_count": null,
   "id": "e01e0141",
   "metadata": {},
   "outputs": [],
   "source": [
    "# index =-1 is when you cannot find the element"
   ]
  },
  {
   "cell_type": "code",
   "execution_count": 19,
   "id": "fd974931",
   "metadata": {},
   "outputs": [
    {
     "data": {
      "text/plain": [
       "3"
      ]
     },
     "execution_count": 19,
     "metadata": {},
     "output_type": "execute_result"
    }
   ],
   "source": [
    "l=[23,45,23,52]\n",
    "l.index(52)"
   ]
  },
  {
   "cell_type": "code",
   "execution_count": 20,
   "id": "c9caedca",
   "metadata": {},
   "outputs": [
    {
     "data": {
      "text/plain": [
       "2"
      ]
     },
     "execution_count": 20,
     "metadata": {},
     "output_type": "execute_result"
    }
   ],
   "source": [
    "\"It is a dancing moment we are dancing not very close to end the module\".find(\" is \")"
   ]
  },
  {
   "cell_type": "code",
   "execution_count": 21,
   "id": "8ef23119",
   "metadata": {},
   "outputs": [
    {
     "data": {
      "text/plain": [
       "-1"
      ]
     },
     "execution_count": 21,
     "metadata": {},
     "output_type": "execute_result"
    }
   ],
   "source": [
    "\"It is a dancing moment we are dancing not very close to end the module\".find(\" is  \")"
   ]
  },
  {
   "cell_type": "markdown",
   "id": "2785a087",
   "metadata": {},
   "source": [
    "### replace"
   ]
  },
  {
   "cell_type": "code",
   "execution_count": 22,
   "id": "b533d23f",
   "metadata": {},
   "outputs": [
    {
     "data": {
      "text/plain": [
       "'It is a singing moment we are singing not very close to end the module'"
      ]
     },
     "execution_count": 22,
     "metadata": {},
     "output_type": "execute_result"
    }
   ],
   "source": [
    "\"It is a dancing moment we are dancing not very close to end the module\".replace(\"dancing\",\"singing\")"
   ]
  },
  {
   "cell_type": "markdown",
   "id": "aefffb10",
   "metadata": {},
   "source": [
    "The method .replace() can be used to replace a substring from the original string with the input we provide.\n",
    "This method takes in two arguments, first the substring from the original string and second the string we want to replace it with.\n",
    "It replaces the string we provide and returns a new string."
   ]
  },
  {
   "cell_type": "code",
   "execution_count": 23,
   "id": "7f966eae",
   "metadata": {},
   "outputs": [
    {
     "data": {
      "text/plain": [
       "'It is a dancing moment we are '"
      ]
     },
     "execution_count": 23,
     "metadata": {},
     "output_type": "execute_result"
    }
   ],
   "source": [
    "\"It is a dancing moment we are \".replace(\"mahesh\",\"singing\")"
   ]
  },
  {
   "cell_type": "code",
   "execution_count": 25,
   "id": "733733cc",
   "metadata": {},
   "outputs": [
    {
     "data": {
      "text/plain": [
       "'It is a singing moment we are singing dancing'"
      ]
     },
     "execution_count": 25,
     "metadata": {},
     "output_type": "execute_result"
    }
   ],
   "source": [
    "\"It is a dancing moment we are dancing dancing\".replace(\"dancing\",\"singing\",2)"
   ]
  },
  {
   "cell_type": "code",
   "execution_count": 26,
   "id": "b464e850",
   "metadata": {},
   "outputs": [
    {
     "data": {
      "text/plain": [
       "'It is a singing moment we are singing dancing'"
      ]
     },
     "execution_count": 26,
     "metadata": {},
     "output_type": "execute_result"
    }
   ],
   "source": [
    "\"It is a dancing moment we are dancing dancing\".replace(\"dancing\",\"singing\",2)"
   ]
  },
  {
   "cell_type": "code",
   "execution_count": 27,
   "id": "ab7aebc4",
   "metadata": {},
   "outputs": [
    {
     "data": {
      "text/plain": [
       "'It is aeatcing moment we are rancing fancing'"
      ]
     },
     "execution_count": 27,
     "metadata": {},
     "output_type": "execute_result"
    }
   ],
   "source": [
    "\"It is a dancing moment we are rancing fancing\".replace(\" dan\",\"eat\",2)"
   ]
  },
  {
   "cell_type": "markdown",
   "id": "ae3017d4",
   "metadata": {},
   "source": [
    "## .count()"
   ]
  },
  {
   "cell_type": "code",
   "execution_count": 28,
   "id": "e74330d5",
   "metadata": {},
   "outputs": [
    {
     "data": {
      "text/plain": [
       "5"
      ]
     },
     "execution_count": 28,
     "metadata": {},
     "output_type": "execute_result"
    }
   ],
   "source": [
    "random = \"This is a random string that I have created\"\n",
    "random.count(\"a\")"
   ]
  },
  {
   "cell_type": "code",
   "execution_count": 31,
   "id": "c21ecc79",
   "metadata": {},
   "outputs": [
    {
     "data": {
      "text/plain": [
       "5"
      ]
     },
     "execution_count": 31,
     "metadata": {},
     "output_type": "execute_result"
    }
   ],
   "source": [
    "random = \"This is a random string that I have created random random randomrandom\"\n",
    "random.count(\"random\")"
   ]
  },
  {
   "cell_type": "code",
   "execution_count": 32,
   "id": "0d706128",
   "metadata": {},
   "outputs": [
    {
     "data": {
      "text/plain": [
       "3"
      ]
     },
     "execution_count": 32,
     "metadata": {},
     "output_type": "execute_result"
    }
   ],
   "source": [
    "random = \"This is a random string that I have creattheive the the randomrandom\"\n",
    "random.count(\"the\")"
   ]
  },
  {
   "cell_type": "code",
   "execution_count": 41,
   "id": "c08a8c8c",
   "metadata": {},
   "outputs": [
    {
     "data": {
      "text/plain": [
       "3"
      ]
     },
     "execution_count": 41,
     "metadata": {},
     "output_type": "execute_result"
    }
   ],
   "source": [
    "random = \"This is a random string that I have the creattheive the  the randomrandom\"\n",
    "random.count(\" the \")"
   ]
  },
  {
   "cell_type": "code",
   "execution_count": null,
   "id": "2bb5cbdc",
   "metadata": {},
   "outputs": [],
   "source": []
  },
  {
   "cell_type": "code",
   "execution_count": null,
   "id": "b7452e15",
   "metadata": {},
   "outputs": [],
   "source": [
    "#Question-1\n",
    "Take a string as input.\n",
    "Convert the string to lowercase without using any inbuilt function."
   ]
  },
  {
   "cell_type": "code",
   "execution_count": 43,
   "id": "b9a1fbdb",
   "metadata": {},
   "outputs": [
    {
     "data": {
      "text/plain": [
       "'done'"
      ]
     },
     "execution_count": 43,
     "metadata": {},
     "output_type": "execute_result"
    }
   ],
   "source": [
    "\"Done\".lower()############Not allowed"
   ]
  },
  {
   "cell_type": "code",
   "execution_count": 46,
   "id": "55ebc56b",
   "metadata": {},
   "outputs": [],
   "source": [
    "def own_lower(text):\n",
    "    lower_case = ''\n",
    "    for i in text:\n",
    "        temp = chr(ord(i)+32)\n",
    "        lower_case = lower_case+temp\n",
    "    return lower_case"
   ]
  },
  {
   "cell_type": "code",
   "execution_count": 47,
   "id": "f487e5ef",
   "metadata": {},
   "outputs": [
    {
     "data": {
      "text/plain": [
       "'t\\x88\\x95\\x93@\\x89\\x93@\\x81@r\\x81\\x8e\\x84\\x8f\\x8d@str\\x89\\x8e\\x87'"
      ]
     },
     "execution_count": 47,
     "metadata": {},
     "output_type": "execute_result"
    }
   ],
   "source": [
    "own_lower(\"Thus is a Random STRing\")"
   ]
  },
  {
   "cell_type": "code",
   "execution_count": 50,
   "id": "de1bf62c",
   "metadata": {},
   "outputs": [],
   "source": [
    "def own_lower(text):\n",
    "    lower_case = ''\n",
    "    for i in text:\n",
    "        if ord(i)>=65 and ord(i)<=90:\n",
    "            temp = chr(ord(i)+32)\n",
    "            lower_case = lower_case+temp\n",
    "        else:\n",
    "            lower_case = lower_case+i\n",
    "    return lower_case"
   ]
  },
  {
   "cell_type": "code",
   "execution_count": 51,
   "id": "0733a2d6",
   "metadata": {},
   "outputs": [
    {
     "data": {
      "text/plain": [
       "'thus is a random string'"
      ]
     },
     "execution_count": 51,
     "metadata": {},
     "output_type": "execute_result"
    }
   ],
   "source": [
    "own_lower(\"Thus is a Random STRing\")"
   ]
  },
  {
   "cell_type": "markdown",
   "id": "e3809009",
   "metadata": {},
   "source": [
    "# methods\n"
   ]
  },
  {
   "cell_type": "markdown",
   "id": "de03a918",
   "metadata": {},
   "source": [
    "## isdigit() - find numbers in a string"
   ]
  },
  {
   "cell_type": "code",
   "execution_count": 52,
   "id": "42316e41",
   "metadata": {},
   "outputs": [
    {
     "data": {
      "text/plain": [
       "False"
      ]
     },
     "execution_count": 52,
     "metadata": {},
     "output_type": "execute_result"
    }
   ],
   "source": [
    "\"Pathan\".isdigit()"
   ]
  },
  {
   "cell_type": "code",
   "execution_count": 53,
   "id": "a712221a",
   "metadata": {},
   "outputs": [
    {
     "data": {
      "text/plain": [
       "True"
      ]
     },
     "execution_count": 53,
     "metadata": {},
     "output_type": "execute_result"
    }
   ],
   "source": [
    "\"34534\".isdigit()"
   ]
  },
  {
   "cell_type": "code",
   "execution_count": 54,
   "id": "00512a16",
   "metadata": {},
   "outputs": [
    {
     "data": {
      "text/plain": [
       "True"
      ]
     },
     "execution_count": 54,
     "metadata": {},
     "output_type": "execute_result"
    }
   ],
   "source": [
    "\"34533434563456346344656346346363453463647467344\".isdigit()"
   ]
  },
  {
   "cell_type": "code",
   "execution_count": 55,
   "id": "b723a49f",
   "metadata": {},
   "outputs": [
    {
     "data": {
      "text/plain": [
       "True"
      ]
     },
     "execution_count": 55,
     "metadata": {},
     "output_type": "execute_result"
    }
   ],
   "source": [
    "\"0\".isdigit()"
   ]
  },
  {
   "cell_type": "code",
   "execution_count": 56,
   "id": "07a0b50a",
   "metadata": {},
   "outputs": [
    {
     "data": {
      "text/plain": [
       "False"
      ]
     },
     "execution_count": 56,
     "metadata": {},
     "output_type": "execute_result"
    }
   ],
   "source": [
    "\"234hYFGAH\".isdigit()"
   ]
  },
  {
   "cell_type": "code",
   "execution_count": 57,
   "id": "82c6bb38",
   "metadata": {},
   "outputs": [
    {
     "ename": "SyntaxError",
     "evalue": "invalid syntax (79038416.py, line 1)",
     "output_type": "error",
     "traceback": [
      "\u001b[1;36m  File \u001b[1;32m\"C:\\Users\\AKASH\\AppData\\Local\\Temp\\ipykernel_17904\\79038416.py\"\u001b[1;36m, line \u001b[1;32m1\u001b[0m\n\u001b[1;33m    345.isdigit()\u001b[0m\n\u001b[1;37m        ^\u001b[0m\n\u001b[1;31mSyntaxError\u001b[0m\u001b[1;31m:\u001b[0m invalid syntax\n"
     ]
    }
   ],
   "source": [
    "345.34.isdigit()"
   ]
  },
  {
   "cell_type": "code",
   "execution_count": 58,
   "id": "e1702a53",
   "metadata": {},
   "outputs": [
    {
     "data": {
      "text/plain": [
       "False"
      ]
     },
     "execution_count": 58,
     "metadata": {},
     "output_type": "execute_result"
    }
   ],
   "source": [
    "\"ASBBHJ89\".isdigit()"
   ]
  },
  {
   "cell_type": "code",
   "execution_count": 59,
   "id": "7b373fa3",
   "metadata": {},
   "outputs": [
    {
     "data": {
      "text/plain": [
       "False"
      ]
     },
     "execution_count": 59,
     "metadata": {},
     "output_type": "execute_result"
    }
   ],
   "source": [
    "\"345645.2352\".isdigit()#int"
   ]
  },
  {
   "cell_type": "markdown",
   "id": "5804c4e3",
   "metadata": {},
   "source": [
    "## isalpha"
   ]
  },
  {
   "cell_type": "code",
   "execution_count": 60,
   "id": "d9d09d56",
   "metadata": {},
   "outputs": [
    {
     "data": {
      "text/plain": [
       "True"
      ]
     },
     "execution_count": 60,
     "metadata": {},
     "output_type": "execute_result"
    }
   ],
   "source": [
    "\"asdbh\".isalpha()"
   ]
  },
  {
   "cell_type": "code",
   "execution_count": 61,
   "id": "8724dc5b",
   "metadata": {},
   "outputs": [
    {
     "data": {
      "text/plain": [
       "True"
      ]
     },
     "execution_count": 61,
     "metadata": {},
     "output_type": "execute_result"
    }
   ],
   "source": [
    "\"AAS\".isalpha()"
   ]
  },
  {
   "cell_type": "code",
   "execution_count": 62,
   "id": "2bff2b0f",
   "metadata": {},
   "outputs": [
    {
     "data": {
      "text/plain": [
       "True"
      ]
     },
     "execution_count": 62,
     "metadata": {},
     "output_type": "execute_result"
    }
   ],
   "source": [
    "\"asdasAA\".isalpha()"
   ]
  },
  {
   "cell_type": "code",
   "execution_count": 63,
   "id": "204c12d4",
   "metadata": {},
   "outputs": [
    {
     "data": {
      "text/plain": [
       "False"
      ]
     },
     "execution_count": 63,
     "metadata": {},
     "output_type": "execute_result"
    }
   ],
   "source": [
    "\"asdasAA3453456\".isalpha()"
   ]
  },
  {
   "cell_type": "code",
   "execution_count": 64,
   "id": "a1964e68",
   "metadata": {},
   "outputs": [
    {
     "data": {
      "text/plain": [
       "False"
      ]
     },
     "execution_count": 64,
     "metadata": {},
     "output_type": "execute_result"
    }
   ],
   "source": [
    "\"asd asd \".isalpha()"
   ]
  },
  {
   "cell_type": "code",
   "execution_count": 66,
   "id": "05ffe5ef",
   "metadata": {},
   "outputs": [
    {
     "data": {
      "text/plain": [
       "False"
      ]
     },
     "execution_count": 66,
     "metadata": {},
     "output_type": "execute_result"
    }
   ],
   "source": [
    "\"asd*asd\".isalpha()"
   ]
  },
  {
   "cell_type": "markdown",
   "id": "4a34b0db",
   "metadata": {},
   "source": [
    "## isupper() and islower()"
   ]
  },
  {
   "cell_type": "code",
   "execution_count": 67,
   "id": "1d048eaa",
   "metadata": {},
   "outputs": [
    {
     "data": {
      "text/plain": [
       "True"
      ]
     },
     "execution_count": 67,
     "metadata": {},
     "output_type": "execute_result"
    }
   ],
   "source": [
    "\"AA\".isupper()"
   ]
  },
  {
   "cell_type": "code",
   "execution_count": 68,
   "id": "d609b850",
   "metadata": {},
   "outputs": [
    {
     "data": {
      "text/plain": [
       "False"
      ]
     },
     "execution_count": 68,
     "metadata": {},
     "output_type": "execute_result"
    }
   ],
   "source": [
    "\"AAjkasgd\".isupper()"
   ]
  },
  {
   "cell_type": "code",
   "execution_count": 69,
   "id": "1ff35a19",
   "metadata": {},
   "outputs": [
    {
     "data": {
      "text/plain": [
       "'jahsdjk'"
      ]
     },
     "execution_count": 69,
     "metadata": {},
     "output_type": "execute_result"
    }
   ],
   "source": [
    "\"jahsdjk\".lower()"
   ]
  },
  {
   "cell_type": "code",
   "execution_count": 70,
   "id": "2ccc808a",
   "metadata": {},
   "outputs": [
    {
     "data": {
      "text/plain": [
       "True"
      ]
     },
     "execution_count": 70,
     "metadata": {},
     "output_type": "execute_result"
    }
   ],
   "source": [
    "\"jahsdjk\".islower()"
   ]
  },
  {
   "cell_type": "markdown",
   "id": "6af6f31c",
   "metadata": {},
   "source": [
    "### **Question-2**\n",
    "* Take a string as input.\n",
    "* Replace all the space with underscore.\n",
    "* This is a random string--> This_is_a_random_string\n"
   ]
  },
  {
   "cell_type": "code",
   "execution_count": null,
   "id": "a35f519f",
   "metadata": {},
   "outputs": [],
   "source": [
    "#replace or any inbuilt is not allowed\n",
    "# isspace()"
   ]
  },
  {
   "cell_type": "code",
   "execution_count": 75,
   "id": "af41a5b2",
   "metadata": {},
   "outputs": [
    {
     "data": {
      "text/plain": [
       "'this_is_a_random_string'"
      ]
     },
     "execution_count": 75,
     "metadata": {},
     "output_type": "execute_result"
    }
   ],
   "source": [
    "text = \"this is a random string\"\n",
    "def own_replace(text,char):\n",
    "    t1 = ''\n",
    "    for i in text:\n",
    "        if i.isspace():\n",
    "            t1 = t1+char\n",
    "        else:\n",
    "            t1 = t1+i\n",
    "    return t1\n",
    "own_replace(text,\"_\")"
   ]
  },
  {
   "cell_type": "code",
   "execution_count": null,
   "id": "50f6c55d",
   "metadata": {},
   "outputs": [],
   "source": []
  },
  {
   "cell_type": "code",
   "execution_count": 76,
   "id": "b48b19a4",
   "metadata": {},
   "outputs": [
    {
     "data": {
      "text/plain": [
       "True"
      ]
     },
     "execution_count": 76,
     "metadata": {},
     "output_type": "execute_result"
    }
   ],
   "source": [
    "\"string\" in \" This is a ranodm string to explain you in operator\""
   ]
  },
  {
   "cell_type": "code",
   "execution_count": 77,
   "id": "1c0a320b",
   "metadata": {},
   "outputs": [
    {
     "data": {
      "text/plain": [
       "False"
      ]
     },
     "execution_count": 77,
     "metadata": {},
     "output_type": "execute_result"
    }
   ],
   "source": [
    "\"mahes\" in \" This is a ranodm string to explain you in operator\""
   ]
  },
  {
   "cell_type": "code",
   "execution_count": 78,
   "id": "03a73b55",
   "metadata": {},
   "outputs": [
    {
     "data": {
      "text/plain": [
       "True"
      ]
     },
     "execution_count": 78,
     "metadata": {},
     "output_type": "execute_result"
    }
   ],
   "source": [
    "\"mahes\" not in \" This is a ranodm string to explain you in operator\""
   ]
  },
  {
   "cell_type": "markdown",
   "id": "1424b25a",
   "metadata": {},
   "source": []
  },
  {
   "cell_type": "code",
   "execution_count": 79,
   "id": "aeb47d9e",
   "metadata": {},
   "outputs": [],
   "source": [
    "# Doubt"
   ]
  },
  {
   "cell_type": "code",
   "execution_count": 80,
   "id": "0988166e",
   "metadata": {},
   "outputs": [
    {
     "data": {
      "text/plain": [
       "'This is a DANCE MONEY space'"
      ]
     },
     "execution_count": 80,
     "metadata": {},
     "output_type": "execute_result"
    }
   ],
   "source": [
    "a = \"DANCE MONEY\"\n",
    "f\"This is a {a} space\""
   ]
  },
  {
   "cell_type": "code",
   "execution_count": 81,
   "id": "c41e1ecf",
   "metadata": {},
   "outputs": [
    {
     "data": {
      "text/plain": [
       "'This is a {DANCE MONEY} space'"
      ]
     },
     "execution_count": 81,
     "metadata": {},
     "output_type": "execute_result"
    }
   ],
   "source": [
    "'This is a {DANCE MONEY} space'\n"
   ]
  },
  {
   "cell_type": "code",
   "execution_count": 82,
   "id": "23509b36",
   "metadata": {},
   "outputs": [
    {
     "data": {
      "text/plain": [
       "'This is a {a} space'"
      ]
     },
     "execution_count": 82,
     "metadata": {},
     "output_type": "execute_result"
    }
   ],
   "source": [
    "a = \"DANCE MONEY\"\n",
    "f\"This is a {{a}} space\""
   ]
  },
  {
   "cell_type": "code",
   "execution_count": 83,
   "id": "62e66323",
   "metadata": {},
   "outputs": [
    {
     "data": {
      "text/plain": [
       "'This is a {DANCE MONEY} space'"
      ]
     },
     "execution_count": 83,
     "metadata": {},
     "output_type": "execute_result"
    }
   ],
   "source": [
    "a = \"DANCE MONEY\"\n",
    "f\"This is a {{{a}}} space\""
   ]
  },
  {
   "cell_type": "code",
   "execution_count": null,
   "id": "b25fb224",
   "metadata": {},
   "outputs": [],
   "source": []
  },
  {
   "cell_type": "code",
   "execution_count": null,
   "id": "6101c1e5",
   "metadata": {},
   "outputs": [],
   "source": []
  },
  {
   "cell_type": "code",
   "execution_count": null,
   "id": "35a6c59b",
   "metadata": {},
   "outputs": [],
   "source": []
  },
  {
   "cell_type": "code",
   "execution_count": null,
   "id": "62022b0d",
   "metadata": {},
   "outputs": [],
   "source": []
  },
  {
   "cell_type": "code",
   "execution_count": null,
   "id": "29540d35",
   "metadata": {},
   "outputs": [],
   "source": [
    "Problem Description\n",
    "\n",
    "Given an integer A, and two integers B and C in base A.\n",
    "Perform the addition of B and C in base A and return the result in base A.\n",
    "A = 3\n",
    "B = 11\n",
    "C = 10"
   ]
  },
  {
   "cell_type": "code",
   "execution_count": null,
   "id": "a152f152",
   "metadata": {},
   "outputs": [],
   "source": []
  },
  {
   "cell_type": "code",
   "execution_count": null,
   "id": "ef6be654",
   "metadata": {},
   "outputs": [],
   "source": [
    "Given a decimal number A and a base B, convert it into its equivalent number in base B.\n"
   ]
  },
  {
   "cell_type": "code",
   "execution_count": null,
   "id": "eabc054b",
   "metadata": {},
   "outputs": [],
   "source": [
    "Day 46: Homework - Q1\n"
   ]
  },
  {
   "cell_type": "code",
   "execution_count": 84,
   "id": "0cff496b",
   "metadata": {},
   "outputs": [],
   "source": [
    "N=3\n",
    "M =[]\n",
    "for i in range(N):\n",
    "    NM=[]\n",
    "    for j in range(N):\n",
    "        NM.append([])\n",
    "    M.append(NM)"
   ]
  },
  {
   "cell_type": "code",
   "execution_count": 86,
   "id": "77d0a383",
   "metadata": {},
   "outputs": [
    {
     "data": {
      "text/plain": [
       "[[[], [], []], [[], [], []], [[], [], []]]"
      ]
     },
     "execution_count": 86,
     "metadata": {},
     "output_type": "execute_result"
    }
   ],
   "source": [
    "M"
   ]
  },
  {
   "cell_type": "code",
   "execution_count": null,
   "id": "b37e4a1f",
   "metadata": {},
   "outputs": [],
   "source": [
    "[[[], [], []], \n",
    " [[], [], []], \n",
    " [[], [], []]]"
   ]
  },
  {
   "cell_type": "code",
   "execution_count": 89,
   "id": "c1997c19",
   "metadata": {},
   "outputs": [
    {
     "data": {
      "text/plain": [
       "[1, 1, 1, 1]"
      ]
     },
     "execution_count": 89,
     "metadata": {},
     "output_type": "execute_result"
    }
   ],
   "source": [
    "A=[1,2,3,4]\n",
    "list1=[1]*len(A) #len(A)=3 Will i get list=[1,1,1] ??\n",
    "list1"
   ]
  },
  {
   "cell_type": "code",
   "execution_count": null,
   "id": "71a452d4",
   "metadata": {},
   "outputs": [],
   "source": [
    "Sir day 45 additional problem q3\n",
    "Matrix Multiplcation"
   ]
  },
  {
   "cell_type": "code",
   "execution_count": null,
   "id": "46870243",
   "metadata": {},
   "outputs": [],
   "source": []
  },
  {
   "cell_type": "code",
   "execution_count": 95,
   "id": "736937fe",
   "metadata": {},
   "outputs": [],
   "source": [
    "def random(a):\n",
    "    a=[1,2,3]\n",
    "    #a list\n",
    "    for i in a:\n",
    "        print(i+2)"
   ]
  },
  {
   "cell_type": "code",
   "execution_count": 96,
   "id": "b539a369",
   "metadata": {},
   "outputs": [
    {
     "name": "stdout",
     "output_type": "stream",
     "text": [
      "3\n",
      "4\n",
      "5\n"
     ]
    }
   ],
   "source": [
    " random([12,3])"
   ]
  },
  {
   "cell_type": "code",
   "execution_count": null,
   "id": "99959472",
   "metadata": {},
   "outputs": [],
   "source": []
  }
 ],
 "metadata": {
  "kernelspec": {
   "display_name": "Python 3 (ipykernel)",
   "language": "python",
   "name": "python3"
  },
  "language_info": {
   "codemirror_mode": {
    "name": "ipython",
    "version": 3
   },
   "file_extension": ".py",
   "mimetype": "text/x-python",
   "name": "python",
   "nbconvert_exporter": "python",
   "pygments_lexer": "ipython3",
   "version": "3.10.12"
  }
 },
 "nbformat": 4,
 "nbformat_minor": 5
}
