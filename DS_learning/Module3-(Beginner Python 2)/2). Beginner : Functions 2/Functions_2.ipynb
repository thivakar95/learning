{
 "cells": [
  {
   "cell_type": "code",
   "execution_count": 1,
   "id": "8e869e00",
   "metadata": {},
   "outputs": [],
   "source": [
    "# Quiz 1\n",
    "function random():\n",
    "    return True\n",
    "random()"
   ]
  },
  {
   "cell_type": "code",
   "execution_count": null,
   "id": "90db1134",
   "metadata": {},
   "outputs": [],
   "source": [
    "Options:\n",
    "A. True\n",
    "B. 1\n",
    "C. None\n",
    "D. Error"
   ]
  },
  {
   "cell_type": "code",
   "execution_count": 3,
   "id": "301e4b61",
   "metadata": {},
   "outputs": [
    {
     "data": {
      "text/plain": [
       "True"
      ]
     },
     "execution_count": 3,
     "metadata": {},
     "output_type": "execute_result"
    }
   ],
   "source": [
    "# Quiz 1\n",
    "def random():\n",
    "    return True\n",
    "random()"
   ]
  },
  {
   "cell_type": "code",
   "execution_count": null,
   "id": "568069fc",
   "metadata": {},
   "outputs": [],
   "source": [
    "def abc:\n",
    "    return \"I am a function!\"\n",
    "abc()\n",
    "Options:\n",
    "A. \"I am a function!\"\n",
    "B. 'I am a function!'\n",
    "C. '''I am a function!'''\n",
    "D. None of the above"
   ]
  },
  {
   "cell_type": "code",
   "execution_count": 4,
   "id": "87ed4b15",
   "metadata": {},
   "outputs": [
    {
     "ename": "SyntaxError",
     "evalue": "invalid syntax (488389237.py, line 1)",
     "output_type": "error",
     "traceback": [
      "\u001b[1;36m  File \u001b[1;32m\"C:\\Users\\AKASH\\AppData\\Local\\Temp\\ipykernel_12680\\488389237.py\"\u001b[1;36m, line \u001b[1;32m1\u001b[0m\n\u001b[1;33m    def abc:\u001b[0m\n\u001b[1;37m           ^\u001b[0m\n\u001b[1;31mSyntaxError\u001b[0m\u001b[1;31m:\u001b[0m invalid syntax\n"
     ]
    }
   ],
   "source": [
    "def abc:\n",
    "    return \"I am a function!\"\n",
    "abc()"
   ]
  },
  {
   "cell_type": "code",
   "execution_count": 5,
   "id": "31133e04",
   "metadata": {},
   "outputs": [
    {
     "name": "stdout",
     "output_type": "stream",
     "text": [
      "100\n"
     ]
    },
    {
     "ename": "NameError",
     "evalue": "name 'number' is not defined",
     "output_type": "error",
     "traceback": [
      "\u001b[1;31m---------------------------------------------------------------------------\u001b[0m",
      "\u001b[1;31mNameError\u001b[0m                                 Traceback (most recent call last)",
      "\u001b[1;32m~\\AppData\\Local\\Temp\\ipykernel_12680\\3598147760.py\u001b[0m in \u001b[0;36m<cell line: 7>\u001b[1;34m()\u001b[0m\n\u001b[0;32m      5\u001b[0m \u001b[1;33m\u001b[0m\u001b[0m\n\u001b[0;32m      6\u001b[0m \u001b[0mcalculator\u001b[0m\u001b[1;33m(\u001b[0m\u001b[0ma\u001b[0m\u001b[1;33m)\u001b[0m\u001b[1;33m\u001b[0m\u001b[1;33m\u001b[0m\u001b[0m\n\u001b[1;32m----> 7\u001b[1;33m \u001b[0mprint\u001b[0m\u001b[1;33m(\u001b[0m\u001b[0mnumber\u001b[0m\u001b[1;33m)\u001b[0m\u001b[1;33m\u001b[0m\u001b[1;33m\u001b[0m\u001b[0m\n\u001b[0m\u001b[0;32m      8\u001b[0m \u001b[0mprint\u001b[0m\u001b[1;33m(\u001b[0m\u001b[0ma\u001b[0m\u001b[1;33m)\u001b[0m\u001b[1;33m\u001b[0m\u001b[1;33m\u001b[0m\u001b[0m\n",
      "\u001b[1;31mNameError\u001b[0m: name 'number' is not defined"
     ]
    }
   ],
   "source": [
    "a = 10\n",
    "\n",
    "def calculator(number):\n",
    "    print(number * 10)\n",
    "\n",
    "calculator(a)\n",
    "print(number)\n",
    "print(a)"
   ]
  },
  {
   "cell_type": "code",
   "execution_count": null,
   "id": "3e7877a9",
   "metadata": {},
   "outputs": [],
   "source": [
    "a = 10\n",
    "def calculator(number):\n",
    "    print(number * 10)\n",
    "\n",
    "calculator(a)\n",
    "print(a)"
   ]
  },
  {
   "cell_type": "code",
   "execution_count": null,
   "id": "2cbd097b",
   "metadata": {},
   "outputs": [],
   "source": [
    "a = 57\n",
    "def simple_function(a):\n",
    "    if a <= 10:\n",
    "        return \"SMALL\"\n",
    "    elif a > 10:\n",
    "        return \"BIG\"\n",
    "\n",
    "simple_function(a)\n",
    "Options:\n",
    "A. BIG\n",
    "B. SMALL\n",
    "C. Error - Two return statements\n",
    "D. None"
   ]
  },
  {
   "cell_type": "code",
   "execution_count": 6,
   "id": "fe470bbb",
   "metadata": {},
   "outputs": [
    {
     "data": {
      "text/plain": [
       "'BIG'"
      ]
     },
     "execution_count": 6,
     "metadata": {},
     "output_type": "execute_result"
    }
   ],
   "source": [
    "a = 57\n",
    "def simple_function(a):\n",
    "    if a <= 10:\n",
    "        return \"SMALL\"\n",
    "    elif a > 10:\n",
    "        return \"BIG\"\n",
    "\n",
    "simple_function(a)\n"
   ]
  },
  {
   "cell_type": "markdown",
   "id": "4998f614",
   "metadata": {},
   "source": [
    "# #**Positional and Keyworded Arguments**"
   ]
  },
  {
   "cell_type": "code",
   "execution_count": 7,
   "id": "c0d97806",
   "metadata": {},
   "outputs": [],
   "source": [
    "def intro(name,age,gender,hobby):\n",
    "    print(\"My name is\",name)\n",
    "    print(\"My age is\",age)\n",
    "    print(\"My gender\",gender)\n",
    "    print(\"My hoobies are\",hobby)"
   ]
  },
  {
   "cell_type": "code",
   "execution_count": 8,
   "id": "0d9217be",
   "metadata": {},
   "outputs": [
    {
     "name": "stdout",
     "output_type": "stream",
     "text": [
      "My name is gaju\n",
      "My age is 67\n",
      "My gender Male\n",
      "My hoobies are Dancing with a monkey\n"
     ]
    }
   ],
   "source": [
    "intro(\"gaju\",67,\"Male\",\"Dancing with a monkey\")"
   ]
  },
  {
   "cell_type": "code",
   "execution_count": 9,
   "id": "5abea37f",
   "metadata": {},
   "outputs": [
    {
     "name": "stdout",
     "output_type": "stream",
     "text": [
      "My name is 67\n",
      "My age is gaju\n",
      "My gender Cricket\n",
      "My hoobies are Male\n"
     ]
    }
   ],
   "source": [
    "intro(67,\"gaju\",\"Cricket\",\"Male\")"
   ]
  },
  {
   "cell_type": "code",
   "execution_count": 10,
   "id": "903f9d41",
   "metadata": {},
   "outputs": [
    {
     "name": "stdout",
     "output_type": "stream",
     "text": [
      "My name is gaju\n",
      "My age is 67\n",
      "My gender Male\n",
      "My hoobies are Cricket\n"
     ]
    }
   ],
   "source": [
    "intro(age=67,name=\"gaju\",hobby=\"Cricket\",gender=\"Male\")#Keyword Arguments"
   ]
  },
  {
   "cell_type": "code",
   "execution_count": null,
   "id": "214883da",
   "metadata": {},
   "outputs": [],
   "source": [
    "# can we have both poistional as well as keyword argument"
   ]
  },
  {
   "cell_type": "code",
   "execution_count": 13,
   "id": "95226344",
   "metadata": {},
   "outputs": [
    {
     "ename": "SyntaxError",
     "evalue": "positional argument follows keyword argument (410857974.py, line 1)",
     "output_type": "error",
     "traceback": [
      "\u001b[1;36m  File \u001b[1;32m\"C:\\Users\\AKASH\\AppData\\Local\\Temp\\ipykernel_12680\\410857974.py\"\u001b[1;36m, line \u001b[1;32m1\u001b[0m\n\u001b[1;33m    intro(age=67,name=\"gaju\",hobby=\"Cricket\",Male)#Keyword Arguments\u001b[0m\n\u001b[1;37m                                                 ^\u001b[0m\n\u001b[1;31mSyntaxError\u001b[0m\u001b[1;31m:\u001b[0m positional argument follows keyword argument\n"
     ]
    }
   ],
   "source": [
    "intro(age=67,name=\"gaju\",hobby=\"Cricket\",Male)#Keyword Arguments"
   ]
  },
  {
   "cell_type": "code",
   "execution_count": 14,
   "id": "d35d304c",
   "metadata": {},
   "outputs": [
    {
     "name": "stdout",
     "output_type": "stream",
     "text": [
      "My name is gaju\n",
      "My age is 67\n",
      "My gender Male\n",
      "My hoobies are Cricket\n"
     ]
    }
   ],
   "source": [
    "intro(\"gaju\",67,hobby=\"Cricket\",gender=\"Male\")#Keyword Arguments"
   ]
  },
  {
   "cell_type": "code",
   "execution_count": null,
   "id": "75f277e7",
   "metadata": {},
   "outputs": [],
   "source": []
  },
  {
   "cell_type": "code",
   "execution_count": 15,
   "id": "55f29eb4",
   "metadata": {},
   "outputs": [],
   "source": [
    "def random(a, b, c, d):\n",
    "    print(a, b, c, d)"
   ]
  },
  {
   "cell_type": "code",
   "execution_count": 16,
   "id": "efa75f66",
   "metadata": {},
   "outputs": [
    {
     "name": "stdout",
     "output_type": "stream",
     "text": [
      "4 5 6 7\n"
     ]
    }
   ],
   "source": [
    "random(4, 5, 6, 7)#poistional arguments"
   ]
  },
  {
   "cell_type": "code",
   "execution_count": 17,
   "id": "78301fe3",
   "metadata": {},
   "outputs": [
    {
     "name": "stdout",
     "output_type": "stream",
     "text": [
      "5 6 7 9\n"
     ]
    }
   ],
   "source": [
    "random(b = 6, c = 7, d = 9, a = 5)#keyword arguments"
   ]
  },
  {
   "cell_type": "code",
   "execution_count": 18,
   "id": "43725859",
   "metadata": {},
   "outputs": [
    {
     "ename": "SyntaxError",
     "evalue": "positional argument follows keyword argument (4092082922.py, line 1)",
     "output_type": "error",
     "traceback": [
      "\u001b[1;36m  File \u001b[1;32m\"C:\\Users\\AKASH\\AppData\\Local\\Temp\\ipykernel_12680\\4092082922.py\"\u001b[1;36m, line \u001b[1;32m1\u001b[0m\n\u001b[1;33m    random(b = 6, c = 7, d = 9, 5)\u001b[0m\n\u001b[1;37m                                 ^\u001b[0m\n\u001b[1;31mSyntaxError\u001b[0m\u001b[1;31m:\u001b[0m positional argument follows keyword argument\n"
     ]
    }
   ],
   "source": [
    "random(b = 6, c = 7, d = 9, 5)#pk - posityional ->keyword"
   ]
  },
  {
   "cell_type": "code",
   "execution_count": 19,
   "id": "3ea5f7cc",
   "metadata": {},
   "outputs": [
    {
     "name": "stdout",
     "output_type": "stream",
     "text": [
      "4 5 7 6\n"
     ]
    }
   ],
   "source": [
    "# Correct because positional arguments can be followed by keyword arguments\n",
    "\n",
    "random(4, 5, d = 6, c = 7)"
   ]
  },
  {
   "cell_type": "code",
   "execution_count": 20,
   "id": "5c1d2b26",
   "metadata": {},
   "outputs": [
    {
     "ename": "TypeError",
     "evalue": "random() got multiple values for argument 'a'",
     "output_type": "error",
     "traceback": [
      "\u001b[1;31m---------------------------------------------------------------------------\u001b[0m",
      "\u001b[1;31mTypeError\u001b[0m                                 Traceback (most recent call last)",
      "\u001b[1;32m~\\AppData\\Local\\Temp\\ipykernel_12680\\3836193223.py\u001b[0m in \u001b[0;36m<cell line: 1>\u001b[1;34m()\u001b[0m\n\u001b[1;32m----> 1\u001b[1;33m \u001b[0mrandom\u001b[0m\u001b[1;33m(\u001b[0m\u001b[1;36m4\u001b[0m\u001b[1;33m,\u001b[0m \u001b[1;36m6\u001b[0m\u001b[1;33m,\u001b[0m \u001b[0ma\u001b[0m \u001b[1;33m=\u001b[0m \u001b[1;36m5\u001b[0m\u001b[1;33m,\u001b[0m \u001b[0mc\u001b[0m \u001b[1;33m=\u001b[0m \u001b[1;36m7\u001b[0m\u001b[1;33m)\u001b[0m\u001b[1;33m\u001b[0m\u001b[1;33m\u001b[0m\u001b[0m\n\u001b[0m",
      "\u001b[1;31mTypeError\u001b[0m: random() got multiple values for argument 'a'"
     ]
    }
   ],
   "source": [
    "random(4, 6, a = 5, c = 7)"
   ]
  },
  {
   "cell_type": "code",
   "execution_count": 21,
   "id": "292a9cea",
   "metadata": {},
   "outputs": [
    {
     "ename": "SyntaxError",
     "evalue": "positional argument follows keyword argument (40592173.py, line 1)",
     "output_type": "error",
     "traceback": [
      "\u001b[1;36m  File \u001b[1;32m\"C:\\Users\\AKASH\\AppData\\Local\\Temp\\ipykernel_12680\\40592173.py\"\u001b[1;36m, line \u001b[1;32m1\u001b[0m\n\u001b[1;33m    random(4, b=1, 3,d=1)\u001b[0m\n\u001b[1;37m                        ^\u001b[0m\n\u001b[1;31mSyntaxError\u001b[0m\u001b[1;31m:\u001b[0m positional argument follows keyword argument\n"
     ]
    }
   ],
   "source": [
    "random(4, b=1, 3,d=1)\n"
   ]
  },
  {
   "cell_type": "markdown",
   "id": "f5b587d8",
   "metadata": {},
   "source": [
    "# **Functions that have default values**"
   ]
  },
  {
   "cell_type": "code",
   "execution_count": 22,
   "id": "6111ffab",
   "metadata": {},
   "outputs": [],
   "source": [
    "def intro(name,age,gender,hobby):\n",
    "    print(\"My name is\",name)\n",
    "    print(\"My age is\",age)\n",
    "    print(\"My gender\",gender)\n",
    "    print(\"My hoobies are\",hobby)"
   ]
  },
  {
   "cell_type": "code",
   "execution_count": 23,
   "id": "504698ca",
   "metadata": {},
   "outputs": [
    {
     "ename": "TypeError",
     "evalue": "intro() missing 1 required positional argument: 'hobby'",
     "output_type": "error",
     "traceback": [
      "\u001b[1;31m---------------------------------------------------------------------------\u001b[0m",
      "\u001b[1;31mTypeError\u001b[0m                                 Traceback (most recent call last)",
      "\u001b[1;32m~\\AppData\\Local\\Temp\\ipykernel_12680\\2713338545.py\u001b[0m in \u001b[0;36m<cell line: 1>\u001b[1;34m()\u001b[0m\n\u001b[1;32m----> 1\u001b[1;33m \u001b[0mintro\u001b[0m\u001b[1;33m(\u001b[0m\u001b[1;34m'chinku'\u001b[0m\u001b[1;33m,\u001b[0m\u001b[1;34m'867'\u001b[0m\u001b[1;33m,\u001b[0m\u001b[1;34m'Male'\u001b[0m\u001b[1;33m)\u001b[0m\u001b[1;33m\u001b[0m\u001b[1;33m\u001b[0m\u001b[0m\n\u001b[0m",
      "\u001b[1;31mTypeError\u001b[0m: intro() missing 1 required positional argument: 'hobby'"
     ]
    }
   ],
   "source": [
    "intro('chinku','867','Male')"
   ]
  },
  {
   "cell_type": "code",
   "execution_count": 26,
   "id": "8f177c48",
   "metadata": {},
   "outputs": [],
   "source": [
    "def intro(name,age,gender,hobby='No hobbies provided'):#default arguments\n",
    "    print(\"My name is\",name)\n",
    "    print(\"My age is\",age)\n",
    "    print(\"My gender\",gender)\n",
    "    print(\"My hoobies are\",hobby)"
   ]
  },
  {
   "cell_type": "code",
   "execution_count": 27,
   "id": "281f7b66",
   "metadata": {},
   "outputs": [
    {
     "name": "stdout",
     "output_type": "stream",
     "text": [
      "My name is chinku\n",
      "My age is 867\n",
      "My gender Male\n",
      "My hoobies are No hobbies provided\n"
     ]
    }
   ],
   "source": [
    "intro('chinku','867','Male')"
   ]
  },
  {
   "cell_type": "code",
   "execution_count": 28,
   "id": "9f6fe1f2",
   "metadata": {},
   "outputs": [
    {
     "name": "stdout",
     "output_type": "stream",
     "text": [
      "My name is chinku\n",
      "My age is 867\n",
      "My gender Male\n",
      "My hoobies are Going to graveyard\n"
     ]
    }
   ],
   "source": [
    "intro('chinku','867','Male',\"Going to graveyard\")"
   ]
  },
  {
   "cell_type": "code",
   "execution_count": 29,
   "id": "5325bbaf",
   "metadata": {},
   "outputs": [
    {
     "ename": "SyntaxError",
     "evalue": "non-default argument follows default argument (3377411872.py, line 1)",
     "output_type": "error",
     "traceback": [
      "\u001b[1;36m  File \u001b[1;32m\"C:\\Users\\AKASH\\AppData\\Local\\Temp\\ipykernel_12680\\3377411872.py\"\u001b[1;36m, line \u001b[1;32m1\u001b[0m\n\u001b[1;33m    def intro(name='Benam',age,gender,hobby='No hobbies provided'):#default arguments\u001b[0m\n\u001b[1;37m                           ^\u001b[0m\n\u001b[1;31mSyntaxError\u001b[0m\u001b[1;31m:\u001b[0m non-default argument follows default argument\n"
     ]
    }
   ],
   "source": [
    "def intro(name='Benam',age,gender,hobby='No hobbies provided'):#default arguments\n",
    "    print(\"My name is\",name)\n",
    "    print(\"My age is\",age)\n",
    "    print(\"My gender\",gender)\n",
    "    print(\"My hoobies are\",hobby)"
   ]
  },
  {
   "cell_type": "code",
   "execution_count": null,
   "id": "3c2fcbdf",
   "metadata": {},
   "outputs": [],
   "source": [
    "# Non default - Default"
   ]
  },
  {
   "cell_type": "code",
   "execution_count": 30,
   "id": "01c49ba3",
   "metadata": {},
   "outputs": [],
   "source": [
    "def intro(age=89,gender=\"Male\",name='Benam',hobby='No hobbies provided'):#default arguments\n",
    "    print(\"My name is\",name)\n",
    "    print(\"My age is\",age)\n",
    "    print(\"My gender\",gender)\n",
    "    print(\"My hoobies are\",hobby)"
   ]
  },
  {
   "cell_type": "code",
   "execution_count": 31,
   "id": "6cb5d3cf",
   "metadata": {},
   "outputs": [
    {
     "name": "stdout",
     "output_type": "stream",
     "text": [
      "My name is Benam\n",
      "My age is 89\n",
      "My gender Male\n",
      "My hoobies are No hobbies provided\n"
     ]
    }
   ],
   "source": [
    "intro()"
   ]
  },
  {
   "cell_type": "code",
   "execution_count": null,
   "id": "000e7d0e",
   "metadata": {},
   "outputs": [],
   "source": []
  },
  {
   "cell_type": "markdown",
   "id": "09dce592",
   "metadata": {},
   "source": [
    "# * We want to calculate simple interest that has a defualt value of interest that is 5%.\n"
   ]
  },
  {
   "cell_type": "code",
   "execution_count": 32,
   "id": "cb7a384a",
   "metadata": {},
   "outputs": [
    {
     "data": {
      "text/plain": [
       "2000.0"
      ]
     },
     "execution_count": 32,
     "metadata": {},
     "output_type": "execute_result"
    }
   ],
   "source": [
    "p=10000\n",
    "r=10\n",
    "t=2\n",
    "def simple_intrest(p,r,t):\n",
    "    return (p*r*t)/100\n",
    "simple_intrest(10000,10,2)"
   ]
  },
  {
   "cell_type": "code",
   "execution_count": 33,
   "id": "ebe1ce13",
   "metadata": {},
   "outputs": [
    {
     "ename": "SyntaxError",
     "evalue": "non-default argument follows default argument (1170965509.py, line 4)",
     "output_type": "error",
     "traceback": [
      "\u001b[1;36m  File \u001b[1;32m\"C:\\Users\\AKASH\\AppData\\Local\\Temp\\ipykernel_12680\\1170965509.py\"\u001b[1;36m, line \u001b[1;32m4\u001b[0m\n\u001b[1;33m    def simple_intrest(p,r=5,t):\u001b[0m\n\u001b[1;37m                             ^\u001b[0m\n\u001b[1;31mSyntaxError\u001b[0m\u001b[1;31m:\u001b[0m non-default argument follows default argument\n"
     ]
    }
   ],
   "source": [
    "p=10000\n",
    "r=10\n",
    "t=2\n",
    "def simple_intrest(p,r=5,t):\n",
    "    return (p*r*t)/100\n",
    "simple_intrest(10000,10,2)"
   ]
  },
  {
   "cell_type": "code",
   "execution_count": 36,
   "id": "8de89f1e",
   "metadata": {},
   "outputs": [
    {
     "data": {
      "text/plain": [
       "2000.0"
      ]
     },
     "execution_count": 36,
     "metadata": {},
     "output_type": "execute_result"
    }
   ],
   "source": [
    "p=10000\n",
    "r=10\n",
    "t=2\n",
    "def simple_intrest(p,r=5,t=2):\n",
    "    return (p*r*t)/100\n",
    "simple_intrest(10000,10,2)"
   ]
  },
  {
   "cell_type": "code",
   "execution_count": 38,
   "id": "7924c18f",
   "metadata": {},
   "outputs": [
    {
     "data": {
      "text/plain": [
       "3000.0"
      ]
     },
     "execution_count": 38,
     "metadata": {},
     "output_type": "execute_result"
    }
   ],
   "source": [
    "simple_intrest(50000, 3)"
   ]
  },
  {
   "cell_type": "markdown",
   "id": "51124939",
   "metadata": {},
   "source": [
    "Suppose I've defined a function with default values.\n",
    "Now, when I call this function with different values in input args will it get replaced by Default values while defined or will take new value while invoking function?"
   ]
  },
  {
   "cell_type": "code",
   "execution_count": null,
   "id": "5ccdf575",
   "metadata": {},
   "outputs": [],
   "source": [
    "def simple_intrest(p=10000,r=5,t=2):\n",
    "    return (p*r*t)/100"
   ]
  },
  {
   "cell_type": "code",
   "execution_count": null,
   "id": "a5724f43",
   "metadata": {},
   "outputs": [],
   "source": [
    "simple_intrest()"
   ]
  },
  {
   "cell_type": "code",
   "execution_count": null,
   "id": "c662a0ad",
   "metadata": {},
   "outputs": [],
   "source": []
  },
  {
   "cell_type": "code",
   "execution_count": null,
   "id": "faea219d",
   "metadata": {},
   "outputs": [],
   "source": []
  },
  {
   "cell_type": "markdown",
   "id": "83bfcb66",
   "metadata": {},
   "source": [
    "#So now two situation arise\n",
    "1. We pass all three values simple_interest(50000, 3, 10). In this case the function will use the values we passed to calculate the simple interest. It will not use the default value that is present.\n",
    "2. We do not pass anythin in place of the default argument simple_interest(50000, 3). In this case the function will use the default value to calculate the simmple interest."
   ]
  },
  {
   "cell_type": "markdown",
   "id": "ef3a003f",
   "metadata": {},
   "source": [
    "Question\n",
    "Create a date printing function which should take 4 arguments day, month, year, style.\n",
    "\n",
    "Styling logic\n",
    "\n",
    "style -> 0 -> d/m/y\n",
    "style -> 1 -> m/d/y\n",
    "style -> anyhing else -> Invalid syntax\n",
    "default style is 0"
   ]
  },
  {
   "cell_type": "code",
   "execution_count": 2,
   "id": "587448fb",
   "metadata": {},
   "outputs": [],
   "source": [
    "def styling(day,month,year,style=0):\n",
    "    if style==0:\n",
    "        print(day,\"/\",month,\"/\",year)\n",
    "    elif style==1:\n",
    "        print(month,\"/\",day,\"/\",year)\n",
    "    else:\n",
    "        print(\"Invalid syntax\")"
   ]
  },
  {
   "cell_type": "code",
   "execution_count": 3,
   "id": "40fb5564",
   "metadata": {},
   "outputs": [
    {
     "name": "stdout",
     "output_type": "stream",
     "text": [
      "24 / 7 / 2023\n"
     ]
    }
   ],
   "source": [
    "styling(24,7,2023,style=0)"
   ]
  },
  {
   "cell_type": "code",
   "execution_count": 4,
   "id": "94093237",
   "metadata": {},
   "outputs": [
    {
     "name": "stdout",
     "output_type": "stream",
     "text": [
      "7 / 24 / 2023\n"
     ]
    }
   ],
   "source": [
    "styling(24,7,2023,style=1)"
   ]
  },
  {
   "cell_type": "code",
   "execution_count": 5,
   "id": "62357f3d",
   "metadata": {},
   "outputs": [
    {
     "name": "stdout",
     "output_type": "stream",
     "text": [
      "Invalid syntax\n"
     ]
    }
   ],
   "source": [
    "styling(24,7,2023,style=6)"
   ]
  },
  {
   "cell_type": "code",
   "execution_count": 12,
   "id": "648db339",
   "metadata": {},
   "outputs": [],
   "source": [
    "def styling(day,month,year,style=0):\n",
    "    if style==0:\n",
    "        return print(day,\"/\",month,\"/\",year)\n",
    "    elif style==1:\n",
    "        return print(month,\"/\",day,\"/\",year)\n",
    "    else:\n",
    "        return print(\"Invalid syntax\")"
   ]
  },
  {
   "cell_type": "code",
   "execution_count": 11,
   "id": "35147fc2",
   "metadata": {},
   "outputs": [
    {
     "name": "stdout",
     "output_type": "stream",
     "text": [
      "24 / 7 / 2023\n"
     ]
    }
   ],
   "source": [
    "styling(24,7,2023,style=0)"
   ]
  },
  {
   "cell_type": "code",
   "execution_count": null,
   "id": "45f53110",
   "metadata": {},
   "outputs": [],
   "source": [
    "**kw args"
   ]
  },
  {
   "cell_type": "markdown",
   "id": "39068874",
   "metadata": {},
   "source": [
    "# Scope of Variables"
   ]
  },
  {
   "cell_type": "code",
   "execution_count": 14,
   "id": "b4744c3d",
   "metadata": {},
   "outputs": [
    {
     "name": "stdout",
     "output_type": "stream",
     "text": [
      "Inside -  50\n",
      "Outside - 10\n"
     ]
    }
   ],
   "source": [
    "a = 10\n",
    "def random():\n",
    "    a = 50\n",
    "    print(\"Inside - \",end =\" \")\n",
    "    print(a)\n",
    "random()\n",
    "\n",
    "print(\"Outside -\", end = \" \")\n",
    "print(a)"
   ]
  },
  {
   "cell_type": "code",
   "execution_count": null,
   "id": "398bb8c8",
   "metadata": {},
   "outputs": [],
   "source": []
  },
  {
   "cell_type": "code",
   "execution_count": null,
   "id": "26b9b89a",
   "metadata": {},
   "outputs": [],
   "source": []
  },
  {
   "cell_type": "code",
   "execution_count": 15,
   "id": "bc53550a",
   "metadata": {},
   "outputs": [
    {
     "name": "stdout",
     "output_type": "stream",
     "text": [
      "Inside Random 1 -  50\n",
      "Inside Random 2 -  10\n",
      "Outside - 10\n"
     ]
    }
   ],
   "source": [
    "a = 10 #global\n",
    "def random1():\n",
    "    a = 50 #local scope\n",
    "    print(\"Inside Random 1 - \",end =\" \")\n",
    "    print(a)\n",
    "random1()\n",
    "\n",
    "def random2():\n",
    "    print(\"Inside Random 2 - \",end =\" \")\n",
    "    print(a)\n",
    "random2()\n",
    "\n",
    "\n",
    "print(\"Outside -\", end = \" \")\n",
    "print(a)"
   ]
  },
  {
   "cell_type": "markdown",
   "id": "6c82c030",
   "metadata": {},
   "source": [
    "If there is no local definition of a variable within the function, and that variable is called/used from within a function's body, the function would just use the global variable."
   ]
  },
  {
   "cell_type": "code",
   "execution_count": null,
   "id": "6d2ecd91",
   "metadata": {},
   "outputs": [],
   "source": []
  },
  {
   "cell_type": "code",
   "execution_count": null,
   "id": "c9b17f4b",
   "metadata": {},
   "outputs": [],
   "source": []
  },
  {
   "cell_type": "code",
   "execution_count": null,
   "id": "33c9a977",
   "metadata": {},
   "outputs": [],
   "source": [
    "count = 1\n",
    "def demo():\n",
    "for i in range(5):\n",
    "count+=1\n",
    "return count\n",
    "print(demo()) Why it throw the error UnboundLocalError: local variable 'count' referenced before assignment"
   ]
  },
  {
   "cell_type": "code",
   "execution_count": 18,
   "id": "6341fe1d",
   "metadata": {},
   "outputs": [
    {
     "name": "stdout",
     "output_type": "stream",
     "text": [
      "Inside Random 1 -  50\n",
      "50\n",
      "Outside - 50\n"
     ]
    }
   ],
   "source": [
    "a = 10 #global\n",
    "def random1():\n",
    "    global a\n",
    "    a = 50\n",
    "    print(\"Inside Random 1 - \",end =\" \")\n",
    "    print(a)\n",
    "random1()\n",
    "print(a)\n",
    "\n",
    "\n",
    "\n",
    "print(\"Outside -\", end = \" \")\n",
    "print(a)"
   ]
  },
  {
   "cell_type": "code",
   "execution_count": 19,
   "id": "02533e44",
   "metadata": {},
   "outputs": [
    {
     "ename": "SyntaxError",
     "evalue": "name 'a' is assigned to before global declaration (398053772.py, line 4)",
     "output_type": "error",
     "traceback": [
      "\u001b[1;36m  File \u001b[1;32m\"C:\\Users\\AKASH\\AppData\\Local\\Temp\\ipykernel_23152\\398053772.py\"\u001b[1;36m, line \u001b[1;32m4\u001b[0m\n\u001b[1;33m    global a\u001b[0m\n\u001b[1;37m    ^\u001b[0m\n\u001b[1;31mSyntaxError\u001b[0m\u001b[1;31m:\u001b[0m name 'a' is assigned to before global declaration\n"
     ]
    }
   ],
   "source": [
    "a = 10 #global\n",
    "def random1():\n",
    "    a = 50\n",
    "    global a\n",
    "    \n",
    "    print(\"Inside Random 1 - \",end =\" \")\n",
    "    print(a)\n",
    "random1()\n",
    "print(a)\n",
    "\n",
    "\n",
    "\n",
    "print(\"Outside -\", end = \" \")\n",
    "print(a)"
   ]
  },
  {
   "cell_type": "code",
   "execution_count": null,
   "id": "7897af64",
   "metadata": {},
   "outputs": [],
   "source": []
  },
  {
   "cell_type": "code",
   "execution_count": null,
   "id": "ebf63ac6",
   "metadata": {},
   "outputs": [],
   "source": []
  },
  {
   "cell_type": "code",
   "execution_count": null,
   "id": "eaf85bdb",
   "metadata": {},
   "outputs": [],
   "source": []
  },
  {
   "cell_type": "code",
   "execution_count": 17,
   "id": "2198e3e0",
   "metadata": {},
   "outputs": [
    {
     "name": "stdout",
     "output_type": "stream",
     "text": [
      "Inside Random 1 -  50\n",
      "Outside - 10\n"
     ]
    }
   ],
   "source": [
    "a = 10 #global\n",
    "def random1():\n",
    "\n",
    "    a = 50\n",
    "    print(\"Inside Random 1 - \",end =\" \")\n",
    "    print(a)\n",
    "random1()\n",
    "\n",
    "\n",
    "\n",
    "\n",
    "print(\"Outside -\", end = \" \")\n",
    "print(a)"
   ]
  },
  {
   "cell_type": "code",
   "execution_count": 3,
   "id": "7204435e",
   "metadata": {},
   "outputs": [
    {
     "name": "stdout",
     "output_type": "stream",
     "text": [
      "Inside Random 1 -  50\n",
      "Outside - 50 10\n"
     ]
    }
   ],
   "source": [
    "a = 10 #global\n",
    "def random1():\n",
    "    global a,b\n",
    "    a = 50\n",
    "    b=10\n",
    "    print(\"Inside Random 1 - \",end =\" \")\n",
    "    print(a)\n",
    "random1()\n",
    "\n",
    "\n",
    "\n",
    "\n",
    "print(\"Outside -\", end = \" \")\n",
    "print(a,b)"
   ]
  },
  {
   "cell_type": "code",
   "execution_count": 1,
   "id": "7e0e8542",
   "metadata": {},
   "outputs": [
    {
     "name": "stdout",
     "output_type": "stream",
     "text": [
      "Inside Random 1 -  50\n",
      "Outside - "
     ]
    },
    {
     "ename": "NameError",
     "evalue": "name 'b' is not defined",
     "output_type": "error",
     "traceback": [
      "\u001b[1;31m---------------------------------------------------------------------------\u001b[0m",
      "\u001b[1;31mNameError\u001b[0m                                 Traceback (most recent call last)",
      "\u001b[1;32m~\\AppData\\Local\\Temp\\ipykernel_14728\\1329573382.py\u001b[0m in \u001b[0;36m<cell line: 14>\u001b[1;34m()\u001b[0m\n\u001b[0;32m     12\u001b[0m \u001b[1;33m\u001b[0m\u001b[0m\n\u001b[0;32m     13\u001b[0m \u001b[0mprint\u001b[0m\u001b[1;33m(\u001b[0m\u001b[1;34m\"Outside -\"\u001b[0m\u001b[1;33m,\u001b[0m \u001b[0mend\u001b[0m \u001b[1;33m=\u001b[0m \u001b[1;34m\" \"\u001b[0m\u001b[1;33m)\u001b[0m\u001b[1;33m\u001b[0m\u001b[1;33m\u001b[0m\u001b[0m\n\u001b[1;32m---> 14\u001b[1;33m \u001b[0mprint\u001b[0m\u001b[1;33m(\u001b[0m\u001b[0ma\u001b[0m\u001b[1;33m,\u001b[0m\u001b[0mb\u001b[0m\u001b[1;33m)\u001b[0m\u001b[1;33m\u001b[0m\u001b[1;33m\u001b[0m\u001b[0m\n\u001b[0m",
      "\u001b[1;31mNameError\u001b[0m: name 'b' is not defined"
     ]
    }
   ],
   "source": [
    "a = 10 #global\n",
    "def random1():\n",
    "    global a\n",
    "    a = 50\n",
    "    b=10\n",
    "    print(\"Inside Random 1 - \",end =\" \")\n",
    "    print(a)\n",
    "random1()\n",
    "\n",
    "\n",
    "\n",
    "\n",
    "print(\"Outside -\", end = \" \")\n",
    "print(a,b)"
   ]
  },
  {
   "cell_type": "code",
   "execution_count": 4,
   "id": "563b47dc",
   "metadata": {},
   "outputs": [
    {
     "name": "stdout",
     "output_type": "stream",
     "text": [
      "Inside Random 1 -  50\n",
      "Outside - 100 500\n"
     ]
    }
   ],
   "source": [
    "a = 10 #global\n",
    "def random1():\n",
    "    global a,b\n",
    "    a = 50\n",
    "    b=10\n",
    "    print(\"Inside Random 1 - \",end =\" \")\n",
    "    print(a)\n",
    "random1()\n",
    "\n",
    "\n",
    "\n",
    "\n",
    "print(\"Outside -\", end = \" \")\n",
    "a=100\n",
    "b=500\n",
    "print(a,b)"
   ]
  },
  {
   "cell_type": "markdown",
   "id": "e0d3b3bd",
   "metadata": {},
   "source": [
    "# **Lambda Functions**"
   ]
  },
  {
   "cell_type": "code",
   "execution_count": null,
   "id": "ec7cfee8",
   "metadata": {},
   "outputs": [],
   "source": [
    "#Anonymous - No name -\n",
    "# 1 line functions"
   ]
  },
  {
   "cell_type": "code",
   "execution_count": null,
   "id": "096245b4",
   "metadata": {},
   "outputs": [],
   "source": []
  },
  {
   "cell_type": "code",
   "execution_count": 5,
   "id": "a66e18f0",
   "metadata": {},
   "outputs": [],
   "source": [
    "#lambda input:output\n",
    "v = lambda   x   :x+10"
   ]
  },
  {
   "cell_type": "code",
   "execution_count": 6,
   "id": "6e68f2d4",
   "metadata": {},
   "outputs": [
    {
     "data": {
      "text/plain": [
       "12"
      ]
     },
     "execution_count": 6,
     "metadata": {},
     "output_type": "execute_result"
    }
   ],
   "source": [
    "v(2)"
   ]
  },
  {
   "cell_type": "code",
   "execution_count": 7,
   "id": "28124dc4",
   "metadata": {},
   "outputs": [
    {
     "data": {
      "text/plain": [
       "'HELLO'"
      ]
     },
     "execution_count": 7,
     "metadata": {},
     "output_type": "execute_result"
    }
   ],
   "source": [
    "# Function definition\n",
    "hello = lambda: \"HELLO\"\n",
    "\n",
    "# Calling the function\n",
    "hello()"
   ]
  },
  {
   "cell_type": "code",
   "execution_count": 11,
   "id": "03f7ced6",
   "metadata": {},
   "outputs": [
    {
     "data": {
      "text/plain": [
       "'HELLO'"
      ]
     },
     "execution_count": 11,
     "metadata": {},
     "output_type": "execute_result"
    }
   ],
   "source": [
    "def random():\n",
    "    print(\"HELLO\")\n",
    "random()"
   ]
  },
  {
   "cell_type": "code",
   "execution_count": null,
   "id": "ab526d2e",
   "metadata": {},
   "outputs": [],
   "source": []
  },
  {
   "cell_type": "code",
   "execution_count": null,
   "id": "e9f74525",
   "metadata": {},
   "outputs": [],
   "source": []
  },
  {
   "cell_type": "code",
   "execution_count": null,
   "id": "655d641f",
   "metadata": {},
   "outputs": [],
   "source": []
  },
  {
   "cell_type": "code",
   "execution_count": 15,
   "id": "53e75a00",
   "metadata": {},
   "outputs": [
    {
     "data": {
      "text/plain": [
       "110"
      ]
     },
     "execution_count": 15,
     "metadata": {},
     "output_type": "execute_result"
    }
   ],
   "source": [
    "(lambda   x   :x+10)(100) #100is being sent as a value to the argument x"
   ]
  },
  {
   "cell_type": "markdown",
   "id": "19b08a03",
   "metadata": {},
   "source": [
    "An important feature of lambda functions is that they are called anonymous functions.\n",
    "\n",
    "We can omit or don't specify function names and directly define and call the function in same line."
   ]
  },
  {
   "cell_type": "code",
   "execution_count": 16,
   "id": "fc10a823",
   "metadata": {},
   "outputs": [],
   "source": [
    "v = lambda   x   :x+10\n",
    "alok = v(2)"
   ]
  },
  {
   "cell_type": "code",
   "execution_count": 17,
   "id": "f701eff1",
   "metadata": {},
   "outputs": [
    {
     "data": {
      "text/plain": [
       "12"
      ]
     },
     "execution_count": 17,
     "metadata": {},
     "output_type": "execute_result"
    }
   ],
   "source": [
    "alok"
   ]
  },
  {
   "cell_type": "code",
   "execution_count": null,
   "id": "7b2b1602",
   "metadata": {},
   "outputs": [],
   "source": []
  },
  {
   "cell_type": "code",
   "execution_count": 30,
   "id": "26ddb472",
   "metadata": {},
   "outputs": [
    {
     "data": {
      "text/plain": [
       "-9"
      ]
     },
     "execution_count": 30,
     "metadata": {},
     "output_type": "execute_result"
    }
   ],
   "source": [
    "v= lambda x :x+10 if x>3 else x-10\n",
    "v(1)"
   ]
  },
  {
   "cell_type": "code",
   "execution_count": 31,
   "id": "9cc3faaf",
   "metadata": {},
   "outputs": [
    {
     "data": {
      "text/plain": [
       "20"
      ]
     },
     "execution_count": 31,
     "metadata": {},
     "output_type": "execute_result"
    }
   ],
   "source": [
    "v(10)"
   ]
  },
  {
   "cell_type": "code",
   "execution_count": 28,
   "id": "8193461d",
   "metadata": {},
   "outputs": [],
   "source": [
    "def random():\n",
    "    return(\"HELLO\")\n",
    "v = random()+\"p\"\n"
   ]
  },
  {
   "cell_type": "code",
   "execution_count": 34,
   "id": "9c593865",
   "metadata": {},
   "outputs": [
    {
     "name": "stdout",
     "output_type": "stream",
     "text": [
      "HELLO\n"
     ]
    }
   ],
   "source": [
    "def random():\n",
    "    print(\"HELLO\")\n",
    "v= random()\n",
    "#print(v)"
   ]
  },
  {
   "cell_type": "code",
   "execution_count": 29,
   "id": "7833a8ec",
   "metadata": {},
   "outputs": [
    {
     "data": {
      "text/plain": [
       "'HELLOp'"
      ]
     },
     "execution_count": 29,
     "metadata": {},
     "output_type": "execute_result"
    }
   ],
   "source": [
    "v"
   ]
  },
  {
   "cell_type": "markdown",
   "id": "c7da9619",
   "metadata": {},
   "source": [
    "When printing we are not returning anything in that case a new line is getting printed every time with \"None\" in a new line. How to overcome this error?\n"
   ]
  },
  {
   "cell_type": "code",
   "execution_count": null,
   "id": "318d1580",
   "metadata": {},
   "outputs": [],
   "source": []
  },
  {
   "cell_type": "code",
   "execution_count": null,
   "id": "7436e22a",
   "metadata": {},
   "outputs": [],
   "source": []
  },
  {
   "cell_type": "code",
   "execution_count": null,
   "id": "f65fbd8c",
   "metadata": {},
   "outputs": [],
   "source": []
  },
  {
   "cell_type": "code",
   "execution_count": 47,
   "id": "295e120e",
   "metadata": {},
   "outputs": [
    {
     "name": "stdout",
     "output_type": "stream",
     "text": [
      "2\n",
      "3\n",
      "4\n",
      "5\n",
      "6\n",
      "6\n"
     ]
    }
   ],
   "source": [
    "count = 1\n",
    "def demo():\n",
    "    count=1\n",
    "    for i in range(5):\n",
    "        \n",
    "        count=count+1\n",
    "        print(count)\n",
    "    return count\n",
    "print(demo()) "
   ]
  },
  {
   "cell_type": "code",
   "execution_count": 44,
   "id": "7fca2354",
   "metadata": {},
   "outputs": [
    {
     "ename": "UnboundLocalError",
     "evalue": "local variable 'a' referenced before assignment",
     "output_type": "error",
     "traceback": [
      "\u001b[1;31m---------------------------------------------------------------------------\u001b[0m",
      "\u001b[1;31mUnboundLocalError\u001b[0m                         Traceback (most recent call last)",
      "\u001b[1;32m~\\AppData\\Local\\Temp\\ipykernel_14728\\3418429977.py\u001b[0m in \u001b[0;36m<cell line: 6>\u001b[1;34m()\u001b[0m\n\u001b[0;32m      4\u001b[0m     \u001b[0mprint\u001b[0m\u001b[1;33m(\u001b[0m\u001b[0ma\u001b[0m\u001b[1;33m)\u001b[0m\u001b[1;33m\u001b[0m\u001b[1;33m\u001b[0m\u001b[0m\n\u001b[0;32m      5\u001b[0m     \u001b[1;31m#return count\u001b[0m\u001b[1;33m\u001b[0m\u001b[1;33m\u001b[0m\u001b[0m\n\u001b[1;32m----> 6\u001b[1;33m \u001b[0mprint\u001b[0m\u001b[1;33m(\u001b[0m\u001b[0mdemo\u001b[0m\u001b[1;33m(\u001b[0m\u001b[1;33m)\u001b[0m\u001b[1;33m)\u001b[0m\u001b[1;33m\u001b[0m\u001b[1;33m\u001b[0m\u001b[0m\n\u001b[0m",
      "\u001b[1;32m~\\AppData\\Local\\Temp\\ipykernel_14728\\3418429977.py\u001b[0m in \u001b[0;36mdemo\u001b[1;34m()\u001b[0m\n\u001b[0;32m      1\u001b[0m \u001b[0ma\u001b[0m \u001b[1;33m=\u001b[0m \u001b[1;36m50\u001b[0m\u001b[1;33m\u001b[0m\u001b[1;33m\u001b[0m\u001b[0m\n\u001b[0;32m      2\u001b[0m \u001b[1;32mdef\u001b[0m \u001b[0mdemo\u001b[0m\u001b[1;33m(\u001b[0m\u001b[1;33m)\u001b[0m\u001b[1;33m:\u001b[0m\u001b[1;33m\u001b[0m\u001b[1;33m\u001b[0m\u001b[0m\n\u001b[1;32m----> 3\u001b[1;33m     \u001b[0ma\u001b[0m\u001b[1;33m=\u001b[0m\u001b[0ma\u001b[0m\u001b[1;33m+\u001b[0m\u001b[1;36m1\u001b[0m\u001b[1;33m\u001b[0m\u001b[1;33m\u001b[0m\u001b[0m\n\u001b[0m\u001b[0;32m      4\u001b[0m     \u001b[0mprint\u001b[0m\u001b[1;33m(\u001b[0m\u001b[0ma\u001b[0m\u001b[1;33m)\u001b[0m\u001b[1;33m\u001b[0m\u001b[1;33m\u001b[0m\u001b[0m\n\u001b[0;32m      5\u001b[0m     \u001b[1;31m#return count\u001b[0m\u001b[1;33m\u001b[0m\u001b[1;33m\u001b[0m\u001b[0m\n",
      "\u001b[1;31mUnboundLocalError\u001b[0m: local variable 'a' referenced before assignment"
     ]
    }
   ],
   "source": [
    "a = 50\n",
    "def demo():\n",
    "    a=a+1\n",
    "    print(a)\n",
    "    #return count\n",
    "print(demo()) "
   ]
  },
  {
   "cell_type": "code",
   "execution_count": 45,
   "id": "cd3577bb",
   "metadata": {},
   "outputs": [
    {
     "name": "stdout",
     "output_type": "stream",
     "text": [
      "5676\n",
      "None\n"
     ]
    }
   ],
   "source": [
    "a = 50\n",
    "def demo():\n",
    "    a=5675+1#assigment\n",
    "    print(a)\n",
    "    #return count\n",
    "print(demo()) "
   ]
  },
  {
   "cell_type": "code",
   "execution_count": null,
   "id": "8b123c61",
   "metadata": {},
   "outputs": [],
   "source": [
    "legb rule"
   ]
  },
  {
   "cell_type": "code",
   "execution_count": null,
   "id": "ab3c42f6",
   "metadata": {},
   "outputs": [],
   "source": [
    "Why it throw the error UnboundLocalError: local variable 'count' referenced before assignment"
   ]
  },
  {
   "cell_type": "code",
   "execution_count": null,
   "id": "497cca8f",
   "metadata": {},
   "outputs": [],
   "source": [
    "return f\"{day}/{month}/{year}\"\n",
    "?? please explain this"
   ]
  }
 ],
 "metadata": {
  "kernelspec": {
   "display_name": "Python 3 (ipykernel)",
   "language": "python",
   "name": "python3"
  },
  "language_info": {
   "codemirror_mode": {
    "name": "ipython",
    "version": 3
   },
   "file_extension": ".py",
   "mimetype": "text/x-python",
   "name": "python",
   "nbconvert_exporter": "python",
   "pygments_lexer": "ipython3",
   "version": "3.10.12"
  }
 },
 "nbformat": 4,
 "nbformat_minor": 5
}
