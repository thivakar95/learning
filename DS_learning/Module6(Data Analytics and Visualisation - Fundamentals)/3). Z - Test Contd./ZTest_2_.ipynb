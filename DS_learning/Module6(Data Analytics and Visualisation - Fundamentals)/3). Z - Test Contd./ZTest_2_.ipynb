{
 "cells": [
  {
   "cell_type": "code",
   "execution_count": 7,
   "metadata": {
    "id": "vDm0aEp2IQK_"
   },
   "outputs": [],
   "source": [
    "import random\n",
    "import numpy as np\n",
    "from scipy import stats\n",
    "from statsmodels.stats import power\n",
    "from statsmodels.stats import weightstats as stests\n",
    "\n"
   ]
  },
  {
   "cell_type": "code",
   "execution_count": null,
   "metadata": {
    "colab": {
     "base_uri": "https://localhost:8080/"
    },
    "id": "-yOlFD01JN29",
    "outputId": "422555f2-009a-492e-e2f6-d7acbcfaad14"
   },
   "outputs": [
    {
     "name": "stdout",
     "output_type": "stream",
     "text": [
      "M1_data: [6.0, 6.0, 11.0, 7.0, 19.0, 6.0, 13.0, 10.0, 18.0, 7.0, 10.0, 10.0, 9.0, 5.0, 12.0, 6.0, 14.0, 6.0, 10.0, 12.0, 19.0, 6.0, 7.0, 17.0, 5.0, 19.0, 14.0, 9.0, 18.0, 17.0, 10.0, 17.0, 8.0, 14.0, 13.0, 17.0, 10.0, 11.0, 17.0, 13.0, 15.0, 15.0, 15.0, 18.0, 12.0, 15.0, 11.0, 5.0, 16.0, 8.0, 17.0, 19.0, 15.0, 8.0, 10.0, 11.0, 6.0, 12.0, 14.0, 10.0, 8.0, 6.0, 14.0, 5.0, 10.0, 8.0, 13.0, 16.0, 19.0, 15.0, 20.0, 19.0, 14.0, 9.0, 12.0, 8.0, 20.0, 12.0, 16.0, 6.0, 7.0, 8.0, 9.0, 10.0, 9.0, 12.0, 11.0, 7.0, 6.0, 10.0, 6.0, 11.0, 5.0, 13.0, 6.0, 15.0, 11.0, 20.0, 9.0, 12.0]\n",
      "M2_data: [24.0, 13.0, 14.0, 21.0, 29.0, 27.0, 15.0, 23.0, 22.0, 14.0, 11.0, 7.0, 27.0, 6.0, 18.0, 18.0, 9.0, 21.0, 28.0, 24.0, 15.0, 8.0, 29.0, 18.0, 21.0, 25.0, 15.0, 7.0, 8.0, 22.0, 14.0, 27.0, 24.0, 30.0, 22.0, 13.0, 25.0, 6.0, 18.0, 27.0, 18.0, 8.0, 18.0, 19.0, 14.0, 27.0, 14.0, 12.0, 18.0, 10.0, 13.0, 15.0, 28.0, 7.0, 10.0, 10.0, 30.0, 27.0, 10.0, 19.0, 7.0, 13.0, 14.0, 18.0, 28.0, 25.0, 18.0, 25.0, 17.0, 23.0, 24.0, 11.0, 26.0, 19.0, 17.0, 15.0, 11.0, 18.0, 8.0, 21.0, 27.0, 25.0, 20.0, 17.0, 22.0, 8.0, 6.0, 27.0, 14.0, 22.0]\n"
     ]
    }
   ],
   "source": [
    "import random\n",
    "import numpy as np\n",
    "\n",
    "# Set a random seed for reproducibility\n",
    "# Setting random seed to 123 for consistent, deterministic generation of recovery times across groups.\n",
    "random.seed(123)  # You can use any integer as the seed\n",
    "\n",
    "# Create an empty list to store the recovery times\n",
    "M1_data = []\n",
    "\n",
    "# Generate 100 random recovery times\n",
    "# The underscore _ in the loop is a placeholder, signifying indifference to the counter value and solely focusing on executing the code block 100 times.\n",
    "for _ in range(100):\n",
    "    recovery_time = random.uniform(5.0, 20.0)  # Generating values between 5 and 20\n",
    "    M1_data.append(np.round(recovery_time,0)) # Rounding recovery time to whole numbers\n",
    "\n",
    "# Print the generated data\n",
    "print(\"M1_data:\",M1_data)\n",
    "\n",
    "# Create an empty list to store the recovery times\n",
    "M2_data = []\n",
    "\n",
    "# Generate 90 random recovery times\n",
    "for _ in range(90):\n",
    "    recovery_time = random.uniform(5.0, 30.0) # Generating values between 5 and 30\n",
    "    M2_data.append(np.round(recovery_time,0)) # Rounding recovery time to whole numbers\n",
    "\n",
    "# Print the generated data\n",
    "print(\"M2_data:\",M2_data)"
   ]
  },
  {
   "cell_type": "code",
   "execution_count": null,
   "metadata": {},
   "outputs": [],
   "source": []
  },
  {
   "cell_type": "code",
   "execution_count": null,
   "metadata": {},
   "outputs": [],
   "source": []
  },
  {
   "cell_type": "code",
   "execution_count": null,
   "metadata": {
    "id": "hTIMwvpIcRuP"
   },
   "outputs": [],
   "source": [
    "# import a library to perform a Z-test\n",
    "from statsmodels.stats import weightstats as stests\n",
    "from scipy import stats"
   ]
  },
  {
   "cell_type": "code",
   "execution_count": null,
   "metadata": {
    "colab": {
     "base_uri": "https://localhost:8080/"
    },
    "id": "rhPtdD1NcViU",
    "outputId": "a5e6f006-fa6e-40d8-b847-29409bbf71fa"
   },
   "outputs": [
    {
     "name": "stdout",
     "output_type": "stream",
     "text": [
      "Z-score:  -7.68917478890992\n",
      "p-value:  1.4808703984296164e-14\n"
     ]
    }
   ],
   "source": [
    "z_score, pval = stests.ztest(x1 = M1_data, x2 = M2_data, value = 0, alternative = 'two-sided')\n",
    "\n",
    "# print the test statistic and corresponding p-value\n",
    "print(\"Z-score: \", z_score)\n",
    "print(\"p-value: \", pval)"
   ]
  },
  {
   "cell_type": "code",
   "execution_count": null,
   "metadata": {
    "id": "kYGjHYHhdbf5"
   },
   "outputs": [],
   "source": [
    "mean1=2.5\n",
    "mean2=3.0\n",
    "std1=1\n",
    "std2=0.9\n",
    "n1=20\n",
    "n2=90\n",
    "\n",
    "\n",
    "z_score=(mean1-mean2)/((std1**2/n1+std2**2/n2)**0.5)\n",
    "\n",
    "\n",
    "\n"
   ]
  },
  {
   "cell_type": "code",
   "execution_count": null,
   "metadata": {
    "id": "vmGYavgce6XY"
   },
   "outputs": [],
   "source": [
    "z=1.2\n",
    "1-norm.cdf(z)"
   ]
  },
  {
   "cell_type": "code",
   "execution_count": null,
   "metadata": {
    "id": "yyfsr4rde6hi"
   },
   "outputs": [],
   "source": [
    "from scipy import stats\n"
   ]
  },
  {
   "cell_type": "code",
   "execution_count": null,
   "metadata": {
    "colab": {
     "base_uri": "https://localhost:8080/"
    },
    "id": "RepAc-cXfMat",
    "outputId": "3dd215a8-29cc-4dde-aca3-9ee19aa34e22"
   },
   "outputs": [
    {
     "data": {
      "text/plain": [
       "0.980227357376159"
      ]
     },
     "execution_count": 8,
     "metadata": {},
     "output_type": "execute_result"
    }
   ],
   "source": [
    "1-stats.norm.cdf(z_score)"
   ]
  },
  {
   "cell_type": "code",
   "execution_count": 2,
   "metadata": {
    "id": "Bn-1tSjcfQ59"
   },
   "outputs": [
    {
     "name": "stdout",
     "output_type": "stream",
     "text": [
      "Defaulting to user installation because normal site-packages is not writeable\n",
      "Collecting statsmodels\n",
      "  Downloading statsmodels-0.14.1-cp310-cp310-manylinux_2_17_x86_64.manylinux2014_x86_64.whl (10.8 MB)\n",
      "\u001b[2K     \u001b[38;2;114;156;31m━━━━━━━━━━━━━━━━━━━━━━━━━━━━━━━━━━━━━━━━\u001b[0m \u001b[32m10.8/10.8 MB\u001b[0m \u001b[31m5.8 MB/s\u001b[0m eta \u001b[36m0:00:00\u001b[0mm eta \u001b[36m0:00:01\u001b[0m0:01\u001b[0m01\u001b[0m\n",
      "\u001b[?25hRequirement already satisfied: numpy<2,>=1.18 in /home/thivakaranb/.local/lib/python3.10/site-packages (from statsmodels) (1.26.2)\n",
      "Requirement already satisfied: pandas!=2.1.0,>=1.0 in /home/thivakaranb/.local/lib/python3.10/site-packages (from statsmodels) (2.1.3)\n",
      "Requirement already satisfied: scipy!=1.9.2,>=1.4 in /home/thivakaranb/.local/lib/python3.10/site-packages (from statsmodels) (1.12.0)\n",
      "Requirement already satisfied: packaging>=21.3 in /home/thivakaranb/.local/lib/python3.10/site-packages (from statsmodels) (23.2)\n",
      "Collecting patsy>=0.5.4\n",
      "  Downloading patsy-0.5.6-py2.py3-none-any.whl (233 kB)\n",
      "\u001b[2K     \u001b[38;2;114;156;31m━━━━━━━━━━━━━━━━━━━━━━━━━━━━━━━━━━━━━━━\u001b[0m \u001b[32m233.9/233.9 KB\u001b[0m \u001b[31m5.2 MB/s\u001b[0m eta \u001b[36m0:00:00\u001b[0m MB/s\u001b[0m eta \u001b[36m0:00:01\u001b[0m\n",
      "\u001b[?25hRequirement already satisfied: pytz>=2020.1 in /usr/lib/python3/dist-packages (from pandas!=2.1.0,>=1.0->statsmodels) (2022.1)\n",
      "Requirement already satisfied: python-dateutil>=2.8.2 in /home/thivakaranb/.local/lib/python3.10/site-packages (from pandas!=2.1.0,>=1.0->statsmodels) (2.8.2)\n",
      "Requirement already satisfied: tzdata>=2022.1 in /home/thivakaranb/.local/lib/python3.10/site-packages (from pandas!=2.1.0,>=1.0->statsmodels) (2023.3)\n",
      "Requirement already satisfied: six in /usr/lib/python3/dist-packages (from patsy>=0.5.4->statsmodels) (1.16.0)\n",
      "Installing collected packages: patsy, statsmodels\n",
      "Successfully installed patsy-0.5.6 statsmodels-0.14.1\n"
     ]
    }
   ],
   "source": [
    "!pip install statsmodels"
   ]
  },
  {
   "cell_type": "code",
   "execution_count": null,
   "metadata": {
    "id": "QuVtXLuYhxro"
   },
   "outputs": [],
   "source": []
  },
  {
   "cell_type": "code",
   "execution_count": null,
   "metadata": {
    "colab": {
     "base_uri": "https://localhost:8080/"
    },
    "id": "ccY-Obn-hx1A",
    "outputId": "2acdf089-b25b-4af6-879f-d8c3a827976e"
   },
   "outputs": [
    {
     "name": "stdout",
     "output_type": "stream",
     "text": [
      "Z-score:  -2.029994857352875\n",
      "p-value:  0.042357062026854894\n"
     ]
    }
   ],
   "source": [
    "z_score, pval = stests.ztest(x1 = [14, 16, 13, 17, 12, 18], x2 = [18, 19, 16, 17, 15, 20], value = 0, alternative = 'two-sided')\n",
    "print(\"Z-score: \", z_score)\n",
    "print(\"p-value: \", pval)"
   ]
  },
  {
   "cell_type": "code",
   "execution_count": null,
   "metadata": {
    "colab": {
     "base_uri": "https://localhost:8080/"
    },
    "id": "Ld9W9mJ3h9kC",
    "outputId": "dbc454a2-d3ea-4a78-ea57-a72427878e02"
   },
   "outputs": [
    {
     "data": {
      "text/plain": [
       "6.270800040031332e-05"
      ]
     },
     "execution_count": 12,
     "metadata": {},
     "output_type": "execute_result"
    }
   ],
   "source": [
    "n=120\n",
    "liked=80\n",
    "p_hat=liked/n\n",
    "p=0.81\n",
    "\n",
    "\n",
    "z= (80/120-0.81)/(0.81*0.19/120)**0.5\n",
    "\n",
    "p_value=2*(1-stats.norm.cdf(abs(z)))\n",
    "p_value"
   ]
  },
  {
   "cell_type": "code",
   "execution_count": 3,
   "metadata": {
    "id": "tZybQYGrlzz2"
   },
   "outputs": [
    {
     "ename": "SyntaxError",
     "evalue": "invalid syntax (1994020180.py, line 1)",
     "output_type": "error",
     "traceback": [
      "\u001b[0;36m  Cell \u001b[0;32mIn[3], line 1\u001b[0;36m\u001b[0m\n\u001b[0;31m    z=(243.5-300)/\u001b[0m\n\u001b[0m                  ^\u001b[0m\n\u001b[0;31mSyntaxError\u001b[0m\u001b[0;31m:\u001b[0m invalid syntax\n"
     ]
    }
   ],
   "source": [
    "z=(243.5-300)/\n",
    "\n"
   ]
  },
  {
   "cell_type": "code",
   "execution_count": 4,
   "metadata": {},
   "outputs": [],
   "source": [
    "a=[15, 18, 20, 17, 16, 19, 22, 16, 18, 21]"
   ]
  },
  {
   "cell_type": "code",
   "execution_count": 5,
   "metadata": {},
   "outputs": [],
   "source": [
    "b=[14, 17, 19, 16, 15, 18, 21, 15, 17, 20]"
   ]
  },
  {
   "cell_type": "code",
   "execution_count": 8,
   "metadata": {},
   "outputs": [
    {
     "name": "stdout",
     "output_type": "stream",
     "text": [
      "Z-score:  0.9723055853282467\n",
      "p-value:  0.3308985460287246\n"
     ]
    }
   ],
   "source": [
    "z_score, pval = stests.ztest(x1 = a, x2 = b, value = 0, alternative = 'two-sided')\n",
    "print(\"Z-score: \", z_score)\n",
    "print(\"p-value: \", pval)"
   ]
  },
  {
   "cell_type": "code",
   "execution_count": null,
   "metadata": {},
   "outputs": [],
   "source": []
  }
 ],
 "metadata": {
  "colab": {
   "provenance": []
  },
  "kernelspec": {
   "display_name": "Python 3 (ipykernel)",
   "language": "python",
   "name": "python3"
  },
  "language_info": {
   "codemirror_mode": {
    "name": "ipython",
    "version": 3
   },
   "file_extension": ".py",
   "mimetype": "text/x-python",
   "name": "python",
   "nbconvert_exporter": "python",
   "pygments_lexer": "ipython3",
   "version": "3.10.12"
  }
 },
 "nbformat": 4,
 "nbformat_minor": 4
}
