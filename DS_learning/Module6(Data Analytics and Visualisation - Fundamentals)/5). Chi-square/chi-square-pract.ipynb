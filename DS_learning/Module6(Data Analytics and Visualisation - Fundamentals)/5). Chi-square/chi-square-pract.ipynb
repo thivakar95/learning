{
 "cells": [
  {
   "cell_type": "code",
   "execution_count": 1,
   "id": "07a8ab6b-bd77-46f7-8696-f22645ff0206",
   "metadata": {},
   "outputs": [],
   "source": [
    "from scipy.stats import chi2\n",
    "from scipy.stats import chisquare\n",
    "from scipy.stats import chi2_contingency"
   ]
  },
  {
   "cell_type": "code",
   "execution_count": 5,
   "id": "74ba626d-460d-4a39-ae47-dbc236c9ba6d",
   "metadata": {},
   "outputs": [
    {
     "data": {
      "text/plain": [
       "Chi2ContingencyResult(statistic=94.26880078578765, pvalue=3.925170647869838e-18, dof=6, expected_freq=array([[117.86681716, 390.55869074,  47.61286682,  33.96162528],\n",
       "       [191.18397291, 633.49943567,  77.22968397,  55.08690745],\n",
       "       [ 44.94920993, 148.94187359,  18.15744921,  12.95146727]]))"
      ]
     },
     "execution_count": 5,
     "metadata": {},
     "output_type": "execute_result"
    }
   ],
   "source": [
    "observed_valu=[[67,411,85,27],[213,633,51,60],[74,129,7,15]]\n",
    "chi2_contingency(observed_valu)"
   ]
  },
  {
   "cell_type": "code",
   "execution_count": 6,
   "id": "d94989b1-8883-4799-b975-775f6ba542c7",
   "metadata": {},
   "outputs": [
    {
     "data": {
      "text/plain": [
       "Chi2ContingencyResult(statistic=60.74604310295546, pvalue=2.0217185191724964e-12, dof=4, expected_freq=array([[22.92576419, 14.97816594, 32.09606987],\n",
       "       [38.97379913, 25.4628821 , 54.56331878],\n",
       "       [13.10043668,  8.55895197, 18.34061135]]))"
      ]
     },
     "execution_count": 6,
     "metadata": {},
     "output_type": "execute_result"
    }
   ],
   "source": [
    "observed_valu=[[6,14,50],[38,31,50],[31,4,5]]\n",
    "chi2_contingency(observed_valu)"
   ]
  },
  {
   "cell_type": "code",
   "execution_count": 7,
   "id": "47d03549-75c8-4302-ab80-76f29fe89d46",
   "metadata": {},
   "outputs": [
    {
     "data": {
      "text/plain": [
       "Chi2ContingencyResult(statistic=15.727554171801787, pvalue=0.015293451318673136, dof=6, expected_freq=array([[ 70.55988593, 101.95437262, 103.50855513,  50.97718631],\n",
       "       [119.11026616, 172.10646388, 174.73003802,  86.05323194],\n",
       "       [ 37.32984791,  53.9391635 ,  54.76140684,  26.96958175]]))"
      ]
     },
     "execution_count": 7,
     "metadata": {},
     "output_type": "execute_result"
    }
   ],
   "source": [
    "observed_valu=[[75,106,98,48],[106,161,183,102],[46,61,52,14]]\n",
    "chi2_contingency(observed_valu)"
   ]
  },
  {
   "cell_type": "code",
   "execution_count": 8,
   "id": "8ba5c7a8-40fc-4bbd-bb0f-34b246137f20",
   "metadata": {},
   "outputs": [
    {
     "data": {
      "text/plain": [
       "Chi2ContingencyResult(statistic=17.511868472717133, pvalue=0.0005545115713555298, dof=3, expected_freq=array([[ 18.73134328,  30.89552239,  30.82089552,  14.55223881],\n",
       "       [232.26865672, 383.10447761, 382.17910448, 180.44776119]]))"
      ]
     },
     "execution_count": 8,
     "metadata": {},
     "output_type": "execute_result"
    }
   ],
   "source": [
    "observed_valu=[[33,25,20,17],[218,389,393,178]]\n",
    "chi2_contingency(observed_valu)"
   ]
  },
  {
   "cell_type": "code",
   "execution_count": 9,
   "id": "7976132e-e4d5-4415-937c-334333cc7f26",
   "metadata": {},
   "outputs": [
    {
     "data": {
      "text/plain": [
       "Chi2ContingencyResult(statistic=11.519544916042339, pvalue=0.003151828690194211, dof=2, expected_freq=array([[333.96753832,  36.03246168],\n",
       "       [334.87015329,  36.12984671],\n",
       "       [332.16230839,  35.83769161]]))"
      ]
     },
     "execution_count": 9,
     "metadata": {},
     "output_type": "execute_result"
    }
   ],
   "source": [
    "observed_valu=[[335,35],[348,23],[318,50]]\n",
    "chi2_contingency(observed_valu)"
   ]
  },
  {
   "cell_type": "code",
   "execution_count": 13,
   "id": "395a6967-3e24-4054-b54b-8e57a5029678",
   "metadata": {},
   "outputs": [
    {
     "data": {
      "text/plain": [
       "Chi2ContingencyResult(statistic=0.0, pvalue=1.0, dof=0, expected_freq=array([48., 52.]))"
      ]
     },
     "execution_count": 13,
     "metadata": {},
     "output_type": "execute_result"
    }
   ],
   "source": [
    "observed_valu=[48,52]\n",
    "chi2_contingency(observed_valu)"
   ]
  },
  {
   "cell_type": "code",
   "execution_count": 19,
   "id": "5e537be6-983e-4c87-bef8-d2bb6f2562f0",
   "metadata": {},
   "outputs": [
    {
     "data": {
      "text/plain": [
       "0.6891565167793516"
      ]
     },
     "execution_count": 19,
     "metadata": {},
     "output_type": "execute_result"
    }
   ],
   "source": [
    "1-chi2.cdf(0.16,df=1)"
   ]
  },
  {
   "cell_type": "code",
   "execution_count": 20,
   "id": "c71174a7-097e-4fd7-9250-56b73952ac8f",
   "metadata": {},
   "outputs": [
    {
     "data": {
      "text/plain": [
       "Chi2ContingencyResult(statistic=1.9090909090909092, pvalue=0.3849870989234836, dof=2, expected_freq=array([[45., 55., 50.],\n",
       "       [45., 55., 50.]]))"
      ]
     },
     "execution_count": 20,
     "metadata": {},
     "output_type": "execute_result"
    }
   ],
   "source": [
    "observed_valu=[[45,60,45],[45,50,55]]\n",
    "chi2_contingency(observed_valu)"
   ]
  },
  {
   "cell_type": "code",
   "execution_count": 22,
   "id": "d0fc3662-630e-4afe-9ef5-fbfa848f4b51",
   "metadata": {},
   "outputs": [
    {
     "data": {
      "text/plain": [
       "0.13041938272582843"
      ]
     },
     "execution_count": 22,
     "metadata": {},
     "output_type": "execute_result"
    }
   ],
   "source": [
    "1-chi2.cdf(4.074,df=2)"
   ]
  },
  {
   "cell_type": "code",
   "execution_count": 23,
   "id": "512ccc94-d7e3-41c6-8ee3-9eaa8fb0e871",
   "metadata": {},
   "outputs": [
    {
     "name": "stdout",
     "output_type": "stream",
     "text": [
      "Chi-square statistic: 0.0\n",
      "p-value: 1.0\n",
      "Degrees of freedom: 0\n",
      "Expected frequencies: [[45. 50. 55.]]\n"
     ]
    }
   ],
   "source": [
    "from scipy.stats import chi2_contingency\n",
    "\n",
    "# Define the observed frequencies\n",
    "observed = [[45, 50, 55]]\n",
    "\n",
    "# Perform the chi-square test\n",
    "chi2_stat, p_val, dof, expected = chi2_contingency(observed)\n",
    "\n",
    "print(\"Chi-square statistic:\", chi2_stat)\n",
    "print(\"p-value:\", p_val)\n",
    "print(\"Degrees of freedom:\", dof)\n",
    "print(\"Expected frequencies:\", expected)\n"
   ]
  },
  {
   "cell_type": "code",
   "execution_count": 2,
   "id": "9d3f46a0-c7aa-4316-ad64-bf3915ef3e29",
   "metadata": {},
   "outputs": [
    {
     "data": {
      "text/plain": [
       "Chi2ContingencyResult(statistic=1.6783216783216783, pvalue=0.4320729500400361, dof=2, expected_freq=array([[65., 80., 55.],\n",
       "       [65., 80., 55.]]))"
      ]
     },
     "execution_count": 2,
     "metadata": {},
     "output_type": "execute_result"
    }
   ],
   "source": [
    "observed_valu=[[60,80,60],[70,80,50]]\n",
    "chi2_contingency(observed_valu)"
   ]
  },
  {
   "cell_type": "code",
   "execution_count": 4,
   "id": "2c778886-918a-44c8-853b-5dc4c2ebba9d",
   "metadata": {},
   "outputs": [
    {
     "data": {
      "text/plain": [
       "Power_divergenceResult(statistic=3.428571428571429, pvalue=0.18009231214795238)"
      ]
     },
     "execution_count": 4,
     "metadata": {},
     "output_type": "execute_result"
    }
   ],
   "source": [
    "chisquare([60,80,60],[70,80,50])"
   ]
  },
  {
   "cell_type": "code",
   "execution_count": 5,
   "id": "61d03bfa-c29c-404e-93f6-f3d223b92731",
   "metadata": {},
   "outputs": [
    {
     "data": {
      "text/plain": [
       "Power_divergenceResult(statistic=13.333333333333332, pvalue=0.0012726338013398094)"
      ]
     },
     "execution_count": 5,
     "metadata": {},
     "output_type": "execute_result"
    }
   ],
   "source": [
    "chisquare([40,100,60],[30,85,85])"
   ]
  },
  {
   "cell_type": "code",
   "execution_count": 6,
   "id": "6fb1b676-921e-4326-bd50-b39ea5cf9d4a",
   "metadata": {},
   "outputs": [
    {
     "data": {
      "text/plain": [
       "Chi2ContingencyResult(statistic=6.955132472373851, pvalue=0.030882480308286015, dof=2, expected_freq=array([[35. , 92.5, 72.5],\n",
       "       [35. , 92.5, 72.5]]))"
      ]
     },
     "execution_count": 6,
     "metadata": {},
     "output_type": "execute_result"
    }
   ],
   "source": [
    "observed_valu=[[40,100,60],[30,85,85]]\n",
    "chi2_contingency(observed_valu)"
   ]
  },
  {
   "cell_type": "code",
   "execution_count": null,
   "id": "b9245db9-dc3a-49e0-882a-5aaab8f4f994",
   "metadata": {},
   "outputs": [],
   "source": []
  }
 ],
 "metadata": {
  "kernelspec": {
   "display_name": "Python 3 (ipykernel)",
   "language": "python",
   "name": "python3"
  },
  "language_info": {
   "codemirror_mode": {
    "name": "ipython",
    "version": 3
   },
   "file_extension": ".py",
   "mimetype": "text/x-python",
   "name": "python",
   "nbconvert_exporter": "python",
   "pygments_lexer": "ipython3",
   "version": "3.10.12"
  }
 },
 "nbformat": 4,
 "nbformat_minor": 5
}
