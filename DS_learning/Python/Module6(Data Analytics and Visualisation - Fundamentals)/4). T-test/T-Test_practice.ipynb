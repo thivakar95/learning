{
 "cells": [
  {
   "cell_type": "code",
   "execution_count": 1,
   "id": "a647c718-bcab-4546-a330-a327c4084683",
   "metadata": {},
   "outputs": [
    {
     "name": "stdout",
     "output_type": "stream",
     "text": [
      "total 10196\n",
      "-rw-rw-r-- 1 thivakaranb 10259238 Feb  3 15:25 T_Test_Class.pdf\n",
      "-rw-rw-r-- 1 thivakaranb   175173 Feb  3 15:26 T_Test.ipynb\n",
      "-rw-rw-r-- 1 thivakaranb       72 Feb  3 16:50 T-Test_practice.ipynb\n"
     ]
    }
   ],
   "source": [
    "ll"
   ]
  },
  {
   "cell_type": "code",
   "execution_count": 1,
   "id": "ab0be572-9bdb-4515-9270-4dfac1d5a66e",
   "metadata": {},
   "outputs": [],
   "source": [
    "from scipy.stats import ttest_1samp\n",
    "from scipy.stats import ttest_ind\n",
    "from scipy.stats import ttest_rel\n",
    "import numpy as np\n",
    "import pandas as pd"
   ]
  },
  {
   "cell_type": "code",
   "execution_count": 8,
   "id": "0022ab8c-c183-41cf-a48f-a1cff2fe4492",
   "metadata": {},
   "outputs": [],
   "source": [
    "sample1=np.array([14.3,12.6,13.7,10.9,13.7,12.0,11.4,12.0,12.6,13.1])"
   ]
  },
  {
   "cell_type": "code",
   "execution_count": 9,
   "id": "8aa17200-021a-4c35-b627-d21b7f4ca08f",
   "metadata": {},
   "outputs": [
    {
     "data": {
      "text/plain": [
       "TtestResult(statistic=7.663083996297316, pvalue=3.116299449635414e-05, df=9)"
      ]
     },
     "execution_count": 9,
     "metadata": {},
     "output_type": "execute_result"
    }
   ],
   "source": [
    "ttest_1samp(sample1,10)"
   ]
  },
  {
   "cell_type": "code",
   "execution_count": 15,
   "id": "03cce5d7-de30-4ab4-8c39-26c393cc44f8",
   "metadata": {},
   "outputs": [
    {
     "data": {
      "text/plain": [
       "12.629999999999999"
      ]
     },
     "execution_count": 15,
     "metadata": {},
     "output_type": "execute_result"
    }
   ],
   "source": [
    "sample1.mean()"
   ]
  },
  {
   "cell_type": "code",
   "execution_count": 17,
   "id": "324a6cdb-346f-4f46-b01f-3cb0c1ca10a3",
   "metadata": {},
   "outputs": [
    {
     "data": {
      "text/plain": [
       "TtestResult(statistic=1.8356436949305335, pvalue=0.04979938002326665, df=9)"
      ]
     },
     "execution_count": 17,
     "metadata": {},
     "output_type": "execute_result"
    }
   ],
   "source": [
    "ttest_1samp(sample1, 12.0, alternative = \"greater\")\n"
   ]
  },
  {
   "cell_type": "code",
   "execution_count": 28,
   "id": "10a9e13c-093c-4712-a33f-c41fdc2991e2",
   "metadata": {},
   "outputs": [],
   "source": [
    "men = np.array([13.3, 6.0, 20.0, 8.0, 14.0, 19.0, 18.0, 25.0, 16.0, 24.0, 15.0, 1.0, 15.0])\n",
    "women = np.array([22.0, 16.0, 21.7, 21.0, 30.0, 26.0, 12.0, 23.2, 28.0, 23.0])"
   ]
  },
  {
   "cell_type": "code",
   "execution_count": 29,
   "id": "e346118e-bc09-4526-acd0-60b34750415a",
   "metadata": {},
   "outputs": [
    {
     "data": {
      "text/plain": [
       "(14.946153846153846, 22.29)"
      ]
     },
     "execution_count": 29,
     "metadata": {},
     "output_type": "execute_result"
    }
   ],
   "source": [
    "men.mean(),women.mean()"
   ]
  },
  {
   "cell_type": "code",
   "execution_count": 32,
   "id": "5b52585d-8e67-4be2-b1d0-807aac4bf7a7",
   "metadata": {},
   "outputs": [
    {
     "data": {
      "text/plain": [
       "(13, 10)"
      ]
     },
     "execution_count": 32,
     "metadata": {},
     "output_type": "execute_result"
    }
   ],
   "source": [
    "np.count_nonzero(men),np.count_nonzero(women)"
   ]
  },
  {
   "cell_type": "code",
   "execution_count": 34,
   "id": "66e94e09-84cc-426c-8b4a-054413b5dd02",
   "metadata": {},
   "outputs": [
    {
     "data": {
      "text/plain": [
       "TtestResult(statistic=-2.799960442832919, pvalue=0.994634696047901, df=21.0)"
      ]
     },
     "execution_count": 34,
     "metadata": {},
     "output_type": "execute_result"
    }
   ],
   "source": [
    "ttest_ind(men,women,alternative='greater')"
   ]
  },
  {
   "cell_type": "code",
   "execution_count": 35,
   "id": "bbe944da-ff02-425f-9ec4-69aac2752c65",
   "metadata": {},
   "outputs": [
    {
     "data": {
      "text/plain": [
       "TtestResult(statistic=-2.799960442832919, pvalue=0.005365303952098979, df=21.0)"
      ]
     },
     "execution_count": 35,
     "metadata": {},
     "output_type": "execute_result"
    }
   ],
   "source": [
    "ttest_ind(men,women,alternative='less')"
   ]
  },
  {
   "cell_type": "code",
   "execution_count": 39,
   "id": "48141319-bce4-4ba8-8c23-eb007b221350",
   "metadata": {},
   "outputs": [
    {
     "data": {
      "text/plain": [
       "TtestResult(statistic=-2.799960442832919, pvalue=0.010730607904197957, df=21.0)"
      ]
     },
     "execution_count": 39,
     "metadata": {},
     "output_type": "execute_result"
    }
   ],
   "source": [
    "ttest_ind(men,women)"
   ]
  },
  {
   "cell_type": "code",
   "execution_count": 42,
   "id": "649e6b6c-8819-4d4f-bca2-bb4b998a8e19",
   "metadata": {},
   "outputs": [
    {
     "data": {
      "text/plain": [
       "199.48888888888888"
      ]
     },
     "execution_count": 42,
     "metadata": {},
     "output_type": "execute_result"
    }
   ],
   "source": [
    "data = np.array([193, 321, 222, 158, 176, 149, 154, 223, 233, 177, 280, 244, 138, 210, 167, 129, 254, 167, 194, 191, 128, 191, 144, 184, 330, 216, 212, 142, 216, 197, 231, 133, 205, 192, 195, 243, 224, 137, 234, 171, 176, 249, 222, 234, 191])\n",
    "\n",
    "data.mean()"
   ]
  },
  {
   "cell_type": "code",
   "execution_count": 43,
   "id": "485282d0-5a58-42d1-a387-bf065b06923f",
   "metadata": {},
   "outputs": [
    {
     "data": {
      "text/plain": [
       "TtestResult(statistic=1.3689029903414232, pvalue=0.08898891556150607, df=44)"
      ]
     },
     "execution_count": 43,
     "metadata": {},
     "output_type": "execute_result"
    }
   ],
   "source": [
    "ttest_1samp(data, 190, alternative = \"greater\")"
   ]
  },
  {
   "cell_type": "code",
   "execution_count": 44,
   "id": "8b941504-93ca-4019-86de-33309e9fe388",
   "metadata": {},
   "outputs": [
    {
     "data": {
      "text/plain": [
       "TtestResult(statistic=1.3689029903414232, pvalue=0.911011084438494, df=44)"
      ]
     },
     "execution_count": 44,
     "metadata": {},
     "output_type": "execute_result"
    }
   ],
   "source": [
    "ttest_1samp(data, 190, alternative = \"less\")"
   ]
  },
  {
   "cell_type": "code",
   "execution_count": 46,
   "id": "11c77600-836f-4664-993f-0b51524a0609",
   "metadata": {},
   "outputs": [
    {
     "name": "stdout",
     "output_type": "stream",
     "text": [
      "t-statistic: 1.3689029903414232\n",
      "p-value: 0.17797783112301213\n",
      "Critical t-value: 1.3010900592786294\n",
      "Reject the null hypothesis. There is enough evidence to support the claim that the mean calcium content is greater than 190 mg per 500 ml packet.\n"
     ]
    }
   ],
   "source": [
    "from scipy.stats import ttest_1samp\n",
    "from scipy import stats\n",
    "\n",
    "data = [193, 321, 222, 158, 176, 149, 154, 223, 233, 177, 280, 244, 138, 210, 167, 129, 254, 167, 194, 191, 128, 191, 144, 184, 330, 216, 212, 142, 216, 197, 231, 133, 205, 192, 195, 243, 224, 137, 234, 171, 176, 249, 222, 234, 191]\n",
    "\n",
    "# Given mean under null hypothesis\n",
    "mu_0 = 190\n",
    "\n",
    "# Perform one-sample t-test\n",
    "t_statistic, p_value = ttest_1samp(data, mu_0)\n",
    "\n",
    "# Define the confidence level\n",
    "confidence_level = 0.90\n",
    "\n",
    "# Calculate the critical t-value\n",
    "alpha = 1 - confidence_level\n",
    "df = len(data) - 1\n",
    "t_critical = stats.t.ppf(1 - alpha, df)\n",
    "\n",
    "# Print results\n",
    "print(\"t-statistic:\", t_statistic)\n",
    "print(\"p-value:\", p_value)\n",
    "print(\"Critical t-value:\", t_critical)\n",
    "\n",
    "# Compare t-statistic with critical t-value\n",
    "if t_statistic > t_critical:\n",
    "    print(\"Reject the null hypothesis. There is enough evidence to support the claim that the mean calcium content is greater than 190 mg per 500 ml packet.\")\n",
    "else:\n",
    "    print(\"Fail to reject the null hypothesis. There is not enough evidence to support the claim that the mean calcium content is greater than 190 mg per 500 ml packet.\")\n"
   ]
  },
  {
   "cell_type": "code",
   "execution_count": 47,
   "id": "3983ce97-37ca-4a55-9a83-9c6a3e50c526",
   "metadata": {},
   "outputs": [],
   "source": [
    "female_scores=np.array([25,30,45,49,47,35,32,42])\n",
    "\n",
    "male_scores=np.array([45,47,25,22,29,32,27,28,40,49,50,33])"
   ]
  },
  {
   "cell_type": "code",
   "execution_count": 48,
   "id": "9eaff65f-0c7c-4c37-ae08-d0127c06fb47",
   "metadata": {},
   "outputs": [
    {
     "data": {
      "text/plain": [
       "TtestResult(statistic=0.5795450171026676, pvalue=0.2847023809445894, df=18.0)"
      ]
     },
     "execution_count": 48,
     "metadata": {},
     "output_type": "execute_result"
    }
   ],
   "source": [
    "ttest_ind(female_scores,male_scores,alternative='greater')"
   ]
  },
  {
   "cell_type": "code",
   "execution_count": 49,
   "id": "184a0d04-c3fb-40c9-9196-e45c1b7fce7a",
   "metadata": {},
   "outputs": [],
   "source": [
    "Ammonium_chloride = [13.4, 10.9, 11.2, 11.8, 14, 15.3, 14.2, 12.6, 17, 16.2, 16.5, 15.7]\n",
    "Urea = [12, 11.7, 10.7, 11.2, 14.8, 14.4, 13.9, 13.7, 16.9, 16, 15.6, 16]"
   ]
  },
  {
   "cell_type": "code",
   "execution_count": 50,
   "id": "add83754-d3f2-4f36-98f0-232e67b9a6c5",
   "metadata": {},
   "outputs": [
    {
     "data": {
      "text/plain": [
       "TtestResult(statistic=0.7075969765876665, pvalue=0.49391510386646675, df=11)"
      ]
     },
     "execution_count": 50,
     "metadata": {},
     "output_type": "execute_result"
    }
   ],
   "source": [
    "ttest_rel(Ammonium_chloride,Urea)"
   ]
  },
  {
   "cell_type": "code",
   "execution_count": 51,
   "id": "ac74e039-3f8c-466c-bd37-c64ed2843643",
   "metadata": {},
   "outputs": [
    {
     "name": "stdout",
     "output_type": "stream",
     "text": [
      "t-statistic: 0.1846496543760765\n",
      "p-value: 0.8551954147800473\n",
      "Critical t-value: 2.0738730679040147\n",
      "Fail to reject the null hypothesis. There is not enough evidence to conclude that there is a significant difference in the effectiveness of Ammonium Chloride and Urea on grain yield.\n"
     ]
    }
   ],
   "source": [
    "from scipy.stats import ttest_ind\n",
    "\n",
    "# Grain yield data\n",
    "Ammonium_chloride = [13.4, 10.9, 11.2, 11.8, 14, 15.3, 14.2, 12.6, 17, 16.2, 16.5, 15.7]\n",
    "Urea = [12, 11.7, 10.7, 11.2, 14.8, 14.4, 13.9, 13.7, 16.9, 16, 15.6, 16]\n",
    "\n",
    "# Perform independent samples t-test\n",
    "t_statistic, p_value = ttest_ind(Ammonium_chloride, Urea)\n",
    "\n",
    "# Define the confidence level\n",
    "confidence_level = 0.95\n",
    "\n",
    "# Calculate degrees of freedom\n",
    "df = len(Ammonium_chloride) + len(Urea) - 2\n",
    "\n",
    "# Calculate the critical t-value\n",
    "alpha = 1 - confidence_level\n",
    "t_critical = stats.t.ppf(1 - alpha / 2, df)  # two-tailed test\n",
    "\n",
    "# Print results\n",
    "print(\"t-statistic:\", t_statistic)\n",
    "print(\"p-value:\", p_value)\n",
    "print(\"Critical t-value:\", t_critical)\n",
    "\n",
    "# Compare p-value with alpha\n",
    "if p_value < alpha:\n",
    "    print(\"Reject the null hypothesis. There is enough evidence to conclude that there is a significant difference in the effectiveness of Ammonium Chloride and Urea on grain yield.\")\n",
    "else:\n",
    "    print(\"Fail to reject the null hypothesis. There is not enough evidence to conclude that there is a significant difference in the effectiveness of Ammonium Chloride and Urea on grain yield.\")\n"
   ]
  },
  {
   "cell_type": "code",
   "execution_count": 52,
   "id": "135d1bf4-f9d0-4746-928f-4cd0c1291051",
   "metadata": {},
   "outputs": [],
   "source": [
    "wt_before = [85, 74, 63.5, 69.4, 71.6, 65,90,78]\n",
    "\n",
    "wt_after = [82, 71, 64, 65.2, 67.8, 64.7,95,77]"
   ]
  },
  {
   "cell_type": "code",
   "execution_count": 56,
   "id": "ae6242e7-6591-4d9c-8e21-4aacff26666e",
   "metadata": {},
   "outputs": [
    {
     "ename": "AxisError",
     "evalue": "`axis` is out of bounds for array of dimension 1",
     "output_type": "error",
     "traceback": [
      "\u001b[0;31m---------------------------------------------------------------------------\u001b[0m",
      "\u001b[0;31mAxisError\u001b[0m                                 Traceback (most recent call last)",
      "Cell \u001b[0;32mIn[56], line 1\u001b[0m\n\u001b[0;32m----> 1\u001b[0m \u001b[43mttest_ind\u001b[49m\u001b[43m(\u001b[49m\u001b[43mwt_before\u001b[49m\u001b[43m,\u001b[49m\u001b[43mwt_after\u001b[49m\u001b[43m,\u001b[49m\u001b[38;5;241;43m8\u001b[39;49m\u001b[43m)\u001b[49m\n",
      "File \u001b[0;32m~/.local/lib/python3.10/site-packages/scipy/stats/_axis_nan_policy.py:483\u001b[0m, in \u001b[0;36m_axis_nan_policy_factory.<locals>.axis_nan_policy_decorator.<locals>.axis_nan_policy_wrapper\u001b[0;34m(***failed resolving arguments***)\u001b[0m\n\u001b[1;32m    481\u001b[0m     samples \u001b[38;5;241m=\u001b[39m [np\u001b[38;5;241m.\u001b[39masarray(sample\u001b[38;5;241m.\u001b[39mravel()) \u001b[38;5;28;01mfor\u001b[39;00m sample \u001b[38;5;129;01min\u001b[39;00m samples]\n\u001b[1;32m    482\u001b[0m \u001b[38;5;28;01melse\u001b[39;00m:\n\u001b[0;32m--> 483\u001b[0m     samples \u001b[38;5;241m=\u001b[39m \u001b[43m_broadcast_arrays\u001b[49m\u001b[43m(\u001b[49m\u001b[43msamples\u001b[49m\u001b[43m,\u001b[49m\u001b[43m \u001b[49m\u001b[43maxis\u001b[49m\u001b[38;5;241;43m=\u001b[39;49m\u001b[43maxis\u001b[49m\u001b[43m)\u001b[49m\n\u001b[1;32m    484\u001b[0m     axis \u001b[38;5;241m=\u001b[39m np\u001b[38;5;241m.\u001b[39matleast_1d(axis)\n\u001b[1;32m    485\u001b[0m     n_axes \u001b[38;5;241m=\u001b[39m \u001b[38;5;28mlen\u001b[39m(axis)\n",
      "File \u001b[0;32m~/.local/lib/python3.10/site-packages/scipy/stats/_axis_nan_policy.py:18\u001b[0m, in \u001b[0;36m_broadcast_arrays\u001b[0;34m(arrays, axis)\u001b[0m\n\u001b[1;32m     14\u001b[0m \u001b[38;5;28;01mdef\u001b[39;00m \u001b[38;5;21m_broadcast_arrays\u001b[39m(arrays, axis\u001b[38;5;241m=\u001b[39m\u001b[38;5;28;01mNone\u001b[39;00m):\n\u001b[1;32m     15\u001b[0m \u001b[38;5;250m    \u001b[39m\u001b[38;5;124;03m\"\"\"\u001b[39;00m\n\u001b[1;32m     16\u001b[0m \u001b[38;5;124;03m    Broadcast shapes of arrays, ignoring incompatibility of specified axes\u001b[39;00m\n\u001b[1;32m     17\u001b[0m \u001b[38;5;124;03m    \"\"\"\u001b[39;00m\n\u001b[0;32m---> 18\u001b[0m     new_shapes \u001b[38;5;241m=\u001b[39m \u001b[43m_broadcast_array_shapes\u001b[49m\u001b[43m(\u001b[49m\u001b[43marrays\u001b[49m\u001b[43m,\u001b[49m\u001b[43m \u001b[49m\u001b[43maxis\u001b[49m\u001b[38;5;241;43m=\u001b[39;49m\u001b[43maxis\u001b[49m\u001b[43m)\u001b[49m\n\u001b[1;32m     19\u001b[0m     \u001b[38;5;28;01mif\u001b[39;00m axis \u001b[38;5;129;01mis\u001b[39;00m \u001b[38;5;28;01mNone\u001b[39;00m:\n\u001b[1;32m     20\u001b[0m         new_shapes \u001b[38;5;241m=\u001b[39m [new_shapes]\u001b[38;5;241m*\u001b[39m\u001b[38;5;28mlen\u001b[39m(arrays)\n",
      "File \u001b[0;32m~/.local/lib/python3.10/site-packages/scipy/stats/_axis_nan_policy.py:30\u001b[0m, in \u001b[0;36m_broadcast_array_shapes\u001b[0;34m(arrays, axis)\u001b[0m\n\u001b[1;32m     26\u001b[0m \u001b[38;5;250m\u001b[39m\u001b[38;5;124;03m\"\"\"\u001b[39;00m\n\u001b[1;32m     27\u001b[0m \u001b[38;5;124;03mBroadcast shapes of arrays, ignoring incompatibility of specified axes\u001b[39;00m\n\u001b[1;32m     28\u001b[0m \u001b[38;5;124;03m\"\"\"\u001b[39;00m\n\u001b[1;32m     29\u001b[0m shapes \u001b[38;5;241m=\u001b[39m [np\u001b[38;5;241m.\u001b[39masarray(arr)\u001b[38;5;241m.\u001b[39mshape \u001b[38;5;28;01mfor\u001b[39;00m arr \u001b[38;5;129;01min\u001b[39;00m arrays]\n\u001b[0;32m---> 30\u001b[0m \u001b[38;5;28;01mreturn\u001b[39;00m \u001b[43m_broadcast_shapes\u001b[49m\u001b[43m(\u001b[49m\u001b[43mshapes\u001b[49m\u001b[43m,\u001b[49m\u001b[43m \u001b[49m\u001b[43maxis\u001b[49m\u001b[43m)\u001b[49m\n",
      "File \u001b[0;32m~/.local/lib/python3.10/site-packages/scipy/stats/_axis_nan_policy.py:62\u001b[0m, in \u001b[0;36m_broadcast_shapes\u001b[0;34m(shapes, axis)\u001b[0m\n\u001b[1;32m     59\u001b[0m \u001b[38;5;28;01mif\u001b[39;00m axis[\u001b[38;5;241m-\u001b[39m\u001b[38;5;241m1\u001b[39m] \u001b[38;5;241m>\u001b[39m\u001b[38;5;241m=\u001b[39m n_dims \u001b[38;5;129;01mor\u001b[39;00m axis[\u001b[38;5;241m0\u001b[39m] \u001b[38;5;241m<\u001b[39m \u001b[38;5;241m0\u001b[39m:\n\u001b[1;32m     60\u001b[0m     message \u001b[38;5;241m=\u001b[39m (\u001b[38;5;124mf\u001b[39m\u001b[38;5;124m\"\u001b[39m\u001b[38;5;124m`axis` is out of bounds \u001b[39m\u001b[38;5;124m\"\u001b[39m\n\u001b[1;32m     61\u001b[0m                \u001b[38;5;124mf\u001b[39m\u001b[38;5;124m\"\u001b[39m\u001b[38;5;124mfor array of dimension \u001b[39m\u001b[38;5;132;01m{\u001b[39;00mn_dims\u001b[38;5;132;01m}\u001b[39;00m\u001b[38;5;124m\"\u001b[39m)\n\u001b[0;32m---> 62\u001b[0m     \u001b[38;5;28;01mraise\u001b[39;00m AxisError(message)\n\u001b[1;32m     64\u001b[0m \u001b[38;5;28;01mif\u001b[39;00m \u001b[38;5;28mlen\u001b[39m(np\u001b[38;5;241m.\u001b[39munique(axis)) \u001b[38;5;241m!=\u001b[39m \u001b[38;5;28mlen\u001b[39m(axis):\n\u001b[1;32m     65\u001b[0m     \u001b[38;5;28;01mraise\u001b[39;00m AxisError(\u001b[38;5;124m\"\u001b[39m\u001b[38;5;124m`axis` must contain only distinct elements\u001b[39m\u001b[38;5;124m\"\u001b[39m)\n",
      "\u001b[0;31mAxisError\u001b[0m: `axis` is out of bounds for array of dimension 1"
     ]
    }
   ],
   "source": [
    "ttest_ind(wt_before,wt_after)"
   ]
  },
  {
   "cell_type": "code",
   "execution_count": 57,
   "id": "fd74b8cc-e40a-42f8-b03b-f88977aedb0e",
   "metadata": {},
   "outputs": [
    {
     "name": "stdout",
     "output_type": "stream",
     "text": [
      "t-statistic: 1.1421853793555032\n",
      "p-value: 0.2909361700265277\n",
      "Critical t-value: 1.894578605061305\n",
      "Fail to reject the null hypothesis. There is not enough evidence to conclude that there is a significant difference in weight before and after the Zumba training.\n"
     ]
    }
   ],
   "source": [
    "from scipy.stats import ttest_rel\n",
    "\n",
    "# Weight data\n",
    "wt_before = [85, 74, 63.5, 69.4, 71.6, 65, 90, 78]\n",
    "wt_after = [82, 71, 64, 65.2, 67.8, 64.7, 95, 77]\n",
    "\n",
    "# Perform paired samples t-test\n",
    "t_statistic, p_value = ttest_rel(wt_before, wt_after)\n",
    "\n",
    "# Define the confidence level\n",
    "confidence_level = 0.90\n",
    "\n",
    "# Calculate degrees of freedom\n",
    "df = len(wt_before) - 1\n",
    "\n",
    "# Calculate the critical t-value\n",
    "alpha = 1 - confidence_level\n",
    "t_critical = stats.t.ppf(1 - alpha / 2, df)  # two-tailed test\n",
    "\n",
    "# Print results\n",
    "print(\"t-statistic:\", t_statistic)\n",
    "print(\"p-value:\", p_value)\n",
    "print(\"Critical t-value:\", t_critical)\n",
    "\n",
    "# Compare p-value with alpha\n",
    "if p_value < alpha:\n",
    "    print(\"Reject the null hypothesis. There is enough evidence to conclude that there is a significant difference in weight before and after the Zumba training.\")\n",
    "else:\n",
    "    print(\"Fail to reject the null hypothesis. There is not enough evidence to conclude that there is a significant difference in weight before and after the Zumba training.\")\n"
   ]
  },
  {
   "cell_type": "code",
   "execution_count": 58,
   "id": "2a9f8eea-e23e-4b92-9393-ec2de1c66979",
   "metadata": {},
   "outputs": [],
   "source": [
    "before = [2.45, 0.69, 1.80, 2.80, 0.07, 1.67, 2.93, 0.47, 1.45, 1.34]   \n",
    "\n",
    "after = [7.71, 2.17, 5.65, 8.79, 0.23, 5.23, 9.19, 1.49, 4.56, 4.20] "
   ]
  },
  {
   "cell_type": "code",
   "execution_count": 62,
   "id": "d9132fb6-dae1-4c12-8cd9-ed4fac44c089",
   "metadata": {},
   "outputs": [
    {
     "data": {
      "text/plain": [
       "TtestResult(statistic=-5.111096450191605, pvalue=0.0006355623963896455, df=9)"
      ]
     },
     "execution_count": 62,
     "metadata": {},
     "output_type": "execute_result"
    }
   ],
   "source": [
    "ttest_rel(before,after)"
   ]
  },
  {
   "cell_type": "code",
   "execution_count": 63,
   "id": "17924ac1-a667-47df-92e5-641d0082872a",
   "metadata": {},
   "outputs": [],
   "source": [
    "survey_height = np.array([177.3, 182.7, 169.6, 176.3, 180.3, 179.4, 178.5, 177.2, 181.8, 176.5])"
   ]
  },
  {
   "cell_type": "code",
   "execution_count": 64,
   "id": "f9679acf-ea84-4aa1-8c08-6360642c1c47",
   "metadata": {},
   "outputs": [
    {
     "data": {
      "text/plain": [
       "177.96"
      ]
     },
     "execution_count": 64,
     "metadata": {},
     "output_type": "execute_result"
    }
   ],
   "source": [
    "survey_height.mean()"
   ]
  },
  {
   "cell_type": "code",
   "execution_count": 65,
   "id": "9a57389f-120e-460c-9a48-4ae0b171b53f",
   "metadata": {},
   "outputs": [
    {
     "data": {
      "text/plain": [
       "TtestResult(statistic=2.5544677238820483, pvalue=0.015483461585705127, df=9)"
      ]
     },
     "execution_count": 65,
     "metadata": {},
     "output_type": "execute_result"
    }
   ],
   "source": [
    "ttest_1samp(survey_height,175,alternative='greater')"
   ]
  },
  {
   "cell_type": "code",
   "execution_count": 66,
   "id": "1d65454d-6e8b-40b6-b76a-ba59cae16220",
   "metadata": {},
   "outputs": [
    {
     "data": {
      "text/plain": [
       "TtestResult(statistic=2.5544677238820483, pvalue=0.030966923171410254, df=9)"
      ]
     },
     "execution_count": 66,
     "metadata": {},
     "output_type": "execute_result"
    }
   ],
   "source": [
    "ttest_1samp(survey_height,175)"
   ]
  },
  {
   "cell_type": "code",
   "execution_count": 2,
   "id": "9cea0c04-fdb7-4ad3-a9de-b78aa4edb4b8",
   "metadata": {},
   "outputs": [],
   "source": [
    "school_1 = [115, 111, 112, 101, 95, 98, 100, 90, 89, 108]\n",
    "school_2 = [107, 103, 91, 99, 104, 98, 117, 113, 92, 96, 108, 115, 116, 88]"
   ]
  },
  {
   "cell_type": "code",
   "execution_count": 7,
   "id": "3b9c0d76-0f47-42cf-bb90-3d466b939473",
   "metadata": {},
   "outputs": [
    {
     "ename": "ValueError",
     "evalue": "unequal length arrays",
     "output_type": "error",
     "traceback": [
      "\u001b[0;31m---------------------------------------------------------------------------\u001b[0m",
      "\u001b[0;31mValueError\u001b[0m                                Traceback (most recent call last)",
      "\u001b[0;32m/tmp/ipykernel_3700/1545585023.py\u001b[0m in \u001b[0;36m?\u001b[0;34m()\u001b[0m\n\u001b[0;32m----> 1\u001b[0;31m \u001b[0mttest_rel\u001b[0m\u001b[0;34m(\u001b[0m\u001b[0mschool_1\u001b[0m\u001b[0;34m,\u001b[0m\u001b[0mschool_2\u001b[0m\u001b[0;34m)\u001b[0m\u001b[0;34m\u001b[0m\u001b[0;34m\u001b[0m\u001b[0m\n\u001b[0m",
      "\u001b[0;32m~/.local/lib/python3.10/site-packages/scipy/stats/_axis_nan_policy.py\u001b[0m in \u001b[0;36m?\u001b[0;34m(***failed resolving arguments***)\u001b[0m\n\u001b[1;32m    527\u001b[0m                 \u001b[0;31m# behavior of those would break backward compatibility.\u001b[0m\u001b[0;34m\u001b[0m\u001b[0;34m\u001b[0m\u001b[0m\n\u001b[1;32m    528\u001b[0m \u001b[0;34m\u001b[0m\u001b[0m\n\u001b[1;32m    529\u001b[0m                 \u001b[0;32mif\u001b[0m \u001b[0msentinel\u001b[0m\u001b[0;34m:\u001b[0m\u001b[0;34m\u001b[0m\u001b[0;34m\u001b[0m\u001b[0m\n\u001b[1;32m    530\u001b[0m                     \u001b[0msamples\u001b[0m \u001b[0;34m=\u001b[0m \u001b[0m_remove_sentinel\u001b[0m\u001b[0;34m(\u001b[0m\u001b[0msamples\u001b[0m\u001b[0;34m,\u001b[0m \u001b[0mpaired\u001b[0m\u001b[0;34m,\u001b[0m \u001b[0msentinel\u001b[0m\u001b[0;34m)\u001b[0m\u001b[0;34m\u001b[0m\u001b[0;34m\u001b[0m\u001b[0m\n\u001b[0;32m--> 531\u001b[0;31m                 \u001b[0mres\u001b[0m \u001b[0;34m=\u001b[0m \u001b[0mhypotest_fun_out\u001b[0m\u001b[0;34m(\u001b[0m\u001b[0;34m*\u001b[0m\u001b[0msamples\u001b[0m\u001b[0;34m,\u001b[0m \u001b[0;34m**\u001b[0m\u001b[0mkwds\u001b[0m\u001b[0;34m)\u001b[0m\u001b[0;34m\u001b[0m\u001b[0;34m\u001b[0m\u001b[0m\n\u001b[0m\u001b[1;32m    532\u001b[0m                 \u001b[0mres\u001b[0m \u001b[0;34m=\u001b[0m \u001b[0mresult_to_tuple\u001b[0m\u001b[0;34m(\u001b[0m\u001b[0mres\u001b[0m\u001b[0;34m)\u001b[0m\u001b[0;34m\u001b[0m\u001b[0;34m\u001b[0m\u001b[0m\n\u001b[1;32m    533\u001b[0m                 \u001b[0mres\u001b[0m \u001b[0;34m=\u001b[0m \u001b[0m_add_reduced_axes\u001b[0m\u001b[0;34m(\u001b[0m\u001b[0mres\u001b[0m\u001b[0;34m,\u001b[0m \u001b[0mreduced_axes\u001b[0m\u001b[0;34m,\u001b[0m \u001b[0mkeepdims\u001b[0m\u001b[0;34m)\u001b[0m\u001b[0;34m\u001b[0m\u001b[0;34m\u001b[0m\u001b[0m\n\u001b[1;32m    534\u001b[0m                 \u001b[0;32mreturn\u001b[0m \u001b[0mtuple_to_result\u001b[0m\u001b[0;34m(\u001b[0m\u001b[0;34m*\u001b[0m\u001b[0mres\u001b[0m\u001b[0;34m)\u001b[0m\u001b[0;34m\u001b[0m\u001b[0;34m\u001b[0m\u001b[0m\n",
      "\u001b[0;32m~/.local/lib/python3.10/site-packages/scipy/stats/_stats_py.py\u001b[0m in \u001b[0;36m?\u001b[0;34m(a, b, axis, nan_policy, alternative)\u001b[0m\n\u001b[1;32m   7740\u001b[0m \u001b[0;34m\u001b[0m\u001b[0m\n\u001b[1;32m   7741\u001b[0m     \u001b[0mna\u001b[0m \u001b[0;34m=\u001b[0m \u001b[0m_get_len\u001b[0m\u001b[0;34m(\u001b[0m\u001b[0ma\u001b[0m\u001b[0;34m,\u001b[0m \u001b[0maxis\u001b[0m\u001b[0;34m,\u001b[0m \u001b[0;34m\"first argument\"\u001b[0m\u001b[0;34m)\u001b[0m\u001b[0;34m\u001b[0m\u001b[0;34m\u001b[0m\u001b[0m\n\u001b[1;32m   7742\u001b[0m     \u001b[0mnb\u001b[0m \u001b[0;34m=\u001b[0m \u001b[0m_get_len\u001b[0m\u001b[0;34m(\u001b[0m\u001b[0mb\u001b[0m\u001b[0;34m,\u001b[0m \u001b[0maxis\u001b[0m\u001b[0;34m,\u001b[0m \u001b[0;34m\"second argument\"\u001b[0m\u001b[0;34m)\u001b[0m\u001b[0;34m\u001b[0m\u001b[0;34m\u001b[0m\u001b[0m\n\u001b[1;32m   7743\u001b[0m     \u001b[0;32mif\u001b[0m \u001b[0mna\u001b[0m \u001b[0;34m!=\u001b[0m \u001b[0mnb\u001b[0m\u001b[0;34m:\u001b[0m\u001b[0;34m\u001b[0m\u001b[0;34m\u001b[0m\u001b[0m\n\u001b[0;32m-> 7744\u001b[0;31m         \u001b[0;32mraise\u001b[0m \u001b[0mValueError\u001b[0m\u001b[0;34m(\u001b[0m\u001b[0;34m'unequal length arrays'\u001b[0m\u001b[0;34m)\u001b[0m\u001b[0;34m\u001b[0m\u001b[0;34m\u001b[0m\u001b[0m\n\u001b[0m\u001b[1;32m   7745\u001b[0m \u001b[0;34m\u001b[0m\u001b[0m\n\u001b[1;32m   7746\u001b[0m     \u001b[0;32mif\u001b[0m \u001b[0mna\u001b[0m \u001b[0;34m==\u001b[0m \u001b[0;36m0\u001b[0m \u001b[0;32mor\u001b[0m \u001b[0mnb\u001b[0m \u001b[0;34m==\u001b[0m \u001b[0;36m0\u001b[0m\u001b[0;34m:\u001b[0m\u001b[0;34m\u001b[0m\u001b[0;34m\u001b[0m\u001b[0m\n\u001b[1;32m   7747\u001b[0m         \u001b[0;31m# _axis_nan_policy decorator ensures this only happens with 1d input\u001b[0m\u001b[0;34m\u001b[0m\u001b[0;34m\u001b[0m\u001b[0m\n",
      "\u001b[0;31mValueError\u001b[0m: unequal length arrays"
     ]
    }
   ],
   "source": [
    "ttest_rel(school_1,school_2)"
   ]
  },
  {
   "cell_type": "code",
   "execution_count": 5,
   "id": "b6154669-b8f0-4045-b3d3-4c9cad2aab06",
   "metadata": {},
   "outputs": [
    {
     "name": "stdout",
     "output_type": "stream",
     "text": [
      "t-statistic: 1.1421853793555032\n",
      "p-value: 0.2909361700265277\n",
      "Fail to reject the null hypothesis. There is not enough evidence to conclude that there is a significant difference in weight before and after the Zumba training.\n"
     ]
    }
   ],
   "source": [
    "from scipy.stats import ttest_rel\n",
    "from scipy import stats\n",
    "\n",
    "# Weight data\n",
    "wt_before = [85, 74, 63.5, 69.4, 71.6, 65, 90, 78]\n",
    "wt_after = [82, 71, 64, 65.2, 67.8, 64.7, 95, 77]\n",
    "\n",
    "# Perform paired samples t-test\n",
    "t_statistic, p_value = ttest_rel(wt_before, wt_after)\n",
    "\n",
    "# Define the confidence level\n",
    "confidence_level = 0.90\n",
    "\n",
    "# Calculate degrees of freedom\n",
    "df = len(wt_before) - 1\n",
    "\n",
    "# Calculate the critical t-value\n",
    "alpha = 1 - confidence_level\n",
    "t_critical = stats.t.ppf(1 - alpha / 2, df)  # two-tailed test\n",
    "\n",
    "# Print results\n",
    "print(\"t-statistic:\", t_statistic)\n",
    "print(\"p-value:\", p_value)\n",
    "\n",
    "# Compare p-value with alpha\n",
    "if p_value < alpha:\n",
    "    print(\"Reject the null hypothesis. There is enough evidence to conclude that there is a significant difference in weight before and after the Zumba training.\")\n",
    "else:\n",
    "    print(\"Fail to reject the null hypothesis. There is not enough evidence to conclude that there is a significant difference in weight before and after the Zumba training.\")\n"
   ]
  },
  {
   "cell_type": "code",
   "execution_count": 6,
   "id": "b2fd4854-5f8a-4ea0-9c8d-0bd5ff4482d4",
   "metadata": {},
   "outputs": [
    {
     "name": "stdout",
     "output_type": "stream",
     "text": [
      "t-statistic: 1.1421853793555032\n"
     ]
    }
   ],
   "source": [
    "import numpy as np\n",
    "\n",
    "# Weight data\n",
    "wt_before = [85, 74, 63.5, 69.4, 71.6, 65, 90, 78]\n",
    "wt_after = [82, 71, 64, 65.2, 67.8, 64.7, 95, 77]\n",
    "\n",
    "# Calculate differences between weights before and after\n",
    "differences = np.array(wt_before) - np.array(wt_after)\n",
    "\n",
    "# Calculate mean of differences\n",
    "mean_difference = np.mean(differences)\n",
    "\n",
    "# Calculate standard deviation of differences\n",
    "std_difference = np.std(differences, ddof=1)\n",
    "\n",
    "# Calculate number of pairs of observations\n",
    "n = len(wt_before)\n",
    "\n",
    "# Calculate t-statistic\n",
    "t_statistic = mean_difference / (std_difference / np.sqrt(n))\n",
    "\n",
    "# Print t-statistic\n",
    "print(\"t-statistic:\", t_statistic)\n"
   ]
  },
  {
   "cell_type": "code",
   "execution_count": 8,
   "id": "358b0b0c-e20e-41ad-8d07-adecf909cc34",
   "metadata": {},
   "outputs": [
    {
     "name": "stdout",
     "output_type": "stream",
     "text": [
      "z-statistic: -0.9723055853282467\n",
      "p-value: 0.1654492730143623\n",
      "Fail to reject the null hypothesis. There is not enough evidence to conclude that Analyst Y writes fewer lines of code compared to Analyst X.\n"
     ]
    }
   ],
   "source": [
    "from statsmodels.stats.weightstats import ztest\n",
    "\n",
    "# Number of lines of code for Analyst X and Analyst Y\n",
    "lines_of_code_X = [15, 18, 20, 17, 16, 19, 22, 16, 18, 21]\n",
    "lines_of_code_Y = [14, 17, 19, 16, 15, 18, 21, 15, 17, 20]\n",
    "\n",
    "# Perform z-test\n",
    "z_statistic, p_value = ztest(lines_of_code_Y, lines_of_code_X, alternative='smaller')\n",
    "\n",
    "# Define the confidence level\n",
    "confidence_level = 0.90\n",
    "\n",
    "# Print results\n",
    "print(\"z-statistic:\", z_statistic)\n",
    "print(\"p-value:\", p_value)\n",
    "\n",
    "# Compare p-value with alpha\n",
    "if p_value < (1 - confidence_level):\n",
    "    print(\"Reject the null hypothesis. There is enough evidence to conclude that Analyst Y writes fewer lines of code compared to Analyst X.\")\n",
    "else:\n",
    "    print(\"Fail to reject the null hypothesis. There is not enough evidence to conclude that Analyst Y writes fewer lines of code compared to Analyst X.\")\n"
   ]
  },
  {
   "cell_type": "code",
   "execution_count": 9,
   "id": "e8dd4a1a-4ae8-40e6-91f0-61bb9b26b8ed",
   "metadata": {},
   "outputs": [
    {
     "name": "stdout",
     "output_type": "stream",
     "text": [
      "Sample proportion (p_hat): 0.66\n",
      "Test statistic (z-score): 3.354101966249688\n",
      "Critical value (z_critical) for 90% confidence level: 1.6448536269514722\n",
      "Reject the null hypothesis. The proportion of registered voters supporting the bill exceeds 0.60.\n"
     ]
    }
   ],
   "source": [
    "import numpy as np\n",
    "from scipy.stats import norm\n",
    "\n",
    "# Given data\n",
    "n = 750  # sample size\n",
    "x = 495  # number of supporters\n",
    "p_0 = 0.60  # hypothesized population proportion under the null hypothesis\n",
    "\n",
    "# Calculate the sample proportion\n",
    "p_hat = x / n\n",
    "\n",
    "# Calculate the standard error\n",
    "standard_error = np.sqrt((p_0 * (1 - p_0)) / n)\n",
    "\n",
    "# Calculate the test statistic (z-score)\n",
    "z_score = (p_hat - p_0) / standard_error\n",
    "\n",
    "# Define the confidence level\n",
    "confidence_level = 0.90\n",
    "\n",
    "# Find the critical value (z_critical) for the given confidence level\n",
    "z_critical = norm.ppf(1 - (1 - confidence_level) / 2)\n",
    "\n",
    "# Print results\n",
    "print(\"Sample proportion (p_hat):\", p_hat)\n",
    "print(\"Test statistic (z-score):\", z_score)\n",
    "print(\"Critical value (z_critical) for 90% confidence level:\", z_critical)\n",
    "\n",
    "# Compare the test statistic with the critical value\n",
    "if z_score > z_critical:\n",
    "    print(\"Reject the null hypothesis. The proportion of registered voters supporting the bill exceeds 0.60.\")\n",
    "else:\n",
    "    print(\"Fail to reject the null hypothesis. The proportion of registered voters supporting the bill does not exceed 0.60.\")\n"
   ]
  },
  {
   "cell_type": "code",
   "execution_count": 10,
   "id": "468031d3-a736-47e6-8bb9-604fb40d868e",
   "metadata": {},
   "outputs": [
    {
     "name": "stdout",
     "output_type": "stream",
     "text": [
      "p-value: 0.0003981150787953913\n"
     ]
    }
   ],
   "source": [
    "from scipy.stats import norm\n",
    "\n",
    "# Given data\n",
    "n = 750  # sample size\n",
    "x = 495  # number of supporters\n",
    "p_0 = 0.60  # hypothesized population proportion under the null hypothesis\n",
    "\n",
    "# Calculate the sample proportion\n",
    "p_hat = x / n\n",
    "\n",
    "# Calculate the standard error\n",
    "standard_error = np.sqrt((p_0 * (1 - p_0)) / n)\n",
    "\n",
    "# Calculate the test statistic (z-score)\n",
    "z_score = (p_hat - p_0) / standard_error\n",
    "\n",
    "# Calculate the p-value using the cumulative distribution function (CDF) of the standard normal distribution\n",
    "p_value = 1 - norm.cdf(z_score)\n",
    "\n",
    "# Print the p-value\n",
    "print(\"p-value:\", p_value)\n"
   ]
  },
  {
   "cell_type": "code",
   "execution_count": null,
   "id": "1dafeaa5-8edf-4342-b9e0-abfa269fd233",
   "metadata": {},
   "outputs": [],
   "source": []
  }
 ],
 "metadata": {
  "kernelspec": {
   "display_name": "Python 3 (ipykernel)",
   "language": "python",
   "name": "python3"
  },
  "language_info": {
   "codemirror_mode": {
    "name": "ipython",
    "version": 3
   },
   "file_extension": ".py",
   "mimetype": "text/x-python",
   "name": "python",
   "nbconvert_exporter": "python",
   "pygments_lexer": "ipython3",
   "version": "3.10.12"
  }
 },
 "nbformat": 4,
 "nbformat_minor": 5
}
