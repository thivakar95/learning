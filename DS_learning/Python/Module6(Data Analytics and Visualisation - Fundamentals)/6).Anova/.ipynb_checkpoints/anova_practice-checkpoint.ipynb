{
 "cells": [
  {
   "cell_type": "code",
   "execution_count": 26,
   "id": "7b92ab73-a43d-4ece-91a7-1ab382e62fc4",
   "metadata": {},
   "outputs": [],
   "source": [
    "import pandas as pd\n",
    "import numpy as np\n",
    "import seaborn as sns\n",
    "import matplotlib.pyplot as plt\n",
    "from scipy.stats import ttest_ind\n",
    "from scipy.stats import f_oneway\n",
    "from scipy.stats import kruskal #if annova test fails\n",
    "from scipy.stats import shapiro #test guassion\n",
    "from statsmodels.graphics.gofplots import qqplot\n",
    "from scipy.stats import levene  #variance test"
   ]
  },
  {
   "cell_type": "code",
   "execution_count": 7,
   "id": "f2df6c1d-52b2-4f23-95c8-08ccb7a0c187",
   "metadata": {},
   "outputs": [],
   "source": [
    "\n",
    "\n",
    "a = [13, 8, 11, 12, 11]\n",
    "b = [15, 10, 16, 11, 13, 10]\n",
    "c = [5, 11, 9, 5]\n",
    "d = [8, 10, 6, 5, 7]"
   ]
  },
  {
   "cell_type": "code",
   "execution_count": 9,
   "id": "554747fb-d2dd-4153-a66a-a40ce7a044ca",
   "metadata": {},
   "outputs": [
    {
     "data": {
      "text/plain": [
       "F_onewayResult(statistic=6.324748040313554, pvalue=0.0049302919205628576)"
      ]
     },
     "execution_count": 9,
     "metadata": {},
     "output_type": "execute_result"
    }
   ],
   "source": [
    "f_oneway(a,b,c,d)"
   ]
  },
  {
   "cell_type": "code",
   "execution_count": 10,
   "id": "b3404f11-111a-408a-b534-47fd58e6a360",
   "metadata": {},
   "outputs": [
    {
     "data": {
      "text/plain": [
       "KruskalResult(statistic=10.344484732824432, pvalue=0.01585382101045148)"
      ]
     },
     "execution_count": 10,
     "metadata": {},
     "output_type": "execute_result"
    }
   ],
   "source": [
    "kruskal(a,b,c,d)"
   ]
  },
  {
   "cell_type": "code",
   "execution_count": 12,
   "id": "21525819-e12a-4a90-ae98-84575a2ebcc8",
   "metadata": {},
   "outputs": [],
   "source": [
    "one_star = [382, 391, 335, 368, 400, 372]\n",
    "two_star = [560, 343, 512, 329, 391, 367]\n",
    "three_star = [384, 458, 409, 309, 374, 459]\n",
    "four_star = [325, 390, 304, 240, 306, 169]\n",
    "five_star = [360, 298, 272, 368, 320, 326]"
   ]
  },
  {
   "cell_type": "code",
   "execution_count": 13,
   "id": "cd1b170b-96d6-48d5-8ee1-a5437d732cdd",
   "metadata": {},
   "outputs": [
    {
     "data": {
      "text/plain": [
       "F_onewayResult(statistic=4.238644902556343, pvalue=0.009362001936328837)"
      ]
     },
     "execution_count": 13,
     "metadata": {},
     "output_type": "execute_result"
    }
   ],
   "source": [
    "f_oneway(one_star,two_star,three_star,four_star,five_star)"
   ]
  },
  {
   "cell_type": "code",
   "execution_count": 14,
   "id": "cb6ac781-fc2d-45fa-96a0-58bc2d28774b",
   "metadata": {},
   "outputs": [],
   "source": [
    "Brand_A = [19.60, 18.82, 19.00, 18.45, 19.79, 19.03, 17.89, 19.42]\n",
    "Brand_B = [21.10, 20.00, 20.43, 19.67, 18.99, 19.98, 20.14, 19.78]\n",
    "Brand_C = [10.31, 10.02, 9.41, 9.89, 10.05, 10.52, 11.02, 10.42]\n",
    "Brand_D = [17.02, 16.71, 17.78, 18.65, 15.98, 17.63, 17.00, 16.78, 16.92, 17.14]"
   ]
  },
  {
   "cell_type": "code",
   "execution_count": 15,
   "id": "6749cd79-0052-41ff-b8b4-61d7bce63565",
   "metadata": {},
   "outputs": [
    {
     "data": {
      "text/plain": [
       "F_onewayResult(statistic=404.7865500650496, pvalue=2.392149441499325e-24)"
      ]
     },
     "execution_count": 15,
     "metadata": {},
     "output_type": "execute_result"
    }
   ],
   "source": [
    "f_oneway(Brand_A,Brand_B,Brand_C,Brand_D)"
   ]
  },
  {
   "cell_type": "code",
   "execution_count": 16,
   "id": "6ec1d753-4e59-4bf9-8d66-0d5bc7492929",
   "metadata": {},
   "outputs": [
    {
     "data": {
      "text/plain": [
       "(TtestResult(statistic=-3.281024608464368, pvalue=0.005464761718691163, df=14.0),\n",
       " TtestResult(statistic=31.59766943587199, pvalue=2.0378129111849533e-14, df=14.0),\n",
       " TtestResult(statistic=5.702213789495044, pvalue=3.271164766368406e-05, df=16.0),\n",
       " TtestResult(statistic=8.920885777183635, pvalue=1.3124601764847073e-07, df=16.0),\n",
       " TtestResult(statistic=35.80102299364571, pvalue=3.618464053986992e-15, df=14.0),\n",
       " TtestResult(statistic=-23.410707401229885, pvalue=8.33672049161488e-14, df=16.0))"
      ]
     },
     "execution_count": 16,
     "metadata": {},
     "output_type": "execute_result"
    }
   ],
   "source": [
    "ttest_ind(Brand_A,Brand_B),ttest_ind(Brand_A,Brand_C),ttest_ind(Brand_A,Brand_D),ttest_ind(Brand_B,Brand_D),ttest_ind(Brand_B,Brand_C),ttest_ind(Brand_C,Brand_D)"
   ]
  },
  {
   "cell_type": "code",
   "execution_count": 17,
   "id": "3d7c742b-93f4-4b39-b1e6-b94592656572",
   "metadata": {},
   "outputs": [],
   "source": [
    "algorithm_A = np.array([23, 25, 22, 27, 28, 24, 26, 29, 21, 30, 25, 43, 26, 28, 24, 22, 27, 46, 25, 29]) \n",
    "\n",
    "algorithm_B = np.array([31, 28, 29, 32, 30, 33, 27, 28, 32, 30, 31, 29, 30, 48, 33, 31, 29, 30, 32, 31]) \n",
    "\n",
    "algorithm_C = np.array([45, 43, 23, 49, 49, 8, 21, 20, 42, 40, 28, 46, 44, 37, 44, 38, 42, 34, 42, 40])"
   ]
  },
  {
   "cell_type": "code",
   "execution_count": 18,
   "id": "34c3b29f-0118-4f3f-a582-6947935e6d49",
   "metadata": {},
   "outputs": [
    {
     "data": {
      "text/plain": [
       "F_onewayResult(statistic=7.170867249960098, pvalue=0.0016677807792135901)"
      ]
     },
     "execution_count": 18,
     "metadata": {},
     "output_type": "execute_result"
    }
   ],
   "source": [
    "f_oneway(algorithm_A,algorithm_B,algorithm_C)"
   ]
  },
  {
   "cell_type": "code",
   "execution_count": 19,
   "id": "7c278b2d-1ff1-4824-aad8-469a0015f39b",
   "metadata": {},
   "outputs": [
    {
     "data": {
      "text/plain": [
       "KruskalResult(statistic=15.347265483520486, pvalue=0.00046492579685792804)"
      ]
     },
     "execution_count": 19,
     "metadata": {},
     "output_type": "execute_result"
    }
   ],
   "source": [
    "kruskal(algorithm_A,algorithm_B,algorithm_C)"
   ]
  },
  {
   "cell_type": "code",
   "execution_count": 20,
   "id": "8c012cb6-00cb-48e7-a2a4-768b70f4e135",
   "metadata": {},
   "outputs": [],
   "source": [
    "group_a_effects = [1.5, 1.8, 1.2, 1.6, 1.7]\n",
    "\n",
    "group_b_effects = [1.4, 1.9, 1.3, 1.5, 1.8]"
   ]
  },
  {
   "cell_type": "code",
   "execution_count": 21,
   "id": "c92cce80-1414-40f5-b8c3-b7502f3731a3",
   "metadata": {},
   "outputs": [
    {
     "data": {
      "text/plain": [
       "TtestResult(statistic=-0.12909944487357924, pvalue=0.9004656894435117, df=8.0)"
      ]
     },
     "execution_count": 21,
     "metadata": {},
     "output_type": "execute_result"
    }
   ],
   "source": [
    "ttest_ind(group_a_effects,group_b_effects)"
   ]
  },
  {
   "cell_type": "code",
   "execution_count": 25,
   "id": "42d011e2-f22f-4c8b-b725-bd5f5557b4d1",
   "metadata": {},
   "outputs": [
    {
     "data": {
      "text/plain": [
       "LeveneResult(statistic=0.1666666666666667, pvalue=0.693799838016959)"
      ]
     },
     "execution_count": 25,
     "metadata": {},
     "output_type": "execute_result"
    }
   ],
   "source": [
    " levene(group_a_effects, group_b_effects)\n"
   ]
  },
  {
   "cell_type": "code",
   "execution_count": 27,
   "id": "07e6ba31-3bae-40dd-8a59-f17e17edb274",
   "metadata": {},
   "outputs": [
    {
     "name": "stdout",
     "output_type": "stream",
     "text": [
      "File: Anova_Class.pdf\n",
      "File: Anova.ipynb\n",
      "File: anova_practice.ipynb\n"
     ]
    }
   ],
   "source": [
    "import os\n",
    "\n",
    "# Get the current directory\n",
    "current_dir = os.getcwd()\n",
    "\n",
    "# List files in the current directory\n",
    "files = os.listdir(current_dir)\n",
    "\n",
    "# Iterate over each file\n",
    "for file in files:\n",
    "    # Check if the item is a file (not a directory)\n",
    "    if os.path.isfile(os.path.join(current_dir, file)):\n",
    "        print(\"File:\", file)\n"
   ]
  },
  {
   "cell_type": "code",
   "execution_count": 1,
   "id": "48e5b6b3-bbc8-4fd5-ae3e-3d196f2c04f4",
   "metadata": {},
   "outputs": [
    {
     "name": "stdout",
     "output_type": "stream",
     "text": [
      "Overall differences among drug treatments are significant (ANOVA).\n",
      "\n",
      "Pair A vs B: No significant difference.\n",
      "Pair A vs C: No significant difference.\n",
      "Pair B vs C: No significant difference.\n"
     ]
    }
   ],
   "source": [
    "from scipy.stats import f_oneway, ttest_ind\n",
    "import itertools\n",
    "\n",
    "# Define the datasets for each drug treatment\n",
    "drug_a = [8, 17, 16, 25, 17]\n",
    "drug_b = [9, 8, 16, 7, 8]\n",
    "drug_c = [7, 6, 5, 4, 6]\n",
    "\n",
    "# Perform one-way ANOVA\n",
    "f_statistic, p_value_anova = f_oneway(drug_a, drug_b, drug_c)\n",
    "\n",
    "# Set the confidence level\n",
    "confidence_level = 0.99\n",
    "alpha = 1 - confidence_level\n",
    "\n",
    "# Check if ANOVA indicates significant differences\n",
    "if p_value_anova < alpha:\n",
    "    print(\"Overall differences among drug treatments are significant (ANOVA).\")\n",
    "    print()\n",
    "\n",
    "    # Perform pairwise t-tests\n",
    "    drug_names = ['A', 'B', 'C']\n",
    "    drugs = [drug_a, drug_b, drug_c]\n",
    "    for pair in itertools.combinations(drugs, 2):\n",
    "        t_statistic, p_value_ttest = ttest_ind(pair[0], pair[1], equal_var=False)\n",
    "        if p_value_ttest < alpha:\n",
    "            print(f\"Pair {drug_names[drugs.index(pair[0])]} vs {drug_names[drugs.index(pair[1])]}: Significant difference.\")\n",
    "        else:\n",
    "            print(f\"Pair {drug_names[drugs.index(pair[0])]} vs {drug_names[drugs.index(pair[1])]}: No significant difference.\")\n",
    "else:\n",
    "    print(\"No significant differences among drug treatments (ANOVA).\")\n"
   ]
  },
  {
   "cell_type": "code",
   "execution_count": 2,
   "id": "8e78707f-ee19-4729-8d07-e4b75fba1cfe",
   "metadata": {},
   "outputs": [
    {
     "name": "stdout",
     "output_type": "stream",
     "text": [
      "There is not sufficient evidence to conclude that the average sales of Saurav, Naveen, and Radha differ in size.\n"
     ]
    }
   ],
   "source": [
    "from scipy.stats import f_oneway\n",
    "\n",
    "# Sales records for Saurav, Naveen, and Radha\n",
    "Saurav = [300, 400, 300, 500, 50]\n",
    "Naveen = [600, 300, 300, 400]\n",
    "Radha = [700, 300, 400, 600, 500]\n",
    "\n",
    "# Perform one-way ANOVA\n",
    "f_statistic, p_value = f_oneway(Saurav, Naveen, Radha)\n",
    "\n",
    "# Set the confidence level\n",
    "confidence_level = 0.95\n",
    "alpha = 1 - confidence_level\n",
    "\n",
    "# Check the p-value against the significance level\n",
    "if p_value < alpha:\n",
    "    print(\"There is sufficient evidence to conclude that the average sales of Saurav, Naveen, and Radha differ in size.\")\n",
    "else:\n",
    "    print(\"There is not sufficient evidence to conclude that the average sales of Saurav, Naveen, and Radha differ in size.\")\n"
   ]
  },
  {
   "cell_type": "code",
   "execution_count": 3,
   "id": "aab526f1-1d2b-46f6-a160-effe22b4d6d6",
   "metadata": {},
   "outputs": [
    {
     "data": {
      "text/plain": [
       "(0.20659122081429684, 1.8263524159663869)"
      ]
     },
     "execution_count": 3,
     "metadata": {},
     "output_type": "execute_result"
    }
   ],
   "source": [
    "p_value,f_statistic"
   ]
  },
  {
   "cell_type": "code",
   "execution_count": 4,
   "id": "6221e786-e45e-4538-b61d-97fde7276a3c",
   "metadata": {},
   "outputs": [],
   "source": [
    "cars = [19.9, 15.3, 2.2, 6.8, 34.2, 8.3, 12.0, 7.0, 9.5, 1.1]\n",
    "buses = [1.8, 24.6, 7.2, 37.0, 7.2, 21.2, 6.5, 23.6]\n",
    "trucks = [13.3, 23.0, 25.4, 15.3, 57.1, 14.5, 26.0]"
   ]
  },
  {
   "cell_type": "code",
   "execution_count": 5,
   "id": "4a6cba78-d89e-42e6-91da-26f3af018c14",
   "metadata": {},
   "outputs": [
    {
     "data": {
      "text/plain": [
       "F_onewayResult(statistic=2.4686944536875277, pvalue=0.10782985675757563)"
      ]
     },
     "execution_count": 5,
     "metadata": {},
     "output_type": "execute_result"
    }
   ],
   "source": [
    "f_oneway(cars, buses, trucks)"
   ]
  },
  {
   "cell_type": "code",
   "execution_count": 6,
   "id": "d2d0f7c9-08ea-4965-9301-c023b594d98a",
   "metadata": {},
   "outputs": [
    {
     "name": "stdout",
     "output_type": "stream",
     "text": [
      "                          sum_sq   df         F    PR(>F)\n",
      "C(Gender)             532.000833  1.0  1.075214  0.339742\n",
      "C(Dosage)             130.811667  2.0  0.132190  0.878657\n",
      "C(Gender):C(Dosage)  2869.201667  2.0  2.899438  0.131502\n",
      "Residual             2968.715000  6.0       NaN       NaN\n"
     ]
    }
   ],
   "source": [
    "import pandas as pd\n",
    "import statsmodels.api as sm\n",
    "from statsmodels.formula.api import ols\n",
    "\n",
    "# Create a DataFrame with the given data\n",
    "data = {\n",
    "    'Gender': ['Female', 'Female', 'Female', 'Male', 'Male', 'Male', 'Female', 'Female', 'Female', 'Male', 'Male', 'Male'],\n",
    "    'Dosage': ['Low', 'Medium', 'High', 'Low', 'Medium', 'High', 'Low', 'Medium', 'High', 'Low', 'Medium', 'High'],\n",
    "    'Test_Values': [35.6, 49.4, 55.2, 92.2, 45.4, 70.8, 56.9, 87.0, 23.4, 45.9, 34.2, 98.9]\n",
    "}\n",
    "\n",
    "df = pd.DataFrame(data)\n",
    "\n",
    "# Perform two-way ANOVA\n",
    "model = ols('Test_Values ~ C(Gender) + C(Dosage) + C(Gender):C(Dosage)', data=df).fit()\n",
    "anova_table = sm.stats.anova_lm(model, typ=2)\n",
    "\n",
    "# Print the ANOVA table\n",
    "print(anova_table)\n"
   ]
  },
  {
   "cell_type": "code",
   "execution_count": 7,
   "id": "66a428e4-0c8c-47d9-9ad9-71e1048d3851",
   "metadata": {},
   "outputs": [
    {
     "name": "stdout",
     "output_type": "stream",
     "text": [
      "                                         sum_sq    df         F    PR(>F)\n",
      "C(Fertilizer)                         84.067222   1.0  1.509060  0.242831\n",
      "C(Watering_Frequency)                100.634444   2.0  0.903226  0.431117\n",
      "C(Fertilizer):C(Watering_Frequency)   50.034444   2.0  0.449075  0.648519\n",
      "Residual                             668.500000  12.0       NaN       NaN\n"
     ]
    }
   ],
   "source": [
    "import pandas as pd\n",
    "import statsmodels.api as sm\n",
    "from statsmodels.formula.api import ols\n",
    "\n",
    "# Create a DataFrame with the given data\n",
    "data = {\n",
    "    'Fertilizer': ['A', 'A', 'A', 'B', 'B', 'B', 'A', 'A', 'A', 'B', 'B', 'B', 'A', 'A', 'A', 'B', 'B', 'B'],\n",
    "    'Watering_Frequency': ['Low', 'Medium', 'High'] * 6,\n",
    "    'Plant_Height': [15.2, 20.7, 24.3, 18.4, 23.1, 26.5, 32.7, 21.7, 27.3, 38.4, 33.1, 36.5, 12.2, 22.7, 35.3, 28.4, 22.1, 24.5]\n",
    "}\n",
    "\n",
    "df = pd.DataFrame(data)\n",
    "\n",
    "# Perform two-way ANOVA\n",
    "model = ols('Plant_Height ~ C(Fertilizer) * C(Watering_Frequency)', data=df).fit()\n",
    "anova_table = sm.stats.anova_lm(model, typ=2)\n",
    "\n",
    "# Print the ANOVA table\n",
    "print(anova_table)\n"
   ]
  },
  {
   "cell_type": "code",
   "execution_count": null,
   "id": "2ec6d772-d987-4a17-8a4e-23a97b7fd140",
   "metadata": {},
   "outputs": [],
   "source": []
  }
 ],
 "metadata": {
  "kernelspec": {
   "display_name": "Python 3 (ipykernel)",
   "language": "python",
   "name": "python3"
  },
  "language_info": {
   "codemirror_mode": {
    "name": "ipython",
    "version": 3
   },
   "file_extension": ".py",
   "mimetype": "text/x-python",
   "name": "python",
   "nbconvert_exporter": "python",
   "pygments_lexer": "ipython3",
   "version": "3.10.12"
  }
 },
 "nbformat": 4,
 "nbformat_minor": 5
}
