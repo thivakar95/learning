{
 "cells": [
  {
   "cell_type": "code",
   "execution_count": 1,
   "id": "0d10be32-b5fe-41d0-a147-a524df87fd49",
   "metadata": {},
   "outputs": [],
   "source": [
    "import pandas as pd\n",
    "import numpy as np\n",
    "import seaborn as sns\n",
    "import matplotlib.pyplot as plt"
   ]
  },
  {
   "cell_type": "code",
   "execution_count": 2,
   "id": "d5b73838-ff60-4f05-98fd-f51f213f259d",
   "metadata": {},
   "outputs": [
    {
     "name": "stdout",
     "output_type": "stream",
     "text": [
      "--2024-01-24 19:46:45--  https://d2beiqkhq929f0.cloudfront.net/public_assets/assets/000/035/126/original/weight-height.csv?1684995383\n",
      "Resolving d2beiqkhq929f0.cloudfront.net (d2beiqkhq929f0.cloudfront.net)... 2600:9000:2153:ac00:11:1aff:4b00:21, 2600:9000:2153:9e00:11:1aff:4b00:21, 2600:9000:2153:2400:11:1aff:4b00:21, ...\n",
      "Connecting to d2beiqkhq929f0.cloudfront.net (d2beiqkhq929f0.cloudfront.net)|2600:9000:2153:ac00:11:1aff:4b00:21|:443... connected.\n",
      "HTTP request sent, awaiting response... 200 OK\n",
      "Length: 428120 (418K) [text/plain]\n",
      "Saving to: ‘weight-height.csv’\n",
      "\n",
      "weight-height.csv   100%[===================>] 418.09K  --.-KB/s    in 0.09s   \n",
      "\n",
      "2024-01-24 19:46:46 (4.32 MB/s) - ‘weight-height.csv’ saved [428120/428120]\n",
      "\n",
      "--2024-01-24 19:46:46--  https://d2beiqkhq929f0.cloudfront.net/public_assets/assets/000/035/131/original/dravid.csv?1684996749\n",
      "Resolving d2beiqkhq929f0.cloudfront.net (d2beiqkhq929f0.cloudfront.net)... 2600:9000:2153:a400:11:1aff:4b00:21, 2600:9000:2153:2400:11:1aff:4b00:21, 2600:9000:2153:1a00:11:1aff:4b00:21, ...\n",
      "Connecting to d2beiqkhq929f0.cloudfront.net (d2beiqkhq929f0.cloudfront.net)|2600:9000:2153:a400:11:1aff:4b00:21|:443... connected.\n",
      "HTTP request sent, awaiting response... 200 OK\n",
      "Length: 24177 (24K) [text/plain]\n",
      "Saving to: ‘dravid.csv’\n",
      "\n",
      "dravid.csv          100%[===================>]  23.61K  --.-KB/s    in 0.02s   \n",
      "\n",
      "2024-01-24 19:46:46 (983 KB/s) - ‘dravid.csv’ saved [24177/24177]\n",
      "\n",
      "--2024-01-24 19:46:46--  https://d2beiqkhq929f0.cloudfront.net/public_assets/assets/000/035/130/original/sehwag.csv?1684996594\n",
      "Resolving d2beiqkhq929f0.cloudfront.net (d2beiqkhq929f0.cloudfront.net)... 2600:9000:2153:f200:11:1aff:4b00:21, 2600:9000:2153:2400:11:1aff:4b00:21, 2600:9000:2153:3c00:11:1aff:4b00:21, ...\n",
      "Connecting to d2beiqkhq929f0.cloudfront.net (d2beiqkhq929f0.cloudfront.net)|2600:9000:2153:f200:11:1aff:4b00:21|:443... connected.\n",
      "HTTP request sent, awaiting response... 200 OK\n",
      "Length: 18584 (18K) [text/plain]\n",
      "Saving to: ‘sehwag.csv’\n",
      "\n",
      "sehwag.csv          100%[===================>]  18.15K  --.-KB/s    in 0.002s  \n",
      "\n",
      "2024-01-24 19:46:46 (8.15 MB/s) - ‘sehwag.csv’ saved [18584/18584]\n",
      "\n"
     ]
    }
   ],
   "source": [
    "!wget https://d2beiqkhq929f0.cloudfront.net/public_assets/assets/000/035/126/original/weight-height.csv?1684995383 -O weight-height.csv\n",
    "!wget https://d2beiqkhq929f0.cloudfront.net/public_assets/assets/000/035/131/original/dravid.csv?1684996749 -O dravid.csv\n",
    "!wget https://d2beiqkhq929f0.cloudfront.net/public_assets/assets/000/035/130/original/sehwag.csv?1684996594 -O sehwag.csv"
   ]
  },
  {
   "cell_type": "code",
   "execution_count": 3,
   "id": "788446b1-bd51-4b59-a167-0a8bd833b4a6",
   "metadata": {},
   "outputs": [
    {
     "name": "stdout",
     "output_type": "stream",
     "text": [
      "total 12048\n",
      "-rw-rw-r-- 1 thivakaranb 11850827 Jan 23 05:26 Descriptive_Statistics_May23_Batch.pdf\n",
      "-rw-rw-r-- 1 thivakaranb    24177 May 25  2023 dravid.csv\n",
      "-rw-rw-r-- 1 thivakaranb       72 Jan 24 19:44 Practice.ipynb\n",
      "-rw-rw-r-- 1 thivakaranb      615 Jan 23 19:24 Required_data.txt\n",
      "-rw-rw-r-- 1 thivakaranb    18584 May 25  2023 sehwag.csv\n",
      "-rw-rw-r-- 1 thivakaranb   428120 May 25  2023 weight-height.csv\n"
     ]
    }
   ],
   "source": [
    "ll"
   ]
  },
  {
   "cell_type": "code",
   "execution_count": 24,
   "id": "5c1f8d81-b876-466e-9074-f928261cff30",
   "metadata": {},
   "outputs": [],
   "source": [
    "sehwag_df = pd.read_csv(\"sehwag.csv\")\n",
    "dravid_df = pd.read_csv(\"dravid.csv\")\n",
    "weight_height_df = pd.read_csv(\"weight-height.csv\")"
   ]
  },
  {
   "cell_type": "code",
   "execution_count": 5,
   "id": "c9c4a57d-5753-49c6-9413-8c430786c71d",
   "metadata": {},
   "outputs": [
    {
     "data": {
      "text/html": [
       "<div>\n",
       "<style scoped>\n",
       "    .dataframe tbody tr th:only-of-type {\n",
       "        vertical-align: middle;\n",
       "    }\n",
       "\n",
       "    .dataframe tbody tr th {\n",
       "        vertical-align: top;\n",
       "    }\n",
       "\n",
       "    .dataframe thead th {\n",
       "        text-align: right;\n",
       "    }\n",
       "</style>\n",
       "<table border=\"1\" class=\"dataframe\">\n",
       "  <thead>\n",
       "    <tr style=\"text-align: right;\">\n",
       "      <th></th>\n",
       "      <th>Runs</th>\n",
       "      <th>Mins</th>\n",
       "      <th>BF</th>\n",
       "      <th>4s</th>\n",
       "      <th>6s</th>\n",
       "      <th>SR</th>\n",
       "      <th>Pos</th>\n",
       "      <th>Dismissal</th>\n",
       "      <th>Inns</th>\n",
       "      <th>Unnamed: 9</th>\n",
       "      <th>Opposition</th>\n",
       "      <th>Ground</th>\n",
       "      <th>Start Date</th>\n",
       "      <th>Unnamed: 13</th>\n",
       "    </tr>\n",
       "  </thead>\n",
       "  <tbody>\n",
       "    <tr>\n",
       "      <th>0</th>\n",
       "      <td>1</td>\n",
       "      <td>5</td>\n",
       "      <td>2</td>\n",
       "      <td>0</td>\n",
       "      <td>0</td>\n",
       "      <td>50.00</td>\n",
       "      <td>7</td>\n",
       "      <td>lbw</td>\n",
       "      <td>1</td>\n",
       "      <td>NaN</td>\n",
       "      <td>v Pakistan</td>\n",
       "      <td>Mohali</td>\n",
       "      <td>1 Apr 1999</td>\n",
       "      <td>ODI # 1427</td>\n",
       "    </tr>\n",
       "    <tr>\n",
       "      <th>1</th>\n",
       "      <td>19</td>\n",
       "      <td>18</td>\n",
       "      <td>24</td>\n",
       "      <td>0</td>\n",
       "      <td>1</td>\n",
       "      <td>79.16</td>\n",
       "      <td>6</td>\n",
       "      <td>caught</td>\n",
       "      <td>1</td>\n",
       "      <td>NaN</td>\n",
       "      <td>v Zimbabwe</td>\n",
       "      <td>Rajkot</td>\n",
       "      <td>14 Dec 2000</td>\n",
       "      <td>ODI # 1660</td>\n",
       "    </tr>\n",
       "    <tr>\n",
       "      <th>2</th>\n",
       "      <td>58</td>\n",
       "      <td>62</td>\n",
       "      <td>54</td>\n",
       "      <td>8</td>\n",
       "      <td>0</td>\n",
       "      <td>107.40</td>\n",
       "      <td>6</td>\n",
       "      <td>bowled</td>\n",
       "      <td>1</td>\n",
       "      <td>NaN</td>\n",
       "      <td>v Australia</td>\n",
       "      <td>Bengaluru</td>\n",
       "      <td>25 Mar 2001</td>\n",
       "      <td>ODI # 1696</td>\n",
       "    </tr>\n",
       "    <tr>\n",
       "      <th>3</th>\n",
       "      <td>2</td>\n",
       "      <td>7</td>\n",
       "      <td>7</td>\n",
       "      <td>0</td>\n",
       "      <td>0</td>\n",
       "      <td>28.57</td>\n",
       "      <td>6</td>\n",
       "      <td>caught</td>\n",
       "      <td>2</td>\n",
       "      <td>NaN</td>\n",
       "      <td>v Zimbabwe</td>\n",
       "      <td>Bulawayo</td>\n",
       "      <td>27 Jun 2001</td>\n",
       "      <td>ODI # 1730</td>\n",
       "    </tr>\n",
       "    <tr>\n",
       "      <th>4</th>\n",
       "      <td>11</td>\n",
       "      <td>19</td>\n",
       "      <td>16</td>\n",
       "      <td>1</td>\n",
       "      <td>0</td>\n",
       "      <td>68.75</td>\n",
       "      <td>6</td>\n",
       "      <td>not out</td>\n",
       "      <td>2</td>\n",
       "      <td>NaN</td>\n",
       "      <td>v West Indies</td>\n",
       "      <td>Bulawayo</td>\n",
       "      <td>30 Jun 2001</td>\n",
       "      <td>ODI # 1731</td>\n",
       "    </tr>\n",
       "    <tr>\n",
       "      <th>...</th>\n",
       "      <td>...</td>\n",
       "      <td>...</td>\n",
       "      <td>...</td>\n",
       "      <td>...</td>\n",
       "      <td>...</td>\n",
       "      <td>...</td>\n",
       "      <td>...</td>\n",
       "      <td>...</td>\n",
       "      <td>...</td>\n",
       "      <td>...</td>\n",
       "      <td>...</td>\n",
       "      <td>...</td>\n",
       "      <td>...</td>\n",
       "      <td>...</td>\n",
       "    </tr>\n",
       "    <tr>\n",
       "      <th>240</th>\n",
       "      <td>15</td>\n",
       "      <td>21</td>\n",
       "      <td>15</td>\n",
       "      <td>2</td>\n",
       "      <td>0</td>\n",
       "      <td>100.00</td>\n",
       "      <td>2</td>\n",
       "      <td>caught</td>\n",
       "      <td>1</td>\n",
       "      <td>NaN</td>\n",
       "      <td>v Sri Lanka</td>\n",
       "      <td>Hambantota</td>\n",
       "      <td>24 Jul 2012</td>\n",
       "      <td>ODI # 3292</td>\n",
       "    </tr>\n",
       "    <tr>\n",
       "      <th>241</th>\n",
       "      <td>3</td>\n",
       "      <td>6</td>\n",
       "      <td>6</td>\n",
       "      <td>0</td>\n",
       "      <td>0</td>\n",
       "      <td>50.00</td>\n",
       "      <td>2</td>\n",
       "      <td>caught</td>\n",
       "      <td>2</td>\n",
       "      <td>NaN</td>\n",
       "      <td>v Sri Lanka</td>\n",
       "      <td>Colombo (RPS)</td>\n",
       "      <td>28 Jul 2012</td>\n",
       "      <td>ODI # 3293</td>\n",
       "    </tr>\n",
       "    <tr>\n",
       "      <th>242</th>\n",
       "      <td>34</td>\n",
       "      <td>46</td>\n",
       "      <td>29</td>\n",
       "      <td>6</td>\n",
       "      <td>0</td>\n",
       "      <td>117.24</td>\n",
       "      <td>2</td>\n",
       "      <td>caught</td>\n",
       "      <td>2</td>\n",
       "      <td>NaN</td>\n",
       "      <td>v Sri Lanka</td>\n",
       "      <td>Colombo (RPS)</td>\n",
       "      <td>31 Jul 2012</td>\n",
       "      <td>ODI # 3294</td>\n",
       "    </tr>\n",
       "    <tr>\n",
       "      <th>243</th>\n",
       "      <td>4</td>\n",
       "      <td>20</td>\n",
       "      <td>11</td>\n",
       "      <td>1</td>\n",
       "      <td>0</td>\n",
       "      <td>36.36</td>\n",
       "      <td>2</td>\n",
       "      <td>bowled</td>\n",
       "      <td>1</td>\n",
       "      <td>NaN</td>\n",
       "      <td>v Pakistan</td>\n",
       "      <td>Chennai</td>\n",
       "      <td>30 Dec 2012</td>\n",
       "      <td>ODI # 3314</td>\n",
       "    </tr>\n",
       "    <tr>\n",
       "      <th>244</th>\n",
       "      <td>31</td>\n",
       "      <td>70</td>\n",
       "      <td>43</td>\n",
       "      <td>3</td>\n",
       "      <td>0</td>\n",
       "      <td>72.09</td>\n",
       "      <td>2</td>\n",
       "      <td>lbw</td>\n",
       "      <td>2</td>\n",
       "      <td>NaN</td>\n",
       "      <td>v Pakistan</td>\n",
       "      <td>Kolkata</td>\n",
       "      <td>3 Jan 2013</td>\n",
       "      <td>ODI # 3315</td>\n",
       "    </tr>\n",
       "  </tbody>\n",
       "</table>\n",
       "<p>245 rows × 14 columns</p>\n",
       "</div>"
      ],
      "text/plain": [
       "     Runs Mins  BF  4s  6s      SR  Pos Dismissal  Inns  Unnamed: 9  \\\n",
       "0       1    5   2   0   0   50.00    7       lbw     1         NaN   \n",
       "1      19   18  24   0   1   79.16    6    caught     1         NaN   \n",
       "2      58   62  54   8   0  107.40    6    bowled     1         NaN   \n",
       "3       2    7   7   0   0   28.57    6    caught     2         NaN   \n",
       "4      11   19  16   1   0   68.75    6   not out     2         NaN   \n",
       "..    ...  ...  ..  ..  ..     ...  ...       ...   ...         ...   \n",
       "240    15   21  15   2   0  100.00    2    caught     1         NaN   \n",
       "241     3    6   6   0   0   50.00    2    caught     2         NaN   \n",
       "242    34   46  29   6   0  117.24    2    caught     2         NaN   \n",
       "243     4   20  11   1   0   36.36    2    bowled     1         NaN   \n",
       "244    31   70  43   3   0   72.09    2       lbw     2         NaN   \n",
       "\n",
       "        Opposition         Ground   Start Date Unnamed: 13  \n",
       "0       v Pakistan         Mohali   1 Apr 1999  ODI # 1427  \n",
       "1       v Zimbabwe         Rajkot  14 Dec 2000  ODI # 1660  \n",
       "2      v Australia      Bengaluru  25 Mar 2001  ODI # 1696  \n",
       "3       v Zimbabwe       Bulawayo  27 Jun 2001  ODI # 1730  \n",
       "4    v West Indies       Bulawayo  30 Jun 2001  ODI # 1731  \n",
       "..             ...            ...          ...         ...  \n",
       "240    v Sri Lanka     Hambantota  24 Jul 2012  ODI # 3292  \n",
       "241    v Sri Lanka  Colombo (RPS)  28 Jul 2012  ODI # 3293  \n",
       "242    v Sri Lanka  Colombo (RPS)  31 Jul 2012  ODI # 3294  \n",
       "243     v Pakistan        Chennai  30 Dec 2012  ODI # 3314  \n",
       "244     v Pakistan        Kolkata   3 Jan 2013  ODI # 3315  \n",
       "\n",
       "[245 rows x 14 columns]"
      ]
     },
     "execution_count": 5,
     "metadata": {},
     "output_type": "execute_result"
    }
   ],
   "source": [
    "sehwag_df"
   ]
  },
  {
   "cell_type": "code",
   "execution_count": 8,
   "id": "f20a2775-977a-441d-81b1-26d8797cf71c",
   "metadata": {},
   "outputs": [
    {
     "data": {
      "text/plain": [
       "count    245.000000\n",
       "mean      33.767347\n",
       "std       34.809419\n",
       "min        0.000000\n",
       "25%        8.000000\n",
       "50%       23.000000\n",
       "75%       46.000000\n",
       "max      219.000000\n",
       "Name: Runs, dtype: float64"
      ]
     },
     "execution_count": 8,
     "metadata": {},
     "output_type": "execute_result"
    }
   ],
   "source": [
    "sehwag_df['Runs'].describe()"
   ]
  },
  {
   "cell_type": "code",
   "execution_count": 10,
   "id": "e9183b6b-1a36-451e-b3ac-002c2f67e890",
   "metadata": {},
   "outputs": [],
   "source": [
    "swg_p_25 = np.percentile(sehwag_df['Runs'],25)"
   ]
  },
  {
   "cell_type": "code",
   "execution_count": 12,
   "id": "3cb1bfcf-7c24-4a2a-8e16-5605f6bc5146",
   "metadata": {},
   "outputs": [],
   "source": [
    "swg_p_50 = np.percentile(sehwag_df['Runs'],50)\n",
    "swg_p_75 = np.percentile(sehwag_df['Runs'],75)"
   ]
  },
  {
   "cell_type": "code",
   "execution_count": 13,
   "id": "0e63f70a-5e01-4743-90c7-c943d1a48466",
   "metadata": {},
   "outputs": [
    {
     "data": {
      "text/plain": [
       "(8.0, 23.0, 46.0)"
      ]
     },
     "execution_count": 13,
     "metadata": {},
     "output_type": "execute_result"
    }
   ],
   "source": [
    "swg_p_25,swg_p_50,swg_p_75"
   ]
  },
  {
   "cell_type": "code",
   "execution_count": 14,
   "id": "fcc574eb-e39c-4887-9650-07cd820fc0ac",
   "metadata": {},
   "outputs": [
    {
     "data": {
      "text/plain": [
       "<Axes: ylabel='Runs'>"
      ]
     },
     "execution_count": 14,
     "metadata": {},
     "output_type": "execute_result"
    },
    {
     "data": {
      "image/png": "[encoded data removed]",
      "text/plain": [
       "<Figure size 640x480 with 1 Axes>"
      ]
     },
     "metadata": {},
     "output_type": "display_data"
    }
   ],
   "source": [
    "sns.boxplot(sehwag_df['Runs'])"
   ]
  },
  {
   "cell_type": "code",
   "execution_count": 16,
   "id": "ea1b5f78-dbbe-4138-97b2-c015f61caf91",
   "metadata": {},
   "outputs": [],
   "source": [
    "SWG_IQR = swg_p_75 - swg_p_25"
   ]
  },
  {
   "cell_type": "code",
   "execution_count": 17,
   "id": "6017177a-d72c-43a0-8102-b02c3162b7ca",
   "metadata": {},
   "outputs": [],
   "source": [
    "swg_upper_wskr = swg_p_75 + 1.5*SWG_IQR"
   ]
  },
  {
   "cell_type": "code",
   "execution_count": 18,
   "id": "0a126f78-a857-435e-b5d2-2782064cf77b",
   "metadata": {},
   "outputs": [
    {
     "data": {
      "text/plain": [
       "103.0"
      ]
     },
     "execution_count": 18,
     "metadata": {},
     "output_type": "execute_result"
    }
   ],
   "source": [
    "swg_upper_wskr"
   ]
  },
  {
   "cell_type": "code",
   "execution_count": 19,
   "id": "9df2e484-eee3-4680-a771-bcaf87b53b32",
   "metadata": {},
   "outputs": [
    {
     "data": {
      "text/plain": [
       "38.0"
      ]
     },
     "execution_count": 19,
     "metadata": {},
     "output_type": "execute_result"
    }
   ],
   "source": [
    "SWG_IQR"
   ]
  },
  {
   "cell_type": "code",
   "execution_count": 20,
   "id": "7a85a0f3-dfda-4b4e-994d-68ef18d22e22",
   "metadata": {},
   "outputs": [
    {
     "data": {
      "text/plain": [
       "219"
      ]
     },
     "execution_count": 20,
     "metadata": {},
     "output_type": "execute_result"
    }
   ],
   "source": [
    "swg_normal_range = sehwag_df['Runs'].max() - sehwag_df['Runs'].min()\n",
    "swg_normal_range"
   ]
  },
  {
   "cell_type": "code",
   "execution_count": 21,
   "id": "a0865d18-b827-4ece-8edc-23324aacac14",
   "metadata": {},
   "outputs": [
    {
     "data": {
      "text/html": [
       "<div>\n",
       "<style scoped>\n",
       "    .dataframe tbody tr th:only-of-type {\n",
       "        vertical-align: middle;\n",
       "    }\n",
       "\n",
       "    .dataframe tbody tr th {\n",
       "        vertical-align: top;\n",
       "    }\n",
       "\n",
       "    .dataframe thead th {\n",
       "        text-align: right;\n",
       "    }\n",
       "</style>\n",
       "<table border=\"1\" class=\"dataframe\">\n",
       "  <thead>\n",
       "    <tr style=\"text-align: right;\">\n",
       "      <th></th>\n",
       "      <th>Runs</th>\n",
       "      <th>Mins</th>\n",
       "      <th>BF</th>\n",
       "      <th>4s</th>\n",
       "      <th>6s</th>\n",
       "      <th>SR</th>\n",
       "      <th>Pos</th>\n",
       "      <th>Dismissal</th>\n",
       "      <th>Inns</th>\n",
       "      <th>Unnamed: 9</th>\n",
       "      <th>Opposition</th>\n",
       "      <th>Ground</th>\n",
       "      <th>Start Date</th>\n",
       "      <th>Unnamed: 13</th>\n",
       "    </tr>\n",
       "  </thead>\n",
       "  <tbody>\n",
       "    <tr>\n",
       "      <th>37</th>\n",
       "      <td>126</td>\n",
       "      <td>136</td>\n",
       "      <td>104</td>\n",
       "      <td>21</td>\n",
       "      <td>1</td>\n",
       "      <td>121.15</td>\n",
       "      <td>1</td>\n",
       "      <td>caught</td>\n",
       "      <td>2</td>\n",
       "      <td>NaN</td>\n",
       "      <td>v England</td>\n",
       "      <td>Colombo (RPS)</td>\n",
       "      <td>22 Sep 2002</td>\n",
       "      <td>ODI # 1884</td>\n",
       "    </tr>\n",
       "    <tr>\n",
       "      <th>43</th>\n",
       "      <td>114</td>\n",
       "      <td>-</td>\n",
       "      <td>82</td>\n",
       "      <td>17</td>\n",
       "      <td>2</td>\n",
       "      <td>139.02</td>\n",
       "      <td>2</td>\n",
       "      <td>not out</td>\n",
       "      <td>2</td>\n",
       "      <td>NaN</td>\n",
       "      <td>v West Indies</td>\n",
       "      <td>Rajkot</td>\n",
       "      <td>12 Nov 2002</td>\n",
       "      <td>ODI # 1895</td>\n",
       "    </tr>\n",
       "    <tr>\n",
       "      <th>49</th>\n",
       "      <td>108</td>\n",
       "      <td>160</td>\n",
       "      <td>119</td>\n",
       "      <td>9</td>\n",
       "      <td>2</td>\n",
       "      <td>90.75</td>\n",
       "      <td>2</td>\n",
       "      <td>run out</td>\n",
       "      <td>2</td>\n",
       "      <td>NaN</td>\n",
       "      <td>v New Zealand</td>\n",
       "      <td>Napier</td>\n",
       "      <td>29 Dec 2002</td>\n",
       "      <td>ODI # 1927</td>\n",
       "    </tr>\n",
       "    <tr>\n",
       "      <th>53</th>\n",
       "      <td>112</td>\n",
       "      <td>175</td>\n",
       "      <td>139</td>\n",
       "      <td>11</td>\n",
       "      <td>3</td>\n",
       "      <td>80.57</td>\n",
       "      <td>2</td>\n",
       "      <td>caught</td>\n",
       "      <td>2</td>\n",
       "      <td>NaN</td>\n",
       "      <td>v New Zealand</td>\n",
       "      <td>Auckland</td>\n",
       "      <td>11 Jan 2003</td>\n",
       "      <td>ODI # 1933</td>\n",
       "    </tr>\n",
       "    <tr>\n",
       "      <th>75</th>\n",
       "      <td>130</td>\n",
       "      <td>193</td>\n",
       "      <td>134</td>\n",
       "      <td>15</td>\n",
       "      <td>2</td>\n",
       "      <td>97.01</td>\n",
       "      <td>1</td>\n",
       "      <td>caught</td>\n",
       "      <td>1</td>\n",
       "      <td>NaN</td>\n",
       "      <td>v New Zealand</td>\n",
       "      <td>Hyderabad (Deccan)</td>\n",
       "      <td>15 Nov 2003</td>\n",
       "      <td>ODI # 2062</td>\n",
       "    </tr>\n",
       "    <tr>\n",
       "      <th>104</th>\n",
       "      <td>108</td>\n",
       "      <td>156</td>\n",
       "      <td>95</td>\n",
       "      <td>9</td>\n",
       "      <td>3</td>\n",
       "      <td>113.68</td>\n",
       "      <td>1</td>\n",
       "      <td>bowled</td>\n",
       "      <td>1</td>\n",
       "      <td>NaN</td>\n",
       "      <td>v Pakistan</td>\n",
       "      <td>Kochi</td>\n",
       "      <td>2 Apr 2005</td>\n",
       "      <td>ODI # 2235</td>\n",
       "    </tr>\n",
       "    <tr>\n",
       "      <th>163</th>\n",
       "      <td>114</td>\n",
       "      <td>127</td>\n",
       "      <td>87</td>\n",
       "      <td>17</td>\n",
       "      <td>3</td>\n",
       "      <td>131.03</td>\n",
       "      <td>3</td>\n",
       "      <td>caught</td>\n",
       "      <td>1</td>\n",
       "      <td>NaN</td>\n",
       "      <td>v Bermuda</td>\n",
       "      <td>Port of Spain</td>\n",
       "      <td>19 Mar 2007</td>\n",
       "      <td>ODI # 2542</td>\n",
       "    </tr>\n",
       "    <tr>\n",
       "      <th>182</th>\n",
       "      <td>119</td>\n",
       "      <td>150</td>\n",
       "      <td>95</td>\n",
       "      <td>12</td>\n",
       "      <td>5</td>\n",
       "      <td>125.26</td>\n",
       "      <td>2</td>\n",
       "      <td>caught</td>\n",
       "      <td>2</td>\n",
       "      <td>NaN</td>\n",
       "      <td>v Pakistan</td>\n",
       "      <td>Karachi</td>\n",
       "      <td>26 Jun 2008</td>\n",
       "      <td>ODI # 2717</td>\n",
       "    </tr>\n",
       "    <tr>\n",
       "      <th>192</th>\n",
       "      <td>116</td>\n",
       "      <td>165</td>\n",
       "      <td>90</td>\n",
       "      <td>17</td>\n",
       "      <td>0</td>\n",
       "      <td>128.88</td>\n",
       "      <td>1</td>\n",
       "      <td>run out</td>\n",
       "      <td>1</td>\n",
       "      <td>NaN</td>\n",
       "      <td>v Sri Lanka</td>\n",
       "      <td>Colombo (RPS)</td>\n",
       "      <td>3 Feb 2009</td>\n",
       "      <td>ODI # 2813</td>\n",
       "    </tr>\n",
       "    <tr>\n",
       "      <th>198</th>\n",
       "      <td>125</td>\n",
       "      <td>106</td>\n",
       "      <td>74</td>\n",
       "      <td>14</td>\n",
       "      <td>6</td>\n",
       "      <td>168.91</td>\n",
       "      <td>2</td>\n",
       "      <td>not out</td>\n",
       "      <td>2</td>\n",
       "      <td>NaN</td>\n",
       "      <td>v New Zealand</td>\n",
       "      <td>Hamilton</td>\n",
       "      <td>11 Mar 2009</td>\n",
       "      <td>ODI # 2824</td>\n",
       "    </tr>\n",
       "    <tr>\n",
       "      <th>206</th>\n",
       "      <td>146</td>\n",
       "      <td>166</td>\n",
       "      <td>102</td>\n",
       "      <td>17</td>\n",
       "      <td>6</td>\n",
       "      <td>143.13</td>\n",
       "      <td>1</td>\n",
       "      <td>caught</td>\n",
       "      <td>1</td>\n",
       "      <td>NaN</td>\n",
       "      <td>v Sri Lanka</td>\n",
       "      <td>Rajkot</td>\n",
       "      <td>15 Dec 2009</td>\n",
       "      <td>ODI # 2932</td>\n",
       "    </tr>\n",
       "    <tr>\n",
       "      <th>220</th>\n",
       "      <td>110</td>\n",
       "      <td>136</td>\n",
       "      <td>93</td>\n",
       "      <td>16</td>\n",
       "      <td>1</td>\n",
       "      <td>118.27</td>\n",
       "      <td>2</td>\n",
       "      <td>caught</td>\n",
       "      <td>1</td>\n",
       "      <td>NaN</td>\n",
       "      <td>v New Zealand</td>\n",
       "      <td>Dambulla</td>\n",
       "      <td>25 Aug 2010</td>\n",
       "      <td>ODI # 3039</td>\n",
       "    </tr>\n",
       "    <tr>\n",
       "      <th>222</th>\n",
       "      <td>175</td>\n",
       "      <td>198</td>\n",
       "      <td>140</td>\n",
       "      <td>14</td>\n",
       "      <td>5</td>\n",
       "      <td>125.00</td>\n",
       "      <td>1</td>\n",
       "      <td>bowled</td>\n",
       "      <td>1</td>\n",
       "      <td>NaN</td>\n",
       "      <td>v Bangladesh</td>\n",
       "      <td>Mirpur</td>\n",
       "      <td>19 Feb 2011</td>\n",
       "      <td>ODI # 3100</td>\n",
       "    </tr>\n",
       "    <tr>\n",
       "      <th>233</th>\n",
       "      <td>219</td>\n",
       "      <td>208</td>\n",
       "      <td>149</td>\n",
       "      <td>25</td>\n",
       "      <td>7</td>\n",
       "      <td>146.97</td>\n",
       "      <td>2</td>\n",
       "      <td>caught</td>\n",
       "      <td>1</td>\n",
       "      <td>NaN</td>\n",
       "      <td>v West Indies</td>\n",
       "      <td>Indore</td>\n",
       "      <td>8 Dec 2011</td>\n",
       "      <td>ODI # 3223</td>\n",
       "    </tr>\n",
       "  </tbody>\n",
       "</table>\n",
       "</div>"
      ],
      "text/plain": [
       "     Runs Mins   BF  4s  6s      SR  Pos Dismissal  Inns  Unnamed: 9  \\\n",
       "37    126  136  104  21   1  121.15    1    caught     2         NaN   \n",
       "43    114    -   82  17   2  139.02    2   not out     2         NaN   \n",
       "49    108  160  119   9   2   90.75    2   run out     2         NaN   \n",
       "53    112  175  139  11   3   80.57    2    caught     2         NaN   \n",
       "75    130  193  134  15   2   97.01    1    caught     1         NaN   \n",
       "104   108  156   95   9   3  113.68    1    bowled     1         NaN   \n",
       "163   114  127   87  17   3  131.03    3    caught     1         NaN   \n",
       "182   119  150   95  12   5  125.26    2    caught     2         NaN   \n",
       "192   116  165   90  17   0  128.88    1   run out     1         NaN   \n",
       "198   125  106   74  14   6  168.91    2   not out     2         NaN   \n",
       "206   146  166  102  17   6  143.13    1    caught     1         NaN   \n",
       "220   110  136   93  16   1  118.27    2    caught     1         NaN   \n",
       "222   175  198  140  14   5  125.00    1    bowled     1         NaN   \n",
       "233   219  208  149  25   7  146.97    2    caught     1         NaN   \n",
       "\n",
       "        Opposition              Ground   Start Date Unnamed: 13  \n",
       "37       v England       Colombo (RPS)  22 Sep 2002  ODI # 1884  \n",
       "43   v West Indies              Rajkot  12 Nov 2002  ODI # 1895  \n",
       "49   v New Zealand              Napier  29 Dec 2002  ODI # 1927  \n",
       "53   v New Zealand            Auckland  11 Jan 2003  ODI # 1933  \n",
       "75   v New Zealand  Hyderabad (Deccan)  15 Nov 2003  ODI # 2062  \n",
       "104     v Pakistan               Kochi   2 Apr 2005  ODI # 2235  \n",
       "163      v Bermuda       Port of Spain  19 Mar 2007  ODI # 2542  \n",
       "182     v Pakistan             Karachi  26 Jun 2008  ODI # 2717  \n",
       "192    v Sri Lanka       Colombo (RPS)   3 Feb 2009  ODI # 2813  \n",
       "198  v New Zealand            Hamilton  11 Mar 2009  ODI # 2824  \n",
       "206    v Sri Lanka              Rajkot  15 Dec 2009  ODI # 2932  \n",
       "220  v New Zealand            Dambulla  25 Aug 2010  ODI # 3039  \n",
       "222   v Bangladesh              Mirpur  19 Feb 2011  ODI # 3100  \n",
       "233  v West Indies              Indore   8 Dec 2011  ODI # 3223  "
      ]
     },
     "execution_count": 21,
     "metadata": {},
     "output_type": "execute_result"
    }
   ],
   "source": [
    "swg_outlier = sehwag_df.loc[sehwag_df['Runs']>swg_upper_wskr]\n",
    "swg_outlier"
   ]
  },
  {
   "cell_type": "code",
   "execution_count": 22,
   "id": "15830f53-cfe0-498a-b35b-22b57925c92f",
   "metadata": {},
   "outputs": [
    {
     "data": {
      "text/plain": [
       "14"
      ]
     },
     "execution_count": 22,
     "metadata": {},
     "output_type": "execute_result"
    }
   ],
   "source": [
    "len(swg_outlier)"
   ]
  },
  {
   "cell_type": "code",
   "execution_count": 25,
   "id": "3b00aabf-25c8-46d7-b549-c6895925d9c3",
   "metadata": {},
   "outputs": [
    {
     "data": {
      "text/plain": [
       "(10.0, 26.0, 54.0)"
      ]
     },
     "execution_count": 25,
     "metadata": {},
     "output_type": "execute_result"
    }
   ],
   "source": [
    "drvd_P_25 = np.percentile(dravid_df['Runs'],25)\n",
    "drvd_P_50 = np.percentile(dravid_df['Runs'],50)\n",
    "drvd_P_75 = np.percentile(dravid_df['Runs'],75)\n",
    "drvd_P_25,drvd_P_50,drvd_P_75"
   ]
  },
  {
   "cell_type": "code",
   "execution_count": 26,
   "id": "1e85e545-763a-4b0a-899f-8998ff048b19",
   "metadata": {},
   "outputs": [
    {
     "data": {
      "text/html": [
       "<div>\n",
       "<style scoped>\n",
       "    .dataframe tbody tr th:only-of-type {\n",
       "        vertical-align: middle;\n",
       "    }\n",
       "\n",
       "    .dataframe tbody tr th {\n",
       "        vertical-align: top;\n",
       "    }\n",
       "\n",
       "    .dataframe thead th {\n",
       "        text-align: right;\n",
       "    }\n",
       "</style>\n",
       "<table border=\"1\" class=\"dataframe\">\n",
       "  <thead>\n",
       "    <tr style=\"text-align: right;\">\n",
       "      <th></th>\n",
       "      <th>Runs</th>\n",
       "      <th>BF</th>\n",
       "      <th>4s</th>\n",
       "      <th>6s</th>\n",
       "      <th>SR</th>\n",
       "      <th>Pos</th>\n",
       "      <th>Inns</th>\n",
       "      <th>Unnamed: 9</th>\n",
       "    </tr>\n",
       "  </thead>\n",
       "  <tbody>\n",
       "    <tr>\n",
       "      <th>count</th>\n",
       "      <td>318.000000</td>\n",
       "      <td>318.000000</td>\n",
       "      <td>318.000000</td>\n",
       "      <td>318.000000</td>\n",
       "      <td>318.00000</td>\n",
       "      <td>318.000000</td>\n",
       "      <td>318.000000</td>\n",
       "      <td>0.0</td>\n",
       "    </tr>\n",
       "    <tr>\n",
       "      <th>mean</th>\n",
       "      <td>34.242138</td>\n",
       "      <td>48.066038</td>\n",
       "      <td>2.987421</td>\n",
       "      <td>0.132075</td>\n",
       "      <td>66.89434</td>\n",
       "      <td>3.839623</td>\n",
       "      <td>1.481132</td>\n",
       "      <td>NaN</td>\n",
       "    </tr>\n",
       "    <tr>\n",
       "      <th>std</th>\n",
       "      <td>29.681822</td>\n",
       "      <td>34.286583</td>\n",
       "      <td>2.930289</td>\n",
       "      <td>0.429411</td>\n",
       "      <td>36.72385</td>\n",
       "      <td>1.107503</td>\n",
       "      <td>0.500431</td>\n",
       "      <td>NaN</td>\n",
       "    </tr>\n",
       "    <tr>\n",
       "      <th>min</th>\n",
       "      <td>0.000000</td>\n",
       "      <td>1.000000</td>\n",
       "      <td>0.000000</td>\n",
       "      <td>0.000000</td>\n",
       "      <td>0.00000</td>\n",
       "      <td>1.000000</td>\n",
       "      <td>1.000000</td>\n",
       "      <td>NaN</td>\n",
       "    </tr>\n",
       "    <tr>\n",
       "      <th>25%</th>\n",
       "      <td>10.000000</td>\n",
       "      <td>19.000000</td>\n",
       "      <td>1.000000</td>\n",
       "      <td>0.000000</td>\n",
       "      <td>46.75750</td>\n",
       "      <td>3.000000</td>\n",
       "      <td>1.000000</td>\n",
       "      <td>NaN</td>\n",
       "    </tr>\n",
       "    <tr>\n",
       "      <th>50%</th>\n",
       "      <td>26.000000</td>\n",
       "      <td>41.000000</td>\n",
       "      <td>2.000000</td>\n",
       "      <td>0.000000</td>\n",
       "      <td>66.45500</td>\n",
       "      <td>4.000000</td>\n",
       "      <td>1.000000</td>\n",
       "      <td>NaN</td>\n",
       "    </tr>\n",
       "    <tr>\n",
       "      <th>75%</th>\n",
       "      <td>54.000000</td>\n",
       "      <td>72.000000</td>\n",
       "      <td>4.000000</td>\n",
       "      <td>0.000000</td>\n",
       "      <td>81.98500</td>\n",
       "      <td>5.000000</td>\n",
       "      <td>2.000000</td>\n",
       "      <td>NaN</td>\n",
       "    </tr>\n",
       "    <tr>\n",
       "      <th>max</th>\n",
       "      <td>153.000000</td>\n",
       "      <td>153.000000</td>\n",
       "      <td>17.000000</td>\n",
       "      <td>3.000000</td>\n",
       "      <td>350.00000</td>\n",
       "      <td>8.000000</td>\n",
       "      <td>2.000000</td>\n",
       "      <td>NaN</td>\n",
       "    </tr>\n",
       "  </tbody>\n",
       "</table>\n",
       "</div>"
      ],
      "text/plain": [
       "             Runs          BF          4s          6s         SR         Pos  \\\n",
       "count  318.000000  318.000000  318.000000  318.000000  318.00000  318.000000   \n",
       "mean    34.242138   48.066038    2.987421    0.132075   66.89434    3.839623   \n",
       "std     29.681822   34.286583    2.930289    0.429411   36.72385    1.107503   \n",
       "min      0.000000    1.000000    0.000000    0.000000    0.00000    1.000000   \n",
       "25%     10.000000   19.000000    1.000000    0.000000   46.75750    3.000000   \n",
       "50%     26.000000   41.000000    2.000000    0.000000   66.45500    4.000000   \n",
       "75%     54.000000   72.000000    4.000000    0.000000   81.98500    5.000000   \n",
       "max    153.000000  153.000000   17.000000    3.000000  350.00000    8.000000   \n",
       "\n",
       "             Inns  Unnamed: 9  \n",
       "count  318.000000         0.0  \n",
       "mean     1.481132         NaN  \n",
       "std      0.500431         NaN  \n",
       "min      1.000000         NaN  \n",
       "25%      1.000000         NaN  \n",
       "50%      1.000000         NaN  \n",
       "75%      2.000000         NaN  \n",
       "max      2.000000         NaN  "
      ]
     },
     "execution_count": 26,
     "metadata": {},
     "output_type": "execute_result"
    }
   ],
   "source": [
    "dravid_df.describe()"
   ]
  },
  {
   "cell_type": "code",
   "execution_count": 27,
   "id": "05f18df1-d80f-445d-a5d0-c56ac7cf35ed",
   "metadata": {},
   "outputs": [
    {
     "data": {
      "text/plain": [
       "153"
      ]
     },
     "execution_count": 27,
     "metadata": {},
     "output_type": "execute_result"
    }
   ],
   "source": [
    "normal_range = dravid_df['Runs'].max() - dravid_df['Runs'].min()\n",
    "normal_range"
   ]
  },
  {
   "cell_type": "code",
   "execution_count": 29,
   "id": "f08f0528-43b6-4d33-ae12-e09ff5d00aa7",
   "metadata": {},
   "outputs": [
    {
     "data": {
      "text/plain": [
       "44.0"
      ]
     },
     "execution_count": 29,
     "metadata": {},
     "output_type": "execute_result"
    }
   ],
   "source": [
    "drvd_iqr = drvd_P_75 - drvd_P_25\n",
    "drvd_iqr"
   ]
  },
  {
   "cell_type": "code",
   "execution_count": 30,
   "id": "4fe5a301-e316-41ca-b738-560328e14e3f",
   "metadata": {},
   "outputs": [],
   "source": [
    "drvd_upper_wskr = drvd_P_75 + 1.5*drvd_iqr"
   ]
  },
  {
   "cell_type": "code",
   "execution_count": 31,
   "id": "9f625128-c408-4efa-880f-ef9244b28baa",
   "metadata": {},
   "outputs": [
    {
     "data": {
      "text/plain": [
       "120.0"
      ]
     },
     "execution_count": 31,
     "metadata": {},
     "output_type": "execute_result"
    }
   ],
   "source": [
    "drvd_upper_wskr"
   ]
  },
  {
   "cell_type": "code",
   "execution_count": 32,
   "id": "fd58c916-f8ae-4cee-acf1-dffbf7c63c89",
   "metadata": {},
   "outputs": [
    {
     "data": {
      "text/plain": [
       "<Axes: ylabel='Runs'>"
      ]
     },
     "execution_count": 32,
     "metadata": {},
     "output_type": "execute_result"
    },
    {
     "data": {
      "image/png": "[encoded data removed]",
      "text/plain": [
       "<Figure size 640x480 with 1 Axes>"
      ]
     },
     "metadata": {},
     "output_type": "display_data"
    }
   ],
   "source": [
    "sns.boxplot(dravid_df['Runs'])"
   ]
  },
  {
   "cell_type": "code",
   "execution_count": 33,
   "id": "6926111c-e8a3-46e8-ab59-8de977ddce52",
   "metadata": {},
   "outputs": [
    {
     "data": {
      "text/html": [
       "<div>\n",
       "<style scoped>\n",
       "    .dataframe tbody tr th:only-of-type {\n",
       "        vertical-align: middle;\n",
       "    }\n",
       "\n",
       "    .dataframe tbody tr th {\n",
       "        vertical-align: top;\n",
       "    }\n",
       "\n",
       "    .dataframe thead th {\n",
       "        text-align: right;\n",
       "    }\n",
       "</style>\n",
       "<table border=\"1\" class=\"dataframe\">\n",
       "  <thead>\n",
       "    <tr style=\"text-align: right;\">\n",
       "      <th></th>\n",
       "      <th>Runs</th>\n",
       "      <th>Mins</th>\n",
       "      <th>BF</th>\n",
       "      <th>4s</th>\n",
       "      <th>6s</th>\n",
       "      <th>SR</th>\n",
       "      <th>Pos</th>\n",
       "      <th>Dismissal</th>\n",
       "      <th>Inns</th>\n",
       "      <th>Unnamed: 9</th>\n",
       "      <th>Opposition</th>\n",
       "      <th>Ground</th>\n",
       "      <th>Start Date</th>\n",
       "      <th>Unnamed: 13</th>\n",
       "    </tr>\n",
       "  </thead>\n",
       "  <tbody>\n",
       "    <tr>\n",
       "      <th>58</th>\n",
       "      <td>123</td>\n",
       "      <td>201</td>\n",
       "      <td>123</td>\n",
       "      <td>10</td>\n",
       "      <td>1</td>\n",
       "      <td>100.0</td>\n",
       "      <td>3</td>\n",
       "      <td>not out</td>\n",
       "      <td>1</td>\n",
       "      <td>NaN</td>\n",
       "      <td>v New Zealand</td>\n",
       "      <td>Taupo</td>\n",
       "      <td>9 Jan 1999</td>\n",
       "      <td>ODI # 1378</td>\n",
       "    </tr>\n",
       "    <tr>\n",
       "      <th>76</th>\n",
       "      <td>145</td>\n",
       "      <td>179</td>\n",
       "      <td>129</td>\n",
       "      <td>17</td>\n",
       "      <td>1</td>\n",
       "      <td>112.4</td>\n",
       "      <td>3</td>\n",
       "      <td>run out</td>\n",
       "      <td>1</td>\n",
       "      <td>NaN</td>\n",
       "      <td>v Sri Lanka</td>\n",
       "      <td>Taunton</td>\n",
       "      <td>26 May 1999</td>\n",
       "      <td>ODI # 1463</td>\n",
       "    </tr>\n",
       "    <tr>\n",
       "      <th>97</th>\n",
       "      <td>153</td>\n",
       "      <td>196</td>\n",
       "      <td>153</td>\n",
       "      <td>15</td>\n",
       "      <td>2</td>\n",
       "      <td>100.0</td>\n",
       "      <td>3</td>\n",
       "      <td>caught</td>\n",
       "      <td>1</td>\n",
       "      <td>NaN</td>\n",
       "      <td>v New Zealand</td>\n",
       "      <td>Hyderabad (Deccan)</td>\n",
       "      <td>8 Nov 1999</td>\n",
       "      <td>ODI # 1523</td>\n",
       "    </tr>\n",
       "  </tbody>\n",
       "</table>\n",
       "</div>"
      ],
      "text/plain": [
       "    Runs Mins   BF  4s  6s     SR  Pos Dismissal  Inns  Unnamed: 9  \\\n",
       "58   123  201  123  10   1  100.0    3   not out     1         NaN   \n",
       "76   145  179  129  17   1  112.4    3   run out     1         NaN   \n",
       "97   153  196  153  15   2  100.0    3    caught     1         NaN   \n",
       "\n",
       "       Opposition              Ground   Start Date Unnamed: 13  \n",
       "58  v New Zealand               Taupo   9 Jan 1999  ODI # 1378  \n",
       "76    v Sri Lanka             Taunton  26 May 1999  ODI # 1463  \n",
       "97  v New Zealand  Hyderabad (Deccan)   8 Nov 1999  ODI # 1523  "
      ]
     },
     "execution_count": 33,
     "metadata": {},
     "output_type": "execute_result"
    }
   ],
   "source": [
    "outlier_upper_wisker = dravid_df.loc[dravid_df['Runs']>drvd_upper_wskr]\n",
    "outlier_upper_wisker"
   ]
  },
  {
   "cell_type": "code",
   "execution_count": 34,
   "id": "235f2b29-5a00-4df6-aff5-28e99a0747c0",
   "metadata": {},
   "outputs": [
    {
     "data": {
      "text/plain": [
       "3"
      ]
     },
     "execution_count": 34,
     "metadata": {},
     "output_type": "execute_result"
    }
   ],
   "source": [
    "len(outlier_upper_wisker)"
   ]
  },
  {
   "cell_type": "code",
   "execution_count": 36,
   "id": "f79db0c9-8547-4c65-9cc5-3a4587550ab4",
   "metadata": {},
   "outputs": [
    {
     "data": {
      "text/html": [
       "<div>\n",
       "<style scoped>\n",
       "    .dataframe tbody tr th:only-of-type {\n",
       "        vertical-align: middle;\n",
       "    }\n",
       "\n",
       "    .dataframe tbody tr th {\n",
       "        vertical-align: top;\n",
       "    }\n",
       "\n",
       "    .dataframe thead th {\n",
       "        text-align: right;\n",
       "    }\n",
       "</style>\n",
       "<table border=\"1\" class=\"dataframe\">\n",
       "  <thead>\n",
       "    <tr style=\"text-align: right;\">\n",
       "      <th></th>\n",
       "      <th>Gender</th>\n",
       "      <th>Height</th>\n",
       "      <th>Weight</th>\n",
       "    </tr>\n",
       "  </thead>\n",
       "  <tbody>\n",
       "    <tr>\n",
       "      <th>0</th>\n",
       "      <td>Male</td>\n",
       "      <td>73.847017</td>\n",
       "      <td>241.893563</td>\n",
       "    </tr>\n",
       "    <tr>\n",
       "      <th>1</th>\n",
       "      <td>Male</td>\n",
       "      <td>68.781904</td>\n",
       "      <td>162.310473</td>\n",
       "    </tr>\n",
       "    <tr>\n",
       "      <th>2</th>\n",
       "      <td>Male</td>\n",
       "      <td>74.110105</td>\n",
       "      <td>212.740856</td>\n",
       "    </tr>\n",
       "    <tr>\n",
       "      <th>3</th>\n",
       "      <td>Male</td>\n",
       "      <td>71.730978</td>\n",
       "      <td>220.042470</td>\n",
       "    </tr>\n",
       "    <tr>\n",
       "      <th>4</th>\n",
       "      <td>Male</td>\n",
       "      <td>69.881796</td>\n",
       "      <td>206.349801</td>\n",
       "    </tr>\n",
       "    <tr>\n",
       "      <th>...</th>\n",
       "      <td>...</td>\n",
       "      <td>...</td>\n",
       "      <td>...</td>\n",
       "    </tr>\n",
       "    <tr>\n",
       "      <th>9995</th>\n",
       "      <td>Female</td>\n",
       "      <td>66.172652</td>\n",
       "      <td>136.777454</td>\n",
       "    </tr>\n",
       "    <tr>\n",
       "      <th>9996</th>\n",
       "      <td>Female</td>\n",
       "      <td>67.067155</td>\n",
       "      <td>170.867906</td>\n",
       "    </tr>\n",
       "    <tr>\n",
       "      <th>9997</th>\n",
       "      <td>Female</td>\n",
       "      <td>63.867992</td>\n",
       "      <td>128.475319</td>\n",
       "    </tr>\n",
       "    <tr>\n",
       "      <th>9998</th>\n",
       "      <td>Female</td>\n",
       "      <td>69.034243</td>\n",
       "      <td>163.852461</td>\n",
       "    </tr>\n",
       "    <tr>\n",
       "      <th>9999</th>\n",
       "      <td>Female</td>\n",
       "      <td>61.944246</td>\n",
       "      <td>113.649103</td>\n",
       "    </tr>\n",
       "  </tbody>\n",
       "</table>\n",
       "<p>10000 rows × 3 columns</p>\n",
       "</div>"
      ],
      "text/plain": [
       "      Gender     Height      Weight\n",
       "0       Male  73.847017  241.893563\n",
       "1       Male  68.781904  162.310473\n",
       "2       Male  74.110105  212.740856\n",
       "3       Male  71.730978  220.042470\n",
       "4       Male  69.881796  206.349801\n",
       "...      ...        ...         ...\n",
       "9995  Female  66.172652  136.777454\n",
       "9996  Female  67.067155  170.867906\n",
       "9997  Female  63.867992  128.475319\n",
       "9998  Female  69.034243  163.852461\n",
       "9999  Female  61.944246  113.649103\n",
       "\n",
       "[10000 rows x 3 columns]"
      ]
     },
     "execution_count": 36,
     "metadata": {},
     "output_type": "execute_result"
    }
   ],
   "source": [
    "weight_height_df"
   ]
  },
  {
   "cell_type": "code",
   "execution_count": 37,
   "id": "b4743e5e-8e2b-4c30-889a-42746ed6b8e4",
   "metadata": {},
   "outputs": [
    {
     "data": {
      "text/plain": [
       "<Axes: ylabel='Height'>"
      ]
     },
     "execution_count": 37,
     "metadata": {},
     "output_type": "execute_result"
    },
    {
     "data": {
      "image/png": "[encoded data removed]",
      "text/plain": [
       "<Figure size 640x480 with 1 Axes>"
      ]
     },
     "metadata": {},
     "output_type": "display_data"
    }
   ],
   "source": [
    "sns.barplot(weight_height_df['Height'])"
   ]
  },
  {
   "cell_type": "code",
   "execution_count": 38,
   "id": "5a8a38b0-af30-47af-ae01-7349685779b7",
   "metadata": {},
   "outputs": [],
   "source": [
    "plt.show()"
   ]
  },
  {
   "cell_type": "code",
   "execution_count": 39,
   "id": "1eae783c-8d60-4910-a6ae-be346f07d87d",
   "metadata": {},
   "outputs": [
    {
     "ename": "ModuleNotFoundError",
     "evalue": "No module named 'scipy'",
     "output_type": "error",
     "traceback": [
      "\u001b[0;31m---------------------------------------------------------------------------\u001b[0m",
      "\u001b[0;31mModuleNotFoundError\u001b[0m                       Traceback (most recent call last)",
      "Cell \u001b[0;32mIn[39], line 1\u001b[0m\n\u001b[0;32m----> 1\u001b[0m \u001b[38;5;28;01mimport\u001b[39;00m \u001b[38;5;21;01mscipy\u001b[39;00m\n",
      "\u001b[0;31mModuleNotFoundError\u001b[0m: No module named 'scipy'"
     ]
    }
   ],
   "source": [
    "import scipy"
   ]
  },
  {
   "cell_type": "code",
   "execution_count": 40,
   "id": "c4f1611a-c2d9-4d48-b9fe-c7e0f7d3ada7",
   "metadata": {},
   "outputs": [
    {
     "name": "stdout",
     "output_type": "stream",
     "text": [
      "Defaulting to user installation because normal site-packages is not writeable\n",
      "Collecting scipy\n",
      "  Downloading scipy-1.12.0-cp310-cp310-manylinux_2_17_x86_64.manylinux2014_x86_64.whl (38.4 MB)\n",
      "\u001b[2K     \u001b[38;2;114;156;31m━━━━━━━━━━━━━━━━━━━━━━━━━━━━━━━━━━━━━━━━\u001b[0m \u001b[32m38.4/38.4 MB\u001b[0m \u001b[31m3.9 MB/s\u001b[0m eta \u001b[36m0:00:00\u001b[0mm eta \u001b[36m0:00:01\u001b[0m[36m0:00:01\u001b[0m\n",
      "\u001b[?25hRequirement already satisfied: numpy<1.29.0,>=1.22.4 in /home/thivakaranb/.local/lib/python3.10/site-packages (from scipy) (1.26.2)\n",
      "Installing collected packages: scipy\n",
      "Successfully installed scipy-1.12.0\n"
     ]
    }
   ],
   "source": [
    "!pip install scipy"
   ]
  },
  {
   "cell_type": "code",
   "execution_count": 43,
   "id": "b8b075c3-feee-4379-b3a7-0751a451f47a",
   "metadata": {},
   "outputs": [],
   "source": [
    "import scipy.stats as stats"
   ]
  },
  {
   "cell_type": "code",
   "execution_count": 46,
   "id": "ac5f14a8-bb43-47fd-8c5d-00b46d601cde",
   "metadata": {},
   "outputs": [
    {
     "data": {
      "text/plain": [
       "0.14436434635625667"
      ]
     },
     "execution_count": 46,
     "metadata": {},
     "output_type": "execute_result"
    }
   ],
   "source": [
    "n=40 # Sample size\n",
    "\n",
    "p=0.25 # probability of producing a defective bulb\n",
    "\n",
    "k=10 # exactly 10\n",
    "stats.binom.pmf(n=40,k=10,p=.25)"
   ]
  },
  {
   "cell_type": "code",
   "execution_count": 48,
   "id": "00ac0110-b7ad-4ad4-bd28-c3ba01287e3f",
   "metadata": {},
   "outputs": [
    {
     "data": {
      "text/plain": [
       "0.08474297166326664"
      ]
     },
     "execution_count": 48,
     "metadata": {},
     "output_type": "execute_result"
    }
   ],
   "source": [
    "stats.binom.pmf(n=10,k=3,p=.12)"
   ]
  },
  {
   "cell_type": "code",
   "execution_count": 49,
   "id": "c6c52cde-d868-44c0-ad9f-ce64e7f4b426",
   "metadata": {},
   "outputs": [
    {
     "data": {
      "text/plain": [
       "0.3455999999999997"
      ]
     },
     "execution_count": 49,
     "metadata": {},
     "output_type": "execute_result"
    }
   ],
   "source": [
    "stats.binom.pmf(n=5,k=3,p=.6)"
   ]
  },
  {
   "cell_type": "code",
   "execution_count": null,
   "id": "5626cd00-9031-4c1c-8c2a-23c4db239125",
   "metadata": {},
   "outputs": [],
   "source": []
  }
 ],
 "metadata": {
  "kernelspec": {
   "display_name": "Python 3 (ipykernel)",
   "language": "python",
   "name": "python3"
  },
  "language_info": {
   "codemirror_mode": {
    "name": "ipython",
    "version": 3
   },
   "file_extension": ".py",
   "mimetype": "text/x-python",
   "name": "python",
   "nbconvert_exporter": "python",
   "pygments_lexer": "ipython3",
   "version": "3.10.12"
  }
 },
 "nbformat": 4,
 "nbformat_minor": 5
}
