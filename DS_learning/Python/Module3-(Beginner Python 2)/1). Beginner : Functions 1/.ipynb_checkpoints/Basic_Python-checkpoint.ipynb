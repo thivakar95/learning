{
 "cells": [
  {
   "cell_type": "code",
   "execution_count": null,
   "id": "e0cfb6e4",
   "metadata": {},
   "outputs": [],
   "source": [
    "Excercise 1: Swap the number without using third varible"
   ]
  },
  {
   "cell_type": "code",
   "execution_count": 1,
   "id": "8f213f74",
   "metadata": {},
   "outputs": [],
   "source": [
    "a = 5\n",
    "b = 200\n",
    "b,a = a,b"
   ]
  },
  {
   "cell_type": "code",
   "execution_count": 3,
   "id": "dedb05f0",
   "metadata": {},
   "outputs": [
    {
     "data": {
      "text/plain": [
       "(200, 5)"
      ]
     },
     "execution_count": 3,
     "metadata": {},
     "output_type": "execute_result"
    }
   ],
   "source": [
    "a,b"
   ]
  },
  {
   "cell_type": "code",
   "execution_count": 4,
   "id": "d39a8983",
   "metadata": {},
   "outputs": [
    {
     "data": {
      "text/plain": [
       "(200, 5)"
      ]
     },
     "execution_count": 4,
     "metadata": {},
     "output_type": "execute_result"
    }
   ],
   "source": [
    "a = 5\n",
    "b = 200\n",
    "a = a+b\n",
    "b = a-b\n",
    "a = a-b\n",
    "a,b"
   ]
  },
  {
   "cell_type": "code",
   "execution_count": null,
   "id": "5e43fea2",
   "metadata": {},
   "outputs": [],
   "source": []
  },
  {
   "cell_type": "code",
   "execution_count": null,
   "id": "35eec2ec",
   "metadata": {},
   "outputs": [],
   "source": []
  },
  {
   "cell_type": "markdown",
   "id": "0169d556",
   "metadata": {},
   "source": [
    "Exercise 2: Write a Program to extract each digit from an integer in the reverse order.\n",
    "1234\n",
    "4 3 2 1"
   ]
  },
  {
   "cell_type": "code",
   "execution_count": 9,
   "id": "032003eb",
   "metadata": {},
   "outputs": [
    {
     "name": "stdout",
     "output_type": "stream",
     "text": [
      "Enter any NUmber1234\n",
      "Reminder: 4\n",
      "Quoitent: 123\n",
      "Reminder: 3\n",
      "Quoitent: 12\n",
      "Reminder: 2\n",
      "Quoitent: 1\n",
      "Reminder: 1\n",
      "Quoitent: 0\n",
      "4 3 2 1 \n"
     ]
    }
   ],
   "source": [
    "n = int(input(\"Enter any NUmber\"))\n",
    "s=''\n",
    "while n:\n",
    "    r = n%10\n",
    "    n = n//10\n",
    "    print('Reminder:',r)\n",
    "    print(\"Quoitent:\",n)\n",
    "    s = s+str(r)+\" \"\n",
    "print(s)"
   ]
  },
  {
   "cell_type": "code",
   "execution_count": null,
   "id": "8a1a5e34",
   "metadata": {},
   "outputs": [],
   "source": [
    "excercise 3: Write a program that will give you the sum of 3 digits\n",
    "123\n",
    "1+2+3"
   ]
  },
  {
   "cell_type": "code",
   "execution_count": 14,
   "id": "9df5d9d3",
   "metadata": {},
   "outputs": [
    {
     "name": "stdout",
     "output_type": "stream",
     "text": [
      "Enter any NUmber567\n",
      "18\n"
     ]
    }
   ],
   "source": [
    "n = int(input(\"Enter any NUmber\"))\n",
    "s=0\n",
    "while n:\n",
    "    r = n%10\n",
    "    n = n//10\n",
    "    s = s+r\n",
    "print(s)"
   ]
  },
  {
   "cell_type": "code",
   "execution_count": null,
   "id": "4405b690",
   "metadata": {},
   "outputs": [],
   "source": []
  },
  {
   "cell_type": "code",
   "execution_count": null,
   "id": "3e7ee7d9",
   "metadata": {},
   "outputs": [],
   "source": []
  },
  {
   "cell_type": "code",
   "execution_count": null,
   "id": "05389cad",
   "metadata": {},
   "outputs": [],
   "source": []
  },
  {
   "cell_type": "markdown",
   "id": "e1cb60c2",
   "metadata": {},
   "source": [
    "excercise 4: Write a program that will reverse a four digit number.Also it checks whether the reverse is true.\n"
   ]
  },
  {
   "cell_type": "code",
   "execution_count": 17,
   "id": "8aedf857",
   "metadata": {},
   "outputs": [
    {
     "name": "stdout",
     "output_type": "stream",
     "text": [
      "Enter any NUmber1221\n",
      "1221\n",
      "yes\n"
     ]
    }
   ],
   "source": [
    "n = int(input(\"Enter any NUmber\"))\n",
    "ori =n\n",
    "s=''\n",
    "while n:\n",
    "    r = n%10\n",
    "    n = n//10\n",
    "    s = s+str(r)\n",
    "print(s)\n",
    "if str(s)==str(ori):\n",
    "    print(\"yes\")\n",
    "else:\n",
    "    print(\"no\")"
   ]
  },
  {
   "cell_type": "code",
   "execution_count": null,
   "id": "01c7b660",
   "metadata": {},
   "outputs": [],
   "source": []
  },
  {
   "cell_type": "code",
   "execution_count": null,
   "id": "9cd8223a",
   "metadata": {},
   "outputs": [],
   "source": []
  },
  {
   "cell_type": "code",
   "execution_count": null,
   "id": "64eb0cf5",
   "metadata": {},
   "outputs": [],
   "source": []
  },
  {
   "cell_type": "markdown",
   "id": "a11cf20c",
   "metadata": {},
   "source": [
    "excercise 5: Write a program to find the euclidean distance between two coordinates.\n"
   ]
  },
  {
   "cell_type": "code",
   "execution_count": 26,
   "id": "068f2828",
   "metadata": {},
   "outputs": [
    {
     "name": "stdout",
     "output_type": "stream",
     "text": [
      "10.44030650891055\n"
     ]
    }
   ],
   "source": [
    "# x = (x1,y1)\n",
    "#     #10,1\n",
    "# y = (x2,y2)\n",
    "#     #20,4\n",
    "x1 = 10\n",
    "y1 = 1\n",
    "x2 = 20\n",
    "y2 = 4\n",
    "ed = (x2-x1)**2    + (y2 -y1)**2\n",
    "print(ed**(1/2))"
   ]
  },
  {
   "cell_type": "code",
   "execution_count": 27,
   "id": "0b0f1ae5",
   "metadata": {},
   "outputs": [
    {
     "data": {
      "text/plain": [
       "10.44030650891055"
      ]
     },
     "execution_count": 27,
     "metadata": {},
     "output_type": "execute_result"
    }
   ],
   "source": [
    "import math\n",
    "x = x1,y1\n",
    "y = x2,y2\n",
    "math.dist(x,y)"
   ]
  },
  {
   "cell_type": "code",
   "execution_count": null,
   "id": "2c82bf76",
   "metadata": {},
   "outputs": [],
   "source": []
  },
  {
   "cell_type": "code",
   "execution_count": null,
   "id": "a69fe063",
   "metadata": {},
   "outputs": [],
   "source": []
  },
  {
   "cell_type": "code",
   "execution_count": 24,
   "id": "196da264",
   "metadata": {},
   "outputs": [
    {
     "data": {
      "text/plain": [
       "5.0"
      ]
     },
     "execution_count": 24,
     "metadata": {},
     "output_type": "execute_result"
    }
   ],
   "source": [
    "25**(1/2)"
   ]
  },
  {
   "cell_type": "code",
   "execution_count": null,
   "id": "c3a248fa",
   "metadata": {},
   "outputs": [],
   "source": []
  },
  {
   "cell_type": "code",
   "execution_count": null,
   "id": "169bbd89",
   "metadata": {},
   "outputs": [],
   "source": []
  },
  {
   "cell_type": "code",
   "execution_count": null,
   "id": "3b0bd5d4",
   "metadata": {},
   "outputs": [],
   "source": []
  },
  {
   "cell_type": "markdown",
   "id": "94a3ae90",
   "metadata": {},
   "source": [
    "excercise 6: Write a program that will tell whether the given number is divisible by 3 & 6.\n"
   ]
  },
  {
   "cell_type": "code",
   "execution_count": 30,
   "id": "368d0d61",
   "metadata": {},
   "outputs": [
    {
     "name": "stdout",
     "output_type": "stream",
     "text": [
      "not divisble\n"
     ]
    }
   ],
   "source": [
    "n = 9\n",
    "if (n%3==0) and (n%6==0):\n",
    "    print(\"yes\")\n",
    "else:\n",
    "    print(\"not divisble\")"
   ]
  },
  {
   "cell_type": "code",
   "execution_count": null,
   "id": "ee3c9def",
   "metadata": {},
   "outputs": [],
   "source": []
  },
  {
   "cell_type": "code",
   "execution_count": null,
   "id": "26cb4657",
   "metadata": {},
   "outputs": [],
   "source": []
  },
  {
   "cell_type": "code",
   "execution_count": null,
   "id": "9671e8f5",
   "metadata": {},
   "outputs": [],
   "source": []
  },
  {
   "cell_type": "code",
   "execution_count": null,
   "id": "9821f55e",
   "metadata": {},
   "outputs": [],
   "source": []
  },
  {
   "cell_type": "markdown",
   "id": "722f01d8",
   "metadata": {},
   "source": [
    "Excercise 7: Write a program that will take three digits from the user and add the square of each digit.\n"
   ]
  },
  {
   "cell_type": "code",
   "execution_count": 32,
   "id": "149d78cf",
   "metadata": {},
   "outputs": [
    {
     "name": "stdout",
     "output_type": "stream",
     "text": [
      "Enter any NUmber345\n",
      "50\n"
     ]
    }
   ],
   "source": [
    "n = int(input(\"Enter any NUmber\"))\n",
    "s=0\n",
    "while n:\n",
    "    r = n%10\n",
    "    n = n//10\n",
    "    s = s+r**2\n",
    "print(s)"
   ]
  },
  {
   "cell_type": "code",
   "execution_count": null,
   "id": "43b4947b",
   "metadata": {},
   "outputs": [],
   "source": []
  },
  {
   "cell_type": "code",
   "execution_count": null,
   "id": "a5f36358",
   "metadata": {},
   "outputs": [],
   "source": []
  },
  {
   "cell_type": "code",
   "execution_count": null,
   "id": "b3d4f6ae",
   "metadata": {},
   "outputs": [],
   "source": []
  },
  {
   "cell_type": "code",
   "execution_count": null,
   "id": "c342a744",
   "metadata": {},
   "outputs": [],
   "source": []
  },
  {
   "cell_type": "markdown",
   "id": "a7866e21",
   "metadata": {},
   "source": [
    "Excercise 8: Write a program that will check whether the number is armstrong number or not.\n",
    "123\n",
    "1**3+2**3+3**3"
   ]
  },
  {
   "cell_type": "code",
   "execution_count": 35,
   "id": "5c1f8176",
   "metadata": {},
   "outputs": [
    {
     "name": "stdout",
     "output_type": "stream",
     "text": [
      "Enter any NUmber371\n",
      "371\n",
      "Amstrong\n"
     ]
    }
   ],
   "source": [
    "n = int(input(\"Enter any NUmber\"))\n",
    "s=0\n",
    "ori = n\n",
    "while n:\n",
    "    r = n%10\n",
    "    n = n//10\n",
    "    s = s+r**3\n",
    "print(s)\n",
    "if s == ori:\n",
    "    print(\"Amstrong\")\n",
    "else:\n",
    "    print(\"Not a Amstrong Number\")"
   ]
  },
  {
   "cell_type": "code",
   "execution_count": 39,
   "id": "3b65f8ed",
   "metadata": {},
   "outputs": [
    {
     "data": {
      "text/plain": [
       "371"
      ]
     },
     "execution_count": 39,
     "metadata": {},
     "output_type": "execute_result"
    }
   ],
   "source": [
    "27+49*7+1\n"
   ]
  },
  {
   "cell_type": "code",
   "execution_count": null,
   "id": "c7866fa8",
   "metadata": {},
   "outputs": [],
   "source": []
  },
  {
   "cell_type": "code",
   "execution_count": null,
   "id": "6a918786",
   "metadata": {},
   "outputs": [],
   "source": []
  },
  {
   "cell_type": "code",
   "execution_count": null,
   "id": "1110b413",
   "metadata": {},
   "outputs": [],
   "source": []
  },
  {
   "cell_type": "markdown",
   "id": "82ed939a",
   "metadata": {},
   "source": [
    "Excercise 9:Write a program that will take user input of (4 digits number) and check whether the number is narcissist\n"
   ]
  },
  {
   "cell_type": "code",
   "execution_count": null,
   "id": "ce9af46c",
   "metadata": {},
   "outputs": [],
   "source": [
    "#is a number that is the sum of its own digits each raised to the power of the number of digits.\n"
   ]
  },
  {
   "cell_type": "code",
   "execution_count": null,
   "id": "b3e3af75",
   "metadata": {},
   "outputs": [],
   "source": [
    "123\n",
    "1**3"
   ]
  },
  {
   "cell_type": "code",
   "execution_count": null,
   "id": "4bdeda08",
   "metadata": {},
   "outputs": [],
   "source": [
    "1234\n",
    "1**4"
   ]
  },
  {
   "cell_type": "code",
   "execution_count": 44,
   "id": "5919966a",
   "metadata": {},
   "outputs": [
    {
     "name": "stdout",
     "output_type": "stream",
     "text": [
      "Enter any NUmber153 \n",
      "153\n",
      "narcissist\n"
     ]
    }
   ],
   "source": [
    "n = int(input(\"Enter any NUmber\"))\n",
    "s=0\n",
    "ori = n\n",
    "\n",
    "while n:\n",
    "    r = n%10\n",
    "    n = n//10\n",
    "    s = s+r**len(str(ori))\n",
    "print(s)\n",
    "if s == ori:\n",
    "    print(\"narcissist\")\n",
    "else:\n",
    "    print(\"Not a narcissist Number\")"
   ]
  },
  {
   "cell_type": "code",
   "execution_count": 43,
   "id": "e941736c",
   "metadata": {},
   "outputs": [
    {
     "data": {
      "text/plain": [
       "4"
      ]
     },
     "execution_count": 43,
     "metadata": {},
     "output_type": "execute_result"
    }
   ],
   "source": [
    "len(str(ori))"
   ]
  },
  {
   "cell_type": "code",
   "execution_count": null,
   "id": "165855a2",
   "metadata": {},
   "outputs": [],
   "source": []
  },
  {
   "cell_type": "code",
   "execution_count": null,
   "id": "20b062f3",
   "metadata": {},
   "outputs": [],
   "source": []
  }
 ],
 "metadata": {
  "kernelspec": {
   "display_name": "Python 3 (ipykernel)",
   "language": "python",
   "name": "python3"
  },
  "language_info": {
   "codemirror_mode": {
    "name": "ipython",
    "version": 3
   },
   "file_extension": ".py",
   "mimetype": "text/x-python",
   "name": "python",
   "nbconvert_exporter": "python",
   "pygments_lexer": "ipython3",
   "version": "3.10.9"
  }
 },
 "nbformat": 4,
 "nbformat_minor": 5
}
