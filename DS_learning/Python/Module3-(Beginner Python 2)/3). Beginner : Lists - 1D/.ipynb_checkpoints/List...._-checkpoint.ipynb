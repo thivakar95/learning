{
 "cells": [
  {
   "cell_type": "code",
   "execution_count": 1,
   "id": "7ea5a5d4",
   "metadata": {},
   "outputs": [],
   "source": [
    "runs_virat = [10,23,53,30,100,12]"
   ]
  },
  {
   "cell_type": "code",
   "execution_count": 2,
   "id": "837c7d13",
   "metadata": {},
   "outputs": [
    {
     "data": {
      "text/plain": [
       "list"
      ]
     },
     "execution_count": 2,
     "metadata": {},
     "output_type": "execute_result"
    }
   ],
   "source": [
    "type(runs_virat)"
   ]
  },
  {
   "cell_type": "code",
   "execution_count": 3,
   "id": "2b04b65e",
   "metadata": {},
   "outputs": [],
   "source": [
    "#enter multiple values\n",
    "# ordered"
   ]
  },
  {
   "cell_type": "code",
   "execution_count": 4,
   "id": "7283e426",
   "metadata": {},
   "outputs": [],
   "source": [
    "#Indexing"
   ]
  },
  {
   "cell_type": "code",
   "execution_count": 5,
   "id": "31e5c6ac",
   "metadata": {},
   "outputs": [
    {
     "data": {
      "text/plain": [
       "23"
      ]
     },
     "execution_count": 5,
     "metadata": {},
     "output_type": "execute_result"
    }
   ],
   "source": [
    "runs_virat[1]#indexing starts from 0"
   ]
  },
  {
   "cell_type": "code",
   "execution_count": 6,
   "id": "7e73ab59",
   "metadata": {},
   "outputs": [
    {
     "data": {
      "text/plain": [
       "53"
      ]
     },
     "execution_count": 6,
     "metadata": {},
     "output_type": "execute_result"
    }
   ],
   "source": [
    "runs_virat[2]"
   ]
  },
  {
   "cell_type": "code",
   "execution_count": 7,
   "id": "06c941a4",
   "metadata": {},
   "outputs": [],
   "source": [
    "#total elements in the list"
   ]
  },
  {
   "cell_type": "code",
   "execution_count": 8,
   "id": "c090ecda",
   "metadata": {},
   "outputs": [
    {
     "data": {
      "text/plain": [
       "6"
      ]
     },
     "execution_count": 8,
     "metadata": {},
     "output_type": "execute_result"
    }
   ],
   "source": [
    "len(runs_virat)"
   ]
  },
  {
   "cell_type": "code",
   "execution_count": 9,
   "id": "55ff4d8e",
   "metadata": {},
   "outputs": [],
   "source": [
    "#if i want the last element"
   ]
  },
  {
   "cell_type": "code",
   "execution_count": 11,
   "id": "a36832fd",
   "metadata": {},
   "outputs": [
    {
     "data": {
      "text/plain": [
       "5"
      ]
     },
     "execution_count": 11,
     "metadata": {},
     "output_type": "execute_result"
    }
   ],
   "source": [
    "len(runs_virat)-1"
   ]
  },
  {
   "cell_type": "code",
   "execution_count": 10,
   "id": "932bb9bf",
   "metadata": {},
   "outputs": [
    {
     "data": {
      "text/plain": [
       "12"
      ]
     },
     "execution_count": 10,
     "metadata": {},
     "output_type": "execute_result"
    }
   ],
   "source": [
    "runs_virat[len(runs_virat)-1]"
   ]
  },
  {
   "cell_type": "code",
   "execution_count": 12,
   "id": "1aff683c",
   "metadata": {},
   "outputs": [],
   "source": [
    "#[10,23,53,30,100,12]"
   ]
  },
  {
   "cell_type": "markdown",
   "id": "b764789d",
   "metadata": {},
   "source": [
    "##### Negative Indexing stsrts from the last and it starts from -1"
   ]
  },
  {
   "cell_type": "code",
   "execution_count": 13,
   "id": "ee4ef2e3",
   "metadata": {},
   "outputs": [
    {
     "data": {
      "text/plain": [
       "12"
      ]
     },
     "execution_count": 13,
     "metadata": {},
     "output_type": "execute_result"
    }
   ],
   "source": [
    "runs_virat[-1]"
   ]
  },
  {
   "cell_type": "code",
   "execution_count": 14,
   "id": "7fa327da",
   "metadata": {},
   "outputs": [
    {
     "ename": "IndexError",
     "evalue": "list index out of range",
     "output_type": "error",
     "traceback": [
      "\u001b[1;31m---------------------------------------------------------------------------\u001b[0m",
      "\u001b[1;31mIndexError\u001b[0m                                Traceback (most recent call last)",
      "\u001b[1;32m~\\AppData\\Local\\Temp\\ipykernel_3128\\1888816767.py\u001b[0m in \u001b[0;36m<cell line: 1>\u001b[1;34m()\u001b[0m\n\u001b[1;32m----> 1\u001b[1;33m \u001b[0mruns_virat\u001b[0m\u001b[1;33m[\u001b[0m\u001b[1;33m-\u001b[0m\u001b[1;36m10\u001b[0m\u001b[1;33m]\u001b[0m\u001b[1;33m\u001b[0m\u001b[1;33m\u001b[0m\u001b[0m\n\u001b[0m",
      "\u001b[1;31mIndexError\u001b[0m: list index out of range"
     ]
    }
   ],
   "source": [
    "runs_virat[-10]"
   ]
  },
  {
   "cell_type": "code",
   "execution_count": null,
   "id": "04425ee1",
   "metadata": {},
   "outputs": [],
   "source": []
  },
  {
   "cell_type": "code",
   "execution_count": 15,
   "id": "960d73b1",
   "metadata": {},
   "outputs": [],
   "source": [
    "#Given the list runs = [45, 67, 89, 12, 34, 56, 100] \n",
    "# print the total of the runs on odd positions in the list."
   ]
  },
  {
   "cell_type": "code",
   "execution_count": 16,
   "id": "9619a341",
   "metadata": {},
   "outputs": [],
   "source": [
    "runs = [45, 67, 89, 12, 34, 56, 100] "
   ]
  },
  {
   "cell_type": "code",
   "execution_count": 18,
   "id": "cb259bbe",
   "metadata": {},
   "outputs": [
    {
     "data": {
      "text/plain": [
       "268"
      ]
     },
     "execution_count": 18,
     "metadata": {},
     "output_type": "execute_result"
    }
   ],
   "source": [
    "runs[0]+runs[2]+runs[4]+runs[6]"
   ]
  },
  {
   "cell_type": "markdown",
   "id": "4697c695",
   "metadata": {},
   "source": [
    "# List Methods"
   ]
  },
  {
   "cell_type": "code",
   "execution_count": 19,
   "id": "25fa1165",
   "metadata": {},
   "outputs": [
    {
     "data": {
      "text/plain": [
       "[10, 23, 53, 30, 100, 12]"
      ]
     },
     "execution_count": 19,
     "metadata": {},
     "output_type": "execute_result"
    }
   ],
   "source": [
    "runs_virat"
   ]
  },
  {
   "cell_type": "code",
   "execution_count": 20,
   "id": "b6559ea7",
   "metadata": {},
   "outputs": [],
   "source": [
    "runs_virat.append(99)# but a function which works only for a list"
   ]
  },
  {
   "cell_type": "code",
   "execution_count": 21,
   "id": "8a6b27a0",
   "metadata": {},
   "outputs": [
    {
     "data": {
      "text/plain": [
       "[10, 23, 53, 30, 100, 12, 99]"
      ]
     },
     "execution_count": 21,
     "metadata": {},
     "output_type": "execute_result"
    }
   ],
   "source": [
    "runs_virat"
   ]
  },
  {
   "cell_type": "code",
   "execution_count": 22,
   "id": "5451926c",
   "metadata": {},
   "outputs": [
    {
     "ename": "AttributeError",
     "evalue": "'str' object has no attribute 'append'",
     "output_type": "error",
     "traceback": [
      "\u001b[1;31m---------------------------------------------------------------------------\u001b[0m",
      "\u001b[1;31mAttributeError\u001b[0m                            Traceback (most recent call last)",
      "\u001b[1;32m~\\AppData\\Local\\Temp\\ipykernel_3128\\2424944437.py\u001b[0m in \u001b[0;36m<cell line: 1>\u001b[1;34m()\u001b[0m\n\u001b[1;32m----> 1\u001b[1;33m \u001b[1;34m\"Sai\"\u001b[0m\u001b[1;33m.\u001b[0m\u001b[0mappend\u001b[0m\u001b[1;33m(\u001b[0m\u001b[1;36m2\u001b[0m\u001b[1;33m)\u001b[0m\u001b[1;33m\u001b[0m\u001b[1;33m\u001b[0m\u001b[0m\n\u001b[0m",
      "\u001b[1;31mAttributeError\u001b[0m: 'str' object has no attribute 'append'"
     ]
    }
   ],
   "source": [
    "\"Sai\".append(2)"
   ]
  },
  {
   "cell_type": "code",
   "execution_count": 23,
   "id": "2341d2eb",
   "metadata": {},
   "outputs": [
    {
     "data": {
      "text/plain": [
       "[10, 23, 53, 30, 100, 12, 99]"
      ]
     },
     "execution_count": 23,
     "metadata": {},
     "output_type": "execute_result"
    }
   ],
   "source": [
    "runs_virat"
   ]
  },
  {
   "cell_type": "code",
   "execution_count": 24,
   "id": "792cec51",
   "metadata": {},
   "outputs": [],
   "source": [
    "runs_virat.insert(4,262)"
   ]
  },
  {
   "cell_type": "code",
   "execution_count": 25,
   "id": "9b4a7bd5",
   "metadata": {},
   "outputs": [
    {
     "data": {
      "text/plain": [
       "[10, 23, 53, 30, 262, 100, 12, 99]"
      ]
     },
     "execution_count": 25,
     "metadata": {},
     "output_type": "execute_result"
    }
   ],
   "source": [
    "runs_virat"
   ]
  },
  {
   "cell_type": "code",
   "execution_count": 26,
   "id": "5c941b7f",
   "metadata": {},
   "outputs": [],
   "source": [
    "runs_virat.extend([12,434,456])#multiple values"
   ]
  },
  {
   "cell_type": "code",
   "execution_count": null,
   "id": "bced1ef7",
   "metadata": {},
   "outputs": [],
   "source": [
    "# append-sigle value at end\n",
    "# insert -anywhere\n",
    "# .extend-multiple values at the end\n"
   ]
  },
  {
   "cell_type": "code",
   "execution_count": 27,
   "id": "7610b19f",
   "metadata": {},
   "outputs": [
    {
     "data": {
      "text/plain": [
       "[10, 23, 53, 30, 262, 100, 12, 99, 12, 434, 456]"
      ]
     },
     "execution_count": 27,
     "metadata": {},
     "output_type": "execute_result"
    }
   ],
   "source": [
    "runs_virat"
   ]
  },
  {
   "cell_type": "code",
   "execution_count": 28,
   "id": "352edd3c",
   "metadata": {},
   "outputs": [],
   "source": [
    "mahesh = [12,100,100]"
   ]
  },
  {
   "cell_type": "code",
   "execution_count": 29,
   "id": "aafa2328",
   "metadata": {},
   "outputs": [],
   "source": [
    "runs_virat.append([12,100,100])"
   ]
  },
  {
   "cell_type": "code",
   "execution_count": 30,
   "id": "2d93d956",
   "metadata": {},
   "outputs": [
    {
     "data": {
      "text/plain": [
       "[10, 23, 53, 30, 262, 100, 12, 99, 12, 434, 456, [12, 100, 100]]"
      ]
     },
     "execution_count": 30,
     "metadata": {},
     "output_type": "execute_result"
    }
   ],
   "source": [
    "runs_virat"
   ]
  },
  {
   "cell_type": "code",
   "execution_count": 31,
   "id": "543cf848",
   "metadata": {},
   "outputs": [],
   "source": [
    "runs_virat = [10, 23, 53, 30, 100, 12, 99]\n"
   ]
  },
  {
   "cell_type": "code",
   "execution_count": 32,
   "id": "6c033ebe",
   "metadata": {},
   "outputs": [
    {
     "data": {
      "text/plain": [
       "[10, 23, 53, 30, 100, 12, 99]"
      ]
     },
     "execution_count": 32,
     "metadata": {},
     "output_type": "execute_result"
    }
   ],
   "source": [
    "runs_virat"
   ]
  },
  {
   "cell_type": "code",
   "execution_count": 34,
   "id": "bcce3044",
   "metadata": {},
   "outputs": [
    {
     "data": {
      "text/plain": [
       "[10, 23, 53, 30, 100, 12, 99, 10, 20, 30]"
      ]
     },
     "execution_count": 34,
     "metadata": {},
     "output_type": "execute_result"
    }
   ],
   "source": [
    "masehs = runs_virat+[10,20,30] #simliar to extend function\n",
    "masehs"
   ]
  },
  {
   "cell_type": "code",
   "execution_count": null,
   "id": "77470a26",
   "metadata": {},
   "outputs": [],
   "source": []
  },
  {
   "cell_type": "code",
   "execution_count": 35,
   "id": "4ef3f3a9",
   "metadata": {},
   "outputs": [],
   "source": [
    "runs_virat = [10, 23, 53, 30, 100, 12, 99]\n",
    "runs_virat.insert(-2,111)"
   ]
  },
  {
   "cell_type": "code",
   "execution_count": 36,
   "id": "5ac08d9b",
   "metadata": {},
   "outputs": [
    {
     "data": {
      "text/plain": [
       "[10, 23, 53, 30, 100, 111, 12, 99]"
      ]
     },
     "execution_count": 36,
     "metadata": {},
     "output_type": "execute_result"
    }
   ],
   "source": [
    "runs_virat"
   ]
  },
  {
   "cell_type": "code",
   "execution_count": null,
   "id": "69671152",
   "metadata": {},
   "outputs": [],
   "source": []
  },
  {
   "cell_type": "code",
   "execution_count": null,
   "id": "44041f3e",
   "metadata": {},
   "outputs": [],
   "source": [
    "runs_virat."
   ]
  },
  {
   "cell_type": "markdown",
   "id": "35e8b0c3",
   "metadata": {},
   "source": [
    "# Task\n",
    "-  create a new list for dhoni\n",
    "- indexing -+ve and -ve\n",
    "- method -append,extend,insert"
   ]
  },
  {
   "cell_type": "markdown",
   "id": "d8781612",
   "metadata": {},
   "source": [
    "runs_virat"
   ]
  },
  {
   "cell_type": "code",
   "execution_count": 40,
   "id": "2ad55481",
   "metadata": {},
   "outputs": [],
   "source": [
    "runs_virat.append(50)# 3 "
   ]
  },
  {
   "cell_type": "code",
   "execution_count": 41,
   "id": "52cd2cff",
   "metadata": {},
   "outputs": [
    {
     "data": {
      "text/plain": [
       "[10, 23, 53, 30, 100, 111, 12, 99, 50, 50, 50]"
      ]
     },
     "execution_count": 41,
     "metadata": {},
     "output_type": "execute_result"
    }
   ],
   "source": [
    "runs_virat"
   ]
  },
  {
   "cell_type": "markdown",
   "id": "a20f2683",
   "metadata": {},
   "source": [
    "# Iterating over alist"
   ]
  },
  {
   "cell_type": "code",
   "execution_count": 42,
   "id": "fbb46049",
   "metadata": {},
   "outputs": [
    {
     "name": "stdout",
     "output_type": "stream",
     "text": [
      "0\n",
      "1\n",
      "2\n",
      "3\n",
      "4\n"
     ]
    }
   ],
   "source": [
    "#range(5):# iterable -object that we can go one after the other\n",
    "for i in range(5):\n",
    "    print(i)"
   ]
  },
  {
   "cell_type": "code",
   "execution_count": 43,
   "id": "189982cf",
   "metadata": {},
   "outputs": [
    {
     "name": "stdout",
     "output_type": "stream",
     "text": [
      "100\n",
      "34\n",
      "56\n"
     ]
    }
   ],
   "source": [
    "# list\n",
    "for i in [100,34,56]:\n",
    "    print(i)"
   ]
  },
  {
   "cell_type": "code",
   "execution_count": 44,
   "id": "1e7f0706",
   "metadata": {},
   "outputs": [
    {
     "name": "stdout",
     "output_type": "stream",
     "text": [
      "100\n",
      "34\n",
      "56\n",
      "12\n",
      "45\n"
     ]
    }
   ],
   "source": [
    "# list\n",
    "virat_runs = [100,34,56,12,45]\n",
    "for i in virat_runs:\n",
    "    print(i)"
   ]
  },
  {
   "cell_type": "code",
   "execution_count": null,
   "id": "acee18d2",
   "metadata": {},
   "outputs": [],
   "source": []
  },
  {
   "cell_type": "code",
   "execution_count": null,
   "id": "a7f29dc5",
   "metadata": {},
   "outputs": [],
   "source": [
    "##**Question-2**\n",
    "In runs_virat -> Calculate the sum, average, max and min."
   ]
  },
  {
   "cell_type": "code",
   "execution_count": 45,
   "id": "d98a3e88",
   "metadata": {},
   "outputs": [
    {
     "data": {
      "text/plain": [
       "102"
      ]
     },
     "execution_count": 45,
     "metadata": {},
     "output_type": "execute_result"
    }
   ],
   "source": [
    "virat_runs = [100,1,1]\n",
    "total_runs=0\n",
    "for i in virat_runs:\n",
    "    total_runs = total_runs + i\n",
    "total_runs"
   ]
  },
  {
   "cell_type": "code",
   "execution_count": 47,
   "id": "a17b4918",
   "metadata": {},
   "outputs": [
    {
     "data": {
      "text/plain": [
       "102"
      ]
     },
     "execution_count": 47,
     "metadata": {},
     "output_type": "execute_result"
    }
   ],
   "source": [
    "sum(virat_runs)"
   ]
  },
  {
   "cell_type": "code",
   "execution_count": 51,
   "id": "e3f64dc2",
   "metadata": {},
   "outputs": [
    {
     "data": {
      "text/plain": [
       "34.0"
      ]
     },
     "execution_count": 51,
     "metadata": {},
     "output_type": "execute_result"
    }
   ],
   "source": [
    "virat_runs = [100,1,1]\n",
    "total_runs=0\n",
    "counter=0\n",
    "for i in virat_runs:\n",
    "    total_runs = total_runs + i\n",
    "    counter = counter+1\n",
    "total_runs/counter\n"
   ]
  },
  {
   "cell_type": "markdown",
   "id": "ad6c3cf1",
   "metadata": {},
   "source": [
    "# max runs"
   ]
  },
  {
   "cell_type": "code",
   "execution_count": 53,
   "id": "c7b7e8c6",
   "metadata": {},
   "outputs": [
    {
     "data": {
      "text/plain": [
       "445"
      ]
     },
     "execution_count": 53,
     "metadata": {},
     "output_type": "execute_result"
    }
   ],
   "source": [
    "virat_runs = [100,121,445,78]\n",
    "max_runs = virat_runs[0]\n",
    "max_runs\n",
    "for i in virat_runs:\n",
    "    if i>max_runs:\n",
    "        max_runs = i\n",
    "max_runs"
   ]
  },
  {
   "cell_type": "markdown",
   "id": "d22cb16d",
   "metadata": {},
   "source": [
    "# min runs"
   ]
  },
  {
   "cell_type": "code",
   "execution_count": 54,
   "id": "b3d00789",
   "metadata": {},
   "outputs": [
    {
     "data": {
      "text/plain": [
       "78"
      ]
     },
     "execution_count": 54,
     "metadata": {},
     "output_type": "execute_result"
    }
   ],
   "source": [
    "virat_runs = [100,121,445,78]\n",
    "min_runs = virat_runs[0]\n",
    "\n",
    "for i in virat_runs:\n",
    "    if i<min_runs:\n",
    "        min_runs = i\n",
    "min_runs"
   ]
  },
  {
   "cell_type": "code",
   "execution_count": null,
   "id": "84f39ad8",
   "metadata": {},
   "outputs": [],
   "source": []
  },
  {
   "cell_type": "code",
   "execution_count": null,
   "id": "b01126df",
   "metadata": {},
   "outputs": [],
   "source": [
    "##**Question 3**\n",
    "#Calculate the sum of runs made by Virat on all matches with odd position."
   ]
  },
  {
   "cell_type": "code",
   "execution_count": null,
   "id": "dc76ef96",
   "metadata": {},
   "outputs": [],
   "source": [
    "runs = [45, 67, 89, 12, 34, 56, 100] \n",
    "runs[0]+runs[2]+runs[4]+runs[6]"
   ]
  },
  {
   "cell_type": "code",
   "execution_count": 56,
   "id": "7e54d861",
   "metadata": {},
   "outputs": [
    {
     "data": {
      "text/plain": [
       "100"
      ]
     },
     "execution_count": 56,
     "metadata": {},
     "output_type": "execute_result"
    }
   ],
   "source": [
    "runs[len(runs)-1]"
   ]
  },
  {
   "cell_type": "code",
   "execution_count": 58,
   "id": "b7058b21",
   "metadata": {},
   "outputs": [
    {
     "name": "stdout",
     "output_type": "stream",
     "text": [
      "0\n",
      "1\n",
      "2\n",
      "3\n",
      "4\n",
      "5\n",
      "6\n"
     ]
    }
   ],
   "source": [
    "#index = 0,2,4,6\n",
    "for i in range(0,len(runs)):\n",
    "    print(i)#index"
   ]
  },
  {
   "cell_type": "code",
   "execution_count": 60,
   "id": "8d0e365f",
   "metadata": {},
   "outputs": [
    {
     "data": {
      "text/plain": [
       "268"
      ]
     },
     "execution_count": 60,
     "metadata": {},
     "output_type": "execute_result"
    }
   ],
   "source": [
    "#index = 0,2,4,6\n",
    "total_sum =0\n",
    "for i in range(0,len(runs)):\n",
    "    if i%2==0:\n",
    "        total_sum = total_sum+runs[i]\n",
    "total_sum"
   ]
  },
  {
   "cell_type": "code",
   "execution_count": 71,
   "id": "96727c5b",
   "metadata": {},
   "outputs": [
    {
     "name": "stdout",
     "output_type": "stream",
     "text": [
      "0\n",
      "2\n",
      "4\n",
      "6\n"
     ]
    },
    {
     "data": {
      "text/plain": [
       "268"
      ]
     },
     "execution_count": 71,
     "metadata": {},
     "output_type": "execute_result"
    }
   ],
   "source": [
    "#index = 0,2,4,6\n",
    "total_sum =0\n",
    "for i in range(0,len(runs)):\n",
    "    if i%2==0:\n",
    "        #print(i)\n",
    "        total_sum = total_sum+runs[i]\n",
    "total_sum"
   ]
  },
  {
   "cell_type": "code",
   "execution_count": 64,
   "id": "d217a263",
   "metadata": {},
   "outputs": [
    {
     "data": {
      "text/plain": [
       "7"
      ]
     },
     "execution_count": 64,
     "metadata": {},
     "output_type": "execute_result"
    }
   ],
   "source": [
    "len(runs)"
   ]
  },
  {
   "cell_type": "code",
   "execution_count": null,
   "id": "c79457ba",
   "metadata": {},
   "outputs": [],
   "source": []
  },
  {
   "cell_type": "code",
   "execution_count": null,
   "id": "774aa593",
   "metadata": {},
   "outputs": [],
   "source": []
  },
  {
   "cell_type": "code",
   "execution_count": 72,
   "id": "aad99c20",
   "metadata": {},
   "outputs": [
    {
     "name": "stdout",
     "output_type": "stream",
     "text": [
      "5 4 3 2 1 "
     ]
    }
   ],
   "source": [
    "my_list = [1, 2, 3, 4, 5]\n",
    "i = -1\n",
    "while i >= -5:\n",
    "    print(my_list[i], end = \" \")\n",
    "    i -= 1"
   ]
  },
  {
   "cell_type": "code",
   "execution_count": null,
   "id": "1fa85d5e",
   "metadata": {},
   "outputs": [],
   "source": [
    "A. 5 4 3 2 1\n",
    "\n",
    "B. 1 2 3 4 5\n",
    "\n",
    "C. 5 3 1 2 4\n",
    "\n",
    "D. 5 4 3 1 2"
   ]
  },
  {
   "cell_type": "code",
   "execution_count": null,
   "id": "dc894729",
   "metadata": {},
   "outputs": [],
   "source": [
    "my_list = [1, 2, 3, 4, 5]\n",
    "i = 0\n",
    "while i < len(my_list):\n",
    "    if my_list[i] == 3:\n",
    "        break\n",
    "    print(my_list[i], end = \" \")\n",
    "    i += 1"
   ]
  },
  {
   "cell_type": "code",
   "execution_count": null,
   "id": "cc9e1515",
   "metadata": {},
   "outputs": [],
   "source": []
  },
  {
   "cell_type": "code",
   "execution_count": 75,
   "id": "ff815624",
   "metadata": {},
   "outputs": [
    {
     "name": "stdout",
     "output_type": "stream",
     "text": [
      "65\n"
     ]
    }
   ],
   "source": [
    "x = 55\n",
    "def hi():\n",
    "    return x\n",
    "x +=10\n",
    "print(hi()) \n",
    "    \n",
    "\n",
    "    \n",
    "    \n",
    "    \n"
   ]
  },
  {
   "cell_type": "code",
   "execution_count": 90,
   "id": "8ad25446",
   "metadata": {},
   "outputs": [
    {
     "name": "stdout",
     "output_type": "stream",
     "text": [
      "55\n"
     ]
    }
   ],
   "source": [
    "x = 55\n",
    "def hi():\n",
    "    return x\n",
    "\n",
    "print(hi()) \n",
    "x +=10\n"
   ]
  },
  {
   "cell_type": "code",
   "execution_count": 91,
   "id": "80d25abe",
   "metadata": {},
   "outputs": [
    {
     "data": {
      "text/plain": [
       "65"
      ]
     },
     "execution_count": 91,
     "metadata": {},
     "output_type": "execute_result"
    }
   ],
   "source": [
    "x"
   ]
  },
  {
   "cell_type": "code",
   "execution_count": 82,
   "id": "8185632a",
   "metadata": {},
   "outputs": [],
   "source": [
    "x = 55"
   ]
  },
  {
   "cell_type": "code",
   "execution_count": 83,
   "id": "ac24446c",
   "metadata": {},
   "outputs": [],
   "source": [
    "x=+10"
   ]
  },
  {
   "cell_type": "code",
   "execution_count": 84,
   "id": "18c1b9a5",
   "metadata": {},
   "outputs": [
    {
     "data": {
      "text/plain": [
       "10"
      ]
     },
     "execution_count": 84,
     "metadata": {},
     "output_type": "execute_result"
    }
   ],
   "source": [
    "x"
   ]
  },
  {
   "cell_type": "code",
   "execution_count": 87,
   "id": "a0f00143",
   "metadata": {},
   "outputs": [
    {
     "data": {
      "text/plain": [
       "10"
      ]
     },
     "execution_count": 87,
     "metadata": {},
     "output_type": "execute_result"
    }
   ],
   "source": [
    "\n",
    "t=+10\n",
    "t"
   ]
  },
  {
   "cell_type": "code",
   "execution_count": 76,
   "id": "f211401a",
   "metadata": {},
   "outputs": [
    {
     "name": "stdout",
     "output_type": "stream",
     "text": [
      "local,local,local"
     ]
    }
   ],
   "source": [
    "x = \"global\"\n",
    "def foo():\n",
    "    global x\n",
    "    print(x, end=\",\")\n",
    "x = \"local\"\n",
    "print(x, end=\",\") \n",
    "foo()\n",
    "print(x, end=\"\") "
   ]
  },
  {
   "cell_type": "code",
   "execution_count": null,
   "id": "4802d9e9",
   "metadata": {},
   "outputs": [],
   "source": [
    "args -arguments\n",
    "kwargs -keywors"
   ]
  },
  {
   "cell_type": "code",
   "execution_count": null,
   "id": "74a9dab2",
   "metadata": {},
   "outputs": [],
   "source": []
  }
 ],
 "metadata": {
  "kernelspec": {
   "display_name": "Python 3 (ipykernel)",
   "language": "python",
   "name": "python3"
  },
  "language_info": {
   "codemirror_mode": {
    "name": "ipython",
    "version": 3
   },
   "file_extension": ".py",
   "mimetype": "text/x-python",
   "name": "python",
   "nbconvert_exporter": "python",
   "pygments_lexer": "ipython3",
   "version": "3.10.9"
  }
 },
 "nbformat": 4,
 "nbformat_minor": 5
}
