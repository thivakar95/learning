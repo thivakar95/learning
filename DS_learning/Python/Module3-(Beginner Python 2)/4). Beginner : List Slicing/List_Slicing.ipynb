{
 "cells": [
  {
   "cell_type": "code",
   "execution_count": null,
   "id": "bd23a09b",
   "metadata": {},
   "outputs": [],
   "source": [
    "##**Question-1**\n",
    "Given list of all runs by Virat, print runs made in odd matches (Even Indexes).\n",
    "```runs = [62, 85, 74, 10, 12, 101, 122, 99, 81, 55]```"
   ]
  },
  {
   "cell_type": "code",
   "execution_count": 2,
   "id": "14e32190",
   "metadata": {},
   "outputs": [
    {
     "data": {
      "text/plain": [
       "10"
      ]
     },
     "execution_count": 2,
     "metadata": {},
     "output_type": "execute_result"
    }
   ],
   "source": [
    "runs = [62, 85, 74, 10, 12, 101, 122, 99, 81, 55]\n",
    "len(runs)"
   ]
  },
  {
   "cell_type": "code",
   "execution_count": 3,
   "id": "27ba6d47",
   "metadata": {},
   "outputs": [
    {
     "name": "stdout",
     "output_type": "stream",
     "text": [
      "62\n",
      "74\n",
      "12\n",
      "122\n",
      "81\n"
     ]
    }
   ],
   "source": [
    "for i in range(len(runs)):#0,1,2,3...9:\n",
    "    if i%2==0:\n",
    "        print(runs[i])"
   ]
  },
  {
   "cell_type": "markdown",
   "id": "c2f3e0f5",
   "metadata": {},
   "source": [
    "Question-2\n",
    "Create a function\n",
    "Given list of all runs by Virat, create a new list of runs made in odd matches (Even Indexes). runs = [62, 85, 74, 10, 12, 101, 122, 99, 81, 55]\n",
    "\n"
   ]
  },
  {
   "cell_type": "code",
   "execution_count": 5,
   "id": "d8a14346",
   "metadata": {},
   "outputs": [
    {
     "data": {
      "text/plain": [
       "[62, 74, 12, 122, 81]"
      ]
     },
     "execution_count": 5,
     "metadata": {},
     "output_type": "execute_result"
    }
   ],
   "source": [
    "def odd_matches(runs):\n",
    "    result=[]\n",
    "    for i in range(len(runs)):\n",
    "        if i%2==0:\n",
    "            result.append(runs[i])\n",
    "    return result\n",
    "runs = [62, 85, 74, 10, 12, 101, 122, 99, 81, 55]\n",
    "odd_matches(runs)"
   ]
  },
  {
   "cell_type": "code",
   "execution_count": 7,
   "id": "47fd5a22",
   "metadata": {},
   "outputs": [
    {
     "data": {
      "text/plain": [
       "[62, 74, 12, 122, 81, 'satwik']"
      ]
     },
     "execution_count": 7,
     "metadata": {},
     "output_type": "execute_result"
    }
   ],
   "source": [
    "v = [62, 74, 12, 122, 81]\n",
    "v.append(\"satwik\")\n",
    "v"
   ]
  },
  {
   "cell_type": "markdown",
   "id": "82779ba7",
   "metadata": {},
   "source": [
    "Question-3\n",
    "Given list of all runs by Virat, create a new list of runs made in last 5 matches. runs = [62, 85, 74, 10, 12, 101, 122, 99, 81, 55]"
   ]
  },
  {
   "cell_type": "code",
   "execution_count": null,
   "id": "df565c41",
   "metadata": {},
   "outputs": [],
   "source": []
  },
  {
   "cell_type": "code",
   "execution_count": 1,
   "id": "1afff08b",
   "metadata": {},
   "outputs": [
    {
     "data": {
      "text/plain": [
       "[101, 122, 99, 81, 55]"
      ]
     },
     "execution_count": 1,
     "metadata": {},
     "output_type": "execute_result"
    }
   ],
   "source": [
    "def odd_matches(runs):\n",
    "    result=[]\n",
    "    for i in range(len(runs)-5,len(runs)):#INDEX  last 5 matches.\n",
    "        result.append(runs[i])\n",
    "    return result\n",
    "runs = [62, 85, 74, 10, 12, 101, 122, 99, 81, 55]\n",
    "odd_matches(runs)"
   ]
  },
  {
   "cell_type": "code",
   "execution_count": 3,
   "id": "e799b44c",
   "metadata": {},
   "outputs": [
    {
     "data": {
      "text/plain": [
       "[55, 81, 99, 122, 101]"
      ]
     },
     "execution_count": 3,
     "metadata": {},
     "output_type": "execute_result"
    }
   ],
   "source": [
    "def odd_matches(runs):\n",
    "    result=[]\n",
    "    for i in range(1,6):#INDEX  last 5 matches.\n",
    "        result.append(runs[-i])\n",
    "    return result\n",
    "runs = [62, 85, 74, 10, 12, 101, 122, 99, 81, 55]\n",
    "odd_matches(runs)"
   ]
  },
  {
   "cell_type": "code",
   "execution_count": null,
   "id": "48c0294c",
   "metadata": {},
   "outputs": [],
   "source": []
  },
  {
   "cell_type": "markdown",
   "id": "8f93379f",
   "metadata": {},
   "source": [
    "##**Question-4**\n",
    "Given list of all runs by Virat, create a new list of runs made in first 3 matches.\n",
    "```runs = [62, 85, 74, 10, 12, 101, 122, 99, 81, 55]```"
   ]
  },
  {
   "cell_type": "code",
   "execution_count": 4,
   "id": "a7d22ace",
   "metadata": {},
   "outputs": [
    {
     "data": {
      "text/plain": [
       "[62, 85, 74]"
      ]
     },
     "execution_count": 4,
     "metadata": {},
     "output_type": "execute_result"
    }
   ],
   "source": [
    "def odd_matches(runs):\n",
    "    result=[]\n",
    "    for i in range(3):#INDEX  last 5 matches.\n",
    "        result.append(runs[i])\n",
    "    return result\n",
    "runs = [62, 85, 74, 10, 12, 101, 122, 99, 81, 55]\n",
    "odd_matches(runs)"
   ]
  },
  {
   "cell_type": "code",
   "execution_count": null,
   "id": "762417d9",
   "metadata": {},
   "outputs": [],
   "source": []
  },
  {
   "cell_type": "markdown",
   "id": "f100fd1b",
   "metadata": {},
   "source": [
    "Question-5\n",
    "Given list of all runs by Virat, create a new list of runs made from the 3rd match to the 7th \n",
    "74-122\n",
    "match. runs = [62, 85, 74, 10, 12, 101, 122, 99, 81, 55]"
   ]
  },
  {
   "cell_type": "code",
   "execution_count": 5,
   "id": "20ace7cf",
   "metadata": {},
   "outputs": [
    {
     "name": "stdout",
     "output_type": "stream",
     "text": [
      "74\n",
      "10\n",
      "12\n",
      "101\n",
      "122\n"
     ]
    }
   ],
   "source": [
    "for i in range(2,7):\n",
    "    print(runs[i])"
   ]
  },
  {
   "cell_type": "code",
   "execution_count": 6,
   "id": "c13a53f5",
   "metadata": {},
   "outputs": [
    {
     "data": {
      "text/plain": [
       "[74, 10, 12, 101, 122]"
      ]
     },
     "execution_count": 6,
     "metadata": {},
     "output_type": "execute_result"
    }
   ],
   "source": [
    "runs = [62, 85, 74, 10, 12, 101, 122, 99, 81, 55]\n",
    "runs[2:7]"
   ]
  },
  {
   "cell_type": "code",
   "execution_count": null,
   "id": "d5328293",
   "metadata": {},
   "outputs": [],
   "source": [
    "#odd matches\n",
    "#[62, 74, 12, 122, 81]\n",
    "runs = [62, 85, 74, 10, 12, 101, 122, 99, 81, 55]\n",
    "\n"
   ]
  },
  {
   "cell_type": "code",
   "execution_count": 7,
   "id": "7924167d",
   "metadata": {},
   "outputs": [
    {
     "data": {
      "text/plain": [
       "[62, 85, 74, 10, 12, 101, 122, 99, 81, 55]"
      ]
     },
     "execution_count": 7,
     "metadata": {},
     "output_type": "execute_result"
    }
   ],
   "source": [
    "#len(runs) - 1 greater than index -last\n",
    "runs[0:len(runs)]"
   ]
  },
  {
   "cell_type": "code",
   "execution_count": null,
   "id": "a490b748",
   "metadata": {},
   "outputs": [],
   "source": [
    "#range(len(runs))#"
   ]
  },
  {
   "cell_type": "code",
   "execution_count": 8,
   "id": "57b7738b",
   "metadata": {},
   "outputs": [
    {
     "data": {
      "text/plain": [
       "[62, 85, 74, 10, 12, 101, 122, 99, 81, 55]"
      ]
     },
     "execution_count": 8,
     "metadata": {},
     "output_type": "execute_result"
    }
   ],
   "source": [
    "runs[:len(runs)]"
   ]
  },
  {
   "cell_type": "code",
   "execution_count": 11,
   "id": "a1147fb4",
   "metadata": {},
   "outputs": [
    {
     "data": {
      "text/plain": [
       "10"
      ]
     },
     "execution_count": 11,
     "metadata": {},
     "output_type": "execute_result"
    }
   ],
   "source": [
    "len(runs)"
   ]
  },
  {
   "cell_type": "code",
   "execution_count": 12,
   "id": "18a06d70",
   "metadata": {},
   "outputs": [
    {
     "ename": "IndexError",
     "evalue": "list index out of range",
     "output_type": "error",
     "traceback": [
      "\u001b[1;31m---------------------------------------------------------------------------\u001b[0m",
      "\u001b[1;31mIndexError\u001b[0m                                Traceback (most recent call last)",
      "\u001b[1;32m~\\AppData\\Local\\Temp\\ipykernel_8016\\796789125.py\u001b[0m in \u001b[0;36m<cell line: 1>\u001b[1;34m()\u001b[0m\n\u001b[1;32m----> 1\u001b[1;33m \u001b[0mruns\u001b[0m\u001b[1;33m[\u001b[0m\u001b[1;36m10\u001b[0m\u001b[1;33m]\u001b[0m\u001b[1;33m\u001b[0m\u001b[1;33m\u001b[0m\u001b[0m\n\u001b[0m",
      "\u001b[1;31mIndexError\u001b[0m: list index out of range"
     ]
    }
   ],
   "source": [
    "runs[10]"
   ]
  },
  {
   "cell_type": "code",
   "execution_count": 13,
   "id": "9972c4da",
   "metadata": {},
   "outputs": [
    {
     "data": {
      "text/plain": [
       "[62, 85, 74, 10, 12, 101, 122, 99, 81, 55]"
      ]
     },
     "execution_count": 13,
     "metadata": {},
     "output_type": "execute_result"
    }
   ],
   "source": [
    "[62, 85, 74, 10, 12, 101, 122, 99, 81, 55]\n",
    "runs[:len(runs)]"
   ]
  },
  {
   "cell_type": "code",
   "execution_count": 15,
   "id": "c38d830a",
   "metadata": {},
   "outputs": [
    {
     "data": {
      "text/plain": [
       "[62, 74, 12, 122, 81]"
      ]
     },
     "execution_count": 15,
     "metadata": {},
     "output_type": "execute_result"
    }
   ],
   "source": [
    "runs[:len(runs):2]"
   ]
  },
  {
   "cell_type": "code",
   "execution_count": 16,
   "id": "7a9ce2fd",
   "metadata": {},
   "outputs": [
    {
     "data": {
      "text/plain": [
       "[62, 74, 12, 122, 81]"
      ]
     },
     "execution_count": 16,
     "metadata": {},
     "output_type": "execute_result"
    }
   ],
   "source": [
    "runs[::2]"
   ]
  },
  {
   "cell_type": "markdown",
   "id": "f070f182",
   "metadata": {},
   "source": [
    "runs = [62, 85, 74, 10, 12, 101, 122, 99, 81, 55]\n"
   ]
  },
  {
   "cell_type": "code",
   "execution_count": 17,
   "id": "c12106b4",
   "metadata": {},
   "outputs": [
    {
     "name": "stdout",
     "output_type": "stream",
     "text": [
      "[74, 10, 12, 101, 122, 99, 81, 55]\n"
     ]
    }
   ],
   "source": [
    "print(runs[2:])\n"
   ]
  },
  {
   "cell_type": "code",
   "execution_count": 18,
   "id": "00567778",
   "metadata": {},
   "outputs": [
    {
     "name": "stdout",
     "output_type": "stream",
     "text": [
      "[62, 85, 74, 10, 12]\n"
     ]
    }
   ],
   "source": [
    "runs = [62, 85, 74, 10, 12, 101, 122, 99, 81, 55]\n",
    "print(runs[:5])\n"
   ]
  },
  {
   "cell_type": "code",
   "execution_count": 21,
   "id": "8934fc95",
   "metadata": {},
   "outputs": [
    {
     "ename": "ValueError",
     "evalue": "slice step cannot be zero",
     "output_type": "error",
     "traceback": [
      "\u001b[1;31m---------------------------------------------------------------------------\u001b[0m",
      "\u001b[1;31mValueError\u001b[0m                                Traceback (most recent call last)",
      "\u001b[1;32m~\\AppData\\Local\\Temp\\ipykernel_8016\\402060827.py\u001b[0m in \u001b[0;36m<cell line: 1>\u001b[1;34m()\u001b[0m\n\u001b[1;32m----> 1\u001b[1;33m \u001b[0mprint\u001b[0m\u001b[1;33m(\u001b[0m\u001b[0mruns\u001b[0m\u001b[1;33m[\u001b[0m\u001b[1;33m:\u001b[0m\u001b[1;33m:\u001b[0m\u001b[1;36m0\u001b[0m\u001b[1;33m]\u001b[0m\u001b[1;33m)\u001b[0m\u001b[1;33m\u001b[0m\u001b[1;33m\u001b[0m\u001b[0m\n\u001b[0m",
      "\u001b[1;31mValueError\u001b[0m: slice step cannot be zero"
     ]
    }
   ],
   "source": [
    "print(runs[::0])"
   ]
  },
  {
   "cell_type": "code",
   "execution_count": 22,
   "id": "fc410016",
   "metadata": {},
   "outputs": [
    {
     "data": {
      "text/plain": [
       "[62, 85, 74, 10, 12, 101, 122, 99, 81, 55]"
      ]
     },
     "execution_count": 22,
     "metadata": {},
     "output_type": "execute_result"
    }
   ],
   "source": [
    "runs = [62, 85, 74, 10, 12, 101, 122, 99, 81, 55]\n",
    "runs[0:20] "
   ]
  },
  {
   "cell_type": "code",
   "execution_count": 23,
   "id": "0fc99c15",
   "metadata": {},
   "outputs": [
    {
     "ename": "IndexError",
     "evalue": "list index out of range",
     "output_type": "error",
     "traceback": [
      "\u001b[1;31m---------------------------------------------------------------------------\u001b[0m",
      "\u001b[1;31mIndexError\u001b[0m                                Traceback (most recent call last)",
      "\u001b[1;32m~\\AppData\\Local\\Temp\\ipykernel_8016\\3023194804.py\u001b[0m in \u001b[0;36m<cell line: 1>\u001b[1;34m()\u001b[0m\n\u001b[1;32m----> 1\u001b[1;33m \u001b[0mruns\u001b[0m\u001b[1;33m[\u001b[0m\u001b[1;36m20\u001b[0m\u001b[1;33m]\u001b[0m\u001b[1;33m\u001b[0m\u001b[1;33m\u001b[0m\u001b[0m\n\u001b[0m",
      "\u001b[1;31mIndexError\u001b[0m: list index out of range"
     ]
    }
   ],
   "source": [
    "runs[20]"
   ]
  },
  {
   "cell_type": "code",
   "execution_count": 24,
   "id": "d3f45b7c",
   "metadata": {},
   "outputs": [
    {
     "data": {
      "text/plain": [
       "[]"
      ]
     },
     "execution_count": 24,
     "metadata": {},
     "output_type": "execute_result"
    }
   ],
   "source": [
    "runs[15:20] #slicing no error # empty list"
   ]
  },
  {
   "cell_type": "code",
   "execution_count": 26,
   "id": "e25ca66b",
   "metadata": {},
   "outputs": [
    {
     "data": {
      "text/plain": [
       "[101, 12, 10, 74, 85]"
      ]
     },
     "execution_count": 26,
     "metadata": {},
     "output_type": "execute_result"
    }
   ],
   "source": [
    "runs = [62, 85, 74, 10, 12, 101, 122, 99, 81, 55]\n",
    "\n",
    "runs[5:0:-1]"
   ]
  },
  {
   "cell_type": "code",
   "execution_count": 25,
   "id": "66def59c",
   "metadata": {},
   "outputs": [
    {
     "data": {
      "text/plain": [
       "[]"
      ]
     },
     "execution_count": 25,
     "metadata": {},
     "output_type": "execute_result"
    }
   ],
   "source": [
    "runs[5:0]"
   ]
  },
  {
   "cell_type": "code",
   "execution_count": 27,
   "id": "a3f030cd",
   "metadata": {},
   "outputs": [
    {
     "data": {
      "text/plain": [
       "[81, 99, 122]"
      ]
     },
     "execution_count": 27,
     "metadata": {},
     "output_type": "execute_result"
    }
   ],
   "source": [
    "runs = [62, 85, 74, 10, 12, 101, 122, 99, 81, 55]\n",
    "runs[-2:-5:-1]"
   ]
  },
  {
   "cell_type": "code",
   "execution_count": 28,
   "id": "10398b92",
   "metadata": {},
   "outputs": [
    {
     "data": {
      "text/plain": [
       "[81, 99, 122, 101, 12, 10, 74, 85, 62]"
      ]
     },
     "execution_count": 28,
     "metadata": {},
     "output_type": "execute_result"
    }
   ],
   "source": [
    "runs = [62, 85, 74, 10, 12, 101, 122, 99, 81, 55]\n",
    "runs[-2::-1]"
   ]
  },
  {
   "cell_type": "code",
   "execution_count": null,
   "id": "71a7e1b3",
   "metadata": {},
   "outputs": [],
   "source": []
  },
  {
   "cell_type": "code",
   "execution_count": 29,
   "id": "8f9a3e38",
   "metadata": {},
   "outputs": [
    {
     "data": {
      "text/plain": [
       "[10, 20, 30, 440, 50]"
      ]
     },
     "execution_count": 29,
     "metadata": {},
     "output_type": "execute_result"
    }
   ],
   "source": [
    "a = [10, 20, 30, 440, 50, 60, 70, 80, 90, 100]\n",
    "a[:-5]"
   ]
  },
  {
   "cell_type": "code",
   "execution_count": 30,
   "id": "62d10801",
   "metadata": {},
   "outputs": [
    {
     "data": {
      "text/plain": [
       "[20, 30, 440, 50]"
      ]
     },
     "execution_count": 30,
     "metadata": {},
     "output_type": "execute_result"
    }
   ],
   "source": [
    "\n",
    "a = [10, 20, 30, 440, 50, 60, 70, 80, 90, 100]\n",
    "a[-9:5]"
   ]
  },
  {
   "cell_type": "code",
   "execution_count": null,
   "id": "e935613e",
   "metadata": {},
   "outputs": [],
   "source": []
  },
  {
   "cell_type": "markdown",
   "id": "f01a6d9e",
   "metadata": {},
   "source": [
    "# Question"
   ]
  },
  {
   "cell_type": "code",
   "execution_count": 31,
   "id": "7d29b821",
   "metadata": {},
   "outputs": [
    {
     "data": {
      "text/plain": [
       "[440, 50]"
      ]
     },
     "execution_count": 31,
     "metadata": {},
     "output_type": "execute_result"
    }
   ],
   "source": [
    "a = [10, 20, 30, 440, 50, 60, 70, 80, 90, 100]\n",
    "a[3:5]"
   ]
  },
  {
   "cell_type": "code",
   "execution_count": 32,
   "id": "3fe96b12",
   "metadata": {},
   "outputs": [
    {
     "name": "stdout",
     "output_type": "stream",
     "text": [
      "[10, 20, 30, 440, 50, 60, 70, 80]\n"
     ]
    }
   ],
   "source": [
    "print(a[:8])\n"
   ]
  },
  {
   "cell_type": "code",
   "execution_count": 33,
   "id": "d282a06e",
   "metadata": {},
   "outputs": [
    {
     "name": "stdout",
     "output_type": "stream",
     "text": [
      "[10, 20, 30, 440, 50, 60, 70, 80, 90, 100]\n"
     ]
    }
   ],
   "source": [
    "print(a[:])\n"
   ]
  },
  {
   "cell_type": "code",
   "execution_count": null,
   "id": "2310a74a",
   "metadata": {},
   "outputs": [],
   "source": []
  },
  {
   "cell_type": "code",
   "execution_count": 34,
   "id": "76f35fe5",
   "metadata": {},
   "outputs": [
    {
     "name": "stdout",
     "output_type": "stream",
     "text": [
      "[80, 90, 100]\n"
     ]
    }
   ],
   "source": [
    "print(a[7:])\n"
   ]
  },
  {
   "cell_type": "code",
   "execution_count": 35,
   "id": "b38e8cb8",
   "metadata": {},
   "outputs": [
    {
     "name": "stdout",
     "output_type": "stream",
     "text": [
      "[90, 80, 70]\n"
     ]
    }
   ],
   "source": [
    "a = [10, 20, 30, 440, 50, 60, 70, 80, 90, 100]\n",
    "print(a[-2:-5:-1])\n"
   ]
  },
  {
   "cell_type": "code",
   "execution_count": 36,
   "id": "de72bb66",
   "metadata": {},
   "outputs": [
    {
     "name": "stdout",
     "output_type": "stream",
     "text": [
      "[]\n"
     ]
    }
   ],
   "source": [
    "print(a[-2:-7])\n"
   ]
  },
  {
   "cell_type": "code",
   "execution_count": 38,
   "id": "fc43d6fe",
   "metadata": {},
   "outputs": [
    {
     "data": {
      "text/plain": [
       "[]"
      ]
     },
     "execution_count": 38,
     "metadata": {},
     "output_type": "execute_result"
    }
   ],
   "source": [
    "list(range(-2,-7))"
   ]
  },
  {
   "cell_type": "code",
   "execution_count": 39,
   "id": "79e602d4",
   "metadata": {},
   "outputs": [
    {
     "name": "stdout",
     "output_type": "stream",
     "text": [
      "[10, 20, 30, 440, 50]\n"
     ]
    }
   ],
   "source": [
    "print(a[:-5])\n"
   ]
  },
  {
   "cell_type": "code",
   "execution_count": null,
   "id": "37ec9a5e",
   "metadata": {},
   "outputs": [],
   "source": []
  },
  {
   "cell_type": "code",
   "execution_count": 40,
   "id": "5356c9a2",
   "metadata": {},
   "outputs": [
    {
     "name": "stdout",
     "output_type": "stream",
     "text": [
      "[]\n"
     ]
    }
   ],
   "source": [
    "a = [10, 20, 30(-8), 440, 50(5), 60, 70, 80, 90, 100]\n",
    "\n",
    "print(a[-8:5:-1])"
   ]
  },
  {
   "cell_type": "code",
   "execution_count": 41,
   "id": "e608f224",
   "metadata": {},
   "outputs": [
    {
     "name": "stdout",
     "output_type": "stream",
     "text": [
      "[90, 100]\n",
      "[30, 440, 50]\n"
     ]
    }
   ],
   "source": [
    "print(a[-2:])\n",
    "print(a[-8:5])"
   ]
  },
  {
   "cell_type": "markdown",
   "id": "336488e7",
   "metadata": {},
   "source": [
    "Given three integers, A, B and C. You have to find the number of days it will take to reach zero cases of Corona in a city. A - Average cases recovered in a day of the corona.\n",
    "B - Number of new cases of corona daily.\n",
    "C - Current active cases of the corona. Return the minimum number of days it will take to reach 0 active cases of Covid.\n",
    "\n",
    "class Solution:\n",
    "# @param A : integer\n",
    "# @param B : integer\n",
    "# @param C : integer\n",
    "# @return an integer\n",
    "def solve(self, A, B, C):\n",
    "    ###### write yopu"
   ]
  }
 ],
 "metadata": {
  "kernelspec": {
   "display_name": "Python 3 (ipykernel)",
   "language": "python",
   "name": "python3"
  },
  "language_info": {
   "codemirror_mode": {
    "name": "ipython",
    "version": 3
   },
   "file_extension": ".py",
   "mimetype": "text/x-python",
   "name": "python",
   "nbconvert_exporter": "python",
   "pygments_lexer": "ipython3",
   "version": "3.10.9"
  }
 },
 "nbformat": 4,
 "nbformat_minor": 5
}
