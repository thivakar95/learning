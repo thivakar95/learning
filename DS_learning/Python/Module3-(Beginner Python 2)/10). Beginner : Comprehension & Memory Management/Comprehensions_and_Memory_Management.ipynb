{
 "cells": [
  {
   "cell_type": "markdown",
   "id": "21971988",
   "metadata": {},
   "source": [
    "Q1: Given an Input Integer N, Create a list containing all the numbers between 1 to N\n",
    "\n",
    "Ex:\n",
    "N =3\n",
    "output = [1,2,3]"
   ]
  },
  {
   "cell_type": "code",
   "execution_count": 2,
   "id": "c8818170",
   "metadata": {},
   "outputs": [
    {
     "data": {
      "text/plain": [
       "[1, 2, 3]"
      ]
     },
     "execution_count": 2,
     "metadata": {},
     "output_type": "execute_result"
    }
   ],
   "source": [
    "N=3\n",
    "n = []\n",
    "for i in range(1,N+1):\n",
    "    n.append(i)\n",
    "n"
   ]
  },
  {
   "cell_type": "markdown",
   "id": "f356b5e4",
   "metadata": {},
   "source": []
  },
  {
   "cell_type": "markdown",
   "id": "e0b3cac5",
   "metadata": {},
   "source": [
    "Q2: Given an Input Integer N, Create a list containing all the Square of numbers between 1 to N\n",
    "\n",
    "Ex:\n",
    "N = 3\n",
    "output = [1,4,9]"
   ]
  },
  {
   "cell_type": "code",
   "execution_count": 3,
   "id": "9b286738",
   "metadata": {},
   "outputs": [
    {
     "data": {
      "text/plain": [
       "[1, 4, 9]"
      ]
     },
     "execution_count": 3,
     "metadata": {},
     "output_type": "execute_result"
    }
   ],
   "source": [
    "N=3\n",
    "n = []\n",
    "for i in range(1,N+1):\n",
    "    n.append(i**2)\n",
    "n"
   ]
  },
  {
   "cell_type": "markdown",
   "id": "6658d4be",
   "metadata": {},
   "source": [
    "Q3: Given an Input Integer N, Create a list containing all the Even numbers between 1 to N\n",
    "\n",
    "Ex:\n",
    "N = 5\n",
    "output = [2,4]"
   ]
  },
  {
   "cell_type": "code",
   "execution_count": 5,
   "id": "8c90959b",
   "metadata": {},
   "outputs": [
    {
     "data": {
      "text/plain": [
       "[2, 4]"
      ]
     },
     "execution_count": 5,
     "metadata": {},
     "output_type": "execute_result"
    }
   ],
   "source": [
    "N=5\n",
    "n = []\n",
    "for i in range(1,N+1):\n",
    "    if i %2==0:\n",
    "        n.append(i)\n",
    "n"
   ]
  },
  {
   "cell_type": "markdown",
   "id": "fc4e8fc5",
   "metadata": {},
   "source": [
    "Q4: Given an input list of N numbers, Create a new tuple of Size N containing \"Even\" or \"Odd\"\n",
    "\n",
    "Ex:\n",
    "input = [1,3,4,2,5]\n",
    "output = (\"Odd\",\"Odd\",\"Even\",\"Even\",\"Odd\")"
   ]
  },
  {
   "cell_type": "code",
   "execution_count": 7,
   "id": "f0b3aa5f",
   "metadata": {},
   "outputs": [
    {
     "data": {
      "text/plain": [
       "('Odd', 'Odd', 'Even', 'Even', 'Odd')"
      ]
     },
     "execution_count": 7,
     "metadata": {},
     "output_type": "execute_result"
    }
   ],
   "source": [
    "N = [1,3,4,2,5]\n",
    "a=[]\n",
    "for i in N:\n",
    "    if i%2==0:\n",
    "        a.append(\"Even\")\n",
    "    else:\n",
    "        a.append(\"Odd\")\n",
    "tuple(a)"
   ]
  },
  {
   "cell_type": "code",
   "execution_count": 10,
   "id": "6d582f11",
   "metadata": {},
   "outputs": [],
   "source": [
    "name = \"AKASH\""
   ]
  },
  {
   "cell_type": "code",
   "execution_count": 11,
   "id": "2f642fe6",
   "metadata": {},
   "outputs": [
    {
     "ename": "TypeError",
     "evalue": "'str' object does not support item assignment",
     "output_type": "error",
     "traceback": [
      "\u001b[1;31m---------------------------------------------------------------------------\u001b[0m",
      "\u001b[1;31mTypeError\u001b[0m                                 Traceback (most recent call last)",
      "\u001b[1;32m~\\AppData\\Local\\Temp\\ipykernel_17360\\2973268528.py\u001b[0m in \u001b[0;36m<cell line: 1>\u001b[1;34m()\u001b[0m\n\u001b[1;32m----> 1\u001b[1;33m \u001b[0mname\u001b[0m\u001b[1;33m[\u001b[0m\u001b[1;36m0\u001b[0m\u001b[1;33m]\u001b[0m \u001b[1;33m=\u001b[0m \u001b[1;34m\"H\"\u001b[0m\u001b[1;33m\u001b[0m\u001b[1;33m\u001b[0m\u001b[0m\n\u001b[0m",
      "\u001b[1;31mTypeError\u001b[0m: 'str' object does not support item assignment"
     ]
    }
   ],
   "source": [
    "name[0] = \"H\""
   ]
  },
  {
   "cell_type": "code",
   "execution_count": 12,
   "id": "5b9601e1",
   "metadata": {},
   "outputs": [
    {
     "ename": "TypeError",
     "evalue": "'tuple' object does not support item assignment",
     "output_type": "error",
     "traceback": [
      "\u001b[1;31m---------------------------------------------------------------------------\u001b[0m",
      "\u001b[1;31mTypeError\u001b[0m                                 Traceback (most recent call last)",
      "\u001b[1;32m~\\AppData\\Local\\Temp\\ipykernel_17360\\1943838484.py\u001b[0m in \u001b[0;36m<cell line: 2>\u001b[1;34m()\u001b[0m\n\u001b[0;32m      1\u001b[0m \u001b[0mt\u001b[0m \u001b[1;33m=\u001b[0m\u001b[1;33m(\u001b[0m\u001b[1;36m1\u001b[0m\u001b[1;33m,\u001b[0m\u001b[1;36m2\u001b[0m\u001b[1;33m,\u001b[0m\u001b[1;36m3\u001b[0m\u001b[1;33m)\u001b[0m\u001b[1;33m\u001b[0m\u001b[1;33m\u001b[0m\u001b[0m\n\u001b[1;32m----> 2\u001b[1;33m \u001b[0mt\u001b[0m\u001b[1;33m[\u001b[0m\u001b[1;36m0\u001b[0m\u001b[1;33m]\u001b[0m\u001b[1;33m=\u001b[0m\u001b[1;36m100\u001b[0m\u001b[1;33m\u001b[0m\u001b[1;33m\u001b[0m\u001b[0m\n\u001b[0m",
      "\u001b[1;31mTypeError\u001b[0m: 'tuple' object does not support item assignment"
     ]
    }
   ],
   "source": [
    "t =(1,2,3)\n",
    "t[0]=100"
   ]
  },
  {
   "cell_type": "code",
   "execution_count": 13,
   "id": "5ce2dcd1",
   "metadata": {},
   "outputs": [
    {
     "ename": "TypeError",
     "evalue": "'str' object does not support item assignment",
     "output_type": "error",
     "traceback": [
      "\u001b[1;31m---------------------------------------------------------------------------\u001b[0m",
      "\u001b[1;31mTypeError\u001b[0m                                 Traceback (most recent call last)",
      "\u001b[1;32m~\\AppData\\Local\\Temp\\ipykernel_17360\\1461756249.py\u001b[0m in \u001b[0;36m<cell line: 2>\u001b[1;34m()\u001b[0m\n\u001b[0;32m      1\u001b[0m \u001b[0mname\u001b[0m \u001b[1;33m=\u001b[0m \u001b[1;34m\"AKASH\"\u001b[0m\u001b[1;33m\u001b[0m\u001b[1;33m\u001b[0m\u001b[0m\n\u001b[1;32m----> 2\u001b[1;33m \u001b[0mname\u001b[0m\u001b[1;33m[\u001b[0m\u001b[1;36m0\u001b[0m\u001b[1;33m]\u001b[0m \u001b[1;33m=\u001b[0m \u001b[1;34m\"AKASH RAJPURIA\"\u001b[0m\u001b[1;33m\u001b[0m\u001b[1;33m\u001b[0m\u001b[0m\n\u001b[0m",
      "\u001b[1;31mTypeError\u001b[0m: 'str' object does not support item assignment"
     ]
    }
   ],
   "source": [
    "name = \"AKASH\"\n",
    "name[0] = \"AKASH RAJPURIA\""
   ]
  },
  {
   "cell_type": "code",
   "execution_count": 14,
   "id": "79af2cf4",
   "metadata": {},
   "outputs": [
    {
     "data": {
      "text/plain": [
       "'AKASHRAJPURIA'"
      ]
     },
     "execution_count": 14,
     "metadata": {},
     "output_type": "execute_result"
    }
   ],
   "source": [
    "name + \"RAJPURIA\""
   ]
  },
  {
   "cell_type": "code",
   "execution_count": null,
   "id": "f3375b69",
   "metadata": {},
   "outputs": [],
   "source": [
    "name = name + \"RAJPURIA\""
   ]
  },
  {
   "cell_type": "code",
   "execution_count": null,
   "id": "4d80985d",
   "metadata": {},
   "outputs": [],
   "source": []
  },
  {
   "cell_type": "code",
   "execution_count": 18,
   "id": "8af37338",
   "metadata": {},
   "outputs": [
    {
     "data": {
      "text/plain": [
       "('Odd', 'Odd', 'Even', 'Even', 'Odd')"
      ]
     },
     "execution_count": 18,
     "metadata": {},
     "output_type": "execute_result"
    }
   ],
   "source": [
    "N = [1,3,4,2,5]\n",
    "a=()\n",
    "for i in N:\n",
    "    if i%2==0:\n",
    "        a = a+(\"Even\",)\n",
    "    else:\n",
    "        a = a+(\"Odd\",)\n",
    "a"
   ]
  },
  {
   "cell_type": "code",
   "execution_count": null,
   "id": "3112def8",
   "metadata": {},
   "outputs": [],
   "source": []
  },
  {
   "cell_type": "code",
   "execution_count": 19,
   "id": "38d7373f",
   "metadata": {},
   "outputs": [
    {
     "data": {
      "text/plain": [
       "(1, 2, 3)"
      ]
     },
     "execution_count": 19,
     "metadata": {},
     "output_type": "execute_result"
    }
   ],
   "source": [
    "(1,2,3)"
   ]
  },
  {
   "cell_type": "code",
   "execution_count": 21,
   "id": "092a1d60",
   "metadata": {},
   "outputs": [
    {
     "data": {
      "text/plain": [
       "(1, 2, 3, 'abhishek')"
      ]
     },
     "execution_count": 21,
     "metadata": {},
     "output_type": "execute_result"
    }
   ],
   "source": [
    "(1,2,3) +(\"abhishek\",)"
   ]
  },
  {
   "cell_type": "markdown",
   "id": "f6f9a69b",
   "metadata": {},
   "source": [
    "Q5: Given an input list of N student, \n",
    "Create a new List containing length of Name of each Student\n",
    "```\n",
    "Ex:\n",
    "students = [\"Mohan\",\"Jag\", \"Ramanna\"]\n",
    "Output=[5,3,7]"
   ]
  },
  {
   "cell_type": "code",
   "execution_count": 23,
   "id": "12876c67",
   "metadata": {},
   "outputs": [
    {
     "data": {
      "text/plain": [
       "[5, 3, 7]"
      ]
     },
     "execution_count": 23,
     "metadata": {},
     "output_type": "execute_result"
    }
   ],
   "source": [
    "students = [\"Mohan\",\"Jag\", \"Ramanna\"]\n",
    "Output=[]\n",
    "for i in students:\n",
    "    Output.append(len(i))\n",
    "Output"
   ]
  },
  {
   "cell_type": "markdown",
   "id": "a0bce7c0",
   "metadata": {},
   "source": [
    "Q6: Given an input list of N numbers and N student, Create a new dictionary of Size N containing Name of Student as Key and Number as Values\n",
    "```\n",
    "Ex:\n",
    "students = [\"Mohan\",\"Jagan\", \"Raman\"]\n",
    "Marks = [20,30,10]\n",
    "output:\n",
    "{\"Mohan\":20, \"Jagan\":30, \"Raman\":10}\n",
    "\n"
   ]
  },
  {
   "cell_type": "code",
   "execution_count": 29,
   "id": "05546705",
   "metadata": {},
   "outputs": [
    {
     "data": {
      "text/plain": [
       "{'Mohan': 20, 'Jagan': 30, 'Raman': 10}"
      ]
     },
     "execution_count": 29,
     "metadata": {},
     "output_type": "execute_result"
    }
   ],
   "source": [
    "students = [\"Mohan\",\"Jagan\", \"Raman\"]\n",
    "Marks = [20,30,10]\n",
    "d= {}\n",
    "for i in range(len(students)):#0,1,2\n",
    "    #print(students[i],Marks[i])\n",
    "    d[students[i]]=Marks[i]\n",
    "d"
   ]
  },
  {
   "cell_type": "code",
   "execution_count": null,
   "id": "e0253828",
   "metadata": {},
   "outputs": [],
   "source": []
  },
  {
   "cell_type": "code",
   "execution_count": null,
   "id": "2b6a8ced",
   "metadata": {},
   "outputs": [],
   "source": []
  }
 ],
 "metadata": {
  "kernelspec": {
   "display_name": "Python 3 (ipykernel)",
   "language": "python",
   "name": "python3"
  },
  "language_info": {
   "codemirror_mode": {
    "name": "ipython",
    "version": 3
   },
   "file_extension": ".py",
   "mimetype": "text/x-python",
   "name": "python",
   "nbconvert_exporter": "python",
   "pygments_lexer": "ipython3",
   "version": "3.10.9"
  }
 },
 "nbformat": 4,
 "nbformat_minor": 5
}
