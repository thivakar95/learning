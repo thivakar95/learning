{
 "cells": [
  {
   "cell_type": "markdown",
   "id": "01364e82",
   "metadata": {},
   "source": [
    "## **Question** - Positive or negative\n",
    "* Take an integer input and print if its positive or negative"
   ]
  },
  {
   "cell_type": "code",
   "execution_count": 3,
   "id": "50fdd899",
   "metadata": {},
   "outputs": [
    {
     "name": "stdout",
     "output_type": "stream",
     "text": [
      "Enter your nunmber -456\n",
      "Negative\n"
     ]
    }
   ],
   "source": [
    "number = int(input(\"Enter your nunmber \"))\n",
    "if number>=0:\n",
    "    print(\"Poistive\")\n",
    "else:\n",
    "    print(\"Negative\")"
   ]
  },
  {
   "cell_type": "markdown",
   "id": "7437bcc9",
   "metadata": {},
   "source": [
    "## **Evaluate expression**\n",
    "* Take a non negative single digit number as input.\n",
    "* If `num ** 5 % 50 + 20 - 6` > `15` then `print(\"BLACK\")` else `print(\"BLUE\")`.\n",
    "######**NOTE**: reject non single digit number"
   ]
  },
  {
   "cell_type": "code",
   "execution_count": 8,
   "id": "85ae4f04",
   "metadata": {},
   "outputs": [
    {
     "name": "stdout",
     "output_type": "stream",
     "text": [
      "Enter your non negative single digit number 567\n",
      "Invalid Input...!\n"
     ]
    }
   ],
   "source": [
    "number = int(input(\"Enter your non negative single digit number \"))\n",
    "\n",
    "if number>0 and number<10:\n",
    "    if number ** 5 % 50 + 20 - 6 > 15:\n",
    "        print(\"Black\")\n",
    "    else:\n",
    "        print(\"Blue\")\n",
    "else:\n",
    "    print(\"Invalid Input...!\")"
   ]
  },
  {
   "cell_type": "code",
   "execution_count": 11,
   "id": "faf9a873",
   "metadata": {},
   "outputs": [
    {
     "name": "stdout",
     "output_type": "stream",
     "text": [
      "-567\n",
      "number not valid!\n"
     ]
    }
   ],
   "source": [
    "# 2\n",
    "number=int(input())\n",
    "if not (number >= 0) and (number <= 9):\n",
    "    print(\"number not valid!\")\n",
    "else:\n",
    "    if number**5 % 50 + 20 - 6 > 15:\n",
    "        print(\"BLACK\")\n",
    "    else:\n",
    "        print(\"BLUE\")"
   ]
  },
  {
   "cell_type": "code",
   "execution_count": 9,
   "id": "f0bafdd2",
   "metadata": {},
   "outputs": [
    {
     "data": {
      "text/plain": [
       "False"
      ]
     },
     "execution_count": 9,
     "metadata": {},
     "output_type": "execute_result"
    }
   ],
   "source": [
    "not True"
   ]
  },
  {
   "cell_type": "code",
   "execution_count": null,
   "id": "78a3be17",
   "metadata": {},
   "outputs": [],
   "source": [
    "# 3\n",
    "number=int(input())\n",
    "if number < 0 and number > 9:\n",
    "  print(\"number not valid!\")\n",
    "else:\n",
    "  if number**5 % 50 + 20 - 6 > 15:\n",
    "    print(\"BLACK\")\n",
    "  else:\n",
    "    print(\"BLUE\")"
   ]
  },
  {
   "cell_type": "code",
   "execution_count": null,
   "id": "8b0bf2ac",
   "metadata": {},
   "outputs": [],
   "source": []
  },
  {
   "cell_type": "markdown",
   "id": "fde2d083",
   "metadata": {},
   "source": [
    "## **Question** - Evaluate String\n",
    "* Take a string input and if the entered language is \"Python\" `print(\"great choice!\")` else `print(\"Think again?\")`"
   ]
  },
  {
   "cell_type": "code",
   "execution_count": null,
   "id": "738a44ec",
   "metadata": {},
   "outputs": [],
   "source": [
    "python\n",
    "Python"
   ]
  },
  {
   "cell_type": "code",
   "execution_count": 17,
   "id": "2fde5ead",
   "metadata": {},
   "outputs": [
    {
     "name": "stdout",
     "output_type": "stream",
     "text": [
      "Enter your prog language PYthon\n",
      "Think again!\n"
     ]
    }
   ],
   "source": [
    "#lang = str(input(\"Enter your prog language\"))\n",
    "lang = input(\"Enter your prog language \")\n",
    "if lang=='python' or lang == 'Python':\n",
    "    print(\"Great Choice\")\n",
    "else:\n",
    "    print(\"Think again!\")"
   ]
  },
  {
   "cell_type": "code",
   "execution_count": null,
   "id": "c12ef8fe",
   "metadata": {},
   "outputs": [],
   "source": [
    "#lang = str(input(\"Enter your prog language\"))\n",
    "lang = input(\"Enter your prog language \")\n",
    "if lang=='python' or lang == 'Python':\n",
    "    print(\"Great Choice\")\n",
    "else:\n",
    "    print(\"Think again!\")"
   ]
  },
  {
   "cell_type": "code",
   "execution_count": 18,
   "id": "294d0ee9",
   "metadata": {},
   "outputs": [
    {
     "data": {
      "text/plain": [
       "'python'"
      ]
     },
     "execution_count": 18,
     "metadata": {},
     "output_type": "execute_result"
    }
   ],
   "source": [
    "'PytHoN'.lower()"
   ]
  },
  {
   "cell_type": "code",
   "execution_count": 19,
   "id": "34ae3a89",
   "metadata": {},
   "outputs": [
    {
     "ename": "SyntaxError",
     "evalue": "invalid decimal literal (3224330099.py, line 1)",
     "output_type": "error",
     "traceback": [
      "\u001b[1;36m  File \u001b[1;32m\"C:\\Users\\AKASH\\AppData\\Local\\Temp\\ipykernel_4468\\3224330099.py\"\u001b[1;36m, line \u001b[1;32m1\u001b[0m\n\u001b[1;33m    34.lower()\u001b[0m\n\u001b[1;37m      ^\u001b[0m\n\u001b[1;31mSyntaxError\u001b[0m\u001b[1;31m:\u001b[0m invalid decimal literal\n"
     ]
    }
   ],
   "source": [
    "34.lower()"
   ]
  },
  {
   "cell_type": "code",
   "execution_count": null,
   "id": "de964359",
   "metadata": {},
   "outputs": [],
   "source": []
  },
  {
   "cell_type": "code",
   "execution_count": 20,
   "id": "cedd61a9",
   "metadata": {},
   "outputs": [
    {
     "data": {
      "text/plain": [
       "'gy'"
      ]
     },
     "execution_count": 20,
     "metadata": {},
     "output_type": "execute_result"
    }
   ],
   "source": [
    "\"gy\".lower()"
   ]
  },
  {
   "cell_type": "code",
   "execution_count": 21,
   "id": "41ef5d88",
   "metadata": {},
   "outputs": [
    {
     "name": "stdout",
     "output_type": "stream",
     "text": [
      "Enter your prog language PytHon\n",
      "Great Choice\n"
     ]
    }
   ],
   "source": [
    "#lang = str(input(\"Enter your prog language\"))\n",
    "lang = input(\"Enter your prog language \")\n",
    "if lang.lower()=='python':\n",
    "    print(\"Great Choice\")\n",
    "else:\n",
    "    print(\"Think again!\")"
   ]
  },
  {
   "cell_type": "code",
   "execution_count": 22,
   "id": "39b0af35",
   "metadata": {},
   "outputs": [
    {
     "name": "stdout",
     "output_type": "stream",
     "text": [
      "Enter your prog language PYThon\n",
      "Great Choice\n"
     ]
    }
   ],
   "source": [
    "#lang = str(input(\"Enter your prog language\"))\n",
    "lang = input(\"Enter your prog language \").lower()\n",
    "if lang=='python':\n",
    "    print(\"Great Choice\")\n",
    "else:\n",
    "    print(\"Think again!\")"
   ]
  },
  {
   "cell_type": "markdown",
   "id": "08a0f268",
   "metadata": {},
   "source": [
    " Take a string input and if the entered language is `\"Python\"` or `\"JAVA\"` `print(\"wow\")` else `print(\"are you living under a rock?\")`\n",
    "#####**NOTE**: Reject integer inputs"
   ]
  },
  {
   "cell_type": "code",
   "execution_count": 27,
   "id": "bdfea36d",
   "metadata": {},
   "outputs": [
    {
     "name": "stdout",
     "output_type": "stream",
     "text": [
      "Enter your prog language html\n",
      "are you living under a rock?\n"
     ]
    }
   ],
   "source": [
    "lang = input(\"Enter your prog language \")\n",
    "if lang.isdigit():\n",
    "    print(\"Invalid Input\")\n",
    "else:\n",
    "    if lang.lower()=='python' or lang.lower()=='java':\n",
    "        print(\"wow\")\n",
    "    else:\n",
    "        print(\"are you living under a rock?\")"
   ]
  },
  {
   "cell_type": "code",
   "execution_count": 23,
   "id": "e77aede9",
   "metadata": {},
   "outputs": [
    {
     "data": {
      "text/plain": [
       "True"
      ]
     },
     "execution_count": 23,
     "metadata": {},
     "output_type": "execute_result"
    }
   ],
   "source": [
    "\"54\".isdigit()"
   ]
  },
  {
   "cell_type": "code",
   "execution_count": 24,
   "id": "e3c7602c",
   "metadata": {},
   "outputs": [
    {
     "data": {
      "text/plain": [
       "False"
      ]
     },
     "execution_count": 24,
     "metadata": {},
     "output_type": "execute_result"
    }
   ],
   "source": [
    "\"alok\".isdigit()"
   ]
  },
  {
   "cell_type": "markdown",
   "id": "df3947db",
   "metadata": {},
   "source": [
    "Take string feedback from a user.\n",
    "* Now if any the feedback is provided, `print(\"Thank you for providing the feedback\")`.\n",
    "* If feedback is **\"Super\"**, **\"Great\"**, **\"Fantastic\"**, **\"Awesome\"**, `print(\"Thank you so much!\")`"
   ]
  },
  {
   "cell_type": "code",
   "execution_count": 29,
   "id": "5f1ad3b5",
   "metadata": {},
   "outputs": [
    {
     "name": "stdout",
     "output_type": "stream",
     "text": [
      "Enter your FEEDBACK \n",
      "Thank you pfro provinding the feeback\n"
     ]
    }
   ],
   "source": [
    "x=input(\"Enter your FEEDBACK \")\n",
    "if x.lower()=='super' or x.lower()=='great' or x.lower()=='fantastic' or x.lower()=='awesome':\n",
    "    print(\"Thank You So Much\")\n",
    "else:\n",
    "    print(\"Thank you pfro provinding the feeback\")"
   ]
  },
  {
   "cell_type": "code",
   "execution_count": 33,
   "id": "03de3aa3",
   "metadata": {},
   "outputs": [
    {
     "name": "stdout",
     "output_type": "stream",
     "text": [
      "Enter your FEEDBACK asdf\n",
      "Thank you for provinding the feeback\n"
     ]
    }
   ],
   "source": [
    "x=input(\"Enter your FEEDBACK \")\n",
    "if x=='':\n",
    "    print(\" Please provide FEEDBACK\")\n",
    "elif x.lower()=='super' or x.lower()=='great' or x.lower()=='fantastic' or x.lower()=='awesome':\n",
    "    print(\"Thank you for provinding the feeback\")\n",
    "    print(\"Thank You So Much\")\n",
    "else:\n",
    "    print(\"Thank you for provinding the feeback\")"
   ]
  },
  {
   "cell_type": "code",
   "execution_count": 35,
   "id": "51570719",
   "metadata": {},
   "outputs": [
    {
     "data": {
      "text/plain": [
       "False"
      ]
     },
     "execution_count": 35,
     "metadata": {},
     "output_type": "execute_result"
    }
   ],
   "source": [
    "bool('')"
   ]
  },
  {
   "cell_type": "code",
   "execution_count": 36,
   "id": "3fc658f4",
   "metadata": {},
   "outputs": [
    {
     "data": {
      "text/plain": [
       "False"
      ]
     },
     "execution_count": 36,
     "metadata": {},
     "output_type": "execute_result"
    }
   ],
   "source": [
    "x = ''\n",
    "bool(x)"
   ]
  },
  {
   "cell_type": "code",
   "execution_count": 39,
   "id": "a137130f",
   "metadata": {},
   "outputs": [
    {
     "name": "stdout",
     "output_type": "stream",
     "text": [
      "Enter your FEEDBACK \n",
      " Please provide FEEDBACK\n"
     ]
    }
   ],
   "source": [
    "x=input(\"Enter your FEEDBACK \")\n",
    "if not x:\n",
    "    print(\" Please provide FEEDBACK\")\n",
    "elif x.lower()=='super' or x.lower()=='great' or x.lower()=='fantastic' or x.lower()=='awesome':\n",
    "    print(\"Thank you for provinding the feeback\")\n",
    "    print(\"Thank You So Much\")\n",
    "else:\n",
    "    print(\"Thank you for provinding the feeback\")"
   ]
  },
  {
   "cell_type": "markdown",
   "id": "96c74c1a",
   "metadata": {},
   "source": [
    "## **Question** - FIZZ BUZZ\n",
    "* Take an input N. If N is a multiple of 3, print `FIZZ`, else if N is a multiple of 5 print `BUZZ` else if N is a multiple of both 3 and 5, print `FIZZBUZZ`."
   ]
  },
  {
   "cell_type": "code",
   "execution_count": null,
   "id": "6846d4ff",
   "metadata": {},
   "outputs": [],
   "source": [
    "9 - fizz\n",
    "15 - fizzbuzz\n",
    "25 - buzz"
   ]
  },
  {
   "cell_type": "code",
   "execution_count": 42,
   "id": "c21362d3",
   "metadata": {},
   "outputs": [
    {
     "name": "stdout",
     "output_type": "stream",
     "text": [
      "Enter any number15\n",
      "Fizz\n"
     ]
    }
   ],
   "source": [
    "n = int(input(\"Enter any number\"))\n",
    "if n%3==0:\n",
    "    print(\"Fizz\")\n",
    "elif n%5==0:\n",
    "    print(\"Buzz\")\n",
    "elif n%3==0 and n%5==0:\n",
    "    print(\"Fizzbuzz\")"
   ]
  },
  {
   "cell_type": "code",
   "execution_count": 46,
   "id": "5a3fcec4",
   "metadata": {},
   "outputs": [
    {
     "name": "stdout",
     "output_type": "stream",
     "text": [
      "Enter any number2\n"
     ]
    }
   ],
   "source": [
    "n = int(input(\"Enter any number\"))\n",
    "if n%3==0 and n%5==0:\n",
    "    print(\"Fizzbuzz\")\n",
    "elif n%5==0:\n",
    "    print(\"Buzz\")\n",
    "elif n%3==0:\n",
    "    print(\"Fizz\")"
   ]
  },
  {
   "cell_type": "markdown",
   "id": "11572412",
   "metadata": {},
   "source": [
    "## **Question** - Stream Selection\n",
    "* Take in three inputs from a user which are marks in `english`, `maths` and `science`. Assign streams according to the following criteria\n",
    "* If **science > 90** or marks in **all** are greater than 75 -> `Science`\n",
    "* If marks in all are greater than 60 or equal and less than 75 -> `Commerce`\n",
    "* If marks in all are less than 60 -> `Humanities`"
   ]
  },
  {
   "cell_type": "code",
   "execution_count": 50,
   "id": "f4194055",
   "metadata": {},
   "outputs": [
    {
     "name": "stdout",
     "output_type": "stream",
     "text": [
      "99\n",
      "1\n",
      "1\n",
      "Science\n"
     ]
    }
   ],
   "source": [
    "science = int(input())\n",
    "english = int(input())\n",
    "maths = int(input())\n",
    "\n",
    "if (science>90) or ((science>75) and (english>75) and (maths>75)):\n",
    "    print(\"Science\")\n",
    "elif (science>60) and (english>60) and (maths>60):\n",
    "    print(\"Commerce\")\n",
    "else:\n",
    "    print(\"Humanites\")"
   ]
  },
  {
   "cell_type": "code",
   "execution_count": null,
   "id": "93e38db4",
   "metadata": {},
   "outputs": [],
   "source": [
    "A company decided to give bonus of 5% to employee if his/her year of service is more than 5 years.\n",
    "Ask user for their salary and year of service and print the net bonus amount.\n"
   ]
  },
  {
   "cell_type": "code",
   "execution_count": null,
   "id": "91957759",
   "metadata": {},
   "outputs": [],
   "source": [
    "Ask user to enter age, sex ( M or F ), marital status ( Y or N ) and then using following rules print their place of service.\n",
    "if employee is female, then she will work only in urban areas.\n",
    "\n",
    "if employee is a male and age is in between 20 to 40 then he may work in anywhere\n",
    "\n",
    "if employee is male and age is in between 40 t0 60 then he will work in urban areas only.\n",
    "\n",
    "And any other input of age should print \"ERROR\".\n"
   ]
  },
  {
   "cell_type": "code",
   "execution_count": null,
   "id": "5cb1fb8f",
   "metadata": {},
   "outputs": [],
   "source": [
    "Meter for auto\n",
    "Build a meter system for an auto. Take into two inputs. Kilometers Travelled and Stall Time (in minutes). Rate List -\n",
    "\n",
    "First 10 kms - Rs 10 per Km\n",
    "\n",
    "Next 40 kms - Rs 9 per Km\n",
    "\n",
    "Next 100 kms - Rs 8 per Km\n",
    "\n",
    "Any leftover km count - Rs. 6 per Km\n",
    "\n",
    "Rs 5 extra for every minute of Stall Time"
   ]
  },
  {
   "cell_type": "code",
   "execution_count": null,
   "id": "9e1833b8",
   "metadata": {},
   "outputs": [],
   "source": [
    "Electricity meter\n",
    "Generate electricity bill using the following rate card. Take units consumed as input -\n",
    "If units < 100 -> Free\n",
    "If units >= 100 and units < 200 -> Rs 2 per unit.\n",
    "If units >= 200 -> Rs 5 per unit."
   ]
  }
 ],
 "metadata": {
  "kernelspec": {
   "display_name": "Python 3 (ipykernel)",
   "language": "python",
   "name": "python3"
  },
  "language_info": {
   "codemirror_mode": {
    "name": "ipython",
    "version": 3
   },
   "file_extension": ".py",
   "mimetype": "text/x-python",
   "name": "python",
   "nbconvert_exporter": "python",
   "pygments_lexer": "ipython3",
   "version": "3.10.9"
  }
 },
 "nbformat": 4,
 "nbformat_minor": 5
}
