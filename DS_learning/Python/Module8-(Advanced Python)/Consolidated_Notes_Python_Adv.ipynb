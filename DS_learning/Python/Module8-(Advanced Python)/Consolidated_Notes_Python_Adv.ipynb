{
  "nbformat": 4,
  "nbformat_minor": 0,
  "metadata": {
    "colab": {
      "provenance": [],
      "collapsed_sections": [
        "5HN6X4ncRuFh",
        "BZ_rhTPxDaO2",
        "nAyHxMfAoIuq",
        "rWSKt6sepPVO",
        "z0ezwbP2e0HE",
        "GSkFqNLAme6k",
        "vjY_EMAw3ASB",
        "CFHTw2iFnAQ4",
        "UhLYvqXUHE8D",
        "unPJk1kZLM_B"
      ]
    },
    "kernelspec": {
      "name": "python3",
      "display_name": "Python 3"
    },
    "language_info": {
      "name": "python"
    }
  },
  "cells": [
    {
      "cell_type": "markdown",
      "source": [
        "# **Consolidated Notes - Python Adv**"
      ],
      "metadata": {
        "id": "lIU0lN2aQFMk"
      }
    },
    {
      "cell_type": "markdown",
      "source": [
        "---"
      ],
      "metadata": {
        "id": "hmcjY4spZfM7"
      }
    },
    {
      "cell_type": "markdown",
      "source": [
        "# Lec 3: Basics of Time & Space Complexity"
      ],
      "metadata": {
        "id": "vjY_EMAw3ASB"
      }
    },
    {
      "cell_type": "markdown",
      "source": [
        "## Content\n",
        "\n",
        "- Arithmetic & Geometric Progression\n",
        "- Time Complexity\n",
        "  - Big O notation\n",
        "  - Comparison of order of time complexities\n",
        "- Space Complexity"
      ],
      "metadata": {
        "id": "OdsbXEkYMpxF"
      }
    },
    {
      "cell_type": "markdown",
      "source": [
        "---"
      ],
      "metadata": {
        "id": "6NMQcONbHvGc"
      }
    },
    {
      "cell_type": "markdown",
      "source": [
        "## Basic mathematical prerequisites -\n",
        "\n",
        "### Concept 1\n",
        "For the following series on some number N, how many steps it'll take to reach 1?\n",
        "```\n",
        "N -> N/2 -> N/4 -> N/8 -> ..... -> 1\n",
        "```\n",
        "\n",
        "<img src=\"https://d2beiqkhq929f0.cloudfront.net/public_assets/assets/000/064/973/original/i.png?1707903779\">\n",
        "\n",
        "### Concept 2\n",
        "\n",
        "Given two numbers say 3 and 10, how many numbers are in between those numbers (inclusive)?\n",
        "\n",
        "<img src=\"https://d2beiqkhq929f0.cloudfront.net/public_assets/assets/000/064/974/original/2.png?1707903954\">\n",
        "\n",
        "### Concept 3 (`Arithmetic Progression`)\n",
        "\n",
        "What is the sum of `N` numbers of AP?\n",
        "\n",
        "<img src=\"https://d2beiqkhq929f0.cloudfront.net/public_assets/assets/000/064/976/original/3.png?1707904203\">\n",
        "\n",
        "### Concept 4 (`Geometric Progression`)\n",
        "\n",
        "What is the sum of `N` terms of a GP?\n",
        "\n",
        "<img src=\"https://d2beiqkhq929f0.cloudfront.net/public_assets/assets/000/064/977/original/4.png?1707904266\">\n",
        "\n",
        "### Some useful logarithm properties -\n",
        "\n",
        "$\\log_{a}(a)^{x} = x$"
      ],
      "metadata": {
        "id": "9J-2WF47_QF3"
      }
    },
    {
      "cell_type": "markdown",
      "source": [
        "---"
      ],
      "metadata": {
        "id": "KtdefZAJJDiz"
      }
    },
    {
      "cell_type": "markdown",
      "source": [
        "## Time Complexity\n",
        "\n",
        "Time complexity is a measure of the efficiency of an algorithm, describing the relationship or trend between the number of operations performed by the algorithm and the size of its input.\n",
        "\n",
        "* It's a representation of time complexity, explaining the growth rate of an algorithm's running time as the input size increases.\n",
        "\n",
        "* It specifically focuses on the trend, ignoring constant factors and coefficients.\n",
        "\n",
        "* In Big O notation, only the polynomial term with the highest power is considered relevant."
      ],
      "metadata": {
        "id": "FmiyEYHED6br"
      }
    },
    {
      "cell_type": "markdown",
      "source": [
        "---"
      ],
      "metadata": {
        "id": "sJWyZaK7Lhsy"
      }
    },
    {
      "cell_type": "markdown",
      "source": [
        "#### Question: What will be the time complexity of the following program?\n",
        "\n",
        "```\n",
        "def fun(N):\n",
        "  s = 0\n",
        "  for i in range(1, N+1):\n",
        "    s += i\n",
        "  return s\n",
        "```\n",
        "\n",
        "<img src=\"https://d2beiqkhq929f0.cloudfront.net/public_assets/assets/000/064/990/original/5.png?1707907263\">\n",
        "\n",
        "**Note:** Basically O represents the order in which we can bound the time complexity of the algorithm.\n",
        "\n",
        "<img src=\"https://d2beiqkhq929f0.cloudfront.net/public_assets/assets/000/064/991/original/6.png?1707907588\">\n",
        "\n",
        "We primarily focus on the majority function due to its ability to prioritize significant contributions, particularly with large values of N. In the given example, only factors of substantial magnitude, such as the distance from Earth to the Moon, are considered relevant."
      ],
      "metadata": {
        "id": "b0OXdKMkMWln"
      }
    },
    {
      "cell_type": "markdown",
      "source": [
        "---"
      ],
      "metadata": {
        "id": "uGZuY6Y6LjRX"
      }
    },
    {
      "cell_type": "markdown",
      "source": [
        "#### Question: What will be the time complexity of the following program?\n",
        "\n",
        "```python\n",
        "def fun(N, M):\n",
        "  s = 0\n",
        "  for i in range(1, N+1):\n",
        "    s += i\n",
        "  for j in range(1, M+1):\n",
        "    s += j\n",
        "  return s\n",
        "```\n",
        "\n",
        "<img src=\"https://d2beiqkhq929f0.cloudfront.net/public_assets/assets/000/064/992/original/7.png?1707907678\">"
      ],
      "metadata": {
        "id": "50tGPwldKH6n"
      }
    },
    {
      "cell_type": "markdown",
      "source": [
        "---"
      ],
      "metadata": {
        "id": "7oynHOsOLkZ5"
      }
    },
    {
      "cell_type": "markdown",
      "source": [
        "#### Question: What will be the time complexity of the following program?\n",
        "\n",
        "```python\n",
        "def fun(N):\n",
        "  i = 1\n",
        "  while i < N:\n",
        "    i += 2\n",
        "```\n",
        "\n",
        "<img src=\"https://d2beiqkhq929f0.cloudfront.net/public_assets/assets/000/064/995/original/8.png?1707907989\">\n",
        "\n",
        "**Note:** Constant terms, coefficients are ignored. Only the order of magnitude matters."
      ],
      "metadata": {
        "id": "VrdK9rjEKMFN"
      }
    },
    {
      "cell_type": "markdown",
      "source": [
        "---"
      ],
      "metadata": {
        "id": "ubhDesCtLmLm"
      }
    },
    {
      "cell_type": "markdown",
      "source": [
        "#### Question: What will be the time complexity of the following program?\n",
        "\n",
        "```python\n",
        "def fun(N):\n",
        "  s = 0\n",
        "  for i in range(1, 101):\n",
        "    s += i\n",
        "  return s\n",
        "```\n",
        "\n",
        "In this case, since the number of iterations remains unchanged regardless of the input, this is an example of constant time complexity, denoted as `O(1)`."
      ],
      "metadata": {
        "id": "bXMHA_SZQQ0r"
      }
    },
    {
      "cell_type": "markdown",
      "source": [
        "---"
      ],
      "metadata": {
        "id": "D5C-Fd8DL6vM"
      }
    },
    {
      "cell_type": "markdown",
      "source": [
        "#### Question: What will be the time complexity of the following program?\n",
        "\n",
        "```python\n",
        "def fun(N):\n",
        "  s = 0\n",
        "  for i in range(1, int(N**0.5)):\n",
        "    s += i\n",
        "  return s\n",
        "```\n",
        "\n",
        "Here, the number of iterations are sqrt(N). Hence, the time complexity is `O(sqrt(N))`."
      ],
      "metadata": {
        "id": "NjCNjwEfRDS0"
      }
    },
    {
      "cell_type": "markdown",
      "source": [
        "---"
      ],
      "metadata": {
        "id": "oxbH_4kUMHpM"
      }
    },
    {
      "cell_type": "markdown",
      "source": [
        "#### Question: What will be the time complexity of the following program?\n",
        "\n",
        "```python\n",
        "def fun(N):\n",
        "  i = N\n",
        "  while i >= 1:\n",
        "    i = i // 2\n",
        "```\n",
        "\n",
        "<img src=\"https://d2beiqkhq929f0.cloudfront.net/public_assets/assets/000/064/996/original/9.png?1707908455\">"
      ],
      "metadata": {
        "id": "XLuHWrt0RoI6"
      }
    },
    {
      "cell_type": "markdown",
      "source": [
        "---"
      ],
      "metadata": {
        "id": "MKIyX2gEMbZi"
      }
    },
    {
      "cell_type": "markdown",
      "source": [
        "#### Question: What will be the time complexity of the following program?\n",
        "\n",
        "```python\n",
        "def fun(N):\n",
        "  i = 0\n",
        "  while i <= N:\n",
        "    i = i * 2\n",
        "```\n",
        "\n",
        "In this scenario, the value of i remains fixed at 0 throughout each iteration, leading to an infinite loop. This example highlights the importance of considering the iterative process and its implications."
      ],
      "metadata": {
        "id": "GIeVkBY1Sqsn"
      }
    },
    {
      "cell_type": "markdown",
      "source": [
        "---"
      ],
      "metadata": {
        "id": "_NDLtoJNNEgn"
      }
    },
    {
      "cell_type": "markdown",
      "source": [
        "#### Question: What will be the time complexity of the following program?\n",
        "\n",
        "```python\n",
        "def fun(N):\n",
        "  i = 1\n",
        "  while i <= N:\n",
        "    i = i * 2\n",
        "```\n",
        "\n",
        "<img src=\"https://d2beiqkhq929f0.cloudfront.net/public_assets/assets/000/064/998/original/10.png?1707908807\">"
      ],
      "metadata": {
        "id": "ogRt5ai8S8Lr"
      }
    },
    {
      "cell_type": "markdown",
      "source": [
        "---"
      ],
      "metadata": {
        "id": "kvkX73TtNH6q"
      }
    },
    {
      "cell_type": "markdown",
      "source": [
        "#### Question: What will be the time complexity of the following program?\n",
        "\n",
        "```python\n",
        "def fun(N):\n",
        "  s = 0\n",
        "  for i in range(N):\n",
        "    for j in range(N):\n",
        "      s += j\n",
        "  return s\n",
        "```\n",
        "\n",
        "<img src=\"https://d2beiqkhq929f0.cloudfront.net/public_assets/assets/000/064/999/original/11.png?1707908904\">"
      ],
      "metadata": {
        "id": "CtLldTJGThtg"
      }
    },
    {
      "cell_type": "markdown",
      "source": [
        "---"
      ],
      "metadata": {
        "id": "pQglHMO-NLSl"
      }
    },
    {
      "cell_type": "markdown",
      "source": [
        "#### Question: What will be the time complexity of the following program?\n",
        "\n",
        "```python\n",
        "def fun(N):\n",
        "  s = 0\n",
        "  for i in range(10):\n",
        "    for j in range(N):\n",
        "      s += j\n",
        "  return s\n",
        "```\n",
        "\n",
        "<img src=\"https://d2beiqkhq929f0.cloudfront.net/public_assets/assets/000/065/002/original/12.png?1707909045\">"
      ],
      "metadata": {
        "id": "SInISDbiUCZ9"
      }
    },
    {
      "cell_type": "markdown",
      "source": [
        "---"
      ],
      "metadata": {
        "id": "RkXmpAUQNN5I"
      }
    },
    {
      "cell_type": "markdown",
      "source": [
        "#### Question: What will be the time complexity of the following program?\n",
        "\n",
        "```python\n",
        "def fun(N):\n",
        "  s = 0\n",
        "  for i in range(N):\n",
        "    j = 1\n",
        "    while j <= N:\n",
        "      j = j * 2\n",
        "  return s\n",
        "```\n",
        "\n",
        "<img src=\"https://d2beiqkhq929f0.cloudfront.net/public_assets/assets/000/065/004/original/14.png?1707909210\">"
      ],
      "metadata": {
        "id": "l9w5BSZDUpu7"
      }
    },
    {
      "cell_type": "markdown",
      "source": [
        "---"
      ],
      "metadata": {
        "id": "_KWYiRStNRhC"
      }
    },
    {
      "cell_type": "markdown",
      "source": [
        "#### Question: What will be the time complexity of the following program?\n",
        "\n",
        "```python\n",
        "def fun(N):\n",
        "  s = 0\n",
        "  for i in range(N):\n",
        "    for j in range(N):\n",
        "      s += j\n",
        "  for i in range(N):\n",
        "    s += i\n",
        "  return s\n",
        "```\n",
        "\n",
        "<img src=\"https://d2beiqkhq929f0.cloudfront.net/public_assets/assets/000/065/005/original/15.png?1707909314\">\n",
        "\n",
        "We can disregard the magnitude terms within addition and solely concentrate on the term with the highest order of magnitude.\n",
        "\n",
        "However, we must not overlook any terms if they are being multiplied."
      ],
      "metadata": {
        "id": "DHq2V_58VF06"
      }
    },
    {
      "cell_type": "markdown",
      "source": [
        "---\n",
        "#### Question: What is the Big O form of the following time complexity iterations?\n",
        "\n",
        "$100N^2 + 32N^3 + 51N + 1000$\n",
        "\n",
        "**Answer:** `32(N^3)`"
      ],
      "metadata": {
        "id": "0aNnR65pV3NF"
      }
    },
    {
      "cell_type": "markdown",
      "source": [
        "---"
      ],
      "metadata": {
        "id": "afJkipy_NcQ9"
      }
    },
    {
      "cell_type": "markdown",
      "source": [
        "## Comparison of order of time complexities -\n",
        "\n",
        "<img src=\"https://d2beiqkhq929f0.cloudfront.net/public_assets/assets/000/065/006/original/16.png?1707909694\">\n",
        "\n",
        "<img src=\"https://d2beiqkhq929f0.cloudfront.net/public_assets/assets/000/065/007/original/17.png?1707909740\">"
      ],
      "metadata": {
        "id": "I8eHdDLTWU0p"
      }
    },
    {
      "cell_type": "markdown",
      "source": [
        "---"
      ],
      "metadata": {
        "id": "JsL0lWMONrI2"
      }
    },
    {
      "cell_type": "markdown",
      "source": [
        "## Space Complexity\n",
        "\n",
        "* Space complexity in Python refers to the amount of memory a program needs to complete its execution.\n",
        "* It is the analysis of memory usage with respect to the input size.\n",
        "* Similar to time complexity, space complexity is also expressed using `Big O` notation."
      ],
      "metadata": {
        "id": "eFh2T5YzWyvB"
      }
    },
    {
      "cell_type": "markdown",
      "source": [
        "#### Question: What will be the space complexity of the following program?\n",
        "\n",
        "```python\n",
        "def fun(N):\n",
        "  s = 0\n",
        "  for i in range(1, N+1):\n",
        "    s += i\n",
        "  return s\n",
        "```\n",
        "\n",
        "This code utilizes constant space complexity as it does not allocate any additional memory corresponding to the size of the input.\n",
        "\n",
        "<img src=\"https://d2beiqkhq929f0.cloudfront.net/public_assets/assets/000/065/008/original/18.png?1707909915\">"
      ],
      "metadata": {
        "id": "8B0I36E8W_Uy"
      }
    },
    {
      "cell_type": "markdown",
      "source": [
        "---"
      ],
      "metadata": {
        "id": "2tUdH1A6gq2I"
      }
    },
    {
      "cell_type": "markdown",
      "source": [
        "#### Question: What will be the space complexity of the following program?\n",
        "\n",
        "```python\n",
        "def fun(N):\n",
        "  s = [0]*N\n",
        "  for i in range(1, N+1):\n",
        "    s[i] = i\n",
        "  return sum(s)\n",
        "```\n",
        "\n",
        "Here, an additional list is created with the same size as the input, resulting in an extra order of N space being consumed.\n",
        "\n",
        "<img src=\"https://d2beiqkhq929f0.cloudfront.net/public_assets/assets/000/065/009/original/19.png?1707910041\">"
      ],
      "metadata": {
        "id": "myc8zVqhXYR9"
      }
    },
    {
      "cell_type": "markdown",
      "source": [
        "---"
      ],
      "metadata": {
        "id": "vbj183zMg6-q"
      }
    },
    {
      "cell_type": "markdown",
      "source": [
        "# Lec 4: OOPS 1 - Introduction"
      ],
      "metadata": {
        "id": "5HN6X4ncRuFh"
      }
    },
    {
      "cell_type": "markdown",
      "source": [
        "## Content\n",
        "\n",
        "1. OOP - Object Oriented Programming\n",
        "2. Classes & Objects\n",
        "  1. Defining a class\n",
        "  2. Instantiating an object\n",
        "3. 4 Pillars of OOP\n",
        "  1. Abstraction\n",
        "  2. Encapsulation\n",
        "  3. Inheritance\n",
        "  4. Ploymorphism\n",
        "4. Constructors\n",
        "5. Class & Instance Variables"
      ],
      "metadata": {
        "id": "BZ_rhTPxDaO2"
      }
    },
    {
      "cell_type": "markdown",
      "source": [
        "---"
      ],
      "metadata": {
        "id": "Utgnur15sJNJ"
      }
    },
    {
      "cell_type": "markdown",
      "source": [
        "## Object Oriented Programming (OOP)\n",
        "\n",
        "- It is a programming paradigm.\n",
        "  - Paradigm means the way of writing a program, fixed set of practices.\n",
        "\n",
        "- In OOP, we have *classes* and *objects*.\n",
        "- **Class** is a blue print that defines the *methods* and *properties* of an **Object**.\n",
        "\n",
        "<img src=\"https://d2beiqkhq929f0.cloudfront.net/public_assets/assets/000/015/843/original/Screenshot_2022-10-06_at_8.53.31_AM.png?1665026595\">"
      ],
      "metadata": {
        "id": "OBEWAxSsTkaR"
      }
    },
    {
      "cell_type": "code",
      "source": [
        "class Student:\n",
        "  # methods\n",
        "  # properties\n",
        "  pass\n",
        "\n",
        "  # pass represents empty body in Python"
      ],
      "metadata": {
        "id": "DrL5fhg4Vhh7"
      },
      "execution_count": null,
      "outputs": []
    },
    {
      "cell_type": "code",
      "source": [
        "isinstance(Student, object)"
      ],
      "metadata": {
        "colab": {
          "base_uri": "https://localhost:8080/"
        },
        "id": "m0Dz4f1VVnkK",
        "outputId": "338ac1e7-98a1-4e92-a512-fdc7a7db8151"
      },
      "execution_count": null,
      "outputs": [
        {
          "output_type": "execute_result",
          "data": {
            "text/plain": [
              "True"
            ]
          },
          "metadata": {},
          "execution_count": 2
        }
      ]
    },
    {
      "cell_type": "code",
      "source": [
        "# create an instance of this class - instantiate - create an object of class type\n",
        "a = Student()"
      ],
      "metadata": {
        "id": "bsj0lXZQWBaC"
      },
      "execution_count": null,
      "outputs": []
    },
    {
      "cell_type": "code",
      "source": [
        "type(a)"
      ],
      "metadata": {
        "colab": {
          "base_uri": "https://localhost:8080/"
        },
        "id": "ic31pOL4WEv3",
        "outputId": "827309f5-a957-4638-d74b-03fc97cd9725"
      },
      "execution_count": null,
      "outputs": [
        {
          "output_type": "execute_result",
          "data": {
            "text/plain": [
              "__main__.Student"
            ]
          },
          "metadata": {},
          "execution_count": 4
        }
      ]
    },
    {
      "cell_type": "code",
      "source": [
        "isinstance(a, Student)"
      ],
      "metadata": {
        "colab": {
          "base_uri": "https://localhost:8080/"
        },
        "id": "OgiMBoUUWJyx",
        "outputId": "bbd2e63e-3dcb-44d2-c3a8-a62710c51b16"
      },
      "execution_count": null,
      "outputs": [
        {
          "output_type": "execute_result",
          "data": {
            "text/plain": [
              "True"
            ]
          },
          "metadata": {},
          "execution_count": 5
        }
      ]
    },
    {
      "cell_type": "code",
      "source": [
        "isinstance(a, object)"
      ],
      "metadata": {
        "colab": {
          "base_uri": "https://localhost:8080/"
        },
        "id": "1SSQqy8-WLXT",
        "outputId": "13daeabf-8bda-4dfd-bbc8-1f2ffdd20f22"
      },
      "execution_count": null,
      "outputs": [
        {
          "output_type": "execute_result",
          "data": {
            "text/plain": [
              "True"
            ]
          },
          "metadata": {},
          "execution_count": 6
        }
      ]
    },
    {
      "cell_type": "markdown",
      "source": [
        "In Python, everything is an object."
      ],
      "metadata": {
        "id": "YR--i0skCn9t"
      }
    },
    {
      "cell_type": "markdown",
      "source": [
        "---"
      ],
      "metadata": {
        "id": "Wk7Px4AgCrtt"
      }
    },
    {
      "cell_type": "markdown",
      "source": [
        "## 4 pillars of OOP\n",
        "\n",
        "- #### ***Encapsulation***: Putting things together\n",
        "\n",
        "- #### ***Abstraction***: Hiding the irrelevant features\n",
        "  - <img src=\"https://d2beiqkhq929f0.cloudfront.net/public_assets/assets/000/015/844/original/Screenshot_2022-10-06_at_9.11.35_AM.png?1665027689\">\n",
        "\n",
        "- #### ***Inheritance***: objetcs of one class can inherit the features of other class\n",
        "  - <img src=\"https://d2beiqkhq929f0.cloudfront.net/public_assets/assets/000/015/845/original/Screenshot_2022-10-06_at_9.11.44_AM.png?1665027716\">\n",
        "\n",
        "- #### ***Polymorphism***: Same entity but different behaviour"
      ],
      "metadata": {
        "id": "WD27K2n9XV1N"
      }
    },
    {
      "cell_type": "code",
      "source": [
        "# Examples of Polymorphism\n",
        "\n",
        "print(56 + 75)\n",
        "\n",
        "print(\"what\" + \"on\" + \"earth\")"
      ],
      "metadata": {
        "colab": {
          "base_uri": "https://localhost:8080/"
        },
        "id": "l0NDgtyuWNBk",
        "outputId": "66b433e5-a41e-4d7f-d1c7-d2b8051bf0f4"
      },
      "execution_count": null,
      "outputs": [
        {
          "output_type": "stream",
          "name": "stdout",
          "text": [
            "131\n",
            "whatonearth\n"
          ]
        }
      ]
    },
    {
      "cell_type": "markdown",
      "source": [
        "When you call a class, it creates an object of that class."
      ],
      "metadata": {
        "id": "nAg_Y7upIX6b"
      }
    },
    {
      "cell_type": "code",
      "source": [
        "s1 = Student()\n",
        "\n",
        "s1"
      ],
      "metadata": {
        "id": "djHGcqeEWWlA",
        "colab": {
          "base_uri": "https://localhost:8080/"
        },
        "outputId": "261b005e-fb81-4e16-8632-c80a2bb4c3df"
      },
      "execution_count": null,
      "outputs": [
        {
          "output_type": "execute_result",
          "data": {
            "text/plain": [
              "<__main__.Student at 0x79fcf5019480>"
            ]
          },
          "metadata": {},
          "execution_count": 8
        }
      ]
    },
    {
      "cell_type": "code",
      "source": [
        "# Making property of s1\n",
        "\n",
        "s1.name = \"Bipin\"\n",
        "\n",
        "s1.name"
      ],
      "metadata": {
        "id": "P7cKz_n0WaPH",
        "colab": {
          "base_uri": "https://localhost:8080/",
          "height": 35
        },
        "outputId": "ef0cb8a2-a70f-4d7c-bc7a-33b6175375fc"
      },
      "execution_count": null,
      "outputs": [
        {
          "output_type": "execute_result",
          "data": {
            "text/plain": [
              "'Bipin'"
            ],
            "application/vnd.google.colaboratory.intrinsic+json": {
              "type": "string"
            }
          },
          "metadata": {},
          "execution_count": 9
        }
      ]
    },
    {
      "cell_type": "code",
      "source": [
        "s2 = s1\n",
        "\n",
        "s2.name"
      ],
      "metadata": {
        "id": "GfGZZWZ-byXn",
        "colab": {
          "base_uri": "https://localhost:8080/",
          "height": 35
        },
        "outputId": "d7702507-1e53-4100-b7b5-18ab600e7905"
      },
      "execution_count": null,
      "outputs": [
        {
          "output_type": "execute_result",
          "data": {
            "text/plain": [
              "'Bipin'"
            ],
            "application/vnd.google.colaboratory.intrinsic+json": {
              "type": "string"
            }
          },
          "metadata": {},
          "execution_count": 10
        }
      ]
    },
    {
      "cell_type": "markdown",
      "source": [
        "---"
      ],
      "metadata": {
        "id": "YfBTFDxgC7pt"
      }
    },
    {
      "cell_type": "markdown",
      "source": [
        "## Constructors\n",
        "\n",
        "- Constructor is function which is called whenever an object is created, to allocate the memory to that object.\n",
        "\n",
        "- In Python, we don't have direct access to constructor.\n",
        "> **Note:** `__init__()` method is not a constructor. It's an initializing function.\n",
        "\n",
        "### Life Cycle of an Object\n",
        "<img src=\"https://d2beiqkhq929f0.cloudfront.net/public_assets/assets/000/015/846/original/Screenshot_2022-10-06_at_9.24.23_AM.png?1665028448\">"
      ],
      "metadata": {
        "id": "A-y4HEtaZuZq"
      }
    },
    {
      "cell_type": "code",
      "source": [
        "class Student:\n",
        "    def hello():\n",
        "        print(\"Hello!\")"
      ],
      "metadata": {
        "id": "pNreQAD7WdmQ"
      },
      "execution_count": null,
      "outputs": []
    },
    {
      "cell_type": "code",
      "source": [
        "s2 = Student()\n",
        "\n",
        "s2.hello()"
      ],
      "metadata": {
        "id": "Gbd2mztKWfaY",
        "colab": {
          "base_uri": "https://localhost:8080/",
          "height": 214
        },
        "outputId": "6f0c3212-32bb-4b91-dcdb-b3fe0eeb5527"
      },
      "execution_count": null,
      "outputs": [
        {
          "output_type": "error",
          "ename": "TypeError",
          "evalue": "Student.hello() takes 0 positional arguments but 1 was given",
          "traceback": [
            "\u001b[0;31m---------------------------------------------------------------------------\u001b[0m",
            "\u001b[0;31mTypeError\u001b[0m                                 Traceback (most recent call last)",
            "\u001b[0;32m<ipython-input-12-e6909bd8b8c3>\u001b[0m in \u001b[0;36m<cell line: 3>\u001b[0;34m()\u001b[0m\n\u001b[1;32m      1\u001b[0m \u001b[0ms2\u001b[0m \u001b[0;34m=\u001b[0m \u001b[0mStudent\u001b[0m\u001b[0;34m(\u001b[0m\u001b[0;34m)\u001b[0m\u001b[0;34m\u001b[0m\u001b[0;34m\u001b[0m\u001b[0m\n\u001b[1;32m      2\u001b[0m \u001b[0;34m\u001b[0m\u001b[0m\n\u001b[0;32m----> 3\u001b[0;31m \u001b[0ms2\u001b[0m\u001b[0;34m.\u001b[0m\u001b[0mhello\u001b[0m\u001b[0;34m(\u001b[0m\u001b[0;34m)\u001b[0m\u001b[0;34m\u001b[0m\u001b[0;34m\u001b[0m\u001b[0m\n\u001b[0m",
            "\u001b[0;31mTypeError\u001b[0m: Student.hello() takes 0 positional arguments but 1 was given"
          ]
        }
      ]
    },
    {
      "cell_type": "markdown",
      "source": [
        "#### By default, Python passes an argument known as `self`."
      ],
      "metadata": {
        "id": "Ry_KZJ-isekb"
      }
    },
    {
      "cell_type": "code",
      "source": [
        "# We can name anything to self, here giving random_variable_name.\n",
        "\n",
        "class Student:\n",
        "    def hello(random_variable_name):\n",
        "        print(\"Hello!\")\n",
        "        print(id(random_variable_name))"
      ],
      "metadata": {
        "id": "XdNG5xfSWmg0"
      },
      "execution_count": null,
      "outputs": []
    },
    {
      "cell_type": "code",
      "source": [
        "s1 = Student()\n",
        "\n",
        "s1.hello()\n",
        "# Student.hello(s1)\n",
        "\n",
        "print(id(s1))"
      ],
      "metadata": {
        "colab": {
          "base_uri": "https://localhost:8080/"
        },
        "id": "20IiLjVDWtEF",
        "outputId": "4cd3b968-1059-49f2-c018-9a9799797d72"
      },
      "execution_count": null,
      "outputs": [
        {
          "output_type": "stream",
          "name": "stdout",
          "text": [
            "Hello!\n",
            "134127349238272\n",
            "134127349238272\n"
          ]
        }
      ]
    },
    {
      "cell_type": "markdown",
      "source": [
        "> Note: `self` argument is reference of the object itself.\n",
        "In the above example, we get same id because both times, it is the same object."
      ],
      "metadata": {
        "id": "1WOdRXYqcjRk"
      }
    },
    {
      "cell_type": "markdown",
      "source": [
        "Implicitly, Python already has a standard init function.\n",
        "\n",
        "But you can create a custom `__init__` function as well. It will override."
      ],
      "metadata": {
        "id": "0iJNMGhKFlsQ"
      }
    },
    {
      "cell_type": "code",
      "source": [
        "class Student:\n",
        "    def __init__(self, name, age):\n",
        "        self.name = name\n",
        "        # This will create property name on current object `self`\n",
        "        self.age = age\n",
        "\n",
        "    def study(self):\n",
        "      print(\"lemme watch movie\")"
      ],
      "metadata": {
        "id": "knUedN4IW00c"
      },
      "execution_count": null,
      "outputs": []
    },
    {
      "cell_type": "markdown",
      "source": [
        "Also, `self` is automatically passed in Python."
      ],
      "metadata": {
        "id": "ACFZR76IFxA8"
      }
    },
    {
      "cell_type": "code",
      "source": [
        "s1 = Student(\"Vaishali\", 5000)\n",
        "\n",
        "print(s1.name, s1.age)"
      ],
      "metadata": {
        "id": "Mv3rNDoTd5BI",
        "colab": {
          "base_uri": "https://localhost:8080/"
        },
        "outputId": "7902ad16-1227-498a-82b4-6a9a99308999"
      },
      "execution_count": null,
      "outputs": [
        {
          "output_type": "stream",
          "name": "stdout",
          "text": [
            "Vaishali 5000\n"
          ]
        }
      ]
    },
    {
      "cell_type": "code",
      "source": [
        "s2 = Student(\"Vinoth\", 10000)\n",
        "\n",
        "print(s2.name, s2.age)"
      ],
      "metadata": {
        "id": "7Bboqkshd_k7",
        "colab": {
          "base_uri": "https://localhost:8080/"
        },
        "outputId": "7f393f27-a889-4b87-a20d-13172b5ce75c"
      },
      "execution_count": null,
      "outputs": [
        {
          "output_type": "stream",
          "name": "stdout",
          "text": [
            "Vinoth 10000\n"
          ]
        }
      ]
    },
    {
      "cell_type": "markdown",
      "source": [
        "---"
      ],
      "metadata": {
        "id": "P5X2ohTaGTOz"
      }
    },
    {
      "cell_type": "markdown",
      "source": [
        "## Class and Instance Variables"
      ],
      "metadata": {
        "id": "-17i9cvCIF0o"
      }
    },
    {
      "cell_type": "markdown",
      "source": [
        "#### Class variable - A variable that is shared among all instances of a class.\n",
        "\n",
        "#### Instance variable - A variable that is unique to each instance of a class."
      ],
      "metadata": {
        "id": "Is9DY-R5IkHI"
      }
    },
    {
      "cell_type": "code",
      "source": [
        "class Dog:\n",
        "    kind = \"canine\" # class variable\n",
        "\n",
        "    def __init__(self, name):\n",
        "        self.name = name # object / instance variable"
      ],
      "metadata": {
        "id": "zJw4JRL4e9M-"
      },
      "execution_count": null,
      "outputs": []
    },
    {
      "cell_type": "code",
      "source": [
        "d1 = Dog(\"tuffy\")\n",
        "d2 = Dog(\"scooby\")"
      ],
      "metadata": {
        "id": "3mlGW28NfADA"
      },
      "execution_count": null,
      "outputs": []
    },
    {
      "cell_type": "code",
      "source": [
        "d1.name, d2.name"
      ],
      "metadata": {
        "colab": {
          "base_uri": "https://localhost:8080/"
        },
        "id": "2jMR7T0CfE6u",
        "outputId": "6fc1636a-6891-4cb0-b2fd-2c38b291afc5"
      },
      "execution_count": null,
      "outputs": [
        {
          "output_type": "execute_result",
          "data": {
            "text/plain": [
              "('tuffy', 'scooby')"
            ]
          },
          "metadata": {},
          "execution_count": 28
        }
      ]
    },
    {
      "cell_type": "code",
      "source": [
        "d1.kind, d2.kind"
      ],
      "metadata": {
        "colab": {
          "base_uri": "https://localhost:8080/"
        },
        "id": "iQ90aMFpfG0G",
        "outputId": "0dc4968f-f87a-4a22-fc23-d2949394b2b6"
      },
      "execution_count": null,
      "outputs": [
        {
          "output_type": "execute_result",
          "data": {
            "text/plain": [
              "('canine', 'canine')"
            ]
          },
          "metadata": {},
          "execution_count": 29
        }
      ]
    },
    {
      "cell_type": "code",
      "source": [
        "# Accessing a class variable\n",
        "Dog.kind"
      ],
      "metadata": {
        "colab": {
          "base_uri": "https://localhost:8080/",
          "height": 35
        },
        "id": "S1ySmwV6fPXw",
        "outputId": "58a01b14-2ecc-4814-e843-95504b6ad129"
      },
      "execution_count": null,
      "outputs": [
        {
          "output_type": "execute_result",
          "data": {
            "text/plain": [
              "'canine'"
            ],
            "application/vnd.google.colaboratory.intrinsic+json": {
              "type": "string"
            }
          },
          "metadata": {},
          "execution_count": 32
        }
      ]
    },
    {
      "cell_type": "code",
      "source": [
        "Dog.name"
      ],
      "metadata": {
        "colab": {
          "base_uri": "https://localhost:8080/",
          "height": 179
        },
        "id": "ecb_VWodCs2m",
        "outputId": "3f135043-e52a-49c6-dee1-41e1fa9f8578"
      },
      "execution_count": null,
      "outputs": [
        {
          "output_type": "error",
          "ename": "AttributeError",
          "evalue": "type object 'Dog' has no attribute 'name'",
          "traceback": [
            "\u001b[0;31m---------------------------------------------------------------------------\u001b[0m",
            "\u001b[0;31mAttributeError\u001b[0m                            Traceback (most recent call last)",
            "\u001b[0;32m<ipython-input-31-67177580d25d>\u001b[0m in \u001b[0;36m<cell line: 1>\u001b[0;34m()\u001b[0m\n\u001b[0;32m----> 1\u001b[0;31m \u001b[0mDog\u001b[0m\u001b[0;34m.\u001b[0m\u001b[0mname\u001b[0m\u001b[0;34m\u001b[0m\u001b[0;34m\u001b[0m\u001b[0m\n\u001b[0m",
            "\u001b[0;31mAttributeError\u001b[0m: type object 'Dog' has no attribute 'name'"
          ]
        }
      ]
    },
    {
      "cell_type": "markdown",
      "source": [
        "<img src=\"https://d2beiqkhq929f0.cloudfront.net/public_assets/assets/000/016/213/original/Screenshot_2022-10-12_at_9.34.55_AM.png?1665547478\">\n",
        "<img src=\"https://d2beiqkhq929f0.cloudfront.net/public_assets/assets/000/016/214/original/Screenshot_2022-10-12_at_9.35.04_AM.png?1665547506\">"
      ],
      "metadata": {
        "id": "WtkQyBKehchL"
      }
    },
    {
      "cell_type": "code",
      "source": [
        "# Changing the class variable through an object d1\n",
        "d1.kind = \"doberman\""
      ],
      "metadata": {
        "id": "JdkdVswmgyZk"
      },
      "execution_count": null,
      "outputs": []
    },
    {
      "cell_type": "code",
      "source": [
        "# Creates an instance/object variable just for that object\n",
        "\n",
        "d1.kind"
      ],
      "metadata": {
        "colab": {
          "base_uri": "https://localhost:8080/",
          "height": 35
        },
        "id": "PHCKr4Cng1Ol",
        "outputId": "19c122ba-01cd-433a-a57a-eaec75533560"
      },
      "execution_count": null,
      "outputs": [
        {
          "output_type": "execute_result",
          "data": {
            "text/plain": [
              "'doberman'"
            ],
            "application/vnd.google.colaboratory.intrinsic+json": {
              "type": "string"
            }
          },
          "metadata": {},
          "execution_count": 39
        }
      ]
    },
    {
      "cell_type": "code",
      "source": [
        "d2.kind"
      ],
      "metadata": {
        "colab": {
          "base_uri": "https://localhost:8080/",
          "height": 35
        },
        "id": "QFkDwVvoNndQ",
        "outputId": "8d0de6ab-70d1-40fd-9405-0b6962d96e87"
      },
      "execution_count": null,
      "outputs": [
        {
          "output_type": "execute_result",
          "data": {
            "text/plain": [
              "'random_kind'"
            ],
            "application/vnd.google.colaboratory.intrinsic+json": {
              "type": "string"
            }
          },
          "metadata": {},
          "execution_count": 40
        }
      ]
    },
    {
      "cell_type": "code",
      "source": [
        "d2.kind"
      ],
      "metadata": {
        "colab": {
          "base_uri": "https://localhost:8080/",
          "height": 35
        },
        "id": "TSfLCD6Fg3V_",
        "outputId": "15895c09-8997-433b-de33-c9881e630b0a"
      },
      "execution_count": null,
      "outputs": [
        {
          "output_type": "execute_result",
          "data": {
            "text/plain": [
              "'canine'"
            ],
            "application/vnd.google.colaboratory.intrinsic+json": {
              "type": "string"
            }
          },
          "metadata": {},
          "execution_count": 35
        }
      ]
    },
    {
      "cell_type": "code",
      "source": [
        "Dog.kind = \"random_kind\"\n",
        "print(Dog.kind)"
      ],
      "metadata": {
        "id": "sGYHIiHohAqm",
        "colab": {
          "base_uri": "https://localhost:8080/"
        },
        "outputId": "b5c459f2-2eaa-4805-bee7-99d59eb72351"
      },
      "execution_count": null,
      "outputs": [
        {
          "output_type": "stream",
          "name": "stdout",
          "text": [
            "random_kind\n"
          ]
        }
      ]
    },
    {
      "cell_type": "code",
      "source": [
        "print(d1.kind)\n",
        "print(d2.kind)"
      ],
      "metadata": {
        "colab": {
          "base_uri": "https://localhost:8080/"
        },
        "id": "LB8KLD-bhG6V",
        "outputId": "562f9b38-f5aa-4d5f-b245-c4efa8e2df1b"
      },
      "execution_count": null,
      "outputs": [
        {
          "output_type": "stream",
          "name": "stdout",
          "text": [
            "doberman\n",
            "random_kind\n"
          ]
        }
      ]
    },
    {
      "cell_type": "code",
      "source": [
        "d1 = Dog(\"tuffy\")\n",
        "d2 = Dog(\"scooby\")"
      ],
      "metadata": {
        "id": "EMboIqQUEBbQ"
      },
      "execution_count": null,
      "outputs": []
    },
    {
      "cell_type": "code",
      "source": [
        "d1.kind"
      ],
      "metadata": {
        "colab": {
          "base_uri": "https://localhost:8080/",
          "height": 35
        },
        "id": "EMU-eQ8KENKI",
        "outputId": "b8e45338-b2d5-4cb3-be19-fb86b4191cc4"
      },
      "execution_count": null,
      "outputs": [
        {
          "output_type": "execute_result",
          "data": {
            "text/plain": [
              "'random_kind'"
            ],
            "application/vnd.google.colaboratory.intrinsic+json": {
              "type": "string"
            }
          },
          "metadata": {},
          "execution_count": 16
        }
      ]
    },
    {
      "cell_type": "code",
      "source": [
        "d2.kind"
      ],
      "metadata": {
        "colab": {
          "base_uri": "https://localhost:8080/",
          "height": 35
        },
        "id": "MlGiTUf4ESSt",
        "outputId": "8e9b115d-15f4-49f4-be93-bd0d0355666d"
      },
      "execution_count": null,
      "outputs": [
        {
          "output_type": "execute_result",
          "data": {
            "text/plain": [
              "'random_kind'"
            ],
            "application/vnd.google.colaboratory.intrinsic+json": {
              "type": "string"
            }
          },
          "metadata": {},
          "execution_count": 17
        }
      ]
    },
    {
      "cell_type": "markdown",
      "source": [
        "---"
      ],
      "metadata": {
        "id": "pW7pg0knVNLm"
      }
    },
    {
      "cell_type": "markdown",
      "source": [
        "## Revisiting Concepts"
      ],
      "metadata": {
        "id": "em6oChd9lFIy"
      }
    },
    {
      "cell_type": "code",
      "source": [
        "class Student:\n",
        "    def hello(self):\n",
        "        print(\"hello!\")\n",
        "\n",
        "s1 = Student()\n",
        "\n",
        "Student.hello(s1)\n",
        "s1.hello()"
      ],
      "metadata": {
        "colab": {
          "base_uri": "https://localhost:8080/"
        },
        "id": "p1mggGnZjsTX",
        "outputId": "9b58cf33-2410-434a-bcc8-0326bbda8c55"
      },
      "execution_count": null,
      "outputs": [
        {
          "output_type": "stream",
          "name": "stdout",
          "text": [
            "hello!\n",
            "hello!\n"
          ]
        }
      ]
    },
    {
      "cell_type": "markdown",
      "source": [
        "When updating a class variable using an object -\n",
        "- In case of immutable - New Instance Variable is created\n",
        "- In case of mutable - Original Class Variable is updated"
      ],
      "metadata": {
        "id": "NXO6WcwQW_aA"
      }
    },
    {
      "cell_type": "code",
      "source": [
        "class Dog:\n",
        "    tricks = []\n",
        "\n",
        "    def __init__(self, name):\n",
        "        self.name = name\n",
        "\n",
        "    def teach_trick(self, trick):\n",
        "        self.tricks.append(trick)"
      ],
      "metadata": {
        "id": "6osSQkMoiqn8"
      },
      "execution_count": null,
      "outputs": []
    },
    {
      "cell_type": "code",
      "source": [
        "d1 = Dog(\"pupy\")\n",
        "d2 = Dog(\"tommy\")"
      ],
      "metadata": {
        "id": "WkxYSzVEizrZ"
      },
      "execution_count": null,
      "outputs": []
    },
    {
      "cell_type": "code",
      "source": [
        "print(d1.tricks)\n",
        "print(d2.tricks)"
      ],
      "metadata": {
        "colab": {
          "base_uri": "https://localhost:8080/"
        },
        "id": "asVFz0tLi1VX",
        "outputId": "d45a56e2-c832-4ab7-84ee-63b68fd3c301"
      },
      "execution_count": null,
      "outputs": [
        {
          "output_type": "stream",
          "name": "stdout",
          "text": [
            "[]\n",
            "[]\n"
          ]
        }
      ]
    },
    {
      "cell_type": "code",
      "source": [
        "print(d1.name)\n",
        "print(d2.name)"
      ],
      "metadata": {
        "colab": {
          "base_uri": "https://localhost:8080/"
        },
        "id": "-bdpQ_Y0i6jN",
        "outputId": "3da7491c-cc80-4f1b-a261-7986337bf1d2"
      },
      "execution_count": null,
      "outputs": [
        {
          "output_type": "stream",
          "name": "stdout",
          "text": [
            "pupy\n",
            "tommy\n"
          ]
        }
      ]
    },
    {
      "cell_type": "code",
      "source": [
        "d1.teach_trick(\"jump\")"
      ],
      "metadata": {
        "colab": {
          "base_uri": "https://localhost:8080/"
        },
        "id": "adnxZu8-i_xF",
        "outputId": "180f8cd7-944f-4acb-b3b7-6d82c0bab084"
      },
      "execution_count": null,
      "outputs": [
        {
          "output_type": "execute_result",
          "data": {
            "text/plain": [
              "['jump']"
            ]
          },
          "metadata": {},
          "execution_count": 22
        }
      ]
    },
    {
      "cell_type": "code",
      "source": [
        "d1.tricks"
      ],
      "metadata": {
        "id": "vD5bPY2uXtUv"
      },
      "execution_count": null,
      "outputs": []
    },
    {
      "cell_type": "code",
      "source": [
        "d2.tricks"
      ],
      "metadata": {
        "colab": {
          "base_uri": "https://localhost:8080/"
        },
        "id": "kUKAFU3MjC5V",
        "outputId": "32fba39d-a18d-42a3-e11e-82aba2c54ab5"
      },
      "execution_count": null,
      "outputs": [
        {
          "output_type": "execute_result",
          "data": {
            "text/plain": [
              "['jump']"
            ]
          },
          "metadata": {},
          "execution_count": 23
        }
      ]
    },
    {
      "cell_type": "markdown",
      "source": [
        "---"
      ],
      "metadata": {
        "id": "Jxb3c9MHYKX6"
      }
    },
    {
      "cell_type": "markdown",
      "source": [
        "# Lec 5: OOPS 2 - Dunders, Inheritance"
      ],
      "metadata": {
        "id": "nAyHxMfAoIuq"
      }
    },
    {
      "cell_type": "markdown",
      "source": [
        "## Content\n",
        "\n",
        "1. Dunder / Magic methods\n",
        "2. Inheritance\n",
        "3. Private Properties\n",
        "4. Multiple Inheritance\n",
        "5. Method Resolution Order"
      ],
      "metadata": {
        "id": "WdkGjZ4Ga118"
      }
    },
    {
      "cell_type": "markdown",
      "source": [
        "---"
      ],
      "metadata": {
        "id": "1yDo9-78sHwn"
      }
    },
    {
      "cell_type": "markdown",
      "source": [
        "## Dunder / Magic methods\n",
        "\n",
        "* These are special methods that have double underscores at the beginning and end of their names (e.g., __init__).\n",
        "* These methods provide a way for a class to define its behavior.\n",
        "* By modifying these methods, you can customize the default behavior of your objects."
      ],
      "metadata": {
        "id": "jkxtuSAxqRmp"
      }
    },
    {
      "cell_type": "code",
      "source": [
        "class Car:\n",
        "    def __init__(self, name, mileage):\n",
        "        self.name = name\n",
        "        self.mileage = mileage"
      ],
      "metadata": {
        "id": "x10f32P2qE2f"
      },
      "execution_count": null,
      "outputs": []
    },
    {
      "cell_type": "code",
      "source": [
        "c1 = Car(\"Nexon\", 12)\n",
        "c2 = Car(\"Altroz\", 15)"
      ],
      "metadata": {
        "id": "gLZe0VyZqGWl"
      },
      "execution_count": null,
      "outputs": []
    },
    {
      "cell_type": "code",
      "source": [
        "print(c1)\n",
        "# Name -> Mileage"
      ],
      "metadata": {
        "colab": {
          "base_uri": "https://localhost:8080/"
        },
        "id": "Z38V75MAqH5z",
        "outputId": "55558d71-b8c1-4965-eb7e-f9ad97a80587"
      },
      "execution_count": null,
      "outputs": [
        {
          "output_type": "stream",
          "name": "stdout",
          "text": [
            "<__main__.Car object at 0x7eba71510ac0>\n"
          ]
        }
      ]
    },
    {
      "cell_type": "markdown",
      "source": [
        "Whenever call the `print()` function over some object then there should always be a pre-defined message linked to that object that gets printed.\n",
        "\n",
        "Hence, printing is a behaviour in Python.\n",
        "\n",
        "With dunder/magic methods, we can modify this behaviour."
      ],
      "metadata": {
        "id": "E1rbibxjqU-R"
      }
    },
    {
      "cell_type": "code",
      "source": [
        "class Car:\n",
        "    def __init__(self, name, mileage):\n",
        "        self.name = name\n",
        "        self.mileage = mileage\n",
        "\n",
        "    # Whenever an object is printed, __str__() function is called.\n",
        "    def __str__(self):\n",
        "        return f\"{self.name} -> {self.mileage}\"\n",
        "\n",
        "    def __add__(self, other):\n",
        "        return self.mileage + other.mileage\n",
        "\n",
        "    def __lt__(self, other):\n",
        "        return self.mileage < other.mileage\n",
        "\n",
        "    def __call__(self):\n",
        "        print(\"I WAS CALLED\")"
      ],
      "metadata": {
        "id": "23LIBB8SqKFI"
      },
      "execution_count": null,
      "outputs": []
    },
    {
      "cell_type": "code",
      "source": [
        "c1 = Car(\"Nexon\", 12)\n",
        "c2 = Car(\"Altroz\", 15)"
      ],
      "metadata": {
        "id": "93zSBcBlqNSF"
      },
      "execution_count": null,
      "outputs": []
    },
    {
      "cell_type": "code",
      "source": [
        "print(c1)"
      ],
      "metadata": {
        "colab": {
          "base_uri": "https://localhost:8080/"
        },
        "id": "tD-GZutPqPH0",
        "outputId": "bac1f1c2-5cb1-46af-c4d5-7144cd2bb770"
      },
      "execution_count": null,
      "outputs": [
        {
          "output_type": "stream",
          "name": "stdout",
          "text": [
            "Nexon -> 12\n"
          ]
        }
      ]
    },
    {
      "cell_type": "code",
      "source": [
        "c1 + c2\n",
        "# Car.__add__(c1, c2)"
      ],
      "metadata": {
        "colab": {
          "base_uri": "https://localhost:8080/"
        },
        "id": "PrMRWkT_q0DH",
        "outputId": "faf57f58-fee9-4408-8a2c-883e2bbf28b8"
      },
      "execution_count": null,
      "outputs": [
        {
          "output_type": "execute_result",
          "data": {
            "text/plain": [
              "27"
            ]
          },
          "metadata": {},
          "execution_count": 10
        }
      ]
    },
    {
      "cell_type": "markdown",
      "source": [
        "---"
      ],
      "metadata": {
        "id": "PpPbMj_cxmm-"
      }
    },
    {
      "cell_type": "markdown",
      "source": [
        "## Inheritance\n",
        "\n",
        "<img src=\"https://d2beiqkhq929f0.cloudfront.net/public_assets/assets/000/015/907/original/Screenshot_2022-10-07_at_10.04.40_AM.png?1665117262\">"
      ],
      "metadata": {
        "id": "JRka2Fl2t7MC"
      }
    },
    {
      "cell_type": "code",
      "source": [
        "# parent class\n",
        "class Parent:\n",
        "  def __init__(self):\n",
        "    print(\"parent class\")\n",
        "\n",
        "# child class\n",
        "class Child(Parent): # inheriting parent class\n",
        "  def __init__(self):\n",
        "    print(\"child class\")"
      ],
      "metadata": {
        "id": "oOkfTZ6o15sJ"
      },
      "execution_count": null,
      "outputs": []
    },
    {
      "cell_type": "code",
      "source": [
        "class SchoolMember:\n",
        "    def __init__(self, name):\n",
        "        self.name = name\n",
        "\n",
        "class Student(SchoolMember):\n",
        "    def __init__(self, name, grade):\n",
        "        self.grade = grade\n",
        "\n",
        "class Staff(SchoolMember):\n",
        "    def __init__(self, name, salary):\n",
        "        self.salary = salary\n",
        "\n",
        "class Teacher(Staff):\n",
        "    def __init__(self, name, salary, subject):\n",
        "        self.subject = subject"
      ],
      "metadata": {
        "id": "GUP6Ud7XrbL0"
      },
      "execution_count": null,
      "outputs": []
    },
    {
      "cell_type": "markdown",
      "source": [
        "<img src=\"https://d2beiqkhq929f0.cloudfront.net/public_assets/assets/000/015/908/original/Screenshot_2022-10-07_at_10.05.56_AM.png?1665117338\">"
      ],
      "metadata": {
        "id": "k7J9fjRsusi9"
      }
    },
    {
      "cell_type": "code",
      "source": [
        "s1 = Student(\"Krishna\", \"A\")\n",
        "\n",
        "type(s1)"
      ],
      "metadata": {
        "id": "j3Kt6618redd"
      },
      "execution_count": null,
      "outputs": []
    },
    {
      "cell_type": "code",
      "source": [
        "s1.grade"
      ],
      "metadata": {
        "colab": {
          "base_uri": "https://localhost:8080/",
          "height": 35
        },
        "id": "9_qq7lHprhmx",
        "outputId": "2ab5d952-36b8-498f-bfe8-5326d44d3b21"
      },
      "execution_count": null,
      "outputs": [
        {
          "output_type": "execute_result",
          "data": {
            "text/plain": [
              "'A'"
            ],
            "application/vnd.google.colaboratory.intrinsic+json": {
              "type": "string"
            }
          },
          "metadata": {},
          "execution_count": 16
        }
      ]
    },
    {
      "cell_type": "code",
      "source": [
        "s1.name # class inherited but still can't use the properties"
      ],
      "metadata": {
        "colab": {
          "base_uri": "https://localhost:8080/",
          "height": 179
        },
        "id": "wHa-QQLorjH8",
        "outputId": "245cfe12-9c5e-4ac7-fcf4-1aa308574d00"
      },
      "execution_count": null,
      "outputs": [
        {
          "output_type": "error",
          "ename": "AttributeError",
          "evalue": "ignored",
          "traceback": [
            "\u001b[0;31m---------------------------------------------------------------------------\u001b[0m",
            "\u001b[0;31mAttributeError\u001b[0m                            Traceback (most recent call last)",
            "\u001b[0;32m<ipython-input-17-58cbae705711>\u001b[0m in \u001b[0;36m<cell line: 1>\u001b[0;34m()\u001b[0m\n\u001b[0;32m----> 1\u001b[0;31m \u001b[0ms1\u001b[0m\u001b[0;34m.\u001b[0m\u001b[0mname\u001b[0m \u001b[0;31m# class inherited still cannot use the properties\u001b[0m\u001b[0;34m\u001b[0m\u001b[0;34m\u001b[0m\u001b[0m\n\u001b[0m",
            "\u001b[0;31mAttributeError\u001b[0m: 'Student' object has no attribute 'name'"
          ]
        }
      ]
    },
    {
      "cell_type": "markdown",
      "source": [
        "#### The problem is that we never called the `__init__()` function of the parent class inside the child class.\n",
        "\n",
        "#### We can use the `super()` method to directly call the methods of parent class."
      ],
      "metadata": {
        "id": "aBzj5fp8vFa3"
      }
    },
    {
      "cell_type": "code",
      "source": [
        "class SchoolMember:\n",
        "    def __init__(self, name):\n",
        "        self.name = name\n",
        "\n",
        "class Student(SchoolMember):\n",
        "    def __init__(self, name, grade):\n",
        "        super().__init__(name)\n",
        "        # super() automatically corresponds to the direct parent class\n",
        "        self.grade = grade\n",
        "\n",
        "class Staff(SchoolMember):\n",
        "    def __init__(self, name, salary):\n",
        "        super().__init__(name)\n",
        "        self.salary = salary\n",
        "\n",
        "class Teacher(Staff):\n",
        "    def __init__(self, name, salary, subject):\n",
        "        super().__init__(name, salary)\n",
        "        self.subject = subject"
      ],
      "metadata": {
        "id": "vUS4RE0Zsgd-"
      },
      "execution_count": null,
      "outputs": []
    },
    {
      "cell_type": "code",
      "source": [
        "s1 = Student(\"Sharath\", \"A\")\n",
        "print(s1.name)"
      ],
      "metadata": {
        "id": "a4Yk0COLsiUZ"
      },
      "execution_count": null,
      "outputs": []
    },
    {
      "cell_type": "code",
      "source": [
        "s1.name = \"Random\"\n",
        "print(s1.name)"
      ],
      "metadata": {
        "colab": {
          "base_uri": "https://localhost:8080/"
        },
        "id": "oIi53pzrskAj",
        "outputId": "088a6532-9d89-4dc7-b4f0-9438e79f1ac5"
      },
      "execution_count": null,
      "outputs": [
        {
          "output_type": "stream",
          "name": "stdout",
          "text": [
            "Sharath\n",
            "Random\n"
          ]
        }
      ]
    },
    {
      "cell_type": "code",
      "source": [
        "t1 = Teacher(\"Bipin\", 10, \"Python\")\n",
        "\n",
        "t1.name, t1.salary, t1.subject"
      ],
      "metadata": {
        "id": "PU94G_5msyHb"
      },
      "execution_count": null,
      "outputs": []
    },
    {
      "cell_type": "markdown",
      "source": [
        "---"
      ],
      "metadata": {
        "id": "u6xcUQU6c3iO"
      }
    },
    {
      "cell_type": "markdown",
      "source": [
        "## Need of private properties -"
      ],
      "metadata": {
        "id": "nhP2k0QA2Dad"
      }
    },
    {
      "cell_type": "code",
      "source": [
        "class BankAccount:\n",
        "    def __init__(self, balance):\n",
        "        self.balance = balance\n",
        "\n",
        "    def withdrawl(self, amount):\n",
        "        self.balance -= amount\n",
        "\n",
        "    def deposit(self, amount):\n",
        "        self.balance += amount"
      ],
      "metadata": {
        "id": "ru_j49B5s7JB"
      },
      "execution_count": null,
      "outputs": []
    },
    {
      "cell_type": "code",
      "source": [
        "b1 = BankAccount(10000)"
      ],
      "metadata": {
        "id": "NxW-WShEs81o"
      },
      "execution_count": null,
      "outputs": []
    },
    {
      "cell_type": "code",
      "source": [
        "b1.deposit(5000)\n",
        "b1.balance"
      ],
      "metadata": {
        "id": "QLaHIkCVs-UJ"
      },
      "execution_count": null,
      "outputs": []
    },
    {
      "cell_type": "code",
      "source": [
        "b1.withdrawl(15000)\n",
        "b1.balance"
      ],
      "metadata": {
        "colab": {
          "base_uri": "https://localhost:8080/"
        },
        "id": "8AAbexG-tB0p",
        "outputId": "a0cf4a62-1bcc-43df-faf7-4cf8c8e8747b"
      },
      "execution_count": null,
      "outputs": [
        {
          "output_type": "execute_result",
          "data": {
            "text/plain": [
              "0"
            ]
          },
          "metadata": {},
          "execution_count": 27
        }
      ]
    },
    {
      "cell_type": "code",
      "source": [
        "b1.balance = 23456789854323456789987654345678909876543\n",
        "b1.balance"
      ],
      "metadata": {
        "colab": {
          "base_uri": "https://localhost:8080/"
        },
        "id": "cukLBbo0tD6Q",
        "outputId": "30786136-eabd-44e2-c4dc-e333595a25d6"
      },
      "execution_count": null,
      "outputs": [
        {
          "output_type": "execute_result",
          "data": {
            "text/plain": [
              "23456789854323456789987654345678909876543"
            ]
          },
          "metadata": {},
          "execution_count": 28
        }
      ]
    },
    {
      "cell_type": "markdown",
      "source": [
        "Just like that, any property within the instance can be modified to anything."
      ],
      "metadata": {
        "id": "RoQp394o2IDA"
      }
    },
    {
      "cell_type": "markdown",
      "source": [
        "---"
      ],
      "metadata": {
        "id": "I73TSTRNdm6L"
      }
    },
    {
      "cell_type": "markdown",
      "source": [
        "## Private Properties\n",
        "\n",
        "- will be accessible within the class.\n",
        "- won't be accessible outside the class definition."
      ],
      "metadata": {
        "id": "J_U74QjLtmBE"
      }
    },
    {
      "cell_type": "code",
      "source": [
        "class BankAccount:\n",
        "    def __init__(self, balance):\n",
        "        # initializing private property\n",
        "        self.__balance = balance\n",
        "\n",
        "    # Setter\n",
        "    def withdraw(self, amount):\n",
        "        self.__balance -= amount\n",
        "\n",
        "    def deposit(self, amount):\n",
        "        self.__balance += amount\n",
        "\n",
        "    # Getter\n",
        "    def check_balance(self):\n",
        "        return self.__balance"
      ],
      "metadata": {
        "id": "O9m3QMUhtrH5"
      },
      "execution_count": null,
      "outputs": []
    },
    {
      "cell_type": "code",
      "source": [
        "b1 = BankAccount(10000)\n",
        "\n",
        "# cannot be accessed like this\n",
        "b1.__balance"
      ],
      "metadata": {
        "id": "wJ7jEn-vtsrp"
      },
      "execution_count": null,
      "outputs": []
    },
    {
      "cell_type": "code",
      "source": [
        "b1.deposit(10000)"
      ],
      "metadata": {
        "id": "yFov8yLCwwWb"
      },
      "execution_count": null,
      "outputs": []
    },
    {
      "cell_type": "code",
      "source": [
        "b1.withdraw(5000)"
      ],
      "metadata": {
        "id": "OGta1TZuwu1B"
      },
      "execution_count": null,
      "outputs": []
    },
    {
      "cell_type": "code",
      "source": [
        "b1.check_balance()"
      ],
      "metadata": {
        "colab": {
          "base_uri": "https://localhost:8080/"
        },
        "id": "mOFQvN1Jwx-U",
        "outputId": "0fcb064f-2386-4fc1-a281-ba5e2441c50b"
      },
      "execution_count": null,
      "outputs": [
        {
          "output_type": "execute_result",
          "data": {
            "text/plain": [
              "15000"
            ]
          },
          "metadata": {},
          "execution_count": 6
        }
      ]
    },
    {
      "cell_type": "markdown",
      "source": [
        "#### Nothing can be completely *private* in Python.\n",
        "\n",
        "When we create variables like `__private_var`, Python internally creates it with name of `_ClassName__private_var`.\n",
        "\n",
        "Hence, we can still access it with the above name.\n",
        "\n",
        "<img src=\"https://d2beiqkhq929f0.cloudfront.net/public_assets/assets/000/015/909/original/Screenshot_2022-10-07_at_10.18.54_AM.png?1665118116\">"
      ],
      "metadata": {
        "id": "PEq8n9XxxI2b"
      }
    },
    {
      "cell_type": "code",
      "source": [
        "b1._BankAccount__balance = 159854568765456789876545678765678\n",
        "# Name Mangling"
      ],
      "metadata": {
        "id": "FrTx0lJYxfhu"
      },
      "execution_count": null,
      "outputs": []
    },
    {
      "cell_type": "code",
      "source": [
        "b1.check_balance()"
      ],
      "metadata": {
        "colab": {
          "base_uri": "https://localhost:8080/"
        },
        "id": "SjiYDEFrxhcH",
        "outputId": "da2829e8-9589-44f2-f971-8a60a2e81a93"
      },
      "execution_count": null,
      "outputs": [
        {
          "output_type": "execute_result",
          "data": {
            "text/plain": [
              "159854568765456789876545678765678"
            ]
          },
          "metadata": {},
          "execution_count": 40
        }
      ]
    },
    {
      "cell_type": "code",
      "source": [
        "# checking the properties and methods within any object\n",
        "dir(b1)"
      ],
      "metadata": {
        "colab": {
          "base_uri": "https://localhost:8080/"
        },
        "id": "Wufv9u_9xi9y",
        "outputId": "12bbdce0-4ad6-41d2-8c21-6416de791bee"
      },
      "execution_count": null,
      "outputs": [
        {
          "output_type": "execute_result",
          "data": {
            "text/plain": [
              "['_BankAccount__balance',\n",
              " '__class__',\n",
              " '__delattr__',\n",
              " '__dict__',\n",
              " '__dir__',\n",
              " '__doc__',\n",
              " '__eq__',\n",
              " '__format__',\n",
              " '__ge__',\n",
              " '__getattribute__',\n",
              " '__gt__',\n",
              " '__hash__',\n",
              " '__init__',\n",
              " '__init_subclass__',\n",
              " '__le__',\n",
              " '__lt__',\n",
              " '__module__',\n",
              " '__ne__',\n",
              " '__new__',\n",
              " '__reduce__',\n",
              " '__reduce_ex__',\n",
              " '__repr__',\n",
              " '__setattr__',\n",
              " '__sizeof__',\n",
              " '__str__',\n",
              " '__subclasshook__',\n",
              " '__weakref__',\n",
              " 'check_balance',\n",
              " 'deposit',\n",
              " 'withdraw']"
            ]
          },
          "metadata": {},
          "execution_count": 42
        }
      ]
    },
    {
      "cell_type": "code",
      "source": [
        "b1.__balance = \"random balance\""
      ],
      "metadata": {
        "id": "qrQuYQtQx1k8"
      },
      "execution_count": null,
      "outputs": []
    },
    {
      "cell_type": "code",
      "source": [
        "dir(b1)"
      ],
      "metadata": {
        "colab": {
          "base_uri": "https://localhost:8080/"
        },
        "id": "hjzyqapHx2yh",
        "outputId": "aababd20-8a7e-465b-d149-9ee71111f6ca"
      },
      "execution_count": null,
      "outputs": [
        {
          "output_type": "execute_result",
          "data": {
            "text/plain": [
              "['_BankAccount__balance',\n",
              " '__balance',\n",
              " '__class__',\n",
              " '__delattr__',\n",
              " '__dict__',\n",
              " '__dir__',\n",
              " '__doc__',\n",
              " '__eq__',\n",
              " '__format__',\n",
              " '__ge__',\n",
              " '__getattribute__',\n",
              " '__gt__',\n",
              " '__hash__',\n",
              " '__init__',\n",
              " '__init_subclass__',\n",
              " '__le__',\n",
              " '__lt__',\n",
              " '__module__',\n",
              " '__ne__',\n",
              " '__new__',\n",
              " '__reduce__',\n",
              " '__reduce_ex__',\n",
              " '__repr__',\n",
              " '__setattr__',\n",
              " '__sizeof__',\n",
              " '__str__',\n",
              " '__subclasshook__',\n",
              " '__weakref__',\n",
              " 'check_balance',\n",
              " 'deposit',\n",
              " 'withdraw']"
            ]
          },
          "metadata": {},
          "execution_count": 44
        }
      ]
    },
    {
      "cell_type": "markdown",
      "source": [
        "---"
      ],
      "metadata": {
        "id": "2-gNz3tEsxZ4"
      }
    },
    {
      "cell_type": "markdown",
      "source": [
        "## Multiple Inheritance\n",
        "\n",
        "- Inheriting more than one class."
      ],
      "metadata": {
        "id": "IiOXmVypy2SH"
      }
    },
    {
      "cell_type": "code",
      "source": [
        "class A:\n",
        "    def __init__(self, a):\n",
        "        self.a = a\n",
        "\n",
        "class B:\n",
        "    def __init__(self, b):\n",
        "        self.b = b\n",
        "\n",
        "# C inherits from both A and B\n",
        "class C(A, B):\n",
        "    def __init__(self, a, b, c):\n",
        "        # Assumption 1\n",
        "        # super().__init__(a, b)\n",
        "\n",
        "        # Assumption 2\n",
        "        # super().__init__(a)\n",
        "        # super().__init__(b)\n",
        "\n",
        "        # Assumption 3\n",
        "        A.__init__(self, a)\n",
        "        B.__init__(self, b)\n",
        "        self.c = c"
      ],
      "metadata": {
        "id": "_04il3YSy57u"
      },
      "execution_count": null,
      "outputs": []
    },
    {
      "cell_type": "code",
      "source": [
        "c1 = C(1,2,3)\n",
        "\n",
        "c1.c"
      ],
      "metadata": {
        "id": "zGpp5ERIy_0j"
      },
      "execution_count": null,
      "outputs": []
    },
    {
      "cell_type": "markdown",
      "source": [
        "---"
      ],
      "metadata": {
        "id": "2BaG2Hv-tt38"
      }
    },
    {
      "cell_type": "markdown",
      "source": [
        "## Method Resolution Order\n",
        "\n",
        "<img src=\"https://d2beiqkhq929f0.cloudfront.net/public_assets/assets/000/015/910/original/Screenshot_2022-10-07_at_10.31.02_AM.png?1665118892\">"
      ],
      "metadata": {
        "id": "zbmRTPnVzJlk"
      }
    },
    {
      "cell_type": "code",
      "source": [
        "class A:\n",
        "    x = 10\n",
        "\n",
        "class B(A):\n",
        "    pass\n",
        "\n",
        "class C(B):\n",
        "    pass\n",
        "\n",
        "class D(A):\n",
        "    x = 5\n",
        "\n",
        "class E(C, D):\n",
        "    pass\n",
        "\n",
        "# E -> C -> B -> D -> A"
      ],
      "metadata": {
        "id": "rvluo1ovzLPj"
      },
      "execution_count": null,
      "outputs": []
    },
    {
      "cell_type": "code",
      "source": [
        "e1 = E()\n",
        "e1.x"
      ],
      "metadata": {
        "colab": {
          "base_uri": "https://localhost:8080/"
        },
        "id": "5HG6CtryzMo4",
        "outputId": "b29c4370-30c9-49c4-9e28-8f0ba0e8d72e"
      },
      "execution_count": null,
      "outputs": [
        {
          "output_type": "execute_result",
          "data": {
            "text/plain": [
              "5"
            ]
          },
          "metadata": {},
          "execution_count": 50
        }
      ]
    },
    {
      "cell_type": "code",
      "source": [
        "# It'll give the method resolution order\n",
        "E.__mro__"
      ],
      "metadata": {
        "colab": {
          "base_uri": "https://localhost:8080/"
        },
        "id": "43X647wQzPDT",
        "outputId": "01db4639-00fe-43d1-a460-31461312cc11"
      },
      "execution_count": null,
      "outputs": [
        {
          "output_type": "execute_result",
          "data": {
            "text/plain": [
              "(__main__.E, __main__.C, __main__.B, __main__.D, __main__.A, object)"
            ]
          },
          "metadata": {},
          "execution_count": 51
        }
      ]
    },
    {
      "cell_type": "markdown",
      "source": [
        "---"
      ],
      "metadata": {
        "id": "Dypu3fUmbM50"
      }
    },
    {
      "cell_type": "markdown",
      "source": [
        "# Lec 6: Functional Programming - Basics"
      ],
      "metadata": {
        "id": "rWSKt6sepPVO"
      }
    },
    {
      "cell_type": "markdown",
      "source": [
        "### Content\n",
        "\n",
        "1. Functional Programming\n",
        "2. Lambda Functions\n",
        "3. Higher Order Functions\n",
        "4. Decorators"
      ],
      "metadata": {
        "id": "Aw6n4murx8Wz"
      }
    },
    {
      "cell_type": "markdown",
      "source": [
        "---"
      ],
      "metadata": {
        "id": "iqnNOQ6ssGQ9"
      }
    },
    {
      "cell_type": "markdown",
      "source": [
        "### Introduction\n",
        "\n",
        "Functional programming is a paradigm where computation is viewed as the evaluation of mathematical functions.\n",
        "\n",
        "It stands out for two major reasons:\n",
        "- Immutable Data: It avoids changing state and mutable data.\n",
        "- Declarative Style: Instead of instructing \"how\" to achieve something (like imperative programming), you declare \"what\" you want the program to do.\n",
        "\n",
        "Let's illustrate this:"
      ],
      "metadata": {
        "id": "L2le6iADpbuv"
      }
    },
    {
      "cell_type": "code",
      "source": [
        "# Imperative Approach:\n",
        "\n",
        "numbers = [1, 2, 3, 4]\n",
        "squared_numbers = []\n",
        "for num in numbers:\n",
        "    squared_numbers.append(num*num)"
      ],
      "metadata": {
        "id": "Epa3DxTRa0jf"
      },
      "execution_count": null,
      "outputs": []
    },
    {
      "cell_type": "code",
      "source": [
        "# Functional Approach:\n",
        "\n",
        "numbers = [1, 2, 3, 4]\n",
        "squared_numbers = list(map(lambda x: x*x, numbers))"
      ],
      "metadata": {
        "id": "czydl6PGa9-3"
      },
      "execution_count": null,
      "outputs": []
    },
    {
      "cell_type": "markdown",
      "source": [
        "### Why use functional programming?\n",
        "\n",
        "- **Concise and Readable:** With functional programming, you're often working with familiar mathematical functions. This makes code shorter and intuitive. For instance, the `map`, `filter`, and `reduce` functions in Python are direct implementations of functional programming concepts.\n",
        "\n",
        "- **More Maintainable:** Since there are no side effects from mutable data, tracking errors becomes simpler. Imagine not having to worry about a variable's value being unexpectedly changed elsewhere in your program!\n",
        "\n",
        "- **Efficient:** Without the constant need to update data states, some functional programs can outperform their imperative counterparts."
      ],
      "metadata": {
        "id": "rqwO0IVgbBLV"
      }
    },
    {
      "cell_type": "markdown",
      "source": [
        "---"
      ],
      "metadata": {
        "id": "F-i14XggVZE6"
      }
    },
    {
      "cell_type": "markdown",
      "source": [
        "### Lambda Functions\n",
        "\n",
        "- Also known as Anonymous functions\n",
        "\n",
        "**Syntax:**\n",
        "```\n",
        "function_name = lambda arguments: expression\n",
        "```\n",
        "\n",
        "- `lambda` is the keyword that signifies the creation of a lambda function.\n",
        "- `arguments` are the input parameters of the function.\n",
        "- `expression` is the single expression or operation that the function performs.\n",
        "\n",
        "<img src=\"https://d2beiqkhq929f0.cloudfront.net/public_assets/assets/000/016/029/original/Screenshot_2022-10-10_at_12.27.03_PM.png?1665385010\">"
      ],
      "metadata": {
        "id": "D4n5C7yJrhks"
      }
    },
    {
      "cell_type": "markdown",
      "source": [
        "---"
      ],
      "metadata": {
        "id": "cMP95xNqeaCq"
      }
    },
    {
      "cell_type": "code",
      "source": [
        "def square_number(a):\n",
        "    return a**2"
      ],
      "metadata": {
        "id": "4d2VgTXKqUEO"
      },
      "execution_count": null,
      "outputs": []
    },
    {
      "cell_type": "code",
      "source": [
        "# lambda equivalent of above function\n",
        "\n",
        "square = lambda x: x**2\n",
        "square(4)"
      ],
      "metadata": {
        "colab": {
          "base_uri": "https://localhost:8080/"
        },
        "id": "uw8NplnvqW6x",
        "outputId": "3c48b000-0894-4b49-dced-6f15af2099ea"
      },
      "execution_count": null,
      "outputs": [
        {
          "output_type": "execute_result",
          "data": {
            "text/plain": [
              "16"
            ]
          },
          "metadata": {},
          "execution_count": 38
        }
      ]
    },
    {
      "cell_type": "code",
      "source": [
        "(lambda x: x**3)(2) # cube of a number"
      ],
      "metadata": {
        "colab": {
          "base_uri": "https://localhost:8080/"
        },
        "id": "F3eKE0qAqZAq",
        "outputId": "f5443cd1-219c-44a0-b0e8-f5e1a120d189"
      },
      "execution_count": null,
      "outputs": [
        {
          "output_type": "execute_result",
          "data": {
            "text/plain": [
              "8"
            ]
          },
          "metadata": {},
          "execution_count": 39
        }
      ]
    },
    {
      "cell_type": "code",
      "source": [
        "(lambda x, y: x+y)(4,5) # adding two numbers"
      ],
      "metadata": {
        "colab": {
          "base_uri": "https://localhost:8080/"
        },
        "id": "crWj4H0fqvzf",
        "outputId": "8c9dbd79-5f20-486b-9736-8f60ffd23b7a"
      },
      "execution_count": null,
      "outputs": [
        {
          "output_type": "execute_result",
          "data": {
            "text/plain": [
              "9"
            ]
          },
          "metadata": {},
          "execution_count": 54
        }
      ]
    },
    {
      "cell_type": "markdown",
      "source": [
        "---"
      ],
      "metadata": {
        "id": "qF98-NoQecVB"
      }
    },
    {
      "cell_type": "code",
      "source": [
        "# if condition:\n",
        "#     x\n",
        "# else:\n",
        "#     y\n",
        "\n",
        "# x if condition else y -> Ternary Operator\n",
        "\n",
        "(lambda x: x if x > 5 else 0)(4)"
      ],
      "metadata": {
        "colab": {
          "base_uri": "https://localhost:8080/"
        },
        "id": "owT85aWZqa1j",
        "outputId": "30304e30-385f-44c6-899d-46f14ee84f1d"
      },
      "execution_count": null,
      "outputs": [
        {
          "output_type": "execute_result",
          "data": {
            "text/plain": [
              "0"
            ]
          },
          "metadata": {},
          "execution_count": 40
        }
      ]
    },
    {
      "cell_type": "markdown",
      "source": [
        "---"
      ],
      "metadata": {
        "id": "V64If7MKed6m"
      }
    },
    {
      "cell_type": "code",
      "source": [
        "a = [1,5,7,8,0,2,3,5]\n",
        "a"
      ],
      "metadata": {
        "id": "uJXYogjkqcmU",
        "colab": {
          "base_uri": "https://localhost:8080/"
        },
        "outputId": "8cc7315c-f598-4d11-bcd4-503475e7ae3c"
      },
      "execution_count": null,
      "outputs": [
        {
          "output_type": "execute_result",
          "data": {
            "text/plain": [
              "[1, 5, 7, 8, 0, 2, 3, 5]"
            ]
          },
          "metadata": {},
          "execution_count": 15
        }
      ]
    },
    {
      "cell_type": "code",
      "source": [
        "sorted_a = sorted(a)\n",
        "sorted_a"
      ],
      "metadata": {
        "colab": {
          "base_uri": "https://localhost:8080/"
        },
        "id": "NExTR-jeqftB",
        "outputId": "f68fec84-59b5-4bee-8933-7262cba369fa"
      },
      "execution_count": null,
      "outputs": [
        {
          "output_type": "execute_result",
          "data": {
            "text/plain": [
              "[0, 1, 2, 3, 5, 5, 7, 8]"
            ]
          },
          "metadata": {},
          "execution_count": 16
        }
      ]
    },
    {
      "cell_type": "markdown",
      "source": [
        "---"
      ],
      "metadata": {
        "id": "lRlAptYWehUP"
      }
    },
    {
      "cell_type": "code",
      "source": [
        "get_value = lambda x: x[\"marks\"]"
      ],
      "metadata": {
        "id": "E_fnZtlWqhvO"
      },
      "execution_count": null,
      "outputs": []
    },
    {
      "cell_type": "code",
      "source": [
        "students = [\n",
        "    {\"name\": \"A\", \"marks\": 50},\n",
        "    {\"name\": \"B\", \"marks\": 100},\n",
        "    {\"name\": \"C\", \"marks\": 40},\n",
        "    {\"name\": \"D\", \"marks\": 70},\n",
        "    {\"name\": \"E\", \"marks\": 60},\n",
        "]"
      ],
      "metadata": {
        "id": "B6GMKvr_qjQH"
      },
      "execution_count": null,
      "outputs": []
    },
    {
      "cell_type": "code",
      "source": [
        "students[0] > students[1]"
      ],
      "metadata": {
        "colab": {
          "base_uri": "https://localhost:8080/",
          "height": 179
        },
        "id": "IqK_PTmYqmTr",
        "outputId": "f5a82865-4b8f-4a36-cc2d-1acc50b7ed7f"
      },
      "execution_count": null,
      "outputs": [
        {
          "output_type": "error",
          "ename": "TypeError",
          "evalue": "'>' not supported between instances of 'dict' and 'dict'",
          "traceback": [
            "\u001b[0;31m---------------------------------------------------------------------------\u001b[0m",
            "\u001b[0;31mTypeError\u001b[0m                                 Traceback (most recent call last)",
            "\u001b[0;32m<ipython-input-19-f910ab6ef498>\u001b[0m in \u001b[0;36m<cell line: 1>\u001b[0;34m()\u001b[0m\n\u001b[0;32m----> 1\u001b[0;31m \u001b[0mstudents\u001b[0m\u001b[0;34m[\u001b[0m\u001b[0;36m0\u001b[0m\u001b[0;34m]\u001b[0m \u001b[0;34m>\u001b[0m \u001b[0mstudents\u001b[0m\u001b[0;34m[\u001b[0m\u001b[0;36m1\u001b[0m\u001b[0;34m]\u001b[0m\u001b[0;34m\u001b[0m\u001b[0;34m\u001b[0m\u001b[0m\n\u001b[0m",
            "\u001b[0;31mTypeError\u001b[0m: '>' not supported between instances of 'dict' and 'dict'"
          ]
        }
      ]
    },
    {
      "cell_type": "code",
      "source": [
        "get_value(students[0])"
      ],
      "metadata": {
        "colab": {
          "base_uri": "https://localhost:8080/"
        },
        "id": "Qm6KBRAyqk_0",
        "outputId": "1338f4bd-6597-449c-cf63-fa4115c08a79"
      },
      "execution_count": null,
      "outputs": [
        {
          "output_type": "execute_result",
          "data": {
            "text/plain": [
              "50"
            ]
          },
          "metadata": {},
          "execution_count": 49
        }
      ]
    },
    {
      "cell_type": "code",
      "source": [
        "get_value(students[1])"
      ],
      "metadata": {
        "colab": {
          "base_uri": "https://localhost:8080/"
        },
        "id": "VU8fz9oLqpXQ",
        "outputId": "ec6e285d-c1bc-47af-8006-36f19c88f040"
      },
      "execution_count": null,
      "outputs": [
        {
          "output_type": "execute_result",
          "data": {
            "text/plain": [
              "100"
            ]
          },
          "metadata": {},
          "execution_count": 50
        }
      ]
    },
    {
      "cell_type": "code",
      "source": [
        "get_value(students[0]) > get_value(students[1])"
      ],
      "metadata": {
        "colab": {
          "base_uri": "https://localhost:8080/"
        },
        "id": "uxejFM96qqtt",
        "outputId": "1b64ce3c-2517-46b4-f892-cde67028ca5f"
      },
      "execution_count": null,
      "outputs": [
        {
          "output_type": "execute_result",
          "data": {
            "text/plain": [
              "False"
            ]
          },
          "metadata": {},
          "execution_count": 51
        }
      ]
    },
    {
      "cell_type": "code",
      "source": [
        "sorted(students)"
      ],
      "metadata": {
        "colab": {
          "base_uri": "https://localhost:8080/",
          "height": 187
        },
        "id": "KFbJr-gNqsiI",
        "outputId": "fb696a4a-891c-4d20-f3b0-476e6a4d724f"
      },
      "execution_count": null,
      "outputs": [
        {
          "output_type": "error",
          "ename": "TypeError",
          "evalue": "ignored",
          "traceback": [
            "\u001b[0;31m---------------------------------------------------------------------------\u001b[0m",
            "\u001b[0;31mTypeError\u001b[0m                                 Traceback (most recent call last)",
            "\u001b[0;32m<ipython-input-52-7486671c4cb7>\u001b[0m in \u001b[0;36m<module>\u001b[0;34m\u001b[0m\n\u001b[0;32m----> 1\u001b[0;31m \u001b[0msorted\u001b[0m\u001b[0;34m(\u001b[0m\u001b[0mstudents\u001b[0m\u001b[0;34m)\u001b[0m\u001b[0;34m\u001b[0m\u001b[0;34m\u001b[0m\u001b[0m\n\u001b[0m\u001b[1;32m      2\u001b[0m \u001b[0;31m# cannot compare between dictionaries by default\u001b[0m\u001b[0;34m\u001b[0m\u001b[0;34m\u001b[0m\u001b[0;34m\u001b[0m\u001b[0m\n",
            "\u001b[0;31mTypeError\u001b[0m: '<' not supported between instances of 'dict' and 'dict'"
          ]
        }
      ]
    },
    {
      "cell_type": "markdown",
      "source": [
        "#### The `sorted()` function takes an extra argrument known as `key`, which takes a function to judge how to compare for sorting."
      ],
      "metadata": {
        "id": "xsdvvARvtQXq"
      }
    },
    {
      "cell_type": "code",
      "source": [
        "sorted(students, key = lambda x: x[\"name\"], reverse=True)"
      ],
      "metadata": {
        "colab": {
          "base_uri": "https://localhost:8080/"
        },
        "id": "N4cD-DSTquac",
        "outputId": "b73aa85a-7eb1-4901-c04e-3e7a012ea823"
      },
      "execution_count": null,
      "outputs": [
        {
          "output_type": "execute_result",
          "data": {
            "text/plain": [
              "[{'name': 'E', 'marks': 60},\n",
              " {'name': 'D', 'marks': 70},\n",
              " {'name': 'C', 'marks': 40},\n",
              " {'name': 'B', 'marks': 100},\n",
              " {'name': 'A', 'marks': 50}]"
            ]
          },
          "metadata": {},
          "execution_count": 53
        }
      ]
    },
    {
      "cell_type": "markdown",
      "source": [
        "---"
      ],
      "metadata": {
        "id": "Ymh3TfgNY2SB"
      }
    },
    {
      "cell_type": "markdown",
      "source": [
        "### Higher Order Function\n",
        "\n",
        "- A function that returns another function\n",
        "\n",
        "<img src=\"https://d2beiqkhq929f0.cloudfront.net/public_assets/assets/000/016/031/original/Screenshot_2022-10-10_at_12.41.52_PM.png?1665385895\">\n",
        "\n",
        "<img src=\"https://d2beiqkhq929f0.cloudfront.net/public_assets/assets/000/016/032/original/Screenshot_2022-10-10_at_12.41.59_PM.png?1665385919\">"
      ],
      "metadata": {
        "id": "yFTEacTdr77K"
      }
    },
    {
      "cell_type": "code",
      "source": [
        "def gen_exp(n):\n",
        "    def exp(x):\n",
        "        return x**n\n",
        "\n",
        "    return exp"
      ],
      "metadata": {
        "id": "67KJHLmbr68a"
      },
      "execution_count": null,
      "outputs": []
    },
    {
      "cell_type": "code",
      "source": [
        "exp_5 = gen_exp(5)\n",
        "\n",
        "'''\n",
        "def exp(x):\n",
        "    return x**5\n",
        "'''"
      ],
      "metadata": {
        "colab": {
          "base_uri": "https://localhost:8080/",
          "height": 35
        },
        "id": "PDmpfD89sExE",
        "outputId": "15157115-d184-45b3-eb52-118587519831"
      },
      "execution_count": null,
      "outputs": [
        {
          "output_type": "execute_result",
          "data": {
            "text/plain": [
              "'\\ndef exp(x):\\n    return x**5\\n'"
            ],
            "application/vnd.google.colaboratory.intrinsic+json": {
              "type": "string"
            }
          },
          "metadata": {},
          "execution_count": 21
        }
      ]
    },
    {
      "cell_type": "code",
      "source": [
        "type(exp_5)"
      ],
      "metadata": {
        "colab": {
          "base_uri": "https://localhost:8080/"
        },
        "id": "uyFnuvDrsGgg",
        "outputId": "318a2f2f-e951-48b8-ebea-c02189598778"
      },
      "execution_count": null,
      "outputs": [
        {
          "output_type": "execute_result",
          "data": {
            "text/plain": [
              "function"
            ]
          },
          "metadata": {},
          "execution_count": 22
        }
      ]
    },
    {
      "cell_type": "code",
      "source": [
        "exp_5(2)"
      ],
      "metadata": {
        "colab": {
          "base_uri": "https://localhost:8080/"
        },
        "id": "WDIk7z_9sIT5",
        "outputId": "ec4c5d7a-5f6c-41be-bdf0-37b4dfd7a7ba"
      },
      "execution_count": null,
      "outputs": [
        {
          "output_type": "execute_result",
          "data": {
            "text/plain": [
              "32"
            ]
          },
          "metadata": {},
          "execution_count": 23
        }
      ]
    },
    {
      "cell_type": "markdown",
      "source": [
        "---"
      ],
      "metadata": {
        "id": "lpMrsGiEZTW8"
      }
    },
    {
      "cell_type": "markdown",
      "source": [
        "### Decorators\n",
        "\n",
        "- These are higher order functions that take another function as input and add the extra behaviour in along with the functionality of the passed function."
      ],
      "metadata": {
        "id": "1y7-GzEusKGd"
      }
    },
    {
      "cell_type": "code",
      "source": [
        "def foo():\n",
        "    print(\"Hello everyone! How are you doing?\")\n",
        "\n",
        "foo()"
      ],
      "metadata": {
        "id": "tDD8fbS5sP1I",
        "colab": {
          "base_uri": "https://localhost:8080/"
        },
        "outputId": "fc8ca4dd-a20b-4d19-c2b9-376eee4aabbf"
      },
      "execution_count": null,
      "outputs": [
        {
          "output_type": "stream",
          "name": "stdout",
          "text": [
            "Hello everyone! How are you doing?\n"
          ]
        }
      ]
    },
    {
      "cell_type": "code",
      "source": [
        "def poo():\n",
        "    print(\"-\"*50) # code that runs before\n",
        "    print(\"Hello everyone! How are you doing?\")\n",
        "    print(\"-\"*50) # code that runs after\n",
        "\n",
        "poo()"
      ],
      "metadata": {
        "id": "rvefmbZWsk2x",
        "colab": {
          "base_uri": "https://localhost:8080/"
        },
        "outputId": "02bd49e0-e267-4522-f57d-5bcbefd802e9"
      },
      "execution_count": null,
      "outputs": [
        {
          "output_type": "stream",
          "name": "stdout",
          "text": [
            "--------------------------------------------------\n",
            "Hello everyone! How are you doing?\n",
            "--------------------------------------------------\n"
          ]
        }
      ]
    },
    {
      "cell_type": "code",
      "source": [
        "# A decorator accepts a function as an argument and returns a decorated function.\n",
        "\n",
        "def pretty(func):\n",
        "    def inner():\n",
        "        print(\"-\"*50)\n",
        "        func()\n",
        "        print(\"-\"*50)\n",
        "\n",
        "    return inner"
      ],
      "metadata": {
        "id": "cnJHcIMDssZz"
      },
      "execution_count": null,
      "outputs": []
    },
    {
      "cell_type": "code",
      "source": [
        "new_foo = pretty(foo)\n",
        "\n",
        "new_foo()"
      ],
      "metadata": {
        "id": "HOwXI9Jpsvxf",
        "colab": {
          "base_uri": "https://localhost:8080/"
        },
        "outputId": "3d13b2b1-2aa9-4f1e-d812-09655ca0e687"
      },
      "execution_count": null,
      "outputs": [
        {
          "output_type": "stream",
          "name": "stdout",
          "text": [
            "--------------------------------------------------\n",
            "Hello everyone! How are you doing?\n",
            "--------------------------------------------------\n"
          ]
        }
      ]
    },
    {
      "cell_type": "code",
      "source": [
        "# The '@' symbol is used to apply decorator to a function.\n",
        "\n",
        "@pretty\n",
        "def soo():\n",
        "    print(\"This is amazing!!!\")\n",
        "\n",
        "soo()"
      ],
      "metadata": {
        "id": "eY8LGNiysyhv",
        "colab": {
          "base_uri": "https://localhost:8080/"
        },
        "outputId": "7517a4b6-689c-4b7a-d873-ed47a9f71adb"
      },
      "execution_count": null,
      "outputs": [
        {
          "output_type": "stream",
          "name": "stdout",
          "text": [
            "--------------------------------------------------\n",
            "This is amazing!!!\n",
            "--------------------------------------------------\n"
          ]
        }
      ]
    },
    {
      "cell_type": "markdown",
      "source": [
        "# Lec 7: Functional Programming 2 - Map, Filter, Reduce"
      ],
      "metadata": {
        "id": "z0ezwbP2e0HE"
      }
    },
    {
      "cell_type": "markdown",
      "source": [
        "## Content\n",
        "\n",
        "1. Principles of Functional Programming\n",
        "2. Map\n",
        "3. Filter\n",
        "4. Zip\n",
        "5. Reduce\n",
        "6. Args and Kwargs"
      ],
      "metadata": {
        "id": "Tny3l-yvfBbs"
      }
    },
    {
      "cell_type": "markdown",
      "source": [
        "---"
      ],
      "metadata": {
        "id": "7usKxjeMsEjb"
      }
    },
    {
      "cell_type": "markdown",
      "source": [
        "## Principles of Functional Programming\n",
        "\n",
        "<img src=\"https://d2beiqkhq929f0.cloudfront.net/public_assets/assets/000/016/063/original/Screenshot_2022-10-11_at_10.56.52_AM.png?1665466330\">"
      ],
      "metadata": {
        "id": "lRViv1B9hG45"
      }
    },
    {
      "cell_type": "markdown",
      "source": [
        "Whenever we perform some mutations to an object, we lose the content that was previously stored in that object."
      ],
      "metadata": {
        "id": "2W4kHexohPZM"
      }
    },
    {
      "cell_type": "code",
      "execution_count": null,
      "metadata": {
        "id": "0178fa95"
      },
      "outputs": [],
      "source": [
        "x = 5 # Initial Data\n",
        "\n",
        "# Hidden Mutations\n",
        "x = 3*x\n",
        "x += 1\n",
        "\n",
        "# Problem - Can't rollback mutations"
      ]
    },
    {
      "cell_type": "code",
      "execution_count": null,
      "metadata": {
        "id": "d0e9969b",
        "outputId": "38fde214-6040-4385-82a7-182130b877e5",
        "colab": {
          "base_uri": "https://localhost:8080/"
        }
      },
      "outputs": [
        {
          "output_type": "execute_result",
          "data": {
            "text/plain": [
              "16"
            ]
          },
          "metadata": {},
          "execution_count": 2
        }
      ],
      "source": [
        "x"
      ]
    },
    {
      "cell_type": "markdown",
      "source": [
        "One way is to create new object everytime we perform some mutation and store the result in that new object.\n",
        "\n",
        "But it'll consume too much memory."
      ],
      "metadata": {
        "id": "WA9t0aBohX-q"
      }
    },
    {
      "cell_type": "code",
      "execution_count": null,
      "metadata": {
        "id": "53383e33"
      },
      "outputs": [],
      "source": [
        "x = 5\n",
        "\n",
        "x1 = 2*x\n",
        "x2 = x1 + 1\n",
        "\n",
        "# Problem - Too many variables"
      ]
    },
    {
      "cell_type": "markdown",
      "source": [
        "Another valid approach would be to separate out the data and mutation operations."
      ],
      "metadata": {
        "id": "cuaEs42Sh4HM"
      }
    },
    {
      "cell_type": "code",
      "execution_count": null,
      "metadata": {
        "id": "77c5fdbf"
      },
      "outputs": [],
      "source": [
        "x = 5\n",
        "\n",
        "def mutation_1(x):\n",
        "    x = 2*x\n",
        "    x += 1\n",
        "\n",
        "    return x\n",
        "\n",
        "x1 = mutation_1(x)"
      ]
    },
    {
      "cell_type": "code",
      "source": [
        "x"
      ],
      "metadata": {
        "colab": {
          "base_uri": "https://localhost:8080/"
        },
        "id": "Os32LJOFS5q4",
        "outputId": "b4872195-7550-44f6-8076-032490cb1791"
      },
      "execution_count": null,
      "outputs": [
        {
          "output_type": "execute_result",
          "data": {
            "text/plain": [
              "5"
            ]
          },
          "metadata": {},
          "execution_count": 3
        }
      ]
    },
    {
      "cell_type": "markdown",
      "source": [
        "---"
      ],
      "metadata": {
        "id": "kOIcUB8HGQUR"
      }
    },
    {
      "cell_type": "markdown",
      "metadata": {
        "id": "486e321b"
      },
      "source": [
        "## Map\n",
        "\n",
        "The `map()` function can take multiple iterables and return a map object that can be converted to other iterables.\n",
        "\n",
        "```python\n",
        "map(function_to_perform, *iterables)\n",
        "```"
      ]
    },
    {
      "cell_type": "markdown",
      "source": [
        "#### Given a list, create another list which contains the square of the elements of given list."
      ],
      "metadata": {
        "id": "mPWc_dPiP9qr"
      }
    },
    {
      "cell_type": "code",
      "execution_count": null,
      "metadata": {
        "id": "7623e8a9"
      },
      "outputs": [],
      "source": [
        "a = [1,2,3,4,5]"
      ]
    },
    {
      "cell_type": "code",
      "execution_count": null,
      "metadata": {
        "id": "cef90e48",
        "colab": {
          "base_uri": "https://localhost:8080/"
        },
        "outputId": "745f7c19-2676-4b7e-8e9e-bffd4dff41e9"
      },
      "outputs": [
        {
          "output_type": "execute_result",
          "data": {
            "text/plain": [
              "[1, 4, 9, 16, 25]"
            ]
          },
          "metadata": {},
          "execution_count": 10
        }
      ],
      "source": [
        "# Using list comprehension\n",
        "\n",
        "res1 = [ i**2 for i in a ]\n",
        "res1"
      ]
    },
    {
      "cell_type": "code",
      "execution_count": null,
      "metadata": {
        "id": "65af2939",
        "colab": {
          "base_uri": "https://localhost:8080/"
        },
        "outputId": "7e2d8ea6-2530-4cb4-c199-30e7fa37c3f8"
      },
      "outputs": [
        {
          "output_type": "execute_result",
          "data": {
            "text/plain": [
              "[1, 4, 9, 16, 25]"
            ]
          },
          "metadata": {},
          "execution_count": 11
        }
      ],
      "source": [
        "# Using map() function\n",
        "\n",
        "m = map(lambda x: x**2, a)\n",
        "m_list = list(m)\n",
        "m_list"
      ]
    },
    {
      "cell_type": "code",
      "execution_count": null,
      "metadata": {
        "id": "67660ec5",
        "colab": {
          "base_uri": "https://localhost:8080/"
        },
        "outputId": "a16ba660-a97c-470b-accd-3adc2188e087"
      },
      "outputs": [
        {
          "output_type": "execute_result",
          "data": {
            "text/plain": [
              "[1, 4, 9, 16, 25]"
            ]
          },
          "metadata": {},
          "execution_count": 12
        }
      ],
      "source": [
        "m_direct = list(map(lambda x: x**2, a))\n",
        "m_direct"
      ]
    },
    {
      "cell_type": "markdown",
      "source": [
        "#### Convert the given heights from a list into to t-shirt sizes.\n",
        "\n",
        "* h < 150 $\\rightarrow$ S\n",
        "* h >= 150 and h < 180 $\\rightarrow$ M\n",
        "* h >= 180 $\\rightarrow$ L"
      ],
      "metadata": {
        "id": "4aLR4Bl_jmTW"
      }
    },
    {
      "cell_type": "code",
      "execution_count": null,
      "metadata": {
        "id": "b8e39004"
      },
      "outputs": [],
      "source": [
        "heights = [144, 167, 189, 170, 190, 150, 165, 178, 200, 130]"
      ]
    },
    {
      "cell_type": "code",
      "execution_count": null,
      "metadata": {
        "id": "60993ca7"
      },
      "outputs": [],
      "source": [
        "def complex_logic(height):\n",
        "    if height < 150:\n",
        "        return \"S\"\n",
        "    elif height >= 150 and height < 180:\n",
        "        return \"M\"\n",
        "    elif height > 180:\n",
        "        return \"L\""
      ]
    },
    {
      "cell_type": "code",
      "execution_count": null,
      "metadata": {
        "id": "2bee8228",
        "colab": {
          "base_uri": "https://localhost:8080/"
        },
        "outputId": "4bc3f1e2-945e-436d-9287-af0ebbcbd657"
      },
      "outputs": [
        {
          "output_type": "execute_result",
          "data": {
            "text/plain": [
              "['S', 'M', 'L', 'M', 'L', 'M', 'M', 'M', 'L', 'S']"
            ]
          },
          "metadata": {},
          "execution_count": 19
        }
      ],
      "source": [
        "sizes = list(map(complex_logic, heights))\n",
        "sizes"
      ]
    },
    {
      "cell_type": "code",
      "execution_count": null,
      "metadata": {
        "id": "e7c5532f",
        "colab": {
          "base_uri": "https://localhost:8080/"
        },
        "outputId": "165be464-e6e1-4b6b-98c2-1b29cd1e7a01"
      },
      "outputs": [
        {
          "output_type": "execute_result",
          "data": {
            "text/plain": [
              "['S', 'M', 'L', 'M', 'L', 'M', 'M', 'M', 'L', 'S']"
            ]
          },
          "metadata": {},
          "execution_count": 20
        }
      ],
      "source": [
        "sizes_2 = list(map(lambda x: \"S\" if x < 150 else \"M\" if x >= 150 and x < 180 else \"L\", heights))\n",
        "sizes_2"
      ]
    },
    {
      "cell_type": "markdown",
      "source": [
        "#### Given two lists A and B having 1s and 0s, find another list with element at index `i` as `True` if `A[i] == B[i]` else False."
      ],
      "metadata": {
        "id": "HcXyXrAcj8iC"
      }
    },
    {
      "cell_type": "code",
      "execution_count": null,
      "metadata": {
        "id": "41104fe3"
      },
      "outputs": [],
      "source": [
        "A = [1,0,0,1,1,1,0,0,0,1,0,1]\n",
        "B = [0,0,1,1,0,1,1,1,0,0,0,0]\n",
        "\n",
        "# C = [True, True, False, ...]\n",
        "# If both A and B have same element, then C=True; else C=False."
      ]
    },
    {
      "cell_type": "code",
      "execution_count": null,
      "metadata": {
        "id": "38097de3",
        "colab": {
          "base_uri": "https://localhost:8080/"
        },
        "outputId": "39c5631c-be2b-405c-e5d6-29799440cedf"
      },
      "outputs": [
        {
          "output_type": "execute_result",
          "data": {
            "text/plain": [
              "[False, True, False, True, False, True, False, False, True, False, True, False]"
            ]
          },
          "metadata": {},
          "execution_count": 22
        }
      ],
      "source": [
        "C = list(map(lambda x, y: x==y, A, B))\n",
        "C"
      ]
    },
    {
      "cell_type": "markdown",
      "source": [
        "---"
      ],
      "metadata": {
        "id": "7YRMxgbLGL5z"
      }
    },
    {
      "cell_type": "markdown",
      "metadata": {
        "id": "83162e46"
      },
      "source": [
        "## Filter\n",
        "\n",
        "<img src=\"https://d2beiqkhq929f0.cloudfront.net/public_assets/assets/000/016/064/original/Screenshot_2022-10-11_at_11.14.51_AM.png?1665467068\">"
      ]
    },
    {
      "cell_type": "code",
      "execution_count": null,
      "metadata": {
        "id": "f6b27092",
        "outputId": "c2f5c740-fd32-48f9-932f-b6cbdb1c4683",
        "colab": {
          "base_uri": "https://localhost:8080/"
        }
      },
      "outputs": [
        {
          "output_type": "stream",
          "name": "stdout",
          "text": [
            "[1, 2, 3, 4, 5, 6, 7, 8, 9, 10]\n"
          ]
        }
      ],
      "source": [
        "a = list(range(1,11))\n",
        "\n",
        "print(a)"
      ]
    },
    {
      "cell_type": "code",
      "execution_count": null,
      "metadata": {
        "id": "9c19d8dd"
      },
      "outputs": [],
      "source": [
        "f = filter(lambda x: x%2 == 0, a)"
      ]
    },
    {
      "cell_type": "code",
      "execution_count": null,
      "metadata": {
        "id": "24fcea7f",
        "colab": {
          "base_uri": "https://localhost:8080/"
        },
        "outputId": "6b8a35e3-80f9-422f-b159-67a2fb1fe2f8"
      },
      "outputs": [
        {
          "output_type": "execute_result",
          "data": {
            "text/plain": [
              "[2, 4, 6, 8, 10]"
            ]
          },
          "metadata": {},
          "execution_count": 25
        }
      ],
      "source": [
        "f_list = list(f)\n",
        "\n",
        "f_list"
      ]
    },
    {
      "cell_type": "markdown",
      "source": [
        "---"
      ],
      "metadata": {
        "id": "g8k_q7JuGHpG"
      }
    },
    {
      "cell_type": "markdown",
      "metadata": {
        "id": "9c32123f"
      },
      "source": [
        "## Zip"
      ]
    },
    {
      "cell_type": "code",
      "execution_count": null,
      "metadata": {
        "id": "18fc3d39"
      },
      "outputs": [],
      "source": [
        "a = [1,2,3]\n",
        "b = [\"a\", \"b\", \"c\", \"d\", \"e\"]"
      ]
    },
    {
      "cell_type": "code",
      "execution_count": null,
      "metadata": {
        "id": "5a096cbe",
        "colab": {
          "base_uri": "https://localhost:8080/"
        },
        "outputId": "4bc27874-9efd-4116-ac38-91971b733898"
      },
      "outputs": [
        {
          "output_type": "execute_result",
          "data": {
            "text/plain": [
              "[('a', 1), ('b', 2), ('c', 3)]"
            ]
          },
          "metadata": {},
          "execution_count": 27
        }
      ],
      "source": [
        "result = list(zip(b,a))\n",
        "result"
      ]
    },
    {
      "cell_type": "code",
      "source": [
        "a = [1,2,3]\n",
        "b = [\"a\", \"b\", \"c\", \"d\", \"e\"]\n",
        "c = [\"x\", \"y\", \"z\", \"m\", \"n\"]"
      ],
      "metadata": {
        "id": "I-DpznCClj72"
      },
      "execution_count": null,
      "outputs": []
    },
    {
      "cell_type": "code",
      "source": [
        "result = list(zip(c, b,a))\n",
        "result"
      ],
      "metadata": {
        "id": "fb5CZ0mRllri",
        "colab": {
          "base_uri": "https://localhost:8080/"
        },
        "outputId": "92e5cb85-250c-48a7-9fad-565e6f762111"
      },
      "execution_count": null,
      "outputs": [
        {
          "output_type": "execute_result",
          "data": {
            "text/plain": [
              "[('x', 'a', 1), ('y', 'b', 2), ('z', 'c', 3)]"
            ]
          },
          "metadata": {},
          "execution_count": 29
        }
      ]
    },
    {
      "cell_type": "markdown",
      "source": [
        "---"
      ],
      "metadata": {
        "id": "fhV1Da_xGBtR"
      }
    },
    {
      "cell_type": "markdown",
      "metadata": {
        "id": "0590fa0f"
      },
      "source": [
        "## Reduce\n",
        "\n",
        "<img src=\"https://d2beiqkhq929f0.cloudfront.net/public_assets/assets/000/016/065/original/Screenshot_2022-10-11_at_11.16.30_AM.png?1665467168\">\n",
        "\n",
        "<img src=\"https://d2beiqkhq929f0.cloudfront.net/public_assets/assets/000/016/066/original/Screenshot_2022-10-11_at_11.16.52_AM.png?1665467200\">"
      ]
    },
    {
      "cell_type": "code",
      "execution_count": null,
      "metadata": {
        "id": "dd011eeb"
      },
      "outputs": [],
      "source": [
        "# This lines brings the reduce function into current code -\n",
        "\n",
        "from functools import reduce"
      ]
    },
    {
      "cell_type": "code",
      "execution_count": null,
      "metadata": {
        "id": "b630bf05"
      },
      "outputs": [],
      "source": [
        "a = [1,2,3,4,5]"
      ]
    },
    {
      "cell_type": "code",
      "execution_count": null,
      "metadata": {
        "id": "877db7d0",
        "colab": {
          "base_uri": "https://localhost:8080/"
        },
        "outputId": "a54986c5-56cd-470f-c647-c1749114141a"
      },
      "outputs": [
        {
          "output_type": "execute_result",
          "data": {
            "text/plain": [
              "15"
            ]
          },
          "metadata": {},
          "execution_count": 32
        }
      ],
      "source": [
        "result = reduce(lambda x, y: x + y, a)\n",
        "result"
      ]
    },
    {
      "cell_type": "code",
      "execution_count": null,
      "metadata": {
        "id": "7f1c1d3a"
      },
      "outputs": [],
      "source": [
        "a = list(range(1,11))\n",
        "b = list(reversed(a))"
      ]
    },
    {
      "cell_type": "code",
      "execution_count": null,
      "metadata": {
        "id": "443d5df3",
        "outputId": "cde1b2f5-ca49-4fff-899e-646a0a68b7f4",
        "colab": {
          "base_uri": "https://localhost:8080/"
        }
      },
      "outputs": [
        {
          "output_type": "execute_result",
          "data": {
            "text/plain": [
              "[1, 2, 3, 4, 5, 6, 7, 8, 9, 10]"
            ]
          },
          "metadata": {},
          "execution_count": 34
        }
      ],
      "source": [
        "a"
      ]
    },
    {
      "cell_type": "code",
      "execution_count": null,
      "metadata": {
        "id": "9a88d0f5",
        "outputId": "5e01eb08-5ac8-4288-8433-4f65e11462f7",
        "colab": {
          "base_uri": "https://localhost:8080/"
        }
      },
      "outputs": [
        {
          "output_type": "execute_result",
          "data": {
            "text/plain": [
              "[10, 9, 8, 7, 6, 5, 4, 3, 2, 1]"
            ]
          },
          "metadata": {},
          "execution_count": 35
        }
      ],
      "source": [
        "b"
      ]
    },
    {
      "cell_type": "code",
      "execution_count": null,
      "metadata": {
        "id": "708b739f",
        "outputId": "97811d42-02ab-4429-f2d0-eac131a69c3a",
        "colab": {
          "base_uri": "https://localhost:8080/"
        }
      },
      "outputs": [
        {
          "output_type": "stream",
          "name": "stdout",
          "text": [
            "True\n"
          ]
        }
      ],
      "source": [
        "print(reduce(lambda x,y: x*y, a) == reduce(lambda x,y: x*y, b))"
      ]
    },
    {
      "cell_type": "markdown",
      "source": [
        "#### Gives the element with maximum value from a given list of elements."
      ],
      "metadata": {
        "id": "B-hrCFTGepTU"
      }
    },
    {
      "cell_type": "code",
      "execution_count": null,
      "metadata": {
        "id": "dccca93a",
        "colab": {
          "base_uri": "https://localhost:8080/"
        },
        "outputId": "2fd49bfb-129e-44a1-9519-0ba1559276b4"
      },
      "outputs": [
        {
          "output_type": "execute_result",
          "data": {
            "text/plain": [
              "10"
            ]
          },
          "metadata": {},
          "execution_count": 5
        }
      ],
      "source": [
        "max_element = reduce(lambda x, y: x if x>y else y, a)\n",
        "max_element"
      ]
    },
    {
      "cell_type": "markdown",
      "source": [
        "#### Perform cumulative summation on the given list starting from an initial value 100."
      ],
      "metadata": {
        "id": "OmzEOrIieiMM"
      }
    },
    {
      "cell_type": "code",
      "execution_count": null,
      "metadata": {
        "id": "5d0a89b6",
        "outputId": "6a736f4c-ec19-48d7-c171-a0abca010ce4",
        "colab": {
          "base_uri": "https://localhost:8080/"
        }
      },
      "outputs": [
        {
          "output_type": "execute_result",
          "data": {
            "text/plain": [
              "155"
            ]
          },
          "metadata": {},
          "execution_count": 6
        }
      ],
      "source": [
        "a = list(range(1,11))\n",
        "\n",
        "reduce(lambda x, y: x + y, a, 100)"
      ]
    },
    {
      "cell_type": "markdown",
      "source": [
        "---"
      ],
      "metadata": {
        "id": "JqQq5BOhFvqk"
      }
    },
    {
      "cell_type": "markdown",
      "metadata": {
        "id": "4eca1676"
      },
      "source": [
        "## Args and Kwargs"
      ]
    },
    {
      "cell_type": "markdown",
      "source": [
        "#### Create a function that gives you the sum the input provided.\n",
        "\n",
        "A good summation function -\n",
        "- should take at least - 2 arguments\n",
        "- should take at max - infinite arguments"
      ],
      "metadata": {
        "id": "q-Nhf5hPptv5"
      }
    },
    {
      "cell_type": "code",
      "execution_count": null,
      "metadata": {
        "id": "2195604c"
      },
      "outputs": [],
      "source": [
        "def summation(x, y):\n",
        "    return x + y"
      ]
    },
    {
      "cell_type": "code",
      "execution_count": null,
      "metadata": {
        "id": "932e6e5e"
      },
      "outputs": [],
      "source": [
        "res = summation(6,7)\n",
        "res"
      ]
    },
    {
      "cell_type": "markdown",
      "source": [
        "> args are stored inside a `tuple`. </br>\n",
        "> kwargs are stored inside `dictionary` and these are keyword arguments."
      ],
      "metadata": {
        "id": "obz75f4qrdSI"
      }
    },
    {
      "cell_type": "code",
      "execution_count": null,
      "metadata": {
        "id": "c7da363b"
      },
      "outputs": [],
      "source": [
        "def summation(x, y, *args):\n",
        "    result = x + y\n",
        "    if args:\n",
        "        result += sum(args)\n",
        "\n",
        "    return result"
      ]
    },
    {
      "cell_type": "code",
      "execution_count": null,
      "metadata": {
        "id": "4a10d813",
        "outputId": "e9be23a9-7af8-4939-d21d-af450fe14bf9",
        "colab": {
          "base_uri": "https://localhost:8080/"
        }
      },
      "outputs": [
        {
          "output_type": "execute_result",
          "data": {
            "text/plain": [
              "126"
            ]
          },
          "metadata": {},
          "execution_count": 37
        }
      ],
      "source": [
        "summation(5,6,7,8,9,10,11,12,13,14,15,16)"
      ]
    },
    {
      "cell_type": "code",
      "execution_count": null,
      "metadata": {
        "id": "5305f8bd"
      },
      "outputs": [],
      "source": [
        "def create_person(name, age, gender):\n",
        "    Person = {\n",
        "        \"name\": name,\n",
        "        \"age\": age,\n",
        "        \"gender\": gender\n",
        "    }\n",
        "\n",
        "    return Person"
      ]
    },
    {
      "cell_type": "code",
      "execution_count": null,
      "metadata": {
        "id": "2df75967",
        "colab": {
          "base_uri": "https://localhost:8080/"
        },
        "outputId": "257c6331-f24e-4359-9523-e38731a9bfad"
      },
      "outputs": [
        {
          "output_type": "execute_result",
          "data": {
            "text/plain": [
              "{'name': 'Rohit', 'age': 1500, 'gender': 'Male'}"
            ]
          },
          "metadata": {},
          "execution_count": 43
        }
      ],
      "source": [
        "create_person(name = \"Rohit\", age = 1500, gender = \"Male\")"
      ]
    },
    {
      "cell_type": "code",
      "execution_count": null,
      "metadata": {
        "id": "536f1de3"
      },
      "outputs": [],
      "source": [
        "def create_person(name, age, gender, **extra_info):\n",
        "    Person = {\n",
        "        \"name\": name,\n",
        "        \"age\": age,\n",
        "        \"gender\": gender\n",
        "    }\n",
        "\n",
        "    if extra_info:\n",
        "        Person.update(extra_info)\n",
        "\n",
        "    return Person"
      ]
    },
    {
      "cell_type": "code",
      "execution_count": null,
      "metadata": {
        "id": "ef3c984e",
        "outputId": "d63294da-f903-4307-be8e-f76457fd6b5e",
        "colab": {
          "base_uri": "https://localhost:8080/"
        }
      },
      "outputs": [
        {
          "output_type": "execute_result",
          "data": {
            "text/plain": [
              "{'name': 'Rohit',\n",
              " 'age': 1500,\n",
              " 'gender': 'Male',\n",
              " 'color': 'blue',\n",
              " 'hobby': 'chess'}"
            ]
          },
          "metadata": {},
          "execution_count": 45
        }
      ],
      "source": [
        "create_person(name = \"Rohit\", age = 1500, gender = \"Male\", color = \"blue\", hobby = \"chess\")"
      ]
    },
    {
      "cell_type": "code",
      "execution_count": null,
      "metadata": {
        "id": "40dbc5e2"
      },
      "outputs": [],
      "source": [
        "def random(x, y, *args, **kwargs):\n",
        "    print(x)\n",
        "    print(args)\n",
        "    print(kwargs)"
      ]
    },
    {
      "cell_type": "code",
      "execution_count": null,
      "metadata": {
        "id": "1718a7e7",
        "outputId": "eaefa5f7-bdbb-4d2b-d6e9-3edc7c11cd0f",
        "colab": {
          "base_uri": "https://localhost:8080/",
          "height": 141
        }
      },
      "outputs": [
        {
          "output_type": "error",
          "ename": "SyntaxError",
          "evalue": "ignored",
          "traceback": [
            "\u001b[0;36m  File \u001b[0;32m\"<ipython-input-4-b223e418580d>\"\u001b[0;36m, line \u001b[0;32m1\u001b[0m\n\u001b[0;31m    random(1,2,4,5,6,m=1,n=2,o=3,8,9,0)\u001b[0m\n\u001b[0m                                      ^\u001b[0m\n\u001b[0;31mSyntaxError\u001b[0m\u001b[0;31m:\u001b[0m positional argument follows keyword argument\n"
          ]
        }
      ],
      "source": [
        "random(1,2,4,5,6,m=1,n=2,o=3,8,9,0)"
      ]
    },
    {
      "cell_type": "markdown",
      "source": [
        "#### Order of passing arguments -\n",
        "\n",
        "Positional -> Args -> Keyworded -> Kwargs"
      ],
      "metadata": {
        "id": "26Ir96DMsP6R"
      }
    },
    {
      "cell_type": "code",
      "execution_count": null,
      "metadata": {
        "id": "f3a33c7d",
        "outputId": "fa175b40-60ae-4afb-cdb7-03772220e219",
        "colab": {
          "base_uri": "https://localhost:8080/"
        }
      },
      "outputs": [
        {
          "output_type": "stream",
          "name": "stdout",
          "text": [
            "2\n",
            "(2, 3)\n",
            "{'z': 1}\n"
          ]
        }
      ],
      "source": [
        "random(2,1,2,3,z=1)"
      ]
    },
    {
      "cell_type": "code",
      "execution_count": null,
      "metadata": {
        "id": "00fe0aad",
        "outputId": "714c0e56-6674-44d7-9f84-994b0c299f2c",
        "colab": {
          "base_uri": "https://localhost:8080/"
        }
      },
      "outputs": [
        {
          "output_type": "stream",
          "name": "stdout",
          "text": [
            "1\n",
            "()\n",
            "{}\n"
          ]
        }
      ],
      "source": [
        "random(1,y=2)"
      ]
    },
    {
      "cell_type": "markdown",
      "source": [
        "---"
      ],
      "metadata": {
        "id": "8WFzQFgmFhsW"
      }
    },
    {
      "cell_type": "markdown",
      "source": [
        "---"
      ],
      "metadata": {
        "id": "tjsVgXYYFbpW"
      }
    }
  ]
}