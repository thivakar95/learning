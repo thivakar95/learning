{
  "nbformat": 4,
  "nbformat_minor": 0,
  "metadata": {
    "colab": {
      "provenance": []
    },
    "kernelspec": {
      "name": "python3",
      "display_name": "Python 3"
    },
    "language_info": {
      "name": "python"
    }
  },
  "cells": [
    {
      "cell_type": "code",
      "execution_count": 1,
      "metadata": {
        "id": "Koaxnqtq8AkH"
      },
      "outputs": [],
      "source": [
        "import requests"
      ]
    },
    {
      "cell_type": "code",
      "source": [
        "res = requests.get(\"https://d2beiqkhq929f0.cloudfront.net/public_assets/assets/000/019/918/original/sample.jpeg\")\n",
        "with open(\"sample.jpeg\", \"wb\") as img:\n",
        "  img.write(res.content)"
      ],
      "metadata": {
        "id": "REq3FFHH88w-"
      },
      "execution_count": 2,
      "outputs": []
    },
    {
      "cell_type": "code",
      "source": [
        "import sys\n",
        "sys.getdefaultencoding()"
      ],
      "metadata": {
        "colab": {
          "base_uri": "https://localhost:8080/",
          "height": 35
        },
        "id": "SztylqbH8-sQ",
        "outputId": "cd3797db-8cb7-4a00-b5cb-4be826815efe"
      },
      "execution_count": 3,
      "outputs": [
        {
          "output_type": "execute_result",
          "data": {
            "text/plain": [
              "'utf-8'"
            ],
            "application/vnd.google.colaboratory.intrinsic+json": {
              "type": "string"
            }
          },
          "metadata": {},
          "execution_count": 3
        }
      ]
    },
    {
      "cell_type": "code",
      "source": [
        "## get the ascii decimal code for any character/symbol\n",
        "\n",
        "char=\"a\"\n",
        "ord(char)"
      ],
      "metadata": {
        "colab": {
          "base_uri": "https://localhost:8080/"
        },
        "id": "czHwB0CNCbae",
        "outputId": "3789803d-2b4e-4c62-bb82-e3bcd70b99a3"
      },
      "execution_count": 4,
      "outputs": [
        {
          "output_type": "execute_result",
          "data": {
            "text/plain": [
              "97"
            ]
          },
          "metadata": {},
          "execution_count": 4
        }
      ]
    },
    {
      "cell_type": "code",
      "source": [
        "file=open(\"sample.txt\",'r')"
      ],
      "metadata": {
        "colab": {
          "base_uri": "https://localhost:8080/",
          "height": 141
        },
        "id": "zvdSM5PSClO5",
        "outputId": "69ad73fe-060a-4864-9749-f2f3ed5fbe82"
      },
      "execution_count": 5,
      "outputs": [
        {
          "output_type": "error",
          "ename": "FileNotFoundError",
          "evalue": "[Errno 2] No such file or directory: 'sample.txt'",
          "traceback": [
            "\u001b[0;31m---------------------------------------------------------------------------\u001b[0m",
            "\u001b[0;31mFileNotFoundError\u001b[0m                         Traceback (most recent call last)",
            "\u001b[0;32m<ipython-input-5-9f3e9ba6eaa7>\u001b[0m in \u001b[0;36m<cell line: 1>\u001b[0;34m()\u001b[0m\n\u001b[0;32m----> 1\u001b[0;31m \u001b[0mfile\u001b[0m\u001b[0;34m=\u001b[0m\u001b[0mopen\u001b[0m\u001b[0;34m(\u001b[0m\u001b[0;34m\"sample.txt\"\u001b[0m\u001b[0;34m,\u001b[0m\u001b[0;34m'r'\u001b[0m\u001b[0;34m)\u001b[0m\u001b[0;34m\u001b[0m\u001b[0;34m\u001b[0m\u001b[0m\n\u001b[0m",
            "\u001b[0;31mFileNotFoundError\u001b[0m: [Errno 2] No such file or directory: 'sample.txt'"
          ]
        }
      ]
    },
    {
      "cell_type": "code",
      "source": [
        "file=open(\"sample.txt\",'w')"
      ],
      "metadata": {
        "id": "23xZ9zktG10Z"
      },
      "execution_count": 6,
      "outputs": []
    },
    {
      "cell_type": "code",
      "source": [
        "## after the work is done\n",
        "## always close the file\n",
        "\n",
        "file.close()"
      ],
      "metadata": {
        "id": "qfxdXWe5G5X6"
      },
      "execution_count": null,
      "outputs": []
    },
    {
      "cell_type": "code",
      "source": [
        "## write and read\n",
        "file=open(\"sample.txt\",'w+')"
      ],
      "metadata": {
        "id": "LYG6v_d8H-Ut"
      },
      "execution_count": null,
      "outputs": []
    },
    {
      "cell_type": "code",
      "source": [
        "file.write(\"Hello this is new\")"
      ],
      "metadata": {
        "colab": {
          "base_uri": "https://localhost:8080/"
        },
        "id": "ir79FL6rID48",
        "outputId": "1fd97521-2f33-4513-9759-2519eab9e8d1"
      },
      "execution_count": 7,
      "outputs": [
        {
          "output_type": "execute_result",
          "data": {
            "text/plain": [
              "17"
            ]
          },
          "metadata": {},
          "execution_count": 7
        }
      ]
    },
    {
      "cell_type": "code",
      "source": [
        "file.close()"
      ],
      "metadata": {
        "id": "4onsrOw0ID11"
      },
      "execution_count": 8,
      "outputs": []
    },
    {
      "cell_type": "code",
      "source": [
        "file=open(\"sample.py\",'w+')\n",
        "file.write('import math')\n",
        "file.close()"
      ],
      "metadata": {
        "id": "Fnbue2h3IDy9"
      },
      "execution_count": 9,
      "outputs": []
    },
    {
      "cell_type": "code",
      "source": [
        "## how to add more then 1 line\n",
        "file=open(\"sample.txt\",'w+')\n",
        "file.write(\"\"\"\n",
        "Line 1\n",
        "Line 2\n",
        "\"\"\")\n",
        "file.close()"
      ],
      "metadata": {
        "id": "SyiZKuz8IDhS"
      },
      "execution_count": 10,
      "outputs": []
    },
    {
      "cell_type": "code",
      "source": [
        "a=[1,2,3,4,5,6]\n",
        "### write lines dont add a newline character by default\n",
        "file=open(\"sample.txt\",'w+')\n",
        "file.writelines(['1\\n','2\\n','3\\n','4\\n','5\\n'])\n",
        "file.close()"
      ],
      "metadata": {
        "id": "6I2GQkDBI2L1"
      },
      "execution_count": 12,
      "outputs": []
    },
    {
      "cell_type": "code",
      "source": [
        "##3 we use append if we dont want oto overwrite the existing content\n",
        "\n",
        "### write lines dont add a newline character by default\n",
        "file=open(\"sample.txt\",'a+')\n",
        "file.writelines(['new data\\n'])\n",
        "file.close()"
      ],
      "metadata": {
        "id": "K4N7w2u6JKSL"
      },
      "execution_count": 13,
      "outputs": []
    },
    {
      "cell_type": "code",
      "source": [
        "file=open(\"sample.txt\",'r')"
      ],
      "metadata": {
        "id": "rpvoTWNmJsN3"
      },
      "execution_count": 14,
      "outputs": []
    },
    {
      "cell_type": "code",
      "source": [
        "## will read the entire file in a go\n",
        "file.read()\n",
        "\n",
        "## file reading in python is a cursor based command"
      ],
      "metadata": {
        "colab": {
          "base_uri": "https://localhost:8080/",
          "height": 35
        },
        "id": "ilVQ3vpLJ2bH",
        "outputId": "44b6f7b5-b80e-450c-c548-79ca466bb18a"
      },
      "execution_count": 15,
      "outputs": [
        {
          "output_type": "execute_result",
          "data": {
            "text/plain": [
              "'1\\n2\\n3\\n4\\n5\\nnew data\\n'"
            ],
            "application/vnd.google.colaboratory.intrinsic+json": {
              "type": "string"
            }
          },
          "metadata": {},
          "execution_count": 15
        }
      ]
    },
    {
      "cell_type": "code",
      "source": [
        "## you cannot read the same content again by default\n",
        "## as the cursor has moved\n",
        "file.read()"
      ],
      "metadata": {
        "colab": {
          "base_uri": "https://localhost:8080/",
          "height": 35
        },
        "id": "6W1gEkzBJ5iQ",
        "outputId": "79147b77-d42f-411c-dcf0-379329cb1499"
      },
      "execution_count": 16,
      "outputs": [
        {
          "output_type": "execute_result",
          "data": {
            "text/plain": [
              "''"
            ],
            "application/vnd.google.colaboratory.intrinsic+json": {
              "type": "string"
            }
          },
          "metadata": {},
          "execution_count": 16
        }
      ]
    },
    {
      "cell_type": "code",
      "source": [
        "file.close()"
      ],
      "metadata": {
        "id": "-e-qAfbhKNLa"
      },
      "execution_count": 17,
      "outputs": []
    },
    {
      "cell_type": "code",
      "source": [
        "file=open(\"sample.txt\",'r')\n",
        "file.read()\n",
        "file.close()"
      ],
      "metadata": {
        "id": "CDL3ubJjKW_-"
      },
      "execution_count": 19,
      "outputs": []
    },
    {
      "cell_type": "code",
      "source": [
        "## can we read the content line by line\n",
        "file=open(\"sample.txt\",'r')"
      ],
      "metadata": {
        "id": "UJeFyJPlKZXh"
      },
      "execution_count": 20,
      "outputs": []
    },
    {
      "cell_type": "code",
      "source": [
        "file.readline()"
      ],
      "metadata": {
        "colab": {
          "base_uri": "https://localhost:8080/",
          "height": 35
        },
        "id": "mX0HUC4HKvMt",
        "outputId": "b7829091-2208-47c9-c6ce-b153a2b4d3de"
      },
      "execution_count": 21,
      "outputs": [
        {
          "output_type": "execute_result",
          "data": {
            "text/plain": [
              "'1\\n'"
            ],
            "application/vnd.google.colaboratory.intrinsic+json": {
              "type": "string"
            }
          },
          "metadata": {},
          "execution_count": 21
        }
      ]
    },
    {
      "cell_type": "code",
      "source": [
        "file.readline()"
      ],
      "metadata": {
        "colab": {
          "base_uri": "https://localhost:8080/",
          "height": 35
        },
        "id": "I38lG7HBKxW0",
        "outputId": "a037bd55-4d10-45cf-da4e-bed4d24e4cd8"
      },
      "execution_count": 22,
      "outputs": [
        {
          "output_type": "execute_result",
          "data": {
            "text/plain": [
              "'2\\n'"
            ],
            "application/vnd.google.colaboratory.intrinsic+json": {
              "type": "string"
            }
          },
          "metadata": {},
          "execution_count": 22
        }
      ]
    },
    {
      "cell_type": "code",
      "source": [
        "file.readline()"
      ],
      "metadata": {
        "colab": {
          "base_uri": "https://localhost:8080/",
          "height": 35
        },
        "id": "J82SksniKy6S",
        "outputId": "aa23e433-3ee3-4591-eae1-a8906503e00f"
      },
      "execution_count": 23,
      "outputs": [
        {
          "output_type": "execute_result",
          "data": {
            "text/plain": [
              "'3\\n'"
            ],
            "application/vnd.google.colaboratory.intrinsic+json": {
              "type": "string"
            }
          },
          "metadata": {},
          "execution_count": 23
        }
      ]
    },
    {
      "cell_type": "code",
      "source": [
        "file.readline()"
      ],
      "metadata": {
        "colab": {
          "base_uri": "https://localhost:8080/",
          "height": 35
        },
        "id": "5UeVVBnuKz9F",
        "outputId": "e3500270-f92c-4ea5-b10a-c0f65bfe3a40"
      },
      "execution_count": 24,
      "outputs": [
        {
          "output_type": "execute_result",
          "data": {
            "text/plain": [
              "'4\\n'"
            ],
            "application/vnd.google.colaboratory.intrinsic+json": {
              "type": "string"
            }
          },
          "metadata": {},
          "execution_count": 24
        }
      ]
    },
    {
      "cell_type": "code",
      "source": [
        "file.readline()"
      ],
      "metadata": {
        "colab": {
          "base_uri": "https://localhost:8080/",
          "height": 35
        },
        "id": "DdJ5biThK0o6",
        "outputId": "93d034be-34ba-4632-adf6-f00f1ee432b7"
      },
      "execution_count": 25,
      "outputs": [
        {
          "output_type": "execute_result",
          "data": {
            "text/plain": [
              "'5\\n'"
            ],
            "application/vnd.google.colaboratory.intrinsic+json": {
              "type": "string"
            }
          },
          "metadata": {},
          "execution_count": 25
        }
      ]
    },
    {
      "cell_type": "code",
      "source": [
        "file.readline()"
      ],
      "metadata": {
        "colab": {
          "base_uri": "https://localhost:8080/",
          "height": 35
        },
        "id": "MuVQLq5VK1J2",
        "outputId": "5a1ce313-8b48-4957-888f-de0fdf6bbba8"
      },
      "execution_count": 26,
      "outputs": [
        {
          "output_type": "execute_result",
          "data": {
            "text/plain": [
              "'new data\\n'"
            ],
            "application/vnd.google.colaboratory.intrinsic+json": {
              "type": "string"
            }
          },
          "metadata": {},
          "execution_count": 26
        }
      ]
    },
    {
      "cell_type": "code",
      "source": [
        "file.readline()"
      ],
      "metadata": {
        "colab": {
          "base_uri": "https://localhost:8080/",
          "height": 35
        },
        "id": "BXxt1Ts4K1y9",
        "outputId": "96683e59-efc3-4630-9e8f-efdb169e1414"
      },
      "execution_count": 31,
      "outputs": [
        {
          "output_type": "execute_result",
          "data": {
            "text/plain": [
              "''"
            ],
            "application/vnd.google.colaboratory.intrinsic+json": {
              "type": "string"
            }
          },
          "metadata": {},
          "execution_count": 31
        }
      ]
    },
    {
      "cell_type": "code",
      "source": [
        "file.close()"
      ],
      "metadata": {
        "id": "Vs4u4i3RK2nr"
      },
      "execution_count": 32,
      "outputs": []
    },
    {
      "cell_type": "code",
      "source": [
        "## read all lines at a go buit store them seperately\n",
        "file=open(\"sample.txt\",'r')\n",
        "file.readlines()\n"
      ],
      "metadata": {
        "colab": {
          "base_uri": "https://localhost:8080/"
        },
        "id": "22imhxdYK_Sd",
        "outputId": "2f08458b-a744-4e82-e524-643c0a76ad52"
      },
      "execution_count": 33,
      "outputs": [
        {
          "output_type": "execute_result",
          "data": {
            "text/plain": [
              "['1\\n', '2\\n', '3\\n', '4\\n', '5\\n', 'new data\\n']"
            ]
          },
          "metadata": {},
          "execution_count": 33
        }
      ]
    },
    {
      "cell_type": "code",
      "source": [
        "file.close()"
      ],
      "metadata": {
        "id": "JsiLNO8wLLLK"
      },
      "execution_count": 34,
      "outputs": []
    },
    {
      "cell_type": "code",
      "source": [
        "file=open(\"sample.txt\",'r')\n",
        "a=file.readlines()\n",
        "file.close()\n"
      ],
      "metadata": {
        "id": "tnRlML9oLRYV"
      },
      "execution_count": 36,
      "outputs": []
    },
    {
      "cell_type": "code",
      "source": [
        "## for smaller files:\n",
        "\n",
        "\n",
        "## we directly use readlines()\n",
        "\n",
        "file=open(\"sample.txt\",\"r+\")\n",
        "for line in file.readlines():\n",
        "  print(line,end=\"\")\n",
        "\n",
        "file.close()\n"
      ],
      "metadata": {
        "id": "69jwFRZmLUZZ"
      },
      "execution_count": 38,
      "outputs": []
    },
    {
      "cell_type": "code",
      "source": [
        "## if the file is very large:\n",
        "## to read aline by line and opearate 1 line at a time\n",
        "\n",
        "file=open(\"sample.txt\",\"r+\")\n",
        "\n",
        "buffer=file.readline()\n",
        "while buffer:\n",
        "  print(buffer)\n",
        "  buffer=file.readline()\n",
        "file.close()"
      ],
      "metadata": {
        "colab": {
          "base_uri": "https://localhost:8080/"
        },
        "id": "l0CZCS-iL_Ma",
        "outputId": "5c11362f-6b98-4968-cbec-438b81816e32"
      },
      "execution_count": 39,
      "outputs": [
        {
          "output_type": "stream",
          "name": "stdout",
          "text": [
            "1\n",
            "\n",
            "2\n",
            "\n",
            "3\n",
            "\n",
            "4\n",
            "\n",
            "5\n",
            "\n",
            "new data\n",
            "\n"
          ]
        }
      ]
    },
    {
      "cell_type": "code",
      "source": [
        "## using custom chunck sizes rather then lines to read a part of file\n",
        "file=open(\"sample.txt\",\"r+\")\n",
        "\n",
        "buffer=file.read(5)\n",
        "while buffer:\n",
        "  print(buffer)\n",
        "  buffer=file.read(5)\n",
        "file.close()"
      ],
      "metadata": {
        "colab": {
          "base_uri": "https://localhost:8080/"
        },
        "id": "Zpfhg2XBO2P_",
        "outputId": "9cf019b0-c27c-49b6-8449-3f7c455da37c"
      },
      "execution_count": 40,
      "outputs": [
        {
          "output_type": "stream",
          "name": "stdout",
          "text": [
            "1\n",
            "2\n",
            "3\n",
            "\n",
            "4\n",
            "5\n",
            "\n",
            "new d\n",
            "ata\n",
            "\n"
          ]
        }
      ]
    },
    {
      "cell_type": "code",
      "source": [
        "file = open(\"demo.txt\", \"a\")\n",
        "file.write(\"Hello, World!\")\n",
        "file.close()"
      ],
      "metadata": {
        "id": "0tGwbwixPfpd"
      },
      "execution_count": null,
      "outputs": []
    },
    {
      "cell_type": "code",
      "source": [
        "## by default we use the system default encoding-> utf-8"
      ],
      "metadata": {
        "id": "hUo3KcBUQf1B"
      },
      "execution_count": null,
      "outputs": []
    },
    {
      "cell_type": "code",
      "source": [
        "### reading binary rather then encoded values\n",
        "source=open(\"sample.jpeg\",\"rb+\")\n",
        "destination=open(\"sample2.jpeg\",\"wb+\")"
      ],
      "metadata": {
        "id": "cXVb7HY0Qf33"
      },
      "execution_count": 42,
      "outputs": []
    },
    {
      "cell_type": "code",
      "source": [
        "buffer=source.read(256)\n",
        "while buffer:\n",
        "  destination.write(buffer)\n",
        "  buffer=source.read(256)\n",
        "source.close()\n",
        "destination.close()"
      ],
      "metadata": {
        "id": "K8hSgGNXQf7Q"
      },
      "execution_count": 43,
      "outputs": []
    },
    {
      "cell_type": "code",
      "source": [
        "file=open(\"sample.txt\",\"r+\")\n",
        "file.read(15)"
      ],
      "metadata": {
        "colab": {
          "base_uri": "https://localhost:8080/",
          "height": 35
        },
        "id": "JEIMEjewSL8k",
        "outputId": "062867ed-9495-4caa-fde1-65d055da196c"
      },
      "execution_count": 44,
      "outputs": [
        {
          "output_type": "execute_result",
          "data": {
            "text/plain": [
              "'1\\n2\\n3\\n4\\n5\\nnew d'"
            ],
            "application/vnd.google.colaboratory.intrinsic+json": {
              "type": "string"
            }
          },
          "metadata": {},
          "execution_count": 44
        }
      ]
    },
    {
      "cell_type": "code",
      "source": [
        "file.read(15)"
      ],
      "metadata": {
        "colab": {
          "base_uri": "https://localhost:8080/",
          "height": 35
        },
        "id": "_w-ZU3CBTlcZ",
        "outputId": "d84c8fdc-9cb2-415e-b47e-3017afa98a6b"
      },
      "execution_count": 45,
      "outputs": [
        {
          "output_type": "execute_result",
          "data": {
            "text/plain": [
              "'ata\\n'"
            ],
            "application/vnd.google.colaboratory.intrinsic+json": {
              "type": "string"
            }
          },
          "metadata": {},
          "execution_count": 45
        }
      ]
    },
    {
      "cell_type": "code",
      "source": [
        "## moving the cursor\n",
        "\n",
        "file.seek(0)\n",
        "file.read(15)"
      ],
      "metadata": {
        "colab": {
          "base_uri": "https://localhost:8080/",
          "height": 35
        },
        "id": "UYvxTtkRTqEo",
        "outputId": "efad494a-4496-46aa-e4b5-40a7662c374d"
      },
      "execution_count": 47,
      "outputs": [
        {
          "output_type": "execute_result",
          "data": {
            "text/plain": [
              "'1\\n2\\n3\\n4\\n5\\nnew d'"
            ],
            "application/vnd.google.colaboratory.intrinsic+json": {
              "type": "string"
            }
          },
          "metadata": {},
          "execution_count": 47
        }
      ]
    },
    {
      "cell_type": "code",
      "source": [
        "file.close()"
      ],
      "metadata": {
        "id": "6Tt2_JzJTxr-"
      },
      "execution_count": 48,
      "outputs": []
    },
    {
      "cell_type": "code",
      "source": [
        "file.seek(3)"
      ],
      "metadata": {
        "colab": {
          "base_uri": "https://localhost:8080/",
          "height": 141
        },
        "id": "2xRMf3TxUDXc",
        "outputId": "4b7826e3-9f2b-439e-b834-782c2b96f163"
      },
      "execution_count": 49,
      "outputs": [
        {
          "output_type": "error",
          "ename": "ValueError",
          "evalue": "I/O operation on closed file.",
          "traceback": [
            "\u001b[0;31m---------------------------------------------------------------------------\u001b[0m",
            "\u001b[0;31mValueError\u001b[0m                                Traceback (most recent call last)",
            "\u001b[0;32m<ipython-input-49-42aac98aa147>\u001b[0m in \u001b[0;36m<cell line: 1>\u001b[0;34m()\u001b[0m\n\u001b[0;32m----> 1\u001b[0;31m \u001b[0mfile\u001b[0m\u001b[0;34m.\u001b[0m\u001b[0mseek\u001b[0m\u001b[0;34m(\u001b[0m\u001b[0;36m3\u001b[0m\u001b[0;34m)\u001b[0m\u001b[0;34m\u001b[0m\u001b[0;34m\u001b[0m\u001b[0m\n\u001b[0m",
            "\u001b[0;31mValueError\u001b[0m: I/O operation on closed file."
          ]
        }
      ]
    },
    {
      "cell_type": "code",
      "source": [
        "##3 you can avoid manually closing the file by using with command\n",
        "\n",
        "\n",
        "# file.open()\n",
        "# file.read()\n",
        "# file.close()\n",
        "\n",
        "\n",
        "with open(\"sample.txt\",\"r+\") as file:\n",
        "  print(file.read(10))\n",
        "  file.seek(0)\n",
        "  print(file.read())\n",
        "\n",
        "file.read()"
      ],
      "metadata": {
        "colab": {
          "base_uri": "https://localhost:8080/",
          "height": 402
        },
        "id": "6DM8ViquUGJQ",
        "outputId": "a1e0d8ba-502f-4d4b-d4bc-6ab5b2ef92d8"
      },
      "execution_count": 54,
      "outputs": [
        {
          "output_type": "stream",
          "name": "stdout",
          "text": [
            "1\n",
            "2\n",
            "3\n",
            "4\n",
            "5\n",
            "\n",
            "1\n",
            "2\n",
            "3\n",
            "4\n",
            "5\n",
            "new data\n",
            "\n"
          ]
        },
        {
          "output_type": "error",
          "ename": "ValueError",
          "evalue": "I/O operation on closed file.",
          "traceback": [
            "\u001b[0;31m---------------------------------------------------------------------------\u001b[0m",
            "\u001b[0;31mValueError\u001b[0m                                Traceback (most recent call last)",
            "\u001b[0;32m<ipython-input-54-f857f0465a11>\u001b[0m in \u001b[0;36m<cell line: 14>\u001b[0;34m()\u001b[0m\n\u001b[1;32m     12\u001b[0m   \u001b[0mprint\u001b[0m\u001b[0;34m(\u001b[0m\u001b[0mfile\u001b[0m\u001b[0;34m.\u001b[0m\u001b[0mread\u001b[0m\u001b[0;34m(\u001b[0m\u001b[0;34m)\u001b[0m\u001b[0;34m)\u001b[0m\u001b[0;34m\u001b[0m\u001b[0;34m\u001b[0m\u001b[0m\n\u001b[1;32m     13\u001b[0m \u001b[0;34m\u001b[0m\u001b[0m\n\u001b[0;32m---> 14\u001b[0;31m \u001b[0mfile\u001b[0m\u001b[0;34m.\u001b[0m\u001b[0mread\u001b[0m\u001b[0;34m(\u001b[0m\u001b[0;34m)\u001b[0m\u001b[0;34m\u001b[0m\u001b[0;34m\u001b[0m\u001b[0m\n\u001b[0m",
            "\u001b[0;31mValueError\u001b[0m: I/O operation on closed file."
          ]
        }
      ]
    },
    {
      "cell_type": "code",
      "source": [
        "\n",
        "\n",
        "\n",
        "##\n",
        "file=open(\"sample.txt\",\"w\")\n",
        "file.write(\"hello\")\n",
        "file.close()\n",
        "\n",
        "## hello"
      ],
      "metadata": {
        "id": "WTPJ8l9TUqKJ"
      },
      "execution_count": 55,
      "outputs": []
    },
    {
      "cell_type": "code",
      "source": [
        "file=open(\"sample.txt\",\"w\")\n",
        "file.write(\"bye\")\n",
        "file.close()\n",
        "\n",
        "## bye"
      ],
      "metadata": {
        "id": "pznNjbcLVtZ2"
      },
      "execution_count": 56,
      "outputs": []
    },
    {
      "cell_type": "code",
      "source": [
        "file=open(\"sample.txt\",\"r\")\n",
        "file.read()\n",
        "file.close()\n",
        "\n",
        "##bye"
      ],
      "metadata": {
        "id": "0ou1cicBVydx"
      },
      "execution_count": 57,
      "outputs": []
    },
    {
      "cell_type": "code",
      "source": [
        "file=open(\"sample.txt\",\"r+\")\n",
        "file.write(\"read + write\")\n",
        "print(file.read())\n",
        "file.close()\n",
        "\n",
        "## nothing is printed\n",
        "## final value- > read + write"
      ],
      "metadata": {
        "colab": {
          "base_uri": "https://localhost:8080/"
        },
        "id": "ivVvciEvV6fm",
        "outputId": "1ddde403-18f3-40e3-e905-c9c9bb97ee4e"
      },
      "execution_count": 58,
      "outputs": [
        {
          "output_type": "stream",
          "name": "stdout",
          "text": [
            "\n"
          ]
        }
      ]
    },
    {
      "cell_type": "code",
      "source": [
        "file=open(\"sample.txt\",\"r+\")\n",
        "print(file.read())\n",
        "file.write(\"read then write\")\n",
        "file.close()\n",
        "## print-> read + write\n",
        "## final content -> read + writeread then write"
      ],
      "metadata": {
        "colab": {
          "base_uri": "https://localhost:8080/"
        },
        "id": "HOeBc3YmWG_C",
        "outputId": "d9011787-30af-4143-e35a-59171ad52c98"
      },
      "execution_count": 59,
      "outputs": [
        {
          "output_type": "stream",
          "name": "stdout",
          "text": [
            "read + write\n"
          ]
        }
      ]
    },
    {
      "cell_type": "code",
      "source": [
        "file=open(\"sample.txt\",\"r+\")\n",
        "file.write(\"LS\")\n",
        "file.close()"
      ],
      "metadata": {
        "id": "C8DV-kbmWcQ0"
      },
      "execution_count": 60,
      "outputs": []
    },
    {
      "cell_type": "code",
      "source": [
        "1 & 0\n",
        "\n",
        "\n",
        "0-> false\n",
        "1-> true\n",
        "\n",
        "\n",
        "1 & 1. => and operator -> 1\n",
        "\n",
        "1 | 0 -> or operator -> 1\n",
        "\n",
        "~1 NOT operator -> False\n",
        "\n",
        "101 | 111"
      ],
      "metadata": {
        "id": "j_FfvdG8Wz5h"
      },
      "execution_count": null,
      "outputs": []
    },
    {
      "cell_type": "code",
      "source": [
        "101 | 111"
      ],
      "metadata": {
        "colab": {
          "base_uri": "https://localhost:8080/"
        },
        "id": "h5SfxV9cYav0",
        "outputId": "2330f9d0-99e3-4b13-fab5-124cc0dfa92c"
      },
      "execution_count": 61,
      "outputs": [
        {
          "output_type": "execute_result",
          "data": {
            "text/plain": [
              "111"
            ]
          },
          "metadata": {},
          "execution_count": 61
        }
      ]
    },
    {
      "cell_type": "code",
      "source": [
        "101 & 111"
      ],
      "metadata": {
        "colab": {
          "base_uri": "https://localhost:8080/"
        },
        "id": "gHka04MQYbPV",
        "outputId": "022cf6d6-e4b5-46ba-c590-5afab1a4b02c"
      },
      "execution_count": 62,
      "outputs": [
        {
          "output_type": "execute_result",
          "data": {
            "text/plain": [
              "101"
            ]
          },
          "metadata": {},
          "execution_count": 62
        }
      ]
    },
    {
      "cell_type": "code",
      "source": [
        "101 & 11"
      ],
      "metadata": {
        "colab": {
          "base_uri": "https://localhost:8080/"
        },
        "id": "vhLQfJjXYkLP",
        "outputId": "ed709356-ff38-43d5-f0e2-26a854aa5017"
      },
      "execution_count": 63,
      "outputs": [
        {
          "output_type": "execute_result",
          "data": {
            "text/plain": [
              "1"
            ]
          },
          "metadata": {},
          "execution_count": 63
        }
      ]
    },
    {
      "cell_type": "code",
      "source": [
        "### bitwise shift\n",
        "10 -> 1010\n",
        "1-> 1"
      ],
      "metadata": {
        "colab": {
          "base_uri": "https://localhost:8080/"
        },
        "id": "N8G3nrGjYrlU",
        "outputId": "72c8a418-d6e0-49e2-b085-bbf6147b0729"
      },
      "execution_count": 65,
      "outputs": [
        {
          "output_type": "execute_result",
          "data": {
            "text/plain": [
              "555500"
            ]
          },
          "metadata": {},
          "execution_count": 65
        }
      ]
    },
    {
      "cell_type": "code",
      "source": [
        "10>>1"
      ],
      "metadata": {
        "colab": {
          "base_uri": "https://localhost:8080/"
        },
        "id": "elrz_3WoY-yE",
        "outputId": "2091b069-e28a-419e-da5b-07ad8bb9265f"
      },
      "execution_count": 66,
      "outputs": [
        {
          "output_type": "execute_result",
          "data": {
            "text/plain": [
              "5"
            ]
          },
          "metadata": {},
          "execution_count": 66
        }
      ]
    },
    {
      "cell_type": "code",
      "source": [
        "10<<1"
      ],
      "metadata": {
        "colab": {
          "base_uri": "https://localhost:8080/"
        },
        "id": "hhttKqfIZQVO",
        "outputId": "0976463d-57d6-42a5-8aef-4ee026bc281d"
      },
      "execution_count": 68,
      "outputs": [
        {
          "output_type": "execute_result",
          "data": {
            "text/plain": [
              "20"
            ]
          },
          "metadata": {},
          "execution_count": 68
        }
      ]
    },
    {
      "cell_type": "code",
      "source": [
        "10100"
      ],
      "metadata": {
        "id": "PhdTpWV_ZYMf"
      },
      "execution_count": null,
      "outputs": []
    },
    {
      "cell_type": "code",
      "source": [
        "1<<10\n",
        "\n",
        "1000000000"
      ],
      "metadata": {
        "id": "ajWYk0_EZz2A"
      },
      "execution_count": null,
      "outputs": []
    },
    {
      "cell_type": "code",
      "source": [
        "# 1 + 0.1x is different\n",
        "# from 1.1x in terms of\n",
        "# precision....can you please explain\n",
        "\n",
        "\n"
      ],
      "metadata": {
        "id": "ZicqQpFnaEf8"
      },
      "execution_count": null,
      "outputs": []
    }
  ]
}