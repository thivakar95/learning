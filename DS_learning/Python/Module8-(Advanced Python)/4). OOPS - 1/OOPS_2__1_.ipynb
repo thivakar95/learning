{
  "nbformat": 4,
  "nbformat_minor": 0,
  "metadata": {
    "colab": {
      "provenance": []
    },
    "kernelspec": {
      "name": "python3",
      "display_name": "Python 3"
    },
    "language_info": {
      "name": "python"
    }
  },
  "cells": [
    {
      "cell_type": "code",
      "execution_count": 1,
      "metadata": {
        "id": "keMXZ5NXkofP"
      },
      "outputs": [],
      "source": [
        "class A:\n",
        "  pass\n",
        "\n",
        "a1=A()"
      ]
    },
    {
      "cell_type": "code",
      "source": [
        "## Class variables -> shared across all instance\n",
        "class A:\n",
        "  var1=\"Value1\"\n",
        "\n",
        "\n",
        "a1=A()\n",
        "\n",
        "## instance variable-> only for given instance\n",
        "\n",
        "a1.var2=\"Value\""
      ],
      "metadata": {
        "id": "Apm4GXG_mwLq"
      },
      "execution_count": null,
      "outputs": []
    },
    {
      "cell_type": "code",
      "source": [
        "class A:\n",
        "  var1=\"Value1\"\n",
        "  def Random(self):\n",
        "    print(\"hello\")\n",
        "a1=A()\n",
        "\n",
        "a1.Random()"
      ],
      "metadata": {
        "id": "MhyxdIPWnInq"
      },
      "execution_count": null,
      "outputs": []
    },
    {
      "cell_type": "code",
      "source": [
        "A.Random(a1)"
      ],
      "metadata": {
        "id": "H9eP2LSTnIqg"
      },
      "execution_count": null,
      "outputs": []
    },
    {
      "cell_type": "code",
      "source": [
        "## init method ??\n",
        "## special method -> that get triggers everytime a instance is created\n"
      ],
      "metadata": {
        "id": "52408l8inkaQ"
      },
      "execution_count": null,
      "outputs": []
    },
    {
      "cell_type": "code",
      "source": [
        "class A:\n",
        "  var1=\"Value1\"\n",
        "  def __init__(self):\n",
        "    print(\"welcome\")\n",
        "  def Random(self):\n",
        "    print(\"hello\")\n",
        "a1=A()"
      ],
      "metadata": {
        "colab": {
          "base_uri": "https://localhost:8080/"
        },
        "id": "HlMX8Jyenki2",
        "outputId": "bd1fbc94-633e-4b38-a977-7b36af425716"
      },
      "execution_count": 2,
      "outputs": [
        {
          "output_type": "stream",
          "name": "stdout",
          "text": [
            "welcome\n"
          ]
        }
      ]
    },
    {
      "cell_type": "code",
      "source": [
        "a2=A()"
      ],
      "metadata": {
        "colab": {
          "base_uri": "https://localhost:8080/"
        },
        "id": "DnZIp-CHnxit",
        "outputId": "bc3dcfd7-d0c6-46bd-eb20-8d1eb416d02e"
      },
      "execution_count": 3,
      "outputs": [
        {
          "output_type": "stream",
          "name": "stdout",
          "text": [
            "welcome\n"
          ]
        }
      ]
    },
    {
      "cell_type": "code",
      "source": [
        "class A:\n",
        "  var1=\"Value1\"\n",
        "  def __init__(self,name,age):\n",
        "    self.name=name\n",
        "    self.age=age\n",
        "    print(\"welcome\")\n",
        "  def Random(self):\n",
        "    print(\"hello\")\n",
        "a1=A(\"Archit\",26)"
      ],
      "metadata": {
        "colab": {
          "base_uri": "https://localhost:8080/"
        },
        "id": "ZoqcupKfn1hY",
        "outputId": "0f11d36c-dcd3-43c8-e11b-47584eea54a1"
      },
      "execution_count": 4,
      "outputs": [
        {
          "output_type": "stream",
          "name": "stdout",
          "text": [
            "welcome\n"
          ]
        }
      ]
    },
    {
      "cell_type": "code",
      "source": [
        "a1.name"
      ],
      "metadata": {
        "colab": {
          "base_uri": "https://localhost:8080/",
          "height": 35
        },
        "id": "KomwvdRPoYWF",
        "outputId": "2337b3ef-e85c-4b72-9a41-f711ce8fd892"
      },
      "execution_count": 5,
      "outputs": [
        {
          "output_type": "execute_result",
          "data": {
            "text/plain": [
              "'Archit'"
            ],
            "application/vnd.google.colaboratory.intrinsic+json": {
              "type": "string"
            }
          },
          "metadata": {},
          "execution_count": 5
        }
      ]
    },
    {
      "cell_type": "code",
      "source": [
        "a1.name=\"Archit\"\n",
        "a1.age=26\n",
        "a1.address=\"Bangalore\""
      ],
      "metadata": {
        "id": "0_OozhOZobfA"
      },
      "execution_count": null,
      "outputs": []
    },
    {
      "cell_type": "code",
      "source": [],
      "metadata": {
        "id": "cke97Ii5owM-"
      },
      "execution_count": null,
      "outputs": []
    },
    {
      "cell_type": "code",
      "source": [
        "class A:\n",
        "  var1=\"Value1\"\n",
        "  def __init__(self):\n",
        "    print(\"welcome\")\n",
        "  def Random(self):\n",
        "    print(\"hello\")\n",
        "a1=A()\n",
        "a1.name=\"Archit\"\n",
        "a1.age=26\n",
        "\n",
        "\n",
        "a1=A()\n",
        "a1.name=\"Archit\"\n",
        "a1.age=26\n",
        "\n",
        "\n",
        "\n",
        "a1=A()\n",
        "a1.name=\"Archit\"\n",
        "a1.age=26\n",
        "\n",
        "\n",
        "a1=A()\n",
        "a1.name=\"Archit\"\n",
        "a1.age=26"
      ],
      "metadata": {
        "id": "ASIiLw90owPk"
      },
      "execution_count": null,
      "outputs": []
    },
    {
      "cell_type": "code",
      "source": [
        "class A:\n",
        "  var1=\"Value1\"\n",
        "  def __init__(self,name,age):\n",
        "    self.name=name\n",
        "    self.age=age\n",
        "    print(\"welcome\",self.name,12)\n",
        "  def Random(self):\n",
        "    print(\"hello\")\n",
        "a1=A(\"Archit\",26)\n",
        "a1=A(\"Archit\",26)\n",
        "a1=A(\"Archit\",26)\n",
        "a1=A(\"Archit\",26)"
      ],
      "metadata": {
        "colab": {
          "base_uri": "https://localhost:8080/"
        },
        "id": "ELQHGjdLowR6",
        "outputId": "0c7a2586-72c2-43f0-fad4-76a2ee895c2a"
      },
      "execution_count": 7,
      "outputs": [
        {
          "output_type": "stream",
          "name": "stdout",
          "text": [
            "welcome Archit 12\n",
            "welcome Archit 12\n",
            "welcome Archit 12\n",
            "welcome Archit 12\n"
          ]
        }
      ]
    },
    {
      "cell_type": "code",
      "source": [
        "class A:\n",
        "  var1=\"Value1\"\n",
        "  def __init__(self,name,age):\n",
        "    self.name=name\n",
        "    self.age=age\n",
        "    print(\"welcome\",self.name,12)\n",
        "  def Random(self):\n",
        "    print(\"hello\")\n",
        "a1=A(\"Archit\",26)\n",
        "\n",
        "\n",
        "\n"
      ],
      "metadata": {
        "id": "_oNeeJG-owUg"
      },
      "execution_count": null,
      "outputs": []
    },
    {
      "cell_type": "code",
      "source": [
        "class A:\n",
        "  var1=\"Value1\"\n",
        "  def __init__(self,name,age):\n",
        "    self.name=name\n",
        "    self.age=age\n",
        "    print(\"welcome\",self.name,12)\n",
        "  def Random(self):\n",
        "    print(\"hello\")\n",
        "a1=A(\"Archit\",26)"
      ],
      "metadata": {
        "id": "t9EIUcbhptWC"
      },
      "execution_count": 9,
      "outputs": []
    },
    {
      "cell_type": "code",
      "source": [
        "__main__"
      ],
      "metadata": {
        "id": "KlIi0RUepvJ3"
      },
      "execution_count": 9,
      "outputs": []
    },
    {
      "cell_type": "code",
      "source": [
        "## some special functions inside python\n",
        "\n",
        "## these functions can be modified by the coders\n",
        "\n",
        "## magic method or dunders"
      ],
      "metadata": {
        "id": "uMtbWUeXpv2h"
      },
      "execution_count": null,
      "outputs": []
    },
    {
      "cell_type": "code",
      "source": [
        "dir()"
      ],
      "metadata": {
        "id": "PszHEcPGqtpq"
      },
      "execution_count": null,
      "outputs": []
    },
    {
      "cell_type": "code",
      "source": [
        "## dunder methods will be available inside a class scope\n",
        "\n",
        "\n",
        "\n",
        "class Car:\n",
        "  def __init__(self,name,mileage):\n",
        "    self.name=name\n",
        "    self.mileage=mileage\n",
        "\n",
        "  def __add__(self,other):\n",
        "    return self.name+str(self.mileage)+other.name+str(other.mileage)\n",
        "\n",
        "  def __lt__(self,other):\n",
        "    return self.mileage < other.mileage\n",
        "\n",
        "  def __gt__(self,other):\n",
        "    return self.mileage < other.mileage\n",
        "\n",
        "\n",
        "c1=Car(\"Nexon\",12)\n",
        "c2=Car(\"Hector\",15)"
      ],
      "metadata": {
        "id": "1hFrdPSvquBG"
      },
      "execution_count": 21,
      "outputs": []
    },
    {
      "cell_type": "code",
      "source": [
        "c1+c2"
      ],
      "metadata": {
        "colab": {
          "base_uri": "https://localhost:8080/",
          "height": 35
        },
        "id": "6Cmu8LqnrftG",
        "outputId": "a9eab820-60fa-4a42-8645-aa33d56fc2bc"
      },
      "execution_count": 17,
      "outputs": [
        {
          "output_type": "execute_result",
          "data": {
            "text/plain": [
              "'Nexon12Hector15'"
            ],
            "application/vnd.google.colaboratory.intrinsic+json": {
              "type": "string"
            }
          },
          "metadata": {},
          "execution_count": 17
        }
      ]
    },
    {
      "cell_type": "code",
      "source": [
        "c1<c2"
      ],
      "metadata": {
        "colab": {
          "base_uri": "https://localhost:8080/"
        },
        "id": "xiT8o9C4rkMD",
        "outputId": "161246e6-a2a4-4512-9c36-056b60057546"
      },
      "execution_count": 19,
      "outputs": [
        {
          "output_type": "execute_result",
          "data": {
            "text/plain": [
              "True"
            ]
          },
          "metadata": {},
          "execution_count": 19
        }
      ]
    },
    {
      "cell_type": "code",
      "source": [
        "c1"
      ],
      "metadata": {
        "colab": {
          "base_uri": "https://localhost:8080/"
        },
        "id": "uVC6R3DysTl8",
        "outputId": "903791f2-a24d-4edc-8f1e-222a78e5cfdc"
      },
      "execution_count": 22,
      "outputs": [
        {
          "output_type": "execute_result",
          "data": {
            "text/plain": [
              "<__main__.Car at 0x79c68c4d0400>"
            ]
          },
          "metadata": {},
          "execution_count": 22
        }
      ]
    },
    {
      "cell_type": "code",
      "source": [
        "class Truck:\n",
        "  def __init__(self,name,mileage):\n",
        "    self.name=name\n",
        "    self.mileage=mileage\n",
        "\n",
        "  def __add__(self,other):\n",
        "    # check type of other\n",
        "    if type(other)==str:\n",
        "      return self.name+str(self.mileage)+other\n",
        "    if type(self)==str:\n",
        "      return self+other.name+str(other.mileage)\n",
        "    return self.name+str(self.mileage)+other.name+str(other.mileage)\n",
        "\n",
        "class Car:\n",
        "  def __init__(self,name,mileage):\n",
        "    self.name=name\n",
        "    self.mileage=mileage\n",
        "\n",
        "  def __add__(self,other):\n",
        "    # check type of other\n",
        "    if type(other)==str:\n",
        "      return self.name+str(self.mileage)+other\n",
        "    if type(self)==str:\n",
        "      return self+other.name+str(other.mileage)\n",
        "    return self.name+str(self.mileage)+other.name+str(other.mileage)\n",
        "\n",
        "  def __radd__(self,other):\n",
        "    # check type of other\n",
        "    if type(other)==str:\n",
        "      return self.name+str(self.mileage)+other\n",
        "    return self.name+str(self.mileage)+other.name+str(other.mileage)\n",
        "\n",
        "c1=Car(\"Nexon\",12)\n",
        "c2=Car(\"Hector\",15)\n",
        "c3=Car(\"DZire\",21)\n",
        "c4=Car(\"Skoda\",18)\n",
        "t1=Truck(\"toyoto\",28)"
      ],
      "metadata": {
        "id": "ilXg2pvss6oL"
      },
      "execution_count": 48,
      "outputs": []
    },
    {
      "cell_type": "code",
      "source": [
        "c1+(c2+c3)"
      ],
      "metadata": {
        "colab": {
          "base_uri": "https://localhost:8080/",
          "height": 35
        },
        "id": "1hmQYy_XtZmn",
        "outputId": "ea490142-58ee-4a18-a90f-5a59c5471f4a"
      },
      "execution_count": 49,
      "outputs": [
        {
          "output_type": "execute_result",
          "data": {
            "text/plain": [
              "'Nexon12Hector15DZire21'"
            ],
            "application/vnd.google.colaboratory.intrinsic+json": {
              "type": "string"
            }
          },
          "metadata": {},
          "execution_count": 49
        }
      ]
    },
    {
      "cell_type": "code",
      "source": [
        "c1+c2+c3"
      ],
      "metadata": {
        "colab": {
          "base_uri": "https://localhost:8080/",
          "height": 35
        },
        "id": "JO7n0__Ztdu6",
        "outputId": "20842c21-baf6-4870-f1c2-df85d0e0667c"
      },
      "execution_count": 51,
      "outputs": [
        {
          "output_type": "execute_result",
          "data": {
            "text/plain": [
              "'DZire21Nexon12Hector15'"
            ],
            "application/vnd.google.colaboratory.intrinsic+json": {
              "type": "string"
            }
          },
          "metadata": {},
          "execution_count": 51
        }
      ]
    },
    {
      "cell_type": "code",
      "source": [
        "c1+c2+c3"
      ],
      "metadata": {
        "id": "kQrddf7xtzxE"
      },
      "execution_count": null,
      "outputs": []
    },
    {
      "cell_type": "code",
      "source": [],
      "metadata": {
        "id": "NYwmVqpTwyAa"
      },
      "execution_count": null,
      "outputs": []
    },
    {
      "cell_type": "code",
      "source": [
        "class Car:\n",
        "  def __init__(self,name,mileage):\n",
        "    self.name=name\n",
        "    self.mileage=mileage\n",
        "\n",
        "  def __add__(self,other):\n",
        "    # check type of other\n",
        "    if type(other)==str:\n",
        "      return self.name+str(self.mileage)+other\n",
        "    if type(self)==str:\n",
        "      return self+other.name+str(other.mileage)\n",
        "    return self.name+str(self.mileage)+other.name+str(other.mileage)\n",
        "\n",
        "c1=Car(\"Nexon\",12)\n",
        "c2=Car(\"Hector\",15)\n",
        "c3=Car(\"DZire\",21)\n",
        "c4=Car(\"Skoda\",18)"
      ],
      "metadata": {
        "id": "GqfSgxeEwyCw"
      },
      "execution_count": 58,
      "outputs": []
    },
    {
      "cell_type": "code",
      "source": [
        "c1+\"random\""
      ],
      "metadata": {
        "colab": {
          "base_uri": "https://localhost:8080/",
          "height": 35
        },
        "id": "GeJM6oXAwyFZ",
        "outputId": "26af7b62-dc6b-4b2e-d15f-74996549833d"
      },
      "execution_count": 59,
      "outputs": [
        {
          "output_type": "execute_result",
          "data": {
            "text/plain": [
              "'Nexon12random'"
            ],
            "application/vnd.google.colaboratory.intrinsic+json": {
              "type": "string"
            }
          },
          "metadata": {},
          "execution_count": 59
        }
      ]
    },
    {
      "cell_type": "code",
      "source": [
        "\"random\"+c1"
      ],
      "metadata": {
        "colab": {
          "base_uri": "https://localhost:8080/",
          "height": 141
        },
        "id": "VuvWsKndwyIN",
        "outputId": "3b1b7c4b-1c06-4eea-fb85-160723a0ab9d"
      },
      "execution_count": 60,
      "outputs": [
        {
          "output_type": "error",
          "ename": "TypeError",
          "evalue": "can only concatenate str (not \"Car\") to str",
          "traceback": [
            "\u001b[0;31m---------------------------------------------------------------------------\u001b[0m",
            "\u001b[0;31mTypeError\u001b[0m                                 Traceback (most recent call last)",
            "\u001b[0;32m<ipython-input-60-374c91afaaa5>\u001b[0m in \u001b[0;36m<cell line: 1>\u001b[0;34m()\u001b[0m\n\u001b[0;32m----> 1\u001b[0;31m \u001b[0;34m\"random\"\u001b[0m\u001b[0;34m+\u001b[0m\u001b[0mc1\u001b[0m\u001b[0;34m\u001b[0m\u001b[0;34m\u001b[0m\u001b[0m\n\u001b[0m",
            "\u001b[0;31mTypeError\u001b[0m: can only concatenate str (not \"Car\") to str"
          ]
        }
      ]
    },
    {
      "cell_type": "code",
      "source": [
        "class Car:\n",
        "  def __init__(self,name,mileage):\n",
        "    self.name=name\n",
        "    self.mileage=mileage\n",
        "\n",
        "  def __add__(self,other):\n",
        "    # check type of other\n",
        "    if type(other)==str:\n",
        "      return self.name+str(self.mileage)+other\n",
        "    return self.name+str(self.mileage)+other.name+str(other.mileage)\n",
        "\n",
        "  def __radd__(self,other):\n",
        "    # check type of other\n",
        "    if type(other)==str:\n",
        "      return self.name+str(self.mileage)+other\n",
        "    return self.name+str(self.mileage)+other.name+str(other.mileage)\n",
        "\n",
        "c1=Car(\"Nexon\",12)\n",
        "c2=Car(\"Hector\",15)\n",
        "c3=Car(\"DZire\",21)\n",
        "c4=Car(\"Skoda\",18)\n",
        "t1=Truck(\"toyoto\",28)\n",
        "\n",
        "\n",
        "c1+\"random\""
      ],
      "metadata": {
        "colab": {
          "base_uri": "https://localhost:8080/",
          "height": 35
        },
        "id": "Mv5GNiaPw_UO",
        "outputId": "823fbe3c-189f-411b-e5cf-b62c2016f46f"
      },
      "execution_count": 61,
      "outputs": [
        {
          "output_type": "execute_result",
          "data": {
            "text/plain": [
              "'Nexon12random'"
            ],
            "application/vnd.google.colaboratory.intrinsic+json": {
              "type": "string"
            }
          },
          "metadata": {},
          "execution_count": 61
        }
      ]
    },
    {
      "cell_type": "code",
      "source": [
        "1+\"random\""
      ],
      "metadata": {
        "colab": {
          "base_uri": "https://localhost:8080/",
          "height": 141
        },
        "id": "q6KhpuRxyT_B",
        "outputId": "16dd4aa1-d2dd-4ca3-b025-bd5f25673094"
      },
      "execution_count": 62,
      "outputs": [
        {
          "output_type": "error",
          "ename": "TypeError",
          "evalue": "unsupported operand type(s) for +: 'int' and 'str'",
          "traceback": [
            "\u001b[0;31m---------------------------------------------------------------------------\u001b[0m",
            "\u001b[0;31mTypeError\u001b[0m                                 Traceback (most recent call last)",
            "\u001b[0;32m<ipython-input-62-980763009e30>\u001b[0m in \u001b[0;36m<cell line: 1>\u001b[0;34m()\u001b[0m\n\u001b[0;32m----> 1\u001b[0;31m \u001b[0;36m1\u001b[0m\u001b[0;34m+\u001b[0m\u001b[0;34m\"random\"\u001b[0m\u001b[0;34m\u001b[0m\u001b[0;34m\u001b[0m\u001b[0m\n\u001b[0m",
            "\u001b[0;31mTypeError\u001b[0m: unsupported operand type(s) for +: 'int' and 'str'"
          ]
        }
      ]
    },
    {
      "cell_type": "code",
      "source": [
        "class Vehicle:\n",
        "  type=\"transport\"\n",
        "  city=\"Bangalore\"\n",
        "  def __init__(self):\n",
        "    print(\"this is vehicle\")\n",
        "\n",
        "  def hello_v(self):\n",
        "    print(\"hello from the parent\")\n",
        "\n",
        "class Car(Vehicle):\n",
        "  wheels=4\n",
        "  def __init__(self):\n",
        "    print(\"this is car\")\n",
        "  def hello_c(self):\n",
        "    print(\"hello from the child\")\n",
        "\n",
        "v1=Vehicle()"
      ],
      "metadata": {
        "colab": {
          "base_uri": "https://localhost:8080/"
        },
        "id": "Y1vA6nRfyhNv",
        "outputId": "fa5fcbbb-9f29-4f66-cfee-4d77e9a84587"
      },
      "execution_count": 73,
      "outputs": [
        {
          "output_type": "stream",
          "name": "stdout",
          "text": [
            "this is vehicle\n"
          ]
        }
      ]
    },
    {
      "cell_type": "code",
      "source": [
        "c1=Car()\n",
        "c1.type"
      ],
      "metadata": {
        "colab": {
          "base_uri": "https://localhost:8080/",
          "height": 53
        },
        "id": "SPyCJcCAzeQ_",
        "outputId": "c0e0aac2-f1c4-4728-b130-10de4118c048"
      },
      "execution_count": 76,
      "outputs": [
        {
          "output_type": "stream",
          "name": "stdout",
          "text": [
            "this is car\n"
          ]
        },
        {
          "output_type": "execute_result",
          "data": {
            "text/plain": [
              "'transport'"
            ],
            "application/vnd.google.colaboratory.intrinsic+json": {
              "type": "string"
            }
          },
          "metadata": {},
          "execution_count": 76
        }
      ]
    },
    {
      "cell_type": "code",
      "source": [
        "c1.hello_v()"
      ],
      "metadata": {
        "colab": {
          "base_uri": "https://localhost:8080/"
        },
        "id": "F8w-AXoDzhan",
        "outputId": "fcd428d5-a2ac-490c-9977-25ef51db6d19"
      },
      "execution_count": 75,
      "outputs": [
        {
          "output_type": "stream",
          "name": "stdout",
          "text": [
            "hello from the parent\n"
          ]
        }
      ]
    },
    {
      "cell_type": "code",
      "source": [
        "c1.wheels"
      ],
      "metadata": {
        "colab": {
          "base_uri": "https://localhost:8080/"
        },
        "id": "llvB0Ggtzvlq",
        "outputId": "7aadc6c3-18fd-4e73-872e-53ff5013f402"
      },
      "execution_count": 68,
      "outputs": [
        {
          "output_type": "execute_result",
          "data": {
            "text/plain": [
              "4"
            ]
          },
          "metadata": {},
          "execution_count": 68
        }
      ]
    },
    {
      "cell_type": "code",
      "source": [
        "c1.type"
      ],
      "metadata": {
        "colab": {
          "base_uri": "https://localhost:8080/",
          "height": 35
        },
        "id": "twXutmrtzyDW",
        "outputId": "6d6e45cc-c339-42d2-a879-7da6f4f51e7f"
      },
      "execution_count": 69,
      "outputs": [
        {
          "output_type": "execute_result",
          "data": {
            "text/plain": [
              "'transport'"
            ],
            "application/vnd.google.colaboratory.intrinsic+json": {
              "type": "string"
            }
          },
          "metadata": {},
          "execution_count": 69
        }
      ]
    },
    {
      "cell_type": "code",
      "source": [
        "## all variables inside parent class is available to the child\n",
        "c1.hello_c()"
      ],
      "metadata": {
        "colab": {
          "base_uri": "https://localhost:8080/"
        },
        "id": "t5zVu0mHz1G5",
        "outputId": "728bd746-4a4d-485e-f739-e2da28866311"
      },
      "execution_count": 77,
      "outputs": [
        {
          "output_type": "stream",
          "name": "stdout",
          "text": [
            "hello from the child\n"
          ]
        }
      ]
    },
    {
      "cell_type": "code",
      "source": [
        "## can a child function be called from the parent class??\n",
        "\n",
        "v1.hello_c()"
      ],
      "metadata": {
        "colab": {
          "base_uri": "https://localhost:8080/",
          "height": 176
        },
        "id": "vmSdVe6F0n4r",
        "outputId": "f4cb5641-f6f3-4d56-e8f6-a484dba4d15b"
      },
      "execution_count": 78,
      "outputs": [
        {
          "output_type": "error",
          "ename": "AttributeError",
          "evalue": "'Vehicle' object has no attribute 'hello_c'",
          "traceback": [
            "\u001b[0;31m---------------------------------------------------------------------------\u001b[0m",
            "\u001b[0;31mAttributeError\u001b[0m                            Traceback (most recent call last)",
            "\u001b[0;32m<ipython-input-78-993abb2e7402>\u001b[0m in \u001b[0;36m<cell line: 3>\u001b[0;34m()\u001b[0m\n\u001b[1;32m      1\u001b[0m \u001b[0;31m## can a child function be called from the parent class??\u001b[0m\u001b[0;34m\u001b[0m\u001b[0;34m\u001b[0m\u001b[0m\n\u001b[1;32m      2\u001b[0m \u001b[0;34m\u001b[0m\u001b[0m\n\u001b[0;32m----> 3\u001b[0;31m \u001b[0mv1\u001b[0m\u001b[0;34m.\u001b[0m\u001b[0mhello_c\u001b[0m\u001b[0;34m(\u001b[0m\u001b[0;34m)\u001b[0m\u001b[0;34m\u001b[0m\u001b[0;34m\u001b[0m\u001b[0m\n\u001b[0m",
            "\u001b[0;31mAttributeError\u001b[0m: 'Vehicle' object has no attribute 'hello_c'"
          ]
        }
      ]
    },
    {
      "cell_type": "code",
      "source": [
        "class Vehicle:\n",
        "  type=\"transport\"\n",
        "  city=\"Bangalore\"\n",
        "  def __init__(self):\n",
        "    print(\"this is vehicle\")\n",
        "  def hello(self):\n",
        "    print(\"hello from the parent\")\n",
        "\n",
        "class Car(Vehicle):\n",
        "  wheels=4\n",
        "  type=\"car transport\"\n",
        "  def __init__(self):\n",
        "    print(\"this is car\")\n",
        "  def hello(self):\n",
        "    print(\"hello from the child\")"
      ],
      "metadata": {
        "id": "XcLtsHu80wnr"
      },
      "execution_count": 83,
      "outputs": []
    },
    {
      "cell_type": "code",
      "source": [
        "## if same name variable are present in parent and child, child take the prefernce\n",
        "c1=Car()\n",
        "c1.type"
      ],
      "metadata": {
        "colab": {
          "base_uri": "https://localhost:8080/",
          "height": 53
        },
        "id": "d8o-lZ6u1BaT",
        "outputId": "8cf0a192-a880-4ae8-eb09-cb6863652388"
      },
      "execution_count": 84,
      "outputs": [
        {
          "output_type": "stream",
          "name": "stdout",
          "text": [
            "this is car\n"
          ]
        },
        {
          "output_type": "execute_result",
          "data": {
            "text/plain": [
              "'car transport'"
            ],
            "application/vnd.google.colaboratory.intrinsic+json": {
              "type": "string"
            }
          },
          "metadata": {},
          "execution_count": 84
        }
      ]
    },
    {
      "cell_type": "code",
      "source": [
        "c1.hello()"
      ],
      "metadata": {
        "colab": {
          "base_uri": "https://localhost:8080/"
        },
        "id": "4quia-qy1G1c",
        "outputId": "a8836099-a4bf-4cfc-9865-54d0e046de4d"
      },
      "execution_count": 85,
      "outputs": [
        {
          "output_type": "stream",
          "name": "stdout",
          "text": [
            "hello from the child\n"
          ]
        }
      ]
    },
    {
      "cell_type": "code",
      "source": [
        "class Vehicle:\n",
        "  type=\"transport\"\n",
        "  city=\"Bangalore\"\n",
        "  def __init__(self):\n",
        "    print(\"this is vehicle\")\n",
        "  def hello(self):\n",
        "    print(\"hello from the parent\")\n",
        "\n",
        "class Car(Vehicle):\n",
        "  wheels=4\n",
        "  type=\"car transport\"\n",
        "  def hello(self):\n",
        "    print(\"hello from the child\")\n",
        "\n",
        "c1=Car()"
      ],
      "metadata": {
        "colab": {
          "base_uri": "https://localhost:8080/"
        },
        "id": "EpqRpTcc1SE4",
        "outputId": "cbd60edb-98b0-438e-8efb-b0344dbe01a4"
      },
      "execution_count": 86,
      "outputs": [
        {
          "output_type": "stream",
          "name": "stdout",
          "text": [
            "this is vehicle\n"
          ]
        }
      ]
    },
    {
      "cell_type": "code",
      "source": [
        "## inherit from multiple places\n",
        "## only some variabes to be accessed\n",
        "## how to access parent class variable from the child\n"
      ],
      "metadata": {
        "id": "Ipsa7-211vjT"
      },
      "execution_count": null,
      "outputs": []
    },
    {
      "cell_type": "code",
      "source": [
        "## how to access parent class variable from the child\n",
        "class Vehicle:\n",
        "  type=\"transport\"\n",
        "  city=\"Bangalore\"\n",
        "  def __init__(self):\n",
        "    print(\"this is vehicle\")\n",
        "  def hello(self):\n",
        "    print(\"hello from the parent\")\n",
        "\n",
        "class Car(Vehicle):\n",
        "  wheels=4\n",
        "  type=\"car transport\"\n",
        "  def hello(self):\n",
        "    print(self.city)\n",
        "    print(self.type)\n",
        "    print(super().type) ## immediate parent\n",
        "    print(super().hello())\n",
        "    print(\"hello from the child\")\n",
        "\n",
        "c1=Car()\n",
        "c1.hello()"
      ],
      "metadata": {
        "colab": {
          "base_uri": "https://localhost:8080/"
        },
        "id": "GGRvbcgh3Vuw",
        "outputId": "ea340035-457f-432f-cdc5-c85542d98751"
      },
      "execution_count": 90,
      "outputs": [
        {
          "output_type": "stream",
          "name": "stdout",
          "text": [
            "this is vehicle\n",
            "Bangalore\n",
            "car transport\n",
            "transport\n",
            "hello from the parent\n",
            "None\n",
            "hello from the child\n"
          ]
        }
      ]
    },
    {
      "cell_type": "code",
      "source": [
        "## how to access parent class variable from the child\n",
        "class Vehicle:\n",
        "  type=\"transport\"\n",
        "  city=\"Bangalore\"\n",
        "  def __init__(self):\n",
        "    print(\"this is vehicle\")\n",
        "\n",
        "class Car(Vehicle):\n",
        "  wheels=4\n",
        "  def __init__(self):\n",
        "    super().__init__()\n",
        "    print(\"this is car\")\n",
        "c1=Car()"
      ],
      "metadata": {
        "colab": {
          "base_uri": "https://localhost:8080/"
        },
        "id": "McK2lbWo3gFz",
        "outputId": "89402bc9-a2f8-4816-eeda-e79bc0dc5f15"
      },
      "execution_count": 95,
      "outputs": [
        {
          "output_type": "stream",
          "name": "stdout",
          "text": [
            "this is vehicle\n",
            "this is car\n"
          ]
        }
      ]
    },
    {
      "cell_type": "code",
      "source": [
        "class Vehicle:\n",
        "  type=\"transport\"\n",
        "  city=\"Bangalore\"\n",
        "  def __init__(self):\n",
        "    print(\"vehicle\",id(self))\n",
        "    print(\"this is vehicle\")\n",
        "\n",
        "class Car(Vehicle):\n",
        "  wheels=4\n",
        "  def __init__(self):\n",
        "    print(\"car\",id(self))\n",
        "    super().__init__()\n",
        "    print(\"this is car\")\n",
        "\n",
        "class Sedan(Car):\n",
        "  type=\"luxury\"\n",
        "  def __init__(self):\n",
        "    print(\"sedan\",id(self))\n",
        "    super().__init__()\n",
        "    print(\"this is sedan\")\n",
        "\n",
        "s1=Sedan()"
      ],
      "metadata": {
        "colab": {
          "base_uri": "https://localhost:8080/"
        },
        "id": "Q7ig8qcB4iDz",
        "outputId": "26fd2662-aba3-4659-9134-b802378dc2dd"
      },
      "execution_count": 100,
      "outputs": [
        {
          "output_type": "stream",
          "name": "stdout",
          "text": [
            "sedan 133893021756400\n",
            "car 133893021756400\n",
            "vehicle 133893021756400\n",
            "this is vehicle\n",
            "this is car\n",
            "this is sedan\n"
          ]
        }
      ]
    },
    {
      "cell_type": "code",
      "source": [
        "s1.type"
      ],
      "metadata": {
        "colab": {
          "base_uri": "https://localhost:8080/",
          "height": 35
        },
        "id": "Lt3iPB-S5nZc",
        "outputId": "a821e725-f95e-4d91-a951-c5d7b81b992b"
      },
      "execution_count": 97,
      "outputs": [
        {
          "output_type": "execute_result",
          "data": {
            "text/plain": [
              "'luxury'"
            ],
            "application/vnd.google.colaboratory.intrinsic+json": {
              "type": "string"
            }
          },
          "metadata": {},
          "execution_count": 97
        }
      ]
    },
    {
      "cell_type": "code",
      "source": [
        "class Vehicle:\n",
        "  def __init__(self,transmission):\n",
        "    self.transmission=transmission\n",
        "class Car(Vehicle):\n",
        "  wheels=4\n",
        "  def __init__(self,brand,transmission):\n",
        "    self.brand=brand\n",
        "    super().__init__(transmission)\n",
        "\n",
        "class Sedan(Car):\n",
        "  type=\"luxury\"\n",
        "  def __init__(self,brand,transmission,model):\n",
        "    self.model=model\n",
        "    super().__init__(brand,transmission)\n",
        "\n",
        "s1=Sedan(\"suzuki\",\"automatic\",\"DZire\")"
      ],
      "metadata": {
        "id": "wk-kiDat5txs"
      },
      "execution_count": 101,
      "outputs": []
    },
    {
      "cell_type": "code",
      "source": [
        "s1.brand"
      ],
      "metadata": {
        "colab": {
          "base_uri": "https://localhost:8080/",
          "height": 35
        },
        "id": "Sfua1kb37VMF",
        "outputId": "bb21bab4-125b-4143-f157-1170a606bf7f"
      },
      "execution_count": 102,
      "outputs": [
        {
          "output_type": "execute_result",
          "data": {
            "text/plain": [
              "'suzuki'"
            ],
            "application/vnd.google.colaboratory.intrinsic+json": {
              "type": "string"
            }
          },
          "metadata": {},
          "execution_count": 102
        }
      ]
    },
    {
      "cell_type": "code",
      "source": [
        "### we do a practical\n",
        "## how about creating a banking system\n",
        "\n",
        "class BankAccount:\n",
        "  def __init__(self,balance):\n",
        "    self.balance=balance\n",
        "  def deposit(self,amount):\n",
        "    self.balance+=amount\n",
        "  def withdraw(self,amount):\n",
        "    self.balance-=amount\n"
      ],
      "metadata": {
        "id": "UZVsiqA87aBa"
      },
      "execution_count": 103,
      "outputs": []
    },
    {
      "cell_type": "code",
      "source": [
        "b1=BankAccount(5000)"
      ],
      "metadata": {
        "id": "Q4DeHG0271BD"
      },
      "execution_count": 104,
      "outputs": []
    },
    {
      "cell_type": "code",
      "source": [
        "b1.balance"
      ],
      "metadata": {
        "colab": {
          "base_uri": "https://localhost:8080/"
        },
        "id": "CXLoXu_X73xL",
        "outputId": "dbdab09a-d1a2-4745-d65e-5b36d377c0fa"
      },
      "execution_count": 105,
      "outputs": [
        {
          "output_type": "execute_result",
          "data": {
            "text/plain": [
              "5000"
            ]
          },
          "metadata": {},
          "execution_count": 105
        }
      ]
    },
    {
      "cell_type": "code",
      "source": [
        "b1.deposit(10000)\n",
        "b1.balance"
      ],
      "metadata": {
        "colab": {
          "base_uri": "https://localhost:8080/"
        },
        "id": "MEHyOEtf75b6",
        "outputId": "26812cd0-a480-46e0-baff-8551df43c3d0"
      },
      "execution_count": 106,
      "outputs": [
        {
          "output_type": "execute_result",
          "data": {
            "text/plain": [
              "15000"
            ]
          },
          "metadata": {},
          "execution_count": 106
        }
      ]
    },
    {
      "cell_type": "code",
      "source": [
        "b1.withdraw(5000)\n",
        "b1.balance"
      ],
      "metadata": {
        "colab": {
          "base_uri": "https://localhost:8080/"
        },
        "id": "0k1KwlJk79T8",
        "outputId": "b345e224-9238-49d4-b708-fad528c038dd"
      },
      "execution_count": 107,
      "outputs": [
        {
          "output_type": "execute_result",
          "data": {
            "text/plain": [
              "10000"
            ]
          },
          "metadata": {},
          "execution_count": 107
        }
      ]
    },
    {
      "cell_type": "code",
      "source": [
        "b1.balance=124234628031745239845\n",
        "\n",
        "## how to avoid this\n",
        "\n"
      ],
      "metadata": {
        "id": "_DlfekqA8BIT"
      },
      "execution_count": null,
      "outputs": []
    },
    {
      "cell_type": "code",
      "source": [
        "class BankAccount:\n",
        "  def __init__(self,balance):\n",
        "    self.__balance=balance\n",
        "    self.__test=100\n",
        "  def deposit(self,amount):\n",
        "    self.__balance+=amount\n",
        "  def withdraw(self,amount):\n",
        "    self.__balance-=amount\n",
        "## getter\n",
        "  def check_balance(self):\n",
        "    return self.__balance\n",
        "b1=BankAccount(5000)\n",
        "b1.__balance"
      ],
      "metadata": {
        "colab": {
          "base_uri": "https://localhost:8080/",
          "height": 176
        },
        "id": "iAg4WXx88llU",
        "outputId": "22ba9280-017a-4a0f-c2bf-5842b093f7a7"
      },
      "execution_count": 116,
      "outputs": [
        {
          "output_type": "error",
          "ename": "AttributeError",
          "evalue": "'BankAccount' object has no attribute '__balance'",
          "traceback": [
            "\u001b[0;31m---------------------------------------------------------------------------\u001b[0m",
            "\u001b[0;31mAttributeError\u001b[0m                            Traceback (most recent call last)",
            "\u001b[0;32m<ipython-input-116-9eed300d14ac>\u001b[0m in \u001b[0;36m<cell line: 13>\u001b[0;34m()\u001b[0m\n\u001b[1;32m     11\u001b[0m     \u001b[0;32mreturn\u001b[0m \u001b[0mself\u001b[0m\u001b[0;34m.\u001b[0m\u001b[0m__balance\u001b[0m\u001b[0;34m\u001b[0m\u001b[0;34m\u001b[0m\u001b[0m\n\u001b[1;32m     12\u001b[0m \u001b[0mb1\u001b[0m\u001b[0;34m=\u001b[0m\u001b[0mBankAccount\u001b[0m\u001b[0;34m(\u001b[0m\u001b[0;36m5000\u001b[0m\u001b[0;34m)\u001b[0m\u001b[0;34m\u001b[0m\u001b[0;34m\u001b[0m\u001b[0m\n\u001b[0;32m---> 13\u001b[0;31m \u001b[0mb1\u001b[0m\u001b[0;34m.\u001b[0m\u001b[0m__balance\u001b[0m\u001b[0;34m\u001b[0m\u001b[0;34m\u001b[0m\u001b[0m\n\u001b[0m",
            "\u001b[0;31mAttributeError\u001b[0m: 'BankAccount' object has no attribute '__balance'"
          ]
        }
      ]
    },
    {
      "cell_type": "code",
      "source": [
        "b1.check_balance()"
      ],
      "metadata": {
        "colab": {
          "base_uri": "https://localhost:8080/"
        },
        "id": "ygdobhql8stI",
        "outputId": "bb4385e7-bde8-45d7-9676-6e05c5e53208"
      },
      "execution_count": 117,
      "outputs": [
        {
          "output_type": "execute_result",
          "data": {
            "text/plain": [
              "5000"
            ]
          },
          "metadata": {},
          "execution_count": 117
        }
      ]
    },
    {
      "cell_type": "code",
      "source": [
        "b1.deposit(5000)\n",
        "b1.check_balance()"
      ],
      "metadata": {
        "colab": {
          "base_uri": "https://localhost:8080/"
        },
        "id": "82hi43T785xe",
        "outputId": "bf23ce7f-54a1-485a-c13a-5d6f4101bf3f"
      },
      "execution_count": 118,
      "outputs": [
        {
          "output_type": "execute_result",
          "data": {
            "text/plain": [
              "10000"
            ]
          },
          "metadata": {},
          "execution_count": 118
        }
      ]
    },
    {
      "cell_type": "code",
      "source": [
        "# b1.__balance\n",
        "\n",
        "\n",
        "b1._BankAccount__balance=31849134863184"
      ],
      "metadata": {
        "id": "TPWkc-Y_88eY"
      },
      "execution_count": 119,
      "outputs": []
    },
    {
      "cell_type": "code",
      "source": [
        "b1.check_balance()"
      ],
      "metadata": {
        "colab": {
          "base_uri": "https://localhost:8080/"
        },
        "id": "75hIzSHh9eH8",
        "outputId": "922f5a02-949b-415d-9547-4735cb3af618"
      },
      "execution_count": 120,
      "outputs": [
        {
          "output_type": "execute_result",
          "data": {
            "text/plain": [
              "31849134863184"
            ]
          },
          "metadata": {},
          "execution_count": 120
        }
      ]
    },
    {
      "cell_type": "code",
      "source": [
        "dir(b1)"
      ],
      "metadata": {
        "colab": {
          "base_uri": "https://localhost:8080/"
        },
        "id": "xckHe76k9rW5",
        "outputId": "e8386120-90c5-4ced-b842-5b69cc091335"
      },
      "execution_count": 121,
      "outputs": [
        {
          "output_type": "execute_result",
          "data": {
            "text/plain": [
              "['_BankAccount__balance',\n",
              " '_BankAccount__test',\n",
              " '__class__',\n",
              " '__delattr__',\n",
              " '__dict__',\n",
              " '__dir__',\n",
              " '__doc__',\n",
              " '__eq__',\n",
              " '__format__',\n",
              " '__ge__',\n",
              " '__getattribute__',\n",
              " '__gt__',\n",
              " '__hash__',\n",
              " '__init__',\n",
              " '__init_subclass__',\n",
              " '__le__',\n",
              " '__lt__',\n",
              " '__module__',\n",
              " '__ne__',\n",
              " '__new__',\n",
              " '__reduce__',\n",
              " '__reduce_ex__',\n",
              " '__repr__',\n",
              " '__setattr__',\n",
              " '__sizeof__',\n",
              " '__str__',\n",
              " '__subclasshook__',\n",
              " '__weakref__',\n",
              " 'check_balance',\n",
              " 'deposit',\n",
              " 'withdraw']"
            ]
          },
          "metadata": {},
          "execution_count": 121
        }
      ]
    },
    {
      "cell_type": "code",
      "source": [
        "###\n",
        "\n",
        "# Can a class inherit from multiple classes\n",
        "\n",
        "\n",
        "class A:\n",
        "  temp=1\n",
        "  def __init__(self,a):\n",
        "    self.a=a\n",
        "\n",
        "class B:\n",
        "  temp=2\n",
        "  def __init__(self,b):\n",
        "    self.b=b\n",
        "\n",
        "class C(A,B):\n",
        "  def __init__(self,a,b,c):\n",
        "    # super().__init__()\n",
        "    A.__init__(self,a)\n",
        "    B.__init__(self,b)\n",
        "    self.c=c\n"
      ],
      "metadata": {
        "id": "tygmbJXd93cU"
      },
      "execution_count": 127,
      "outputs": []
    },
    {
      "cell_type": "code",
      "source": [
        "c1=C(1,5,6)\n",
        "c1.temp"
      ],
      "metadata": {
        "colab": {
          "base_uri": "https://localhost:8080/"
        },
        "id": "3SPpIZB2_Exo",
        "outputId": "efb4cfad-8175-4603-b62c-f3a907fba7da"
      },
      "execution_count": 128,
      "outputs": [
        {
          "output_type": "execute_result",
          "data": {
            "text/plain": [
              "1"
            ]
          },
          "metadata": {},
          "execution_count": 128
        }
      ]
    },
    {
      "cell_type": "code",
      "source": [
        "class A:\n",
        "    x = 10\n",
        "\n",
        "class B(A):\n",
        "    pass\n",
        "\n",
        "class C(B):\n",
        "    pass\n",
        "\n",
        "class D:\n",
        "    x = 5\n",
        "\n",
        "class E(C, D):\n",
        "    pass\n",
        "\n",
        "e1=E()\n",
        "e1.x"
      ],
      "metadata": {
        "colab": {
          "base_uri": "https://localhost:8080/"
        },
        "id": "IL9g-WT7_Kt4",
        "outputId": "0e854fea-ee33-40e9-b311-43751d5081fa"
      },
      "execution_count": 129,
      "outputs": [
        {
          "output_type": "execute_result",
          "data": {
            "text/plain": [
              "10"
            ]
          },
          "metadata": {},
          "execution_count": 129
        }
      ]
    },
    {
      "cell_type": "code",
      "source": [
        "class A:\n",
        "    pass\n",
        "\n",
        "class B(A):\n",
        "    pass\n",
        "\n",
        "class C(B):\n",
        "    pass\n",
        "\n",
        "class D:\n",
        "    x = 5\n",
        "\n",
        "class E(C, D):\n",
        "    pass\n",
        "\n",
        "e1=E()\n",
        "e1.x"
      ],
      "metadata": {
        "colab": {
          "base_uri": "https://localhost:8080/"
        },
        "id": "Rly7FbMc_10F",
        "outputId": "d9579fd1-3d15-4654-8224-c9f244c3574d"
      },
      "execution_count": 130,
      "outputs": [
        {
          "output_type": "execute_result",
          "data": {
            "text/plain": [
              "5"
            ]
          },
          "metadata": {},
          "execution_count": 130
        }
      ]
    },
    {
      "cell_type": "code",
      "source": [
        "class A:\n",
        "    x = 10\n",
        "\n",
        "class B(A):\n",
        "    pass\n",
        "\n",
        "class C(B):\n",
        "    pass\n",
        "\n",
        "class D:\n",
        "    x = 5\n",
        "\n",
        "class E(C, D):\n",
        "    x=11\n",
        "    pass\n",
        "\n",
        "e1=E()\n",
        "e1.x"
      ],
      "metadata": {
        "colab": {
          "base_uri": "https://localhost:8080/"
        },
        "id": "A3gm2LJQ_8a1",
        "outputId": "bc7881f5-1ce1-40ea-b71b-03486e0d38e5"
      },
      "execution_count": 131,
      "outputs": [
        {
          "output_type": "execute_result",
          "data": {
            "text/plain": [
              "11"
            ]
          },
          "metadata": {},
          "execution_count": 131
        }
      ]
    },
    {
      "cell_type": "code",
      "source": [
        "class A:\n",
        "    x = 10\n",
        "\n",
        "class B(A):\n",
        "    pass\n",
        "\n",
        "class C(B):\n",
        "    x=7\n",
        "    pass\n",
        "\n",
        "class D(A):\n",
        "    x = 5\n",
        "\n",
        "class E(C, D):\n",
        "    pass\n",
        "\n",
        "e1=E()\n",
        "e1.x"
      ],
      "metadata": {
        "colab": {
          "base_uri": "https://localhost:8080/"
        },
        "id": "KnvwfD07ABBy",
        "outputId": "651b1e7e-5dec-4345-aa78-c0adfff0e825"
      },
      "execution_count": 132,
      "outputs": [
        {
          "output_type": "execute_result",
          "data": {
            "text/plain": [
              "7"
            ]
          },
          "metadata": {},
          "execution_count": 132
        }
      ]
    },
    {
      "cell_type": "code",
      "source": [
        "class A:\n",
        "    x = 10\n",
        "\n",
        "class B(A):\n",
        "    x=7\n",
        "    pass\n",
        "\n",
        "class C(B):\n",
        "    pass\n",
        "\n",
        "class D(A):\n",
        "    x = 5\n",
        "\n",
        "class E(C, D):\n",
        "    pass\n",
        "\n",
        "e1=E()\n",
        "e1.x"
      ],
      "metadata": {
        "colab": {
          "base_uri": "https://localhost:8080/"
        },
        "id": "3sWBR2a3AUZa",
        "outputId": "4066b3b8-e64e-449f-9c3e-e3a2b8e14c52"
      },
      "execution_count": 133,
      "outputs": [
        {
          "output_type": "execute_result",
          "data": {
            "text/plain": [
              "7"
            ]
          },
          "metadata": {},
          "execution_count": 133
        }
      ]
    },
    {
      "cell_type": "code",
      "source": [
        "class A:\n",
        "    x = 10\n",
        "\n",
        "class B(A):\n",
        "    pass\n",
        "\n",
        "class C(B):\n",
        "    pass\n",
        "\n",
        "class D(A):\n",
        "    x = 5\n",
        "\n",
        "class E(C, D):\n",
        "    pass\n",
        "\n",
        "# class E(D):\n",
        "#     pass\n",
        "\n",
        "e1=E()\n",
        "e1.x"
      ],
      "metadata": {
        "colab": {
          "base_uri": "https://localhost:8080/"
        },
        "id": "CdQ7raxZAdcC",
        "outputId": "28267e44-5891-49a4-be84-cf294f89467c"
      },
      "execution_count": 138,
      "outputs": [
        {
          "output_type": "execute_result",
          "data": {
            "text/plain": [
              "5"
            ]
          },
          "metadata": {},
          "execution_count": 138
        }
      ]
    },
    {
      "cell_type": "code",
      "source": [
        "E.__mro__"
      ],
      "metadata": {
        "colab": {
          "base_uri": "https://localhost:8080/"
        },
        "id": "u7ibiItAArl2",
        "outputId": "a1306054-1ca2-47d5-b3b3-5bf83f8c5886"
      },
      "execution_count": 139,
      "outputs": [
        {
          "output_type": "execute_result",
          "data": {
            "text/plain": [
              "(__main__.E, __main__.C, __main__.B, __main__.D, __main__.A, object)"
            ]
          },
          "metadata": {},
          "execution_count": 139
        }
      ]
    },
    {
      "cell_type": "code",
      "source": [
        "class A:\n",
        "    print(\"Am I a class?\")\n",
        "\n",
        "A()\n",
        "\n",
        "obj1 = A()\n",
        "\n",
        "if A():\n",
        "    print(A())\n"
      ],
      "metadata": {
        "id": "ltF_PfjpB516"
      },
      "execution_count": null,
      "outputs": []
    },
    {
      "cell_type": "code",
      "source": [],
      "metadata": {
        "id": "9WpBXlemC58W"
      },
      "execution_count": null,
      "outputs": []
    },
    {
      "cell_type": "code",
      "source": [
        "class Counter:\n",
        "    def __init__(self):\n",
        "        self.count=5\n",
        "        self.count=count+1\n",
        "\n",
        "c = Counter()\n",
        "print(c.count)"
      ],
      "metadata": {
        "colab": {
          "base_uri": "https://localhost:8080/"
        },
        "id": "p8J_kjV4C5_N",
        "outputId": "08dea0f0-0165-4de4-b5cf-088298346945"
      },
      "execution_count": 140,
      "outputs": [
        {
          "output_type": "stream",
          "name": "stdout",
          "text": [
            "Is it possible?\n"
          ]
        }
      ]
    },
    {
      "cell_type": "code",
      "source": [],
      "metadata": {
        "id": "Ta90wNZVC7_L"
      },
      "execution_count": 142,
      "outputs": []
    },
    {
      "cell_type": "code",
      "source": [],
      "metadata": {
        "id": "4zyE3lX5DrT7"
      },
      "execution_count": null,
      "outputs": []
    },
    {
      "cell_type": "code",
      "source": [],
      "metadata": {
        "id": "LST6fJDnDrWf"
      },
      "execution_count": null,
      "outputs": []
    },
    {
      "cell_type": "code",
      "source": [],
      "metadata": {
        "id": "RcnHisN2DrY5"
      },
      "execution_count": null,
      "outputs": []
    },
    {
      "cell_type": "code",
      "source": [
        "class A:\n",
        "    def do_something(self):\n",
        "        print(\"I do something!\")\n",
        "\n",
        "class B(A):\n",
        "    def do_something(self):\n",
        "        super().do_something()\n",
        "        print(\"I also do something!\")\n",
        "\n",
        "b = B()\n",
        "b.do_something()"
      ],
      "metadata": {
        "colab": {
          "base_uri": "https://localhost:8080/"
        },
        "id": "oFxtDpX8DTSf",
        "outputId": "60320686-01f9-4442-e29f-f8e23fcb648c"
      },
      "execution_count": 143,
      "outputs": [
        {
          "output_type": "stream",
          "name": "stdout",
          "text": [
            "I do something!\n",
            "I also do something!\n"
          ]
        }
      ]
    },
    {
      "cell_type": "code",
      "source": [],
      "metadata": {
        "id": "tFg4pCYZDr5p"
      },
      "execution_count": null,
      "outputs": []
    },
    {
      "cell_type": "code",
      "source": [],
      "metadata": {
        "id": "NXvDWMLTDr8A"
      },
      "execution_count": null,
      "outputs": []
    },
    {
      "cell_type": "code",
      "source": [
        "class A:\n",
        "    def __init__(self):\n",
        "        self.variable = 'Old'\n",
        "        self.update(self.variable)\n",
        "\n",
        "    def update(self, var):\n",
        "        var = 'New'\n",
        "\n",
        "a = A()\n",
        "print(a.variable)"
      ],
      "metadata": {
        "colab": {
          "base_uri": "https://localhost:8080/"
        },
        "id": "k8rJ8n-vDr-m",
        "outputId": "dd4310e3-5a70-469c-b9b2-940cfa4fb6d2"
      },
      "execution_count": 144,
      "outputs": [
        {
          "output_type": "stream",
          "name": "stdout",
          "text": [
            "Old\n"
          ]
        }
      ]
    },
    {
      "cell_type": "code",
      "source": [
        "class A:\n",
        "    def __init__(self):\n",
        "        self.variable = 'Old'\n",
        "        self.update(self.variable)\n",
        "\n",
        "    def update(self, var):\n",
        "        self.variable = 'New'\n",
        "\n",
        "a = A()\n",
        "print(a.variable)"
      ],
      "metadata": {
        "colab": {
          "base_uri": "https://localhost:8080/"
        },
        "id": "ZfEE1PuiEcaK",
        "outputId": "669ae64b-1cb4-4855-84fd-b203d6b9aca1"
      },
      "execution_count": 145,
      "outputs": [
        {
          "output_type": "stream",
          "name": "stdout",
          "text": [
            "New\n"
          ]
        }
      ]
    },
    {
      "cell_type": "code",
      "source": [
        "a=\"New\"\n",
        "def random(a):\n",
        "  a=\"Old\"\n",
        "  return a\n",
        "\n",
        "random(a)\n",
        "a"
      ],
      "metadata": {
        "colab": {
          "base_uri": "https://localhost:8080/",
          "height": 35
        },
        "id": "n-fd_uzIEfLp",
        "outputId": "83355dd3-4fbb-4ab0-d92b-68c44fa24989"
      },
      "execution_count": 146,
      "outputs": [
        {
          "output_type": "execute_result",
          "data": {
            "text/plain": [
              "'New'"
            ],
            "application/vnd.google.colaboratory.intrinsic+json": {
              "type": "string"
            }
          },
          "metadata": {},
          "execution_count": 146
        }
      ]
    },
    {
      "cell_type": "code",
      "source": [
        "class A:\n",
        "    def __init__(self):\n",
        "        self.variable = ['Old']\n",
        "        self.update(self.variable)\n",
        "\n",
        "    def update(self, var):\n",
        "        var.append('New')\n",
        "\n",
        "a = A()\n",
        "print(a.variable)"
      ],
      "metadata": {
        "colab": {
          "base_uri": "https://localhost:8080/"
        },
        "id": "Ww5mFVmTEtl2",
        "outputId": "de316ba6-5040-40d9-f3af-bfd69f3c6b98"
      },
      "execution_count": 147,
      "outputs": [
        {
          "output_type": "stream",
          "name": "stdout",
          "text": [
            "['Old', 'New']\n"
          ]
        }
      ]
    },
    {
      "cell_type": "code",
      "source": [
        "class fruits:\n",
        "    def __init__(self, price):\n",
        "        self.price = price\n",
        "\n",
        "obj=fruits(50)\n",
        "obj.quantity=10\n",
        "obj.bags=2\n",
        "\n",
        "print(obj.quantity+len(obj.__dict__))"
      ],
      "metadata": {
        "id": "ceydq4ZtFZmK"
      },
      "execution_count": null,
      "outputs": []
    }
  ]
}