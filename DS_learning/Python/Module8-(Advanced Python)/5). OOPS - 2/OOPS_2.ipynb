{
  "nbformat": 4,
  "nbformat_minor": 0,
  "metadata": {
    "colab": {
      "provenance": []
    },
    "kernelspec": {
      "name": "python3",
      "display_name": "Python 3"
    },
    "language_info": {
      "name": "python"
    }
  },
  "cells": [
    {
      "cell_type": "code",
      "execution_count": null,
      "metadata": {
        "id": "8CNP-WkMRxtj"
      },
      "outputs": [],
      "source": [
        "# sum a=5 and b =7"
      ]
    },
    {
      "cell_type": "code",
      "source": [
        "5+7"
      ],
      "metadata": {
        "colab": {
          "base_uri": "https://localhost:8080/"
        },
        "id": "cw93FnV8UeSk",
        "outputId": "09aaa678-3ed9-442f-c3c1-173e8d42ded0"
      },
      "execution_count": null,
      "outputs": [
        {
          "output_type": "execute_result",
          "data": {
            "text/plain": [
              "12"
            ]
          },
          "metadata": {},
          "execution_count": 2
        }
      ]
    },
    {
      "cell_type": "code",
      "source": [
        "a=5\n",
        "b=7\n",
        "c=a+b"
      ],
      "metadata": {
        "id": "eEB2q8FFUgmQ"
      },
      "execution_count": null,
      "outputs": []
    },
    {
      "cell_type": "code",
      "source": [
        "def sum(a,b):\n",
        "  return a+b\n",
        "\n",
        "sum(5,7)"
      ],
      "metadata": {
        "colab": {
          "base_uri": "https://localhost:8080/"
        },
        "id": "Up4KiWmcUjCu",
        "outputId": "f16b19d5-4165-414f-d4dc-6aecaf34e304"
      },
      "execution_count": null,
      "outputs": [
        {
          "output_type": "execute_result",
          "data": {
            "text/plain": [
              "12"
            ]
          },
          "metadata": {},
          "execution_count": 4
        }
      ]
    },
    {
      "cell_type": "code",
      "source": [
        "a=5"
      ],
      "metadata": {
        "id": "QtUPhQbwUn31"
      },
      "execution_count": null,
      "outputs": []
    },
    {
      "cell_type": "code",
      "source": [
        "a_array=[]\n",
        "a_sum=\n",
        "a_out=\n",
        "a_out1="
      ],
      "metadata": {
        "id": "5bL_RIXIWVEl"
      },
      "execution_count": null,
      "outputs": []
    },
    {
      "cell_type": "code",
      "source": [
        "b_array=[]\n",
        "b_sum=\n",
        "b_out=\n",
        "b_out1="
      ],
      "metadata": {
        "id": "42DuSI7BWVHb"
      },
      "execution_count": null,
      "outputs": []
    },
    {
      "cell_type": "code",
      "source": [],
      "metadata": {
        "id": "kiYT3jsZWVKC"
      },
      "execution_count": null,
      "outputs": []
    },
    {
      "cell_type": "code",
      "source": [
        "## define\n",
        "\n",
        "# def functionname\n",
        "class Student:\n",
        "  ## properties -> variables\n",
        "  ## actions -> methods\n",
        "  pass"
      ],
      "metadata": {
        "id": "rRpRg7LJWVM6"
      },
      "execution_count": null,
      "outputs": []
    },
    {
      "cell_type": "code",
      "source": [
        "class Student:\n",
        "  ## properties -> variables\n",
        "  ## actions -> methods"
      ],
      "metadata": {
        "colab": {
          "base_uri": "https://localhost:8080/",
          "height": 108
        },
        "id": "9xledt6xXww6",
        "outputId": "45173cb2-2a22-40bf-f901-036adbd67b8a"
      },
      "execution_count": null,
      "outputs": [
        {
          "output_type": "error",
          "ename": "SyntaxError",
          "evalue": "incomplete input (<ipython-input-12-4e9eb692f954>, line 3)",
          "traceback": [
            "\u001b[0;36m  File \u001b[0;32m\"<ipython-input-12-4e9eb692f954>\"\u001b[0;36m, line \u001b[0;32m3\u001b[0m\n\u001b[0;31m    ## actions -> methods\u001b[0m\n\u001b[0m                         ^\u001b[0m\n\u001b[0;31mSyntaxError\u001b[0m\u001b[0;31m:\u001b[0m incomplete input\n"
          ]
        }
      ]
    },
    {
      "cell_type": "code",
      "source": [
        "isinstance(Student,object)"
      ],
      "metadata": {
        "colab": {
          "base_uri": "https://localhost:8080/"
        },
        "id": "EAm8hJtjW-YS",
        "outputId": "e0c44b83-4d9a-4fef-d765-fb6820bfb122"
      },
      "execution_count": null,
      "outputs": [
        {
          "output_type": "execute_result",
          "data": {
            "text/plain": [
              "True"
            ]
          },
          "metadata": {},
          "execution_count": 8
        }
      ]
    },
    {
      "cell_type": "code",
      "source": [
        "a=Student()"
      ],
      "metadata": {
        "id": "i0zQOhfwXFbu"
      },
      "execution_count": null,
      "outputs": []
    },
    {
      "cell_type": "code",
      "source": [
        "type(a)"
      ],
      "metadata": {
        "colab": {
          "base_uri": "https://localhost:8080/"
        },
        "id": "Xxvgz2zKXXS8",
        "outputId": "0398c82f-f27c-4f5c-862e-546eeda7df66"
      },
      "execution_count": null,
      "outputs": [
        {
          "output_type": "execute_result",
          "data": {
            "text/plain": [
              "__main__.Student"
            ]
          },
          "metadata": {},
          "execution_count": 10
        }
      ]
    },
    {
      "cell_type": "code",
      "source": [
        "b=5\n",
        "type(b)"
      ],
      "metadata": {
        "colab": {
          "base_uri": "https://localhost:8080/"
        },
        "id": "uTvYwIIaXYkf",
        "outputId": "661eb898-05e1-476f-b982-cb29a375ee49"
      },
      "execution_count": null,
      "outputs": [
        {
          "output_type": "execute_result",
          "data": {
            "text/plain": [
              "int"
            ]
          },
          "metadata": {},
          "execution_count": 11
        }
      ]
    },
    {
      "cell_type": "code",
      "source": [
        "a=Student()"
      ],
      "metadata": {
        "id": "LAn5ADPMXeSN"
      },
      "execution_count": null,
      "outputs": []
    },
    {
      "cell_type": "code",
      "source": [
        "## storing user defined variable\n",
        "## these variable can be defined on the fly\n",
        "## it foesnot need to be defined in the blueprint\n",
        "\n",
        "\n",
        "## instance variables-> only avaialble for instance it is getting added to\n",
        "a.name=\"Archit\"\n",
        "a.phone=\"9462720176\"\n",
        "a.email=\"archit@probz.in\""
      ],
      "metadata": {
        "id": "PKCkZbwwYJ1h"
      },
      "execution_count": null,
      "outputs": []
    },
    {
      "cell_type": "code",
      "source": [
        "a.name"
      ],
      "metadata": {
        "colab": {
          "base_uri": "https://localhost:8080/",
          "height": 35
        },
        "id": "Ak-CDkoXYSOZ",
        "outputId": "956c0a9c-e761-4523-af3f-18efb2f265b2"
      },
      "execution_count": null,
      "outputs": [
        {
          "output_type": "execute_result",
          "data": {
            "text/plain": [
              "'Archit'"
            ],
            "application/vnd.google.colaboratory.intrinsic+json": {
              "type": "string"
            }
          },
          "metadata": {},
          "execution_count": 15
        }
      ]
    },
    {
      "cell_type": "code",
      "source": [
        "b=Student()\n",
        "b.name"
      ],
      "metadata": {
        "colab": {
          "base_uri": "https://localhost:8080/",
          "height": 196
        },
        "id": "QUQke5r1YTGV",
        "outputId": "ff2fed64-99fa-4592-eafb-8602b0a36e2d"
      },
      "execution_count": null,
      "outputs": [
        {
          "output_type": "error",
          "ename": "AttributeError",
          "evalue": "'Student' object has no attribute 'name'",
          "traceback": [
            "\u001b[0;31m---------------------------------------------------------------------------\u001b[0m",
            "\u001b[0;31mAttributeError\u001b[0m                            Traceback (most recent call last)",
            "\u001b[0;32m<ipython-input-16-121e1dd4aa59>\u001b[0m in \u001b[0;36m<cell line: 2>\u001b[0;34m()\u001b[0m\n\u001b[1;32m      1\u001b[0m \u001b[0mb\u001b[0m\u001b[0;34m=\u001b[0m\u001b[0mStudent\u001b[0m\u001b[0;34m(\u001b[0m\u001b[0;34m)\u001b[0m\u001b[0;34m\u001b[0m\u001b[0;34m\u001b[0m\u001b[0m\n\u001b[0;32m----> 2\u001b[0;31m \u001b[0mb\u001b[0m\u001b[0;34m.\u001b[0m\u001b[0mname\u001b[0m\u001b[0;34m\u001b[0m\u001b[0;34m\u001b[0m\u001b[0m\n\u001b[0m",
            "\u001b[0;31mAttributeError\u001b[0m: 'Student' object has no attribute 'name'"
          ]
        }
      ]
    },
    {
      "cell_type": "code",
      "source": [
        "##3 constant varibles for a class\n",
        "## class variables -> available to every instance of the class\n",
        "class Student:\n",
        "  batch='DSML Evening'\n"
      ],
      "metadata": {
        "id": "ysOZYTj7YsHv"
      },
      "execution_count": null,
      "outputs": []
    },
    {
      "cell_type": "code",
      "source": [
        "a=Student()\n",
        "b=Student()"
      ],
      "metadata": {
        "id": "kOrCva_ZY1jp"
      },
      "execution_count": null,
      "outputs": []
    },
    {
      "cell_type": "code",
      "source": [
        "a.batch"
      ],
      "metadata": {
        "colab": {
          "base_uri": "https://localhost:8080/",
          "height": 35
        },
        "id": "hlllag_KY3ga",
        "outputId": "7eee148f-ae4f-4b04-a2e0-86d2dcd78c1d"
      },
      "execution_count": null,
      "outputs": [
        {
          "output_type": "execute_result",
          "data": {
            "text/plain": [
              "'DSML Evening'"
            ],
            "application/vnd.google.colaboratory.intrinsic+json": {
              "type": "string"
            }
          },
          "metadata": {},
          "execution_count": 20
        }
      ]
    },
    {
      "cell_type": "code",
      "source": [
        "b.batch"
      ],
      "metadata": {
        "colab": {
          "base_uri": "https://localhost:8080/",
          "height": 35
        },
        "id": "ApXvMQ2-Y6__",
        "outputId": "77419d60-b120-4370-e1a1-b28ff177ff0e"
      },
      "execution_count": null,
      "outputs": [
        {
          "output_type": "execute_result",
          "data": {
            "text/plain": [
              "'DSML Evening'"
            ],
            "application/vnd.google.colaboratory.intrinsic+json": {
              "type": "string"
            }
          },
          "metadata": {},
          "execution_count": 21
        }
      ]
    },
    {
      "cell_type": "code",
      "source": [
        "a.name=\"Sudhakar\""
      ],
      "metadata": {
        "id": "ZmGE2as7Y8Pp"
      },
      "execution_count": null,
      "outputs": []
    },
    {
      "cell_type": "code",
      "source": [
        "a.name"
      ],
      "metadata": {
        "colab": {
          "base_uri": "https://localhost:8080/",
          "height": 35
        },
        "id": "hBCV8wDxZMGT",
        "outputId": "03b9bf21-2ccb-47dd-9955-44070276d5f7"
      },
      "execution_count": null,
      "outputs": [
        {
          "output_type": "execute_result",
          "data": {
            "text/plain": [
              "'Sudhakar'"
            ],
            "application/vnd.google.colaboratory.intrinsic+json": {
              "type": "string"
            }
          },
          "metadata": {},
          "execution_count": 23
        }
      ]
    },
    {
      "cell_type": "code",
      "source": [
        "b.name"
      ],
      "metadata": {
        "colab": {
          "base_uri": "https://localhost:8080/",
          "height": 178
        },
        "id": "EbR0HNR4ZNAn",
        "outputId": "c9f10399-a826-4a90-ed73-06bc734ccd16"
      },
      "execution_count": null,
      "outputs": [
        {
          "output_type": "error",
          "ename": "AttributeError",
          "evalue": "'Student' object has no attribute 'name'",
          "traceback": [
            "\u001b[0;31m---------------------------------------------------------------------------\u001b[0m",
            "\u001b[0;31mAttributeError\u001b[0m                            Traceback (most recent call last)",
            "\u001b[0;32m<ipython-input-24-45bc9755420c>\u001b[0m in \u001b[0;36m<cell line: 1>\u001b[0;34m()\u001b[0m\n\u001b[0;32m----> 1\u001b[0;31m \u001b[0mb\u001b[0m\u001b[0;34m.\u001b[0m\u001b[0mname\u001b[0m\u001b[0;34m\u001b[0m\u001b[0;34m\u001b[0m\u001b[0m\n\u001b[0m",
            "\u001b[0;31mAttributeError\u001b[0m: 'Student' object has no attribute 'name'"
          ]
        }
      ]
    },
    {
      "cell_type": "code",
      "source": [
        "class Student:\n",
        "  batch='DSML Evening'\n",
        "\n",
        "a=Student()\n",
        "b=Student()\n"
      ],
      "metadata": {
        "id": "8zZX0j70ZRLh"
      },
      "execution_count": null,
      "outputs": []
    },
    {
      "cell_type": "code",
      "source": [
        "## overwrite a class variable with instance variable\n",
        "a.batch=\"DSML Evening Tue\""
      ],
      "metadata": {
        "id": "-2e3ktRIZb19"
      },
      "execution_count": null,
      "outputs": []
    },
    {
      "cell_type": "code",
      "source": [
        "a.batch"
      ],
      "metadata": {
        "colab": {
          "base_uri": "https://localhost:8080/",
          "height": 35
        },
        "id": "MfPkwJl2Ze4c",
        "outputId": "b92a8cac-df8c-4e11-effb-38eea66391a7"
      },
      "execution_count": null,
      "outputs": [
        {
          "output_type": "execute_result",
          "data": {
            "text/plain": [
              "'DSML Evening Tue'"
            ],
            "application/vnd.google.colaboratory.intrinsic+json": {
              "type": "string"
            }
          },
          "metadata": {},
          "execution_count": 27
        }
      ]
    },
    {
      "cell_type": "code",
      "source": [
        "b.batch"
      ],
      "metadata": {
        "colab": {
          "base_uri": "https://localhost:8080/",
          "height": 35
        },
        "id": "_XUpx4hlZf6Z",
        "outputId": "98e166c2-deae-40a6-da2b-7fc821e7d9ce"
      },
      "execution_count": null,
      "outputs": [
        {
          "output_type": "execute_result",
          "data": {
            "text/plain": [
              "'DSML Evening'"
            ],
            "application/vnd.google.colaboratory.intrinsic+json": {
              "type": "string"
            }
          },
          "metadata": {},
          "execution_count": 28
        }
      ]
    },
    {
      "cell_type": "code",
      "source": [
        "\"Archit\" + \" Sharma\""
      ],
      "metadata": {
        "colab": {
          "base_uri": "https://localhost:8080/",
          "height": 35
        },
        "id": "qbbea4eVZioI",
        "outputId": "4348aa11-8b48-4eb6-e3cc-b90297d076bc"
      },
      "execution_count": null,
      "outputs": [
        {
          "output_type": "execute_result",
          "data": {
            "text/plain": [
              "'Archit Sharma'"
            ],
            "application/vnd.google.colaboratory.intrinsic+json": {
              "type": "string"
            }
          },
          "metadata": {},
          "execution_count": 29
        }
      ]
    },
    {
      "cell_type": "code",
      "source": [
        "3+4"
      ],
      "metadata": {
        "colab": {
          "base_uri": "https://localhost:8080/"
        },
        "id": "5GipZV4cdM30",
        "outputId": "8aa69403-8927-4b82-fb65-941681943a19"
      },
      "execution_count": null,
      "outputs": [
        {
          "output_type": "execute_result",
          "data": {
            "text/plain": [
              "7"
            ]
          },
          "metadata": {},
          "execution_count": 30
        }
      ]
    },
    {
      "cell_type": "code",
      "source": [
        "def random(x):\n",
        "  if x>100:\n",
        "    return x**2\n",
        "  else:\n",
        "    return x+2\n",
        "\n",
        "random(100)"
      ],
      "metadata": {
        "colab": {
          "base_uri": "https://localhost:8080/"
        },
        "id": "EuFxUaZAdNBs",
        "outputId": "88276bf0-2c50-4e5f-cb9c-25a25529af49"
      },
      "execution_count": null,
      "outputs": [
        {
          "output_type": "execute_result",
          "data": {
            "text/plain": [
              "102"
            ]
          },
          "metadata": {},
          "execution_count": 31
        }
      ]
    },
    {
      "cell_type": "code",
      "source": [
        "random(101)"
      ],
      "metadata": {
        "colab": {
          "base_uri": "https://localhost:8080/"
        },
        "id": "Shnu9kwbdz1k",
        "outputId": "0e2fd555-b858-4c8d-8d4e-8281d31f7ef5"
      },
      "execution_count": null,
      "outputs": [
        {
          "output_type": "execute_result",
          "data": {
            "text/plain": [
              "10201"
            ]
          },
          "metadata": {},
          "execution_count": 32
        }
      ]
    },
    {
      "cell_type": "code",
      "source": [
        "def random(x):\n",
        "  if type(x)==str:\n",
        "    return print(x)\n",
        "  else:\n",
        "    return x+2\n",
        "\n",
        "random(100)"
      ],
      "metadata": {
        "colab": {
          "base_uri": "https://localhost:8080/"
        },
        "id": "py2ehnzld1KS",
        "outputId": "b2998313-7998-43b7-8fa0-fb0425910f8e"
      },
      "execution_count": null,
      "outputs": [
        {
          "output_type": "execute_result",
          "data": {
            "text/plain": [
              "102"
            ]
          },
          "metadata": {},
          "execution_count": 33
        }
      ]
    },
    {
      "cell_type": "code",
      "source": [
        "random(\"arndom\")"
      ],
      "metadata": {
        "colab": {
          "base_uri": "https://localhost:8080/",
          "height": 35
        },
        "id": "6svgCn2ueLKf",
        "outputId": "666a211f-d534-4920-8854-b1539ae2c011"
      },
      "execution_count": null,
      "outputs": [
        {
          "output_type": "execute_result",
          "data": {
            "text/plain": [
              "'arndomarndom'"
            ],
            "application/vnd.google.colaboratory.intrinsic+json": {
              "type": "string"
            }
          },
          "metadata": {},
          "execution_count": 34
        }
      ]
    },
    {
      "cell_type": "code",
      "source": [
        "## evrything is strored as an objec tin python\n",
        "isinstance(random,object)"
      ],
      "metadata": {
        "colab": {
          "base_uri": "https://localhost:8080/"
        },
        "id": "ln7gVU6XeMzK",
        "outputId": "63343b74-01c4-4726-9ac5-aba42bfe964c"
      },
      "execution_count": null,
      "outputs": [
        {
          "output_type": "execute_result",
          "data": {
            "text/plain": [
              "True"
            ]
          },
          "metadata": {},
          "execution_count": 38
        }
      ]
    },
    {
      "cell_type": "code",
      "source": [
        "class Student:\n",
        "  batch=\"Evening\"\n",
        "a=Student()\n",
        "a.name=\"Archit\"\n",
        "a.email=\"archit@test.com\"\n",
        "a.phone=\"9462720176\""
      ],
      "metadata": {
        "id": "GMPU5mslfVeh"
      },
      "execution_count": null,
      "outputs": []
    },
    {
      "cell_type": "code",
      "source": [
        "## cosntructor\n"
      ],
      "metadata": {
        "id": "5vAdYyInf-yY"
      },
      "execution_count": null,
      "outputs": []
    },
    {
      "cell_type": "code",
      "source": [
        "a=[]\n"
      ],
      "metadata": {
        "id": "5Cn4MfFqf-44"
      },
      "execution_count": null,
      "outputs": []
    },
    {
      "cell_type": "code",
      "source": [
        "a.append(5)"
      ],
      "metadata": {
        "id": "zgVv3FSQf_A9"
      },
      "execution_count": null,
      "outputs": []
    },
    {
      "cell_type": "code",
      "source": [
        "del a"
      ],
      "metadata": {
        "id": "PStmoRa_hyzW"
      },
      "execution_count": null,
      "outputs": []
    },
    {
      "cell_type": "code",
      "source": [
        "### how to add funcitons to class"
      ],
      "metadata": {
        "id": "FSgRvqobh29l"
      },
      "execution_count": null,
      "outputs": []
    },
    {
      "cell_type": "code",
      "source": [
        "# Everytime a student is created\n",
        "# i want to send an email to the user\n",
        "\n",
        "\n"
      ],
      "metadata": {
        "id": "Emd8YpU1ivcC"
      },
      "execution_count": null,
      "outputs": []
    },
    {
      "cell_type": "code",
      "source": [
        "### how to write functions for a class\n",
        "\n",
        "class Student:\n",
        "  batch=\"Evening\"\n",
        "  def hello(dsgasbd):\n",
        "    print(dsgasbd)\n",
        "    print(id(dsgasbd))\n",
        "    print(\"hello\")\n",
        "a=Student()"
      ],
      "metadata": {
        "id": "8zyQfGG0ivii"
      },
      "execution_count": null,
      "outputs": []
    },
    {
      "cell_type": "code",
      "source": [],
      "metadata": {
        "id": "5KxKrUSqk5xX"
      },
      "execution_count": null,
      "outputs": []
    },
    {
      "cell_type": "code",
      "source": [],
      "metadata": {
        "id": "S8e6A_vvk55a"
      },
      "execution_count": null,
      "outputs": []
    },
    {
      "cell_type": "code",
      "source": [
        "a.hello()"
      ],
      "metadata": {
        "colab": {
          "base_uri": "https://localhost:8080/"
        },
        "id": "PdYdqncxivlq",
        "outputId": "4f1c7d81-4307-452c-ea41-f704580bd47f"
      },
      "execution_count": null,
      "outputs": [
        {
          "output_type": "stream",
          "name": "stdout",
          "text": [
            "<__main__.Student object at 0x7d31ef71f6d0>\n",
            "137653424092880\n",
            "hello\n"
          ]
        }
      ]
    },
    {
      "cell_type": "code",
      "source": [
        "id(a)"
      ],
      "metadata": {
        "colab": {
          "base_uri": "https://localhost:8080/"
        },
        "id": "ddXzEPxLjoAU",
        "outputId": "93da037c-9410-4c57-83d4-f2fed5eae1db"
      },
      "execution_count": null,
      "outputs": [
        {
          "output_type": "execute_result",
          "data": {
            "text/plain": [
              "137653424092880"
            ]
          },
          "metadata": {},
          "execution_count": 49
        }
      ]
    },
    {
      "cell_type": "code",
      "source": [
        "def random(efargqegrqwe):\n",
        "  print(\"hello\")\n",
        "random(5)"
      ],
      "metadata": {
        "colab": {
          "base_uri": "https://localhost:8080/"
        },
        "id": "y2yrDQroj3yx",
        "outputId": "7d0af7fc-b7b4-4ccd-f52c-c34f95a3d9ff"
      },
      "execution_count": null,
      "outputs": [
        {
          "output_type": "stream",
          "name": "stdout",
          "text": [
            "hello\n"
          ]
        }
      ]
    },
    {
      "cell_type": "code",
      "source": [
        "class Student:\n",
        "  batch=\"Evening\"\n",
        "  def hello():\n",
        "    print(\"hello\")\n",
        "a=Student()\n",
        "a.hello()"
      ],
      "metadata": {
        "colab": {
          "base_uri": "https://localhost:8080/",
          "height": 213
        },
        "id": "aMCJMTyekdKv",
        "outputId": "4cd113f5-38ad-44f6-d13a-9be77e6d2f34"
      },
      "execution_count": null,
      "outputs": [
        {
          "output_type": "error",
          "ename": "TypeError",
          "evalue": "Student.hello() takes 0 positional arguments but 1 was given",
          "traceback": [
            "\u001b[0;31m---------------------------------------------------------------------------\u001b[0m",
            "\u001b[0;31mTypeError\u001b[0m                                 Traceback (most recent call last)",
            "\u001b[0;32m<ipython-input-51-5c368a8a311b>\u001b[0m in \u001b[0;36m<cell line: 6>\u001b[0;34m()\u001b[0m\n\u001b[1;32m      4\u001b[0m     \u001b[0mprint\u001b[0m\u001b[0;34m(\u001b[0m\u001b[0;34m\"hello\"\u001b[0m\u001b[0;34m)\u001b[0m\u001b[0;34m\u001b[0m\u001b[0;34m\u001b[0m\u001b[0m\n\u001b[1;32m      5\u001b[0m \u001b[0ma\u001b[0m\u001b[0;34m=\u001b[0m\u001b[0mStudent\u001b[0m\u001b[0;34m(\u001b[0m\u001b[0;34m)\u001b[0m\u001b[0;34m\u001b[0m\u001b[0;34m\u001b[0m\u001b[0m\n\u001b[0;32m----> 6\u001b[0;31m \u001b[0ma\u001b[0m\u001b[0;34m.\u001b[0m\u001b[0mhello\u001b[0m\u001b[0;34m(\u001b[0m\u001b[0;34m)\u001b[0m\u001b[0;34m\u001b[0m\u001b[0;34m\u001b[0m\u001b[0m\n\u001b[0m",
            "\u001b[0;31mTypeError\u001b[0m: Student.hello() takes 0 positional arguments but 1 was given"
          ]
        }
      ]
    },
    {
      "cell_type": "code",
      "source": [
        "class Student:\n",
        "  batch=\"Evening\"\n",
        "  def hello(fawfawqf):\n",
        "    print(\"hello\")\n",
        "a=Student()\n",
        "a.hello()"
      ],
      "metadata": {
        "id": "4XcHX-Gakk5F"
      },
      "execution_count": null,
      "outputs": []
    },
    {
      "cell_type": "code",
      "source": [],
      "metadata": {
        "id": "iQifPkctk6xJ"
      },
      "execution_count": null,
      "outputs": []
    },
    {
      "cell_type": "code",
      "source": [
        "import numpy as np"
      ],
      "metadata": {
        "id": "JxT-GQ6gk6zv"
      },
      "execution_count": null,
      "outputs": []
    },
    {
      "cell_type": "code",
      "source": [
        "a=np.array([1,2,3,4,5,6])"
      ],
      "metadata": {
        "id": "pgGkshKPk62W"
      },
      "execution_count": null,
      "outputs": []
    },
    {
      "cell_type": "code",
      "source": [],
      "metadata": {
        "colab": {
          "base_uri": "https://localhost:8080/"
        },
        "id": "6YraKtBek649",
        "outputId": "393075b9-5578-4cd7-cfcf-727dfa4d73bc"
      },
      "execution_count": null,
      "outputs": [
        {
          "output_type": "execute_result",
          "data": {
            "text/plain": [
              "21"
            ]
          },
          "metadata": {},
          "execution_count": 55
        }
      ]
    },
    {
      "cell_type": "code",
      "source": [
        "np.sum(a)"
      ],
      "metadata": {
        "colab": {
          "base_uri": "https://localhost:8080/"
        },
        "id": "dhouif08lDLl",
        "outputId": "fcb49585-a020-4b34-95fb-fc36a9acd78c"
      },
      "execution_count": null,
      "outputs": [
        {
          "output_type": "execute_result",
          "data": {
            "text/plain": [
              "21"
            ]
          },
          "metadata": {},
          "execution_count": 56
        }
      ]
    },
    {
      "cell_type": "code",
      "source": [
        "class Student:\n",
        "  batch=\"Evening\"\n",
        "  def hello():\n",
        "    print(\"hello\")\n",
        "a=Student()"
      ],
      "metadata": {
        "id": "V8oeUb9ilHz0"
      },
      "execution_count": null,
      "outputs": []
    },
    {
      "cell_type": "code",
      "source": [
        "Student.hello()"
      ],
      "metadata": {
        "colab": {
          "base_uri": "https://localhost:8080/"
        },
        "id": "my1ilMQQlcsB",
        "outputId": "760b1497-2592-4125-b8c2-bc96bb4ee872"
      },
      "execution_count": null,
      "outputs": [
        {
          "output_type": "stream",
          "name": "stdout",
          "text": [
            "hello\n"
          ]
        }
      ]
    },
    {
      "cell_type": "code",
      "source": [
        "a.hello()"
      ],
      "metadata": {
        "colab": {
          "base_uri": "https://localhost:8080/",
          "height": 178
        },
        "id": "sU2lV7ZUlqd9",
        "outputId": "033fb476-28f0-49fc-ffa1-079935bf87fa"
      },
      "execution_count": null,
      "outputs": [
        {
          "output_type": "error",
          "ename": "TypeError",
          "evalue": "Student.hello() takes 0 positional arguments but 1 was given",
          "traceback": [
            "\u001b[0;31m---------------------------------------------------------------------------\u001b[0m",
            "\u001b[0;31mTypeError\u001b[0m                                 Traceback (most recent call last)",
            "\u001b[0;32m<ipython-input-59-edc1730342fb>\u001b[0m in \u001b[0;36m<cell line: 1>\u001b[0;34m()\u001b[0m\n\u001b[0;32m----> 1\u001b[0;31m \u001b[0ma\u001b[0m\u001b[0;34m.\u001b[0m\u001b[0mhello\u001b[0m\u001b[0;34m(\u001b[0m\u001b[0;34m)\u001b[0m\u001b[0;34m\u001b[0m\u001b[0;34m\u001b[0m\u001b[0m\n\u001b[0m",
            "\u001b[0;31mTypeError\u001b[0m: Student.hello() takes 0 positional arguments but 1 was given"
          ]
        }
      ]
    },
    {
      "cell_type": "code",
      "source": [
        "a.hello()\n",
        "Student.hello(a)\n",
        "\n",
        "a.sum()\n",
        "np.sum(a)"
      ],
      "metadata": {
        "id": "eerwSRTileiT"
      },
      "execution_count": null,
      "outputs": []
    },
    {
      "cell_type": "code",
      "source": [],
      "metadata": {
        "id": "COSkjMCIl36f"
      },
      "execution_count": null,
      "outputs": []
    },
    {
      "cell_type": "code",
      "source": [
        "class Student:\n",
        "  batch=\"Evening\"\n",
        "  def hello(self):\n",
        "    print(\"hello\")\n",
        "a=Student()"
      ],
      "metadata": {
        "id": "DnSayaUnl39W"
      },
      "execution_count": null,
      "outputs": []
    },
    {
      "cell_type": "code",
      "source": [
        "a.hello()"
      ],
      "metadata": {
        "id": "E_7NhEsHl3_s"
      },
      "execution_count": null,
      "outputs": []
    },
    {
      "cell_type": "code",
      "source": [
        "Student.hello()"
      ],
      "metadata": {
        "id": "RIAGu0sil4Ck"
      },
      "execution_count": null,
      "outputs": []
    },
    {
      "cell_type": "code",
      "source": [
        "Student.hello(a)"
      ],
      "metadata": {
        "id": "zStSVwVHl-rP"
      },
      "execution_count": null,
      "outputs": []
    },
    {
      "cell_type": "code",
      "source": [],
      "metadata": {
        "id": "z1Ov3Z26mKHU"
      },
      "execution_count": null,
      "outputs": []
    },
    {
      "cell_type": "code",
      "source": [
        "class Student:\n",
        "  batch=\"Evening\"\n",
        "  def hello(self):\n",
        "    print(\"hello\")\n",
        "\n",
        "  def send_email(xyz):\n",
        "    print(xyz.email)\n",
        "    print(xyz.name)\n",
        "\n",
        "a=Student()\n",
        "a.name=\"Archit\"\n",
        "a.email=\"archit@test.com\"\n",
        "a.send_email()"
      ],
      "metadata": {
        "id": "_K4s5IpOmKJ7"
      },
      "execution_count": null,
      "outputs": []
    },
    {
      "cell_type": "code",
      "source": [
        "a.send_email()"
      ],
      "metadata": {
        "colab": {
          "base_uri": "https://localhost:8080/"
        },
        "id": "yifAMsaRmKMz",
        "outputId": "178d62e2-419b-4fd5-8a4c-7a6974b3f130"
      },
      "execution_count": null,
      "outputs": [
        {
          "output_type": "stream",
          "name": "stdout",
          "text": [
            "archit@test.com\n",
            "Archit\n"
          ]
        }
      ]
    },
    {
      "cell_type": "code",
      "source": [
        "a=Student()\n",
        "a.email=\"archit@test.com\"\n",
        "a.send_email()"
      ],
      "metadata": {
        "id": "iUg_GGXVmKPZ"
      },
      "execution_count": null,
      "outputs": []
    },
    {
      "cell_type": "code",
      "source": [
        "Student?"
      ],
      "metadata": {
        "id": "pGkwCKRSmKSQ"
      },
      "execution_count": null,
      "outputs": []
    },
    {
      "cell_type": "code",
      "source": [
        "def random(x):\n",
        "  return x**2\n",
        "\n",
        "\n",
        "def random(y):\n",
        "  return y**2\n"
      ],
      "metadata": {
        "id": "8FV8KU8jmKVY"
      },
      "execution_count": null,
      "outputs": []
    },
    {
      "cell_type": "code",
      "source": [],
      "metadata": {
        "id": "drEiObwMnWzR"
      },
      "execution_count": null,
      "outputs": []
    },
    {
      "cell_type": "code",
      "source": [
        "class Student:\n",
        "  batch=\"Evening\"\n",
        "  def hello(self):\n",
        "    print(\"hello\")\n",
        "\n",
        "  def send_email(xyz):\n",
        "    print(xyz.batch)\n",
        "    print(batch)\n",
        "    print(email)\n",
        "    print(name)\n",
        "\n",
        "a=Student()\n",
        "a.name=\"Archit\"\n",
        "a.email=\"archit@test.com\"\n",
        "a.send_email()"
      ],
      "metadata": {
        "colab": {
          "base_uri": "https://localhost:8080/",
          "height": 355
        },
        "id": "RlKWD_wLnW1n",
        "outputId": "85cdd090-1863-4c25-e5ac-0b30349213c6"
      },
      "execution_count": null,
      "outputs": [
        {
          "output_type": "stream",
          "name": "stdout",
          "text": [
            "Evening\n"
          ]
        },
        {
          "output_type": "error",
          "ename": "NameError",
          "evalue": "name 'batch' is not defined",
          "traceback": [
            "\u001b[0;31m---------------------------------------------------------------------------\u001b[0m",
            "\u001b[0;31mNameError\u001b[0m                                 Traceback (most recent call last)",
            "\u001b[0;32m<ipython-input-66-5667210aace0>\u001b[0m in \u001b[0;36m<cell line: 15>\u001b[0;34m()\u001b[0m\n\u001b[1;32m     13\u001b[0m \u001b[0ma\u001b[0m\u001b[0;34m.\u001b[0m\u001b[0mname\u001b[0m\u001b[0;34m=\u001b[0m\u001b[0;34m\"Archit\"\u001b[0m\u001b[0;34m\u001b[0m\u001b[0;34m\u001b[0m\u001b[0m\n\u001b[1;32m     14\u001b[0m \u001b[0ma\u001b[0m\u001b[0;34m.\u001b[0m\u001b[0memail\u001b[0m\u001b[0;34m=\u001b[0m\u001b[0;34m\"archit@test.com\"\u001b[0m\u001b[0;34m\u001b[0m\u001b[0;34m\u001b[0m\u001b[0m\n\u001b[0;32m---> 15\u001b[0;31m \u001b[0ma\u001b[0m\u001b[0;34m.\u001b[0m\u001b[0msend_email\u001b[0m\u001b[0;34m(\u001b[0m\u001b[0;34m)\u001b[0m\u001b[0;34m\u001b[0m\u001b[0;34m\u001b[0m\u001b[0m\n\u001b[0m",
            "\u001b[0;32m<ipython-input-66-5667210aace0>\u001b[0m in \u001b[0;36msend_email\u001b[0;34m(xyz)\u001b[0m\n\u001b[1;32m      6\u001b[0m   \u001b[0;32mdef\u001b[0m \u001b[0msend_email\u001b[0m\u001b[0;34m(\u001b[0m\u001b[0mxyz\u001b[0m\u001b[0;34m)\u001b[0m\u001b[0;34m:\u001b[0m\u001b[0;34m\u001b[0m\u001b[0;34m\u001b[0m\u001b[0m\n\u001b[1;32m      7\u001b[0m     \u001b[0mprint\u001b[0m\u001b[0;34m(\u001b[0m\u001b[0mxyz\u001b[0m\u001b[0;34m.\u001b[0m\u001b[0mbatch\u001b[0m\u001b[0;34m)\u001b[0m\u001b[0;34m\u001b[0m\u001b[0;34m\u001b[0m\u001b[0m\n\u001b[0;32m----> 8\u001b[0;31m     \u001b[0mprint\u001b[0m\u001b[0;34m(\u001b[0m\u001b[0mbatch\u001b[0m\u001b[0;34m)\u001b[0m\u001b[0;34m\u001b[0m\u001b[0;34m\u001b[0m\u001b[0m\n\u001b[0m\u001b[1;32m      9\u001b[0m     \u001b[0mprint\u001b[0m\u001b[0;34m(\u001b[0m\u001b[0memail\u001b[0m\u001b[0;34m)\u001b[0m\u001b[0;34m\u001b[0m\u001b[0;34m\u001b[0m\u001b[0m\n\u001b[1;32m     10\u001b[0m     \u001b[0mprint\u001b[0m\u001b[0;34m(\u001b[0m\u001b[0mname\u001b[0m\u001b[0;34m)\u001b[0m\u001b[0;34m\u001b[0m\u001b[0;34m\u001b[0m\u001b[0m\n",
            "\u001b[0;31mNameError\u001b[0m: name 'batch' is not defined"
          ]
        }
      ]
    },
    {
      "cell_type": "code",
      "source": [
        "a.send_email()\n",
        "\n",
        "\n",
        "\n",
        "Student.send_email(a)\n",
        "\n",
        "\n",
        "\n",
        "\n",
        "def send_email(xyz):\n",
        "    print(email)\n",
        "    print(name)\n",
        "\n"
      ],
      "metadata": {
        "id": "xAwGwxL5nW4T"
      },
      "execution_count": null,
      "outputs": []
    },
    {
      "cell_type": "code",
      "source": [
        "Think all functions work as a normal function"
      ],
      "metadata": {
        "id": "vlwtCKMpoC-Q"
      },
      "execution_count": null,
      "outputs": []
    },
    {
      "cell_type": "code",
      "source": [],
      "metadata": {
        "id": "EhofiHYLoDCs"
      },
      "execution_count": null,
      "outputs": []
    },
    {
      "cell_type": "code",
      "source": [
        "def send_email(xyz):\n",
        "    print(xyz.batch)\n",
        "    print(batch)\n",
        "    print(email)\n",
        "    print(name)"
      ],
      "metadata": {
        "id": "07OW5fRNoDFz"
      },
      "execution_count": null,
      "outputs": []
    },
    {
      "cell_type": "code",
      "source": [],
      "metadata": {
        "id": "QhhKIxXFoZMd"
      },
      "execution_count": null,
      "outputs": []
    },
    {
      "cell_type": "code",
      "source": [
        "class Student:\n",
        "  batch=\"Evening\"\n",
        "  def hello(self):\n",
        "    print(\"hello\")\n",
        "\n",
        "  def send_email(xyz,random_input):\n",
        "    print(xyz.batch)\n",
        "    print(xyz.email)\n",
        "    print(random_input)\n",
        "\n",
        "a=Student()\n",
        "a.name=\"Archit\"\n",
        "a.email=\"archit@test.com\"\n",
        "a.send_email(\"this is new\")"
      ],
      "metadata": {
        "colab": {
          "base_uri": "https://localhost:8080/"
        },
        "id": "XS02zemnoZPC",
        "outputId": "43d63786-27c9-4924-e906-3a244f0d5eb8"
      },
      "execution_count": null,
      "outputs": [
        {
          "output_type": "stream",
          "name": "stdout",
          "text": [
            "Evening\n",
            "archit@test.com\n",
            "this is new\n"
          ]
        }
      ]
    },
    {
      "cell_type": "code",
      "source": [
        "class Student:\n",
        "  batch=\"Evening\"\n",
        "  def hello(self):\n",
        "    print(\"hello\")\n",
        "\n",
        "  def send_email(xyz,random_input):\n",
        "    print(xyz.batch)\n",
        "    print(xyz.email)\n",
        "    print(random_input)\n",
        "\n",
        "a=Student()\n",
        "a.name=\"Archit\"\n",
        "a.email=\"archit@test.com\"\n",
        "a.send_email(\"welcome to scaler dsml\")"
      ],
      "metadata": {
        "id": "3UUcIlV4oiwM"
      },
      "execution_count": null,
      "outputs": []
    },
    {
      "cell_type": "code",
      "source": [
        "b=Student()\n",
        "b.name=\"Saurav\"\n",
        "b.email=\"saurav@test.com\"\n",
        "b.send_email(\"welcome to scaler dsml\")"
      ],
      "metadata": {
        "id": "lj17p5l3ozhE"
      },
      "execution_count": null,
      "outputs": []
    },
    {
      "cell_type": "code",
      "source": [
        "class Student:\n",
        "  batch=\"Evening\"\n",
        "  def hello(self,name,email):\n",
        "    self.email=email\n",
        "    self.name=name\n",
        "    self.send_email(\"welcome to scaler dsml\")\n",
        "\n",
        "  def send_email(xyz,random_input):\n",
        "    print(xyz.batch)\n",
        "    print(xyz.email)\n",
        "    print(random_input)\n",
        "\n",
        "a=Student()\n",
        "a.hello(\"Archit\",\"archit@test.com\")"
      ],
      "metadata": {
        "colab": {
          "base_uri": "https://localhost:8080/"
        },
        "id": "7WPf8O4gozle",
        "outputId": "b263e232-1dd8-42a4-ac26-5598f5c46542"
      },
      "execution_count": null,
      "outputs": [
        {
          "output_type": "stream",
          "name": "stdout",
          "text": [
            "Evening\n",
            "archit@test.com\n",
            "welcome to scaler dsml\n"
          ]
        }
      ]
    },
    {
      "cell_type": "code",
      "source": [
        "a.name"
      ],
      "metadata": {
        "colab": {
          "base_uri": "https://localhost:8080/",
          "height": 35
        },
        "id": "_1QuLyLRozoW",
        "outputId": "c2cb2d18-f53b-4889-d780-c67618c4b2a3"
      },
      "execution_count": null,
      "outputs": [
        {
          "output_type": "execute_result",
          "data": {
            "text/plain": [
              "'Archit'"
            ],
            "application/vnd.google.colaboratory.intrinsic+json": {
              "type": "string"
            }
          },
          "metadata": {},
          "execution_count": 69
        }
      ]
    },
    {
      "cell_type": "code",
      "source": [
        "a.email"
      ],
      "metadata": {
        "colab": {
          "base_uri": "https://localhost:8080/",
          "height": 35
        },
        "id": "gNNv-iOnozrv",
        "outputId": "fd089f8e-1bf1-4ba1-cf23-5ce34094a1d0"
      },
      "execution_count": null,
      "outputs": [
        {
          "output_type": "execute_result",
          "data": {
            "text/plain": [
              "'archit@test.com'"
            ],
            "application/vnd.google.colaboratory.intrinsic+json": {
              "type": "string"
            }
          },
          "metadata": {},
          "execution_count": 70
        }
      ]
    },
    {
      "cell_type": "code",
      "source": [
        "class Student:\n",
        "  batch=\"Evening\"\n",
        "  def hello(self,name,email):\n",
        "    self.email=email\n",
        "    self.name=name\n",
        "    self.send_email(\"welcome to scaler dsml\")\n",
        "\n",
        "  def send_email(xyz,random_input):\n",
        "    print(xyz.batch)\n",
        "    print(xyz.email)\n",
        "    print(random_input)\n",
        "\n",
        "a=Student()\n",
        "a.hello(\"Archit\",\"archit@test.com\")\n",
        "\n",
        "\n",
        "class Student:\n",
        "  batch=\"Evening\"\n",
        "  def __init__(self,name,email):\n",
        "    self.email=email\n",
        "    self.name=name\n",
        "    self.send_email(\"welcome to scaler dsml\")\n",
        "\n",
        "  def send_email(xyz,random_input):\n",
        "    print(xyz.batch)\n",
        "    print(xyz.email)\n",
        "    print(random_input)\n",
        "\n",
        "a=Student(\"Archit\",\"archit@test.com\")"
      ],
      "metadata": {
        "id": "dtTkj-c2p7Wa"
      },
      "execution_count": null,
      "outputs": []
    },
    {
      "cell_type": "code",
      "source": [],
      "metadata": {
        "id": "q9VIKsv2rLN1"
      },
      "execution_count": null,
      "outputs": []
    },
    {
      "cell_type": "code",
      "source": [],
      "metadata": {
        "id": "z95q78OvrLRg"
      },
      "execution_count": null,
      "outputs": []
    },
    {
      "cell_type": "code",
      "source": [
        "class Student:\n",
        "  batch=\"Evening\"\n",
        "  def __init__(self,name,email,age):\n",
        "    self.email=email\n",
        "    self.name=name\n",
        "    self.age=age\n",
        "    self.send_email(\"welcome to scaler dsml\")\n",
        "\n",
        "  def send_email(xyz,random_input):\n",
        "    print(xyz.batch)\n",
        "    print(xyz.email)\n",
        "    print(random_input)\n",
        "\n",
        "a=Student(\"Archit\",\"archit@test.com\",26)\n"
      ],
      "metadata": {
        "colab": {
          "base_uri": "https://localhost:8080/"
        },
        "id": "issMPMWWrLUW",
        "outputId": "caf49110-837a-452a-9040-6a9ff6609991"
      },
      "execution_count": null,
      "outputs": [
        {
          "output_type": "stream",
          "name": "stdout",
          "text": [
            "Evening\n",
            "archit@test.com\n",
            "welcome to scaler dsml\n"
          ]
        }
      ]
    },
    {
      "cell_type": "code",
      "source": [],
      "metadata": {
        "id": "jgLSSFYVruCn"
      },
      "execution_count": null,
      "outputs": []
    },
    {
      "cell_type": "code",
      "source": [],
      "metadata": {
        "id": "MSzFE2sGruJY"
      },
      "execution_count": null,
      "outputs": []
    },
    {
      "cell_type": "code",
      "source": [],
      "metadata": {
        "id": "8c78R9UzruL-"
      },
      "execution_count": null,
      "outputs": []
    },
    {
      "cell_type": "code",
      "source": [],
      "metadata": {
        "id": "3MYw0M_pruOk"
      },
      "execution_count": null,
      "outputs": []
    },
    {
      "cell_type": "code",
      "source": [],
      "metadata": {
        "id": "-xSZZ2QcruRL"
      },
      "execution_count": null,
      "outputs": []
    },
    {
      "cell_type": "code",
      "source": [
        "a.age"
      ],
      "metadata": {
        "colab": {
          "base_uri": "https://localhost:8080/"
        },
        "id": "WXRQqYqgrTF-",
        "outputId": "c7990571-3d82-4492-8fff-ee11e0bff955"
      },
      "execution_count": null,
      "outputs": [
        {
          "output_type": "execute_result",
          "data": {
            "text/plain": [
              "26"
            ]
          },
          "metadata": {},
          "execution_count": 73
        }
      ]
    },
    {
      "cell_type": "code",
      "source": [
        "class Student:\n",
        "  batch=\"Evening\"\n",
        "  def __init__(self,name,email,age):\n",
        "    self.email=email\n",
        "    self.name=name\n",
        "    self.age=age\n",
        "    self.send_email(\"welcome to scaler dsml\")\n",
        "  def send_email(xyz,random_input):\n",
        "    print(xyz.batch)\n",
        "    print(xyz.email)\n",
        "    print(random_input)\n",
        "\n",
        "a=Student(\"Archit\",\"archit@test.com\",26)"
      ],
      "metadata": {
        "id": "6OXoYDAKrXk9"
      },
      "execution_count": null,
      "outputs": []
    },
    {
      "cell_type": "code",
      "source": [],
      "metadata": {
        "id": "kvzCW1deru3u"
      },
      "execution_count": null,
      "outputs": []
    },
    {
      "cell_type": "code",
      "source": [],
      "metadata": {
        "id": "FWJXsnrXru6Y"
      },
      "execution_count": null,
      "outputs": []
    },
    {
      "cell_type": "code",
      "source": [
        "def send_email(xyz,random_input):\n",
        "    print(xyz.batch)\n",
        "    print(xyz.email)\n",
        "    print(random_input)\n",
        "\n",
        "class Student:\n",
        "  batch=\"Evening\"\n",
        "  def __init__(self,name,email,age):\n",
        "    self.email=email\n",
        "    self.name=name\n",
        "    self.age=age\n",
        "    send_email(self,\"welcome to scaler dsml\")\n",
        "a=Student(\"Archit\",\"archit@test.com\",26)\n"
      ],
      "metadata": {
        "colab": {
          "base_uri": "https://localhost:8080/"
        },
        "id": "G2dssJM7ru8q",
        "outputId": "b568ccf8-84f1-4d87-c305-fd31bd251353"
      },
      "execution_count": null,
      "outputs": [
        {
          "output_type": "stream",
          "name": "stdout",
          "text": [
            "Evening\n",
            "archit@test.com\n",
            "welcome to scaler dsml\n"
          ]
        }
      ]
    },
    {
      "cell_type": "code",
      "source": [],
      "metadata": {
        "id": "K3DsT7-nru_C"
      },
      "execution_count": null,
      "outputs": []
    },
    {
      "cell_type": "code",
      "source": [
        "class Student:\n",
        "  batch=\"Evening\"\n",
        "  def __init__(self,name,email,age):\n",
        "    self.email=email\n",
        "    self.name=name\n",
        "    self.age=age\n",
        "    self.send_email(\"welcome to scaler dsml\")\n",
        "  def send_email(xyz,random_input):\n",
        "    print(xyz.batch)\n",
        "    print(xyz.email)\n",
        "    print(random_input)\n",
        "\n",
        "a=Student(\"Archit\",\"archit@test.com\",26)"
      ],
      "metadata": {
        "colab": {
          "base_uri": "https://localhost:8080/"
        },
        "id": "r2GLmOzirvBo",
        "outputId": "fac3d58f-83f6-496c-b57b-e07823aab66a"
      },
      "execution_count": null,
      "outputs": [
        {
          "output_type": "stream",
          "name": "stdout",
          "text": [
            "Evening\n",
            "archit@test.com\n",
            "welcome to scaler dsml\n"
          ]
        }
      ]
    },
    {
      "cell_type": "code",
      "source": [
        "a.send_email(\"second call\")"
      ],
      "metadata": {
        "colab": {
          "base_uri": "https://localhost:8080/"
        },
        "id": "U4w6C2cgrvEO",
        "outputId": "bc1bce2a-3c35-4311-e332-a8e5224b222a"
      },
      "execution_count": null,
      "outputs": [
        {
          "output_type": "stream",
          "name": "stdout",
          "text": [
            "Evening\n",
            "archit@test.com\n",
            "second call\n"
          ]
        }
      ]
    },
    {
      "cell_type": "code",
      "source": [],
      "metadata": {
        "id": "aXMZgPVLsTes"
      },
      "execution_count": null,
      "outputs": []
    },
    {
      "cell_type": "code",
      "source": [
        "class Dog:\n",
        "  kind=\"canine\"\n",
        "  def __init__(self,name):\n",
        "    self.name=name"
      ],
      "metadata": {
        "id": "vXL5epK2sZ6-"
      },
      "execution_count": null,
      "outputs": []
    },
    {
      "cell_type": "code",
      "source": [
        "d1=Dog(\"tuffy\")\n",
        "d2=Dog(\"Scooby\")"
      ],
      "metadata": {
        "id": "jhEXAlYZsZ9m"
      },
      "execution_count": null,
      "outputs": []
    },
    {
      "cell_type": "code",
      "source": [
        "d1.name"
      ],
      "metadata": {
        "colab": {
          "base_uri": "https://localhost:8080/",
          "height": 35
        },
        "id": "Fked-pnRsaAL",
        "outputId": "edc63c01-0a62-464b-8d46-5dd343cf85a0"
      },
      "execution_count": null,
      "outputs": [
        {
          "output_type": "execute_result",
          "data": {
            "text/plain": [
              "'tuffy'"
            ],
            "application/vnd.google.colaboratory.intrinsic+json": {
              "type": "string"
            }
          },
          "metadata": {},
          "execution_count": 81
        }
      ]
    },
    {
      "cell_type": "code",
      "source": [
        "d1.kind"
      ],
      "metadata": {
        "colab": {
          "base_uri": "https://localhost:8080/",
          "height": 35
        },
        "id": "2jdzzAENsaCy",
        "outputId": "23409fd2-5b84-4dfa-b8f0-4dbedbe2de75"
      },
      "execution_count": null,
      "outputs": [
        {
          "output_type": "execute_result",
          "data": {
            "text/plain": [
              "'canine'"
            ],
            "application/vnd.google.colaboratory.intrinsic+json": {
              "type": "string"
            }
          },
          "metadata": {},
          "execution_count": 82
        }
      ]
    },
    {
      "cell_type": "code",
      "source": [
        "d1.name=\"Popeye\""
      ],
      "metadata": {
        "id": "-0eAxETTsqlV"
      },
      "execution_count": null,
      "outputs": []
    },
    {
      "cell_type": "code",
      "source": [
        "d1.name"
      ],
      "metadata": {
        "colab": {
          "base_uri": "https://localhost:8080/",
          "height": 35
        },
        "id": "6P11aysNssqD",
        "outputId": "28d375ef-2fbb-4e07-ccf8-ae9d0da1c1ed"
      },
      "execution_count": null,
      "outputs": [
        {
          "output_type": "execute_result",
          "data": {
            "text/plain": [
              "'Popeye'"
            ],
            "application/vnd.google.colaboratory.intrinsic+json": {
              "type": "string"
            }
          },
          "metadata": {},
          "execution_count": 84
        }
      ]
    },
    {
      "cell_type": "code",
      "source": [
        "d2.name"
      ],
      "metadata": {
        "colab": {
          "base_uri": "https://localhost:8080/",
          "height": 35
        },
        "id": "ejTvCAHrsudc",
        "outputId": "6720883b-e7f3-42aa-fc3c-d4703b48e954"
      },
      "execution_count": null,
      "outputs": [
        {
          "output_type": "execute_result",
          "data": {
            "text/plain": [
              "'Scooby'"
            ],
            "application/vnd.google.colaboratory.intrinsic+json": {
              "type": "string"
            }
          },
          "metadata": {},
          "execution_count": 85
        }
      ]
    },
    {
      "cell_type": "code",
      "source": [
        "d1.kind=\"doberman\""
      ],
      "metadata": {
        "id": "OVdEOp5HswDD"
      },
      "execution_count": null,
      "outputs": []
    },
    {
      "cell_type": "code",
      "source": [
        "d2.kind"
      ],
      "metadata": {
        "colab": {
          "base_uri": "https://localhost:8080/",
          "height": 35
        },
        "id": "tDnyMeGps0x2",
        "outputId": "4411bb6a-af78-4096-e1a5-69ef7cac66f2"
      },
      "execution_count": null,
      "outputs": [
        {
          "output_type": "execute_result",
          "data": {
            "text/plain": [
              "'canine'"
            ],
            "application/vnd.google.colaboratory.intrinsic+json": {
              "type": "string"
            }
          },
          "metadata": {},
          "execution_count": 87
        }
      ]
    },
    {
      "cell_type": "code",
      "source": [
        "class Dog:\n",
        "  kind=\"canine\"\n",
        "  tricks=[]\n",
        "  def __init__(self,name):\n",
        "    self.name=name\n",
        "  def teach_trick(self,trick):\n",
        "    self.tricks.append(trick)"
      ],
      "metadata": {
        "id": "jg4lviqDs3cC"
      },
      "execution_count": null,
      "outputs": []
    },
    {
      "cell_type": "code",
      "source": [
        "d1=Dog(\"tuffy\")\n",
        "d2=Dog(\"Scooby\")"
      ],
      "metadata": {
        "id": "WbzzTCpltNE1"
      },
      "execution_count": null,
      "outputs": []
    },
    {
      "cell_type": "code",
      "source": [
        "d1.tricks"
      ],
      "metadata": {
        "colab": {
          "base_uri": "https://localhost:8080/"
        },
        "id": "Z4rAMnqutTh5",
        "outputId": "1024219f-f1d0-4b30-cf2e-e9e2b93be528"
      },
      "execution_count": null,
      "outputs": [
        {
          "output_type": "execute_result",
          "data": {
            "text/plain": [
              "[]"
            ]
          },
          "metadata": {},
          "execution_count": 92
        }
      ]
    },
    {
      "cell_type": "code",
      "source": [
        "d2.tricks"
      ],
      "metadata": {
        "colab": {
          "base_uri": "https://localhost:8080/"
        },
        "id": "8EU-dQfytY1k",
        "outputId": "eb4dde74-8c11-4902-bdd7-bdf59544125c"
      },
      "execution_count": null,
      "outputs": [
        {
          "output_type": "execute_result",
          "data": {
            "text/plain": [
              "[]"
            ]
          },
          "metadata": {},
          "execution_count": 93
        }
      ]
    },
    {
      "cell_type": "code",
      "source": [
        "d1.teach_trick('jump')"
      ],
      "metadata": {
        "id": "CCAEIYt3tZ0T"
      },
      "execution_count": null,
      "outputs": []
    },
    {
      "cell_type": "code",
      "source": [
        "d1.tricks"
      ],
      "metadata": {
        "colab": {
          "base_uri": "https://localhost:8080/"
        },
        "id": "igHq6CiNtdYs",
        "outputId": "eb268c76-4685-4cff-c33b-be07ca2a2341"
      },
      "execution_count": null,
      "outputs": [
        {
          "output_type": "execute_result",
          "data": {
            "text/plain": [
              "['jump']"
            ]
          },
          "metadata": {},
          "execution_count": 95
        }
      ]
    },
    {
      "cell_type": "code",
      "source": [
        "d2.tricks"
      ],
      "metadata": {
        "colab": {
          "base_uri": "https://localhost:8080/"
        },
        "id": "Ds7hzChmtge4",
        "outputId": "037b0369-9909-472b-bf60-b5071ed306cc"
      },
      "execution_count": null,
      "outputs": [
        {
          "output_type": "execute_result",
          "data": {
            "text/plain": [
              "['jump']"
            ]
          },
          "metadata": {},
          "execution_count": 97
        }
      ]
    },
    {
      "cell_type": "code",
      "source": [
        "## shallow copy\n",
        "\n",
        "\n",
        "# if we use any mutable objects inside a property of class\n",
        "# then it might get changed for every instance"
      ],
      "metadata": {
        "id": "ogE8m1F5tjlN"
      },
      "execution_count": null,
      "outputs": []
    },
    {
      "cell_type": "code",
      "source": [],
      "metadata": {
        "id": "he8F2-g_t7cK"
      },
      "execution_count": null,
      "outputs": []
    },
    {
      "cell_type": "code",
      "source": [
        "def random(arr,a):\n",
        "  a=4\n",
        "  arr.append(a)\n",
        "  return arr,a\n",
        "arr=[]\n",
        "a=5\n",
        "random(arr,a)\n",
        "print(arr,a)"
      ],
      "metadata": {
        "colab": {
          "base_uri": "https://localhost:8080/"
        },
        "id": "MsWB-xrat7ek",
        "outputId": "a4ae759f-4531-4188-d946-5f3a636a4a46"
      },
      "execution_count": null,
      "outputs": [
        {
          "output_type": "stream",
          "name": "stdout",
          "text": [
            "[4] 5\n"
          ]
        }
      ]
    },
    {
      "cell_type": "code",
      "source": [
        "class Dog:\n",
        "  kind=\"canine\"\n",
        "  def __init__(self,name):\n",
        "    self.name=name\n",
        "    self.tricks=[]\n",
        "  def teach_trick(self,trick):\n",
        "    self.tricks.append(trick)\n",
        "d1=Dog(\"tuffy\")\n",
        "d2=Dog(\"Scooby\")\n",
        "d1.teach_trick('jump')"
      ],
      "metadata": {
        "id": "atYQ2LZ6uKEb"
      },
      "execution_count": null,
      "outputs": []
    },
    {
      "cell_type": "code",
      "source": [
        "d2.tricks"
      ],
      "metadata": {
        "colab": {
          "base_uri": "https://localhost:8080/"
        },
        "id": "nAKssT12ua_P",
        "outputId": "70605084-edc8-4dd9-837e-152d61d96a50"
      },
      "execution_count": null,
      "outputs": [
        {
          "output_type": "execute_result",
          "data": {
            "text/plain": [
              "[]"
            ]
          },
          "metadata": {},
          "execution_count": 100
        }
      ]
    },
    {
      "cell_type": "code",
      "source": [
        "##\n",
        "\n",
        "isinstance(5,str)"
      ],
      "metadata": {
        "id": "3mVi70smueaB",
        "colab": {
          "base_uri": "https://localhost:8080/"
        },
        "outputId": "c43f93cb-206a-44bf-c111-b01dc3bb9799"
      },
      "execution_count": 101,
      "outputs": [
        {
          "output_type": "execute_result",
          "data": {
            "text/plain": [
              "False"
            ]
          },
          "metadata": {},
          "execution_count": 101
        }
      ]
    },
    {
      "cell_type": "code",
      "source": [
        "isinstance(5,int)"
      ],
      "metadata": {
        "colab": {
          "base_uri": "https://localhost:8080/"
        },
        "id": "R_z7MYxbxiV5",
        "outputId": "2a2b0a09-f0fb-479f-a39c-4cad29d51a3a"
      },
      "execution_count": 102,
      "outputs": [
        {
          "output_type": "execute_result",
          "data": {
            "text/plain": [
              "True"
            ]
          },
          "metadata": {},
          "execution_count": 102
        }
      ]
    },
    {
      "cell_type": "code",
      "source": [
        "isinstance(5.0,float)"
      ],
      "metadata": {
        "colab": {
          "base_uri": "https://localhost:8080/"
        },
        "id": "tC8OsWqtxjrj",
        "outputId": "a7031e23-e2ed-4764-e734-5ff45d506676"
      },
      "execution_count": 104,
      "outputs": [
        {
          "output_type": "execute_result",
          "data": {
            "text/plain": [
              "True"
            ]
          },
          "metadata": {},
          "execution_count": 104
        }
      ]
    },
    {
      "cell_type": "code",
      "source": [
        "isinstance(5.0,object)"
      ],
      "metadata": {
        "colab": {
          "base_uri": "https://localhost:8080/"
        },
        "id": "6PKp4l_hxmvq",
        "outputId": "8a8bbc15-316e-451e-c1ad-42f7dfc00fd1"
      },
      "execution_count": 105,
      "outputs": [
        {
          "output_type": "execute_result",
          "data": {
            "text/plain": [
              "True"
            ]
          },
          "metadata": {},
          "execution_count": 105
        }
      ]
    },
    {
      "cell_type": "code",
      "source": [
        "[]"
      ],
      "metadata": {
        "id": "dL2LilN7yjw7"
      },
      "execution_count": null,
      "outputs": []
    },
    {
      "cell_type": "code",
      "source": [
        "a=[1,2,3,4]\n",
        "b=[1,2,3,4]\n",
        "c=[1,2,3,4]\n",
        "\n",
        "\n",
        "a.extend(b)\n",
        "\n",
        "\n",
        "for i in (a,b,c):\n",
        "  for j in i:\n",
        "    print(j)"
      ],
      "metadata": {
        "colab": {
          "base_uri": "https://localhost:8080/"
        },
        "id": "wD0wXS1TxrJi",
        "outputId": "023364d1-b90a-419f-c5c8-28ca73d412b5"
      },
      "execution_count": 107,
      "outputs": [
        {
          "output_type": "stream",
          "name": "stdout",
          "text": [
            "1\n",
            "2\n",
            "3\n",
            "4\n",
            "1\n",
            "2\n",
            "3\n",
            "4\n",
            "1\n",
            "2\n",
            "3\n",
            "4\n"
          ]
        }
      ]
    },
    {
      "cell_type": "code",
      "source": [
        "for i in range(len(a)):\n",
        "  print(a[i])"
      ],
      "metadata": {
        "colab": {
          "base_uri": "https://localhost:8080/"
        },
        "id": "tscXKh8NyePf",
        "outputId": "f1ee83bd-804d-46aa-8016-82573cec3de1"
      },
      "execution_count": 108,
      "outputs": [
        {
          "output_type": "stream",
          "name": "stdout",
          "text": [
            "1\n",
            "2\n",
            "3\n",
            "4\n"
          ]
        }
      ]
    },
    {
      "cell_type": "code",
      "source": [
        "for i in a:\n",
        "  print(i)"
      ],
      "metadata": {
        "colab": {
          "base_uri": "https://localhost:8080/"
        },
        "id": "w3iE1rcbyIz0",
        "outputId": "8969266b-c2e3-4ef3-df8e-95cc20829e4e"
      },
      "execution_count": 109,
      "outputs": [
        {
          "output_type": "stream",
          "name": "stdout",
          "text": [
            "1\n",
            "2\n",
            "3\n",
            "4\n"
          ]
        }
      ]
    },
    {
      "cell_type": "code",
      "source": [
        "for i in (a,b,c):\n",
        "  print(i[0])"
      ],
      "metadata": {
        "colab": {
          "base_uri": "https://localhost:8080/"
        },
        "id": "6PyPECySyo8e",
        "outputId": "75b114b5-5fa8-4a15-ccc7-3e8c1caea9d2"
      },
      "execution_count": 110,
      "outputs": [
        {
          "output_type": "stream",
          "name": "stdout",
          "text": [
            "1\n",
            "1\n",
            "1\n"
          ]
        }
      ]
    },
    {
      "cell_type": "code",
      "source": [
        "## polymorphism\n",
        "\n",
        "## same funciton -> different answers/behavious\n"
      ],
      "metadata": {
        "id": "m1TZrM8hyt0E"
      },
      "execution_count": null,
      "outputs": []
    }
  ]
}