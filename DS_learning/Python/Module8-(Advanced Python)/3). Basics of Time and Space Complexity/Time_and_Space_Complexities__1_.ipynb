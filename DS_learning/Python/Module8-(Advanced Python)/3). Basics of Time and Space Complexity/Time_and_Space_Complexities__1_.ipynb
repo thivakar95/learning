{
  "nbformat": 4,
  "nbformat_minor": 0,
  "metadata": {
    "colab": {
      "provenance": []
    },
    "kernelspec": {
      "name": "python3",
      "display_name": "Python 3"
    },
    "language_info": {
      "name": "python"
    }
  },
  "cells": [
    {
      "cell_type": "code",
      "execution_count": 1,
      "metadata": {
        "colab": {
          "base_uri": "https://localhost:8080/"
        },
        "id": "B23sYp3b0sa8",
        "outputId": "9cd8987e-db82-4cab-f39d-27c375855d90"
      },
      "outputs": [
        {
          "output_type": "execute_result",
          "data": {
            "text/plain": [
              "18"
            ]
          },
          "metadata": {},
          "execution_count": 1
        }
      ],
      "source": [
        "for i in range(10):\n",
        "  x=i*2\n",
        "x"
      ]
    },
    {
      "cell_type": "code",
      "source": [
        "def loop_function():\n",
        "  for i in range(10):\n",
        "    a=i*2\n",
        "a"
      ],
      "metadata": {
        "colab": {
          "base_uri": "https://localhost:8080/",
          "height": 213
        },
        "id": "1AUmR0mF2nz6",
        "outputId": "dee9f9f7-301b-4ad4-eb85-f704658c2603"
      },
      "execution_count": 2,
      "outputs": [
        {
          "output_type": "error",
          "ename": "NameError",
          "evalue": "name 'a' is not defined",
          "traceback": [
            "\u001b[0;31m---------------------------------------------------------------------------\u001b[0m",
            "\u001b[0;31mNameError\u001b[0m                                 Traceback (most recent call last)",
            "\u001b[0;32m<ipython-input-2-4ac86f7636bd>\u001b[0m in \u001b[0;36m<cell line: 4>\u001b[0;34m()\u001b[0m\n\u001b[1;32m      2\u001b[0m   \u001b[0;32mfor\u001b[0m \u001b[0mi\u001b[0m \u001b[0;32min\u001b[0m \u001b[0mrange\u001b[0m\u001b[0;34m(\u001b[0m\u001b[0;36m10\u001b[0m\u001b[0;34m)\u001b[0m\u001b[0;34m:\u001b[0m\u001b[0;34m\u001b[0m\u001b[0;34m\u001b[0m\u001b[0m\n\u001b[1;32m      3\u001b[0m     \u001b[0ma\u001b[0m\u001b[0;34m=\u001b[0m\u001b[0mi\u001b[0m\u001b[0;34m*\u001b[0m\u001b[0;36m2\u001b[0m\u001b[0;34m\u001b[0m\u001b[0;34m\u001b[0m\u001b[0m\n\u001b[0;32m----> 4\u001b[0;31m \u001b[0ma\u001b[0m\u001b[0;34m\u001b[0m\u001b[0;34m\u001b[0m\u001b[0m\n\u001b[0m",
            "\u001b[0;31mNameError\u001b[0m: name 'a' is not defined"
          ]
        }
      ]
    },
    {
      "cell_type": "code",
      "source": [
        "loop_function()"
      ],
      "metadata": {
        "id": "tI0S6_Hq22Il"
      },
      "execution_count": 3,
      "outputs": []
    },
    {
      "cell_type": "code",
      "source": [
        "a"
      ],
      "metadata": {
        "colab": {
          "base_uri": "https://localhost:8080/",
          "height": 178
        },
        "id": "p1Ogs4id2-G4",
        "outputId": "e96ae99f-fec3-4ea6-e890-955d5a788f99"
      },
      "execution_count": 4,
      "outputs": [
        {
          "output_type": "error",
          "ename": "NameError",
          "evalue": "name 'a' is not defined",
          "traceback": [
            "\u001b[0;31m---------------------------------------------------------------------------\u001b[0m",
            "\u001b[0;31mNameError\u001b[0m                                 Traceback (most recent call last)",
            "\u001b[0;32m<ipython-input-4-3f786850e387>\u001b[0m in \u001b[0;36m<cell line: 1>\u001b[0;34m()\u001b[0m\n\u001b[0;32m----> 1\u001b[0;31m \u001b[0ma\u001b[0m\u001b[0;34m\u001b[0m\u001b[0;34m\u001b[0m\u001b[0m\n\u001b[0m",
            "\u001b[0;31mNameError\u001b[0m: name 'a' is not defined"
          ]
        }
      ]
    },
    {
      "cell_type": "code",
      "source": [
        "x=3\n",
        "if x<5:\n",
        "  y=12\n",
        "\n",
        "y"
      ],
      "metadata": {
        "colab": {
          "base_uri": "https://localhost:8080/"
        },
        "id": "N4gzIbEp3A5a",
        "outputId": "1fdeff3f-578c-40ad-8cfc-6175e702533c"
      },
      "execution_count": 6,
      "outputs": [
        {
          "output_type": "execute_result",
          "data": {
            "text/plain": [
              "12"
            ]
          },
          "metadata": {},
          "execution_count": 6
        }
      ]
    },
    {
      "cell_type": "code",
      "source": [
        "s1='hello'\n",
        "s2=\"this\"\n",
        "s3=\"\"\" fewsbfg \"\"\"\n",
        "\n",
        "## triple quotes supports multiline string"
      ],
      "metadata": {
        "id": "wgJvSWO-3SFq"
      },
      "execution_count": null,
      "outputs": []
    },
    {
      "cell_type": "code",
      "source": [
        "s3=\"\"\" fewsbfg\n",
        "fsafaf\n",
        "df\n",
        "sdfav\n",
        "\n",
        "gars\n",
        " \"\"\"\n",
        "print(s3)"
      ],
      "metadata": {
        "colab": {
          "base_uri": "https://localhost:8080/"
        },
        "id": "yDGh4kfN3rne",
        "outputId": "c7ce98ac-968d-489e-e047-fdb9ea4ec52b"
      },
      "execution_count": 7,
      "outputs": [
        {
          "output_type": "stream",
          "name": "stdout",
          "text": [
            " fewsbfg\n",
            "fsafaf\n",
            "df\n",
            "sdfav\n",
            "\n",
            "gars\n",
            " \n"
          ]
        }
      ]
    },
    {
      "cell_type": "code",
      "source": [
        "s=\"python\"\n",
        "## first occurence of a character\n",
        "s.index('t')"
      ],
      "metadata": {
        "colab": {
          "base_uri": "https://localhost:8080/"
        },
        "id": "BctxLBnY3zCK",
        "outputId": "6caea100-08cd-41cc-9da4-00a189ce892e"
      },
      "execution_count": 8,
      "outputs": [
        {
          "output_type": "execute_result",
          "data": {
            "text/plain": [
              "2"
            ]
          },
          "metadata": {},
          "execution_count": 8
        }
      ]
    },
    {
      "cell_type": "code",
      "source": [
        "s[2]"
      ],
      "metadata": {
        "colab": {
          "base_uri": "https://localhost:8080/",
          "height": 35
        },
        "id": "2o2gi0fN37M9",
        "outputId": "3411005d-89e0-493a-b7a9-4f085670b637"
      },
      "execution_count": 9,
      "outputs": [
        {
          "output_type": "execute_result",
          "data": {
            "text/plain": [
              "'t'"
            ],
            "application/vnd.google.colaboratory.intrinsic+json": {
              "type": "string"
            }
          },
          "metadata": {},
          "execution_count": 9
        }
      ]
    },
    {
      "cell_type": "code",
      "source": [
        "s=\"pythont\"\n",
        "s.index('t')"
      ],
      "metadata": {
        "colab": {
          "base_uri": "https://localhost:8080/"
        },
        "id": "HlzhvKxO39-G",
        "outputId": "b198a891-b7c8-4cb0-9728-5c3fd2c4463c"
      },
      "execution_count": 10,
      "outputs": [
        {
          "output_type": "execute_result",
          "data": {
            "text/plain": [
              "2"
            ]
          },
          "metadata": {},
          "execution_count": 10
        }
      ]
    },
    {
      "cell_type": "code",
      "source": [
        "s=\"pythont\"\n",
        "s.index('th')"
      ],
      "metadata": {
        "colab": {
          "base_uri": "https://localhost:8080/"
        },
        "id": "xaD7DQIf4DRd",
        "outputId": "b7eb16b4-5141-443c-8cbf-a2995f8ffe7b"
      },
      "execution_count": 11,
      "outputs": [
        {
          "output_type": "execute_result",
          "data": {
            "text/plain": [
              "2"
            ]
          },
          "metadata": {},
          "execution_count": 11
        }
      ]
    },
    {
      "cell_type": "code",
      "source": [
        "s=\"pythont\"\n",
        "s.index('to')"
      ],
      "metadata": {
        "colab": {
          "base_uri": "https://localhost:8080/",
          "height": 196
        },
        "id": "JRVZhGEE4J2p",
        "outputId": "5ad18fc5-a77c-4426-bc70-a9aa713ddcad"
      },
      "execution_count": 12,
      "outputs": [
        {
          "output_type": "error",
          "ename": "ValueError",
          "evalue": "substring not found",
          "traceback": [
            "\u001b[0;31m---------------------------------------------------------------------------\u001b[0m",
            "\u001b[0;31mValueError\u001b[0m                                Traceback (most recent call last)",
            "\u001b[0;32m<ipython-input-12-399ed114abad>\u001b[0m in \u001b[0;36m<cell line: 2>\u001b[0;34m()\u001b[0m\n\u001b[1;32m      1\u001b[0m \u001b[0ms\u001b[0m\u001b[0;34m=\u001b[0m\u001b[0;34m\"pythont\"\u001b[0m\u001b[0;34m\u001b[0m\u001b[0;34m\u001b[0m\u001b[0m\n\u001b[0;32m----> 2\u001b[0;31m \u001b[0ms\u001b[0m\u001b[0;34m.\u001b[0m\u001b[0mindex\u001b[0m\u001b[0;34m(\u001b[0m\u001b[0;34m'to'\u001b[0m\u001b[0;34m)\u001b[0m\u001b[0;34m\u001b[0m\u001b[0;34m\u001b[0m\u001b[0m\n\u001b[0m",
            "\u001b[0;31mValueError\u001b[0m: substring not found"
          ]
        }
      ]
    },
    {
      "cell_type": "code",
      "source": [
        "s=\"python\"\n",
        "s[3:]"
      ],
      "metadata": {
        "colab": {
          "base_uri": "https://localhost:8080/",
          "height": 35
        },
        "id": "uEEPdeGH4Okt",
        "outputId": "f6128106-157f-4aaf-e72d-61202d59719f"
      },
      "execution_count": 13,
      "outputs": [
        {
          "output_type": "execute_result",
          "data": {
            "text/plain": [
              "'hon'"
            ],
            "application/vnd.google.colaboratory.intrinsic+json": {
              "type": "string"
            }
          },
          "metadata": {},
          "execution_count": 13
        }
      ]
    },
    {
      "cell_type": "code",
      "source": [
        "s[-1]"
      ],
      "metadata": {
        "colab": {
          "base_uri": "https://localhost:8080/",
          "height": 35
        },
        "id": "KCt_yRmn4aZo",
        "outputId": "acc68f9c-b18b-4bf3-e9e7-60b113b4b36c"
      },
      "execution_count": 14,
      "outputs": [
        {
          "output_type": "execute_result",
          "data": {
            "text/plain": [
              "'n'"
            ],
            "application/vnd.google.colaboratory.intrinsic+json": {
              "type": "string"
            }
          },
          "metadata": {},
          "execution_count": 14
        }
      ]
    },
    {
      "cell_type": "code",
      "source": [
        "## is string mutable or immutable ??\n",
        "\n",
        "s[0]='E'"
      ],
      "metadata": {
        "colab": {
          "base_uri": "https://localhost:8080/",
          "height": 213
        },
        "id": "qDwW0qrb4cyl",
        "outputId": "a7f9fee9-b4bf-4a1c-8864-6bc4257d17ce"
      },
      "execution_count": 15,
      "outputs": [
        {
          "output_type": "error",
          "ename": "TypeError",
          "evalue": "'str' object does not support item assignment",
          "traceback": [
            "\u001b[0;31m---------------------------------------------------------------------------\u001b[0m",
            "\u001b[0;31mTypeError\u001b[0m                                 Traceback (most recent call last)",
            "\u001b[0;32m<ipython-input-15-1867dd8b7eaa>\u001b[0m in \u001b[0;36m<cell line: 3>\u001b[0;34m()\u001b[0m\n\u001b[1;32m      1\u001b[0m \u001b[0;31m## is string mutable or immutable ??\u001b[0m\u001b[0;34m\u001b[0m\u001b[0;34m\u001b[0m\u001b[0m\n\u001b[1;32m      2\u001b[0m \u001b[0;34m\u001b[0m\u001b[0m\n\u001b[0;32m----> 3\u001b[0;31m \u001b[0ms\u001b[0m\u001b[0;34m[\u001b[0m\u001b[0;36m0\u001b[0m\u001b[0;34m]\u001b[0m\u001b[0;34m=\u001b[0m\u001b[0;34m'E'\u001b[0m\u001b[0;34m\u001b[0m\u001b[0;34m\u001b[0m\u001b[0m\n\u001b[0m",
            "\u001b[0;31mTypeError\u001b[0m: 'str' object does not support item assignment"
          ]
        }
      ]
    },
    {
      "cell_type": "code",
      "source": [
        "a=124235252 #3 immutable\n",
        "\n",
        "a=[1,2,3,4,5,6,7]\n",
        "a[3]=5\n",
        "a\n",
        "\n"
      ],
      "metadata": {
        "colab": {
          "base_uri": "https://localhost:8080/"
        },
        "id": "weW_beUg4ni9",
        "outputId": "31747e9a-fe77-49e4-e055-29cfd41a673f"
      },
      "execution_count": 16,
      "outputs": [
        {
          "output_type": "execute_result",
          "data": {
            "text/plain": [
              "[1, 2, 3, 5, 5, 6, 7]"
            ]
          },
          "metadata": {},
          "execution_count": 16
        }
      ]
    },
    {
      "cell_type": "code",
      "source": [
        "a={\"key1\":\"value1\"}\n",
        "a[\"key1\"]=\"Archit\""
      ],
      "metadata": {
        "id": "n7xzQN4U4-QH"
      },
      "execution_count": null,
      "outputs": []
    },
    {
      "cell_type": "code",
      "source": [
        "s=\"this is W ieddv WDFC\"\n",
        "##\n",
        "s.upper()"
      ],
      "metadata": {
        "colab": {
          "base_uri": "https://localhost:8080/",
          "height": 35
        },
        "id": "qyO43y5q5Jg5",
        "outputId": "94ed602a-d998-470a-b4d1-5db2fad28786"
      },
      "execution_count": 17,
      "outputs": [
        {
          "output_type": "execute_result",
          "data": {
            "text/plain": [
              "'THIS IS W IEDDV WDFC'"
            ],
            "application/vnd.google.colaboratory.intrinsic+json": {
              "type": "string"
            }
          },
          "metadata": {},
          "execution_count": 17
        }
      ]
    },
    {
      "cell_type": "code",
      "source": [
        "s.lower()"
      ],
      "metadata": {
        "colab": {
          "base_uri": "https://localhost:8080/",
          "height": 35
        },
        "id": "Qxlpg-Qz5ORd",
        "outputId": "1ae4860e-c02a-43b7-9ea0-78484d79e4d8"
      },
      "execution_count": 18,
      "outputs": [
        {
          "output_type": "execute_result",
          "data": {
            "text/plain": [
              "'this is w ieddv wdfc'"
            ],
            "application/vnd.google.colaboratory.intrinsic+json": {
              "type": "string"
            }
          },
          "metadata": {},
          "execution_count": 18
        }
      ]
    },
    {
      "cell_type": "code",
      "source": [
        "s.title()"
      ],
      "metadata": {
        "colab": {
          "base_uri": "https://localhost:8080/",
          "height": 35
        },
        "id": "wlakzp3s5PxX",
        "outputId": "1e705737-96ad-4348-88af-b105d3ccf285"
      },
      "execution_count": 19,
      "outputs": [
        {
          "output_type": "execute_result",
          "data": {
            "text/plain": [
              "'This Is W Ieddv Wdfc'"
            ],
            "application/vnd.google.colaboratory.intrinsic+json": {
              "type": "string"
            }
          },
          "metadata": {},
          "execution_count": 19
        }
      ]
    },
    {
      "cell_type": "code",
      "source": [
        "## if a string starts with a substring\n",
        "\n",
        "s.startswith('thi')"
      ],
      "metadata": {
        "colab": {
          "base_uri": "https://localhost:8080/"
        },
        "id": "hy2jbUjw5VfK",
        "outputId": "318bcabd-e866-4f63-e4f5-79c756ea6e1f"
      },
      "execution_count": 20,
      "outputs": [
        {
          "output_type": "execute_result",
          "data": {
            "text/plain": [
              "True"
            ]
          },
          "metadata": {},
          "execution_count": 20
        }
      ]
    },
    {
      "cell_type": "code",
      "source": [
        "s.startswith('Hhi')"
      ],
      "metadata": {
        "colab": {
          "base_uri": "https://localhost:8080/"
        },
        "id": "5m_ywgYi5dUm",
        "outputId": "aa07ce29-feff-48a8-faf1-64e8faada574"
      },
      "execution_count": 21,
      "outputs": [
        {
          "output_type": "execute_result",
          "data": {
            "text/plain": [
              "False"
            ]
          },
          "metadata": {},
          "execution_count": 21
        }
      ]
    },
    {
      "cell_type": "code",
      "source": [
        "s.index('thi')==0"
      ],
      "metadata": {
        "colab": {
          "base_uri": "https://localhost:8080/"
        },
        "id": "gSiZVMDh5fLo",
        "outputId": "91902d87-40c7-4444-b13f-dbe1e7954fe8"
      },
      "execution_count": 22,
      "outputs": [
        {
          "output_type": "execute_result",
          "data": {
            "text/plain": [
              "True"
            ]
          },
          "metadata": {},
          "execution_count": 22
        }
      ]
    },
    {
      "cell_type": "code",
      "source": [
        "s.index('Hhi')==0"
      ],
      "metadata": {
        "id": "UA0_k5Zb5o_Q"
      },
      "execution_count": null,
      "outputs": []
    },
    {
      "cell_type": "code",
      "source": [
        "## formating strings\n",
        "a=5\n",
        "r=f\"this is {a}\"\n",
        "r"
      ],
      "metadata": {
        "colab": {
          "base_uri": "https://localhost:8080/",
          "height": 35
        },
        "id": "heqcGf5k57Ax",
        "outputId": "f41aa743-f534-4371-c2e5-7a5f40a08b0c"
      },
      "execution_count": 23,
      "outputs": [
        {
          "output_type": "execute_result",
          "data": {
            "text/plain": [
              "'this is 5'"
            ],
            "application/vnd.google.colaboratory.intrinsic+json": {
              "type": "string"
            }
          },
          "metadata": {},
          "execution_count": 23
        }
      ]
    },
    {
      "cell_type": "code",
      "source": [
        "r=f\"this is {a} and its square is {a*a}\"\n",
        "r"
      ],
      "metadata": {
        "colab": {
          "base_uri": "https://localhost:8080/",
          "height": 35
        },
        "id": "70A_sW7K6Gv9",
        "outputId": "677006f9-f9aa-4fd6-b77d-18497d6d2a9d"
      },
      "execution_count": 24,
      "outputs": [
        {
          "output_type": "execute_result",
          "data": {
            "text/plain": [
              "'this is 5 and its square is 25'"
            ],
            "application/vnd.google.colaboratory.intrinsic+json": {
              "type": "string"
            }
          },
          "metadata": {},
          "execution_count": 24
        }
      ]
    },
    {
      "cell_type": "code",
      "source": [
        "r=\"this is {} and its square is {}\".format(a,a*a)\n",
        "r"
      ],
      "metadata": {
        "colab": {
          "base_uri": "https://localhost:8080/",
          "height": 35
        },
        "id": "T-5IPxtm6K9L",
        "outputId": "f443d360-e41e-4913-eb40-76e6d3a53495"
      },
      "execution_count": 25,
      "outputs": [
        {
          "output_type": "execute_result",
          "data": {
            "text/plain": [
              "'this is 5 and its square is 25'"
            ],
            "application/vnd.google.colaboratory.intrinsic+json": {
              "type": "string"
            }
          },
          "metadata": {},
          "execution_count": 25
        }
      ]
    },
    {
      "cell_type": "code",
      "source": [
        "s=\"this is a normal string\"\n",
        "## convert a string to a list\n",
        "\n",
        "s.split()"
      ],
      "metadata": {
        "colab": {
          "base_uri": "https://localhost:8080/"
        },
        "id": "D9zfagJh6S8_",
        "outputId": "8ad26224-2689-442a-e661-9af9a835ed32"
      },
      "execution_count": 26,
      "outputs": [
        {
          "output_type": "execute_result",
          "data": {
            "text/plain": [
              "['this', 'is', 'a', 'normal', 'string']"
            ]
          },
          "metadata": {},
          "execution_count": 26
        }
      ]
    },
    {
      "cell_type": "code",
      "source": [
        "s.split('h')"
      ],
      "metadata": {
        "colab": {
          "base_uri": "https://localhost:8080/"
        },
        "id": "_6bHzBDO6olO",
        "outputId": "a7f60f55-cedf-491d-f358-c3a85924fc09"
      },
      "execution_count": 27,
      "outputs": [
        {
          "output_type": "execute_result",
          "data": {
            "text/plain": [
              "['t', 'is is a normal string']"
            ]
          },
          "metadata": {},
          "execution_count": 27
        }
      ]
    },
    {
      "cell_type": "code",
      "source": [
        "s.split(' ')"
      ],
      "metadata": {
        "colab": {
          "base_uri": "https://localhost:8080/"
        },
        "id": "cAZz-BIF6whv",
        "outputId": "58e4980b-4112-4a94-db46-fc1fd76b6143"
      },
      "execution_count": 29,
      "outputs": [
        {
          "output_type": "execute_result",
          "data": {
            "text/plain": [
              "['this', 'is', 'a', 'normal', 'string']"
            ]
          },
          "metadata": {},
          "execution_count": 29
        }
      ]
    },
    {
      "cell_type": "code",
      "source": [
        "list(s)"
      ],
      "metadata": {
        "colab": {
          "base_uri": "https://localhost:8080/"
        },
        "id": "1b5e0kPL628c",
        "outputId": "313acbe7-e343-4589-c8b2-140c44f7cf02"
      },
      "execution_count": 30,
      "outputs": [
        {
          "output_type": "execute_result",
          "data": {
            "text/plain": [
              "['t',\n",
              " 'h',\n",
              " 'i',\n",
              " 's',\n",
              " ' ',\n",
              " 'i',\n",
              " 's',\n",
              " ' ',\n",
              " 'a',\n",
              " ' ',\n",
              " 'n',\n",
              " 'o',\n",
              " 'r',\n",
              " 'm',\n",
              " 'a',\n",
              " 'l',\n",
              " ' ',\n",
              " 's',\n",
              " 't',\n",
              " 'r',\n",
              " 'i',\n",
              " 'n',\n",
              " 'g']"
            ]
          },
          "metadata": {},
          "execution_count": 30
        }
      ]
    },
    {
      "cell_type": "code",
      "source": [
        "s1=s.split(' ')\n",
        "s1"
      ],
      "metadata": {
        "colab": {
          "base_uri": "https://localhost:8080/"
        },
        "id": "Jq7FG0ux6_pS",
        "outputId": "f00e79b2-6eb3-43bf-ab84-7b9c71365bbb"
      },
      "execution_count": 31,
      "outputs": [
        {
          "output_type": "execute_result",
          "data": {
            "text/plain": [
              "['this', 'is', 'a', 'normal', 'string']"
            ]
          },
          "metadata": {},
          "execution_count": 31
        }
      ]
    },
    {
      "cell_type": "code",
      "source": [
        "\"-\".join(s1)"
      ],
      "metadata": {
        "colab": {
          "base_uri": "https://localhost:8080/",
          "height": 35
        },
        "id": "HCLlybOx7GWw",
        "outputId": "a55221e1-fc05-476d-e099-c92eec1de118"
      },
      "execution_count": 32,
      "outputs": [
        {
          "output_type": "execute_result",
          "data": {
            "text/plain": [
              "'this-is-a-normal-string'"
            ],
            "application/vnd.google.colaboratory.intrinsic+json": {
              "type": "string"
            }
          },
          "metadata": {},
          "execution_count": 32
        }
      ]
    },
    {
      "cell_type": "code",
      "source": [
        "## python memory"
      ],
      "metadata": {
        "id": "jU3qAIyQ7M0M"
      },
      "execution_count": 33,
      "outputs": []
    },
    {
      "cell_type": "code",
      "source": [
        "b=[[\"\"]*3]*3\n",
        "b"
      ],
      "metadata": {
        "colab": {
          "base_uri": "https://localhost:8080/"
        },
        "id": "5LKs83Vl7aF4",
        "outputId": "d1c4fc04-8f07-4a8c-e351-6e3ef973f0cd"
      },
      "execution_count": 34,
      "outputs": [
        {
          "output_type": "execute_result",
          "data": {
            "text/plain": [
              "[['', '', ''], ['', '', ''], ['', '', '']]"
            ]
          },
          "metadata": {},
          "execution_count": 34
        }
      ]
    },
    {
      "cell_type": "code",
      "source": [
        "b[0][1]=10\n",
        "b"
      ],
      "metadata": {
        "colab": {
          "base_uri": "https://localhost:8080/"
        },
        "id": "-B0N_Za67dME",
        "outputId": "04ec1e75-ce16-4e3a-c347-dab631be5121"
      },
      "execution_count": 35,
      "outputs": [
        {
          "output_type": "execute_result",
          "data": {
            "text/plain": [
              "[['', 10, ''], ['', 10, ''], ['', 10, '']]"
            ]
          },
          "metadata": {},
          "execution_count": 35
        }
      ]
    },
    {
      "cell_type": "code",
      "source": [
        "a=\"\"\n",
        "id(a)"
      ],
      "metadata": {
        "colab": {
          "base_uri": "https://localhost:8080/"
        },
        "id": "tm2Rl6cL7gAi",
        "outputId": "f4874f29-0b4e-48d7-dba1-254fc2f4c086"
      },
      "execution_count": 36,
      "outputs": [
        {
          "output_type": "execute_result",
          "data": {
            "text/plain": [
              "137675568840752"
            ]
          },
          "metadata": {},
          "execution_count": 36
        }
      ]
    },
    {
      "cell_type": "code",
      "source": [
        "c=[a,a,a]\n",
        "id(c[0])"
      ],
      "metadata": {
        "colab": {
          "base_uri": "https://localhost:8080/"
        },
        "id": "bk0q5-Ev70Nm",
        "outputId": "2e642b4e-2623-4184-aca0-05ee1e200dba"
      },
      "execution_count": 37,
      "outputs": [
        {
          "output_type": "execute_result",
          "data": {
            "text/plain": [
              "137675568840752"
            ]
          },
          "metadata": {},
          "execution_count": 37
        }
      ]
    },
    {
      "cell_type": "code",
      "source": [
        "id(c[1])"
      ],
      "metadata": {
        "colab": {
          "base_uri": "https://localhost:8080/"
        },
        "id": "Lk9uNFC575GH",
        "outputId": "d3e7f0ed-8327-41f4-ea81-c04db8350f66"
      },
      "execution_count": 38,
      "outputs": [
        {
          "output_type": "execute_result",
          "data": {
            "text/plain": [
              "137675568840752"
            ]
          },
          "metadata": {},
          "execution_count": 38
        }
      ]
    },
    {
      "cell_type": "code",
      "source": [
        "a=10\n",
        "id(a)"
      ],
      "metadata": {
        "colab": {
          "base_uri": "https://localhost:8080/"
        },
        "id": "PS6-0TqD76se",
        "outputId": "81d1ac41-33d0-406a-a72c-8c568f3148b3"
      },
      "execution_count": 39,
      "outputs": [
        {
          "output_type": "execute_result",
          "data": {
            "text/plain": [
              "137675568808464"
            ]
          },
          "metadata": {},
          "execution_count": 39
        }
      ]
    },
    {
      "cell_type": "code",
      "source": [
        "c"
      ],
      "metadata": {
        "colab": {
          "base_uri": "https://localhost:8080/"
        },
        "id": "V0j3TXd68GGy",
        "outputId": "ddb8ce37-2de7-4807-e266-8fd29f6b199b"
      },
      "execution_count": 40,
      "outputs": [
        {
          "output_type": "execute_result",
          "data": {
            "text/plain": [
              "['', '', '']"
            ]
          },
          "metadata": {},
          "execution_count": 40
        }
      ]
    },
    {
      "cell_type": "code",
      "source": [
        "id(c[0])"
      ],
      "metadata": {
        "colab": {
          "base_uri": "https://localhost:8080/"
        },
        "id": "uaU6bz-s8KSH",
        "outputId": "040da7d9-2c72-4bd3-e166-13a9f64ba998"
      },
      "execution_count": 41,
      "outputs": [
        {
          "output_type": "execute_result",
          "data": {
            "text/plain": [
              "137675568840752"
            ]
          },
          "metadata": {},
          "execution_count": 41
        }
      ]
    },
    {
      "cell_type": "code",
      "source": [
        "id(c[1])"
      ],
      "metadata": {
        "colab": {
          "base_uri": "https://localhost:8080/"
        },
        "id": "5DmHXqQX8M5p",
        "outputId": "a28e4b3f-2264-4501-e2df-f816af3302d8"
      },
      "execution_count": 42,
      "outputs": [
        {
          "output_type": "execute_result",
          "data": {
            "text/plain": [
              "137675568840752"
            ]
          },
          "metadata": {},
          "execution_count": 42
        }
      ]
    },
    {
      "cell_type": "code",
      "source": [
        "c[0]=12\n",
        "c"
      ],
      "metadata": {
        "colab": {
          "base_uri": "https://localhost:8080/"
        },
        "id": "TmpObtJF8OI7",
        "outputId": "b8e5f0db-d2d6-48f8-88ba-2e013128f71e"
      },
      "execution_count": 43,
      "outputs": [
        {
          "output_type": "execute_result",
          "data": {
            "text/plain": [
              "[12, '', '']"
            ]
          },
          "metadata": {},
          "execution_count": 43
        }
      ]
    },
    {
      "cell_type": "code",
      "source": [
        "## if we have a list of immutable objects\n",
        "# and is you update one of the object, other object do not change"
      ],
      "metadata": {
        "id": "ftwZIvAD8yrp"
      },
      "execution_count": null,
      "outputs": []
    },
    {
      "cell_type": "code",
      "source": [],
      "metadata": {
        "id": "FIz1Afzx9JQ_"
      },
      "execution_count": null,
      "outputs": []
    },
    {
      "cell_type": "code",
      "source": [
        "c=[\"\",\"\",\"\"]\n",
        "d=c"
      ],
      "metadata": {
        "id": "DvVgfNja9JUo"
      },
      "execution_count": 44,
      "outputs": []
    },
    {
      "cell_type": "code",
      "source": [
        "id(c)"
      ],
      "metadata": {
        "colab": {
          "base_uri": "https://localhost:8080/"
        },
        "id": "Qh1jLk9h9JXw",
        "outputId": "9e8b22ed-2adf-42dd-f2e1-d320dd075d43"
      },
      "execution_count": 45,
      "outputs": [
        {
          "output_type": "execute_result",
          "data": {
            "text/plain": [
              "137674286982144"
            ]
          },
          "metadata": {},
          "execution_count": 45
        }
      ]
    },
    {
      "cell_type": "code",
      "source": [
        "id(d)"
      ],
      "metadata": {
        "colab": {
          "base_uri": "https://localhost:8080/"
        },
        "id": "R1d3Zm7L9Nvt",
        "outputId": "d9d098a2-190b-45ff-cda7-7f488def6c03"
      },
      "execution_count": 46,
      "outputs": [
        {
          "output_type": "execute_result",
          "data": {
            "text/plain": [
              "137674286982144"
            ]
          },
          "metadata": {},
          "execution_count": 46
        }
      ]
    },
    {
      "cell_type": "code",
      "source": [
        "c[2]=10\n",
        "id(c)"
      ],
      "metadata": {
        "colab": {
          "base_uri": "https://localhost:8080/"
        },
        "id": "r7fibILj9PKH",
        "outputId": "99f31ad9-5ef0-4a44-e290-8287eb77c122"
      },
      "execution_count": 47,
      "outputs": [
        {
          "output_type": "execute_result",
          "data": {
            "text/plain": [
              "137674286982144"
            ]
          },
          "metadata": {},
          "execution_count": 47
        }
      ]
    },
    {
      "cell_type": "code",
      "source": [
        "id(d)"
      ],
      "metadata": {
        "colab": {
          "base_uri": "https://localhost:8080/"
        },
        "id": "0DtV_WZf9v3H",
        "outputId": "dd2de847-9e70-4c39-c26d-95c7befdff43"
      },
      "execution_count": 48,
      "outputs": [
        {
          "output_type": "execute_result",
          "data": {
            "text/plain": [
              "137674286982144"
            ]
          },
          "metadata": {},
          "execution_count": 48
        }
      ]
    },
    {
      "cell_type": "code",
      "source": [
        "c"
      ],
      "metadata": {
        "colab": {
          "base_uri": "https://localhost:8080/"
        },
        "id": "7cJpe_gY9wxO",
        "outputId": "c9b54a22-53be-4b45-91ba-338cc30095a0"
      },
      "execution_count": 49,
      "outputs": [
        {
          "output_type": "execute_result",
          "data": {
            "text/plain": [
              "['', '', 10]"
            ]
          },
          "metadata": {},
          "execution_count": 49
        }
      ]
    },
    {
      "cell_type": "code",
      "source": [
        "d"
      ],
      "metadata": {
        "colab": {
          "base_uri": "https://localhost:8080/"
        },
        "id": "PX7aPVde91uN",
        "outputId": "5917416a-9d06-44b7-bef2-34cb12f15630"
      },
      "execution_count": 50,
      "outputs": [
        {
          "output_type": "execute_result",
          "data": {
            "text/plain": [
              "['', '', 10]"
            ]
          },
          "metadata": {},
          "execution_count": 50
        }
      ]
    },
    {
      "cell_type": "code",
      "source": [
        "d[1]=12\n",
        "d"
      ],
      "metadata": {
        "colab": {
          "base_uri": "https://localhost:8080/"
        },
        "id": "hWpAdWns92po",
        "outputId": "c306fc56-3567-499a-8264-83bacf943c24"
      },
      "execution_count": 51,
      "outputs": [
        {
          "output_type": "execute_result",
          "data": {
            "text/plain": [
              "['', 12, 10]"
            ]
          },
          "metadata": {},
          "execution_count": 51
        }
      ]
    },
    {
      "cell_type": "code",
      "source": [
        "c"
      ],
      "metadata": {
        "colab": {
          "base_uri": "https://localhost:8080/"
        },
        "id": "-MMMZHu699Mk",
        "outputId": "61e43601-4ecb-4b8c-e818-09c821aa1a6b"
      },
      "execution_count": 52,
      "outputs": [
        {
          "output_type": "execute_result",
          "data": {
            "text/plain": [
              "['', 12, 10]"
            ]
          },
          "metadata": {},
          "execution_count": 52
        }
      ]
    },
    {
      "cell_type": "code",
      "source": [
        "c=[1,2,3]\n",
        "c"
      ],
      "metadata": {
        "colab": {
          "base_uri": "https://localhost:8080/"
        },
        "id": "Cr-eMknz9_Ia",
        "outputId": "2efc8ad7-06e8-42a8-e58a-7e273fbd63b0"
      },
      "execution_count": 53,
      "outputs": [
        {
          "output_type": "execute_result",
          "data": {
            "text/plain": [
              "[1, 2, 3]"
            ]
          },
          "metadata": {},
          "execution_count": 53
        }
      ]
    },
    {
      "cell_type": "code",
      "source": [
        "d"
      ],
      "metadata": {
        "colab": {
          "base_uri": "https://localhost:8080/"
        },
        "id": "1buttCIc-DXY",
        "outputId": "d9114c95-37fd-45ef-f18b-94524090b6cd"
      },
      "execution_count": 54,
      "outputs": [
        {
          "output_type": "execute_result",
          "data": {
            "text/plain": [
              "['', 12, 10]"
            ]
          },
          "metadata": {},
          "execution_count": 54
        }
      ]
    },
    {
      "cell_type": "code",
      "source": [
        "b=[[\"\"]*3]*3\n",
        "b[0]\n",
        "b[1]\n",
        "b[2]\n",
        "\n",
        "b[0][1]=12\n",
        "b"
      ],
      "metadata": {
        "colab": {
          "base_uri": "https://localhost:8080/"
        },
        "id": "2C89Zjbu-G9T",
        "outputId": "5eaaf90a-ecc7-4b79-efe1-4c612b852cd7"
      },
      "execution_count": 55,
      "outputs": [
        {
          "output_type": "execute_result",
          "data": {
            "text/plain": [
              "[['', 12, ''], ['', 12, ''], ['', 12, '']]"
            ]
          },
          "metadata": {},
          "execution_count": 55
        }
      ]
    },
    {
      "cell_type": "code",
      "source": [
        "b[0]=[1,2,3]\n",
        "b"
      ],
      "metadata": {
        "colab": {
          "base_uri": "https://localhost:8080/"
        },
        "id": "sVm_coHR-gZW",
        "outputId": "3828ee5a-3669-4778-9e6b-7b050d722241"
      },
      "execution_count": 56,
      "outputs": [
        {
          "output_type": "execute_result",
          "data": {
            "text/plain": [
              "[[1, 2, 3], ['', 12, ''], ['', 12, '']]"
            ]
          },
          "metadata": {},
          "execution_count": 56
        }
      ]
    },
    {
      "cell_type": "code",
      "source": [
        "### Time Complexity\n",
        "\n",
        "\n",
        "def foo(n): ## operation\n",
        "  x=1 ## operation\n",
        "  y=1 ## operation\n",
        "  z=3 ## operation\n",
        "  print(x,y,z) ## opearation"
      ],
      "metadata": {
        "id": "ufhJpBrm-k8Y"
      },
      "execution_count": null,
      "outputs": []
    },
    {
      "cell_type": "code",
      "source": [
        "foo(100) ->. 5 steps\n",
        "foo(300) ->  5steps\n",
        "foo(10000000) -> 5steps\n",
        "## if the algo takes constant time  -> time coplexity is constant"
      ],
      "metadata": {
        "id": "R2imx8HhBTcO"
      },
      "execution_count": null,
      "outputs": []
    },
    {
      "cell_type": "code",
      "source": [],
      "metadata": {
        "id": "9CIown6LBn-C"
      },
      "execution_count": null,
      "outputs": []
    },
    {
      "cell_type": "code",
      "source": [
        "def foo(n):\n",
        "  for i in range(n):\n",
        "    print(i)"
      ],
      "metadata": {
        "id": "qqXFTc83BoHZ"
      },
      "execution_count": null,
      "outputs": []
    },
    {
      "cell_type": "code",
      "source": [
        "foo(1) -> 3\n",
        "foo(10) -> 12\n",
        "foo(100) -> 102\n",
        "foo(1000000) ->100002"
      ],
      "metadata": {
        "id": "iwycRdjFBwsS"
      },
      "execution_count": null,
      "outputs": []
    },
    {
      "cell_type": "code",
      "source": [
        "def foo(n):\n",
        "  for i in range(n):\n",
        "    if i%%2==0:\n",
        "      print(i)\n",
        "    else:\n",
        "      print(1)\n",
        "\n",
        "\n",
        "n=1.  -> 4\n",
        "n=100 -> 202\n",
        "n=1000 -> 2002\n",
        "\n",
        "## time complexity of a single for loop is linear\n"
      ],
      "metadata": {
        "id": "Z5TzpSZUBw0X"
      },
      "execution_count": null,
      "outputs": []
    },
    {
      "cell_type": "code",
      "source": [
        "def foo(n):\n",
        "  for i in range(n):\n",
        "    for j in range(n):\n",
        "      print(i)\n",
        "\n",
        "n=1 -> 4 steps\n",
        "n=10 -> 112. steps\n",
        "n=100 -> 10102\n",
        "\n",
        "## time complexity is quardatic"
      ],
      "metadata": {
        "id": "KHb0BdYyC64F"
      },
      "execution_count": null,
      "outputs": []
    },
    {
      "cell_type": "code",
      "source": [
        "for i in range(n):\n",
        "  for j in range(n):\n",
        "    for k in range(n)"
      ],
      "metadata": {
        "id": "z8QDSYjQDf1c"
      },
      "execution_count": null,
      "outputs": []
    },
    {
      "cell_type": "code",
      "source": [],
      "metadata": {
        "id": "9ZMTOvSfDf3z"
      },
      "execution_count": null,
      "outputs": []
    },
    {
      "cell_type": "code",
      "source": [
        "%time\n",
        "n=1000\n",
        "for i in range(n):\n",
        "  print(i)\n",
        "  for j in range(n):\n",
        "    print(j)\n",
        "    for k in range(n):\n",
        "      print(k)"
      ],
      "metadata": {
        "id": "g5P5_pCbDf6p"
      },
      "execution_count": null,
      "outputs": []
    },
    {
      "cell_type": "code",
      "source": [
        "random = {}\n",
        "random[1.1] = \"JavaScript\"\n",
        "random[1.0] = \"Python\"\n",
        "random[1] = \"C++\"\n",
        "random[True] = \"JAVA\"\n",
        "random[1+0j] = \"TypeScript\"\n",
        "\n",
        "print(f\"{random[1.1]} and {random[True]}\")"
      ],
      "metadata": {
        "id": "ZCeMi60wFw_c"
      },
      "execution_count": null,
      "outputs": []
    },
    {
      "cell_type": "code",
      "source": [
        "1.0==1"
      ],
      "metadata": {
        "colab": {
          "base_uri": "https://localhost:8080/"
        },
        "id": "YLR6ktleGj-L",
        "outputId": "82a0eaf8-9e37-4adb-d276-04f38a7c8c51"
      },
      "execution_count": 58,
      "outputs": [
        {
          "output_type": "execute_result",
          "data": {
            "text/plain": [
              "True"
            ]
          },
          "metadata": {},
          "execution_count": 58
        }
      ]
    },
    {
      "cell_type": "code",
      "source": [
        "[ i+j+k for k in [\"I\"] for j in [\"am\"] for i in [\"weird\"] ]"
      ],
      "metadata": {
        "id": "g2eIPEEsGkwm"
      },
      "execution_count": null,
      "outputs": []
    },
    {
      "cell_type": "code",
      "source": [
        "# are all non zero value true?\n",
        "# or only 1 is true?\n",
        "##"
      ],
      "metadata": {
        "id": "AYnMXhkXHLlA"
      },
      "execution_count": null,
      "outputs": []
    },
    {
      "cell_type": "code",
      "source": [
        "if -1:\n",
        "  print(\"hi\")"
      ],
      "metadata": {
        "colab": {
          "base_uri": "https://localhost:8080/"
        },
        "id": "ug8lm6xvHLyj",
        "outputId": "1174ea41-167b-4a60-f547-24250612a9a4"
      },
      "execution_count": 63,
      "outputs": [
        {
          "output_type": "stream",
          "name": "stdout",
          "text": [
            "hi\n"
          ]
        }
      ]
    },
    {
      "cell_type": "code",
      "source": [
        "False==0"
      ],
      "metadata": {
        "colab": {
          "base_uri": "https://localhost:8080/"
        },
        "id": "_HC1HSGYHWBq",
        "outputId": "c33003e1-70ea-46f8-bebf-a428f28d4f92"
      },
      "execution_count": 64,
      "outputs": [
        {
          "output_type": "execute_result",
          "data": {
            "text/plain": [
              "True"
            ]
          },
          "metadata": {},
          "execution_count": 64
        }
      ]
    },
    {
      "cell_type": "code",
      "source": [
        "True==1"
      ],
      "metadata": {
        "colab": {
          "base_uri": "https://localhost:8080/"
        },
        "id": "UVuupuUJHjgd",
        "outputId": "08baf1d4-815a-4158-e531-cba7e972153d"
      },
      "execution_count": 65,
      "outputs": [
        {
          "output_type": "execute_result",
          "data": {
            "text/plain": [
              "True"
            ]
          },
          "metadata": {},
          "execution_count": 65
        }
      ]
    },
    {
      "cell_type": "code",
      "source": [
        "True==2"
      ],
      "metadata": {
        "colab": {
          "base_uri": "https://localhost:8080/"
        },
        "id": "LnXgXZn8Hl2V",
        "outputId": "afadea18-bfe1-41be-8022-16609e3b0aa4"
      },
      "execution_count": 66,
      "outputs": [
        {
          "output_type": "execute_result",
          "data": {
            "text/plain": [
              "False"
            ]
          },
          "metadata": {},
          "execution_count": 66
        }
      ]
    },
    {
      "cell_type": "code",
      "source": [
        "id(a)"
      ],
      "metadata": {
        "colab": {
          "base_uri": "https://localhost:8080/"
        },
        "id": "jYZL4D89HoQG",
        "outputId": "e962255e-e022-45f2-806a-1f64035e4091"
      },
      "execution_count": 67,
      "outputs": [
        {
          "output_type": "execute_result",
          "data": {
            "text/plain": [
              "137675568808464"
            ]
          },
          "metadata": {},
          "execution_count": 67
        }
      ]
    },
    {
      "cell_type": "code",
      "source": [
        "## almost all time complexity problems\n",
        "## understanding how many steps will a loop take\n",
        "\n",
        "for i in range(n):\n",
        "  print(i)\n",
        "  for j in range(n):\n",
        "    print(j)"
      ],
      "metadata": {
        "id": "5h3TQq33ILd6"
      },
      "execution_count": null,
      "outputs": []
    },
    {
      "cell_type": "code",
      "source": [
        "\n",
        "for i in range(100):\n",
        "  print(i)\n",
        "  for j in range(n):\n",
        "    print(j)"
      ],
      "metadata": {
        "id": "EPDPAMjxKVcU"
      },
      "execution_count": null,
      "outputs": []
    },
    {
      "cell_type": "code",
      "source": [
        "n=100\n",
        "while n//2>=1:\n",
        "  print(n)\n",
        "  n=n//2"
      ],
      "metadata": {
        "id": "0L4E7NryKfpw"
      },
      "execution_count": null,
      "outputs": []
    },
    {
      "cell_type": "code",
      "source": [],
      "metadata": {
        "id": "HOtgf7hsLwJE"
      },
      "execution_count": null,
      "outputs": []
    },
    {
      "cell_type": "code",
      "source": [
        "# log(n!) complexity\n",
        "for i in range(n):\n",
        "  j=i\n",
        "  while j//2>=1:\n",
        "    print(j)"
      ],
      "metadata": {
        "id": "GH9QwQqJLwMM"
      },
      "execution_count": null,
      "outputs": []
    },
    {
      "cell_type": "code",
      "source": [],
      "metadata": {
        "id": "igAcFCf4NNUi"
      },
      "execution_count": null,
      "outputs": []
    },
    {
      "cell_type": "code",
      "source": [
        "# nlog(n) complexity\n",
        "for i in range(n):\n",
        "  j=n\n",
        "  while j//2>=1:\n",
        "    print(j)"
      ],
      "metadata": {
        "id": "V1nyeYg2LwQW"
      },
      "execution_count": null,
      "outputs": []
    },
    {
      "cell_type": "code",
      "source": [
        "for i in range(n):\n",
        "  print(i)\n",
        "\n",
        "for j in range(n):\n",
        "  for k in range(n):\n",
        "    print(j, k)"
      ],
      "metadata": {
        "id": "U8XSmugONOB1"
      },
      "execution_count": null,
      "outputs": []
    },
    {
      "cell_type": "code",
      "source": [],
      "metadata": {
        "id": "b9BxpFqxNOEL"
      },
      "execution_count": null,
      "outputs": []
    },
    {
      "cell_type": "code",
      "source": [
        "## bubble sort\n",
        "\n",
        "def bubble_sort(a):\n",
        "  for i in range(len(a)-1):\n",
        "    print(a)\n",
        "    for j in range(len(a)-1-i):\n",
        "      if a[j]>a[j+1]:\n",
        "        a[j],a[j+1]=a[j+1],a[j]\n",
        "      print(\"\\t\",a)\n",
        "      print(\"_\"*30)\n",
        "  return a\n",
        "\n",
        "a=[5,1,2,4,7,3]\n",
        "bubble_sort(a)\n"
      ],
      "metadata": {
        "colab": {
          "base_uri": "https://localhost:8080/"
        },
        "id": "9kbdG2mgNOGy",
        "outputId": "a2b0af28-7b3a-4a5e-ee18-cb7e6ff4a557"
      },
      "execution_count": 68,
      "outputs": [
        {
          "output_type": "stream",
          "name": "stdout",
          "text": [
            "[5, 1, 2, 4, 7, 3]\n",
            "\t [1, 5, 2, 4, 7, 3]\n",
            "______________________________\n",
            "\t [1, 2, 5, 4, 7, 3]\n",
            "______________________________\n",
            "\t [1, 2, 4, 5, 7, 3]\n",
            "______________________________\n",
            "\t [1, 2, 4, 5, 7, 3]\n",
            "______________________________\n",
            "\t [1, 2, 4, 5, 3, 7]\n",
            "______________________________\n",
            "[1, 2, 4, 5, 3, 7]\n",
            "\t [1, 2, 4, 5, 3, 7]\n",
            "______________________________\n",
            "\t [1, 2, 4, 5, 3, 7]\n",
            "______________________________\n",
            "\t [1, 2, 4, 5, 3, 7]\n",
            "______________________________\n",
            "\t [1, 2, 4, 3, 5, 7]\n",
            "______________________________\n",
            "[1, 2, 4, 3, 5, 7]\n",
            "\t [1, 2, 4, 3, 5, 7]\n",
            "______________________________\n",
            "\t [1, 2, 4, 3, 5, 7]\n",
            "______________________________\n",
            "\t [1, 2, 3, 4, 5, 7]\n",
            "______________________________\n",
            "[1, 2, 3, 4, 5, 7]\n",
            "\t [1, 2, 3, 4, 5, 7]\n",
            "______________________________\n",
            "\t [1, 2, 3, 4, 5, 7]\n",
            "______________________________\n",
            "[1, 2, 3, 4, 5, 7]\n",
            "\t [1, 2, 3, 4, 5, 7]\n",
            "______________________________\n"
          ]
        },
        {
          "output_type": "execute_result",
          "data": {
            "text/plain": [
              "[1, 2, 3, 4, 5, 7]"
            ]
          },
          "metadata": {},
          "execution_count": 68
        }
      ]
    },
    {
      "cell_type": "code",
      "source": [
        "arr=[(1,2),(2,3),(2,3),(1,2),(5,6)]\n",
        "\n",
        "arr2=[]\n",
        "for (a,b) in arr:\n",
        "  cnt=0\n",
        "  for (c,d) in arr2:\n",
        "    if (a==c and d==b):\n",
        "      cnt=cnt+1\n",
        "      break\n",
        "  if cnt==0:\n",
        "    arr2.append((a,b))\n",
        "arr2"
      ],
      "metadata": {
        "colab": {
          "base_uri": "https://localhost:8080/"
        },
        "id": "Sn6nlTqNPwjv",
        "outputId": "43c57a3b-6d06-4907-9ba6-f95ca8ff9204"
      },
      "execution_count": 71,
      "outputs": [
        {
          "output_type": "execute_result",
          "data": {
            "text/plain": [
              "[(1, 2), (2, 3), (5, 6)]"
            ]
          },
          "metadata": {},
          "execution_count": 71
        }
      ]
    },
    {
      "cell_type": "code",
      "source": [
        "arr2=[]\n",
        "for (a,b) in arr:\n",
        "  if not any((a,b)==(c,d) for (c,d) in arr2):\n",
        "    arr2.append((a,b))\n",
        "arr2"
      ],
      "metadata": {
        "colab": {
          "base_uri": "https://localhost:8080/"
        },
        "id": "z-1Sz39BVmoI",
        "outputId": "71a1c38e-5353-4ca3-ce65-d8fa27bc94d6"
      },
      "execution_count": 72,
      "outputs": [
        {
          "output_type": "execute_result",
          "data": {
            "text/plain": [
              "[(1, 2), (2, 3), (5, 6)]"
            ]
          },
          "metadata": {},
          "execution_count": 72
        }
      ]
    },
    {
      "cell_type": "code",
      "source": [
        "for i in [a,b,c]:"
      ],
      "metadata": {
        "id": "CZEwrYZkXBnc"
      },
      "execution_count": null,
      "outputs": []
    },
    {
      "cell_type": "code",
      "source": [],
      "metadata": {
        "id": "bVJBLlrAXBqS"
      },
      "execution_count": null,
      "outputs": []
    },
    {
      "cell_type": "code",
      "source": [
        "a=[\"_\",\"_\",30,\"_\",\"_\",\"_\",50,\"_\",\"_\"]"
      ],
      "metadata": {
        "id": "oA-iCeYSYFgD"
      },
      "execution_count": null,
      "outputs": []
    },
    {
      "cell_type": "code",
      "source": [
        "blanks=[]\n",
        "inital=0\n",
        "for i in range(len(a)):\n",
        "  if a[i]==\"_\":\n",
        "    blanks.append(i)\n",
        "  else:\n",
        "    temp=a[i]\n",
        "    blanks.append(i)\n",
        "    for j in blanks:\n",
        "      a[j]=(temp+inital)/len(blanks)\n",
        "    blanks=[i]\n",
        "    initial=(temp+inital)/len(blanks)\n"
      ],
      "metadata": {
        "id": "y12GkeMoYFiq"
      },
      "execution_count": null,
      "outputs": []
    },
    {
      "cell_type": "code",
      "source": [],
      "metadata": {
        "id": "XJUpfH4PYFlk"
      },
      "execution_count": null,
      "outputs": []
    },
    {
      "cell_type": "markdown",
      "source": [],
      "metadata": {
        "id": "rwWzI8Y2Ws-6"
      }
    }
  ]
}