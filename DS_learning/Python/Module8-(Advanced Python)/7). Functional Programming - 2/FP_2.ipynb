{
  "nbformat": 4,
  "nbformat_minor": 0,
  "metadata": {
    "colab": {
      "provenance": []
    },
    "kernelspec": {
      "name": "python3",
      "display_name": "Python 3"
    },
    "language_info": {
      "name": "python"
    }
  },
  "cells": [
    {
      "cell_type": "code",
      "execution_count": null,
      "metadata": {
        "id": "vFg-xhPkVpan"
      },
      "outputs": [],
      "source": [
        "x=5 ## initial data\n",
        "\n",
        "## Mutations -> why it should not be done\n",
        "x=3*x\n",
        "x+=1\n",
        "##\n",
        "\n",
        "## You can't roll back mutations\n"
      ]
    },
    {
      "cell_type": "code",
      "source": [
        "x1=3*x\n",
        "x2=x1+1"
      ],
      "metadata": {
        "id": "HgX72bajYLIB"
      },
      "execution_count": null,
      "outputs": []
    },
    {
      "cell_type": "code",
      "source": [
        "## treat all varibales as immutable\n",
        "## never update a variable which is stored"
      ],
      "metadata": {
        "id": "nIYkVzPyYZzl"
      },
      "execution_count": null,
      "outputs": []
    },
    {
      "cell_type": "code",
      "source": [
        "## if we follow the fiorst 2 rules->\n",
        "# we will be left with a lot of varfiables\n",
        "\n",
        "### Rather then mutating existing variables\n",
        "## create f(x) which can do the same on the scope data\n",
        "x=5\n",
        "\n",
        "def mutation_1(x):\n",
        "  x=3*x\n",
        "  x+=1\n",
        "  return x\n",
        "\n",
        "\n",
        "x1=mutation_1(x)\n",
        "\n",
        "\n",
        "x2=x1+1"
      ],
      "metadata": {
        "id": "jXLFQW80YZ2p"
      },
      "execution_count": null,
      "outputs": []
    },
    {
      "cell_type": "code",
      "source": [],
      "metadata": {
        "id": "aC_36mV9a4v0"
      },
      "execution_count": null,
      "outputs": []
    },
    {
      "cell_type": "code",
      "source": [
        "###\n",
        "a=[1,2,3,4,5]\n"
      ],
      "metadata": {
        "id": "Us0DQAV3a43X"
      },
      "execution_count": 2,
      "outputs": []
    },
    {
      "cell_type": "code",
      "source": [
        "### List comprehension\n",
        "res1= [i**2 for i in a]"
      ],
      "metadata": {
        "id": "Bpcp7dm6a46P"
      },
      "execution_count": 3,
      "outputs": []
    },
    {
      "cell_type": "code",
      "source": [
        "m=map(lambda x:x**2  , a )"
      ],
      "metadata": {
        "id": "Z8UFJjwXbmXy"
      },
      "execution_count": 4,
      "outputs": []
    },
    {
      "cell_type": "code",
      "source": [
        "m"
      ],
      "metadata": {
        "colab": {
          "base_uri": "https://localhost:8080/"
        },
        "id": "z22eZWUZbmep",
        "outputId": "c5919e83-1011-4e17-937c-81cde0da3bc2"
      },
      "execution_count": 5,
      "outputs": [
        {
          "output_type": "execute_result",
          "data": {
            "text/plain": [
              "<map at 0x7e34941251b0>"
            ]
          },
          "metadata": {},
          "execution_count": 5
        }
      ]
    },
    {
      "cell_type": "code",
      "source": [
        "m_list=list(m)\n",
        "m_list"
      ],
      "metadata": {
        "colab": {
          "base_uri": "https://localhost:8080/"
        },
        "id": "P4KXXSeDbydn",
        "outputId": "a5dd97b4-1ab8-4e48-87bf-bd27ae2d84a2"
      },
      "execution_count": 6,
      "outputs": [
        {
          "output_type": "execute_result",
          "data": {
            "text/plain": [
              "[1, 4, 9, 16, 25]"
            ]
          },
          "metadata": {},
          "execution_count": 6
        }
      ]
    },
    {
      "cell_type": "code",
      "source": [
        "m_direct=list(map(lambda x:x**2  , a ))\n",
        "m_direct"
      ],
      "metadata": {
        "colab": {
          "base_uri": "https://localhost:8080/"
        },
        "id": "Od9YD92DcEfD",
        "outputId": "5b5b444b-cf20-47e3-e601-e9007d90db9e"
      },
      "execution_count": 7,
      "outputs": [
        {
          "output_type": "execute_result",
          "data": {
            "text/plain": [
              "[1, 4, 9, 16, 25]"
            ]
          },
          "metadata": {},
          "execution_count": 7
        }
      ]
    },
    {
      "cell_type": "code",
      "source": [
        "##3 map applys given function on every item in iterable\n",
        "\n"
      ],
      "metadata": {
        "id": "bPk_T85YcK5Z"
      },
      "execution_count": null,
      "outputs": []
    },
    {
      "cell_type": "code",
      "source": [
        "heights=[144,167,145,156,187,190,203,184]\n"
      ],
      "metadata": {
        "id": "1rFOt6vacmLj"
      },
      "execution_count": 9,
      "outputs": []
    },
    {
      "cell_type": "code",
      "source": [
        "def height_func(h):\n",
        "  if h<150 :\n",
        "    return 'S'\n",
        "  elif h<180:\n",
        "    return 'M'\n",
        "  else :\n",
        "    return 'L'\n",
        "heights=[144,167,145,156,187,190,203,184]\n",
        "list(map(height_func,heights))"
      ],
      "metadata": {
        "colab": {
          "base_uri": "https://localhost:8080/"
        },
        "id": "PEydkL0-cmTF",
        "outputId": "7e58cb08-05f1-4211-b395-1f932b3d5674"
      },
      "execution_count": 10,
      "outputs": [
        {
          "output_type": "execute_result",
          "data": {
            "text/plain": [
              "['S', 'M', 'S', 'M', 'L', 'L', 'L', 'L']"
            ]
          },
          "metadata": {},
          "execution_count": 10
        }
      ]
    },
    {
      "cell_type": "code",
      "source": [
        "def height_func(h):\n",
        "  if h<150 :\n",
        "    return 'S'\n",
        "  elif h<180:\n",
        "    return 'M'\n",
        "  else :\n",
        "    return 'L'\n",
        "\n",
        "list(map(lambda x: \"S\" if x<150 else (\"M\" if x>150 and x<180 else \"L\"),heights))"
      ],
      "metadata": {
        "colab": {
          "base_uri": "https://localhost:8080/"
        },
        "id": "AWyPW9jwdDzp",
        "outputId": "28d562f3-bdb3-4493-acd0-2263ac660dc4"
      },
      "execution_count": 11,
      "outputs": [
        {
          "output_type": "execute_result",
          "data": {
            "text/plain": [
              "['S', 'M', 'S', 'M', 'L', 'L', 'L', 'L']"
            ]
          },
          "metadata": {},
          "execution_count": 11
        }
      ]
    },
    {
      "cell_type": "code",
      "source": [
        "## lambdas -> 1 variable and 1 iterable\n",
        "\n",
        "\n",
        "a=[1,0,0,0,0,1,1,1,0,1]\n",
        "b=[1,0,1,0,0,1,0,1,0,1]\n",
        "\n",
        "# c=[True,True, False ,...]\n"
      ],
      "metadata": {
        "id": "ZBYP5jk2dzY9"
      },
      "execution_count": 12,
      "outputs": []
    },
    {
      "cell_type": "code",
      "source": [
        "###\n",
        "\n",
        "\n",
        "lambda x,y : x==y\n",
        "\n",
        "\n",
        "def check(x,y):\n",
        "  return x==y"
      ],
      "metadata": {
        "id": "e5ACpAP-eSmq"
      },
      "execution_count": null,
      "outputs": []
    },
    {
      "cell_type": "code",
      "source": [
        "list(map(lambda x,y : x==y, a,b))"
      ],
      "metadata": {
        "colab": {
          "base_uri": "https://localhost:8080/"
        },
        "id": "3uFs3DC7elsg",
        "outputId": "c98ac1a4-f197-479b-8306-40e37e9ecc0b"
      },
      "execution_count": 13,
      "outputs": [
        {
          "output_type": "execute_result",
          "data": {
            "text/plain": [
              "[True, True, False, True, True, True, False, True, True, True]"
            ]
          },
          "metadata": {},
          "execution_count": 13
        }
      ]
    },
    {
      "cell_type": "code",
      "source": [
        "list(map(lambda x,y : x+y, a,b))"
      ],
      "metadata": {
        "colab": {
          "base_uri": "https://localhost:8080/"
        },
        "id": "LhFhy_Ece3Sv",
        "outputId": "0de62e5f-22ac-4b80-c0c0-cda487e10145"
      },
      "execution_count": 14,
      "outputs": [
        {
          "output_type": "execute_result",
          "data": {
            "text/plain": [
              "[2, 0, 1, 0, 0, 2, 1, 2, 0, 2]"
            ]
          },
          "metadata": {},
          "execution_count": 14
        }
      ]
    },
    {
      "cell_type": "code",
      "source": [
        "a=[1,0,0,0,0,1,1]\n",
        "b=[1,0,1,0,0,1,0,1,0,1]\n",
        "\n",
        "list(map(lambda x,y : x+y, a,b))\n",
        "\n",
        "## minimum length of the all iterable would be tajen"
      ],
      "metadata": {
        "colab": {
          "base_uri": "https://localhost:8080/"
        },
        "id": "gdR_BTcIe_jQ",
        "outputId": "b631cab9-dcbd-404e-b991-e60053f176ea"
      },
      "execution_count": 15,
      "outputs": [
        {
          "output_type": "execute_result",
          "data": {
            "text/plain": [
              "[2, 0, 1, 0, 0, 2, 1]"
            ]
          },
          "metadata": {},
          "execution_count": 15
        }
      ]
    },
    {
      "cell_type": "code",
      "source": [
        "a=[1,0,0,0,0,1,1]\n",
        "b=[1,0,1,0,0,1,0,1,0,1]\n",
        "c=[1,0]\n",
        "list(map(lambda x,y,z : x+y+z, a,b,c))"
      ],
      "metadata": {
        "colab": {
          "base_uri": "https://localhost:8080/"
        },
        "id": "xt_zUVgWfRxw",
        "outputId": "4dbde1f0-ea51-4b66-bce1-935593d7cede"
      },
      "execution_count": 16,
      "outputs": [
        {
          "output_type": "execute_result",
          "data": {
            "text/plain": [
              "[3, 0]"
            ]
          },
          "metadata": {},
          "execution_count": 16
        }
      ]
    },
    {
      "cell_type": "code",
      "source": [
        "list(map(lambda x,y,z : x+y, a,b,c))"
      ],
      "metadata": {
        "colab": {
          "base_uri": "https://localhost:8080/"
        },
        "id": "uuDirmhafbY-",
        "outputId": "e05352bd-aa78-45a2-abbd-e00631819222"
      },
      "execution_count": 18,
      "outputs": [
        {
          "output_type": "execute_result",
          "data": {
            "text/plain": [
              "[2, 0]"
            ]
          },
          "metadata": {},
          "execution_count": 18
        }
      ]
    },
    {
      "cell_type": "code",
      "source": [
        "## select only even elements\n",
        "\n",
        "\n",
        "a=[3,4,2,5,6,10,12,3,5,97]\n",
        "\n",
        "list(map(lambda x: x if x%2==0 else None ,a))"
      ],
      "metadata": {
        "colab": {
          "base_uri": "https://localhost:8080/"
        },
        "id": "9rL9sTvQfkjK",
        "outputId": "2fc7add3-09da-4aa6-b223-ad23f37b30b8"
      },
      "execution_count": 19,
      "outputs": [
        {
          "output_type": "execute_result",
          "data": {
            "text/plain": [
              "[None, 4, 2, None, 6, 10, 12, None, None, None]"
            ]
          },
          "metadata": {},
          "execution_count": 19
        }
      ]
    },
    {
      "cell_type": "code",
      "source": [
        "list(map(lambda x: x if x%2==0 else None ,a))"
      ],
      "metadata": {
        "id": "RsLRJTgRgWIo"
      },
      "execution_count": null,
      "outputs": []
    },
    {
      "cell_type": "code",
      "source": [
        "def even(x):\n",
        "  if x%2==0:\n",
        "    return x"
      ],
      "metadata": {
        "id": "p6C0HFdygWK8"
      },
      "execution_count": 20,
      "outputs": []
    },
    {
      "cell_type": "code",
      "source": [
        "list(map(even ,a))"
      ],
      "metadata": {
        "colab": {
          "base_uri": "https://localhost:8080/"
        },
        "id": "XoE9prQogWN1",
        "outputId": "e5fd47c7-52b1-4b79-e873-4fb7433b425a"
      },
      "execution_count": 21,
      "outputs": [
        {
          "output_type": "execute_result",
          "data": {
            "text/plain": [
              "[None, 4, 2, None, 6, 10, 12, None, None, None]"
            ]
          },
          "metadata": {},
          "execution_count": 21
        }
      ]
    },
    {
      "cell_type": "code",
      "source": [
        "### map will always return some value\n",
        "##. for each item in the iterable\n",
        "\n",
        "list(filter(lambda x: True if x%2==0 else False ,a))\n",
        "\n",
        "\n",
        "## function used in filter should return Boolean values only\n",
        "\n"
      ],
      "metadata": {
        "colab": {
          "base_uri": "https://localhost:8080/"
        },
        "id": "pZ-ybHQ_gLWh",
        "outputId": "676d488d-97cc-4f1d-e400-6909933e1c06"
      },
      "execution_count": 22,
      "outputs": [
        {
          "output_type": "execute_result",
          "data": {
            "text/plain": [
              "[4, 2, 6, 10, 12]"
            ]
          },
          "metadata": {},
          "execution_count": 22
        }
      ]
    },
    {
      "cell_type": "code",
      "source": [
        "list(filter(lambda x: x%2==0 ,a))\n",
        "\n",
        "\n",
        "# True if x%2==0 else False\n",
        "# x%2==0"
      ],
      "metadata": {
        "colab": {
          "base_uri": "https://localhost:8080/"
        },
        "id": "-hhFnKxfhKGB",
        "outputId": "93a5b897-2b00-440f-8a03-b4f4ee5347ea"
      },
      "execution_count": 23,
      "outputs": [
        {
          "output_type": "execute_result",
          "data": {
            "text/plain": [
              "[4, 2, 6, 10, 12]"
            ]
          },
          "metadata": {},
          "execution_count": 23
        }
      ]
    },
    {
      "cell_type": "code",
      "source": [
        "list(filter(lambda x: not x%2==0 ,a))\n"
      ],
      "metadata": {
        "colab": {
          "base_uri": "https://localhost:8080/"
        },
        "id": "xB2BrtkMhVIm",
        "outputId": "568d67c8-7981-42dd-eb75-7dd333b2afd0"
      },
      "execution_count": 25,
      "outputs": [
        {
          "output_type": "execute_result",
          "data": {
            "text/plain": [
              "[3, 5, 3, 5, 97]"
            ]
          },
          "metadata": {},
          "execution_count": 25
        }
      ]
    },
    {
      "cell_type": "code",
      "source": [
        "a=[1,0,0,0,0,1,1]\n",
        "b=[1,0,1,0,0,1,0,1,0,1]\n",
        "list(map(lambda x,y: (x,y), a,b))"
      ],
      "metadata": {
        "colab": {
          "base_uri": "https://localhost:8080/"
        },
        "id": "EPZQDrjKhrie",
        "outputId": "32383de8-d879-40a5-8e55-19abda3b9184"
      },
      "execution_count": 26,
      "outputs": [
        {
          "output_type": "execute_result",
          "data": {
            "text/plain": [
              "[(1, 1), (0, 0), (0, 1), (0, 0), (0, 0), (1, 1), (1, 0)]"
            ]
          },
          "metadata": {},
          "execution_count": 26
        }
      ]
    },
    {
      "cell_type": "code",
      "source": [
        "## zipping\n",
        "\n",
        "# create a list of tuples of items from given iterable\n",
        "\n",
        "\n",
        "c=list(zip(a,b))"
      ],
      "metadata": {
        "id": "HSnHecjLiIhg"
      },
      "execution_count": 31,
      "outputs": []
    },
    {
      "cell_type": "code",
      "source": [
        "a1=list(map(lambda x:x[0] , c))\n",
        "b1=list(map(lambda x:x[1] , c))\n",
        "a1"
      ],
      "metadata": {
        "colab": {
          "base_uri": "https://localhost:8080/"
        },
        "id": "XpWOVjDHiUVr",
        "outputId": "4a14e9b2-43cb-4794-86b4-7464d0bf2489"
      },
      "execution_count": 33,
      "outputs": [
        {
          "output_type": "execute_result",
          "data": {
            "text/plain": [
              "[1, 0, 0, 0, 0, 1, 1]"
            ]
          },
          "metadata": {},
          "execution_count": 33
        }
      ]
    },
    {
      "cell_type": "code",
      "source": [
        "###\n",
        "c"
      ],
      "metadata": {
        "colab": {
          "base_uri": "https://localhost:8080/"
        },
        "id": "Wd8sQwYyixS1",
        "outputId": "f3d35e07-81fc-4841-fb02-f6a6993f9968"
      },
      "execution_count": 34,
      "outputs": [
        {
          "output_type": "execute_result",
          "data": {
            "text/plain": [
              "[(1, 1), (0, 0), (0, 1), (0, 0), (0, 0), (1, 1), (1, 0)]"
            ]
          },
          "metadata": {},
          "execution_count": 34
        }
      ]
    },
    {
      "cell_type": "code",
      "source": [
        "\n",
        "from functools import reduce\n",
        "a=[1,2,3,4,5]\n",
        "result=reduce(lambda x,y :x+y ,a)\n",
        "result"
      ],
      "metadata": {
        "colab": {
          "base_uri": "https://localhost:8080/"
        },
        "id": "MLsTfm5ajLQl",
        "outputId": "4fba7a4e-b034-4bef-9c9e-ae02e00353a1"
      },
      "execution_count": 35,
      "outputs": [
        {
          "output_type": "execute_result",
          "data": {
            "text/plain": [
              "15"
            ]
          },
          "metadata": {},
          "execution_count": 35
        }
      ]
    },
    {
      "cell_type": "code",
      "source": [
        "\n",
        "## we were trying to get total number of 5 multiples\n",
        "\n",
        "a=[2,10,22,36,45,57]\n",
        "reduce(lambda x,y: x+1 if y%5==0 else x ,a)"
      ],
      "metadata": {
        "colab": {
          "base_uri": "https://localhost:8080/"
        },
        "id": "1kx9sfsakh4T",
        "outputId": "d9efb9a7-a613-4b40-95ac-75aa1ae5ab95"
      },
      "execution_count": 36,
      "outputs": [
        {
          "output_type": "execute_result",
          "data": {
            "text/plain": [
              "4"
            ]
          },
          "metadata": {},
          "execution_count": 36
        }
      ]
    },
    {
      "cell_type": "code",
      "source": [
        "\n",
        "\n",
        "reduce(lambda cnt,i: cnt+1 if i%5==0 else cnt ,a, 1)\n",
        "\n",
        "cnt=1\n",
        "for i in a:\n",
        "  if i%5==0:\n",
        "    cnt=cnt+1\n",
        "\n"
      ],
      "metadata": {
        "colab": {
          "base_uri": "https://localhost:8080/"
        },
        "id": "B5xuJ31vlv2D",
        "outputId": "8db6d044-a902-4708-f5dc-de6998025b41"
      },
      "execution_count": 37,
      "outputs": [
        {
          "output_type": "execute_result",
          "data": {
            "text/plain": [
              "2"
            ]
          },
          "metadata": {},
          "execution_count": 37
        }
      ]
    },
    {
      "cell_type": "code",
      "source": [
        "reduce(func, [1,2,3,4,5,6],100)\n",
        "\n",
        "reduce(func, [100,1,2,3,4,5,6])\n",
        "\n"
      ],
      "metadata": {
        "id": "PH6hH8hcmE10"
      },
      "execution_count": null,
      "outputs": []
    },
    {
      "cell_type": "code",
      "source": [
        "a = [1, 2, 3]\n",
        "b = [\"a\", \"b\"]\n",
        "list(zip(a,b))"
      ],
      "metadata": {
        "colab": {
          "base_uri": "https://localhost:8080/"
        },
        "id": "iAbJdCdqmgz-",
        "outputId": "b667214b-129f-4870-bed2-8391d5bdc29d"
      },
      "execution_count": 38,
      "outputs": [
        {
          "output_type": "execute_result",
          "data": {
            "text/plain": [
              "[(1, 'a'), (2, 'b')]"
            ]
          },
          "metadata": {},
          "execution_count": 38
        }
      ]
    },
    {
      "cell_type": "code",
      "source": [
        "##\n",
        "def sum_num(x,y):\n",
        "  return x+y"
      ],
      "metadata": {
        "id": "bVmt5-Fco94i"
      },
      "execution_count": 1,
      "outputs": []
    },
    {
      "cell_type": "code",
      "source": [
        "sum_num(6,7)"
      ],
      "metadata": {
        "colab": {
          "base_uri": "https://localhost:8080/"
        },
        "id": "nXqHOSwWpSa3",
        "outputId": "0571d67b-996e-41f4-eecb-19e6005c462e"
      },
      "execution_count": 2,
      "outputs": [
        {
          "output_type": "execute_result",
          "data": {
            "text/plain": [
              "13"
            ]
          },
          "metadata": {},
          "execution_count": 2
        }
      ]
    },
    {
      "cell_type": "code",
      "source": [
        "# add 3 nnumber -> can the same function\n",
        "# stillbe used"
      ],
      "metadata": {
        "id": "pgtLtMj-pWkw"
      },
      "execution_count": null,
      "outputs": []
    },
    {
      "cell_type": "code",
      "source": [
        "def sum_num2(x,y,z):\n",
        "  return x+y+z"
      ],
      "metadata": {
        "id": "Kdg2lfuEpkR3"
      },
      "execution_count": null,
      "outputs": []
    },
    {
      "cell_type": "code",
      "source": [
        "def sum_num2(x,y,*args):\n",
        "  print(args)\n",
        "  return x+y"
      ],
      "metadata": {
        "id": "AdujEGK3pkUu"
      },
      "execution_count": 11,
      "outputs": []
    },
    {
      "cell_type": "code",
      "source": [
        "sum_num2(4,5)"
      ],
      "metadata": {
        "colab": {
          "base_uri": "https://localhost:8080/"
        },
        "id": "L1FDKQU9pkYG",
        "outputId": "36ee2935-a502-4786-a13f-20ac2251b172"
      },
      "execution_count": 12,
      "outputs": [
        {
          "output_type": "stream",
          "name": "stdout",
          "text": [
            "()\n"
          ]
        },
        {
          "output_type": "execute_result",
          "data": {
            "text/plain": [
              "9"
            ]
          },
          "metadata": {},
          "execution_count": 12
        }
      ]
    },
    {
      "cell_type": "code",
      "source": [
        "sum_num2(4,5,6)"
      ],
      "metadata": {
        "colab": {
          "base_uri": "https://localhost:8080/"
        },
        "id": "3kzEXWqLqD2J",
        "outputId": "99aa2823-c239-4a8f-a6db-4278c78e136f"
      },
      "execution_count": 13,
      "outputs": [
        {
          "output_type": "stream",
          "name": "stdout",
          "text": [
            "(6,)\n"
          ]
        },
        {
          "output_type": "execute_result",
          "data": {
            "text/plain": [
              "9"
            ]
          },
          "metadata": {},
          "execution_count": 13
        }
      ]
    },
    {
      "cell_type": "code",
      "source": [
        "sum_num2(4,5,6,34,25,45,65)"
      ],
      "metadata": {
        "colab": {
          "base_uri": "https://localhost:8080/"
        },
        "id": "56m8_YiUqD5P",
        "outputId": "86006266-b80a-4923-ff2d-975c43ce3f16"
      },
      "execution_count": 14,
      "outputs": [
        {
          "output_type": "stream",
          "name": "stdout",
          "text": [
            "(6, 34, 25, 45, 65)\n"
          ]
        },
        {
          "output_type": "execute_result",
          "data": {
            "text/plain": [
              "9"
            ]
          },
          "metadata": {},
          "execution_count": 14
        }
      ]
    },
    {
      "cell_type": "code",
      "source": [],
      "metadata": {
        "id": "rmwmEg8TqD8G"
      },
      "execution_count": null,
      "outputs": []
    },
    {
      "cell_type": "code",
      "source": [],
      "metadata": {
        "id": "bBIp4qRAqD-v"
      },
      "execution_count": null,
      "outputs": []
    },
    {
      "cell_type": "code",
      "source": [
        "sum_num2(4)\n",
        "## throw an error y is not avaiable"
      ],
      "metadata": {
        "colab": {
          "base_uri": "https://localhost:8080/",
          "height": 196
        },
        "id": "X3m1feGNp5P6",
        "outputId": "30af965d-b72b-4efe-99c4-f64ec54068ed"
      },
      "execution_count": 5,
      "outputs": [
        {
          "output_type": "error",
          "ename": "TypeError",
          "evalue": "sum_num2() missing 1 required positional argument: 'y'",
          "traceback": [
            "\u001b[0;31m---------------------------------------------------------------------------\u001b[0m",
            "\u001b[0;31mTypeError\u001b[0m                                 Traceback (most recent call last)",
            "\u001b[0;32m<ipython-input-5-9766ad34efa2>\u001b[0m in \u001b[0;36m<cell line: 1>\u001b[0;34m()\u001b[0m\n\u001b[0;32m----> 1\u001b[0;31m \u001b[0msum_num2\u001b[0m\u001b[0;34m(\u001b[0m\u001b[0;36m4\u001b[0m\u001b[0;34m)\u001b[0m\u001b[0;34m\u001b[0m\u001b[0;34m\u001b[0m\u001b[0m\n\u001b[0m\u001b[1;32m      2\u001b[0m \u001b[0;31m## throw an error y is not avaiable\u001b[0m\u001b[0;34m\u001b[0m\u001b[0;34m\u001b[0m\u001b[0m\n",
            "\u001b[0;31mTypeError\u001b[0m: sum_num2() missing 1 required positional argument: 'y'"
          ]
        }
      ]
    },
    {
      "cell_type": "code",
      "source": [
        "def sum_num2(x,y,*args):\n",
        "  print(args)\n",
        "  return x+y\n",
        "\n",
        ""
      ],
      "metadata": {
        "id": "dwBWMRGhqCmL"
      },
      "execution_count": null,
      "outputs": []
    },
    {
      "cell_type": "code",
      "source": [
        "def sum_num2(x,y,*mychoice):\n",
        "  print(mychoice)\n",
        "  return x+y\n",
        "\n",
        "sum_num2(2,3,4,5,6,7,8,9)"
      ],
      "metadata": {
        "colab": {
          "base_uri": "https://localhost:8080/"
        },
        "id": "F4SMv_zvqt9o",
        "outputId": "a75b46f0-4832-49cf-eec1-c61aaa86d270"
      },
      "execution_count": 15,
      "outputs": [
        {
          "output_type": "stream",
          "name": "stdout",
          "text": [
            "(4, 5, 6, 7, 8, 9)\n"
          ]
        },
        {
          "output_type": "execute_result",
          "data": {
            "text/plain": [
              "5"
            ]
          },
          "metadata": {},
          "execution_count": 15
        }
      ]
    },
    {
      "cell_type": "code",
      "source": [
        "def sum_num2(x,y,mychoice):\n",
        "  print(mychoice)\n",
        "  return x+y\n",
        "\n",
        "sum_num2(2,3,4)\n",
        "\n",
        "sum_num2(2,3)\n",
        "sum_num2(2,3,4,5,6)"
      ],
      "metadata": {
        "id": "_Rqk00BVqzOu"
      },
      "execution_count": null,
      "outputs": []
    },
    {
      "cell_type": "code",
      "source": [],
      "metadata": {
        "id": "e6QTBGXNrGfD"
      },
      "execution_count": null,
      "outputs": []
    },
    {
      "cell_type": "code",
      "source": [
        "def sum_num2(x,y,*mychoice):\n",
        "  result=x+y\n",
        "  print(type(mychoice))\n",
        "  # print(type(*mychoice))\n",
        "  if mychoice:\n",
        "    return result+sum(mychoice)\n",
        "  return result\n",
        "\n",
        "sum_num2(2,3,4,5,6,7)"
      ],
      "metadata": {
        "colab": {
          "base_uri": "https://localhost:8080/",
          "height": 355
        },
        "id": "III2NdqNrGh5",
        "outputId": "b2198ab1-63f6-424e-8f91-d4c73c7e4fbd"
      },
      "execution_count": 17,
      "outputs": [
        {
          "output_type": "stream",
          "name": "stdout",
          "text": [
            "<class 'tuple'>\n"
          ]
        },
        {
          "output_type": "error",
          "ename": "TypeError",
          "evalue": "type() takes 1 or 3 arguments",
          "traceback": [
            "\u001b[0;31m---------------------------------------------------------------------------\u001b[0m",
            "\u001b[0;31mTypeError\u001b[0m                                 Traceback (most recent call last)",
            "\u001b[0;32m<ipython-input-17-37501856a1b6>\u001b[0m in \u001b[0;36m<cell line: 10>\u001b[0;34m()\u001b[0m\n\u001b[1;32m      8\u001b[0m   \u001b[0;32mreturn\u001b[0m \u001b[0mresult\u001b[0m\u001b[0;34m\u001b[0m\u001b[0;34m\u001b[0m\u001b[0m\n\u001b[1;32m      9\u001b[0m \u001b[0;34m\u001b[0m\u001b[0m\n\u001b[0;32m---> 10\u001b[0;31m \u001b[0msum_num2\u001b[0m\u001b[0;34m(\u001b[0m\u001b[0;36m2\u001b[0m\u001b[0;34m,\u001b[0m\u001b[0;36m3\u001b[0m\u001b[0;34m,\u001b[0m\u001b[0;36m4\u001b[0m\u001b[0;34m,\u001b[0m\u001b[0;36m5\u001b[0m\u001b[0;34m,\u001b[0m\u001b[0;36m6\u001b[0m\u001b[0;34m,\u001b[0m\u001b[0;36m7\u001b[0m\u001b[0;34m)\u001b[0m\u001b[0;34m\u001b[0m\u001b[0;34m\u001b[0m\u001b[0m\n\u001b[0m",
            "\u001b[0;32m<ipython-input-17-37501856a1b6>\u001b[0m in \u001b[0;36msum_num2\u001b[0;34m(x, y, *mychoice)\u001b[0m\n\u001b[1;32m      2\u001b[0m   \u001b[0mresult\u001b[0m\u001b[0;34m=\u001b[0m\u001b[0mx\u001b[0m\u001b[0;34m+\u001b[0m\u001b[0my\u001b[0m\u001b[0;34m\u001b[0m\u001b[0;34m\u001b[0m\u001b[0m\n\u001b[1;32m      3\u001b[0m   \u001b[0mprint\u001b[0m\u001b[0;34m(\u001b[0m\u001b[0mtype\u001b[0m\u001b[0;34m(\u001b[0m\u001b[0mmychoice\u001b[0m\u001b[0;34m)\u001b[0m\u001b[0;34m)\u001b[0m\u001b[0;34m\u001b[0m\u001b[0;34m\u001b[0m\u001b[0m\n\u001b[0;32m----> 4\u001b[0;31m   \u001b[0mprint\u001b[0m\u001b[0;34m(\u001b[0m\u001b[0mtype\u001b[0m\u001b[0;34m(\u001b[0m\u001b[0;34m*\u001b[0m\u001b[0mmychoice\u001b[0m\u001b[0;34m)\u001b[0m\u001b[0;34m)\u001b[0m\u001b[0;34m\u001b[0m\u001b[0;34m\u001b[0m\u001b[0m\n\u001b[0m\u001b[1;32m      5\u001b[0m \u001b[0;34m\u001b[0m\u001b[0m\n\u001b[1;32m      6\u001b[0m   \u001b[0;32mif\u001b[0m \u001b[0mmychoice\u001b[0m\u001b[0;34m:\u001b[0m\u001b[0;34m\u001b[0m\u001b[0;34m\u001b[0m\u001b[0m\n",
            "\u001b[0;31mTypeError\u001b[0m: type() takes 1 or 3 arguments"
          ]
        }
      ]
    },
    {
      "cell_type": "code",
      "source": [
        "\n",
        "def create_person(name,age,gender):\n",
        "  Person={\n",
        "      \"name\":name,\n",
        "      \"age\":age,\n",
        "      \"gender\":gender\n",
        "  }\n",
        "  return Person\n",
        "\n",
        "p1= create_person(name=\"Archit\",age=26,gender=\"M\")\n",
        "p2= create_person(name=\"Archit1\",age=26,gender=\"M\",hobby=\"chess\")\n",
        "\n"
      ],
      "metadata": {
        "colab": {
          "base_uri": "https://localhost:8080/"
        },
        "id": "1vaXxc5xrYDG",
        "outputId": "f4ff110b-f693-423b-c3a6-ad503a0fa12a"
      },
      "execution_count": 18,
      "outputs": [
        {
          "output_type": "execute_result",
          "data": {
            "text/plain": [
              "{'name': 'Archit', 'age': 26, 'gender': 'M'}"
            ]
          },
          "metadata": {},
          "execution_count": 18
        }
      ]
    },
    {
      "cell_type": "code",
      "source": [
        "def create_person(name,age,gender,*args):\n",
        "  print(args)\n",
        "  Person={\n",
        "      \"name\":name,\n",
        "      \"age\":age,\n",
        "      \"gender\":gender\n",
        "  }\n",
        "  return Person\n",
        "\n",
        "p2= create_person(\"Archit1\",26,\"M\",\"chess\")\n"
      ],
      "metadata": {
        "colab": {
          "base_uri": "https://localhost:8080/"
        },
        "id": "wcswWrhcsNV_",
        "outputId": "90c88da2-47e9-4840-e09e-fca0acc8c62d"
      },
      "execution_count": 19,
      "outputs": [
        {
          "output_type": "stream",
          "name": "stdout",
          "text": [
            "('chess',)\n"
          ]
        }
      ]
    },
    {
      "cell_type": "code",
      "source": [
        "def create_person(name,age,gender,**kwargs):\n",
        "  print(kwargs)\n",
        "  Person={\n",
        "      \"name\":name,\n",
        "      \"age\":age,\n",
        "      \"gender\":gender\n",
        "  }\n",
        "  return Person\n",
        "\n",
        "p2= create_person(\"Archit1\",26,\"M\",hobby=\"chess\",color=\"blue\")\n",
        "# p3= create_person(\"Archit1\",26,\"M\",color=\"blue\",hobby=\"chess\")"
      ],
      "metadata": {
        "colab": {
          "base_uri": "https://localhost:8080/"
        },
        "id": "efbOAm4fso9t",
        "outputId": "c01962e5-f9c0-41de-c2ba-866489610d87"
      },
      "execution_count": 21,
      "outputs": [
        {
          "output_type": "stream",
          "name": "stdout",
          "text": [
            "{'hobby': 'chess', 'color': 'blue'}\n"
          ]
        }
      ]
    },
    {
      "cell_type": "code",
      "source": [
        "def random(x,y,*args,**kwargs):\n",
        "  print(x)\n",
        "  print(y)\n",
        "  print(args)\n",
        "  print(kwargs)\n",
        "\n",
        "random(1,2,3,4,5,6,7,hobby=\"hello\",city=\"blr\")"
      ],
      "metadata": {
        "colab": {
          "base_uri": "https://localhost:8080/"
        },
        "id": "QHAnRBzJtIVH",
        "outputId": "e747dd77-96c6-4694-b8c1-0b20442e8ef3"
      },
      "execution_count": 22,
      "outputs": [
        {
          "output_type": "stream",
          "name": "stdout",
          "text": [
            "1\n",
            "2\n",
            "(3, 4, 5, 6, 7)\n",
            "{'hobby': 'hello', 'city': 'blr'}\n"
          ]
        }
      ]
    },
    {
      "cell_type": "code",
      "source": [
        "def random(x,y,*args,**kwargs):\n",
        "  print(x)\n",
        "  print(y)\n",
        "  print(args)\n",
        "  print(kwargs)\n",
        "\n",
        "random(1,2,3,4,5,hobby=\"hello\",city=\"blr\",6,7)"
      ],
      "metadata": {
        "colab": {
          "base_uri": "https://localhost:8080/",
          "height": 108
        },
        "id": "DaBaJxDtuOXR",
        "outputId": "745567b3-850e-4f8a-be90-35934809b10f"
      },
      "execution_count": 23,
      "outputs": [
        {
          "output_type": "error",
          "ename": "SyntaxError",
          "evalue": "positional argument follows keyword argument (<ipython-input-23-205123cf5651>, line 7)",
          "traceback": [
            "\u001b[0;36m  File \u001b[0;32m\"<ipython-input-23-205123cf5651>\"\u001b[0;36m, line \u001b[0;32m7\u001b[0m\n\u001b[0;31m    random(1,2,3,4,5,hobby=\"hello\",city=\"blr\",6,7)\u001b[0m\n\u001b[0m                                                 ^\u001b[0m\n\u001b[0;31mSyntaxError\u001b[0m\u001b[0;31m:\u001b[0m positional argument follows keyword argument\n"
          ]
        }
      ]
    },
    {
      "cell_type": "code",
      "source": [
        "def random(x,y,z,*args,**kwargs):\n",
        "  print(x)\n",
        "  print(y)\n",
        "  print(args)\n",
        "  print(kwargs)\n",
        "random(1,2,3,4,a=5,hobby=\"hello\",city=\"blr\")"
      ],
      "metadata": {
        "colab": {
          "base_uri": "https://localhost:8080/"
        },
        "id": "aMlkrE96uZku",
        "outputId": "16b10451-8f2d-45d2-fed1-896c653afc4b"
      },
      "execution_count": 27,
      "outputs": [
        {
          "output_type": "stream",
          "name": "stdout",
          "text": [
            "1\n",
            "2\n",
            "(4,)\n",
            "{'a': 5, 'hobby': 'hello', 'city': 'blr'}\n"
          ]
        }
      ]
    },
    {
      "cell_type": "code",
      "source": [
        "def random(x,y,*args,**kwargs):\n",
        "  print(x)\n",
        "  print(y)\n",
        "  print(args)\n",
        "  print(kwargs)\n",
        "random(1,2,a=5,hobby=\"hello\",city=\"blr\")"
      ],
      "metadata": {
        "id": "S86KSCOEvClD"
      },
      "execution_count": null,
      "outputs": []
    },
    {
      "cell_type": "code",
      "source": [
        "def random(x,y,*args,**kwargs):\n",
        "  print(x)\n",
        "  print(y)\n",
        "  print(args)\n",
        "  print(kwargs)\n",
        "random(y=1,x=2,a=5,hobby=\"hello\",city=\"blr\")"
      ],
      "metadata": {
        "colab": {
          "base_uri": "https://localhost:8080/"
        },
        "id": "N6Xpyad3v2yo",
        "outputId": "0746459e-689f-4266-b1b8-1b014c9dd2db"
      },
      "execution_count": 28,
      "outputs": [
        {
          "output_type": "stream",
          "name": "stdout",
          "text": [
            "2\n",
            "1\n",
            "()\n",
            "{'a': 5, 'hobby': 'hello', 'city': 'blr'}\n"
          ]
        }
      ]
    },
    {
      "cell_type": "code",
      "source": [
        "def random(x,y,z,*args,**kwargs):\n",
        "  print(x)\n",
        "  print(y)\n",
        "  print(args)\n",
        "  print(kwargs)\n",
        "random(2,z=3,y=1,a=5,hobby=\"hello\",city=\"blr\")"
      ],
      "metadata": {
        "colab": {
          "base_uri": "https://localhost:8080/"
        },
        "id": "EIh0DTV4v5qs",
        "outputId": "a33f36a3-166b-433b-cb8f-cb9c4c229298"
      },
      "execution_count": 29,
      "outputs": [
        {
          "output_type": "stream",
          "name": "stdout",
          "text": [
            "2\n",
            "1\n",
            "()\n",
            "{'a': 5, 'hobby': 'hello', 'city': 'blr'}\n"
          ]
        }
      ]
    },
    {
      "cell_type": "code",
      "source": [
        "def random(x,y,z,*args,**kwargs):\n",
        "  print(x)\n",
        "  print(y)\n",
        "  print(args)\n",
        "  print(kwargs)\n",
        "random(2,x=3,y=1,a=5,hobby=\"hello\",city=\"blr\")"
      ],
      "metadata": {
        "colab": {
          "base_uri": "https://localhost:8080/",
          "height": 213
        },
        "id": "nr4fXpmcwPIV",
        "outputId": "8af755b7-c4b9-439d-f0df-3b309b9142f3"
      },
      "execution_count": 30,
      "outputs": [
        {
          "output_type": "error",
          "ename": "TypeError",
          "evalue": "random() got multiple values for argument 'x'",
          "traceback": [
            "\u001b[0;31m---------------------------------------------------------------------------\u001b[0m",
            "\u001b[0;31mTypeError\u001b[0m                                 Traceback (most recent call last)",
            "\u001b[0;32m<ipython-input-30-0af675dbcc18>\u001b[0m in \u001b[0;36m<cell line: 6>\u001b[0;34m()\u001b[0m\n\u001b[1;32m      4\u001b[0m   \u001b[0mprint\u001b[0m\u001b[0;34m(\u001b[0m\u001b[0margs\u001b[0m\u001b[0;34m)\u001b[0m\u001b[0;34m\u001b[0m\u001b[0;34m\u001b[0m\u001b[0m\n\u001b[1;32m      5\u001b[0m   \u001b[0mprint\u001b[0m\u001b[0;34m(\u001b[0m\u001b[0mkwargs\u001b[0m\u001b[0;34m)\u001b[0m\u001b[0;34m\u001b[0m\u001b[0;34m\u001b[0m\u001b[0m\n\u001b[0;32m----> 6\u001b[0;31m \u001b[0mrandom\u001b[0m\u001b[0;34m(\u001b[0m\u001b[0;36m2\u001b[0m\u001b[0;34m,\u001b[0m\u001b[0mx\u001b[0m\u001b[0;34m=\u001b[0m\u001b[0;36m3\u001b[0m\u001b[0;34m,\u001b[0m\u001b[0my\u001b[0m\u001b[0;34m=\u001b[0m\u001b[0;36m1\u001b[0m\u001b[0;34m,\u001b[0m\u001b[0ma\u001b[0m\u001b[0;34m=\u001b[0m\u001b[0;36m5\u001b[0m\u001b[0;34m,\u001b[0m\u001b[0mhobby\u001b[0m\u001b[0;34m=\u001b[0m\u001b[0;34m\"hello\"\u001b[0m\u001b[0;34m,\u001b[0m\u001b[0mcity\u001b[0m\u001b[0;34m=\u001b[0m\u001b[0;34m\"blr\"\u001b[0m\u001b[0;34m)\u001b[0m\u001b[0;34m\u001b[0m\u001b[0;34m\u001b[0m\u001b[0m\n\u001b[0m",
            "\u001b[0;31mTypeError\u001b[0m: random() got multiple values for argument 'x'"
          ]
        }
      ]
    },
    {
      "cell_type": "code",
      "source": [
        "def sample_func(x, y, *args, **kwargs):\n",
        "    return x, y, args, kwargs\n",
        "\n",
        "sample_func(1, 2, 3, 4, a=5, b=6)"
      ],
      "metadata": {
        "id": "UuWWki3pwdzK"
      },
      "execution_count": null,
      "outputs": []
    },
    {
      "cell_type": "code",
      "source": [],
      "metadata": {
        "id": "62eTZoqJxFIx"
      },
      "execution_count": null,
      "outputs": []
    },
    {
      "cell_type": "code",
      "source": [
        "\n",
        "a=[1,2,3,4,5,6,7]\n",
        "\n",
        "\n",
        "cnt=None\n",
        "for i in range(len(a)-1):\n",
        "  cnt=F(a[i],a[i-1])\n",
        "\n"
      ],
      "metadata": {
        "id": "_1tQIiM2xFL4"
      },
      "execution_count": null,
      "outputs": []
    },
    {
      "cell_type": "code",
      "source": [
        "###\n",
        "\n",
        "# can we override _init_ method for normal variables\n"
      ],
      "metadata": {
        "id": "qYqNyKW1yK7u"
      },
      "execution_count": null,
      "outputs": []
    },
    {
      "cell_type": "code",
      "source": [
        "## overwriding\n",
        "\n",
        "class newInt(Integer.Class):\n",
        "  def __init__(self,x):\n",
        "\n",
        "\n",
        "a=5\n",
        "a=newInt(5)"
      ],
      "metadata": {
        "id": "EEKqLypRyLDQ"
      },
      "execution_count": null,
      "outputs": []
    },
    {
      "cell_type": "code",
      "source": [],
      "metadata": {
        "id": "rJdY3J7Uy4VQ"
      },
      "execution_count": null,
      "outputs": []
    },
    {
      "cell_type": "code",
      "source": [
        "## Regex\n",
        "\n",
        "\n",
        "## regular expression -> language of string patterns"
      ],
      "metadata": {
        "id": "_dHxW-SWy4dB"
      },
      "execution_count": null,
      "outputs": []
    },
    {
      "cell_type": "code",
      "source": [
        "\"archit_1234_blr\"\n",
        "\"archadit_1232434_jpy\"\n",
        "\"archidwqt_1223434_usd\"\n",
        "\"arcasdchit_123434_inr\"\n",
        "\"arcwdwshit_1234_jpg\""
      ],
      "metadata": {
        "id": "vHdKMxSvy4g7"
      },
      "execution_count": null,
      "outputs": []
    },
    {
      "cell_type": "code",
      "source": [
        "'^arc\\w+_\\d+_\\w{3}'\n",
        "\n",
        "\n",
        "\n",
        "re library\n",
        "\n",
        "## it works as a regex matcher and substitue\n",
        "\n"
      ],
      "metadata": {
        "id": "Y9nJNNK3zcrn"
      },
      "execution_count": null,
      "outputs": []
    },
    {
      "cell_type": "code",
      "source": [
        "A = ['TV', 'TV', 'TV', 'TV', 'TV', 'TV', 'TV', 'TV', 'TV', 'TV', 'TV', 'TV', 'Social Media', 'Social Media', 'Social Media', 'Social Media', 'Social Media', 'Social Media', 'Social Media', 'Social Media', 'Social Media', 'Social Media', 'Social Media', 'Social Media']\n",
        "B = ['Young Adults', 'Middle-Aged', 'Seniors', 'Young Adults', 'Middle-Aged', 'Seniors', 'Young Adults', 'Middle-Aged', 'Seniors', 'Young Adults', 'Middle-Aged', 'Seniors', 'Young Adults', 'Middle-Aged', 'Seniors', 'Young Adults', 'Middle-Aged', 'Seniors', 'Young Adults', 'Middle-Aged', 'Seniors', 'Young Adults', 'Middle-Aged', 'Seniors']\n",
        "E = [98, 88, 74, 67, 80, 98, 78, 82, 70, 70, 83, 95, 99, 83, 62, 81, 61, 83, 89, 97, 61, 80, 92, 71]"
      ],
      "metadata": {
        "id": "pFtAQHob3g3D"
      },
      "execution_count": 31,
      "outputs": []
    },
    {
      "cell_type": "code",
      "source": [
        "len(A)"
      ],
      "metadata": {
        "colab": {
          "base_uri": "https://localhost:8080/"
        },
        "id": "uvz_Zzso3lvy",
        "outputId": "bcbdb03d-c68f-43a2-90e4-c9fdb28d61e7"
      },
      "execution_count": 33,
      "outputs": [
        {
          "output_type": "execute_result",
          "data": {
            "text/plain": [
              "24"
            ]
          },
          "metadata": {},
          "execution_count": 33
        }
      ]
    },
    {
      "cell_type": "code",
      "source": [
        "len(B)"
      ],
      "metadata": {
        "colab": {
          "base_uri": "https://localhost:8080/"
        },
        "id": "DGsLDbpD3nqh",
        "outputId": "e2d25fd0-c31a-464c-b6ca-a429458af07e"
      },
      "execution_count": 37,
      "outputs": [
        {
          "output_type": "execute_result",
          "data": {
            "text/plain": [
              "24"
            ]
          },
          "metadata": {},
          "execution_count": 37
        }
      ]
    },
    {
      "cell_type": "code",
      "source": [
        "len(E)"
      ],
      "metadata": {
        "colab": {
          "base_uri": "https://localhost:8080/"
        },
        "id": "venVUFjK3rCn",
        "outputId": "8c69e98a-857b-465c-f008-b81e48a0fab2"
      },
      "execution_count": 36,
      "outputs": [
        {
          "output_type": "execute_result",
          "data": {
            "text/plain": [
              "24"
            ]
          },
          "metadata": {},
          "execution_count": 36
        }
      ]
    },
    {
      "cell_type": "code",
      "source": [],
      "metadata": {
        "id": "KbIrTm313sFh"
      },
      "execution_count": null,
      "outputs": []
    }
  ]
}