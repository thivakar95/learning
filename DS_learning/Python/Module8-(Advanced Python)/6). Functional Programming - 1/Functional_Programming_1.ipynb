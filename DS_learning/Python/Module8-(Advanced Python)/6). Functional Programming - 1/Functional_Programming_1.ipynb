{
  "nbformat": 4,
  "nbformat_minor": 0,
  "metadata": {
    "colab": {
      "provenance": []
    },
    "kernelspec": {
      "name": "python3",
      "display_name": "Python 3"
    },
    "language_info": {
      "name": "python"
    }
  },
  "cells": [
    {
      "cell_type": "code",
      "execution_count": null,
      "metadata": {
        "id": "cjuv8hd24rHG"
      },
      "outputs": [],
      "source": [
        "numbers=[1,2,3,4]\n",
        "square_num=[]\n",
        "for num in numbers:\n",
        "  square_num.append(num*num)\n",
        ""
      ]
    },
    {
      "cell_type": "code",
      "source": [
        "square_num=[i*i for i in numbers]\n"
      ],
      "metadata": {
        "id": "85Kk3I5_7AFI"
      },
      "execution_count": null,
      "outputs": []
    },
    {
      "cell_type": "code",
      "source": [
        "## everything needs to be written in fucntions\n",
        "square_num=list(map(lambda x: x*x, numbers))"
      ],
      "metadata": {
        "id": "t0OdRZPp7G4v"
      },
      "execution_count": null,
      "outputs": []
    },
    {
      "cell_type": "code",
      "source": [
        "def square_fun(x):\n",
        "  return [i * i for i in x]\n",
        "\n",
        "square_fun(numbers)"
      ],
      "metadata": {
        "id": "buij27Do7V-P"
      },
      "execution_count": null,
      "outputs": []
    },
    {
      "cell_type": "code",
      "source": [
        "def modu(x):\n",
        "  return [i * i for i in x]"
      ],
      "metadata": {
        "id": "GFIH4WZl7WCp"
      },
      "execution_count": null,
      "outputs": []
    },
    {
      "cell_type": "code",
      "source": [
        "def random(x):\n",
        "\n",
        "  return None\n",
        "\n",
        "\n",
        " square_func\n",
        " modu\n",
        " random"
      ],
      "metadata": {
        "id": "uB2evGzQ7WFy"
      },
      "execution_count": null,
      "outputs": []
    },
    {
      "cell_type": "code",
      "source": [
        "## we read data from some server or from a very large csv\n",
        "\n",
        "\n",
        "x=1234467656\n",
        "x1=x\n",
        "x1=x1+31241234"
      ],
      "metadata": {
        "id": "rUhRit7L83vQ"
      },
      "execution_count": null,
      "outputs": []
    },
    {
      "cell_type": "code",
      "source": [
        "x=1234467656\n",
        "\n",
        "\n",
        "def rndom(x):\n",
        "  x=x+31241234\n",
        "  return x\n",
        "\n",
        "rndom(x)"
      ],
      "metadata": {
        "colab": {
          "base_uri": "https://localhost:8080/"
        },
        "id": "c8rjPGOd83yI",
        "outputId": "569fb03f-52eb-4db5-c139-aa3249e74d25"
      },
      "execution_count": 1,
      "outputs": [
        {
          "output_type": "execute_result",
          "data": {
            "text/plain": [
              "1265708890"
            ]
          },
          "metadata": {},
          "execution_count": 1
        }
      ]
    },
    {
      "cell_type": "code",
      "source": [
        "## we can keep track of only the import milestones\n",
        "\n",
        "def A1():\n",
        "  return 1\n",
        "\n",
        "\n",
        "def A2():\n",
        "  return 1\n",
        "\n",
        "\n",
        "\n",
        "def A3():\n",
        "  return 1\n",
        "\n",
        "\n",
        "\n",
        "x=21837517235\n",
        "x1=A1()\n",
        "x2=A2()\n",
        "X3=A3()\n"
      ],
      "metadata": {
        "id": "iHI-jYyZ830-"
      },
      "execution_count": null,
      "outputs": []
    },
    {
      "cell_type": "code",
      "source": [],
      "metadata": {
        "id": "JYS_OcNg_N-W"
      },
      "execution_count": null,
      "outputs": []
    },
    {
      "cell_type": "code",
      "source": [
        "## imperative approach\n",
        "\n",
        "## we tell python all steps needed to be performed with how to do them\n",
        "numbers=[1,2,3,4]\n",
        "square_nusm=[]\n",
        "for num in numbers:\n",
        "  square_num.append(num*num)\n",
        ""
      ],
      "metadata": {
        "id": "4mI0PDnD_OA9"
      },
      "execution_count": null,
      "outputs": []
    },
    {
      "cell_type": "code",
      "source": [
        "def square_fun(x):\n",
        "  return [i * i for i in x]\n",
        "\n",
        "square_fun(numbers)"
      ],
      "metadata": {
        "id": "RchLc5Y9_ODS"
      },
      "execution_count": null,
      "outputs": []
    },
    {
      "cell_type": "code",
      "source": [
        "pd.read_csv\n",
        "pd.drop_duplicates\n",
        "pd.\n",
        "\n",
        "\n",
        "## first read the csv\n",
        "## drop the duplicate\n",
        "## print the data\n"
      ],
      "metadata": {
        "id": "nOvYGQVf_OF4"
      },
      "execution_count": null,
      "outputs": []
    },
    {
      "cell_type": "markdown",
      "source": [],
      "metadata": {
        "id": "pa_yCWdVCcHC"
      }
    },
    {
      "cell_type": "code",
      "source": [
        "# They do not require state updates, which can be a costly operation.\n",
        "\n",
        "\n",
        "x=1234467656\n",
        "x1=x\n",
        "x2=x1+31241234\n",
        "x3=x2/41234\n",
        "x4=x3*12"
      ],
      "metadata": {
        "id": "bQrOwDqE_53P"
      },
      "execution_count": null,
      "outputs": []
    },
    {
      "cell_type": "code",
      "source": [],
      "metadata": {
        "id": "J1cSoiJ-C6Ly"
      },
      "execution_count": null,
      "outputs": []
    },
    {
      "cell_type": "code",
      "source": [
        "def square(x):\n",
        "  return x*x\n",
        "\n",
        "square1 = lambda x : x*x"
      ],
      "metadata": {
        "id": "uMgyxHpgC6Ns"
      },
      "execution_count": 2,
      "outputs": []
    },
    {
      "cell_type": "code",
      "source": [
        "square(2)"
      ],
      "metadata": {
        "colab": {
          "base_uri": "https://localhost:8080/"
        },
        "id": "mbEjEskGC6QS",
        "outputId": "6bebb1ec-7e97-402e-b99a-4d3bf9952287"
      },
      "execution_count": 3,
      "outputs": [
        {
          "output_type": "execute_result",
          "data": {
            "text/plain": [
              "4"
            ]
          },
          "metadata": {},
          "execution_count": 3
        }
      ]
    },
    {
      "cell_type": "code",
      "source": [
        "square1(2)"
      ],
      "metadata": {
        "colab": {
          "base_uri": "https://localhost:8080/"
        },
        "id": "kieMw-MkC6S5",
        "outputId": "fa0f1dd1-d8e9-4c38-b6d1-bb7cfb4af18f"
      },
      "execution_count": 4,
      "outputs": [
        {
          "output_type": "execute_result",
          "data": {
            "text/plain": [
              "4"
            ]
          },
          "metadata": {},
          "execution_count": 4
        }
      ]
    },
    {
      "cell_type": "code",
      "source": [
        "(lambda x : x*x)(2)\n",
        "## they are also called anonymous fucntions\n"
      ],
      "metadata": {
        "colab": {
          "base_uri": "https://localhost:8080/"
        },
        "id": "Xn4pk7weDXLd",
        "outputId": "bf62ecdb-ec83-4f52-acb2-9f5325959882"
      },
      "execution_count": 5,
      "outputs": [
        {
          "output_type": "execute_result",
          "data": {
            "text/plain": [
              "4"
            ]
          },
          "metadata": {},
          "execution_count": 5
        }
      ]
    },
    {
      "cell_type": "code",
      "source": [
        "## ternary operator\n",
        "\n",
        "if cond():\n",
        "  TRUE_a\n",
        "else:\n",
        "  False_a\n",
        "\n",
        "\n",
        "\n",
        "# condition ? True_a : False a\n",
        "\n",
        "True_a if condition else False_a\n",
        "\n",
        "\n"
      ],
      "metadata": {
        "id": "HgxMyXaODaWb"
      },
      "execution_count": null,
      "outputs": []
    },
    {
      "cell_type": "code",
      "source": [
        "def sq(a):\n",
        "  if a%2==0\n",
        "    return a*a\n",
        "  else:\n",
        "    return a+2"
      ],
      "metadata": {
        "id": "5ZjRMzMbEN-P"
      },
      "execution_count": null,
      "outputs": []
    },
    {
      "cell_type": "code",
      "source": [
        "lambda x:x*x"
      ],
      "metadata": {
        "id": "5ZX4KnhKEOA2"
      },
      "execution_count": null,
      "outputs": []
    },
    {
      "cell_type": "code",
      "source": [
        "lambda x: x*x if x%2==0 else x+2"
      ],
      "metadata": {
        "id": "Aiuy3xJCEODt"
      },
      "execution_count": null,
      "outputs": []
    },
    {
      "cell_type": "code",
      "source": [],
      "metadata": {
        "id": "Vr_v_L3sE1BN"
      },
      "execution_count": null,
      "outputs": []
    },
    {
      "cell_type": "code",
      "source": [
        "a=[1,5,6,7,3,4,2]\n",
        "sorted_a=sorted(a)\n",
        "sorted_a"
      ],
      "metadata": {
        "colab": {
          "base_uri": "https://localhost:8080/"
        },
        "id": "6L5UE_SoE1EW",
        "outputId": "b1befc1e-2c6a-4810-a0d0-628a42cda0f2"
      },
      "execution_count": 6,
      "outputs": [
        {
          "output_type": "execute_result",
          "data": {
            "text/plain": [
              "[1, 2, 3, 4, 5, 6, 7]"
            ]
          },
          "metadata": {},
          "execution_count": 6
        }
      ]
    },
    {
      "cell_type": "code",
      "source": [
        "students=[\n",
        "   {\"name\":\"A\",\"marks\":45} ,\n",
        "   {\"name\":\"C\",\"marks\":35} ,\n",
        "   {\"name\":\"D\",\"marks\":58} ,\n",
        "   {\"name\":\"B\",\"marks\":50} ,\n",
        "   {\"name\":\"M\",\"marks\":45} ,\n",
        "    {\"name\":\"N\",\"marks\":74}\n",
        "]\n",
        "\n",
        "\n",
        "lambda x: x[\"marks\"]\n"
      ],
      "metadata": {
        "id": "XqSdIqMrE1HN"
      },
      "execution_count": 8,
      "outputs": []
    },
    {
      "cell_type": "code",
      "source": [
        "sorted(students)"
      ],
      "metadata": {
        "colab": {
          "base_uri": "https://localhost:8080/",
          "height": 141
        },
        "id": "Buqr8y-wFSEo",
        "outputId": "da73ef89-6b94-443a-fc55-c291e3d09248"
      },
      "execution_count": 9,
      "outputs": [
        {
          "output_type": "error",
          "ename": "TypeError",
          "evalue": "'<' not supported between instances of 'dict' and 'dict'",
          "traceback": [
            "\u001b[0;31m---------------------------------------------------------------------------\u001b[0m",
            "\u001b[0;31mTypeError\u001b[0m                                 Traceback (most recent call last)",
            "\u001b[0;32m<ipython-input-9-7d3dd5d8afa9>\u001b[0m in \u001b[0;36m<cell line: 1>\u001b[0;34m()\u001b[0m\n\u001b[0;32m----> 1\u001b[0;31m \u001b[0msorted\u001b[0m\u001b[0;34m(\u001b[0m\u001b[0mstudents\u001b[0m\u001b[0;34m)\u001b[0m\u001b[0;34m\u001b[0m\u001b[0;34m\u001b[0m\u001b[0m\n\u001b[0m",
            "\u001b[0;31mTypeError\u001b[0m: '<' not supported between instances of 'dict' and 'dict'"
          ]
        }
      ]
    },
    {
      "cell_type": "code",
      "source": [
        "sorted(students ,key=lambda x: x[\"marks\"] ,reverse=True)"
      ],
      "metadata": {
        "colab": {
          "base_uri": "https://localhost:8080/"
        },
        "id": "i_WvxGPtFW0F",
        "outputId": "e078035b-f6fa-4d09-dae5-d8e6da0e34ef"
      },
      "execution_count": 11,
      "outputs": [
        {
          "output_type": "execute_result",
          "data": {
            "text/plain": [
              "[{'name': 'N', 'marks': 74},\n",
              " {'name': 'D', 'marks': 58},\n",
              " {'name': 'B', 'marks': 50},\n",
              " {'name': 'A', 'marks': 45},\n",
              " {'name': 'M', 'marks': 45},\n",
              " {'name': 'C', 'marks': 35}]"
            ]
          },
          "metadata": {},
          "execution_count": 11
        }
      ]
    },
    {
      "cell_type": "code",
      "source": [
        "sorted(students ,key=x[\"marks\"] )"
      ],
      "metadata": {
        "id": "ZXKOJpY1Ft-Q"
      },
      "execution_count": null,
      "outputs": []
    },
    {
      "cell_type": "code",
      "source": [
        "sorted(students ,key=students[\"marks\"] )"
      ],
      "metadata": {
        "id": "Ya4zuoBJGZ9A"
      },
      "execution_count": null,
      "outputs": []
    },
    {
      "cell_type": "code",
      "source": [
        "\n",
        "if cond1:\n",
        "  if cond2:\n",
        "    case1\n",
        "  else:\n",
        "    case2\n",
        "else:\n",
        "  case3\n",
        "\n",
        "\n",
        "\n",
        "   (case1 if cond2 else case2) if cond1 else case3\n"
      ],
      "metadata": {
        "id": "VC_UYZ2SGnD7"
      },
      "execution_count": null,
      "outputs": []
    },
    {
      "cell_type": "code",
      "source": [],
      "metadata": {
        "id": "b2Uu7rF_HU25"
      },
      "execution_count": null,
      "outputs": []
    },
    {
      "cell_type": "code",
      "source": [
        "for i in numbers:\n",
        "  i*i"
      ],
      "metadata": {
        "id": "CTnBTk7xHU5_"
      },
      "execution_count": null,
      "outputs": []
    },
    {
      "cell_type": "code",
      "source": [
        "[(lambda x:x*x)(i) for i in numbers]"
      ],
      "metadata": {
        "id": "yj5XANBrHU_u"
      },
      "execution_count": null,
      "outputs": []
    },
    {
      "cell_type": "code",
      "source": [
        "lambda x: list(map(print,x))"
      ],
      "metadata": {
        "id": "lYIBcQjOJhF1"
      },
      "execution_count": null,
      "outputs": []
    },
    {
      "cell_type": "code",
      "source": [],
      "metadata": {
        "id": "Jku45YkuKCQ2"
      },
      "execution_count": null,
      "outputs": []
    },
    {
      "cell_type": "code",
      "source": [
        "def random():\n",
        "  print(\"1\")\n",
        "  def random2():\n",
        "    print(\"2\")\n",
        "    return 2\n",
        "  a=random2()\n",
        "  return a+2\n",
        "\n",
        "random2()\n",
        "## cant be called"
      ],
      "metadata": {
        "colab": {
          "base_uri": "https://localhost:8080/"
        },
        "id": "stB2_sSdKCTu",
        "outputId": "da5dd66e-f604-44ad-a171-769e359bd758"
      },
      "execution_count": 13,
      "outputs": [
        {
          "output_type": "stream",
          "name": "stdout",
          "text": [
            "1\n",
            "2\n"
          ]
        },
        {
          "output_type": "execute_result",
          "data": {
            "text/plain": [
              "4"
            ]
          },
          "metadata": {},
          "execution_count": 13
        }
      ]
    },
    {
      "cell_type": "code",
      "source": [
        "def random():\n",
        "  print(\"1\")\n",
        "  def random2():\n",
        "    print(\"2\")\n",
        "    return 2\n",
        "  return random2()\n",
        "\n"
      ],
      "metadata": {
        "id": "s6Hn2rpxKCWU"
      },
      "execution_count": null,
      "outputs": []
    },
    {
      "cell_type": "code",
      "source": [
        "def random():\n",
        "  print(\"1\")\n",
        "  def random2():\n",
        "    print(\"2\")\n",
        "    return 2\n",
        "  return random2\n",
        "new_func=random()"
      ],
      "metadata": {
        "colab": {
          "base_uri": "https://localhost:8080/"
        },
        "id": "iHhvKlqjKCY6",
        "outputId": "3e069552-44b5-4808-a76a-81e32ffef1ad"
      },
      "execution_count": 14,
      "outputs": [
        {
          "output_type": "stream",
          "name": "stdout",
          "text": [
            "1\n"
          ]
        }
      ]
    },
    {
      "cell_type": "code",
      "source": [
        "\n",
        "type(new_func)"
      ],
      "metadata": {
        "colab": {
          "base_uri": "https://localhost:8080/"
        },
        "id": "lpdD5FVeLMEo",
        "outputId": "753cbd9a-2f66-4f08-949b-e1f4ef8903ee"
      },
      "execution_count": 15,
      "outputs": [
        {
          "output_type": "execute_result",
          "data": {
            "text/plain": [
              "function"
            ]
          },
          "metadata": {},
          "execution_count": 15
        }
      ]
    },
    {
      "cell_type": "code",
      "source": [
        "new_func"
      ],
      "metadata": {
        "colab": {
          "base_uri": "https://localhost:8080/",
          "height": 103
        },
        "id": "qK7xJu5LLNXE",
        "outputId": "e61152d4-ddc5-4da5-e8e2-4d73555c6e9c"
      },
      "execution_count": 16,
      "outputs": [
        {
          "output_type": "execute_result",
          "data": {
            "text/plain": [
              "<function __main__.random.<locals>.random2()>"
            ],
            "text/html": [
              "<div style=\"max-width:800px; border: 1px solid var(--colab-border-color);\"><style>\n",
              "      pre.function-repr-contents {\n",
              "        overflow-x: auto;\n",
              "        padding: 8px 12px;\n",
              "        max-height: 500px;\n",
              "      }\n",
              "\n",
              "      pre.function-repr-contents.function-repr-contents-collapsed {\n",
              "        cursor: pointer;\n",
              "        max-height: 100px;\n",
              "      }\n",
              "    </style>\n",
              "    <pre style=\"white-space: initial; background:\n",
              "         var(--colab-secondary-surface-color); padding: 8px 12px;\n",
              "         border-bottom: 1px solid var(--colab-border-color);\"><b>random.&lt;locals&gt;.random2</b><br/>def random2()</pre><pre class=\"function-repr-contents function-repr-contents-collapsed\" style=\"\"><a class=\"filepath\" style=\"display:none\" href=\"#\">/content/&lt;ipython-input-14-bbbd65f52f03&gt;</a>&lt;no docstring&gt;</pre></div>"
            ]
          },
          "metadata": {},
          "execution_count": 16
        }
      ]
    },
    {
      "cell_type": "code",
      "source": [
        "new_func()"
      ],
      "metadata": {
        "colab": {
          "base_uri": "https://localhost:8080/"
        },
        "id": "iWH_JktmLQXA",
        "outputId": "b6e7120f-a260-46ef-9917-a24b397a0bfd"
      },
      "execution_count": 17,
      "outputs": [
        {
          "output_type": "stream",
          "name": "stdout",
          "text": [
            "2\n"
          ]
        },
        {
          "output_type": "execute_result",
          "data": {
            "text/plain": [
              "2"
            ]
          },
          "metadata": {},
          "execution_count": 17
        }
      ]
    },
    {
      "cell_type": "code",
      "source": [
        "def random():\n",
        "  print(\"1\")\n",
        "  def random2():\n",
        "    print(\"2\")\n",
        "    return 2\n",
        "  return random2\n",
        "new_func=random()\n",
        "\n",
        "\n",
        "## random is an higher order function\n",
        "## fancy name- > function which returns another function\n"
      ],
      "metadata": {
        "id": "07jBycmTLbxq"
      },
      "execution_count": null,
      "outputs": []
    },
    {
      "cell_type": "code",
      "source": [
        "new_func()"
      ],
      "metadata": {
        "colab": {
          "base_uri": "https://localhost:8080/"
        },
        "id": "vqm4s3zUL0j0",
        "outputId": "22221e51-aff1-4833-e767-887cd6f65c55"
      },
      "execution_count": 18,
      "outputs": [
        {
          "output_type": "stream",
          "name": "stdout",
          "text": [
            "2\n"
          ]
        },
        {
          "output_type": "execute_result",
          "data": {
            "text/plain": [
              "2"
            ]
          },
          "metadata": {},
          "execution_count": 18
        }
      ]
    },
    {
      "cell_type": "code",
      "source": [
        "random2()"
      ],
      "metadata": {
        "colab": {
          "base_uri": "https://localhost:8080/",
          "height": 141
        },
        "id": "63nFXVlGL0oQ",
        "outputId": "ec6fa35c-e9ce-405c-ebf7-a9e8cfd6df68"
      },
      "execution_count": 20,
      "outputs": [
        {
          "output_type": "error",
          "ename": "AttributeError",
          "evalue": "'function' object has no attribute 'random2'",
          "traceback": [
            "\u001b[0;31m---------------------------------------------------------------------------\u001b[0m",
            "\u001b[0;31mAttributeError\u001b[0m                            Traceback (most recent call last)",
            "\u001b[0;32m<ipython-input-20-6bb29a7248aa>\u001b[0m in \u001b[0;36m<cell line: 1>\u001b[0;34m()\u001b[0m\n\u001b[0;32m----> 1\u001b[0;31m \u001b[0mrandom\u001b[0m\u001b[0;34m.\u001b[0m\u001b[0mrandom2\u001b[0m\u001b[0;34m(\u001b[0m\u001b[0;34m)\u001b[0m\u001b[0;34m\u001b[0m\u001b[0;34m\u001b[0m\u001b[0m\n\u001b[0m",
            "\u001b[0;31mAttributeError\u001b[0m: 'function' object has no attribute 'random2'"
          ]
        }
      ]
    },
    {
      "cell_type": "code",
      "source": [
        "def hof():\n",
        "  return lambda x:x*x\n",
        "\n",
        "a=hof()\n",
        "a"
      ],
      "metadata": {
        "colab": {
          "base_uri": "https://localhost:8080/"
        },
        "id": "eTKbWSQzL0rG",
        "outputId": "8f1820f5-dd1d-468c-cfd8-04942526a314"
      },
      "execution_count": 21,
      "outputs": [
        {
          "output_type": "execute_result",
          "data": {
            "text/plain": [
              "<function __main__.hof.<locals>.<lambda>(x)>"
            ]
          },
          "metadata": {},
          "execution_count": 21
        }
      ]
    },
    {
      "cell_type": "code",
      "source": [
        "a(2)"
      ],
      "metadata": {
        "colab": {
          "base_uri": "https://localhost:8080/"
        },
        "id": "ZPqKlP4yMNSM",
        "outputId": "d8dbfc9b-9c91-425e-bb2d-8c95abac0ed2"
      },
      "execution_count": 22,
      "outputs": [
        {
          "output_type": "execute_result",
          "data": {
            "text/plain": [
              "4"
            ]
          },
          "metadata": {},
          "execution_count": 22
        }
      ]
    },
    {
      "cell_type": "code",
      "source": [
        "#### create a general higher order function that return the nth exponential function\n",
        "\n",
        "def gen_exp(n):\n",
        "  def exp(x):\n",
        "    return x**n\n",
        "  return exp\n",
        "\n",
        "exp_5=gen_exp(5)\n",
        "exp_5\n",
        "\n",
        "exp_5(2)"
      ],
      "metadata": {
        "colab": {
          "base_uri": "https://localhost:8080/"
        },
        "id": "Odic41ZZMUcc",
        "outputId": "7360ca47-bc75-4848-82e8-f7908a96d26e"
      },
      "execution_count": 23,
      "outputs": [
        {
          "output_type": "execute_result",
          "data": {
            "text/plain": [
              "32"
            ]
          },
          "metadata": {},
          "execution_count": 23
        }
      ]
    },
    {
      "cell_type": "code",
      "source": [
        "## why not this\n",
        "def exp1(x,n):\n",
        "  return x**n\n",
        "exp1(2,5)\n"
      ],
      "metadata": {
        "colab": {
          "base_uri": "https://localhost:8080/"
        },
        "id": "jrJp0BVbM3Oo",
        "outputId": "b08b3117-190a-4c41-8bd5-fa1d31eafa07"
      },
      "execution_count": 24,
      "outputs": [
        {
          "output_type": "execute_result",
          "data": {
            "text/plain": [
              "32"
            ]
          },
          "metadata": {},
          "execution_count": 24
        }
      ]
    },
    {
      "cell_type": "code",
      "source": [],
      "metadata": {
        "id": "Cr_c080hPLNS"
      },
      "execution_count": null,
      "outputs": []
    },
    {
      "cell_type": "code",
      "source": [
        "def foo():\n",
        "  print(\"Hello Everyone ! HOw you doing\")"
      ],
      "metadata": {
        "id": "wF7eluShPLP5"
      },
      "execution_count": 25,
      "outputs": []
    },
    {
      "cell_type": "code",
      "source": [
        "def bar():\n",
        "  print(\"Random activity\")"
      ],
      "metadata": {
        "id": "No3-nuuIPLSf"
      },
      "execution_count": 26,
      "outputs": []
    },
    {
      "cell_type": "code",
      "source": [
        "foo()"
      ],
      "metadata": {
        "colab": {
          "base_uri": "https://localhost:8080/"
        },
        "id": "rNCsZjPTPLVY",
        "outputId": "67ddc665-b95a-41b0-928b-e0f050388eb6"
      },
      "execution_count": 27,
      "outputs": [
        {
          "output_type": "stream",
          "name": "stdout",
          "text": [
            "Hello Everyone ! HOw you doing\n"
          ]
        }
      ]
    },
    {
      "cell_type": "code",
      "source": [
        "def foo():\n",
        "  print(\"-\"*50)\n",
        "  print(\"Hello Everyone ! HOw you doing\")\n",
        "  print(\"-\"*50)\n",
        "\n",
        "foo()"
      ],
      "metadata": {
        "colab": {
          "base_uri": "https://localhost:8080/"
        },
        "id": "cHkTj3axPUOW",
        "outputId": "ec5f59eb-3f7d-422b-8ccd-0fc6b4d11b85"
      },
      "execution_count": 29,
      "outputs": [
        {
          "output_type": "stream",
          "name": "stdout",
          "text": [
            "--------------------------------------------------\n",
            "Hello Everyone ! HOw you doing\n",
            "--------------------------------------------------\n"
          ]
        }
      ]
    },
    {
      "cell_type": "code",
      "source": [
        "def bar():\n",
        "  print(\"-\"*50)\n",
        "  print(\"Random activity\")\n",
        "  print(\"-\"*50)\n",
        "bar()"
      ],
      "metadata": {
        "colab": {
          "base_uri": "https://localhost:8080/"
        },
        "id": "Rw5HusYxPf1H",
        "outputId": "22a0b64b-2c1b-438f-e559-049fcb83a43a"
      },
      "execution_count": 31,
      "outputs": [
        {
          "output_type": "stream",
          "name": "stdout",
          "text": [
            "--------------------------------------------------\n",
            "Random activity\n",
            "--------------------------------------------------\n"
          ]
        }
      ]
    },
    {
      "cell_type": "code",
      "source": [
        "def pretty(func):\n",
        "  def inner():\n",
        "    print(\"-\"*50)\n",
        "    func()\n",
        "    print(\"-\"*50)\n",
        "  return inner\n",
        "\n",
        "def foo():\n",
        "  print(\"Hello Everyone ! HOw you doing\")\n",
        "\n",
        "def bar():\n",
        "  print(\"Random activity\")\n",
        "\n"
      ],
      "metadata": {
        "id": "V2uOQReiPkzX"
      },
      "execution_count": 32,
      "outputs": []
    },
    {
      "cell_type": "code",
      "source": [
        "foo()"
      ],
      "metadata": {
        "colab": {
          "base_uri": "https://localhost:8080/"
        },
        "id": "ERYybtjjQJxK",
        "outputId": "1be0d2b5-bf91-4286-a13d-02d393293c0c"
      },
      "execution_count": 33,
      "outputs": [
        {
          "output_type": "stream",
          "name": "stdout",
          "text": [
            "Hello Everyone ! HOw you doing\n"
          ]
        }
      ]
    },
    {
      "cell_type": "code",
      "source": [
        "new_foo=pretty(foo)\n",
        "new_foo()"
      ],
      "metadata": {
        "colab": {
          "base_uri": "https://localhost:8080/"
        },
        "id": "lJtHc9XIQK3w",
        "outputId": "399ec538-b0f2-471a-9f7f-783c3e8b7b2d"
      },
      "execution_count": 34,
      "outputs": [
        {
          "output_type": "stream",
          "name": "stdout",
          "text": [
            "--------------------------------------------------\n",
            "Hello Everyone ! HOw you doing\n",
            "--------------------------------------------------\n"
          ]
        }
      ]
    },
    {
      "cell_type": "code",
      "source": [
        "new_bar=pretty(bar)\n",
        "new_bar()"
      ],
      "metadata": {
        "colab": {
          "base_uri": "https://localhost:8080/"
        },
        "id": "f91dHZlhQaM_",
        "outputId": "2278512b-a4d4-4813-f65a-1e6a6de6f21c"
      },
      "execution_count": 35,
      "outputs": [
        {
          "output_type": "stream",
          "name": "stdout",
          "text": [
            "--------------------------------------------------\n",
            "Random activity\n",
            "--------------------------------------------------\n"
          ]
        }
      ]
    },
    {
      "cell_type": "code",
      "source": [
        "def pretty(func):\n",
        "  def inner(x):\n",
        "    print(\"-\"*50)\n",
        "    func(x)\n",
        "    print(\"-\"*50)\n",
        "  return inner\n",
        "\n",
        "\n",
        "@pretty\n",
        "def bar_exec(x):\n",
        "  print(\"Random activity\")\n",
        "  x=x+5\n",
        "  return x*5\n",
        "\n"
      ],
      "metadata": {
        "id": "wwA4ye3QQdRs"
      },
      "execution_count": 44,
      "outputs": []
    },
    {
      "cell_type": "code",
      "source": [
        "bar_exec(5)"
      ],
      "metadata": {
        "colab": {
          "base_uri": "https://localhost:8080/"
        },
        "id": "QFjVbHTCRJsl",
        "outputId": "d0f046b5-ede0-454d-f495-a592dda6532a"
      },
      "execution_count": 45,
      "outputs": [
        {
          "output_type": "stream",
          "name": "stdout",
          "text": [
            "--------------------------------------------------\n",
            "Random activity\n",
            "--------------------------------------------------\n"
          ]
        }
      ]
    },
    {
      "cell_type": "code",
      "source": [
        "def pretty(func):\n",
        "  def inner():\n",
        "    print(\"-\"*50)\n",
        "    func()\n",
        "    print(\"-\"*50)\n",
        "  return inner\n",
        "\n",
        "@pretty\n",
        "def foo():\n",
        "  print(\"Hello Everyone ! HOw you doing\")\n",
        "\n",
        "@pretty\n",
        "def bar():\n",
        "  print(\"Random activity\")"
      ],
      "metadata": {
        "id": "O2lzjE1jRKo7"
      },
      "execution_count": null,
      "outputs": []
    },
    {
      "cell_type": "code",
      "source": [],
      "metadata": {
        "id": "xtvcq3HiRuMz"
      },
      "execution_count": null,
      "outputs": []
    },
    {
      "cell_type": "code",
      "source": [],
      "metadata": {
        "id": "nNFPskcwRuPZ"
      },
      "execution_count": null,
      "outputs": []
    },
    {
      "cell_type": "code",
      "source": [
        "def pretty(a)):\n",
        "  def inner(x):\n",
        "    print(\"-\"*50)\n",
        "    a\n",
        "    print(\"-\"*50)\n",
        "  return inner\n",
        "\n",
        "def bar(x):\n",
        "  print(\"Random activity\",x)\n",
        "\n",
        "new_bar=pretty(bar)\n",
        "bar(10)"
      ],
      "metadata": {
        "colab": {
          "base_uri": "https://localhost:8080/"
        },
        "id": "2F2Az3DpRuRv",
        "outputId": "859807ac-977f-48a7-fb03-ec20ba7bdbf2"
      },
      "execution_count": 50,
      "outputs": [
        {
          "output_type": "stream",
          "name": "stdout",
          "text": [
            "--------------------------------------------------\n",
            "Random activity 1234467656\n",
            "--------------------------------------------------\n",
            "Random activity 10\n"
          ]
        }
      ]
    },
    {
      "cell_type": "code",
      "source": [
        "def pretty(func):\n",
        "  def inner(a,b,c):\n",
        "    print(\"-\"*50)\n",
        "    func(a,b,c)\n",
        "    print(\"-\"*50)\n",
        "  return inner\n",
        "\n",
        "\n",
        "@pretty\n",
        "def bar(x,y,z):\n",
        "  print(\"Random activity\",x,y,z)\n",
        "\n",
        "bar(5,10,15)"
      ],
      "metadata": {
        "colab": {
          "base_uri": "https://localhost:8080/"
        },
        "id": "zUtfLHHGSVp8",
        "outputId": "c91200ab-d075-4f95-969e-0742d0657f63"
      },
      "execution_count": 54,
      "outputs": [
        {
          "output_type": "stream",
          "name": "stdout",
          "text": [
            "--------------------------------------------------\n",
            "Random activity 5 10 15\n",
            "--------------------------------------------------\n"
          ]
        }
      ]
    },
    {
      "cell_type": "markdown",
      "source": [],
      "metadata": {
        "id": "ZpLh2bmsSUaT"
      }
    },
    {
      "cell_type": "code",
      "source": [],
      "metadata": {
        "id": "LwdXn26oRuUF"
      },
      "execution_count": null,
      "outputs": []
    },
    {
      "cell_type": "code",
      "source": [
        "class Student:\n",
        "  name=None\n",
        "  roll=None\n",
        "  Branch=None\n",
        "\n",
        "  def __init__(self,name,roll,batch):\n",
        "    self.name=name\n",
        "    self.roll=roll\n",
        "    self.batch=batch\n",
        "\n",
        "\n",
        "s1=Student(\"Bharti\",1234,\"Morning\")\n"
      ],
      "metadata": {
        "id": "1H1mK183RuWc"
      },
      "execution_count": 55,
      "outputs": []
    },
    {
      "cell_type": "code",
      "source": [
        "s1.name"
      ],
      "metadata": {
        "colab": {
          "base_uri": "https://localhost:8080/",
          "height": 35
        },
        "id": "abV0gGLfV1Ar",
        "outputId": "7caa9e13-12bc-4e37-b372-ec183b78f70e"
      },
      "execution_count": 56,
      "outputs": [
        {
          "output_type": "execute_result",
          "data": {
            "text/plain": [
              "'Bharti'"
            ],
            "application/vnd.google.colaboratory.intrinsic+json": {
              "type": "string"
            }
          },
          "metadata": {},
          "execution_count": 56
        }
      ]
    },
    {
      "cell_type": "code",
      "source": [
        "class Student:\n",
        "  _name=None\n",
        "  _roll=None\n",
        "  _batch=None\n",
        "\n",
        "  def __init__(self,name,roll,batch):\n",
        "    self._name=name\n",
        "    self._roll=roll\n",
        "    self._batch=batch\n",
        "\n",
        "\n",
        "s1=Student(\"Bharti\",1234,\"Morning\")\n"
      ],
      "metadata": {
        "id": "Eh9YZZr3V3L1"
      },
      "execution_count": 57,
      "outputs": []
    },
    {
      "cell_type": "code",
      "source": [
        "s1._name"
      ],
      "metadata": {
        "colab": {
          "base_uri": "https://localhost:8080/",
          "height": 35
        },
        "id": "oNBubRTkWAPS",
        "outputId": "22e0c65c-e924-4cc6-89cc-0e05f957207a"
      },
      "execution_count": 58,
      "outputs": [
        {
          "output_type": "execute_result",
          "data": {
            "text/plain": [
              "'Bharti'"
            ],
            "application/vnd.google.colaboratory.intrinsic+json": {
              "type": "string"
            }
          },
          "metadata": {},
          "execution_count": 58
        }
      ]
    },
    {
      "cell_type": "code",
      "source": [
        "s1._name=\"ABC\""
      ],
      "metadata": {
        "id": "BzZGMnBKWD2c"
      },
      "execution_count": 59,
      "outputs": []
    },
    {
      "cell_type": "code",
      "source": [
        "s1._name"
      ],
      "metadata": {
        "colab": {
          "base_uri": "https://localhost:8080/",
          "height": 35
        },
        "id": "J969S3RfWHHc",
        "outputId": "051ff11d-5fd8-4116-bdd7-a8f966c5effb"
      },
      "execution_count": 60,
      "outputs": [
        {
          "output_type": "execute_result",
          "data": {
            "text/plain": [
              "'ABC'"
            ],
            "application/vnd.google.colaboratory.intrinsic+json": {
              "type": "string"
            }
          },
          "metadata": {},
          "execution_count": 60
        }
      ]
    },
    {
      "cell_type": "code",
      "source": [
        "class Student:\n",
        "  __name=None\n",
        "  __roll=None\n",
        "  __batch=None\n",
        "\n",
        "  def __init__(self,name,roll,batch):\n",
        "    self.__name=name\n",
        "    self.__roll=roll\n",
        "    self.__batch=batch\n",
        "\n",
        "\n",
        "s1=Student(\"Bharti\",1234,\"Morning\")"
      ],
      "metadata": {
        "id": "DwOimTsBWIcV"
      },
      "execution_count": 61,
      "outputs": []
    },
    {
      "cell_type": "code",
      "source": [
        "s1.__name"
      ],
      "metadata": {
        "colab": {
          "base_uri": "https://localhost:8080/",
          "height": 141
        },
        "id": "Zw4CsG_PWRA7",
        "outputId": "24de4956-838a-4aeb-b1a6-7759da905742"
      },
      "execution_count": 63,
      "outputs": [
        {
          "output_type": "error",
          "ename": "AttributeError",
          "evalue": "'Student' object has no attribute '__name'",
          "traceback": [
            "\u001b[0;31m---------------------------------------------------------------------------\u001b[0m",
            "\u001b[0;31mAttributeError\u001b[0m                            Traceback (most recent call last)",
            "\u001b[0;32m<ipython-input-63-04dad977536f>\u001b[0m in \u001b[0;36m<cell line: 1>\u001b[0;34m()\u001b[0m\n\u001b[0;32m----> 1\u001b[0;31m \u001b[0ms1\u001b[0m\u001b[0;34m.\u001b[0m\u001b[0m__name\u001b[0m\u001b[0;34m\u001b[0m\u001b[0;34m\u001b[0m\u001b[0m\n\u001b[0m",
            "\u001b[0;31mAttributeError\u001b[0m: 'Student' object has no attribute '__name'"
          ]
        }
      ]
    },
    {
      "cell_type": "code",
      "source": [
        "class Student:\n",
        "  _name=None\n",
        "  _roll=None\n",
        "  _batch=None\n",
        "\n",
        "  def __init__(self,name,roll,batch):\n",
        "    self._name=name\n",
        "    self._roll=roll\n",
        "    self._batch=batch\n",
        "\n",
        "  def _display(self):\n",
        "    print(\"Roll\",self._roll)\n",
        "\n",
        "class random(Student):\n",
        "  def __init__(self,name,roll,batch):\n",
        "    Student.__init__(self,name,roll,batch)\n",
        "\n",
        "  def display(self):\n",
        "    print(\"Name\",self._name)\n",
        "    self._display()\n",
        "\n",
        "s1=random(\"Bharti\",1234,\"Morning\")\n",
        "\n",
        "s1._name"
      ],
      "metadata": {
        "colab": {
          "base_uri": "https://localhost:8080/",
          "height": 35
        },
        "id": "iCW0ifpYWSDX",
        "outputId": "843b9849-f93c-4bef-9dc6-e9679037f5d5"
      },
      "execution_count": 70,
      "outputs": [
        {
          "output_type": "execute_result",
          "data": {
            "text/plain": [
              "'Bharti'"
            ],
            "application/vnd.google.colaboratory.intrinsic+json": {
              "type": "string"
            }
          },
          "metadata": {},
          "execution_count": 70
        }
      ]
    },
    {
      "cell_type": "code",
      "source": [
        "s1.display()"
      ],
      "metadata": {
        "colab": {
          "base_uri": "https://localhost:8080/"
        },
        "id": "YOkKkXzVW5MD",
        "outputId": "f8bd050f-03db-43e3-a194-b7edf89afbaa"
      },
      "execution_count": 72,
      "outputs": [
        {
          "output_type": "stream",
          "name": "stdout",
          "text": [
            "Name Bharti\n",
            "Roll 1234\n"
          ]
        }
      ]
    },
    {
      "cell_type": "code",
      "source": [
        "s1._display()"
      ],
      "metadata": {
        "colab": {
          "base_uri": "https://localhost:8080/"
        },
        "id": "bGxJFPSHW64y",
        "outputId": "2f0fab3a-fc99-4adc-b4cb-d857542682ea"
      },
      "execution_count": 74,
      "outputs": [
        {
          "output_type": "stream",
          "name": "stdout",
          "text": [
            "Roll 1234\n"
          ]
        }
      ]
    },
    {
      "cell_type": "code",
      "source": [
        "arr=[(1,2),(2,3),(2,3),(1,2),(5,6)]\n",
        "\n",
        "\n",
        "[item for item in set(tuple(i) for i in arr)]"
      ],
      "metadata": {
        "colab": {
          "base_uri": "https://localhost:8080/"
        },
        "id": "RXz4tof2XIc0",
        "outputId": "7cfadc31-d5c3-4039-e6be-92f15149ba96"
      },
      "execution_count": 76,
      "outputs": [
        {
          "output_type": "execute_result",
          "data": {
            "text/plain": [
              "[(2, 3), (1, 2), (5, 6)]"
            ]
          },
          "metadata": {},
          "execution_count": 76
        }
      ]
    },
    {
      "cell_type": "code",
      "source": [
        "[ (a,b) for i, [a,b] in enumerate(arr) if not any ((d==b and a==c) for c, d in arr[ : i])]"
      ],
      "metadata": {
        "id": "yEi610EAZRrP"
      },
      "execution_count": null,
      "outputs": []
    },
    {
      "cell_type": "code",
      "source": [
        "\n",
        "result=[]\n",
        "\n",
        "for i, [a,b] in enumerate(arr):\n",
        "  if  not any ((d==b and a==c) for c, d in arr[ : i]):\n",
        "    result.append((a,b))\n",
        "\n",
        "\n",
        "\n",
        "for i, [a,b] in enumerate(arr):\n",
        "  truth_val=[]\n",
        "  for c, d in arr[ : i]:\n",
        "      truth_val.append((d==b and a==c))\n",
        "\n",
        "  if not any(truth_val):\n",
        "    result.append((a,b))\n",
        "\n",
        "\n"
      ],
      "metadata": {
        "id": "JOHN0LtYZRt5"
      },
      "execution_count": 76,
      "outputs": []
    },
    {
      "cell_type": "code",
      "source": [
        "[ (a,b) for i, [a,b] in enumerate(arr) if cond]"
      ],
      "metadata": {
        "id": "-OnBKtw3ZRwc"
      },
      "execution_count": null,
      "outputs": []
    }
  ]
}